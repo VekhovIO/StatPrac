{
  "cells": [
    {
      "cell_type": "markdown",
      "metadata": {
        "id": "view-in-github",
        "colab_type": "text"
      },
      "source": [
        "<a href=\"https://colab.research.google.com/github/VekhovIO/StatPrac/blob/main/project4.ipynb\" target=\"_parent\"><img src=\"https://colab.research.google.com/assets/colab-badge.svg\" alt=\"Open In Colab\"/></a>"
      ]
    },
    {
      "cell_type": "code",
      "execution_count": 1,
      "metadata": {
        "colab": {
          "base_uri": "https://localhost:8080/"
        },
        "id": "wVWtQplhxG_T",
        "outputId": "1e5f2c84-b08a-42e0-9710-802fa056480b"
      },
      "outputs": [
        {
          "output_type": "stream",
          "name": "stdout",
          "text": [
            "Mounted at /content/drive\n"
          ]
        }
      ],
      "source": [
        "from google.colab import drive\n",
        "drive.mount('/content/drive')"
      ]
    },
    {
      "cell_type": "code",
      "execution_count": 2,
      "metadata": {
        "colab": {
          "base_uri": "https://localhost:8080/",
          "height": 226
        },
        "id": "jl20ZRFVyuA_",
        "outputId": "59f8fd16-6460-4878-dc10-c271b3ced081"
      },
      "outputs": [
        {
          "output_type": "execute_result",
          "data": {
            "text/plain": [
              "   Pregnancies  Glucose  BloodPressure  SkinThickness  Insulin   BMI  \\\n",
              "0            6      148             72             35        0  33.6   \n",
              "1            1       85             66             29        0  26.6   \n",
              "2            8      183             64              0        0  23.3   \n",
              "3            1       89             66             23       94  28.1   \n",
              "4            0      137             40             35      168  43.1   \n",
              "\n",
              "   DiabetesPedigreeFunction  Age  Outcome  \n",
              "0                     0.627   50        1  \n",
              "1                     0.351   31        0  \n",
              "2                     0.672   32        1  \n",
              "3                     0.167   21        0  \n",
              "4                     2.288   33        1  "
            ],
            "text/html": [
              "\n",
              "  <div id=\"df-c556d581-1feb-40e3-88d0-fc8250284f44\" class=\"colab-df-container\">\n",
              "    <div>\n",
              "<style scoped>\n",
              "    .dataframe tbody tr th:only-of-type {\n",
              "        vertical-align: middle;\n",
              "    }\n",
              "\n",
              "    .dataframe tbody tr th {\n",
              "        vertical-align: top;\n",
              "    }\n",
              "\n",
              "    .dataframe thead th {\n",
              "        text-align: right;\n",
              "    }\n",
              "</style>\n",
              "<table border=\"1\" class=\"dataframe\">\n",
              "  <thead>\n",
              "    <tr style=\"text-align: right;\">\n",
              "      <th></th>\n",
              "      <th>Pregnancies</th>\n",
              "      <th>Glucose</th>\n",
              "      <th>BloodPressure</th>\n",
              "      <th>SkinThickness</th>\n",
              "      <th>Insulin</th>\n",
              "      <th>BMI</th>\n",
              "      <th>DiabetesPedigreeFunction</th>\n",
              "      <th>Age</th>\n",
              "      <th>Outcome</th>\n",
              "    </tr>\n",
              "  </thead>\n",
              "  <tbody>\n",
              "    <tr>\n",
              "      <th>0</th>\n",
              "      <td>6</td>\n",
              "      <td>148</td>\n",
              "      <td>72</td>\n",
              "      <td>35</td>\n",
              "      <td>0</td>\n",
              "      <td>33.6</td>\n",
              "      <td>0.627</td>\n",
              "      <td>50</td>\n",
              "      <td>1</td>\n",
              "    </tr>\n",
              "    <tr>\n",
              "      <th>1</th>\n",
              "      <td>1</td>\n",
              "      <td>85</td>\n",
              "      <td>66</td>\n",
              "      <td>29</td>\n",
              "      <td>0</td>\n",
              "      <td>26.6</td>\n",
              "      <td>0.351</td>\n",
              "      <td>31</td>\n",
              "      <td>0</td>\n",
              "    </tr>\n",
              "    <tr>\n",
              "      <th>2</th>\n",
              "      <td>8</td>\n",
              "      <td>183</td>\n",
              "      <td>64</td>\n",
              "      <td>0</td>\n",
              "      <td>0</td>\n",
              "      <td>23.3</td>\n",
              "      <td>0.672</td>\n",
              "      <td>32</td>\n",
              "      <td>1</td>\n",
              "    </tr>\n",
              "    <tr>\n",
              "      <th>3</th>\n",
              "      <td>1</td>\n",
              "      <td>89</td>\n",
              "      <td>66</td>\n",
              "      <td>23</td>\n",
              "      <td>94</td>\n",
              "      <td>28.1</td>\n",
              "      <td>0.167</td>\n",
              "      <td>21</td>\n",
              "      <td>0</td>\n",
              "    </tr>\n",
              "    <tr>\n",
              "      <th>4</th>\n",
              "      <td>0</td>\n",
              "      <td>137</td>\n",
              "      <td>40</td>\n",
              "      <td>35</td>\n",
              "      <td>168</td>\n",
              "      <td>43.1</td>\n",
              "      <td>2.288</td>\n",
              "      <td>33</td>\n",
              "      <td>1</td>\n",
              "    </tr>\n",
              "  </tbody>\n",
              "</table>\n",
              "</div>\n",
              "    <div class=\"colab-df-buttons\">\n",
              "\n",
              "  <div class=\"colab-df-container\">\n",
              "    <button class=\"colab-df-convert\" onclick=\"convertToInteractive('df-c556d581-1feb-40e3-88d0-fc8250284f44')\"\n",
              "            title=\"Convert this dataframe to an interactive table.\"\n",
              "            style=\"display:none;\">\n",
              "\n",
              "  <svg xmlns=\"http://www.w3.org/2000/svg\" height=\"24px\" viewBox=\"0 -960 960 960\">\n",
              "    <path d=\"M120-120v-720h720v720H120Zm60-500h600v-160H180v160Zm220 220h160v-160H400v160Zm0 220h160v-160H400v160ZM180-400h160v-160H180v160Zm440 0h160v-160H620v160ZM180-180h160v-160H180v160Zm440 0h160v-160H620v160Z\"/>\n",
              "  </svg>\n",
              "    </button>\n",
              "\n",
              "  <style>\n",
              "    .colab-df-container {\n",
              "      display:flex;\n",
              "      gap: 12px;\n",
              "    }\n",
              "\n",
              "    .colab-df-convert {\n",
              "      background-color: #E8F0FE;\n",
              "      border: none;\n",
              "      border-radius: 50%;\n",
              "      cursor: pointer;\n",
              "      display: none;\n",
              "      fill: #1967D2;\n",
              "      height: 32px;\n",
              "      padding: 0 0 0 0;\n",
              "      width: 32px;\n",
              "    }\n",
              "\n",
              "    .colab-df-convert:hover {\n",
              "      background-color: #E2EBFA;\n",
              "      box-shadow: 0px 1px 2px rgba(60, 64, 67, 0.3), 0px 1px 3px 1px rgba(60, 64, 67, 0.15);\n",
              "      fill: #174EA6;\n",
              "    }\n",
              "\n",
              "    .colab-df-buttons div {\n",
              "      margin-bottom: 4px;\n",
              "    }\n",
              "\n",
              "    [theme=dark] .colab-df-convert {\n",
              "      background-color: #3B4455;\n",
              "      fill: #D2E3FC;\n",
              "    }\n",
              "\n",
              "    [theme=dark] .colab-df-convert:hover {\n",
              "      background-color: #434B5C;\n",
              "      box-shadow: 0px 1px 3px 1px rgba(0, 0, 0, 0.15);\n",
              "      filter: drop-shadow(0px 1px 2px rgba(0, 0, 0, 0.3));\n",
              "      fill: #FFFFFF;\n",
              "    }\n",
              "  </style>\n",
              "\n",
              "    <script>\n",
              "      const buttonEl =\n",
              "        document.querySelector('#df-c556d581-1feb-40e3-88d0-fc8250284f44 button.colab-df-convert');\n",
              "      buttonEl.style.display =\n",
              "        google.colab.kernel.accessAllowed ? 'block' : 'none';\n",
              "\n",
              "      async function convertToInteractive(key) {\n",
              "        const element = document.querySelector('#df-c556d581-1feb-40e3-88d0-fc8250284f44');\n",
              "        const dataTable =\n",
              "          await google.colab.kernel.invokeFunction('convertToInteractive',\n",
              "                                                    [key], {});\n",
              "        if (!dataTable) return;\n",
              "\n",
              "        const docLinkHtml = 'Like what you see? Visit the ' +\n",
              "          '<a target=\"_blank\" href=https://colab.research.google.com/notebooks/data_table.ipynb>data table notebook</a>'\n",
              "          + ' to learn more about interactive tables.';\n",
              "        element.innerHTML = '';\n",
              "        dataTable['output_type'] = 'display_data';\n",
              "        await google.colab.output.renderOutput(dataTable, element);\n",
              "        const docLink = document.createElement('div');\n",
              "        docLink.innerHTML = docLinkHtml;\n",
              "        element.appendChild(docLink);\n",
              "      }\n",
              "    </script>\n",
              "  </div>\n",
              "\n",
              "\n",
              "<div id=\"df-eee9c469-a13b-4483-81e9-0bbc9169d473\">\n",
              "  <button class=\"colab-df-quickchart\" onclick=\"quickchart('df-eee9c469-a13b-4483-81e9-0bbc9169d473')\"\n",
              "            title=\"Suggest charts\"\n",
              "            style=\"display:none;\">\n",
              "\n",
              "<svg xmlns=\"http://www.w3.org/2000/svg\" height=\"24px\"viewBox=\"0 0 24 24\"\n",
              "     width=\"24px\">\n",
              "    <g>\n",
              "        <path d=\"M19 3H5c-1.1 0-2 .9-2 2v14c0 1.1.9 2 2 2h14c1.1 0 2-.9 2-2V5c0-1.1-.9-2-2-2zM9 17H7v-7h2v7zm4 0h-2V7h2v10zm4 0h-2v-4h2v4z\"/>\n",
              "    </g>\n",
              "</svg>\n",
              "  </button>\n",
              "\n",
              "<style>\n",
              "  .colab-df-quickchart {\n",
              "      --bg-color: #E8F0FE;\n",
              "      --fill-color: #1967D2;\n",
              "      --hover-bg-color: #E2EBFA;\n",
              "      --hover-fill-color: #174EA6;\n",
              "      --disabled-fill-color: #AAA;\n",
              "      --disabled-bg-color: #DDD;\n",
              "  }\n",
              "\n",
              "  [theme=dark] .colab-df-quickchart {\n",
              "      --bg-color: #3B4455;\n",
              "      --fill-color: #D2E3FC;\n",
              "      --hover-bg-color: #434B5C;\n",
              "      --hover-fill-color: #FFFFFF;\n",
              "      --disabled-bg-color: #3B4455;\n",
              "      --disabled-fill-color: #666;\n",
              "  }\n",
              "\n",
              "  .colab-df-quickchart {\n",
              "    background-color: var(--bg-color);\n",
              "    border: none;\n",
              "    border-radius: 50%;\n",
              "    cursor: pointer;\n",
              "    display: none;\n",
              "    fill: var(--fill-color);\n",
              "    height: 32px;\n",
              "    padding: 0;\n",
              "    width: 32px;\n",
              "  }\n",
              "\n",
              "  .colab-df-quickchart:hover {\n",
              "    background-color: var(--hover-bg-color);\n",
              "    box-shadow: 0 1px 2px rgba(60, 64, 67, 0.3), 0 1px 3px 1px rgba(60, 64, 67, 0.15);\n",
              "    fill: var(--button-hover-fill-color);\n",
              "  }\n",
              "\n",
              "  .colab-df-quickchart-complete:disabled,\n",
              "  .colab-df-quickchart-complete:disabled:hover {\n",
              "    background-color: var(--disabled-bg-color);\n",
              "    fill: var(--disabled-fill-color);\n",
              "    box-shadow: none;\n",
              "  }\n",
              "\n",
              "  .colab-df-spinner {\n",
              "    border: 2px solid var(--fill-color);\n",
              "    border-color: transparent;\n",
              "    border-bottom-color: var(--fill-color);\n",
              "    animation:\n",
              "      spin 1s steps(1) infinite;\n",
              "  }\n",
              "\n",
              "  @keyframes spin {\n",
              "    0% {\n",
              "      border-color: transparent;\n",
              "      border-bottom-color: var(--fill-color);\n",
              "      border-left-color: var(--fill-color);\n",
              "    }\n",
              "    20% {\n",
              "      border-color: transparent;\n",
              "      border-left-color: var(--fill-color);\n",
              "      border-top-color: var(--fill-color);\n",
              "    }\n",
              "    30% {\n",
              "      border-color: transparent;\n",
              "      border-left-color: var(--fill-color);\n",
              "      border-top-color: var(--fill-color);\n",
              "      border-right-color: var(--fill-color);\n",
              "    }\n",
              "    40% {\n",
              "      border-color: transparent;\n",
              "      border-right-color: var(--fill-color);\n",
              "      border-top-color: var(--fill-color);\n",
              "    }\n",
              "    60% {\n",
              "      border-color: transparent;\n",
              "      border-right-color: var(--fill-color);\n",
              "    }\n",
              "    80% {\n",
              "      border-color: transparent;\n",
              "      border-right-color: var(--fill-color);\n",
              "      border-bottom-color: var(--fill-color);\n",
              "    }\n",
              "    90% {\n",
              "      border-color: transparent;\n",
              "      border-bottom-color: var(--fill-color);\n",
              "    }\n",
              "  }\n",
              "</style>\n",
              "\n",
              "  <script>\n",
              "    async function quickchart(key) {\n",
              "      const quickchartButtonEl =\n",
              "        document.querySelector('#' + key + ' button');\n",
              "      quickchartButtonEl.disabled = true;  // To prevent multiple clicks.\n",
              "      quickchartButtonEl.classList.add('colab-df-spinner');\n",
              "      try {\n",
              "        const charts = await google.colab.kernel.invokeFunction(\n",
              "            'suggestCharts', [key], {});\n",
              "      } catch (error) {\n",
              "        console.error('Error during call to suggestCharts:', error);\n",
              "      }\n",
              "      quickchartButtonEl.classList.remove('colab-df-spinner');\n",
              "      quickchartButtonEl.classList.add('colab-df-quickchart-complete');\n",
              "    }\n",
              "    (() => {\n",
              "      let quickchartButtonEl =\n",
              "        document.querySelector('#df-eee9c469-a13b-4483-81e9-0bbc9169d473 button');\n",
              "      quickchartButtonEl.style.display =\n",
              "        google.colab.kernel.accessAllowed ? 'block' : 'none';\n",
              "    })();\n",
              "  </script>\n",
              "</div>\n",
              "    </div>\n",
              "  </div>\n"
            ],
            "application/vnd.google.colaboratory.intrinsic+json": {
              "type": "dataframe",
              "variable_name": "df",
              "summary": "{\n  \"name\": \"df\",\n  \"rows\": 768,\n  \"fields\": [\n    {\n      \"column\": \"Pregnancies\",\n      \"properties\": {\n        \"dtype\": \"number\",\n        \"std\": 3,\n        \"min\": 0,\n        \"max\": 17,\n        \"num_unique_values\": 17,\n        \"samples\": [\n          6,\n          1,\n          3\n        ],\n        \"semantic_type\": \"\",\n        \"description\": \"\"\n      }\n    },\n    {\n      \"column\": \"Glucose\",\n      \"properties\": {\n        \"dtype\": \"number\",\n        \"std\": 31,\n        \"min\": 0,\n        \"max\": 199,\n        \"num_unique_values\": 136,\n        \"samples\": [\n          151,\n          101,\n          112\n        ],\n        \"semantic_type\": \"\",\n        \"description\": \"\"\n      }\n    },\n    {\n      \"column\": \"BloodPressure\",\n      \"properties\": {\n        \"dtype\": \"number\",\n        \"std\": 19,\n        \"min\": 0,\n        \"max\": 122,\n        \"num_unique_values\": 47,\n        \"samples\": [\n          86,\n          46,\n          85\n        ],\n        \"semantic_type\": \"\",\n        \"description\": \"\"\n      }\n    },\n    {\n      \"column\": \"SkinThickness\",\n      \"properties\": {\n        \"dtype\": \"number\",\n        \"std\": 15,\n        \"min\": 0,\n        \"max\": 99,\n        \"num_unique_values\": 51,\n        \"samples\": [\n          7,\n          12,\n          48\n        ],\n        \"semantic_type\": \"\",\n        \"description\": \"\"\n      }\n    },\n    {\n      \"column\": \"Insulin\",\n      \"properties\": {\n        \"dtype\": \"number\",\n        \"std\": 115,\n        \"min\": 0,\n        \"max\": 846,\n        \"num_unique_values\": 186,\n        \"samples\": [\n          52,\n          41,\n          183\n        ],\n        \"semantic_type\": \"\",\n        \"description\": \"\"\n      }\n    },\n    {\n      \"column\": \"BMI\",\n      \"properties\": {\n        \"dtype\": \"number\",\n        \"std\": 7.884160320375446,\n        \"min\": 0.0,\n        \"max\": 67.1,\n        \"num_unique_values\": 248,\n        \"samples\": [\n          19.9,\n          31.0,\n          38.1\n        ],\n        \"semantic_type\": \"\",\n        \"description\": \"\"\n      }\n    },\n    {\n      \"column\": \"DiabetesPedigreeFunction\",\n      \"properties\": {\n        \"dtype\": \"number\",\n        \"std\": 0.3313285950127749,\n        \"min\": 0.078,\n        \"max\": 2.42,\n        \"num_unique_values\": 517,\n        \"samples\": [\n          1.731,\n          0.426,\n          0.138\n        ],\n        \"semantic_type\": \"\",\n        \"description\": \"\"\n      }\n    },\n    {\n      \"column\": \"Age\",\n      \"properties\": {\n        \"dtype\": \"number\",\n        \"std\": 11,\n        \"min\": 21,\n        \"max\": 81,\n        \"num_unique_values\": 52,\n        \"samples\": [\n          60,\n          47,\n          72\n        ],\n        \"semantic_type\": \"\",\n        \"description\": \"\"\n      }\n    },\n    {\n      \"column\": \"Outcome\",\n      \"properties\": {\n        \"dtype\": \"number\",\n        \"std\": 0,\n        \"min\": 0,\n        \"max\": 1,\n        \"num_unique_values\": 2,\n        \"samples\": [\n          0,\n          1\n        ],\n        \"semantic_type\": \"\",\n        \"description\": \"\"\n      }\n    }\n  ]\n}"
            }
          },
          "metadata": {},
          "execution_count": 2
        }
      ],
      "source": [
        "import pandas as pd\n",
        "\n",
        "df = pd.read_csv('/content/drive/MyDrive/diabetes.csv') #подключили датасет через гугл диск\n",
        "##df = pd.read_csv('datasets/diabetes.csv', low_memory=False)\n",
        "df.head()"
      ]
    },
    {
      "cell_type": "markdown",
      "source": [
        "Датасет содержит информацию о пациентах, включая различные медицинские показатели, такие как месяц беременности (Pregnancies), уровень глюкозы в крови (Glucose), артериальное давление (BloodPressure), толщина кожи (SkinThickness), уровень инсулина в крови (Insulin), индекс массы тела (BMI), семейная предрасположенность к диабету (DiabetesPedigreeFunction), возраст (Age) и наличие диабета (Outcome)."
      ],
      "metadata": {
        "id": "LI0cniK_lXyw"
      }
    },
    {
      "cell_type": "code",
      "execution_count": 7,
      "metadata": {
        "colab": {
          "base_uri": "https://localhost:8080/",
          "height": 163
        },
        "id": "CngCtI0HzJPJ",
        "outputId": "ee588db1-7ca7-4a1b-9372-9b241dbcbab7"
      },
      "outputs": [
        {
          "output_type": "execute_result",
          "data": {
            "text/plain": [
              "         Pregnancies     Glucose  BloodPressure  SkinThickness     Insulin  \\\n",
              "Outcome                                                                      \n",
              "0           3.298000  109.980000      68.184000      19.664000   68.792000   \n",
              "1           4.865672  141.257463      70.824627      22.164179  100.335821   \n",
              "\n",
              "               BMI  DiabetesPedigreeFunction        Age  \n",
              "Outcome                                                  \n",
              "0        30.304200                  0.429734  31.190000  \n",
              "1        35.142537                  0.550500  37.067164  "
            ],
            "text/html": [
              "\n",
              "  <div id=\"df-c88bcdfe-2e53-4734-b41a-689840ca9492\" class=\"colab-df-container\">\n",
              "    <div>\n",
              "<style scoped>\n",
              "    .dataframe tbody tr th:only-of-type {\n",
              "        vertical-align: middle;\n",
              "    }\n",
              "\n",
              "    .dataframe tbody tr th {\n",
              "        vertical-align: top;\n",
              "    }\n",
              "\n",
              "    .dataframe thead th {\n",
              "        text-align: right;\n",
              "    }\n",
              "</style>\n",
              "<table border=\"1\" class=\"dataframe\">\n",
              "  <thead>\n",
              "    <tr style=\"text-align: right;\">\n",
              "      <th></th>\n",
              "      <th>Pregnancies</th>\n",
              "      <th>Glucose</th>\n",
              "      <th>BloodPressure</th>\n",
              "      <th>SkinThickness</th>\n",
              "      <th>Insulin</th>\n",
              "      <th>BMI</th>\n",
              "      <th>DiabetesPedigreeFunction</th>\n",
              "      <th>Age</th>\n",
              "    </tr>\n",
              "    <tr>\n",
              "      <th>Outcome</th>\n",
              "      <th></th>\n",
              "      <th></th>\n",
              "      <th></th>\n",
              "      <th></th>\n",
              "      <th></th>\n",
              "      <th></th>\n",
              "      <th></th>\n",
              "      <th></th>\n",
              "    </tr>\n",
              "  </thead>\n",
              "  <tbody>\n",
              "    <tr>\n",
              "      <th>0</th>\n",
              "      <td>3.298000</td>\n",
              "      <td>109.980000</td>\n",
              "      <td>68.184000</td>\n",
              "      <td>19.664000</td>\n",
              "      <td>68.792000</td>\n",
              "      <td>30.304200</td>\n",
              "      <td>0.429734</td>\n",
              "      <td>31.190000</td>\n",
              "    </tr>\n",
              "    <tr>\n",
              "      <th>1</th>\n",
              "      <td>4.865672</td>\n",
              "      <td>141.257463</td>\n",
              "      <td>70.824627</td>\n",
              "      <td>22.164179</td>\n",
              "      <td>100.335821</td>\n",
              "      <td>35.142537</td>\n",
              "      <td>0.550500</td>\n",
              "      <td>37.067164</td>\n",
              "    </tr>\n",
              "  </tbody>\n",
              "</table>\n",
              "</div>\n",
              "    <div class=\"colab-df-buttons\">\n",
              "\n",
              "  <div class=\"colab-df-container\">\n",
              "    <button class=\"colab-df-convert\" onclick=\"convertToInteractive('df-c88bcdfe-2e53-4734-b41a-689840ca9492')\"\n",
              "            title=\"Convert this dataframe to an interactive table.\"\n",
              "            style=\"display:none;\">\n",
              "\n",
              "  <svg xmlns=\"http://www.w3.org/2000/svg\" height=\"24px\" viewBox=\"0 -960 960 960\">\n",
              "    <path d=\"M120-120v-720h720v720H120Zm60-500h600v-160H180v160Zm220 220h160v-160H400v160Zm0 220h160v-160H400v160ZM180-400h160v-160H180v160Zm440 0h160v-160H620v160ZM180-180h160v-160H180v160Zm440 0h160v-160H620v160Z\"/>\n",
              "  </svg>\n",
              "    </button>\n",
              "\n",
              "  <style>\n",
              "    .colab-df-container {\n",
              "      display:flex;\n",
              "      gap: 12px;\n",
              "    }\n",
              "\n",
              "    .colab-df-convert {\n",
              "      background-color: #E8F0FE;\n",
              "      border: none;\n",
              "      border-radius: 50%;\n",
              "      cursor: pointer;\n",
              "      display: none;\n",
              "      fill: #1967D2;\n",
              "      height: 32px;\n",
              "      padding: 0 0 0 0;\n",
              "      width: 32px;\n",
              "    }\n",
              "\n",
              "    .colab-df-convert:hover {\n",
              "      background-color: #E2EBFA;\n",
              "      box-shadow: 0px 1px 2px rgba(60, 64, 67, 0.3), 0px 1px 3px 1px rgba(60, 64, 67, 0.15);\n",
              "      fill: #174EA6;\n",
              "    }\n",
              "\n",
              "    .colab-df-buttons div {\n",
              "      margin-bottom: 4px;\n",
              "    }\n",
              "\n",
              "    [theme=dark] .colab-df-convert {\n",
              "      background-color: #3B4455;\n",
              "      fill: #D2E3FC;\n",
              "    }\n",
              "\n",
              "    [theme=dark] .colab-df-convert:hover {\n",
              "      background-color: #434B5C;\n",
              "      box-shadow: 0px 1px 3px 1px rgba(0, 0, 0, 0.15);\n",
              "      filter: drop-shadow(0px 1px 2px rgba(0, 0, 0, 0.3));\n",
              "      fill: #FFFFFF;\n",
              "    }\n",
              "  </style>\n",
              "\n",
              "    <script>\n",
              "      const buttonEl =\n",
              "        document.querySelector('#df-c88bcdfe-2e53-4734-b41a-689840ca9492 button.colab-df-convert');\n",
              "      buttonEl.style.display =\n",
              "        google.colab.kernel.accessAllowed ? 'block' : 'none';\n",
              "\n",
              "      async function convertToInteractive(key) {\n",
              "        const element = document.querySelector('#df-c88bcdfe-2e53-4734-b41a-689840ca9492');\n",
              "        const dataTable =\n",
              "          await google.colab.kernel.invokeFunction('convertToInteractive',\n",
              "                                                    [key], {});\n",
              "        if (!dataTable) return;\n",
              "\n",
              "        const docLinkHtml = 'Like what you see? Visit the ' +\n",
              "          '<a target=\"_blank\" href=https://colab.research.google.com/notebooks/data_table.ipynb>data table notebook</a>'\n",
              "          + ' to learn more about interactive tables.';\n",
              "        element.innerHTML = '';\n",
              "        dataTable['output_type'] = 'display_data';\n",
              "        await google.colab.output.renderOutput(dataTable, element);\n",
              "        const docLink = document.createElement('div');\n",
              "        docLink.innerHTML = docLinkHtml;\n",
              "        element.appendChild(docLink);\n",
              "      }\n",
              "    </script>\n",
              "  </div>\n",
              "\n",
              "\n",
              "<div id=\"df-5b89bcce-6bcd-42a6-bc5a-586d6ce3eaaf\">\n",
              "  <button class=\"colab-df-quickchart\" onclick=\"quickchart('df-5b89bcce-6bcd-42a6-bc5a-586d6ce3eaaf')\"\n",
              "            title=\"Suggest charts\"\n",
              "            style=\"display:none;\">\n",
              "\n",
              "<svg xmlns=\"http://www.w3.org/2000/svg\" height=\"24px\"viewBox=\"0 0 24 24\"\n",
              "     width=\"24px\">\n",
              "    <g>\n",
              "        <path d=\"M19 3H5c-1.1 0-2 .9-2 2v14c0 1.1.9 2 2 2h14c1.1 0 2-.9 2-2V5c0-1.1-.9-2-2-2zM9 17H7v-7h2v7zm4 0h-2V7h2v10zm4 0h-2v-4h2v4z\"/>\n",
              "    </g>\n",
              "</svg>\n",
              "  </button>\n",
              "\n",
              "<style>\n",
              "  .colab-df-quickchart {\n",
              "      --bg-color: #E8F0FE;\n",
              "      --fill-color: #1967D2;\n",
              "      --hover-bg-color: #E2EBFA;\n",
              "      --hover-fill-color: #174EA6;\n",
              "      --disabled-fill-color: #AAA;\n",
              "      --disabled-bg-color: #DDD;\n",
              "  }\n",
              "\n",
              "  [theme=dark] .colab-df-quickchart {\n",
              "      --bg-color: #3B4455;\n",
              "      --fill-color: #D2E3FC;\n",
              "      --hover-bg-color: #434B5C;\n",
              "      --hover-fill-color: #FFFFFF;\n",
              "      --disabled-bg-color: #3B4455;\n",
              "      --disabled-fill-color: #666;\n",
              "  }\n",
              "\n",
              "  .colab-df-quickchart {\n",
              "    background-color: var(--bg-color);\n",
              "    border: none;\n",
              "    border-radius: 50%;\n",
              "    cursor: pointer;\n",
              "    display: none;\n",
              "    fill: var(--fill-color);\n",
              "    height: 32px;\n",
              "    padding: 0;\n",
              "    width: 32px;\n",
              "  }\n",
              "\n",
              "  .colab-df-quickchart:hover {\n",
              "    background-color: var(--hover-bg-color);\n",
              "    box-shadow: 0 1px 2px rgba(60, 64, 67, 0.3), 0 1px 3px 1px rgba(60, 64, 67, 0.15);\n",
              "    fill: var(--button-hover-fill-color);\n",
              "  }\n",
              "\n",
              "  .colab-df-quickchart-complete:disabled,\n",
              "  .colab-df-quickchart-complete:disabled:hover {\n",
              "    background-color: var(--disabled-bg-color);\n",
              "    fill: var(--disabled-fill-color);\n",
              "    box-shadow: none;\n",
              "  }\n",
              "\n",
              "  .colab-df-spinner {\n",
              "    border: 2px solid var(--fill-color);\n",
              "    border-color: transparent;\n",
              "    border-bottom-color: var(--fill-color);\n",
              "    animation:\n",
              "      spin 1s steps(1) infinite;\n",
              "  }\n",
              "\n",
              "  @keyframes spin {\n",
              "    0% {\n",
              "      border-color: transparent;\n",
              "      border-bottom-color: var(--fill-color);\n",
              "      border-left-color: var(--fill-color);\n",
              "    }\n",
              "    20% {\n",
              "      border-color: transparent;\n",
              "      border-left-color: var(--fill-color);\n",
              "      border-top-color: var(--fill-color);\n",
              "    }\n",
              "    30% {\n",
              "      border-color: transparent;\n",
              "      border-left-color: var(--fill-color);\n",
              "      border-top-color: var(--fill-color);\n",
              "      border-right-color: var(--fill-color);\n",
              "    }\n",
              "    40% {\n",
              "      border-color: transparent;\n",
              "      border-right-color: var(--fill-color);\n",
              "      border-top-color: var(--fill-color);\n",
              "    }\n",
              "    60% {\n",
              "      border-color: transparent;\n",
              "      border-right-color: var(--fill-color);\n",
              "    }\n",
              "    80% {\n",
              "      border-color: transparent;\n",
              "      border-right-color: var(--fill-color);\n",
              "      border-bottom-color: var(--fill-color);\n",
              "    }\n",
              "    90% {\n",
              "      border-color: transparent;\n",
              "      border-bottom-color: var(--fill-color);\n",
              "    }\n",
              "  }\n",
              "</style>\n",
              "\n",
              "  <script>\n",
              "    async function quickchart(key) {\n",
              "      const quickchartButtonEl =\n",
              "        document.querySelector('#' + key + ' button');\n",
              "      quickchartButtonEl.disabled = true;  // To prevent multiple clicks.\n",
              "      quickchartButtonEl.classList.add('colab-df-spinner');\n",
              "      try {\n",
              "        const charts = await google.colab.kernel.invokeFunction(\n",
              "            'suggestCharts', [key], {});\n",
              "      } catch (error) {\n",
              "        console.error('Error during call to suggestCharts:', error);\n",
              "      }\n",
              "      quickchartButtonEl.classList.remove('colab-df-spinner');\n",
              "      quickchartButtonEl.classList.add('colab-df-quickchart-complete');\n",
              "    }\n",
              "    (() => {\n",
              "      let quickchartButtonEl =\n",
              "        document.querySelector('#df-5b89bcce-6bcd-42a6-bc5a-586d6ce3eaaf button');\n",
              "      quickchartButtonEl.style.display =\n",
              "        google.colab.kernel.accessAllowed ? 'block' : 'none';\n",
              "    })();\n",
              "  </script>\n",
              "</div>\n",
              "    </div>\n",
              "  </div>\n"
            ],
            "application/vnd.google.colaboratory.intrinsic+json": {
              "type": "dataframe",
              "summary": "{\n  \"name\": \"teachdata\",\n  \"rows\": 2,\n  \"fields\": [\n    {\n      \"column\": \"Outcome\",\n      \"properties\": {\n        \"dtype\": \"number\",\n        \"std\": 0,\n        \"min\": 0,\n        \"max\": 1,\n        \"num_unique_values\": 2,\n        \"samples\": [\n          1,\n          0\n        ],\n        \"semantic_type\": \"\",\n        \"description\": \"\"\n      }\n    },\n    {\n      \"column\": \"Pregnancies\",\n      \"properties\": {\n        \"dtype\": \"number\",\n        \"std\": 1.108511248584296,\n        \"min\": 3.298,\n        \"max\": 4.865671641791045,\n        \"num_unique_values\": 2,\n        \"samples\": [\n          4.865671641791045,\n          3.298\n        ],\n        \"semantic_type\": \"\",\n        \"description\": \"\"\n      }\n    },\n    {\n      \"column\": \"Glucose\",\n      \"properties\": {\n        \"dtype\": \"number\",\n        \"std\": 22.116505963980842,\n        \"min\": 109.98,\n        \"max\": 141.25746268656715,\n        \"num_unique_values\": 2,\n        \"samples\": [\n          141.25746268656715,\n          109.98\n        ],\n        \"semantic_type\": \"\",\n        \"description\": \"\"\n      }\n    },\n    {\n      \"column\": \"BloodPressure\",\n      \"properties\": {\n        \"dtype\": \"number\",\n        \"std\": 1.8672051632998017,\n        \"min\": 68.184,\n        \"max\": 70.82462686567165,\n        \"num_unique_values\": 2,\n        \"samples\": [\n          70.82462686567165,\n          68.184\n        ],\n        \"semantic_type\": \"\",\n        \"description\": \"\"\n      }\n    },\n    {\n      \"column\": \"SkinThickness\",\n      \"properties\": {\n        \"dtype\": \"number\",\n        \"std\": 1.7678935989570275,\n        \"min\": 19.664,\n        \"max\": 22.16417910447761,\n        \"num_unique_values\": 2,\n        \"samples\": [\n          22.16417910447761,\n          19.664\n        ],\n        \"semantic_type\": \"\",\n        \"description\": \"\"\n      }\n    },\n    {\n      \"column\": \"Insulin\",\n      \"properties\": {\n        \"dtype\": \"number\",\n        \"std\": 22.304849659757796,\n        \"min\": 68.792,\n        \"max\": 100.33582089552239,\n        \"num_unique_values\": 2,\n        \"samples\": [\n          100.33582089552239,\n          68.792\n        ],\n        \"semantic_type\": \"\",\n        \"description\": \"\"\n      }\n    },\n    {\n      \"column\": \"BMI\",\n      \"properties\": {\n        \"dtype\": \"number\",\n        \"std\": 3.4212211239962618,\n        \"min\": 30.3042,\n        \"max\": 35.14253731343284,\n        \"num_unique_values\": 2,\n        \"samples\": [\n          35.14253731343284,\n          30.3042\n        ],\n        \"semantic_type\": \"\",\n        \"description\": \"\"\n      }\n    },\n    {\n      \"column\": \"DiabetesPedigreeFunction\",\n      \"properties\": {\n        \"dtype\": \"number\",\n        \"std\": 0.08539445753677459,\n        \"min\": 0.429734,\n        \"max\": 0.5505,\n        \"num_unique_values\": 2,\n        \"samples\": [\n          0.5505,\n          0.429734\n        ],\n        \"semantic_type\": \"\",\n        \"description\": \"\"\n      }\n    },\n    {\n      \"column\": \"Age\",\n      \"properties\": {\n        \"dtype\": \"number\",\n        \"std\": 4.155782645191446,\n        \"min\": 31.19,\n        \"max\": 37.06716417910448,\n        \"num_unique_values\": 2,\n        \"samples\": [\n          37.06716417910448,\n          31.19\n        ],\n        \"semantic_type\": \"\",\n        \"description\": \"\"\n      }\n    }\n  ]\n}"
            }
          },
          "metadata": {},
          "execution_count": 7
        }
      ],
      "source": [
        "import random\n",
        "import matplotlib.pyplot as plt\n",
        "import scipy.stats as stats\n",
        "import numpy as np\n",
        "import seaborn as sns\n",
        "\n",
        "data = df.loc[~df[['Pregnancies', 'Glucose', 'BloodPressure', 'SkinThickness', 'Insulin',\n",
        "       'BMI', 'DiabetesPedigreeFunction', 'Age']].isna().any(axis=1)]\n",
        "\n",
        "teachdata = df.loc[~df[['Pregnancies', 'Glucose', 'BloodPressure', 'SkinThickness', 'Insulin',\n",
        "       'BMI', 'DiabetesPedigreeFunction', 'Age', 'Outcome']].isna().any(axis=1)]\n",
        "\n",
        "teachdata.groupby('Outcome').mean()"
      ]
    },
    {
      "cell_type": "markdown",
      "metadata": {
        "id": "xDXtwr-W1z22"
      },
      "source": [
        "##Первичные наблюдения из средних значений:\n",
        "1)Уровень глюкозы в крови диабетиков сильно выше, чем у здоровых людей\n",
        "\n",
        "2)Беременность довольно сильно повышает риск появления диабета\n",
        "\n",
        "3)С возрастом вероятность заболеть диабетом растет\n",
        "\n",
        "4)Чем больше вес человека, тем больше риск заболеть диабетом\n",
        "\n",
        "5)Так называемая DPF, отвечающая за генетическую предрасположенность способна предсказать риск заболеть диабетом, но не является точным индикатором"
      ]
    },
    {
      "cell_type": "code",
      "execution_count": 8,
      "metadata": {
        "colab": {
          "base_uri": "https://localhost:8080/",
          "height": 556
        },
        "id": "Zdy4g9zr0VnO",
        "outputId": "dd5d5e32-e6ad-4cc9-8adc-6f12c0496bfc"
      },
      "outputs": [
        {
          "output_type": "stream",
          "name": "stderr",
          "text": [
            "<ipython-input-8-b1fc29b3b2df>:2: FutureWarning: \n",
            "\n",
            "Passing `palette` without assigning `hue` is deprecated and will be removed in v0.14.0. Assign the `x` variable to `hue` and set `legend=False` for the same effect.\n",
            "\n",
            "  sns.countplot(x='Outcome', data=teachdata, palette = 'hls')\n"
          ]
        },
        {
          "output_type": "display_data",
          "data": {
            "text/plain": [
              "<Figure size 640x480 with 1 Axes>"
            ],
            "image/png": "[encoded data removed]"
          },
          "metadata": {}
        }
      ],
      "source": [
        "outc = teachdata['Outcome'].value_counts()\n",
        "sns.countplot(x='Outcome', data=teachdata, palette = 'hls')\n",
        "plt.show()"
      ]
    },
    {
      "cell_type": "markdown",
      "metadata": {
        "id": "94OQbS0H1z25"
      },
      "source": [
        "Классы здоровых и болеющих диабетом людей отличаются в 2 раза, что не критично.\n",
        "Можно считать классы сбалансированными(потом проверим это ещё раз и подтвердим)."
      ]
    },
    {
      "cell_type": "code",
      "execution_count": 9,
      "metadata": {
        "colab": {
          "base_uri": "https://localhost:8080/",
          "height": 902
        },
        "id": "lHfeYr2s1z26",
        "outputId": "a499f096-5b96-4f50-8fcf-140466a7f5d1"
      },
      "outputs": [
        {
          "output_type": "execute_result",
          "data": {
            "text/plain": [
              "<Axes: ylabel='Density'>"
            ]
          },
          "metadata": {},
          "execution_count": 9
        },
        {
          "output_type": "display_data",
          "data": {
            "text/plain": [
              "<Figure size 640x480 with 1 Axes>"
            ],
            "image/png": "[encoded data removed]"
          },
          "metadata": {}
        },
        {
          "output_type": "display_data",
          "data": {
            "text/plain": [
              "<Figure size 640x480 with 1 Axes>"
            ],
            "image/png": "[encoded data removed]"
          },
          "metadata": {}
        }
      ],
      "source": [
        "outcome_0_data = teachdata[teachdata['Outcome'] == 1].copy()\n",
        "\n",
        "teachdata_1 = pd.concat([teachdata, outcome_0_data], ignore_index=True)\n",
        "\n",
        "pd.crosstab(teachdata_1.loc[teachdata_1.Glucose > 0].Glucose,teachdata_1.Outcome).plot(title=\"Glucose plots\")\n",
        "pd.crosstab(teachdata_1.loc[teachdata_1.Glucose > 0].Glucose,teachdata_1.Outcome).plot.density()"
      ]
    },
    {
      "cell_type": "markdown",
      "source": [
        "Первый график, показывает количество пациентов с диабетом и без диабета в зависимости от уровня глюкозы в крови.\n",
        "\n",
        "Второй график показывает плотность распределения уровня глюкозы в крови для пациентов с диабетом и без него."
      ],
      "metadata": {
        "id": "AgW0qkEImd-c"
      }
    },
    {
      "cell_type": "code",
      "execution_count": 10,
      "metadata": {
        "colab": {
          "base_uri": "https://localhost:8080/",
          "height": 902
        },
        "id": "bbtp5jfT1z27",
        "outputId": "3b17df14-7b04-481f-cb32-2752b8e0944a"
      },
      "outputs": [
        {
          "output_type": "execute_result",
          "data": {
            "text/plain": [
              "<Axes: ylabel='Density'>"
            ]
          },
          "metadata": {},
          "execution_count": 10
        },
        {
          "output_type": "display_data",
          "data": {
            "text/plain": [
              "<Figure size 640x480 with 1 Axes>"
            ],
            "image/png": "[encoded data removed]"
          },
          "metadata": {}
        },
        {
          "output_type": "display_data",
          "data": {
            "text/plain": [
              "<Figure size 640x480 with 1 Axes>"
            ],
            "image/png": "[encoded data removed]"
          },
          "metadata": {}
        }
      ],
      "source": [
        "dat = teachdata_1.loc[teachdata_1.Insulin > 0]\n",
        "pd.crosstab(dat.Insulin,dat.Outcome).plot(title=\"Insulin plots\")\n",
        "pd.crosstab(dat.Insulin,dat.Outcome).plot.density()"
      ]
    },
    {
      "cell_type": "markdown",
      "source": [
        "Первый график, показывает количество пациентов с диабетом и без диабета в зависимости от уровня инсулина.\n",
        "\n",
        "Второй график показывает плотность распределения уровня инсулина для пациентов с диабетом и без него."
      ],
      "metadata": {
        "id": "l53fvE0Qm86e"
      }
    },
    {
      "cell_type": "code",
      "source": [
        "pd.crosstab(teachdata_1.loc[teachdata_1.Age < 70].Age, teachdata_1.Outcome).plot(title=\"Age plots\")\n",
        "pd.crosstab(teachdata_1.loc[teachdata_1.Age < 70].Age, teachdata_1.Outcome).plot.density()"
      ],
      "metadata": {
        "colab": {
          "base_uri": "https://localhost:8080/",
          "height": 902
        },
        "id": "SzICYvypY2Cs",
        "outputId": "ad039c9a-92c1-4d3d-e1a1-1130a0b3e528"
      },
      "execution_count": 11,
      "outputs": [
        {
          "output_type": "execute_result",
          "data": {
            "text/plain": [
              "<Axes: ylabel='Density'>"
            ]
          },
          "metadata": {},
          "execution_count": 11
        },
        {
          "output_type": "display_data",
          "data": {
            "text/plain": [
              "<Figure size 640x480 with 1 Axes>"
            ],
            "image/png": "[encoded data removed]"
          },
          "metadata": {}
        },
        {
          "output_type": "display_data",
          "data": {
            "text/plain": [
              "<Figure size 640x480 with 1 Axes>"
            ],
            "image/png": "[encoded data removed]"
          },
          "metadata": {}
        }
      ]
    },
    {
      "cell_type": "markdown",
      "source": [
        "Первый график, показывает количество пациентов с диабетом и без диабета в зависимости от возраста.\n",
        "\n",
        "Второй график показывает плотность распределения возраста пациентов с диабетом и без него."
      ],
      "metadata": {
        "id": "vnnD4ijqnO6L"
      }
    },
    {
      "cell_type": "code",
      "execution_count": 12,
      "metadata": {
        "colab": {
          "base_uri": "https://localhost:8080/"
        },
        "id": "l9tQip7LEPHb",
        "outputId": "f88da229-f056-4bfd-f641-f73c282d8f62"
      },
      "outputs": [
        {
          "output_type": "stream",
          "name": "stdout",
          "text": [
            "Accuracy: 0.7291666666666666\n",
            "              precision    recall  f1-score   support\n",
            "\n",
            "           0       0.80      0.77      0.79       123\n",
            "           1       0.62      0.65      0.63        69\n",
            "\n",
            "    accuracy                           0.73       192\n",
            "   macro avg       0.71      0.71      0.71       192\n",
            "weighted avg       0.73      0.73      0.73       192\n",
            "\n",
            "Confusion Matrix:\n",
            "[[95 28]\n",
            " [24 45]]\n"
          ]
        },
        {
          "output_type": "stream",
          "name": "stderr",
          "text": [
            "/usr/local/lib/python3.10/dist-packages/sklearn/linear_model/_logistic.py:458: ConvergenceWarning: lbfgs failed to converge (status=1):\n",
            "STOP: TOTAL NO. of ITERATIONS REACHED LIMIT.\n",
            "\n",
            "Increase the number of iterations (max_iter) or scale the data as shown in:\n",
            "    https://scikit-learn.org/stable/modules/preprocessing.html\n",
            "Please also refer to the documentation for alternative solver options:\n",
            "    https://scikit-learn.org/stable/modules/linear_model.html#logistic-regression\n",
            "  n_iter_i = _check_optimize_result(\n"
          ]
        }
      ],
      "source": [
        "from sklearn.model_selection import train_test_split\n",
        "from sklearn.linear_model import LogisticRegression\n",
        "from sklearn.metrics import accuracy_score, classification_report, confusion_matrix\n",
        "\n",
        "X = teachdata.drop('Outcome', axis=1)\n",
        "y = teachdata['Outcome']\n",
        "\n",
        "X_train, X_test, y_train, y_test = train_test_split(X, y, test_size=0.25, random_state=42, shuffle = True)\n",
        "\n",
        "model = LogisticRegression(max_iter = 100)\n",
        "model.fit(X_train, y_train)\n",
        "\n",
        "y_pred = model.predict(X_test)\n",
        "\n",
        "accuracy = accuracy_score(y_test, y_pred)\n",
        "print(\"Accuracy:\", accuracy)\n",
        "\n",
        "print(classification_report(y_test, y_pred))\n",
        "\n",
        "print(\"Confusion Matrix:\")\n",
        "print(confusion_matrix(y_test, y_pred))"
      ]
    },
    {
      "cell_type": "code",
      "source": [
        "X = teachdata.drop('Outcome', axis=1)\n",
        "cols = ['Pregnancies', 'Glucose', 'Insulin',\n",
        "       'BMI', 'DiabetesPedigreeFunction', 'Age']\n",
        "X = X[cols]\n",
        "y = teachdata['Outcome']\n",
        "\n",
        "X_train, X_test, y_train, y_test = train_test_split(X, y, test_size=0.25, random_state=42)\n",
        "\n",
        "model = LogisticRegression()\n",
        "model.fit(X_train, y_train)\n",
        "\n",
        "y_pred = model.predict(X_test)\n",
        "\n",
        "accuracy = accuracy_score(y_test, y_pred)\n",
        "print(\"Accuracy:\", accuracy)\n",
        "\n",
        "print(classification_report(y_test, y_pred))\n",
        "\n",
        "print(\"Confusion Matrix:\")\n",
        "print(confusion_matrix(y_test, y_pred))"
      ],
      "metadata": {
        "id": "RxJQEOgec_Jh",
        "outputId": "86a126fb-dda6-4dfe-b04b-ea6bba3461ab",
        "colab": {
          "base_uri": "https://localhost:8080/"
        }
      },
      "execution_count": 13,
      "outputs": [
        {
          "output_type": "stream",
          "name": "stdout",
          "text": [
            "Accuracy: 0.7291666666666666\n",
            "              precision    recall  f1-score   support\n",
            "\n",
            "           0       0.78      0.80      0.79       123\n",
            "           1       0.63      0.61      0.62        69\n",
            "\n",
            "    accuracy                           0.73       192\n",
            "   macro avg       0.71      0.70      0.70       192\n",
            "weighted avg       0.73      0.73      0.73       192\n",
            "\n",
            "Confusion Matrix:\n",
            "[[98 25]\n",
            " [27 42]]\n"
          ]
        },
        {
          "output_type": "stream",
          "name": "stderr",
          "text": [
            "/usr/local/lib/python3.10/dist-packages/sklearn/linear_model/_logistic.py:458: ConvergenceWarning: lbfgs failed to converge (status=1):\n",
            "STOP: TOTAL NO. of ITERATIONS REACHED LIMIT.\n",
            "\n",
            "Increase the number of iterations (max_iter) or scale the data as shown in:\n",
            "    https://scikit-learn.org/stable/modules/preprocessing.html\n",
            "Please also refer to the documentation for alternative solver options:\n",
            "    https://scikit-learn.org/stable/modules/linear_model.html#logistic-regression\n",
            "  n_iter_i = _check_optimize_result(\n"
          ]
        }
      ]
    },
    {
      "cell_type": "markdown",
      "source": [
        "Модель демонстрирует приемлемую, но не идеальную производительность. Она имеет некоторую способность различать образцы класса 0 и класса 1, но существует пространство для улучшений. Возможно, оптимизация гиперпараметров модели может улучшить ее производительность."
      ],
      "metadata": {
        "id": "NSYbft0pJN-c"
      }
    },
    {
      "cell_type": "code",
      "execution_count": 14,
      "metadata": {
        "colab": {
          "base_uri": "https://localhost:8080/"
        },
        "id": "Hfs9QCdantoP",
        "outputId": "ebaf2841-8831-456f-a0ce-b9a09914dd47"
      },
      "outputs": [
        {
          "output_type": "stream",
          "name": "stdout",
          "text": [
            "Best Parameters: {'C': 1, 'class_weight': None, 'penalty': 'l1', 'solver': 'liblinear'}\n",
            "Best Accuracy: 0.7725187406296852\n",
            "              precision    recall  f1-score   support\n",
            "\n",
            "           0       0.78      0.80      0.79       123\n",
            "           1       0.62      0.59      0.61        69\n",
            "\n",
            "    accuracy                           0.72       192\n",
            "   macro avg       0.70      0.70      0.70       192\n",
            "weighted avg       0.72      0.72      0.72       192\n",
            "\n"
          ]
        }
      ],
      "source": [
        "from sklearn.model_selection import GridSearchCV\n",
        "from sklearn.metrics import classification_report\n",
        "\n",
        "param_grid = {\n",
        "    'penalty': ['l1', 'l2'],  # Тип регуляризации\n",
        "    'C': [0.001, 0.01, 0.1, 1, 10, 100],  # Обратная сила регуляризации\n",
        "    'solver': ['liblinear'],  # Алгоритм оптимизации\n",
        "    'class_weight': [None, 'balanced']  # Балансировка классов\n",
        "}\n",
        "\n",
        "model = LogisticRegression()\n",
        "\n",
        "grid_search = GridSearchCV(model, param_grid, cv=5, scoring='accuracy')\n",
        "grid_search.fit(X_train, y_train)\n",
        "\n",
        "print(\"Best Parameters:\", grid_search.best_params_)\n",
        "print(\"Best Accuracy:\", grid_search.best_score_)\n",
        "y_pred = grid_search.predict(X_test)\n",
        "print(classification_report(y_test, y_pred))\n"
      ]
    },
    {
      "cell_type": "markdown",
      "source": [
        "С помощью gridsearch удалось добиться значительного улучшения параметра accuracy, почти до 78%. Однако, precision и recall для класса 1 остались примерно на том же уровне"
      ],
      "metadata": {
        "id": "2IHl03_zOSew"
      }
    },
    {
      "cell_type": "markdown",
      "source": [
        "##Протестируем метод catboost и попробуем улучшить нашу модель"
      ],
      "metadata": {
        "id": "c3tDWPzTQlWg"
      }
    },
    {
      "cell_type": "code",
      "source": [
        "!pip install catboost"
      ],
      "metadata": {
        "colab": {
          "base_uri": "https://localhost:8080/"
        },
        "id": "5LfL6FdgQ1Xg",
        "outputId": "c532ab30-4310-4e49-8a5c-ca70d7447e92"
      },
      "execution_count": 3,
      "outputs": [
        {
          "output_type": "stream",
          "name": "stdout",
          "text": [
            "Collecting catboost\n",
            "  Downloading catboost-1.2.5-cp310-cp310-manylinux2014_x86_64.whl (98.2 MB)\n",
            "\u001b[2K     \u001b[90m━━━━━━━━━━━━━━━━━━━━━━━━━━━━━━━━━━━━━━━━\u001b[0m \u001b[32m98.2/98.2 MB\u001b[0m \u001b[31m7.4 MB/s\u001b[0m eta \u001b[36m0:00:00\u001b[0m\n",
            "\u001b[?25hRequirement already satisfied: graphviz in /usr/local/lib/python3.10/dist-packages (from catboost) (0.20.3)\n",
            "Requirement already satisfied: matplotlib in /usr/local/lib/python3.10/dist-packages (from catboost) (3.7.1)\n",
            "Requirement already satisfied: numpy>=1.16.0 in /usr/local/lib/python3.10/dist-packages (from catboost) (1.25.2)\n",
            "Requirement already satisfied: pandas>=0.24 in /usr/local/lib/python3.10/dist-packages (from catboost) (2.0.3)\n",
            "Requirement already satisfied: scipy in /usr/local/lib/python3.10/dist-packages (from catboost) (1.11.4)\n",
            "Requirement already satisfied: plotly in /usr/local/lib/python3.10/dist-packages (from catboost) (5.15.0)\n",
            "Requirement already satisfied: six in /usr/local/lib/python3.10/dist-packages (from catboost) (1.16.0)\n",
            "Requirement already satisfied: python-dateutil>=2.8.2 in /usr/local/lib/python3.10/dist-packages (from pandas>=0.24->catboost) (2.8.2)\n",
            "Requirement already satisfied: pytz>=2020.1 in /usr/local/lib/python3.10/dist-packages (from pandas>=0.24->catboost) (2023.4)\n",
            "Requirement already satisfied: tzdata>=2022.1 in /usr/local/lib/python3.10/dist-packages (from pandas>=0.24->catboost) (2024.1)\n",
            "Requirement already satisfied: contourpy>=1.0.1 in /usr/local/lib/python3.10/dist-packages (from matplotlib->catboost) (1.2.1)\n",
            "Requirement already satisfied: cycler>=0.10 in /usr/local/lib/python3.10/dist-packages (from matplotlib->catboost) (0.12.1)\n",
            "Requirement already satisfied: fonttools>=4.22.0 in /usr/local/lib/python3.10/dist-packages (from matplotlib->catboost) (4.51.0)\n",
            "Requirement already satisfied: kiwisolver>=1.0.1 in /usr/local/lib/python3.10/dist-packages (from matplotlib->catboost) (1.4.5)\n",
            "Requirement already satisfied: packaging>=20.0 in /usr/local/lib/python3.10/dist-packages (from matplotlib->catboost) (24.0)\n",
            "Requirement already satisfied: pillow>=6.2.0 in /usr/local/lib/python3.10/dist-packages (from matplotlib->catboost) (9.4.0)\n",
            "Requirement already satisfied: pyparsing>=2.3.1 in /usr/local/lib/python3.10/dist-packages (from matplotlib->catboost) (3.1.2)\n",
            "Requirement already satisfied: tenacity>=6.2.0 in /usr/local/lib/python3.10/dist-packages (from plotly->catboost) (8.2.3)\n",
            "Installing collected packages: catboost\n",
            "Successfully installed catboost-1.2.5\n"
          ]
        }
      ]
    },
    {
      "cell_type": "code",
      "source": [
        "from google.colab import output\n",
        "output.enable_custom_widget_manager()"
      ],
      "metadata": {
        "id": "WStYHi-QQ8Tg"
      },
      "execution_count": 4,
      "outputs": []
    },
    {
      "cell_type": "code",
      "source": [
        "from sklearn.model_selection import train_test_split\n",
        "from catboost import CatBoostClassifier\n",
        "from sklearn.metrics import accuracy_score, classification_report, confusion_matrix\n",
        "\n",
        "X = teachdata.drop('Outcome', axis=1)\n",
        "y = teachdata['Outcome']\n",
        "\n",
        "X_train, X_test, y_train, y_test = train_test_split(X, y, test_size=0.25, random_state=42, shuffle=True)\n",
        "\n",
        "params = {\"iterations\": 500,\n",
        "          \"depth\":5,\n",
        "          \"loss_function\": \"Logloss\",\n",
        "          \"verbose\": False}\n",
        "          #\"learning_rate\": 0.001}\n",
        "\n",
        "model = CatBoostClassifier(**params)\n",
        "model.fit(X_train, y_train, plot=True, eval_set=(X_test, y_test))\n",
        "\n",
        "y_pred = model.predict(X_test)\n",
        "\n",
        "accuracy = accuracy_score(y_test, y_pred)\n",
        "print(\"Accuracy:\", accuracy)\n",
        "\n",
        "print(classification_report(y_test, y_pred))\n",
        "\n",
        "print(\"Confusion Matrix:\")\n",
        "print(confusion_matrix(y_test, y_pred))"
      ],
      "metadata": {
        "colab": {
          "base_uri": "https://localhost:8080/",
          "height": 243,
          "referenced_widgets": [
            "c31afb6d8cb04174aba11f96d7aeee27"
          ]
        },
        "id": "NxE8AUjbRBQb",
        "outputId": "42f5019d-8009-47f0-b0f3-2a4157af6392"
      },
      "execution_count": 15,
      "outputs": [
        {
          "output_type": "display_data",
          "data": {
            "text/plain": [
              "MetricVisualizer(layout=Layout(align_self='stretch', height='500px'))"
            ],
            "application/vnd.jupyter.widget-view+json": {
              "version_major": 2,
              "version_minor": 0,
              "model_id": "c31afb6d8cb04174aba11f96d7aeee27"
            }
          },
          "metadata": {}
        },
        {
          "output_type": "stream",
          "name": "stdout",
          "text": [
            "Accuracy: 0.7604166666666666\n",
            "              precision    recall  f1-score   support\n",
            "\n",
            "           0       0.80      0.83      0.82       123\n",
            "           1       0.68      0.64      0.66        69\n",
            "\n",
            "    accuracy                           0.76       192\n",
            "   macro avg       0.74      0.73      0.74       192\n",
            "weighted avg       0.76      0.76      0.76       192\n",
            "\n",
            "Confusion Matrix:\n",
            "[[102  21]\n",
            " [ 25  44]]\n"
          ]
        }
      ]
    },
    {
      "cell_type": "markdown",
      "source": [
        "Как мы видим, показатели precision и recall выросли для обоих классов. Accuracy упало до 76%, но все же это выше чем у 1й модели (72%). Поэтому этот алгоритм является наиболее оптимальным"
      ],
      "metadata": {
        "id": "9Ntl6X-oRSUZ"
      }
    },
    {
      "cell_type": "code",
      "source": [
        "from sklearn.model_selection import GridSearchCV\n",
        "\n",
        "param_grid = {\n",
        "    'iterations': [100, 500, 1000],\n",
        "    'depth': [3, 5, 7],\n",
        "    #'learning_rate': [0.01, 0.1, 0.5],\n",
        "}\n",
        "\n",
        "base_model = CatBoostClassifier()\n",
        "\n",
        "grid_search = GridSearchCV(estimator=base_model, param_grid=param_grid, cv=3, scoring='accuracy', verbose=2)\n",
        "\n",
        "grid_search.fit(X_train, y_train)\n",
        "\n",
        "best_params = grid_search.best_params_\n",
        "best_score = grid_search.best_score_\n",
        "\n",
        "best_model = CatBoostClassifier(**best_params)\n",
        "best_model.fit(X_train, y_train)\n",
        "\n",
        "y_pred = best_model.predict(X_test)\n",
        "\n",
        "accuracy = accuracy_score(y_test, y_pred)\n",
        "print(\"Accuracy:\", accuracy)\n",
        "\n",
        "print(classification_report(y_test, y_pred))\n",
        "\n",
        "print(\"Confusion Matrix:\")\n",
        "print(confusion_matrix(y_test, y_pred))"
      ],
      "metadata": {
        "id": "k072eW7ymYLG",
        "outputId": "60135035-7cef-4713-f027-088c69e83956",
        "colab": {
          "base_uri": "https://localhost:8080/"
        }
      },
      "execution_count": 18,
      "outputs": [
        {
          "output_type": "stream",
          "name": "stdout",
          "text": [
            "\u001b[1;30;43mВыходные данные были обрезаны до нескольких последних строк (5000).\u001b[0m\n",
            "32:\tlearn: 0.4762503\ttotal: 67.1ms\tremaining: 136ms\n",
            "33:\tlearn: 0.4718700\ttotal: 69.9ms\tremaining: 136ms\n",
            "34:\tlearn: 0.4690778\ttotal: 71.6ms\tremaining: 133ms\n",
            "35:\tlearn: 0.4658053\ttotal: 73.3ms\tremaining: 130ms\n",
            "36:\tlearn: 0.4623934\ttotal: 75.1ms\tremaining: 128ms\n",
            "37:\tlearn: 0.4596061\ttotal: 77ms\tremaining: 126ms\n",
            "38:\tlearn: 0.4568710\ttotal: 78.9ms\tremaining: 123ms\n",
            "39:\tlearn: 0.4537602\ttotal: 80.7ms\tremaining: 121ms\n",
            "40:\tlearn: 0.4507805\ttotal: 82.6ms\tremaining: 119ms\n",
            "41:\tlearn: 0.4480480\ttotal: 84.4ms\tremaining: 117ms\n",
            "42:\tlearn: 0.4447385\ttotal: 86.1ms\tremaining: 114ms\n",
            "43:\tlearn: 0.4420827\ttotal: 88.1ms\tremaining: 112ms\n",
            "44:\tlearn: 0.4396754\ttotal: 89.9ms\tremaining: 110ms\n",
            "45:\tlearn: 0.4375124\ttotal: 91.7ms\tremaining: 108ms\n",
            "46:\tlearn: 0.4357609\ttotal: 93.6ms\tremaining: 106ms\n",
            "47:\tlearn: 0.4332482\ttotal: 95.4ms\tremaining: 103ms\n",
            "48:\tlearn: 0.4309144\ttotal: 97.1ms\tremaining: 101ms\n",
            "49:\tlearn: 0.4283171\ttotal: 98.6ms\tremaining: 98.6ms\n",
            "50:\tlearn: 0.4261616\ttotal: 100ms\tremaining: 96.5ms\n",
            "51:\tlearn: 0.4243951\ttotal: 102ms\tremaining: 94.3ms\n",
            "52:\tlearn: 0.4225267\ttotal: 104ms\tremaining: 92.3ms\n",
            "53:\tlearn: 0.4207313\ttotal: 106ms\tremaining: 90.2ms\n",
            "54:\tlearn: 0.4190514\ttotal: 108ms\tremaining: 88.1ms\n",
            "55:\tlearn: 0.4169288\ttotal: 109ms\tremaining: 86ms\n",
            "56:\tlearn: 0.4148470\ttotal: 111ms\tremaining: 83.9ms\n",
            "57:\tlearn: 0.4131708\ttotal: 113ms\tremaining: 81.9ms\n",
            "58:\tlearn: 0.4108891\ttotal: 115ms\tremaining: 80.2ms\n",
            "59:\tlearn: 0.4090764\ttotal: 117ms\tremaining: 78.3ms\n",
            "60:\tlearn: 0.4077077\ttotal: 119ms\tremaining: 76.2ms\n",
            "61:\tlearn: 0.4053478\ttotal: 121ms\tremaining: 74.3ms\n",
            "62:\tlearn: 0.4038563\ttotal: 123ms\tremaining: 72.2ms\n",
            "63:\tlearn: 0.4014248\ttotal: 125ms\tremaining: 70.3ms\n",
            "64:\tlearn: 0.3994225\ttotal: 128ms\tremaining: 69.1ms\n",
            "65:\tlearn: 0.3972597\ttotal: 131ms\tremaining: 67.5ms\n",
            "66:\tlearn: 0.3957056\ttotal: 135ms\tremaining: 66.3ms\n",
            "67:\tlearn: 0.3938797\ttotal: 138ms\tremaining: 65.1ms\n",
            "68:\tlearn: 0.3919937\ttotal: 142ms\tremaining: 63.6ms\n",
            "69:\tlearn: 0.3902185\ttotal: 145ms\tremaining: 62.3ms\n",
            "70:\tlearn: 0.3884087\ttotal: 147ms\tremaining: 60.1ms\n",
            "71:\tlearn: 0.3868935\ttotal: 149ms\tremaining: 58ms\n",
            "72:\tlearn: 0.3847618\ttotal: 151ms\tremaining: 55.8ms\n",
            "73:\tlearn: 0.3832747\ttotal: 153ms\tremaining: 53.6ms\n",
            "74:\tlearn: 0.3814417\ttotal: 154ms\tremaining: 51.5ms\n",
            "75:\tlearn: 0.3798350\ttotal: 156ms\tremaining: 49.4ms\n",
            "76:\tlearn: 0.3788100\ttotal: 158ms\tremaining: 47.2ms\n",
            "77:\tlearn: 0.3770554\ttotal: 160ms\tremaining: 45.1ms\n",
            "78:\tlearn: 0.3746041\ttotal: 162ms\tremaining: 43ms\n",
            "79:\tlearn: 0.3735439\ttotal: 164ms\tremaining: 40.9ms\n",
            "80:\tlearn: 0.3721363\ttotal: 166ms\tremaining: 38.8ms\n",
            "81:\tlearn: 0.3705403\ttotal: 167ms\tremaining: 36.7ms\n",
            "82:\tlearn: 0.3694022\ttotal: 169ms\tremaining: 34.6ms\n",
            "83:\tlearn: 0.3681866\ttotal: 171ms\tremaining: 32.6ms\n",
            "84:\tlearn: 0.3671114\ttotal: 173ms\tremaining: 30.5ms\n",
            "85:\tlearn: 0.3651164\ttotal: 175ms\tremaining: 28.4ms\n",
            "86:\tlearn: 0.3640651\ttotal: 176ms\tremaining: 26.4ms\n",
            "87:\tlearn: 0.3623559\ttotal: 178ms\tremaining: 24.3ms\n",
            "88:\tlearn: 0.3605395\ttotal: 180ms\tremaining: 22.2ms\n",
            "89:\tlearn: 0.3594995\ttotal: 182ms\tremaining: 20.2ms\n",
            "90:\tlearn: 0.3581646\ttotal: 184ms\tremaining: 18.2ms\n",
            "91:\tlearn: 0.3567745\ttotal: 185ms\tremaining: 16.1ms\n",
            "92:\tlearn: 0.3555293\ttotal: 187ms\tremaining: 14.1ms\n",
            "93:\tlearn: 0.3538895\ttotal: 189ms\tremaining: 12.1ms\n",
            "94:\tlearn: 0.3525633\ttotal: 191ms\tremaining: 10.1ms\n",
            "95:\tlearn: 0.3514699\ttotal: 193ms\tremaining: 8.04ms\n",
            "96:\tlearn: 0.3503579\ttotal: 195ms\tremaining: 6.02ms\n",
            "97:\tlearn: 0.3491507\ttotal: 198ms\tremaining: 4.04ms\n",
            "98:\tlearn: 0.3469141\ttotal: 201ms\tremaining: 2.03ms\n",
            "99:\tlearn: 0.3450438\ttotal: 202ms\tremaining: 0us\n",
            "[CV] END ............................depth=7, iterations=100; total time=   0.3s\n",
            "Learning rate set to 0.056551\n",
            "0:\tlearn: 0.6786668\ttotal: 2.86ms\tremaining: 284ms\n",
            "1:\tlearn: 0.6669993\ttotal: 4.85ms\tremaining: 238ms\n",
            "2:\tlearn: 0.6559781\ttotal: 6.72ms\tremaining: 217ms\n",
            "3:\tlearn: 0.6436804\ttotal: 8.6ms\tremaining: 206ms\n",
            "4:\tlearn: 0.6311584\ttotal: 10.4ms\tremaining: 198ms\n",
            "5:\tlearn: 0.6206648\ttotal: 12.2ms\tremaining: 192ms\n",
            "6:\tlearn: 0.6103458\ttotal: 14.1ms\tremaining: 188ms\n",
            "7:\tlearn: 0.6003462\ttotal: 16ms\tremaining: 184ms\n",
            "8:\tlearn: 0.5903555\ttotal: 18.2ms\tremaining: 184ms\n",
            "9:\tlearn: 0.5820067\ttotal: 20.5ms\tremaining: 184ms\n",
            "10:\tlearn: 0.5731662\ttotal: 22.3ms\tremaining: 180ms\n",
            "11:\tlearn: 0.5645669\ttotal: 24.1ms\tremaining: 177ms\n",
            "12:\tlearn: 0.5574002\ttotal: 25.9ms\tremaining: 173ms\n",
            "13:\tlearn: 0.5489559\ttotal: 27.6ms\tremaining: 170ms\n",
            "14:\tlearn: 0.5420330\ttotal: 29.4ms\tremaining: 166ms\n",
            "15:\tlearn: 0.5354244\ttotal: 31.2ms\tremaining: 164ms\n",
            "16:\tlearn: 0.5290197\ttotal: 32.9ms\tremaining: 161ms\n",
            "17:\tlearn: 0.5227226\ttotal: 34.9ms\tremaining: 159ms\n",
            "18:\tlearn: 0.5170791\ttotal: 36.8ms\tremaining: 157ms\n",
            "19:\tlearn: 0.5115781\ttotal: 38.6ms\tremaining: 154ms\n",
            "20:\tlearn: 0.5060294\ttotal: 40.5ms\tremaining: 152ms\n",
            "21:\tlearn: 0.5010889\ttotal: 43.4ms\tremaining: 154ms\n",
            "22:\tlearn: 0.4968708\ttotal: 46.6ms\tremaining: 156ms\n",
            "23:\tlearn: 0.4917017\ttotal: 47.8ms\tremaining: 151ms\n",
            "24:\tlearn: 0.4862166\ttotal: 49.6ms\tremaining: 149ms\n",
            "25:\tlearn: 0.4824731\ttotal: 51.4ms\tremaining: 146ms\n",
            "26:\tlearn: 0.4787351\ttotal: 53.3ms\tremaining: 144ms\n",
            "27:\tlearn: 0.4744971\ttotal: 55.1ms\tremaining: 142ms\n",
            "28:\tlearn: 0.4704158\ttotal: 56.9ms\tremaining: 139ms\n",
            "29:\tlearn: 0.4667673\ttotal: 58.9ms\tremaining: 137ms\n",
            "30:\tlearn: 0.4631187\ttotal: 60.7ms\tremaining: 135ms\n",
            "31:\tlearn: 0.4593313\ttotal: 62.5ms\tremaining: 133ms\n",
            "32:\tlearn: 0.4563871\ttotal: 64.3ms\tremaining: 131ms\n",
            "33:\tlearn: 0.4530502\ttotal: 66.1ms\tremaining: 128ms\n",
            "34:\tlearn: 0.4497481\ttotal: 67.9ms\tremaining: 126ms\n",
            "35:\tlearn: 0.4467229\ttotal: 69.7ms\tremaining: 124ms\n",
            "36:\tlearn: 0.4440354\ttotal: 71.4ms\tremaining: 122ms\n",
            "37:\tlearn: 0.4420008\ttotal: 72.4ms\tremaining: 118ms\n",
            "38:\tlearn: 0.4390840\ttotal: 74.2ms\tremaining: 116ms\n",
            "39:\tlearn: 0.4348803\ttotal: 76ms\tremaining: 114ms\n",
            "40:\tlearn: 0.4325786\ttotal: 77.8ms\tremaining: 112ms\n",
            "41:\tlearn: 0.4294378\ttotal: 79.6ms\tremaining: 110ms\n",
            "42:\tlearn: 0.4264528\ttotal: 83.4ms\tremaining: 111ms\n",
            "43:\tlearn: 0.4236415\ttotal: 87.1ms\tremaining: 111ms\n",
            "44:\tlearn: 0.4204834\ttotal: 90.3ms\tremaining: 110ms\n",
            "45:\tlearn: 0.4177281\ttotal: 92.8ms\tremaining: 109ms\n",
            "46:\tlearn: 0.4154064\ttotal: 94.3ms\tremaining: 106ms\n",
            "47:\tlearn: 0.4123646\ttotal: 96.3ms\tremaining: 104ms\n",
            "48:\tlearn: 0.4107358\ttotal: 98.1ms\tremaining: 102ms\n",
            "49:\tlearn: 0.4086355\ttotal: 100ms\tremaining: 100ms\n",
            "50:\tlearn: 0.4059124\ttotal: 102ms\tremaining: 97.9ms\n",
            "51:\tlearn: 0.4036752\ttotal: 104ms\tremaining: 95.9ms\n",
            "52:\tlearn: 0.4018179\ttotal: 106ms\tremaining: 93.7ms\n",
            "53:\tlearn: 0.3993657\ttotal: 108ms\tremaining: 92.3ms\n",
            "54:\tlearn: 0.3968237\ttotal: 115ms\tremaining: 94.1ms\n",
            "55:\tlearn: 0.3947283\ttotal: 119ms\tremaining: 93.7ms\n",
            "56:\tlearn: 0.3932620\ttotal: 121ms\tremaining: 91.4ms\n",
            "57:\tlearn: 0.3917835\ttotal: 123ms\tremaining: 89.3ms\n",
            "58:\tlearn: 0.3900152\ttotal: 125ms\tremaining: 87.1ms\n",
            "59:\tlearn: 0.3878667\ttotal: 128ms\tremaining: 85.2ms\n",
            "60:\tlearn: 0.3864760\ttotal: 130ms\tremaining: 82.9ms\n",
            "61:\tlearn: 0.3849697\ttotal: 131ms\tremaining: 80.6ms\n",
            "62:\tlearn: 0.3824590\ttotal: 133ms\tremaining: 78.3ms\n",
            "63:\tlearn: 0.3812617\ttotal: 136ms\tremaining: 76.2ms\n",
            "64:\tlearn: 0.3790975\ttotal: 137ms\tremaining: 74ms\n",
            "65:\tlearn: 0.3772631\ttotal: 139ms\tremaining: 71.8ms\n",
            "66:\tlearn: 0.3755128\ttotal: 141ms\tremaining: 69.5ms\n",
            "67:\tlearn: 0.3739549\ttotal: 143ms\tremaining: 67.3ms\n",
            "68:\tlearn: 0.3725119\ttotal: 145ms\tremaining: 64.9ms\n",
            "69:\tlearn: 0.3706886\ttotal: 146ms\tremaining: 62.7ms\n",
            "70:\tlearn: 0.3690686\ttotal: 148ms\tremaining: 60.5ms\n",
            "71:\tlearn: 0.3675030\ttotal: 150ms\tremaining: 58.3ms\n",
            "72:\tlearn: 0.3659136\ttotal: 152ms\tremaining: 56.2ms\n",
            "73:\tlearn: 0.3632220\ttotal: 154ms\tremaining: 54ms\n",
            "74:\tlearn: 0.3614222\ttotal: 155ms\tremaining: 51.8ms\n",
            "75:\tlearn: 0.3598611\ttotal: 157ms\tremaining: 49.7ms\n",
            "76:\tlearn: 0.3582653\ttotal: 159ms\tremaining: 47.5ms\n",
            "77:\tlearn: 0.3568423\ttotal: 161ms\tremaining: 45.4ms\n",
            "78:\tlearn: 0.3553403\ttotal: 163ms\tremaining: 43.2ms\n",
            "79:\tlearn: 0.3538032\ttotal: 164ms\tremaining: 41.1ms\n",
            "80:\tlearn: 0.3522494\ttotal: 166ms\tremaining: 39ms\n",
            "81:\tlearn: 0.3511437\ttotal: 168ms\tremaining: 36.9ms\n",
            "82:\tlearn: 0.3496603\ttotal: 170ms\tremaining: 34.8ms\n",
            "83:\tlearn: 0.3480940\ttotal: 172ms\tremaining: 32.7ms\n",
            "84:\tlearn: 0.3462666\ttotal: 174ms\tremaining: 30.6ms\n",
            "85:\tlearn: 0.3450266\ttotal: 175ms\tremaining: 28.6ms\n",
            "86:\tlearn: 0.3438127\ttotal: 177ms\tremaining: 26.5ms\n",
            "87:\tlearn: 0.3423351\ttotal: 179ms\tremaining: 24.4ms\n",
            "88:\tlearn: 0.3412111\ttotal: 181ms\tremaining: 22.4ms\n",
            "89:\tlearn: 0.3399078\ttotal: 183ms\tremaining: 20.3ms\n",
            "90:\tlearn: 0.3389780\ttotal: 185ms\tremaining: 18.3ms\n",
            "91:\tlearn: 0.3377712\ttotal: 187ms\tremaining: 16.2ms\n",
            "92:\tlearn: 0.3365375\ttotal: 189ms\tremaining: 14.2ms\n",
            "93:\tlearn: 0.3351769\ttotal: 190ms\tremaining: 12.1ms\n",
            "94:\tlearn: 0.3338792\ttotal: 192ms\tremaining: 10.1ms\n",
            "95:\tlearn: 0.3325766\ttotal: 194ms\tremaining: 8.08ms\n",
            "96:\tlearn: 0.3309776\ttotal: 196ms\tremaining: 6.05ms\n",
            "97:\tlearn: 0.3302607\ttotal: 198ms\tremaining: 4.03ms\n",
            "98:\tlearn: 0.3290853\ttotal: 199ms\tremaining: 2.01ms\n",
            "99:\tlearn: 0.3280032\ttotal: 201ms\tremaining: 0us\n",
            "[CV] END ............................depth=7, iterations=100; total time=   0.2s\n",
            "Learning rate set to 0.056551\n",
            "0:\tlearn: 0.6787934\ttotal: 2.06ms\tremaining: 204ms\n",
            "1:\tlearn: 0.6666450\ttotal: 4.05ms\tremaining: 199ms\n",
            "2:\tlearn: 0.6542511\ttotal: 5.97ms\tremaining: 193ms\n",
            "3:\tlearn: 0.6416357\ttotal: 7.74ms\tremaining: 186ms\n",
            "4:\tlearn: 0.6301430\ttotal: 9.63ms\tremaining: 183ms\n",
            "5:\tlearn: 0.6203705\ttotal: 11.5ms\tremaining: 180ms\n",
            "6:\tlearn: 0.6120345\ttotal: 13.4ms\tremaining: 178ms\n",
            "7:\tlearn: 0.6037498\ttotal: 15.6ms\tremaining: 180ms\n",
            "8:\tlearn: 0.5950150\ttotal: 17.5ms\tremaining: 177ms\n",
            "9:\tlearn: 0.5853639\ttotal: 19.7ms\tremaining: 177ms\n",
            "10:\tlearn: 0.5760091\ttotal: 21.5ms\tremaining: 174ms\n",
            "11:\tlearn: 0.5665494\ttotal: 23.4ms\tremaining: 172ms\n",
            "12:\tlearn: 0.5590348\ttotal: 25.3ms\tremaining: 169ms\n",
            "13:\tlearn: 0.5524542\ttotal: 27.1ms\tremaining: 166ms\n",
            "14:\tlearn: 0.5454665\ttotal: 29ms\tremaining: 164ms\n",
            "15:\tlearn: 0.5388606\ttotal: 30.9ms\tremaining: 162ms\n",
            "16:\tlearn: 0.5335853\ttotal: 32.7ms\tremaining: 160ms\n",
            "17:\tlearn: 0.5279833\ttotal: 34.6ms\tremaining: 158ms\n",
            "18:\tlearn: 0.5217079\ttotal: 36.4ms\tremaining: 155ms\n",
            "19:\tlearn: 0.5169285\ttotal: 38.2ms\tremaining: 153ms\n",
            "20:\tlearn: 0.5114293\ttotal: 40.3ms\tremaining: 152ms\n",
            "21:\tlearn: 0.5074078\ttotal: 43.5ms\tremaining: 154ms\n",
            "22:\tlearn: 0.5026257\ttotal: 46.9ms\tremaining: 157ms\n",
            "23:\tlearn: 0.4972333\ttotal: 50ms\tremaining: 158ms\n",
            "24:\tlearn: 0.4934042\ttotal: 53.3ms\tremaining: 160ms\n",
            "25:\tlearn: 0.4894469\ttotal: 55.9ms\tremaining: 159ms\n",
            "26:\tlearn: 0.4857213\ttotal: 57.5ms\tremaining: 156ms\n",
            "27:\tlearn: 0.4811723\ttotal: 59.4ms\tremaining: 153ms\n",
            "28:\tlearn: 0.4771512\ttotal: 61.4ms\tremaining: 150ms\n",
            "29:\tlearn: 0.4736410\ttotal: 63.2ms\tremaining: 147ms\n",
            "30:\tlearn: 0.4699620\ttotal: 65ms\tremaining: 145ms\n",
            "31:\tlearn: 0.4661899\ttotal: 66.8ms\tremaining: 142ms\n",
            "32:\tlearn: 0.4623873\ttotal: 68.7ms\tremaining: 139ms\n",
            "33:\tlearn: 0.4585512\ttotal: 70.5ms\tremaining: 137ms\n",
            "34:\tlearn: 0.4555102\ttotal: 72.3ms\tremaining: 134ms\n",
            "35:\tlearn: 0.4522899\ttotal: 74.2ms\tremaining: 132ms\n",
            "36:\tlearn: 0.4488393\ttotal: 76.1ms\tremaining: 130ms\n",
            "37:\tlearn: 0.4459121\ttotal: 78.2ms\tremaining: 128ms\n",
            "38:\tlearn: 0.4429926\ttotal: 80ms\tremaining: 125ms\n",
            "39:\tlearn: 0.4395700\ttotal: 81.8ms\tremaining: 123ms\n",
            "40:\tlearn: 0.4360641\ttotal: 83.6ms\tremaining: 120ms\n",
            "41:\tlearn: 0.4338201\ttotal: 87.4ms\tremaining: 121ms\n",
            "42:\tlearn: 0.4314296\ttotal: 89.3ms\tremaining: 118ms\n",
            "43:\tlearn: 0.4291151\ttotal: 91ms\tremaining: 116ms\n",
            "44:\tlearn: 0.4259741\ttotal: 93ms\tremaining: 114ms\n",
            "45:\tlearn: 0.4239593\ttotal: 95.1ms\tremaining: 112ms\n",
            "46:\tlearn: 0.4212663\ttotal: 98.6ms\tremaining: 111ms\n",
            "47:\tlearn: 0.4183575\ttotal: 100ms\tremaining: 109ms\n",
            "48:\tlearn: 0.4161539\ttotal: 102ms\tremaining: 107ms\n",
            "49:\tlearn: 0.4137053\ttotal: 104ms\tremaining: 104ms\n",
            "50:\tlearn: 0.4117598\ttotal: 106ms\tremaining: 101ms\n",
            "51:\tlearn: 0.4095906\ttotal: 107ms\tremaining: 99.1ms\n",
            "52:\tlearn: 0.4074206\ttotal: 109ms\tremaining: 96.8ms\n",
            "53:\tlearn: 0.4057798\ttotal: 111ms\tremaining: 94.6ms\n",
            "54:\tlearn: 0.4038216\ttotal: 113ms\tremaining: 92.3ms\n",
            "55:\tlearn: 0.4012663\ttotal: 115ms\tremaining: 90ms\n",
            "56:\tlearn: 0.3991799\ttotal: 117ms\tremaining: 87.9ms\n",
            "57:\tlearn: 0.3969057\ttotal: 118ms\tremaining: 85.7ms\n",
            "58:\tlearn: 0.3946781\ttotal: 120ms\tremaining: 83.5ms\n",
            "59:\tlearn: 0.3932293\ttotal: 122ms\tremaining: 81.3ms\n",
            "60:\tlearn: 0.3908694\ttotal: 124ms\tremaining: 79.1ms\n",
            "61:\tlearn: 0.3889840\ttotal: 127ms\tremaining: 77.7ms\n",
            "62:\tlearn: 0.3874657\ttotal: 129ms\tremaining: 75.5ms\n",
            "63:\tlearn: 0.3853126\ttotal: 131ms\tremaining: 73.5ms\n",
            "64:\tlearn: 0.3837380\ttotal: 132ms\tremaining: 71.3ms\n",
            "65:\tlearn: 0.3820221\ttotal: 135ms\tremaining: 69.3ms\n",
            "66:\tlearn: 0.3808328\ttotal: 136ms\tremaining: 67.2ms\n",
            "67:\tlearn: 0.3793434\ttotal: 140ms\tremaining: 66.1ms\n",
            "68:\tlearn: 0.3775788\ttotal: 142ms\tremaining: 63.9ms\n",
            "69:\tlearn: 0.3760740\ttotal: 144ms\tremaining: 61.7ms\n",
            "70:\tlearn: 0.3747901\ttotal: 146ms\tremaining: 59.7ms\n",
            "71:\tlearn: 0.3733611\ttotal: 148ms\tremaining: 57.5ms\n",
            "72:\tlearn: 0.3716359\ttotal: 150ms\tremaining: 55.4ms\n",
            "73:\tlearn: 0.3698080\ttotal: 151ms\tremaining: 53.2ms\n",
            "74:\tlearn: 0.3686155\ttotal: 153ms\tremaining: 51.1ms\n",
            "75:\tlearn: 0.3667956\ttotal: 155ms\tremaining: 49ms\n",
            "76:\tlearn: 0.3654996\ttotal: 157ms\tremaining: 46.8ms\n",
            "77:\tlearn: 0.3645681\ttotal: 159ms\tremaining: 44.7ms\n",
            "78:\tlearn: 0.3628199\ttotal: 161ms\tremaining: 42.7ms\n",
            "79:\tlearn: 0.3614507\ttotal: 162ms\tremaining: 40.6ms\n",
            "80:\tlearn: 0.3596385\ttotal: 164ms\tremaining: 38.5ms\n",
            "81:\tlearn: 0.3582647\ttotal: 166ms\tremaining: 36.4ms\n",
            "82:\tlearn: 0.3568618\ttotal: 168ms\tremaining: 34.3ms\n",
            "83:\tlearn: 0.3557395\ttotal: 169ms\tremaining: 32.2ms\n",
            "84:\tlearn: 0.3542943\ttotal: 171ms\tremaining: 30.1ms\n",
            "85:\tlearn: 0.3525639\ttotal: 172ms\tremaining: 28.1ms\n",
            "86:\tlearn: 0.3508108\ttotal: 174ms\tremaining: 26ms\n",
            "87:\tlearn: 0.3493108\ttotal: 176ms\tremaining: 24ms\n",
            "88:\tlearn: 0.3482248\ttotal: 178ms\tremaining: 22ms\n",
            "89:\tlearn: 0.3463639\ttotal: 179ms\tremaining: 19.9ms\n",
            "90:\tlearn: 0.3454002\ttotal: 181ms\tremaining: 17.9ms\n",
            "91:\tlearn: 0.3439067\ttotal: 183ms\tremaining: 15.9ms\n",
            "92:\tlearn: 0.3418998\ttotal: 186ms\tremaining: 14ms\n",
            "93:\tlearn: 0.3404967\ttotal: 188ms\tremaining: 12ms\n",
            "94:\tlearn: 0.3386868\ttotal: 189ms\tremaining: 9.97ms\n",
            "95:\tlearn: 0.3372614\ttotal: 191ms\tremaining: 7.96ms\n",
            "96:\tlearn: 0.3362053\ttotal: 193ms\tremaining: 5.96ms\n",
            "97:\tlearn: 0.3354193\ttotal: 194ms\tremaining: 3.97ms\n",
            "98:\tlearn: 0.3340683\ttotal: 196ms\tremaining: 1.98ms\n",
            "99:\tlearn: 0.3331150\ttotal: 198ms\tremaining: 0us\n",
            "[CV] END ............................depth=7, iterations=100; total time=   0.2s\n",
            "Learning rate set to 0.012927\n",
            "0:\tlearn: 0.6870236\ttotal: 2.22ms\tremaining: 1.11s\n",
            "1:\tlearn: 0.6811571\ttotal: 4.59ms\tremaining: 1.14s\n",
            "2:\tlearn: 0.6750379\ttotal: 7ms\tremaining: 1.16s\n",
            "3:\tlearn: 0.6674784\ttotal: 11.1ms\tremaining: 1.38s\n",
            "4:\tlearn: 0.6592582\ttotal: 13.6ms\tremaining: 1.35s\n",
            "5:\tlearn: 0.6528720\ttotal: 16ms\tremaining: 1.31s\n",
            "6:\tlearn: 0.6469213\ttotal: 20.9ms\tremaining: 1.47s\n",
            "7:\tlearn: 0.6420189\ttotal: 26.5ms\tremaining: 1.63s\n",
            "8:\tlearn: 0.6362740\ttotal: 29.9ms\tremaining: 1.63s\n",
            "9:\tlearn: 0.6299806\ttotal: 31.9ms\tremaining: 1.56s\n",
            "10:\tlearn: 0.6242150\ttotal: 34.2ms\tremaining: 1.52s\n",
            "11:\tlearn: 0.6181552\ttotal: 36.4ms\tremaining: 1.48s\n",
            "12:\tlearn: 0.6134284\ttotal: 38.7ms\tremaining: 1.45s\n",
            "13:\tlearn: 0.6091833\ttotal: 40.8ms\tremaining: 1.42s\n",
            "14:\tlearn: 0.6036911\ttotal: 43ms\tremaining: 1.39s\n",
            "15:\tlearn: 0.5978435\ttotal: 45.2ms\tremaining: 1.37s\n",
            "16:\tlearn: 0.5918401\ttotal: 47.4ms\tremaining: 1.35s\n",
            "17:\tlearn: 0.5862184\ttotal: 49.6ms\tremaining: 1.33s\n",
            "18:\tlearn: 0.5814170\ttotal: 51.8ms\tremaining: 1.31s\n",
            "19:\tlearn: 0.5774465\ttotal: 54ms\tremaining: 1.29s\n",
            "20:\tlearn: 0.5733509\ttotal: 56.4ms\tremaining: 1.28s\n",
            "21:\tlearn: 0.5685147\ttotal: 58.9ms\tremaining: 1.28s\n",
            "22:\tlearn: 0.5652655\ttotal: 60.2ms\tremaining: 1.25s\n",
            "23:\tlearn: 0.5615631\ttotal: 62.5ms\tremaining: 1.24s\n",
            "24:\tlearn: 0.5562687\ttotal: 64.6ms\tremaining: 1.23s\n",
            "25:\tlearn: 0.5524441\ttotal: 66.8ms\tremaining: 1.22s\n",
            "26:\tlearn: 0.5489102\ttotal: 69ms\tremaining: 1.21s\n",
            "27:\tlearn: 0.5456226\ttotal: 71.2ms\tremaining: 1.2s\n",
            "28:\tlearn: 0.5417756\ttotal: 73.4ms\tremaining: 1.19s\n",
            "29:\tlearn: 0.5382112\ttotal: 75.9ms\tremaining: 1.19s\n",
            "30:\tlearn: 0.5343414\ttotal: 78.1ms\tremaining: 1.18s\n",
            "31:\tlearn: 0.5308154\ttotal: 80.4ms\tremaining: 1.18s\n",
            "32:\tlearn: 0.5274859\ttotal: 82.6ms\tremaining: 1.17s\n",
            "33:\tlearn: 0.5239079\ttotal: 84.7ms\tremaining: 1.16s\n",
            "34:\tlearn: 0.5202374\ttotal: 86.9ms\tremaining: 1.15s\n",
            "35:\tlearn: 0.5164206\ttotal: 89.3ms\tremaining: 1.15s\n",
            "36:\tlearn: 0.5128303\ttotal: 91.5ms\tremaining: 1.15s\n",
            "37:\tlearn: 0.5111171\ttotal: 93.7ms\tremaining: 1.14s\n",
            "38:\tlearn: 0.5082984\ttotal: 96ms\tremaining: 1.14s\n",
            "39:\tlearn: 0.5063180\ttotal: 98.6ms\tremaining: 1.13s\n",
            "40:\tlearn: 0.5030822\ttotal: 101ms\tremaining: 1.13s\n",
            "41:\tlearn: 0.5007895\ttotal: 103ms\tremaining: 1.13s\n",
            "42:\tlearn: 0.4977112\ttotal: 106ms\tremaining: 1.12s\n",
            "43:\tlearn: 0.4947539\ttotal: 108ms\tremaining: 1.12s\n",
            "44:\tlearn: 0.4921927\ttotal: 110ms\tremaining: 1.11s\n",
            "45:\tlearn: 0.4889922\ttotal: 112ms\tremaining: 1.11s\n",
            "46:\tlearn: 0.4857421\ttotal: 115ms\tremaining: 1.11s\n",
            "47:\tlearn: 0.4827781\ttotal: 119ms\tremaining: 1.12s\n",
            "48:\tlearn: 0.4802342\ttotal: 125ms\tremaining: 1.15s\n",
            "49:\tlearn: 0.4773612\ttotal: 129ms\tremaining: 1.16s\n",
            "50:\tlearn: 0.4747943\ttotal: 131ms\tremaining: 1.15s\n",
            "51:\tlearn: 0.4716527\ttotal: 133ms\tremaining: 1.15s\n",
            "52:\tlearn: 0.4686264\ttotal: 135ms\tremaining: 1.14s\n",
            "53:\tlearn: 0.4668916\ttotal: 138ms\tremaining: 1.14s\n",
            "54:\tlearn: 0.4648835\ttotal: 140ms\tremaining: 1.13s\n",
            "55:\tlearn: 0.4620679\ttotal: 142ms\tremaining: 1.12s\n",
            "56:\tlearn: 0.4595964\ttotal: 144ms\tremaining: 1.12s\n",
            "57:\tlearn: 0.4568300\ttotal: 146ms\tremaining: 1.11s\n",
            "58:\tlearn: 0.4542114\ttotal: 148ms\tremaining: 1.11s\n",
            "59:\tlearn: 0.4516685\ttotal: 151ms\tremaining: 1.1s\n",
            "60:\tlearn: 0.4496544\ttotal: 153ms\tremaining: 1.1s\n",
            "61:\tlearn: 0.4480347\ttotal: 155ms\tremaining: 1.09s\n",
            "62:\tlearn: 0.4456163\ttotal: 157ms\tremaining: 1.09s\n",
            "63:\tlearn: 0.4440109\ttotal: 159ms\tremaining: 1.08s\n",
            "64:\tlearn: 0.4412991\ttotal: 161ms\tremaining: 1.08s\n",
            "65:\tlearn: 0.4397661\ttotal: 163ms\tremaining: 1.07s\n",
            "66:\tlearn: 0.4367166\ttotal: 165ms\tremaining: 1.06s\n",
            "67:\tlearn: 0.4349193\ttotal: 167ms\tremaining: 1.06s\n",
            "68:\tlearn: 0.4331686\ttotal: 169ms\tremaining: 1.06s\n",
            "69:\tlearn: 0.4314638\ttotal: 171ms\tremaining: 1.05s\n",
            "70:\tlearn: 0.4293685\ttotal: 173ms\tremaining: 1.05s\n",
            "71:\tlearn: 0.4273098\ttotal: 175ms\tremaining: 1.04s\n",
            "72:\tlearn: 0.4259502\ttotal: 178ms\tremaining: 1.04s\n",
            "73:\tlearn: 0.4243195\ttotal: 180ms\tremaining: 1.03s\n",
            "74:\tlearn: 0.4224257\ttotal: 182ms\tremaining: 1.03s\n",
            "75:\tlearn: 0.4202822\ttotal: 184ms\tremaining: 1.03s\n",
            "76:\tlearn: 0.4178286\ttotal: 186ms\tremaining: 1.02s\n",
            "77:\tlearn: 0.4153065\ttotal: 189ms\tremaining: 1.02s\n",
            "78:\tlearn: 0.4131099\ttotal: 191ms\tremaining: 1.02s\n",
            "79:\tlearn: 0.4112442\ttotal: 193ms\tremaining: 1.01s\n",
            "80:\tlearn: 0.4094422\ttotal: 195ms\tremaining: 1.01s\n",
            "81:\tlearn: 0.4073604\ttotal: 197ms\tremaining: 1s\n",
            "82:\tlearn: 0.4054943\ttotal: 199ms\tremaining: 1s\n",
            "83:\tlearn: 0.4034006\ttotal: 202ms\tremaining: 998ms\n",
            "84:\tlearn: 0.4018044\ttotal: 204ms\tremaining: 995ms\n",
            "85:\tlearn: 0.3998296\ttotal: 206ms\tremaining: 991ms\n",
            "86:\tlearn: 0.3982681\ttotal: 208ms\tremaining: 988ms\n",
            "87:\tlearn: 0.3963976\ttotal: 213ms\tremaining: 996ms\n",
            "88:\tlearn: 0.3951401\ttotal: 218ms\tremaining: 1.01s\n",
            "89:\tlearn: 0.3934093\ttotal: 222ms\tremaining: 1.01s\n",
            "90:\tlearn: 0.3912407\ttotal: 227ms\tremaining: 1.02s\n",
            "91:\tlearn: 0.3893634\ttotal: 230ms\tremaining: 1.02s\n",
            "92:\tlearn: 0.3879457\ttotal: 232ms\tremaining: 1.01s\n",
            "93:\tlearn: 0.3862438\ttotal: 234ms\tremaining: 1.01s\n",
            "94:\tlearn: 0.3843009\ttotal: 237ms\tremaining: 1.01s\n",
            "95:\tlearn: 0.3830111\ttotal: 239ms\tremaining: 1s\n",
            "96:\tlearn: 0.3814511\ttotal: 241ms\tremaining: 1s\n",
            "97:\tlearn: 0.3803127\ttotal: 244ms\tremaining: 999ms\n",
            "98:\tlearn: 0.3791870\ttotal: 246ms\tremaining: 995ms\n",
            "99:\tlearn: 0.3771148\ttotal: 248ms\tremaining: 992ms\n",
            "100:\tlearn: 0.3756872\ttotal: 251ms\tremaining: 990ms\n",
            "101:\tlearn: 0.3745647\ttotal: 253ms\tremaining: 986ms\n",
            "102:\tlearn: 0.3724814\ttotal: 255ms\tremaining: 983ms\n",
            "103:\tlearn: 0.3714978\ttotal: 257ms\tremaining: 979ms\n",
            "104:\tlearn: 0.3703890\ttotal: 259ms\tremaining: 975ms\n",
            "105:\tlearn: 0.3694772\ttotal: 262ms\tremaining: 972ms\n",
            "106:\tlearn: 0.3679937\ttotal: 264ms\tremaining: 968ms\n",
            "107:\tlearn: 0.3660005\ttotal: 266ms\tremaining: 966ms\n",
            "108:\tlearn: 0.3644463\ttotal: 268ms\tremaining: 963ms\n",
            "109:\tlearn: 0.3627885\ttotal: 271ms\tremaining: 960ms\n",
            "110:\tlearn: 0.3608211\ttotal: 273ms\tremaining: 958ms\n",
            "111:\tlearn: 0.3592223\ttotal: 276ms\tremaining: 955ms\n",
            "112:\tlearn: 0.3578833\ttotal: 280ms\tremaining: 958ms\n",
            "113:\tlearn: 0.3566217\ttotal: 282ms\tremaining: 955ms\n",
            "114:\tlearn: 0.3554062\ttotal: 284ms\tremaining: 952ms\n",
            "115:\tlearn: 0.3541272\ttotal: 287ms\tremaining: 949ms\n",
            "116:\tlearn: 0.3528689\ttotal: 289ms\tremaining: 945ms\n",
            "117:\tlearn: 0.3520297\ttotal: 291ms\tremaining: 942ms\n",
            "118:\tlearn: 0.3510633\ttotal: 293ms\tremaining: 938ms\n",
            "119:\tlearn: 0.3495367\ttotal: 295ms\tremaining: 935ms\n",
            "120:\tlearn: 0.3481096\ttotal: 297ms\tremaining: 932ms\n",
            "121:\tlearn: 0.3468301\ttotal: 300ms\tremaining: 929ms\n",
            "122:\tlearn: 0.3454705\ttotal: 302ms\tremaining: 925ms\n",
            "123:\tlearn: 0.3444183\ttotal: 304ms\tremaining: 923ms\n",
            "124:\tlearn: 0.3436315\ttotal: 307ms\tremaining: 920ms\n",
            "125:\tlearn: 0.3425051\ttotal: 309ms\tremaining: 917ms\n",
            "126:\tlearn: 0.3412910\ttotal: 311ms\tremaining: 913ms\n",
            "127:\tlearn: 0.3402386\ttotal: 313ms\tremaining: 910ms\n",
            "128:\tlearn: 0.3394375\ttotal: 315ms\tremaining: 907ms\n",
            "129:\tlearn: 0.3382450\ttotal: 318ms\tremaining: 904ms\n",
            "130:\tlearn: 0.3369857\ttotal: 320ms\tremaining: 901ms\n",
            "131:\tlearn: 0.3363016\ttotal: 322ms\tremaining: 898ms\n",
            "132:\tlearn: 0.3356799\ttotal: 324ms\tremaining: 895ms\n",
            "133:\tlearn: 0.3344694\ttotal: 327ms\tremaining: 892ms\n",
            "134:\tlearn: 0.3336496\ttotal: 329ms\tremaining: 889ms\n",
            "135:\tlearn: 0.3328851\ttotal: 331ms\tremaining: 885ms\n",
            "136:\tlearn: 0.3321205\ttotal: 333ms\tremaining: 882ms\n",
            "137:\tlearn: 0.3312349\ttotal: 335ms\tremaining: 879ms\n",
            "138:\tlearn: 0.3302794\ttotal: 337ms\tremaining: 876ms\n",
            "139:\tlearn: 0.3292041\ttotal: 340ms\tremaining: 873ms\n",
            "140:\tlearn: 0.3278797\ttotal: 342ms\tremaining: 870ms\n",
            "141:\tlearn: 0.3266811\ttotal: 344ms\tremaining: 867ms\n",
            "142:\tlearn: 0.3259189\ttotal: 346ms\tremaining: 863ms\n",
            "143:\tlearn: 0.3248676\ttotal: 348ms\tremaining: 860ms\n",
            "144:\tlearn: 0.3241669\ttotal: 350ms\tremaining: 857ms\n",
            "145:\tlearn: 0.3234818\ttotal: 352ms\tremaining: 854ms\n",
            "146:\tlearn: 0.3222983\ttotal: 355ms\tremaining: 851ms\n",
            "147:\tlearn: 0.3212672\ttotal: 357ms\tremaining: 848ms\n",
            "148:\tlearn: 0.3199740\ttotal: 359ms\tremaining: 846ms\n",
            "149:\tlearn: 0.3193152\ttotal: 361ms\tremaining: 843ms\n",
            "150:\tlearn: 0.3182497\ttotal: 363ms\tremaining: 840ms\n",
            "151:\tlearn: 0.3172475\ttotal: 365ms\tremaining: 837ms\n",
            "152:\tlearn: 0.3165997\ttotal: 368ms\tremaining: 835ms\n",
            "153:\tlearn: 0.3156798\ttotal: 370ms\tremaining: 832ms\n",
            "154:\tlearn: 0.3142978\ttotal: 372ms\tremaining: 829ms\n",
            "155:\tlearn: 0.3137645\ttotal: 374ms\tremaining: 826ms\n",
            "156:\tlearn: 0.3130719\ttotal: 377ms\tremaining: 824ms\n",
            "157:\tlearn: 0.3121445\ttotal: 379ms\tremaining: 821ms\n",
            "158:\tlearn: 0.3110450\ttotal: 382ms\tremaining: 818ms\n",
            "159:\tlearn: 0.3104908\ttotal: 384ms\tremaining: 816ms\n",
            "160:\tlearn: 0.3099676\ttotal: 386ms\tremaining: 814ms\n",
            "161:\tlearn: 0.3091186\ttotal: 389ms\tremaining: 811ms\n",
            "162:\tlearn: 0.3079774\ttotal: 391ms\tremaining: 808ms\n",
            "163:\tlearn: 0.3071610\ttotal: 393ms\tremaining: 806ms\n",
            "164:\tlearn: 0.3060270\ttotal: 395ms\tremaining: 803ms\n",
            "165:\tlearn: 0.3048512\ttotal: 398ms\tremaining: 800ms\n",
            "166:\tlearn: 0.3039591\ttotal: 400ms\tremaining: 797ms\n",
            "167:\tlearn: 0.3033926\ttotal: 402ms\tremaining: 794ms\n",
            "168:\tlearn: 0.3023837\ttotal: 407ms\tremaining: 796ms\n",
            "169:\tlearn: 0.3007268\ttotal: 410ms\tremaining: 796ms\n",
            "170:\tlearn: 0.2999995\ttotal: 414ms\tremaining: 797ms\n",
            "171:\tlearn: 0.2997015\ttotal: 417ms\tremaining: 794ms\n",
            "172:\tlearn: 0.2990531\ttotal: 419ms\tremaining: 792ms\n",
            "173:\tlearn: 0.2983533\ttotal: 421ms\tremaining: 789ms\n",
            "174:\tlearn: 0.2977641\ttotal: 424ms\tremaining: 787ms\n",
            "175:\tlearn: 0.2973412\ttotal: 427ms\tremaining: 787ms\n",
            "176:\tlearn: 0.2967428\ttotal: 430ms\tremaining: 785ms\n",
            "177:\tlearn: 0.2961674\ttotal: 432ms\tremaining: 782ms\n",
            "178:\tlearn: 0.2952142\ttotal: 434ms\tremaining: 779ms\n",
            "179:\tlearn: 0.2946412\ttotal: 437ms\tremaining: 776ms\n",
            "180:\tlearn: 0.2938555\ttotal: 439ms\tremaining: 773ms\n",
            "181:\tlearn: 0.2931081\ttotal: 442ms\tremaining: 772ms\n",
            "182:\tlearn: 0.2925247\ttotal: 446ms\tremaining: 773ms\n",
            "183:\tlearn: 0.2918604\ttotal: 448ms\tremaining: 770ms\n",
            "184:\tlearn: 0.2909373\ttotal: 451ms\tremaining: 767ms\n",
            "185:\tlearn: 0.2904047\ttotal: 453ms\tremaining: 765ms\n",
            "186:\tlearn: 0.2896001\ttotal: 457ms\tremaining: 765ms\n",
            "187:\tlearn: 0.2883139\ttotal: 459ms\tremaining: 762ms\n",
            "188:\tlearn: 0.2875729\ttotal: 462ms\tremaining: 760ms\n",
            "189:\tlearn: 0.2865244\ttotal: 464ms\tremaining: 757ms\n",
            "190:\tlearn: 0.2857777\ttotal: 466ms\tremaining: 754ms\n",
            "191:\tlearn: 0.2853450\ttotal: 469ms\tremaining: 752ms\n",
            "192:\tlearn: 0.2850756\ttotal: 471ms\tremaining: 749ms\n",
            "193:\tlearn: 0.2845906\ttotal: 473ms\tremaining: 747ms\n",
            "194:\tlearn: 0.2840448\ttotal: 478ms\tremaining: 747ms\n",
            "195:\tlearn: 0.2834236\ttotal: 481ms\tremaining: 746ms\n",
            "196:\tlearn: 0.2829890\ttotal: 484ms\tremaining: 745ms\n",
            "197:\tlearn: 0.2822188\ttotal: 487ms\tremaining: 743ms\n",
            "198:\tlearn: 0.2816274\ttotal: 490ms\tremaining: 740ms\n",
            "199:\tlearn: 0.2814205\ttotal: 492ms\tremaining: 738ms\n",
            "200:\tlearn: 0.2808947\ttotal: 496ms\tremaining: 738ms\n",
            "201:\tlearn: 0.2804238\ttotal: 500ms\tremaining: 737ms\n",
            "202:\tlearn: 0.2795649\ttotal: 504ms\tremaining: 737ms\n",
            "203:\tlearn: 0.2787673\ttotal: 506ms\tremaining: 735ms\n",
            "204:\tlearn: 0.2778888\ttotal: 509ms\tremaining: 732ms\n",
            "205:\tlearn: 0.2771365\ttotal: 511ms\tremaining: 730ms\n",
            "206:\tlearn: 0.2762269\ttotal: 514ms\tremaining: 727ms\n",
            "207:\tlearn: 0.2756345\ttotal: 516ms\tremaining: 724ms\n",
            "208:\tlearn: 0.2742866\ttotal: 518ms\tremaining: 721ms\n",
            "209:\tlearn: 0.2738291\ttotal: 520ms\tremaining: 718ms\n",
            "210:\tlearn: 0.2731386\ttotal: 522ms\tremaining: 715ms\n",
            "211:\tlearn: 0.2724918\ttotal: 524ms\tremaining: 713ms\n",
            "212:\tlearn: 0.2717787\ttotal: 527ms\tremaining: 710ms\n",
            "213:\tlearn: 0.2712487\ttotal: 529ms\tremaining: 707ms\n",
            "214:\tlearn: 0.2707236\ttotal: 531ms\tremaining: 704ms\n",
            "215:\tlearn: 0.2698938\ttotal: 533ms\tremaining: 701ms\n",
            "216:\tlearn: 0.2693341\ttotal: 535ms\tremaining: 698ms\n",
            "217:\tlearn: 0.2687982\ttotal: 538ms\tremaining: 695ms\n",
            "218:\tlearn: 0.2680367\ttotal: 540ms\tremaining: 692ms\n",
            "219:\tlearn: 0.2674259\ttotal: 542ms\tremaining: 690ms\n",
            "220:\tlearn: 0.2671211\ttotal: 544ms\tremaining: 687ms\n",
            "221:\tlearn: 0.2664616\ttotal: 546ms\tremaining: 684ms\n",
            "222:\tlearn: 0.2659948\ttotal: 549ms\tremaining: 681ms\n",
            "223:\tlearn: 0.2654303\ttotal: 551ms\tremaining: 679ms\n",
            "224:\tlearn: 0.2645042\ttotal: 553ms\tremaining: 676ms\n",
            "225:\tlearn: 0.2633431\ttotal: 555ms\tremaining: 673ms\n",
            "226:\tlearn: 0.2627098\ttotal: 557ms\tremaining: 670ms\n",
            "227:\tlearn: 0.2622417\ttotal: 559ms\tremaining: 667ms\n",
            "228:\tlearn: 0.2616562\ttotal: 561ms\tremaining: 664ms\n",
            "229:\tlearn: 0.2612012\ttotal: 563ms\tremaining: 661ms\n",
            "230:\tlearn: 0.2606775\ttotal: 565ms\tremaining: 658ms\n",
            "231:\tlearn: 0.2601986\ttotal: 568ms\tremaining: 656ms\n",
            "232:\tlearn: 0.2595316\ttotal: 570ms\tremaining: 653ms\n",
            "233:\tlearn: 0.2588902\ttotal: 572ms\tremaining: 650ms\n",
            "234:\tlearn: 0.2581933\ttotal: 574ms\tremaining: 647ms\n",
            "235:\tlearn: 0.2576580\ttotal: 576ms\tremaining: 645ms\n",
            "236:\tlearn: 0.2570095\ttotal: 578ms\tremaining: 642ms\n",
            "237:\tlearn: 0.2561711\ttotal: 581ms\tremaining: 639ms\n",
            "238:\tlearn: 0.2558694\ttotal: 583ms\tremaining: 636ms\n",
            "239:\tlearn: 0.2550296\ttotal: 585ms\tremaining: 634ms\n",
            "240:\tlearn: 0.2541662\ttotal: 587ms\tremaining: 631ms\n",
            "241:\tlearn: 0.2538638\ttotal: 589ms\tremaining: 628ms\n",
            "242:\tlearn: 0.2532650\ttotal: 591ms\tremaining: 626ms\n",
            "243:\tlearn: 0.2526014\ttotal: 594ms\tremaining: 623ms\n",
            "244:\tlearn: 0.2519420\ttotal: 596ms\tremaining: 620ms\n",
            "245:\tlearn: 0.2512338\ttotal: 598ms\tremaining: 618ms\n",
            "246:\tlearn: 0.2504945\ttotal: 602ms\tremaining: 617ms\n",
            "247:\tlearn: 0.2501121\ttotal: 606ms\tremaining: 616ms\n",
            "248:\tlearn: 0.2497722\ttotal: 609ms\tremaining: 614ms\n",
            "249:\tlearn: 0.2490851\ttotal: 612ms\tremaining: 612ms\n",
            "250:\tlearn: 0.2487689\ttotal: 616ms\tremaining: 611ms\n",
            "251:\tlearn: 0.2481695\ttotal: 619ms\tremaining: 610ms\n",
            "252:\tlearn: 0.2476383\ttotal: 621ms\tremaining: 607ms\n",
            "253:\tlearn: 0.2474271\ttotal: 623ms\tremaining: 604ms\n",
            "254:\tlearn: 0.2466456\ttotal: 625ms\tremaining: 601ms\n",
            "255:\tlearn: 0.2462128\ttotal: 628ms\tremaining: 598ms\n",
            "256:\tlearn: 0.2459532\ttotal: 630ms\tremaining: 596ms\n",
            "257:\tlearn: 0.2457501\ttotal: 632ms\tremaining: 593ms\n",
            "258:\tlearn: 0.2453303\ttotal: 634ms\tremaining: 590ms\n",
            "259:\tlearn: 0.2449897\ttotal: 637ms\tremaining: 588ms\n",
            "260:\tlearn: 0.2444714\ttotal: 639ms\tremaining: 585ms\n",
            "261:\tlearn: 0.2442823\ttotal: 641ms\tremaining: 582ms\n",
            "262:\tlearn: 0.2438460\ttotal: 643ms\tremaining: 580ms\n",
            "263:\tlearn: 0.2430900\ttotal: 645ms\tremaining: 577ms\n",
            "264:\tlearn: 0.2424723\ttotal: 647ms\tremaining: 574ms\n",
            "265:\tlearn: 0.2419290\ttotal: 650ms\tremaining: 571ms\n",
            "266:\tlearn: 0.2418206\ttotal: 652ms\tremaining: 569ms\n",
            "267:\tlearn: 0.2411146\ttotal: 654ms\tremaining: 566ms\n",
            "268:\tlearn: 0.2403942\ttotal: 656ms\tremaining: 564ms\n",
            "269:\tlearn: 0.2399534\ttotal: 659ms\tremaining: 561ms\n",
            "270:\tlearn: 0.2393490\ttotal: 661ms\tremaining: 558ms\n",
            "271:\tlearn: 0.2388405\ttotal: 663ms\tremaining: 556ms\n",
            "272:\tlearn: 0.2381552\ttotal: 665ms\tremaining: 553ms\n",
            "273:\tlearn: 0.2373221\ttotal: 667ms\tremaining: 550ms\n",
            "274:\tlearn: 0.2368931\ttotal: 669ms\tremaining: 548ms\n",
            "275:\tlearn: 0.2363038\ttotal: 673ms\tremaining: 546ms\n",
            "276:\tlearn: 0.2357768\ttotal: 676ms\tremaining: 545ms\n",
            "277:\tlearn: 0.2353193\ttotal: 679ms\tremaining: 542ms\n",
            "278:\tlearn: 0.2343362\ttotal: 682ms\tremaining: 540ms\n",
            "279:\tlearn: 0.2338063\ttotal: 684ms\tremaining: 538ms\n",
            "280:\tlearn: 0.2333571\ttotal: 686ms\tremaining: 535ms\n",
            "281:\tlearn: 0.2327017\ttotal: 689ms\tremaining: 532ms\n",
            "282:\tlearn: 0.2319595\ttotal: 691ms\tremaining: 530ms\n",
            "283:\tlearn: 0.2312975\ttotal: 693ms\tremaining: 527ms\n",
            "284:\tlearn: 0.2310067\ttotal: 695ms\tremaining: 525ms\n",
            "285:\tlearn: 0.2303006\ttotal: 698ms\tremaining: 522ms\n",
            "286:\tlearn: 0.2297571\ttotal: 700ms\tremaining: 520ms\n",
            "287:\tlearn: 0.2292717\ttotal: 703ms\tremaining: 517ms\n",
            "288:\tlearn: 0.2287468\ttotal: 705ms\tremaining: 515ms\n",
            "289:\tlearn: 0.2283771\ttotal: 709ms\tremaining: 514ms\n",
            "290:\tlearn: 0.2280840\ttotal: 713ms\tremaining: 512ms\n",
            "291:\tlearn: 0.2278241\ttotal: 716ms\tremaining: 510ms\n",
            "292:\tlearn: 0.2272491\ttotal: 719ms\tremaining: 508ms\n",
            "293:\tlearn: 0.2268897\ttotal: 724ms\tremaining: 507ms\n",
            "294:\tlearn: 0.2264176\ttotal: 730ms\tremaining: 507ms\n",
            "295:\tlearn: 0.2257526\ttotal: 735ms\tremaining: 506ms\n",
            "296:\tlearn: 0.2254134\ttotal: 737ms\tremaining: 504ms\n",
            "297:\tlearn: 0.2247510\ttotal: 739ms\tremaining: 501ms\n",
            "298:\tlearn: 0.2243695\ttotal: 742ms\tremaining: 498ms\n",
            "299:\tlearn: 0.2240686\ttotal: 744ms\tremaining: 496ms\n",
            "300:\tlearn: 0.2235315\ttotal: 747ms\tremaining: 494ms\n",
            "301:\tlearn: 0.2231426\ttotal: 751ms\tremaining: 493ms\n",
            "302:\tlearn: 0.2228516\ttotal: 755ms\tremaining: 491ms\n",
            "303:\tlearn: 0.2221097\ttotal: 759ms\tremaining: 489ms\n",
            "304:\tlearn: 0.2216903\ttotal: 762ms\tremaining: 487ms\n",
            "305:\tlearn: 0.2209784\ttotal: 764ms\tremaining: 484ms\n",
            "306:\tlearn: 0.2204372\ttotal: 766ms\tremaining: 482ms\n",
            "307:\tlearn: 0.2199529\ttotal: 769ms\tremaining: 480ms\n",
            "308:\tlearn: 0.2197374\ttotal: 772ms\tremaining: 477ms\n",
            "309:\tlearn: 0.2190252\ttotal: 774ms\tremaining: 475ms\n",
            "310:\tlearn: 0.2183665\ttotal: 777ms\tremaining: 472ms\n",
            "311:\tlearn: 0.2179888\ttotal: 779ms\tremaining: 469ms\n",
            "312:\tlearn: 0.2177868\ttotal: 781ms\tremaining: 467ms\n",
            "313:\tlearn: 0.2174994\ttotal: 783ms\tremaining: 464ms\n",
            "314:\tlearn: 0.2167554\ttotal: 791ms\tremaining: 465ms\n",
            "315:\tlearn: 0.2162923\ttotal: 793ms\tremaining: 462ms\n",
            "316:\tlearn: 0.2158552\ttotal: 796ms\tremaining: 459ms\n",
            "317:\tlearn: 0.2153764\ttotal: 800ms\tremaining: 458ms\n",
            "318:\tlearn: 0.2147896\ttotal: 805ms\tremaining: 457ms\n",
            "319:\tlearn: 0.2142995\ttotal: 811ms\tremaining: 456ms\n",
            "320:\tlearn: 0.2137641\ttotal: 815ms\tremaining: 455ms\n",
            "321:\tlearn: 0.2132984\ttotal: 821ms\tremaining: 454ms\n",
            "322:\tlearn: 0.2128589\ttotal: 824ms\tremaining: 452ms\n",
            "323:\tlearn: 0.2123624\ttotal: 827ms\tremaining: 449ms\n",
            "324:\tlearn: 0.2120180\ttotal: 831ms\tremaining: 447ms\n",
            "325:\tlearn: 0.2116545\ttotal: 834ms\tremaining: 445ms\n",
            "326:\tlearn: 0.2113430\ttotal: 839ms\tremaining: 444ms\n",
            "327:\tlearn: 0.2107371\ttotal: 842ms\tremaining: 442ms\n",
            "328:\tlearn: 0.2103535\ttotal: 845ms\tremaining: 439ms\n",
            "329:\tlearn: 0.2101602\ttotal: 848ms\tremaining: 437ms\n",
            "330:\tlearn: 0.2097069\ttotal: 850ms\tremaining: 434ms\n",
            "331:\tlearn: 0.2090048\ttotal: 853ms\tremaining: 432ms\n",
            "332:\tlearn: 0.2086858\ttotal: 855ms\tremaining: 429ms\n",
            "333:\tlearn: 0.2082908\ttotal: 858ms\tremaining: 426ms\n",
            "334:\tlearn: 0.2076335\ttotal: 861ms\tremaining: 424ms\n",
            "335:\tlearn: 0.2072598\ttotal: 867ms\tremaining: 423ms\n",
            "336:\tlearn: 0.2070679\ttotal: 871ms\tremaining: 421ms\n",
            "337:\tlearn: 0.2067307\ttotal: 874ms\tremaining: 419ms\n",
            "338:\tlearn: 0.2063689\ttotal: 877ms\tremaining: 417ms\n",
            "339:\tlearn: 0.2059466\ttotal: 879ms\tremaining: 414ms\n",
            "340:\tlearn: 0.2054270\ttotal: 881ms\tremaining: 411ms\n",
            "341:\tlearn: 0.2049299\ttotal: 884ms\tremaining: 408ms\n",
            "342:\tlearn: 0.2046117\ttotal: 886ms\tremaining: 406ms\n",
            "343:\tlearn: 0.2040229\ttotal: 888ms\tremaining: 403ms\n",
            "344:\tlearn: 0.2034571\ttotal: 891ms\tremaining: 400ms\n",
            "345:\tlearn: 0.2030065\ttotal: 894ms\tremaining: 398ms\n",
            "346:\tlearn: 0.2025217\ttotal: 896ms\tremaining: 395ms\n",
            "347:\tlearn: 0.2020743\ttotal: 899ms\tremaining: 393ms\n",
            "348:\tlearn: 0.2017086\ttotal: 901ms\tremaining: 390ms\n",
            "349:\tlearn: 0.2011227\ttotal: 903ms\tremaining: 387ms\n",
            "350:\tlearn: 0.2007579\ttotal: 906ms\tremaining: 384ms\n",
            "351:\tlearn: 0.2004340\ttotal: 908ms\tremaining: 382ms\n",
            "352:\tlearn: 0.2001168\ttotal: 910ms\tremaining: 379ms\n",
            "353:\tlearn: 0.1996461\ttotal: 913ms\tremaining: 377ms\n",
            "354:\tlearn: 0.1994195\ttotal: 917ms\tremaining: 374ms\n",
            "355:\tlearn: 0.1988091\ttotal: 925ms\tremaining: 374ms\n",
            "356:\tlearn: 0.1986164\ttotal: 928ms\tremaining: 372ms\n",
            "357:\tlearn: 0.1977595\ttotal: 930ms\tremaining: 369ms\n",
            "358:\tlearn: 0.1973175\ttotal: 933ms\tremaining: 367ms\n",
            "359:\tlearn: 0.1968337\ttotal: 936ms\tremaining: 364ms\n",
            "360:\tlearn: 0.1965040\ttotal: 938ms\tremaining: 361ms\n",
            "361:\tlearn: 0.1959718\ttotal: 941ms\tremaining: 359ms\n",
            "362:\tlearn: 0.1954089\ttotal: 943ms\tremaining: 356ms\n",
            "363:\tlearn: 0.1951992\ttotal: 946ms\tremaining: 353ms\n",
            "364:\tlearn: 0.1948600\ttotal: 948ms\tremaining: 351ms\n",
            "365:\tlearn: 0.1944815\ttotal: 950ms\tremaining: 348ms\n",
            "366:\tlearn: 0.1940439\ttotal: 952ms\tremaining: 345ms\n",
            "367:\tlearn: 0.1933443\ttotal: 954ms\tremaining: 342ms\n",
            "368:\tlearn: 0.1926299\ttotal: 957ms\tremaining: 340ms\n",
            "369:\tlearn: 0.1921884\ttotal: 959ms\tremaining: 337ms\n",
            "370:\tlearn: 0.1920284\ttotal: 962ms\tremaining: 334ms\n",
            "371:\tlearn: 0.1913376\ttotal: 964ms\tremaining: 332ms\n",
            "372:\tlearn: 0.1910548\ttotal: 967ms\tremaining: 329ms\n",
            "373:\tlearn: 0.1907875\ttotal: 971ms\tremaining: 327ms\n",
            "374:\tlearn: 0.1905046\ttotal: 990ms\tremaining: 330ms\n",
            "375:\tlearn: 0.1899563\ttotal: 995ms\tremaining: 328ms\n",
            "376:\tlearn: 0.1895188\ttotal: 1000ms\tremaining: 326ms\n",
            "377:\tlearn: 0.1889154\ttotal: 1s\tremaining: 324ms\n",
            "378:\tlearn: 0.1887028\ttotal: 1.01s\tremaining: 322ms\n",
            "379:\tlearn: 0.1882418\ttotal: 1.02s\tremaining: 322ms\n",
            "380:\tlearn: 0.1878784\ttotal: 1.02s\tremaining: 320ms\n",
            "381:\tlearn: 0.1876766\ttotal: 1.03s\tremaining: 318ms\n",
            "382:\tlearn: 0.1873462\ttotal: 1.03s\tremaining: 316ms\n",
            "383:\tlearn: 0.1867578\ttotal: 1.04s\tremaining: 314ms\n",
            "384:\tlearn: 0.1865142\ttotal: 1.05s\tremaining: 312ms\n",
            "385:\tlearn: 0.1862747\ttotal: 1.05s\tremaining: 311ms\n",
            "386:\tlearn: 0.1860485\ttotal: 1.05s\tremaining: 308ms\n",
            "387:\tlearn: 0.1857205\ttotal: 1.06s\tremaining: 305ms\n",
            "388:\tlearn: 0.1852085\ttotal: 1.06s\tremaining: 302ms\n",
            "389:\tlearn: 0.1845706\ttotal: 1.06s\tremaining: 300ms\n",
            "390:\tlearn: 0.1842876\ttotal: 1.06s\tremaining: 297ms\n",
            "391:\tlearn: 0.1838196\ttotal: 1.07s\tremaining: 295ms\n",
            "392:\tlearn: 0.1832160\ttotal: 1.07s\tremaining: 292ms\n",
            "393:\tlearn: 0.1829069\ttotal: 1.07s\tremaining: 289ms\n",
            "394:\tlearn: 0.1825902\ttotal: 1.08s\tremaining: 286ms\n",
            "395:\tlearn: 0.1821571\ttotal: 1.08s\tremaining: 283ms\n",
            "396:\tlearn: 0.1816193\ttotal: 1.08s\tremaining: 281ms\n",
            "397:\tlearn: 0.1812547\ttotal: 1.08s\tremaining: 278ms\n",
            "398:\tlearn: 0.1809087\ttotal: 1.09s\tremaining: 275ms\n",
            "399:\tlearn: 0.1805785\ttotal: 1.09s\tremaining: 272ms\n",
            "400:\tlearn: 0.1799852\ttotal: 1.09s\tremaining: 269ms\n",
            "401:\tlearn: 0.1795656\ttotal: 1.09s\tremaining: 267ms\n",
            "402:\tlearn: 0.1792630\ttotal: 1.1s\tremaining: 264ms\n",
            "403:\tlearn: 0.1787306\ttotal: 1.1s\tremaining: 262ms\n",
            "404:\tlearn: 0.1784142\ttotal: 1.1s\tremaining: 259ms\n",
            "405:\tlearn: 0.1776756\ttotal: 1.11s\tremaining: 257ms\n",
            "406:\tlearn: 0.1770793\ttotal: 1.11s\tremaining: 254ms\n",
            "407:\tlearn: 0.1763089\ttotal: 1.11s\tremaining: 251ms\n",
            "408:\tlearn: 0.1758813\ttotal: 1.12s\tremaining: 249ms\n",
            "409:\tlearn: 0.1755704\ttotal: 1.12s\tremaining: 247ms\n",
            "410:\tlearn: 0.1753260\ttotal: 1.13s\tremaining: 244ms\n",
            "411:\tlearn: 0.1749543\ttotal: 1.13s\tremaining: 242ms\n",
            "412:\tlearn: 0.1746675\ttotal: 1.14s\tremaining: 240ms\n",
            "413:\tlearn: 0.1743027\ttotal: 1.14s\tremaining: 238ms\n",
            "414:\tlearn: 0.1737642\ttotal: 1.15s\tremaining: 235ms\n",
            "415:\tlearn: 0.1733663\ttotal: 1.16s\tremaining: 234ms\n",
            "416:\tlearn: 0.1731297\ttotal: 1.17s\tremaining: 233ms\n",
            "417:\tlearn: 0.1725841\ttotal: 1.18s\tremaining: 231ms\n",
            "418:\tlearn: 0.1721454\ttotal: 1.18s\tremaining: 229ms\n",
            "419:\tlearn: 0.1717763\ttotal: 1.19s\tremaining: 227ms\n",
            "420:\tlearn: 0.1714778\ttotal: 1.2s\tremaining: 224ms\n",
            "421:\tlearn: 0.1711475\ttotal: 1.2s\tremaining: 222ms\n",
            "422:\tlearn: 0.1706057\ttotal: 1.21s\tremaining: 220ms\n",
            "423:\tlearn: 0.1703998\ttotal: 1.21s\tremaining: 217ms\n",
            "424:\tlearn: 0.1701250\ttotal: 1.22s\tremaining: 215ms\n",
            "425:\tlearn: 0.1697202\ttotal: 1.22s\tremaining: 212ms\n",
            "426:\tlearn: 0.1696019\ttotal: 1.23s\tremaining: 210ms\n",
            "427:\tlearn: 0.1691485\ttotal: 1.23s\tremaining: 207ms\n",
            "428:\tlearn: 0.1684939\ttotal: 1.24s\tremaining: 205ms\n",
            "429:\tlearn: 0.1681813\ttotal: 1.24s\tremaining: 202ms\n",
            "430:\tlearn: 0.1679468\ttotal: 1.25s\tremaining: 200ms\n",
            "431:\tlearn: 0.1675960\ttotal: 1.25s\tremaining: 197ms\n",
            "432:\tlearn: 0.1674407\ttotal: 1.26s\tremaining: 195ms\n",
            "433:\tlearn: 0.1671680\ttotal: 1.26s\tremaining: 192ms\n",
            "434:\tlearn: 0.1666900\ttotal: 1.27s\tremaining: 189ms\n",
            "435:\tlearn: 0.1661437\ttotal: 1.27s\tremaining: 187ms\n",
            "436:\tlearn: 0.1656648\ttotal: 1.28s\tremaining: 184ms\n",
            "437:\tlearn: 0.1654867\ttotal: 1.28s\tremaining: 181ms\n",
            "438:\tlearn: 0.1651539\ttotal: 1.29s\tremaining: 179ms\n",
            "439:\tlearn: 0.1647560\ttotal: 1.29s\tremaining: 176ms\n",
            "440:\tlearn: 0.1643389\ttotal: 1.3s\tremaining: 174ms\n",
            "441:\tlearn: 0.1640094\ttotal: 1.31s\tremaining: 172ms\n",
            "442:\tlearn: 0.1634023\ttotal: 1.31s\tremaining: 169ms\n",
            "443:\tlearn: 0.1630841\ttotal: 1.32s\tremaining: 166ms\n",
            "444:\tlearn: 0.1625939\ttotal: 1.32s\tremaining: 164ms\n",
            "445:\tlearn: 0.1621464\ttotal: 1.33s\tremaining: 161ms\n",
            "446:\tlearn: 0.1618087\ttotal: 1.33s\tremaining: 158ms\n",
            "447:\tlearn: 0.1614985\ttotal: 1.34s\tremaining: 155ms\n",
            "448:\tlearn: 0.1610811\ttotal: 1.34s\tremaining: 152ms\n",
            "449:\tlearn: 0.1605468\ttotal: 1.35s\tremaining: 150ms\n",
            "450:\tlearn: 0.1601495\ttotal: 1.36s\tremaining: 148ms\n",
            "451:\tlearn: 0.1598531\ttotal: 1.36s\tremaining: 145ms\n",
            "452:\tlearn: 0.1596808\ttotal: 1.37s\tremaining: 142ms\n",
            "453:\tlearn: 0.1593738\ttotal: 1.38s\tremaining: 139ms\n",
            "454:\tlearn: 0.1590583\ttotal: 1.38s\tremaining: 137ms\n",
            "455:\tlearn: 0.1589023\ttotal: 1.39s\tremaining: 134ms\n",
            "456:\tlearn: 0.1584391\ttotal: 1.39s\tremaining: 131ms\n",
            "457:\tlearn: 0.1582862\ttotal: 1.4s\tremaining: 128ms\n",
            "458:\tlearn: 0.1579709\ttotal: 1.4s\tremaining: 125ms\n",
            "459:\tlearn: 0.1575768\ttotal: 1.41s\tremaining: 123ms\n",
            "460:\tlearn: 0.1572952\ttotal: 1.42s\tremaining: 120ms\n",
            "461:\tlearn: 0.1570986\ttotal: 1.42s\tremaining: 117ms\n",
            "462:\tlearn: 0.1568459\ttotal: 1.42s\tremaining: 114ms\n",
            "463:\tlearn: 0.1565968\ttotal: 1.43s\tremaining: 111ms\n",
            "464:\tlearn: 0.1563875\ttotal: 1.44s\tremaining: 108ms\n",
            "465:\tlearn: 0.1560674\ttotal: 1.44s\tremaining: 105ms\n",
            "466:\tlearn: 0.1557175\ttotal: 1.45s\tremaining: 102ms\n",
            "467:\tlearn: 0.1551865\ttotal: 1.45s\tremaining: 99.2ms\n",
            "468:\tlearn: 0.1550388\ttotal: 1.45s\tremaining: 96.1ms\n",
            "469:\tlearn: 0.1548772\ttotal: 1.46s\tremaining: 93ms\n",
            "470:\tlearn: 0.1545703\ttotal: 1.46s\tremaining: 90ms\n",
            "471:\tlearn: 0.1542394\ttotal: 1.47s\tremaining: 87.1ms\n",
            "472:\tlearn: 0.1539290\ttotal: 1.47s\tremaining: 84ms\n",
            "473:\tlearn: 0.1535855\ttotal: 1.48s\tremaining: 81ms\n",
            "474:\tlearn: 0.1531150\ttotal: 1.48s\tremaining: 77.9ms\n",
            "475:\tlearn: 0.1528521\ttotal: 1.49s\tremaining: 75ms\n",
            "476:\tlearn: 0.1525256\ttotal: 1.49s\tremaining: 71.9ms\n",
            "477:\tlearn: 0.1520477\ttotal: 1.5s\tremaining: 68.9ms\n",
            "478:\tlearn: 0.1513647\ttotal: 1.5s\tremaining: 65.9ms\n",
            "479:\tlearn: 0.1508510\ttotal: 1.51s\tremaining: 62.8ms\n",
            "480:\tlearn: 0.1505246\ttotal: 1.51s\tremaining: 59.8ms\n",
            "481:\tlearn: 0.1502336\ttotal: 1.52s\tremaining: 56.7ms\n",
            "482:\tlearn: 0.1496500\ttotal: 1.52s\tremaining: 53.6ms\n",
            "483:\tlearn: 0.1491814\ttotal: 1.53s\tremaining: 50.5ms\n",
            "484:\tlearn: 0.1489666\ttotal: 1.54s\tremaining: 47.6ms\n",
            "485:\tlearn: 0.1485509\ttotal: 1.54s\tremaining: 44.4ms\n",
            "486:\tlearn: 0.1482432\ttotal: 1.55s\tremaining: 41.3ms\n",
            "487:\tlearn: 0.1478888\ttotal: 1.55s\tremaining: 38.2ms\n",
            "488:\tlearn: 0.1476076\ttotal: 1.56s\tremaining: 35.1ms\n",
            "489:\tlearn: 0.1472197\ttotal: 1.56s\tremaining: 31.9ms\n",
            "490:\tlearn: 0.1469075\ttotal: 1.57s\tremaining: 28.8ms\n",
            "491:\tlearn: 0.1466878\ttotal: 1.57s\tremaining: 25.6ms\n",
            "492:\tlearn: 0.1462005\ttotal: 1.58s\tremaining: 22.4ms\n",
            "493:\tlearn: 0.1458830\ttotal: 1.58s\tremaining: 19.2ms\n",
            "494:\tlearn: 0.1457659\ttotal: 1.59s\tremaining: 16.1ms\n",
            "495:\tlearn: 0.1454360\ttotal: 1.59s\tremaining: 12.9ms\n",
            "496:\tlearn: 0.1449673\ttotal: 1.6s\tremaining: 9.66ms\n",
            "497:\tlearn: 0.1444378\ttotal: 1.6s\tremaining: 6.45ms\n",
            "498:\tlearn: 0.1441658\ttotal: 1.61s\tremaining: 3.22ms\n",
            "499:\tlearn: 0.1438526\ttotal: 1.61s\tremaining: 0us\n",
            "[CV] END ............................depth=7, iterations=500; total time=   1.8s\n",
            "Learning rate set to 0.012927\n",
            "0:\tlearn: 0.6847951\ttotal: 3.49ms\tremaining: 1.74s\n",
            "1:\tlearn: 0.6778871\ttotal: 7.38ms\tremaining: 1.84s\n",
            "2:\tlearn: 0.6716758\ttotal: 13.1ms\tremaining: 2.16s\n",
            "3:\tlearn: 0.6644379\ttotal: 18.1ms\tremaining: 2.25s\n",
            "4:\tlearn: 0.6557624\ttotal: 23.3ms\tremaining: 2.3s\n",
            "5:\tlearn: 0.6494099\ttotal: 28.4ms\tremaining: 2.34s\n",
            "6:\tlearn: 0.6422745\ttotal: 34.5ms\tremaining: 2.43s\n",
            "7:\tlearn: 0.6351774\ttotal: 37.8ms\tremaining: 2.32s\n",
            "8:\tlearn: 0.6277395\ttotal: 43.5ms\tremaining: 2.37s\n",
            "9:\tlearn: 0.6217528\ttotal: 46.7ms\tremaining: 2.29s\n",
            "10:\tlearn: 0.6153514\ttotal: 52.1ms\tremaining: 2.31s\n",
            "11:\tlearn: 0.6089389\ttotal: 57.7ms\tremaining: 2.35s\n",
            "12:\tlearn: 0.6015741\ttotal: 62.8ms\tremaining: 2.35s\n",
            "13:\tlearn: 0.5960588\ttotal: 70.5ms\tremaining: 2.45s\n",
            "14:\tlearn: 0.5903893\ttotal: 79ms\tremaining: 2.56s\n",
            "15:\tlearn: 0.5843612\ttotal: 86.7ms\tremaining: 2.62s\n",
            "16:\tlearn: 0.5781562\ttotal: 96.6ms\tremaining: 2.74s\n",
            "17:\tlearn: 0.5725197\ttotal: 102ms\tremaining: 2.72s\n",
            "18:\tlearn: 0.5668652\ttotal: 109ms\tremaining: 2.77s\n",
            "19:\tlearn: 0.5608026\ttotal: 114ms\tremaining: 2.73s\n",
            "20:\tlearn: 0.5563006\ttotal: 119ms\tremaining: 2.71s\n",
            "21:\tlearn: 0.5509458\ttotal: 124ms\tremaining: 2.7s\n",
            "22:\tlearn: 0.5460635\ttotal: 129ms\tremaining: 2.69s\n",
            "23:\tlearn: 0.5435111\ttotal: 135ms\tremaining: 2.68s\n",
            "24:\tlearn: 0.5380354\ttotal: 138ms\tremaining: 2.63s\n",
            "25:\tlearn: 0.5340126\ttotal: 146ms\tremaining: 2.65s\n",
            "26:\tlearn: 0.5298804\ttotal: 150ms\tremaining: 2.63s\n",
            "27:\tlearn: 0.5255020\ttotal: 155ms\tremaining: 2.61s\n",
            "28:\tlearn: 0.5209227\ttotal: 160ms\tremaining: 2.6s\n",
            "29:\tlearn: 0.5172905\ttotal: 166ms\tremaining: 2.59s\n",
            "30:\tlearn: 0.5129752\ttotal: 174ms\tremaining: 2.64s\n",
            "31:\tlearn: 0.5094438\ttotal: 178ms\tremaining: 2.61s\n",
            "32:\tlearn: 0.5067760\ttotal: 184ms\tremaining: 2.61s\n",
            "33:\tlearn: 0.5030595\ttotal: 189ms\tremaining: 2.59s\n",
            "34:\tlearn: 0.4993536\ttotal: 195ms\tremaining: 2.59s\n",
            "35:\tlearn: 0.4949826\ttotal: 200ms\tremaining: 2.58s\n",
            "36:\tlearn: 0.4910208\ttotal: 204ms\tremaining: 2.55s\n",
            "37:\tlearn: 0.4891177\ttotal: 207ms\tremaining: 2.51s\n",
            "38:\tlearn: 0.4857926\ttotal: 211ms\tremaining: 2.5s\n",
            "39:\tlearn: 0.4830446\ttotal: 215ms\tremaining: 2.47s\n",
            "40:\tlearn: 0.4801132\ttotal: 221ms\tremaining: 2.47s\n",
            "41:\tlearn: 0.4776270\ttotal: 225ms\tremaining: 2.45s\n",
            "42:\tlearn: 0.4752205\ttotal: 229ms\tremaining: 2.44s\n",
            "43:\tlearn: 0.4722443\ttotal: 235ms\tremaining: 2.44s\n",
            "44:\tlearn: 0.4698521\ttotal: 241ms\tremaining: 2.43s\n",
            "45:\tlearn: 0.4661293\ttotal: 246ms\tremaining: 2.42s\n",
            "46:\tlearn: 0.4626446\ttotal: 250ms\tremaining: 2.41s\n",
            "47:\tlearn: 0.4597528\ttotal: 257ms\tremaining: 2.42s\n",
            "48:\tlearn: 0.4565931\ttotal: 262ms\tremaining: 2.41s\n",
            "49:\tlearn: 0.4538784\ttotal: 266ms\tremaining: 2.39s\n",
            "50:\tlearn: 0.4519252\ttotal: 271ms\tremaining: 2.38s\n",
            "51:\tlearn: 0.4491776\ttotal: 278ms\tremaining: 2.39s\n",
            "52:\tlearn: 0.4459225\ttotal: 284ms\tremaining: 2.39s\n",
            "53:\tlearn: 0.4442998\ttotal: 290ms\tremaining: 2.39s\n",
            "54:\tlearn: 0.4421999\ttotal: 293ms\tremaining: 2.37s\n",
            "55:\tlearn: 0.4394173\ttotal: 299ms\tremaining: 2.37s\n",
            "56:\tlearn: 0.4368422\ttotal: 305ms\tremaining: 2.37s\n",
            "57:\tlearn: 0.4347188\ttotal: 312ms\tremaining: 2.37s\n",
            "58:\tlearn: 0.4322412\ttotal: 315ms\tremaining: 2.35s\n",
            "59:\tlearn: 0.4297855\ttotal: 321ms\tremaining: 2.35s\n",
            "60:\tlearn: 0.4272320\ttotal: 326ms\tremaining: 2.35s\n",
            "61:\tlearn: 0.4246697\ttotal: 332ms\tremaining: 2.34s\n",
            "62:\tlearn: 0.4232385\ttotal: 334ms\tremaining: 2.31s\n",
            "63:\tlearn: 0.4215456\ttotal: 336ms\tremaining: 2.29s\n",
            "64:\tlearn: 0.4184775\ttotal: 339ms\tremaining: 2.27s\n",
            "65:\tlearn: 0.4172215\ttotal: 342ms\tremaining: 2.25s\n",
            "66:\tlearn: 0.4149866\ttotal: 347ms\tremaining: 2.24s\n",
            "67:\tlearn: 0.4124937\ttotal: 351ms\tremaining: 2.23s\n",
            "68:\tlearn: 0.4101433\ttotal: 354ms\tremaining: 2.21s\n",
            "69:\tlearn: 0.4081039\ttotal: 359ms\tremaining: 2.2s\n",
            "70:\tlearn: 0.4058112\ttotal: 363ms\tremaining: 2.19s\n",
            "71:\tlearn: 0.4040689\ttotal: 369ms\tremaining: 2.19s\n",
            "72:\tlearn: 0.4026235\ttotal: 374ms\tremaining: 2.19s\n",
            "73:\tlearn: 0.4013931\ttotal: 378ms\tremaining: 2.17s\n",
            "74:\tlearn: 0.3997109\ttotal: 382ms\tremaining: 2.17s\n",
            "75:\tlearn: 0.3974175\ttotal: 389ms\tremaining: 2.17s\n",
            "76:\tlearn: 0.3951977\ttotal: 392ms\tremaining: 2.16s\n",
            "77:\tlearn: 0.3930377\ttotal: 395ms\tremaining: 2.13s\n",
            "78:\tlearn: 0.3909777\ttotal: 398ms\tremaining: 2.12s\n",
            "79:\tlearn: 0.3890579\ttotal: 401ms\tremaining: 2.1s\n",
            "80:\tlearn: 0.3875511\ttotal: 405ms\tremaining: 2.09s\n",
            "81:\tlearn: 0.3852326\ttotal: 410ms\tremaining: 2.09s\n",
            "82:\tlearn: 0.3836079\ttotal: 416ms\tremaining: 2.09s\n",
            "83:\tlearn: 0.3817449\ttotal: 420ms\tremaining: 2.08s\n",
            "84:\tlearn: 0.3805420\ttotal: 427ms\tremaining: 2.08s\n",
            "85:\tlearn: 0.3790242\ttotal: 432ms\tremaining: 2.08s\n",
            "86:\tlearn: 0.3774747\ttotal: 442ms\tremaining: 2.1s\n",
            "87:\tlearn: 0.3758069\ttotal: 447ms\tremaining: 2.09s\n",
            "88:\tlearn: 0.3739053\ttotal: 450ms\tremaining: 2.08s\n",
            "89:\tlearn: 0.3720561\ttotal: 455ms\tremaining: 2.07s\n",
            "90:\tlearn: 0.3705231\ttotal: 461ms\tremaining: 2.07s\n",
            "91:\tlearn: 0.3690027\ttotal: 468ms\tremaining: 2.07s\n",
            "92:\tlearn: 0.3676918\ttotal: 471ms\tremaining: 2.06s\n",
            "93:\tlearn: 0.3660757\ttotal: 477ms\tremaining: 2.06s\n",
            "94:\tlearn: 0.3647918\ttotal: 482ms\tremaining: 2.06s\n",
            "95:\tlearn: 0.3633828\ttotal: 489ms\tremaining: 2.06s\n",
            "96:\tlearn: 0.3621144\ttotal: 494ms\tremaining: 2.05s\n",
            "97:\tlearn: 0.3605603\ttotal: 499ms\tremaining: 2.05s\n",
            "98:\tlearn: 0.3589401\ttotal: 505ms\tremaining: 2.04s\n",
            "99:\tlearn: 0.3571931\ttotal: 510ms\tremaining: 2.04s\n",
            "100:\tlearn: 0.3556437\ttotal: 517ms\tremaining: 2.04s\n",
            "101:\tlearn: 0.3544626\ttotal: 523ms\tremaining: 2.04s\n",
            "102:\tlearn: 0.3529152\ttotal: 526ms\tremaining: 2.03s\n",
            "103:\tlearn: 0.3514821\ttotal: 530ms\tremaining: 2.02s\n",
            "104:\tlearn: 0.3505241\ttotal: 532ms\tremaining: 2s\n",
            "105:\tlearn: 0.3499246\ttotal: 537ms\tremaining: 2s\n",
            "106:\tlearn: 0.3488804\ttotal: 541ms\tremaining: 1.99s\n",
            "107:\tlearn: 0.3479042\ttotal: 545ms\tremaining: 1.98s\n",
            "108:\tlearn: 0.3467820\ttotal: 551ms\tremaining: 1.97s\n",
            "109:\tlearn: 0.3457204\ttotal: 554ms\tremaining: 1.96s\n",
            "110:\tlearn: 0.3444388\ttotal: 559ms\tremaining: 1.96s\n",
            "111:\tlearn: 0.3430277\ttotal: 564ms\tremaining: 1.95s\n",
            "112:\tlearn: 0.3416185\ttotal: 569ms\tremaining: 1.95s\n",
            "113:\tlearn: 0.3405779\ttotal: 574ms\tremaining: 1.94s\n",
            "114:\tlearn: 0.3386831\ttotal: 580ms\tremaining: 1.94s\n",
            "115:\tlearn: 0.3369607\ttotal: 585ms\tremaining: 1.94s\n",
            "116:\tlearn: 0.3357970\ttotal: 590ms\tremaining: 1.93s\n",
            "117:\tlearn: 0.3344016\ttotal: 597ms\tremaining: 1.93s\n",
            "118:\tlearn: 0.3330920\ttotal: 600ms\tremaining: 1.92s\n",
            "119:\tlearn: 0.3320513\ttotal: 606ms\tremaining: 1.92s\n",
            "120:\tlearn: 0.3312088\ttotal: 611ms\tremaining: 1.92s\n",
            "121:\tlearn: 0.3299001\ttotal: 618ms\tremaining: 1.91s\n",
            "122:\tlearn: 0.3285917\ttotal: 630ms\tremaining: 1.93s\n",
            "123:\tlearn: 0.3275461\ttotal: 635ms\tremaining: 1.93s\n",
            "124:\tlearn: 0.3267190\ttotal: 639ms\tremaining: 1.92s\n",
            "125:\tlearn: 0.3258832\ttotal: 646ms\tremaining: 1.92s\n",
            "126:\tlearn: 0.3249897\ttotal: 649ms\tremaining: 1.91s\n",
            "127:\tlearn: 0.3240715\ttotal: 657ms\tremaining: 1.91s\n",
            "128:\tlearn: 0.3226140\ttotal: 661ms\tremaining: 1.9s\n",
            "129:\tlearn: 0.3215466\ttotal: 667ms\tremaining: 1.9s\n",
            "130:\tlearn: 0.3203085\ttotal: 672ms\tremaining: 1.89s\n",
            "131:\tlearn: 0.3190704\ttotal: 678ms\tremaining: 1.89s\n",
            "132:\tlearn: 0.3179470\ttotal: 682ms\tremaining: 1.88s\n",
            "133:\tlearn: 0.3165505\ttotal: 684ms\tremaining: 1.87s\n",
            "134:\tlearn: 0.3155736\ttotal: 687ms\tremaining: 1.86s\n",
            "135:\tlearn: 0.3144679\ttotal: 691ms\tremaining: 1.85s\n",
            "136:\tlearn: 0.3137284\ttotal: 700ms\tremaining: 1.85s\n",
            "137:\tlearn: 0.3127775\ttotal: 708ms\tremaining: 1.86s\n",
            "138:\tlearn: 0.3121624\ttotal: 712ms\tremaining: 1.85s\n",
            "139:\tlearn: 0.3112515\ttotal: 721ms\tremaining: 1.85s\n",
            "140:\tlearn: 0.3099482\ttotal: 727ms\tremaining: 1.85s\n",
            "141:\tlearn: 0.3090643\ttotal: 731ms\tremaining: 1.84s\n",
            "142:\tlearn: 0.3081961\ttotal: 737ms\tremaining: 1.84s\n",
            "143:\tlearn: 0.3065140\ttotal: 740ms\tremaining: 1.83s\n",
            "144:\tlearn: 0.3057053\ttotal: 746ms\tremaining: 1.83s\n",
            "145:\tlearn: 0.3046327\ttotal: 752ms\tremaining: 1.82s\n",
            "146:\tlearn: 0.3035084\ttotal: 757ms\tremaining: 1.82s\n",
            "147:\tlearn: 0.3021990\ttotal: 763ms\tremaining: 1.81s\n",
            "148:\tlearn: 0.3011747\ttotal: 771ms\tremaining: 1.81s\n",
            "149:\tlearn: 0.3004525\ttotal: 774ms\tremaining: 1.8s\n",
            "150:\tlearn: 0.2996032\ttotal: 780ms\tremaining: 1.8s\n",
            "151:\tlearn: 0.2990784\ttotal: 782ms\tremaining: 1.79s\n",
            "152:\tlearn: 0.2984725\ttotal: 787ms\tremaining: 1.78s\n",
            "153:\tlearn: 0.2974857\ttotal: 792ms\tremaining: 1.78s\n",
            "154:\tlearn: 0.2966424\ttotal: 798ms\tremaining: 1.77s\n",
            "155:\tlearn: 0.2953981\ttotal: 803ms\tremaining: 1.77s\n",
            "156:\tlearn: 0.2943542\ttotal: 808ms\tremaining: 1.76s\n",
            "157:\tlearn: 0.2930915\ttotal: 819ms\tremaining: 1.77s\n",
            "158:\tlearn: 0.2921851\ttotal: 824ms\tremaining: 1.77s\n",
            "159:\tlearn: 0.2908038\ttotal: 830ms\tremaining: 1.76s\n",
            "160:\tlearn: 0.2899046\ttotal: 834ms\tremaining: 1.76s\n",
            "161:\tlearn: 0.2893600\ttotal: 839ms\tremaining: 1.75s\n",
            "162:\tlearn: 0.2884436\ttotal: 845ms\tremaining: 1.75s\n",
            "163:\tlearn: 0.2877443\ttotal: 850ms\tremaining: 1.74s\n",
            "164:\tlearn: 0.2868103\ttotal: 854ms\tremaining: 1.73s\n",
            "165:\tlearn: 0.2860955\ttotal: 859ms\tremaining: 1.73s\n",
            "166:\tlearn: 0.2851300\ttotal: 865ms\tremaining: 1.72s\n",
            "167:\tlearn: 0.2840796\ttotal: 870ms\tremaining: 1.72s\n",
            "168:\tlearn: 0.2832758\ttotal: 875ms\tremaining: 1.71s\n",
            "169:\tlearn: 0.2823278\ttotal: 880ms\tremaining: 1.71s\n",
            "170:\tlearn: 0.2814001\ttotal: 887ms\tremaining: 1.71s\n",
            "171:\tlearn: 0.2807876\ttotal: 890ms\tremaining: 1.7s\n",
            "172:\tlearn: 0.2804366\ttotal: 894ms\tremaining: 1.69s\n",
            "173:\tlearn: 0.2798650\ttotal: 900ms\tremaining: 1.69s\n",
            "174:\tlearn: 0.2792905\ttotal: 908ms\tremaining: 1.69s\n",
            "175:\tlearn: 0.2783769\ttotal: 911ms\tremaining: 1.68s\n",
            "176:\tlearn: 0.2775726\ttotal: 914ms\tremaining: 1.67s\n",
            "177:\tlearn: 0.2770221\ttotal: 917ms\tremaining: 1.66s\n",
            "178:\tlearn: 0.2764607\ttotal: 919ms\tremaining: 1.65s\n",
            "179:\tlearn: 0.2757339\ttotal: 922ms\tremaining: 1.64s\n",
            "180:\tlearn: 0.2752573\ttotal: 924ms\tremaining: 1.63s\n",
            "181:\tlearn: 0.2745714\ttotal: 927ms\tremaining: 1.62s\n",
            "182:\tlearn: 0.2739037\ttotal: 929ms\tremaining: 1.61s\n",
            "183:\tlearn: 0.2728971\ttotal: 932ms\tremaining: 1.6s\n",
            "184:\tlearn: 0.2723974\ttotal: 935ms\tremaining: 1.59s\n",
            "185:\tlearn: 0.2716194\ttotal: 938ms\tremaining: 1.58s\n",
            "186:\tlearn: 0.2708170\ttotal: 944ms\tremaining: 1.58s\n",
            "187:\tlearn: 0.2700141\ttotal: 951ms\tremaining: 1.58s\n",
            "188:\tlearn: 0.2693774\ttotal: 954ms\tremaining: 1.57s\n",
            "189:\tlearn: 0.2685304\ttotal: 959ms\tremaining: 1.56s\n",
            "190:\tlearn: 0.2679351\ttotal: 962ms\tremaining: 1.56s\n",
            "191:\tlearn: 0.2673347\ttotal: 965ms\tremaining: 1.55s\n",
            "192:\tlearn: 0.2667046\ttotal: 968ms\tremaining: 1.54s\n",
            "193:\tlearn: 0.2661413\ttotal: 970ms\tremaining: 1.53s\n",
            "194:\tlearn: 0.2656493\ttotal: 972ms\tremaining: 1.52s\n",
            "195:\tlearn: 0.2651662\ttotal: 974ms\tremaining: 1.51s\n",
            "196:\tlearn: 0.2645999\ttotal: 977ms\tremaining: 1.5s\n",
            "197:\tlearn: 0.2637209\ttotal: 979ms\tremaining: 1.49s\n",
            "198:\tlearn: 0.2630257\ttotal: 981ms\tremaining: 1.48s\n",
            "199:\tlearn: 0.2623859\ttotal: 984ms\tremaining: 1.48s\n",
            "200:\tlearn: 0.2615179\ttotal: 986ms\tremaining: 1.47s\n",
            "201:\tlearn: 0.2612420\ttotal: 990ms\tremaining: 1.46s\n",
            "202:\tlearn: 0.2606457\ttotal: 993ms\tremaining: 1.45s\n",
            "203:\tlearn: 0.2602650\ttotal: 995ms\tremaining: 1.44s\n",
            "204:\tlearn: 0.2595956\ttotal: 997ms\tremaining: 1.43s\n",
            "205:\tlearn: 0.2591500\ttotal: 1s\tremaining: 1.43s\n",
            "206:\tlearn: 0.2587258\ttotal: 1.01s\tremaining: 1.43s\n",
            "207:\tlearn: 0.2579621\ttotal: 1.01s\tremaining: 1.42s\n",
            "208:\tlearn: 0.2574691\ttotal: 1.01s\tremaining: 1.41s\n",
            "209:\tlearn: 0.2568660\ttotal: 1.01s\tremaining: 1.4s\n",
            "210:\tlearn: 0.2563066\ttotal: 1.02s\tremaining: 1.39s\n",
            "211:\tlearn: 0.2556943\ttotal: 1.02s\tremaining: 1.38s\n",
            "212:\tlearn: 0.2550459\ttotal: 1.02s\tremaining: 1.38s\n",
            "213:\tlearn: 0.2544127\ttotal: 1.02s\tremaining: 1.37s\n",
            "214:\tlearn: 0.2538609\ttotal: 1.03s\tremaining: 1.36s\n",
            "215:\tlearn: 0.2532040\ttotal: 1.03s\tremaining: 1.35s\n",
            "216:\tlearn: 0.2526600\ttotal: 1.03s\tremaining: 1.34s\n",
            "217:\tlearn: 0.2520508\ttotal: 1.03s\tremaining: 1.34s\n",
            "218:\tlearn: 0.2513171\ttotal: 1.03s\tremaining: 1.33s\n",
            "219:\tlearn: 0.2502945\ttotal: 1.04s\tremaining: 1.32s\n",
            "220:\tlearn: 0.2499290\ttotal: 1.04s\tremaining: 1.31s\n",
            "221:\tlearn: 0.2492929\ttotal: 1.04s\tremaining: 1.31s\n",
            "222:\tlearn: 0.2486315\ttotal: 1.05s\tremaining: 1.3s\n",
            "223:\tlearn: 0.2482449\ttotal: 1.05s\tremaining: 1.3s\n",
            "224:\tlearn: 0.2472448\ttotal: 1.06s\tremaining: 1.29s\n",
            "225:\tlearn: 0.2465013\ttotal: 1.06s\tremaining: 1.29s\n",
            "226:\tlearn: 0.2454395\ttotal: 1.06s\tremaining: 1.28s\n",
            "227:\tlearn: 0.2450830\ttotal: 1.07s\tremaining: 1.27s\n",
            "228:\tlearn: 0.2442449\ttotal: 1.07s\tremaining: 1.27s\n",
            "229:\tlearn: 0.2433569\ttotal: 1.07s\tremaining: 1.26s\n",
            "230:\tlearn: 0.2422620\ttotal: 1.08s\tremaining: 1.25s\n",
            "231:\tlearn: 0.2416012\ttotal: 1.08s\tremaining: 1.25s\n",
            "232:\tlearn: 0.2408289\ttotal: 1.08s\tremaining: 1.24s\n",
            "233:\tlearn: 0.2403939\ttotal: 1.08s\tremaining: 1.23s\n",
            "234:\tlearn: 0.2398929\ttotal: 1.09s\tremaining: 1.23s\n",
            "235:\tlearn: 0.2393768\ttotal: 1.09s\tremaining: 1.22s\n",
            "236:\tlearn: 0.2386730\ttotal: 1.09s\tremaining: 1.21s\n",
            "237:\tlearn: 0.2379960\ttotal: 1.1s\tremaining: 1.21s\n",
            "238:\tlearn: 0.2374672\ttotal: 1.1s\tremaining: 1.21s\n",
            "239:\tlearn: 0.2369063\ttotal: 1.11s\tremaining: 1.2s\n",
            "240:\tlearn: 0.2363696\ttotal: 1.11s\tremaining: 1.2s\n",
            "241:\tlearn: 0.2361411\ttotal: 1.12s\tremaining: 1.19s\n",
            "242:\tlearn: 0.2353977\ttotal: 1.13s\tremaining: 1.19s\n",
            "243:\tlearn: 0.2344973\ttotal: 1.13s\tremaining: 1.19s\n",
            "244:\tlearn: 0.2339896\ttotal: 1.14s\tremaining: 1.18s\n",
            "245:\tlearn: 0.2336147\ttotal: 1.14s\tremaining: 1.18s\n",
            "246:\tlearn: 0.2330185\ttotal: 1.15s\tremaining: 1.17s\n",
            "247:\tlearn: 0.2326687\ttotal: 1.15s\tremaining: 1.17s\n",
            "248:\tlearn: 0.2320067\ttotal: 1.16s\tremaining: 1.17s\n",
            "249:\tlearn: 0.2313666\ttotal: 1.16s\tremaining: 1.16s\n",
            "250:\tlearn: 0.2308767\ttotal: 1.17s\tremaining: 1.16s\n",
            "251:\tlearn: 0.2302454\ttotal: 1.17s\tremaining: 1.15s\n",
            "252:\tlearn: 0.2294784\ttotal: 1.18s\tremaining: 1.15s\n",
            "253:\tlearn: 0.2291348\ttotal: 1.19s\tremaining: 1.15s\n",
            "254:\tlearn: 0.2287241\ttotal: 1.19s\tremaining: 1.14s\n",
            "255:\tlearn: 0.2282935\ttotal: 1.2s\tremaining: 1.14s\n",
            "256:\tlearn: 0.2278601\ttotal: 1.2s\tremaining: 1.13s\n",
            "257:\tlearn: 0.2272833\ttotal: 1.21s\tremaining: 1.13s\n",
            "258:\tlearn: 0.2269116\ttotal: 1.21s\tremaining: 1.13s\n",
            "259:\tlearn: 0.2265872\ttotal: 1.22s\tremaining: 1.12s\n",
            "260:\tlearn: 0.2261674\ttotal: 1.22s\tremaining: 1.12s\n",
            "261:\tlearn: 0.2257570\ttotal: 1.23s\tremaining: 1.11s\n",
            "262:\tlearn: 0.2250742\ttotal: 1.24s\tremaining: 1.11s\n",
            "263:\tlearn: 0.2246843\ttotal: 1.24s\tremaining: 1.11s\n",
            "264:\tlearn: 0.2240325\ttotal: 1.24s\tremaining: 1.1s\n",
            "265:\tlearn: 0.2234573\ttotal: 1.25s\tremaining: 1.1s\n",
            "266:\tlearn: 0.2224513\ttotal: 1.25s\tremaining: 1.09s\n",
            "267:\tlearn: 0.2222739\ttotal: 1.26s\tremaining: 1.09s\n",
            "268:\tlearn: 0.2219998\ttotal: 1.27s\tremaining: 1.09s\n",
            "269:\tlearn: 0.2214997\ttotal: 1.27s\tremaining: 1.08s\n",
            "270:\tlearn: 0.2207938\ttotal: 1.27s\tremaining: 1.08s\n",
            "271:\tlearn: 0.2204149\ttotal: 1.28s\tremaining: 1.07s\n",
            "272:\tlearn: 0.2196012\ttotal: 1.28s\tremaining: 1.07s\n",
            "273:\tlearn: 0.2192747\ttotal: 1.29s\tremaining: 1.06s\n",
            "274:\tlearn: 0.2185279\ttotal: 1.29s\tremaining: 1.06s\n",
            "275:\tlearn: 0.2180235\ttotal: 1.3s\tremaining: 1.05s\n",
            "276:\tlearn: 0.2173974\ttotal: 1.3s\tremaining: 1.05s\n",
            "277:\tlearn: 0.2168446\ttotal: 1.31s\tremaining: 1.05s\n",
            "278:\tlearn: 0.2161758\ttotal: 1.31s\tremaining: 1.04s\n",
            "279:\tlearn: 0.2158527\ttotal: 1.32s\tremaining: 1.04s\n",
            "280:\tlearn: 0.2152784\ttotal: 1.32s\tremaining: 1.03s\n",
            "281:\tlearn: 0.2150023\ttotal: 1.33s\tremaining: 1.03s\n",
            "282:\tlearn: 0.2144923\ttotal: 1.33s\tremaining: 1.02s\n",
            "283:\tlearn: 0.2138131\ttotal: 1.33s\tremaining: 1.01s\n",
            "284:\tlearn: 0.2131405\ttotal: 1.34s\tremaining: 1.01s\n",
            "285:\tlearn: 0.2127437\ttotal: 1.34s\tremaining: 1s\n",
            "286:\tlearn: 0.2120850\ttotal: 1.35s\tremaining: 1s\n",
            "287:\tlearn: 0.2116192\ttotal: 1.35s\tremaining: 998ms\n",
            "288:\tlearn: 0.2113376\ttotal: 1.36s\tremaining: 992ms\n",
            "289:\tlearn: 0.2106278\ttotal: 1.37s\tremaining: 993ms\n",
            "290:\tlearn: 0.2102783\ttotal: 1.38s\tremaining: 991ms\n",
            "291:\tlearn: 0.2099388\ttotal: 1.38s\tremaining: 986ms\n",
            "292:\tlearn: 0.2096029\ttotal: 1.39s\tremaining: 982ms\n",
            "293:\tlearn: 0.2087679\ttotal: 1.4s\tremaining: 978ms\n",
            "294:\tlearn: 0.2083372\ttotal: 1.4s\tremaining: 973ms\n",
            "295:\tlearn: 0.2078422\ttotal: 1.41s\tremaining: 969ms\n",
            "296:\tlearn: 0.2074010\ttotal: 1.41s\tremaining: 964ms\n",
            "297:\tlearn: 0.2069112\ttotal: 1.42s\tremaining: 960ms\n",
            "298:\tlearn: 0.2064083\ttotal: 1.42s\tremaining: 956ms\n",
            "299:\tlearn: 0.2057629\ttotal: 1.43s\tremaining: 951ms\n",
            "300:\tlearn: 0.2055541\ttotal: 1.43s\tremaining: 947ms\n",
            "301:\tlearn: 0.2051470\ttotal: 1.44s\tremaining: 944ms\n",
            "302:\tlearn: 0.2046926\ttotal: 1.44s\tremaining: 938ms\n",
            "303:\tlearn: 0.2039165\ttotal: 1.45s\tremaining: 933ms\n",
            "304:\tlearn: 0.2033469\ttotal: 1.45s\tremaining: 929ms\n",
            "305:\tlearn: 0.2027769\ttotal: 1.46s\tremaining: 924ms\n",
            "306:\tlearn: 0.2026842\ttotal: 1.46s\tremaining: 919ms\n",
            "307:\tlearn: 0.2023183\ttotal: 1.47s\tremaining: 914ms\n",
            "308:\tlearn: 0.2016503\ttotal: 1.47s\tremaining: 910ms\n",
            "309:\tlearn: 0.2013892\ttotal: 1.48s\tremaining: 905ms\n",
            "310:\tlearn: 0.2009947\ttotal: 1.48s\tremaining: 901ms\n",
            "311:\tlearn: 0.2002134\ttotal: 1.49s\tremaining: 896ms\n",
            "312:\tlearn: 0.1999584\ttotal: 1.49s\tremaining: 892ms\n",
            "313:\tlearn: 0.1993880\ttotal: 1.5s\tremaining: 889ms\n",
            "314:\tlearn: 0.1989658\ttotal: 1.51s\tremaining: 885ms\n",
            "315:\tlearn: 0.1983817\ttotal: 1.51s\tremaining: 880ms\n",
            "316:\tlearn: 0.1979581\ttotal: 1.52s\tremaining: 876ms\n",
            "317:\tlearn: 0.1971807\ttotal: 1.52s\tremaining: 872ms\n",
            "318:\tlearn: 0.1968228\ttotal: 1.53s\tremaining: 866ms\n",
            "319:\tlearn: 0.1963040\ttotal: 1.53s\tremaining: 862ms\n",
            "320:\tlearn: 0.1959263\ttotal: 1.54s\tremaining: 858ms\n",
            "321:\tlearn: 0.1955941\ttotal: 1.54s\tremaining: 853ms\n",
            "322:\tlearn: 0.1950539\ttotal: 1.54s\tremaining: 847ms\n",
            "323:\tlearn: 0.1946012\ttotal: 1.55s\tremaining: 841ms\n",
            "324:\tlearn: 0.1942515\ttotal: 1.55s\tremaining: 836ms\n",
            "325:\tlearn: 0.1938676\ttotal: 1.55s\tremaining: 830ms\n",
            "326:\tlearn: 0.1935529\ttotal: 1.56s\tremaining: 827ms\n",
            "327:\tlearn: 0.1931926\ttotal: 1.56s\tremaining: 821ms\n",
            "328:\tlearn: 0.1926169\ttotal: 1.57s\tremaining: 815ms\n",
            "329:\tlearn: 0.1922825\ttotal: 1.57s\tremaining: 810ms\n",
            "330:\tlearn: 0.1918935\ttotal: 1.57s\tremaining: 803ms\n",
            "331:\tlearn: 0.1912774\ttotal: 1.58s\tremaining: 799ms\n",
            "332:\tlearn: 0.1909132\ttotal: 1.58s\tremaining: 794ms\n",
            "333:\tlearn: 0.1906718\ttotal: 1.58s\tremaining: 788ms\n",
            "334:\tlearn: 0.1899546\ttotal: 1.59s\tremaining: 782ms\n",
            "335:\tlearn: 0.1893919\ttotal: 1.59s\tremaining: 776ms\n",
            "336:\tlearn: 0.1888540\ttotal: 1.59s\tremaining: 770ms\n",
            "337:\tlearn: 0.1884441\ttotal: 1.59s\tremaining: 765ms\n",
            "338:\tlearn: 0.1879037\ttotal: 1.6s\tremaining: 759ms\n",
            "339:\tlearn: 0.1873099\ttotal: 1.6s\tremaining: 753ms\n",
            "340:\tlearn: 0.1867935\ttotal: 1.6s\tremaining: 747ms\n",
            "341:\tlearn: 0.1862709\ttotal: 1.6s\tremaining: 741ms\n",
            "342:\tlearn: 0.1860955\ttotal: 1.61s\tremaining: 736ms\n",
            "343:\tlearn: 0.1857454\ttotal: 1.61s\tremaining: 732ms\n",
            "344:\tlearn: 0.1853749\ttotal: 1.62s\tremaining: 727ms\n",
            "345:\tlearn: 0.1850499\ttotal: 1.62s\tremaining: 721ms\n",
            "346:\tlearn: 0.1845924\ttotal: 1.62s\tremaining: 715ms\n",
            "347:\tlearn: 0.1841288\ttotal: 1.62s\tremaining: 710ms\n",
            "348:\tlearn: 0.1837640\ttotal: 1.63s\tremaining: 704ms\n",
            "349:\tlearn: 0.1832805\ttotal: 1.63s\tremaining: 700ms\n",
            "350:\tlearn: 0.1828891\ttotal: 1.64s\tremaining: 696ms\n",
            "351:\tlearn: 0.1824403\ttotal: 1.65s\tremaining: 693ms\n",
            "352:\tlearn: 0.1818922\ttotal: 1.66s\tremaining: 690ms\n",
            "353:\tlearn: 0.1815991\ttotal: 1.66s\tremaining: 686ms\n",
            "354:\tlearn: 0.1813952\ttotal: 1.67s\tremaining: 682ms\n",
            "355:\tlearn: 0.1809520\ttotal: 1.67s\tremaining: 677ms\n",
            "356:\tlearn: 0.1807998\ttotal: 1.68s\tremaining: 672ms\n",
            "357:\tlearn: 0.1805202\ttotal: 1.68s\tremaining: 668ms\n",
            "358:\tlearn: 0.1799978\ttotal: 1.69s\tremaining: 663ms\n",
            "359:\tlearn: 0.1795658\ttotal: 1.69s\tremaining: 659ms\n",
            "360:\tlearn: 0.1791556\ttotal: 1.7s\tremaining: 654ms\n",
            "361:\tlearn: 0.1787828\ttotal: 1.71s\tremaining: 650ms\n",
            "362:\tlearn: 0.1782832\ttotal: 1.71s\tremaining: 646ms\n",
            "363:\tlearn: 0.1780729\ttotal: 1.72s\tremaining: 641ms\n",
            "364:\tlearn: 0.1775588\ttotal: 1.72s\tremaining: 637ms\n",
            "365:\tlearn: 0.1771470\ttotal: 1.73s\tremaining: 633ms\n",
            "366:\tlearn: 0.1769342\ttotal: 1.73s\tremaining: 628ms\n",
            "367:\tlearn: 0.1766158\ttotal: 1.74s\tremaining: 623ms\n",
            "368:\tlearn: 0.1762343\ttotal: 1.74s\tremaining: 618ms\n",
            "369:\tlearn: 0.1759519\ttotal: 1.74s\tremaining: 613ms\n",
            "370:\tlearn: 0.1756020\ttotal: 1.75s\tremaining: 608ms\n",
            "371:\tlearn: 0.1752592\ttotal: 1.75s\tremaining: 604ms\n",
            "372:\tlearn: 0.1748519\ttotal: 1.76s\tremaining: 599ms\n",
            "373:\tlearn: 0.1744076\ttotal: 1.76s\tremaining: 594ms\n",
            "374:\tlearn: 0.1741324\ttotal: 1.77s\tremaining: 590ms\n",
            "375:\tlearn: 0.1736978\ttotal: 1.77s\tremaining: 585ms\n",
            "376:\tlearn: 0.1732813\ttotal: 1.78s\tremaining: 581ms\n",
            "377:\tlearn: 0.1730190\ttotal: 1.79s\tremaining: 577ms\n",
            "378:\tlearn: 0.1726076\ttotal: 1.79s\tremaining: 573ms\n",
            "379:\tlearn: 0.1723286\ttotal: 1.8s\tremaining: 568ms\n",
            "380:\tlearn: 0.1718827\ttotal: 1.8s\tremaining: 563ms\n",
            "381:\tlearn: 0.1714013\ttotal: 1.81s\tremaining: 559ms\n",
            "382:\tlearn: 0.1710636\ttotal: 1.82s\tremaining: 555ms\n",
            "383:\tlearn: 0.1708418\ttotal: 1.82s\tremaining: 550ms\n",
            "384:\tlearn: 0.1703202\ttotal: 1.83s\tremaining: 546ms\n",
            "385:\tlearn: 0.1699529\ttotal: 1.83s\tremaining: 542ms\n",
            "386:\tlearn: 0.1697555\ttotal: 1.84s\tremaining: 537ms\n",
            "387:\tlearn: 0.1692307\ttotal: 1.84s\tremaining: 532ms\n",
            "388:\tlearn: 0.1689339\ttotal: 1.84s\tremaining: 526ms\n",
            "389:\tlearn: 0.1685856\ttotal: 1.85s\tremaining: 522ms\n",
            "390:\tlearn: 0.1683787\ttotal: 1.86s\tremaining: 518ms\n",
            "391:\tlearn: 0.1682289\ttotal: 1.86s\tremaining: 513ms\n",
            "392:\tlearn: 0.1677009\ttotal: 1.86s\tremaining: 507ms\n",
            "393:\tlearn: 0.1674489\ttotal: 1.87s\tremaining: 503ms\n",
            "394:\tlearn: 0.1672160\ttotal: 1.87s\tremaining: 497ms\n",
            "395:\tlearn: 0.1669203\ttotal: 1.88s\tremaining: 493ms\n",
            "396:\tlearn: 0.1665613\ttotal: 1.88s\tremaining: 488ms\n",
            "397:\tlearn: 0.1663519\ttotal: 1.88s\tremaining: 483ms\n",
            "398:\tlearn: 0.1658520\ttotal: 1.89s\tremaining: 478ms\n",
            "399:\tlearn: 0.1654176\ttotal: 1.89s\tremaining: 473ms\n",
            "400:\tlearn: 0.1649620\ttotal: 1.89s\tremaining: 467ms\n",
            "401:\tlearn: 0.1645115\ttotal: 1.9s\tremaining: 462ms\n",
            "402:\tlearn: 0.1643164\ttotal: 1.9s\tremaining: 457ms\n",
            "403:\tlearn: 0.1638357\ttotal: 1.9s\tremaining: 453ms\n",
            "404:\tlearn: 0.1633018\ttotal: 1.91s\tremaining: 448ms\n",
            "405:\tlearn: 0.1630643\ttotal: 1.92s\tremaining: 443ms\n",
            "406:\tlearn: 0.1628645\ttotal: 1.92s\tremaining: 439ms\n",
            "407:\tlearn: 0.1626011\ttotal: 1.93s\tremaining: 434ms\n",
            "408:\tlearn: 0.1623750\ttotal: 1.93s\tremaining: 430ms\n",
            "409:\tlearn: 0.1618395\ttotal: 1.94s\tremaining: 425ms\n",
            "410:\tlearn: 0.1615187\ttotal: 1.94s\tremaining: 420ms\n",
            "411:\tlearn: 0.1613953\ttotal: 1.95s\tremaining: 416ms\n",
            "412:\tlearn: 0.1611916\ttotal: 1.95s\tremaining: 411ms\n",
            "413:\tlearn: 0.1607804\ttotal: 1.96s\tremaining: 406ms\n",
            "414:\tlearn: 0.1603841\ttotal: 1.96s\tremaining: 402ms\n",
            "415:\tlearn: 0.1600537\ttotal: 1.97s\tremaining: 397ms\n",
            "416:\tlearn: 0.1597980\ttotal: 1.97s\tremaining: 392ms\n",
            "417:\tlearn: 0.1596872\ttotal: 1.98s\tremaining: 388ms\n",
            "418:\tlearn: 0.1594181\ttotal: 1.98s\tremaining: 383ms\n",
            "419:\tlearn: 0.1592022\ttotal: 1.99s\tremaining: 379ms\n",
            "420:\tlearn: 0.1588743\ttotal: 1.99s\tremaining: 374ms\n",
            "421:\tlearn: 0.1583853\ttotal: 2s\tremaining: 370ms\n",
            "422:\tlearn: 0.1579845\ttotal: 2s\tremaining: 365ms\n",
            "423:\tlearn: 0.1574759\ttotal: 2.01s\tremaining: 360ms\n",
            "424:\tlearn: 0.1570002\ttotal: 2.01s\tremaining: 355ms\n",
            "425:\tlearn: 0.1567539\ttotal: 2.01s\tremaining: 350ms\n",
            "426:\tlearn: 0.1563605\ttotal: 2.02s\tremaining: 345ms\n",
            "427:\tlearn: 0.1561681\ttotal: 2.02s\tremaining: 340ms\n",
            "428:\tlearn: 0.1559966\ttotal: 2.02s\tremaining: 335ms\n",
            "429:\tlearn: 0.1558520\ttotal: 2.03s\tremaining: 330ms\n",
            "430:\tlearn: 0.1556817\ttotal: 2.03s\tremaining: 325ms\n",
            "431:\tlearn: 0.1553737\ttotal: 2.04s\tremaining: 320ms\n",
            "432:\tlearn: 0.1550157\ttotal: 2.04s\tremaining: 315ms\n",
            "433:\tlearn: 0.1545582\ttotal: 2.04s\tremaining: 311ms\n",
            "434:\tlearn: 0.1541762\ttotal: 2.05s\tremaining: 306ms\n",
            "435:\tlearn: 0.1536534\ttotal: 2.05s\tremaining: 301ms\n",
            "436:\tlearn: 0.1531422\ttotal: 2.05s\tremaining: 296ms\n",
            "437:\tlearn: 0.1528118\ttotal: 2.06s\tremaining: 291ms\n",
            "438:\tlearn: 0.1524415\ttotal: 2.06s\tremaining: 286ms\n",
            "439:\tlearn: 0.1523112\ttotal: 2.06s\tremaining: 281ms\n",
            "440:\tlearn: 0.1519658\ttotal: 2.07s\tremaining: 276ms\n",
            "441:\tlearn: 0.1516865\ttotal: 2.07s\tremaining: 271ms\n",
            "442:\tlearn: 0.1513963\ttotal: 2.07s\tremaining: 267ms\n",
            "443:\tlearn: 0.1511706\ttotal: 2.07s\tremaining: 262ms\n",
            "444:\tlearn: 0.1509110\ttotal: 2.08s\tremaining: 257ms\n",
            "445:\tlearn: 0.1504860\ttotal: 2.08s\tremaining: 252ms\n",
            "446:\tlearn: 0.1502322\ttotal: 2.08s\tremaining: 247ms\n",
            "447:\tlearn: 0.1500330\ttotal: 2.08s\tremaining: 242ms\n",
            "448:\tlearn: 0.1498968\ttotal: 2.09s\tremaining: 237ms\n",
            "449:\tlearn: 0.1495189\ttotal: 2.09s\tremaining: 232ms\n",
            "450:\tlearn: 0.1492968\ttotal: 2.1s\tremaining: 228ms\n",
            "451:\tlearn: 0.1490186\ttotal: 2.1s\tremaining: 223ms\n",
            "452:\tlearn: 0.1487440\ttotal: 2.1s\tremaining: 219ms\n",
            "453:\tlearn: 0.1485138\ttotal: 2.11s\tremaining: 214ms\n",
            "454:\tlearn: 0.1482998\ttotal: 2.11s\tremaining: 209ms\n",
            "455:\tlearn: 0.1479890\ttotal: 2.12s\tremaining: 204ms\n",
            "456:\tlearn: 0.1476950\ttotal: 2.12s\tremaining: 200ms\n",
            "457:\tlearn: 0.1472853\ttotal: 2.13s\tremaining: 195ms\n",
            "458:\tlearn: 0.1470454\ttotal: 2.13s\tremaining: 191ms\n",
            "459:\tlearn: 0.1468513\ttotal: 2.14s\tremaining: 186ms\n",
            "460:\tlearn: 0.1465969\ttotal: 2.14s\tremaining: 181ms\n",
            "461:\tlearn: 0.1462604\ttotal: 2.15s\tremaining: 177ms\n",
            "462:\tlearn: 0.1460761\ttotal: 2.15s\tremaining: 172ms\n",
            "463:\tlearn: 0.1459840\ttotal: 2.15s\tremaining: 167ms\n",
            "464:\tlearn: 0.1453941\ttotal: 2.16s\tremaining: 162ms\n",
            "465:\tlearn: 0.1449019\ttotal: 2.16s\tremaining: 158ms\n",
            "466:\tlearn: 0.1448239\ttotal: 2.17s\tremaining: 153ms\n",
            "467:\tlearn: 0.1445571\ttotal: 2.17s\tremaining: 149ms\n",
            "468:\tlearn: 0.1440895\ttotal: 2.17s\tremaining: 144ms\n",
            "469:\tlearn: 0.1439059\ttotal: 2.18s\tremaining: 139ms\n",
            "470:\tlearn: 0.1438147\ttotal: 2.18s\tremaining: 134ms\n",
            "471:\tlearn: 0.1435707\ttotal: 2.18s\tremaining: 130ms\n",
            "472:\tlearn: 0.1434041\ttotal: 2.19s\tremaining: 125ms\n",
            "473:\tlearn: 0.1431098\ttotal: 2.19s\tremaining: 120ms\n",
            "474:\tlearn: 0.1426670\ttotal: 2.19s\tremaining: 115ms\n",
            "475:\tlearn: 0.1423983\ttotal: 2.2s\tremaining: 111ms\n",
            "476:\tlearn: 0.1423112\ttotal: 2.2s\tremaining: 106ms\n",
            "477:\tlearn: 0.1420117\ttotal: 2.21s\tremaining: 102ms\n",
            "478:\tlearn: 0.1417662\ttotal: 2.22s\tremaining: 97.3ms\n",
            "479:\tlearn: 0.1414705\ttotal: 2.22s\tremaining: 92.6ms\n",
            "480:\tlearn: 0.1413029\ttotal: 2.23s\tremaining: 87.9ms\n",
            "481:\tlearn: 0.1411409\ttotal: 2.23s\tremaining: 83.2ms\n",
            "482:\tlearn: 0.1407147\ttotal: 2.23s\tremaining: 78.6ms\n",
            "483:\tlearn: 0.1404684\ttotal: 2.24s\tremaining: 73.9ms\n",
            "484:\tlearn: 0.1402048\ttotal: 2.24s\tremaining: 69.3ms\n",
            "485:\tlearn: 0.1398427\ttotal: 2.25s\tremaining: 64.7ms\n",
            "486:\tlearn: 0.1393735\ttotal: 2.25s\tremaining: 60ms\n",
            "487:\tlearn: 0.1390345\ttotal: 2.25s\tremaining: 55.4ms\n",
            "488:\tlearn: 0.1388587\ttotal: 2.25s\tremaining: 50.7ms\n",
            "489:\tlearn: 0.1386083\ttotal: 2.26s\tremaining: 46.1ms\n",
            "490:\tlearn: 0.1383299\ttotal: 2.26s\tremaining: 41.5ms\n",
            "491:\tlearn: 0.1380470\ttotal: 2.26s\tremaining: 36.8ms\n",
            "492:\tlearn: 0.1378500\ttotal: 2.27s\tremaining: 32.2ms\n",
            "493:\tlearn: 0.1376056\ttotal: 2.27s\tremaining: 27.6ms\n",
            "494:\tlearn: 0.1373050\ttotal: 2.27s\tremaining: 23ms\n",
            "495:\tlearn: 0.1370946\ttotal: 2.28s\tremaining: 18.4ms\n",
            "496:\tlearn: 0.1368559\ttotal: 2.28s\tremaining: 13.8ms\n",
            "497:\tlearn: 0.1364622\ttotal: 2.29s\tremaining: 9.18ms\n",
            "498:\tlearn: 0.1361701\ttotal: 2.29s\tremaining: 4.59ms\n",
            "499:\tlearn: 0.1358358\ttotal: 2.3s\tremaining: 0us\n",
            "[CV] END ............................depth=7, iterations=500; total time=   2.6s\n",
            "Learning rate set to 0.012927\n",
            "0:\tlearn: 0.6848838\ttotal: 6.48ms\tremaining: 3.23s\n",
            "1:\tlearn: 0.6780586\ttotal: 13.2ms\tremaining: 3.29s\n",
            "2:\tlearn: 0.6712741\ttotal: 16.8ms\tremaining: 2.77s\n",
            "3:\tlearn: 0.6649525\ttotal: 19.4ms\tremaining: 2.41s\n",
            "4:\tlearn: 0.6567028\ttotal: 23.2ms\tremaining: 2.29s\n",
            "5:\tlearn: 0.6497502\ttotal: 28.3ms\tremaining: 2.33s\n",
            "6:\tlearn: 0.6434211\ttotal: 34.3ms\tremaining: 2.42s\n",
            "7:\tlearn: 0.6376812\ttotal: 40.4ms\tremaining: 2.48s\n",
            "8:\tlearn: 0.6315628\ttotal: 45.1ms\tremaining: 2.46s\n",
            "9:\tlearn: 0.6252827\ttotal: 50.9ms\tremaining: 2.49s\n",
            "10:\tlearn: 0.6205879\ttotal: 53.2ms\tremaining: 2.36s\n",
            "11:\tlearn: 0.6149489\ttotal: 55.5ms\tremaining: 2.26s\n",
            "12:\tlearn: 0.6099356\ttotal: 57.8ms\tremaining: 2.17s\n",
            "13:\tlearn: 0.6046554\ttotal: 60.1ms\tremaining: 2.09s\n",
            "14:\tlearn: 0.5988284\ttotal: 62.4ms\tremaining: 2.02s\n",
            "15:\tlearn: 0.5927746\ttotal: 64.6ms\tremaining: 1.95s\n",
            "16:\tlearn: 0.5866872\ttotal: 66.7ms\tremaining: 1.9s\n",
            "17:\tlearn: 0.5811893\ttotal: 68.9ms\tremaining: 1.84s\n",
            "18:\tlearn: 0.5756696\ttotal: 71.1ms\tremaining: 1.8s\n",
            "19:\tlearn: 0.5709373\ttotal: 73.4ms\tremaining: 1.76s\n",
            "20:\tlearn: 0.5666364\ttotal: 75.7ms\tremaining: 1.73s\n",
            "21:\tlearn: 0.5617602\ttotal: 78.2ms\tremaining: 1.7s\n",
            "22:\tlearn: 0.5578235\ttotal: 80.4ms\tremaining: 1.67s\n",
            "23:\tlearn: 0.5546782\ttotal: 81.7ms\tremaining: 1.62s\n",
            "24:\tlearn: 0.5512701\ttotal: 83.9ms\tremaining: 1.59s\n",
            "25:\tlearn: 0.5473182\ttotal: 86.1ms\tremaining: 1.57s\n",
            "26:\tlearn: 0.5430375\ttotal: 88.2ms\tremaining: 1.54s\n",
            "27:\tlearn: 0.5389594\ttotal: 90.5ms\tremaining: 1.52s\n",
            "28:\tlearn: 0.5358663\ttotal: 92.7ms\tremaining: 1.51s\n",
            "29:\tlearn: 0.5323680\ttotal: 95.2ms\tremaining: 1.49s\n",
            "30:\tlearn: 0.5278915\ttotal: 97.5ms\tremaining: 1.47s\n",
            "31:\tlearn: 0.5241104\ttotal: 99.7ms\tremaining: 1.46s\n",
            "32:\tlearn: 0.5210092\ttotal: 103ms\tremaining: 1.45s\n",
            "33:\tlearn: 0.5165857\ttotal: 105ms\tremaining: 1.44s\n",
            "34:\tlearn: 0.5122275\ttotal: 107ms\tremaining: 1.42s\n",
            "35:\tlearn: 0.5088986\ttotal: 109ms\tremaining: 1.4s\n",
            "36:\tlearn: 0.5053461\ttotal: 111ms\tremaining: 1.39s\n",
            "37:\tlearn: 0.5033086\ttotal: 113ms\tremaining: 1.37s\n",
            "38:\tlearn: 0.4999497\ttotal: 115ms\tremaining: 1.36s\n",
            "39:\tlearn: 0.4978480\ttotal: 117ms\tremaining: 1.35s\n",
            "40:\tlearn: 0.4945364\ttotal: 120ms\tremaining: 1.34s\n",
            "41:\tlearn: 0.4920022\ttotal: 122ms\tremaining: 1.33s\n",
            "42:\tlearn: 0.4887415\ttotal: 125ms\tremaining: 1.33s\n",
            "43:\tlearn: 0.4856793\ttotal: 127ms\tremaining: 1.32s\n",
            "44:\tlearn: 0.4827070\ttotal: 129ms\tremaining: 1.31s\n",
            "45:\tlearn: 0.4795491\ttotal: 132ms\tremaining: 1.3s\n",
            "46:\tlearn: 0.4767706\ttotal: 134ms\tremaining: 1.29s\n",
            "47:\tlearn: 0.4742371\ttotal: 136ms\tremaining: 1.28s\n",
            "48:\tlearn: 0.4714876\ttotal: 138ms\tremaining: 1.27s\n",
            "49:\tlearn: 0.4691822\ttotal: 141ms\tremaining: 1.26s\n",
            "50:\tlearn: 0.4664915\ttotal: 145ms\tremaining: 1.27s\n",
            "51:\tlearn: 0.4638268\ttotal: 150ms\tremaining: 1.29s\n",
            "52:\tlearn: 0.4610438\ttotal: 154ms\tremaining: 1.3s\n",
            "53:\tlearn: 0.4587686\ttotal: 157ms\tremaining: 1.29s\n",
            "54:\tlearn: 0.4562135\ttotal: 159ms\tremaining: 1.29s\n",
            "55:\tlearn: 0.4541819\ttotal: 161ms\tremaining: 1.28s\n",
            "56:\tlearn: 0.4517857\ttotal: 163ms\tremaining: 1.27s\n",
            "57:\tlearn: 0.4491550\ttotal: 166ms\tremaining: 1.26s\n",
            "58:\tlearn: 0.4465766\ttotal: 168ms\tremaining: 1.25s\n",
            "59:\tlearn: 0.4440276\ttotal: 170ms\tremaining: 1.25s\n",
            "60:\tlearn: 0.4415228\ttotal: 172ms\tremaining: 1.24s\n",
            "61:\tlearn: 0.4395964\ttotal: 174ms\tremaining: 1.23s\n",
            "62:\tlearn: 0.4374950\ttotal: 177ms\tremaining: 1.23s\n",
            "63:\tlearn: 0.4356792\ttotal: 179ms\tremaining: 1.22s\n",
            "64:\tlearn: 0.4333967\ttotal: 181ms\tremaining: 1.21s\n",
            "65:\tlearn: 0.4317040\ttotal: 183ms\tremaining: 1.2s\n",
            "66:\tlearn: 0.4297577\ttotal: 185ms\tremaining: 1.2s\n",
            "67:\tlearn: 0.4275030\ttotal: 188ms\tremaining: 1.19s\n",
            "68:\tlearn: 0.4256136\ttotal: 190ms\tremaining: 1.19s\n",
            "69:\tlearn: 0.4230177\ttotal: 192ms\tremaining: 1.18s\n",
            "70:\tlearn: 0.4208486\ttotal: 195ms\tremaining: 1.18s\n",
            "71:\tlearn: 0.4186545\ttotal: 197ms\tremaining: 1.17s\n",
            "72:\tlearn: 0.4169347\ttotal: 199ms\tremaining: 1.16s\n",
            "73:\tlearn: 0.4149706\ttotal: 201ms\tremaining: 1.16s\n",
            "74:\tlearn: 0.4127078\ttotal: 203ms\tremaining: 1.15s\n",
            "75:\tlearn: 0.4114904\ttotal: 206ms\tremaining: 1.15s\n",
            "76:\tlearn: 0.4088922\ttotal: 208ms\tremaining: 1.14s\n",
            "77:\tlearn: 0.4066998\ttotal: 210ms\tremaining: 1.14s\n",
            "78:\tlearn: 0.4048878\ttotal: 213ms\tremaining: 1.13s\n",
            "79:\tlearn: 0.4034893\ttotal: 215ms\tremaining: 1.13s\n",
            "80:\tlearn: 0.4016922\ttotal: 217ms\tremaining: 1.12s\n",
            "81:\tlearn: 0.3999222\ttotal: 219ms\tremaining: 1.12s\n",
            "82:\tlearn: 0.3979388\ttotal: 221ms\tremaining: 1.11s\n",
            "83:\tlearn: 0.3966244\ttotal: 224ms\tremaining: 1.11s\n",
            "84:\tlearn: 0.3952556\ttotal: 226ms\tremaining: 1.1s\n",
            "85:\tlearn: 0.3934951\ttotal: 228ms\tremaining: 1.1s\n",
            "86:\tlearn: 0.3918373\ttotal: 230ms\tremaining: 1.09s\n",
            "87:\tlearn: 0.3897703\ttotal: 232ms\tremaining: 1.09s\n",
            "88:\tlearn: 0.3885995\ttotal: 235ms\tremaining: 1.08s\n",
            "89:\tlearn: 0.3864307\ttotal: 237ms\tremaining: 1.08s\n",
            "90:\tlearn: 0.3842650\ttotal: 239ms\tremaining: 1.07s\n",
            "91:\tlearn: 0.3823820\ttotal: 241ms\tremaining: 1.07s\n",
            "92:\tlearn: 0.3809371\ttotal: 244ms\tremaining: 1.06s\n",
            "93:\tlearn: 0.3796624\ttotal: 246ms\tremaining: 1.06s\n",
            "94:\tlearn: 0.3780907\ttotal: 252ms\tremaining: 1.07s\n",
            "95:\tlearn: 0.3765727\ttotal: 256ms\tremaining: 1.08s\n",
            "96:\tlearn: 0.3749853\ttotal: 262ms\tremaining: 1.09s\n",
            "97:\tlearn: 0.3733668\ttotal: 267ms\tremaining: 1.1s\n",
            "98:\tlearn: 0.3718162\ttotal: 272ms\tremaining: 1.1s\n",
            "99:\tlearn: 0.3705165\ttotal: 274ms\tremaining: 1.1s\n",
            "100:\tlearn: 0.3688540\ttotal: 277ms\tremaining: 1.09s\n",
            "101:\tlearn: 0.3672319\ttotal: 279ms\tremaining: 1.09s\n",
            "102:\tlearn: 0.3656337\ttotal: 281ms\tremaining: 1.08s\n",
            "103:\tlearn: 0.3642669\ttotal: 284ms\tremaining: 1.08s\n",
            "104:\tlearn: 0.3632082\ttotal: 286ms\tremaining: 1.07s\n",
            "105:\tlearn: 0.3611081\ttotal: 288ms\tremaining: 1.07s\n",
            "106:\tlearn: 0.3596471\ttotal: 290ms\tremaining: 1.07s\n",
            "107:\tlearn: 0.3577851\ttotal: 293ms\tremaining: 1.06s\n",
            "108:\tlearn: 0.3567196\ttotal: 295ms\tremaining: 1.06s\n",
            "109:\tlearn: 0.3556046\ttotal: 297ms\tremaining: 1.05s\n",
            "110:\tlearn: 0.3542037\ttotal: 299ms\tremaining: 1.05s\n",
            "111:\tlearn: 0.3529098\ttotal: 302ms\tremaining: 1.04s\n",
            "112:\tlearn: 0.3516213\ttotal: 304ms\tremaining: 1.04s\n",
            "113:\tlearn: 0.3501294\ttotal: 306ms\tremaining: 1.04s\n",
            "114:\tlearn: 0.3487912\ttotal: 309ms\tremaining: 1.03s\n",
            "115:\tlearn: 0.3475229\ttotal: 311ms\tremaining: 1.03s\n",
            "116:\tlearn: 0.3468496\ttotal: 313ms\tremaining: 1.02s\n",
            "117:\tlearn: 0.3457437\ttotal: 316ms\tremaining: 1.02s\n",
            "118:\tlearn: 0.3448119\ttotal: 318ms\tremaining: 1.02s\n",
            "119:\tlearn: 0.3434137\ttotal: 320ms\tremaining: 1.01s\n",
            "120:\tlearn: 0.3422094\ttotal: 322ms\tremaining: 1.01s\n",
            "121:\tlearn: 0.3409404\ttotal: 324ms\tremaining: 1s\n",
            "122:\tlearn: 0.3398412\ttotal: 327ms\tremaining: 1s\n",
            "123:\tlearn: 0.3387650\ttotal: 330ms\tremaining: 999ms\n",
            "124:\tlearn: 0.3377388\ttotal: 335ms\tremaining: 1s\n",
            "125:\tlearn: 0.3371360\ttotal: 338ms\tremaining: 1s\n",
            "126:\tlearn: 0.3365224\ttotal: 344ms\tremaining: 1.01s\n",
            "127:\tlearn: 0.3355882\ttotal: 348ms\tremaining: 1.01s\n",
            "128:\tlearn: 0.3345516\ttotal: 352ms\tremaining: 1.01s\n",
            "129:\tlearn: 0.3337461\ttotal: 355ms\tremaining: 1.01s\n",
            "130:\tlearn: 0.3321824\ttotal: 357ms\tremaining: 1s\n",
            "131:\tlearn: 0.3313643\ttotal: 359ms\tremaining: 1s\n",
            "132:\tlearn: 0.3307005\ttotal: 361ms\tremaining: 997ms\n",
            "133:\tlearn: 0.3297658\ttotal: 364ms\tremaining: 993ms\n",
            "134:\tlearn: 0.3288922\ttotal: 366ms\tremaining: 989ms\n",
            "135:\tlearn: 0.3277882\ttotal: 368ms\tremaining: 985ms\n",
            "136:\tlearn: 0.3269704\ttotal: 370ms\tremaining: 981ms\n",
            "137:\tlearn: 0.3265207\ttotal: 372ms\tremaining: 977ms\n",
            "138:\tlearn: 0.3254393\ttotal: 375ms\tremaining: 973ms\n",
            "139:\tlearn: 0.3246736\ttotal: 377ms\tremaining: 969ms\n",
            "140:\tlearn: 0.3233275\ttotal: 379ms\tremaining: 965ms\n",
            "141:\tlearn: 0.3223455\ttotal: 382ms\tremaining: 963ms\n",
            "142:\tlearn: 0.3215183\ttotal: 384ms\tremaining: 959ms\n",
            "143:\tlearn: 0.3201348\ttotal: 386ms\tremaining: 955ms\n",
            "144:\tlearn: 0.3192674\ttotal: 388ms\tremaining: 950ms\n",
            "145:\tlearn: 0.3181933\ttotal: 390ms\tremaining: 947ms\n",
            "146:\tlearn: 0.3170795\ttotal: 393ms\tremaining: 943ms\n",
            "147:\tlearn: 0.3160900\ttotal: 395ms\tremaining: 939ms\n",
            "148:\tlearn: 0.3150511\ttotal: 397ms\tremaining: 935ms\n",
            "149:\tlearn: 0.3138792\ttotal: 399ms\tremaining: 931ms\n",
            "150:\tlearn: 0.3130311\ttotal: 401ms\tremaining: 927ms\n",
            "151:\tlearn: 0.3120493\ttotal: 403ms\tremaining: 923ms\n",
            "152:\tlearn: 0.3111799\ttotal: 405ms\tremaining: 919ms\n",
            "153:\tlearn: 0.3102495\ttotal: 407ms\tremaining: 915ms\n",
            "154:\tlearn: 0.3093043\ttotal: 410ms\tremaining: 912ms\n",
            "155:\tlearn: 0.3085291\ttotal: 412ms\tremaining: 908ms\n",
            "156:\tlearn: 0.3079416\ttotal: 414ms\tremaining: 904ms\n",
            "157:\tlearn: 0.3069388\ttotal: 417ms\tremaining: 903ms\n",
            "158:\tlearn: 0.3056182\ttotal: 420ms\tremaining: 900ms\n",
            "159:\tlearn: 0.3046879\ttotal: 422ms\tremaining: 896ms\n",
            "160:\tlearn: 0.3037390\ttotal: 424ms\tremaining: 893ms\n",
            "161:\tlearn: 0.3025393\ttotal: 427ms\tremaining: 891ms\n",
            "162:\tlearn: 0.3018372\ttotal: 429ms\tremaining: 887ms\n",
            "163:\tlearn: 0.3009133\ttotal: 431ms\tremaining: 884ms\n",
            "164:\tlearn: 0.3002829\ttotal: 434ms\tremaining: 880ms\n",
            "165:\tlearn: 0.2988605\ttotal: 436ms\tremaining: 877ms\n",
            "166:\tlearn: 0.2982709\ttotal: 438ms\tremaining: 873ms\n",
            "167:\tlearn: 0.2973442\ttotal: 440ms\tremaining: 870ms\n",
            "168:\tlearn: 0.2964629\ttotal: 442ms\tremaining: 867ms\n",
            "169:\tlearn: 0.2959519\ttotal: 445ms\tremaining: 863ms\n",
            "170:\tlearn: 0.2953567\ttotal: 447ms\tremaining: 859ms\n",
            "171:\tlearn: 0.2948118\ttotal: 449ms\tremaining: 856ms\n",
            "172:\tlearn: 0.2943252\ttotal: 451ms\tremaining: 852ms\n",
            "173:\tlearn: 0.2935193\ttotal: 453ms\tremaining: 849ms\n",
            "174:\tlearn: 0.2926588\ttotal: 456ms\tremaining: 846ms\n",
            "175:\tlearn: 0.2919971\ttotal: 458ms\tremaining: 843ms\n",
            "176:\tlearn: 0.2914331\ttotal: 460ms\tremaining: 840ms\n",
            "177:\tlearn: 0.2910529\ttotal: 462ms\tremaining: 836ms\n",
            "178:\tlearn: 0.2901331\ttotal: 465ms\tremaining: 833ms\n",
            "179:\tlearn: 0.2894400\ttotal: 467ms\tremaining: 830ms\n",
            "180:\tlearn: 0.2890145\ttotal: 469ms\tremaining: 826ms\n",
            "181:\tlearn: 0.2882404\ttotal: 471ms\tremaining: 823ms\n",
            "182:\tlearn: 0.2878026\ttotal: 473ms\tremaining: 819ms\n",
            "183:\tlearn: 0.2874358\ttotal: 475ms\tremaining: 816ms\n",
            "184:\tlearn: 0.2867252\ttotal: 477ms\tremaining: 813ms\n",
            "185:\tlearn: 0.2855862\ttotal: 480ms\tremaining: 809ms\n",
            "186:\tlearn: 0.2848963\ttotal: 482ms\tremaining: 806ms\n",
            "187:\tlearn: 0.2844275\ttotal: 484ms\tremaining: 803ms\n",
            "188:\tlearn: 0.2836954\ttotal: 486ms\tremaining: 800ms\n",
            "189:\tlearn: 0.2830601\ttotal: 489ms\tremaining: 797ms\n",
            "190:\tlearn: 0.2821878\ttotal: 491ms\tremaining: 794ms\n",
            "191:\tlearn: 0.2813205\ttotal: 493ms\tremaining: 791ms\n",
            "192:\tlearn: 0.2802956\ttotal: 497ms\tremaining: 791ms\n",
            "193:\tlearn: 0.2794643\ttotal: 500ms\tremaining: 788ms\n",
            "194:\tlearn: 0.2786425\ttotal: 502ms\tremaining: 785ms\n",
            "195:\tlearn: 0.2779195\ttotal: 504ms\tremaining: 782ms\n",
            "196:\tlearn: 0.2774266\ttotal: 506ms\tremaining: 778ms\n",
            "197:\tlearn: 0.2772545\ttotal: 507ms\tremaining: 773ms\n",
            "198:\tlearn: 0.2766424\ttotal: 510ms\tremaining: 772ms\n",
            "199:\tlearn: 0.2762335\ttotal: 513ms\tremaining: 769ms\n",
            "200:\tlearn: 0.2760229\ttotal: 515ms\tremaining: 766ms\n",
            "201:\tlearn: 0.2754850\ttotal: 517ms\tremaining: 763ms\n",
            "202:\tlearn: 0.2749551\ttotal: 520ms\tremaining: 761ms\n",
            "203:\tlearn: 0.2742705\ttotal: 522ms\tremaining: 758ms\n",
            "204:\tlearn: 0.2737921\ttotal: 524ms\tremaining: 754ms\n",
            "205:\tlearn: 0.2730227\ttotal: 526ms\tremaining: 751ms\n",
            "206:\tlearn: 0.2722293\ttotal: 529ms\tremaining: 749ms\n",
            "207:\tlearn: 0.2718530\ttotal: 532ms\tremaining: 746ms\n",
            "208:\tlearn: 0.2715791\ttotal: 535ms\tremaining: 744ms\n",
            "209:\tlearn: 0.2710790\ttotal: 540ms\tremaining: 745ms\n",
            "210:\tlearn: 0.2704018\ttotal: 542ms\tremaining: 743ms\n",
            "211:\tlearn: 0.2696710\ttotal: 545ms\tremaining: 741ms\n",
            "212:\tlearn: 0.2688725\ttotal: 547ms\tremaining: 737ms\n",
            "213:\tlearn: 0.2682824\ttotal: 549ms\tremaining: 734ms\n",
            "214:\tlearn: 0.2676564\ttotal: 551ms\tremaining: 730ms\n",
            "215:\tlearn: 0.2673859\ttotal: 553ms\tremaining: 727ms\n",
            "216:\tlearn: 0.2668093\ttotal: 556ms\tremaining: 726ms\n",
            "217:\tlearn: 0.2663672\ttotal: 558ms\tremaining: 722ms\n",
            "218:\tlearn: 0.2653490\ttotal: 560ms\tremaining: 719ms\n",
            "219:\tlearn: 0.2648129\ttotal: 562ms\tremaining: 716ms\n",
            "220:\tlearn: 0.2644341\ttotal: 564ms\tremaining: 712ms\n",
            "221:\tlearn: 0.2635736\ttotal: 566ms\tremaining: 709ms\n",
            "222:\tlearn: 0.2631091\ttotal: 569ms\tremaining: 706ms\n",
            "223:\tlearn: 0.2623172\ttotal: 571ms\tremaining: 703ms\n",
            "224:\tlearn: 0.2616472\ttotal: 573ms\tremaining: 700ms\n",
            "225:\tlearn: 0.2607457\ttotal: 577ms\tremaining: 699ms\n",
            "226:\tlearn: 0.2599621\ttotal: 579ms\tremaining: 696ms\n",
            "227:\tlearn: 0.2592729\ttotal: 583ms\tremaining: 695ms\n",
            "228:\tlearn: 0.2587331\ttotal: 585ms\tremaining: 692ms\n",
            "229:\tlearn: 0.2577783\ttotal: 587ms\tremaining: 689ms\n",
            "230:\tlearn: 0.2573292\ttotal: 590ms\tremaining: 686ms\n",
            "231:\tlearn: 0.2568460\ttotal: 592ms\tremaining: 683ms\n",
            "232:\tlearn: 0.2564303\ttotal: 594ms\tremaining: 681ms\n",
            "233:\tlearn: 0.2557386\ttotal: 596ms\tremaining: 678ms\n",
            "234:\tlearn: 0.2553020\ttotal: 598ms\tremaining: 675ms\n",
            "235:\tlearn: 0.2544392\ttotal: 600ms\tremaining: 672ms\n",
            "236:\tlearn: 0.2539035\ttotal: 603ms\tremaining: 669ms\n",
            "237:\tlearn: 0.2532656\ttotal: 605ms\tremaining: 666ms\n",
            "238:\tlearn: 0.2526200\ttotal: 607ms\tremaining: 663ms\n",
            "239:\tlearn: 0.2519534\ttotal: 609ms\tremaining: 660ms\n",
            "240:\tlearn: 0.2514127\ttotal: 612ms\tremaining: 657ms\n",
            "241:\tlearn: 0.2503748\ttotal: 614ms\tremaining: 654ms\n",
            "242:\tlearn: 0.2499894\ttotal: 616ms\tremaining: 651ms\n",
            "243:\tlearn: 0.2493321\ttotal: 618ms\tremaining: 648ms\n",
            "244:\tlearn: 0.2486709\ttotal: 620ms\tremaining: 646ms\n",
            "245:\tlearn: 0.2480055\ttotal: 623ms\tremaining: 644ms\n",
            "246:\tlearn: 0.2473778\ttotal: 627ms\tremaining: 642ms\n",
            "247:\tlearn: 0.2464526\ttotal: 629ms\tremaining: 640ms\n",
            "248:\tlearn: 0.2458865\ttotal: 631ms\tremaining: 637ms\n",
            "249:\tlearn: 0.2453101\ttotal: 634ms\tremaining: 634ms\n",
            "250:\tlearn: 0.2446836\ttotal: 636ms\tremaining: 631ms\n",
            "251:\tlearn: 0.2442684\ttotal: 638ms\tremaining: 628ms\n",
            "252:\tlearn: 0.2439494\ttotal: 640ms\tremaining: 625ms\n",
            "253:\tlearn: 0.2430509\ttotal: 642ms\tremaining: 622ms\n",
            "254:\tlearn: 0.2423671\ttotal: 644ms\tremaining: 619ms\n",
            "255:\tlearn: 0.2419415\ttotal: 646ms\tremaining: 616ms\n",
            "256:\tlearn: 0.2411477\ttotal: 649ms\tremaining: 613ms\n",
            "257:\tlearn: 0.2404424\ttotal: 651ms\tremaining: 610ms\n",
            "258:\tlearn: 0.2399779\ttotal: 653ms\tremaining: 607ms\n",
            "259:\tlearn: 0.2391430\ttotal: 655ms\tremaining: 605ms\n",
            "260:\tlearn: 0.2387946\ttotal: 657ms\tremaining: 602ms\n",
            "261:\tlearn: 0.2383722\ttotal: 660ms\tremaining: 599ms\n",
            "262:\tlearn: 0.2378140\ttotal: 662ms\tremaining: 596ms\n",
            "263:\tlearn: 0.2374388\ttotal: 664ms\tremaining: 593ms\n",
            "264:\tlearn: 0.2369590\ttotal: 666ms\tremaining: 591ms\n",
            "265:\tlearn: 0.2363937\ttotal: 668ms\tremaining: 588ms\n",
            "266:\tlearn: 0.2359597\ttotal: 671ms\tremaining: 585ms\n",
            "267:\tlearn: 0.2356678\ttotal: 673ms\tremaining: 582ms\n",
            "268:\tlearn: 0.2353503\ttotal: 675ms\tremaining: 580ms\n",
            "269:\tlearn: 0.2348397\ttotal: 677ms\tremaining: 577ms\n",
            "270:\tlearn: 0.2345581\ttotal: 679ms\tremaining: 574ms\n",
            "271:\tlearn: 0.2340858\ttotal: 681ms\tremaining: 571ms\n",
            "272:\tlearn: 0.2338917\ttotal: 684ms\tremaining: 568ms\n",
            "273:\tlearn: 0.2334297\ttotal: 686ms\tremaining: 566ms\n",
            "274:\tlearn: 0.2330091\ttotal: 688ms\tremaining: 563ms\n",
            "275:\tlearn: 0.2326627\ttotal: 690ms\tremaining: 560ms\n",
            "276:\tlearn: 0.2324162\ttotal: 692ms\tremaining: 557ms\n",
            "277:\tlearn: 0.2319480\ttotal: 695ms\tremaining: 555ms\n",
            "278:\tlearn: 0.2311542\ttotal: 697ms\tremaining: 552ms\n",
            "279:\tlearn: 0.2305662\ttotal: 699ms\tremaining: 549ms\n",
            "280:\tlearn: 0.2302700\ttotal: 701ms\tremaining: 546ms\n",
            "281:\tlearn: 0.2297336\ttotal: 703ms\tremaining: 544ms\n",
            "282:\tlearn: 0.2290036\ttotal: 706ms\tremaining: 541ms\n",
            "283:\tlearn: 0.2285290\ttotal: 708ms\tremaining: 539ms\n",
            "284:\tlearn: 0.2279912\ttotal: 710ms\tremaining: 536ms\n",
            "285:\tlearn: 0.2274710\ttotal: 712ms\tremaining: 533ms\n",
            "286:\tlearn: 0.2270739\ttotal: 715ms\tremaining: 530ms\n",
            "287:\tlearn: 0.2267090\ttotal: 718ms\tremaining: 528ms\n",
            "288:\tlearn: 0.2260388\ttotal: 724ms\tremaining: 528ms\n",
            "289:\tlearn: 0.2253713\ttotal: 728ms\tremaining: 527ms\n",
            "290:\tlearn: 0.2252541\ttotal: 730ms\tremaining: 524ms\n",
            "291:\tlearn: 0.2249629\ttotal: 732ms\tremaining: 521ms\n",
            "292:\tlearn: 0.2244042\ttotal: 734ms\tremaining: 518ms\n",
            "293:\tlearn: 0.2240110\ttotal: 736ms\tremaining: 516ms\n",
            "294:\tlearn: 0.2236610\ttotal: 738ms\tremaining: 513ms\n",
            "295:\tlearn: 0.2233883\ttotal: 740ms\tremaining: 510ms\n",
            "296:\tlearn: 0.2228539\ttotal: 742ms\tremaining: 507ms\n",
            "297:\tlearn: 0.2225230\ttotal: 745ms\tremaining: 505ms\n",
            "298:\tlearn: 0.2218059\ttotal: 747ms\tremaining: 502ms\n",
            "299:\tlearn: 0.2216940\ttotal: 748ms\tremaining: 499ms\n",
            "300:\tlearn: 0.2213035\ttotal: 750ms\tremaining: 496ms\n",
            "301:\tlearn: 0.2206172\ttotal: 752ms\tremaining: 493ms\n",
            "302:\tlearn: 0.2200212\ttotal: 754ms\tremaining: 490ms\n",
            "303:\tlearn: 0.2199308\ttotal: 756ms\tremaining: 487ms\n",
            "304:\tlearn: 0.2194306\ttotal: 758ms\tremaining: 485ms\n",
            "305:\tlearn: 0.2189395\ttotal: 760ms\tremaining: 482ms\n",
            "306:\tlearn: 0.2183973\ttotal: 763ms\tremaining: 480ms\n",
            "307:\tlearn: 0.2181773\ttotal: 766ms\tremaining: 478ms\n",
            "308:\tlearn: 0.2177970\ttotal: 769ms\tremaining: 475ms\n",
            "309:\tlearn: 0.2175339\ttotal: 771ms\tremaining: 472ms\n",
            "310:\tlearn: 0.2171821\ttotal: 773ms\tremaining: 470ms\n",
            "311:\tlearn: 0.2167011\ttotal: 775ms\tremaining: 467ms\n",
            "312:\tlearn: 0.2164606\ttotal: 777ms\tremaining: 464ms\n",
            "313:\tlearn: 0.2160935\ttotal: 779ms\tremaining: 462ms\n",
            "314:\tlearn: 0.2154328\ttotal: 781ms\tremaining: 459ms\n",
            "315:\tlearn: 0.2149478\ttotal: 784ms\tremaining: 456ms\n",
            "316:\tlearn: 0.2144974\ttotal: 786ms\tremaining: 454ms\n",
            "317:\tlearn: 0.2140810\ttotal: 788ms\tremaining: 451ms\n",
            "318:\tlearn: 0.2135971\ttotal: 790ms\tremaining: 448ms\n",
            "319:\tlearn: 0.2131461\ttotal: 792ms\tremaining: 446ms\n",
            "320:\tlearn: 0.2128086\ttotal: 795ms\tremaining: 443ms\n",
            "321:\tlearn: 0.2123792\ttotal: 797ms\tremaining: 441ms\n",
            "322:\tlearn: 0.2121298\ttotal: 799ms\tremaining: 438ms\n",
            "323:\tlearn: 0.2115438\ttotal: 801ms\tremaining: 435ms\n",
            "324:\tlearn: 0.2111466\ttotal: 803ms\tremaining: 433ms\n",
            "325:\tlearn: 0.2107884\ttotal: 806ms\tremaining: 430ms\n",
            "326:\tlearn: 0.2103650\ttotal: 808ms\tremaining: 428ms\n",
            "327:\tlearn: 0.2100939\ttotal: 812ms\tremaining: 426ms\n",
            "328:\tlearn: 0.2096244\ttotal: 815ms\tremaining: 424ms\n",
            "329:\tlearn: 0.2092511\ttotal: 817ms\tremaining: 421ms\n",
            "330:\tlearn: 0.2087538\ttotal: 819ms\tremaining: 418ms\n",
            "331:\tlearn: 0.2085031\ttotal: 821ms\tremaining: 416ms\n",
            "332:\tlearn: 0.2075957\ttotal: 824ms\tremaining: 413ms\n",
            "333:\tlearn: 0.2070952\ttotal: 826ms\tremaining: 410ms\n",
            "334:\tlearn: 0.2063265\ttotal: 828ms\tremaining: 408ms\n",
            "335:\tlearn: 0.2059545\ttotal: 830ms\tremaining: 405ms\n",
            "336:\tlearn: 0.2055508\ttotal: 832ms\tremaining: 403ms\n",
            "337:\tlearn: 0.2050076\ttotal: 834ms\tremaining: 400ms\n",
            "338:\tlearn: 0.2047481\ttotal: 836ms\tremaining: 397ms\n",
            "339:\tlearn: 0.2044593\ttotal: 839ms\tremaining: 395ms\n",
            "340:\tlearn: 0.2038652\ttotal: 842ms\tremaining: 393ms\n",
            "341:\tlearn: 0.2030087\ttotal: 846ms\tremaining: 391ms\n",
            "342:\tlearn: 0.2023972\ttotal: 849ms\tremaining: 389ms\n",
            "343:\tlearn: 0.2019417\ttotal: 853ms\tremaining: 387ms\n",
            "344:\tlearn: 0.2014813\ttotal: 856ms\tremaining: 385ms\n",
            "345:\tlearn: 0.2010457\ttotal: 858ms\tremaining: 382ms\n",
            "346:\tlearn: 0.2006235\ttotal: 860ms\tremaining: 379ms\n",
            "347:\tlearn: 0.2001472\ttotal: 862ms\tremaining: 376ms\n",
            "348:\tlearn: 0.1995797\ttotal: 864ms\tremaining: 374ms\n",
            "349:\tlearn: 0.1991134\ttotal: 866ms\tremaining: 371ms\n",
            "350:\tlearn: 0.1986783\ttotal: 868ms\tremaining: 369ms\n",
            "351:\tlearn: 0.1981344\ttotal: 870ms\tremaining: 366ms\n",
            "352:\tlearn: 0.1977907\ttotal: 873ms\tremaining: 363ms\n",
            "353:\tlearn: 0.1975103\ttotal: 875ms\tremaining: 361ms\n",
            "354:\tlearn: 0.1969983\ttotal: 877ms\tremaining: 358ms\n",
            "355:\tlearn: 0.1967727\ttotal: 879ms\tremaining: 355ms\n",
            "356:\tlearn: 0.1963768\ttotal: 881ms\tremaining: 353ms\n",
            "357:\tlearn: 0.1959269\ttotal: 883ms\tremaining: 350ms\n",
            "358:\tlearn: 0.1952086\ttotal: 885ms\tremaining: 348ms\n",
            "359:\tlearn: 0.1948912\ttotal: 887ms\tremaining: 345ms\n",
            "360:\tlearn: 0.1944537\ttotal: 890ms\tremaining: 343ms\n",
            "361:\tlearn: 0.1940993\ttotal: 892ms\tremaining: 340ms\n",
            "362:\tlearn: 0.1937255\ttotal: 894ms\tremaining: 337ms\n",
            "363:\tlearn: 0.1934285\ttotal: 896ms\tremaining: 335ms\n",
            "364:\tlearn: 0.1930788\ttotal: 898ms\tremaining: 332ms\n",
            "365:\tlearn: 0.1928197\ttotal: 900ms\tremaining: 330ms\n",
            "366:\tlearn: 0.1922892\ttotal: 902ms\tremaining: 327ms\n",
            "367:\tlearn: 0.1920313\ttotal: 904ms\tremaining: 324ms\n",
            "368:\tlearn: 0.1916174\ttotal: 906ms\tremaining: 322ms\n",
            "369:\tlearn: 0.1912951\ttotal: 909ms\tremaining: 319ms\n",
            "370:\tlearn: 0.1908734\ttotal: 911ms\tremaining: 317ms\n",
            "371:\tlearn: 0.1905995\ttotal: 913ms\tremaining: 314ms\n",
            "372:\tlearn: 0.1905089\ttotal: 915ms\tremaining: 312ms\n",
            "373:\tlearn: 0.1901682\ttotal: 919ms\tremaining: 310ms\n",
            "374:\tlearn: 0.1898478\ttotal: 922ms\tremaining: 307ms\n",
            "375:\tlearn: 0.1895676\ttotal: 925ms\tremaining: 305ms\n",
            "376:\tlearn: 0.1891926\ttotal: 933ms\tremaining: 305ms\n",
            "377:\tlearn: 0.1889232\ttotal: 936ms\tremaining: 302ms\n",
            "378:\tlearn: 0.1883927\ttotal: 938ms\tremaining: 300ms\n",
            "379:\tlearn: 0.1878555\ttotal: 940ms\tremaining: 297ms\n",
            "380:\tlearn: 0.1875931\ttotal: 943ms\tremaining: 294ms\n",
            "381:\tlearn: 0.1873191\ttotal: 945ms\tremaining: 292ms\n",
            "382:\tlearn: 0.1868885\ttotal: 947ms\tremaining: 289ms\n",
            "383:\tlearn: 0.1866672\ttotal: 949ms\tremaining: 287ms\n",
            "384:\tlearn: 0.1860102\ttotal: 951ms\tremaining: 284ms\n",
            "385:\tlearn: 0.1854562\ttotal: 953ms\tremaining: 282ms\n",
            "386:\tlearn: 0.1852029\ttotal: 955ms\tremaining: 279ms\n",
            "387:\tlearn: 0.1849110\ttotal: 958ms\tremaining: 277ms\n",
            "388:\tlearn: 0.1843224\ttotal: 960ms\tremaining: 274ms\n",
            "389:\tlearn: 0.1839662\ttotal: 962ms\tremaining: 271ms\n",
            "390:\tlearn: 0.1836280\ttotal: 964ms\tremaining: 269ms\n",
            "391:\tlearn: 0.1832491\ttotal: 967ms\tremaining: 266ms\n",
            "392:\tlearn: 0.1829284\ttotal: 969ms\tremaining: 264ms\n",
            "393:\tlearn: 0.1824655\ttotal: 971ms\tremaining: 261ms\n",
            "394:\tlearn: 0.1819870\ttotal: 973ms\tremaining: 259ms\n",
            "395:\tlearn: 0.1817612\ttotal: 975ms\tremaining: 256ms\n",
            "396:\tlearn: 0.1812464\ttotal: 978ms\tremaining: 254ms\n",
            "397:\tlearn: 0.1808686\ttotal: 980ms\tremaining: 251ms\n",
            "398:\tlearn: 0.1801151\ttotal: 982ms\tremaining: 249ms\n",
            "399:\tlearn: 0.1799304\ttotal: 984ms\tremaining: 246ms\n",
            "400:\tlearn: 0.1799148\ttotal: 985ms\tremaining: 243ms\n",
            "401:\tlearn: 0.1796420\ttotal: 987ms\tremaining: 241ms\n",
            "402:\tlearn: 0.1794866\ttotal: 989ms\tremaining: 238ms\n",
            "403:\tlearn: 0.1789080\ttotal: 992ms\tremaining: 236ms\n",
            "404:\tlearn: 0.1785540\ttotal: 994ms\tremaining: 233ms\n",
            "405:\tlearn: 0.1782987\ttotal: 996ms\tremaining: 231ms\n",
            "406:\tlearn: 0.1779746\ttotal: 998ms\tremaining: 228ms\n",
            "407:\tlearn: 0.1777720\ttotal: 1s\tremaining: 226ms\n",
            "408:\tlearn: 0.1773464\ttotal: 1s\tremaining: 223ms\n",
            "409:\tlearn: 0.1772774\ttotal: 1s\tremaining: 221ms\n",
            "410:\tlearn: 0.1769149\ttotal: 1.01s\tremaining: 218ms\n",
            "411:\tlearn: 0.1763572\ttotal: 1.01s\tremaining: 216ms\n",
            "412:\tlearn: 0.1758827\ttotal: 1.01s\tremaining: 213ms\n",
            "413:\tlearn: 0.1757049\ttotal: 1.01s\tremaining: 211ms\n",
            "414:\tlearn: 0.1754630\ttotal: 1.02s\tremaining: 208ms\n",
            "415:\tlearn: 0.1750547\ttotal: 1.02s\tremaining: 206ms\n",
            "416:\tlearn: 0.1746194\ttotal: 1.02s\tremaining: 203ms\n",
            "417:\tlearn: 0.1742958\ttotal: 1.02s\tremaining: 201ms\n",
            "418:\tlearn: 0.1741249\ttotal: 1.02s\tremaining: 198ms\n",
            "419:\tlearn: 0.1737111\ttotal: 1.03s\tremaining: 196ms\n",
            "420:\tlearn: 0.1734187\ttotal: 1.03s\tremaining: 193ms\n",
            "421:\tlearn: 0.1728475\ttotal: 1.03s\tremaining: 191ms\n",
            "422:\tlearn: 0.1725505\ttotal: 1.03s\tremaining: 188ms\n",
            "423:\tlearn: 0.1719071\ttotal: 1.04s\tremaining: 186ms\n",
            "424:\tlearn: 0.1715202\ttotal: 1.04s\tremaining: 183ms\n",
            "425:\tlearn: 0.1712395\ttotal: 1.04s\tremaining: 181ms\n",
            "426:\tlearn: 0.1710681\ttotal: 1.04s\tremaining: 178ms\n",
            "427:\tlearn: 0.1707754\ttotal: 1.05s\tremaining: 176ms\n",
            "428:\tlearn: 0.1706096\ttotal: 1.05s\tremaining: 173ms\n",
            "429:\tlearn: 0.1703828\ttotal: 1.05s\tremaining: 171ms\n",
            "430:\tlearn: 0.1700936\ttotal: 1.05s\tremaining: 169ms\n",
            "431:\tlearn: 0.1697891\ttotal: 1.05s\tremaining: 166ms\n",
            "432:\tlearn: 0.1694843\ttotal: 1.06s\tremaining: 164ms\n",
            "433:\tlearn: 0.1693043\ttotal: 1.06s\tremaining: 161ms\n",
            "434:\tlearn: 0.1692366\ttotal: 1.06s\tremaining: 159ms\n",
            "435:\tlearn: 0.1689446\ttotal: 1.06s\tremaining: 156ms\n",
            "436:\tlearn: 0.1685311\ttotal: 1.06s\tremaining: 154ms\n",
            "437:\tlearn: 0.1682984\ttotal: 1.07s\tremaining: 151ms\n",
            "438:\tlearn: 0.1679575\ttotal: 1.07s\tremaining: 149ms\n",
            "439:\tlearn: 0.1677200\ttotal: 1.07s\tremaining: 146ms\n",
            "440:\tlearn: 0.1675121\ttotal: 1.07s\tremaining: 144ms\n",
            "441:\tlearn: 0.1672496\ttotal: 1.08s\tremaining: 141ms\n",
            "442:\tlearn: 0.1667036\ttotal: 1.08s\tremaining: 139ms\n",
            "443:\tlearn: 0.1660847\ttotal: 1.08s\tremaining: 136ms\n",
            "444:\tlearn: 0.1658139\ttotal: 1.08s\tremaining: 134ms\n",
            "445:\tlearn: 0.1655449\ttotal: 1.08s\tremaining: 131ms\n",
            "446:\tlearn: 0.1651503\ttotal: 1.09s\tremaining: 129ms\n",
            "447:\tlearn: 0.1648280\ttotal: 1.09s\tremaining: 127ms\n",
            "448:\tlearn: 0.1642964\ttotal: 1.09s\tremaining: 124ms\n",
            "449:\tlearn: 0.1638633\ttotal: 1.09s\tremaining: 122ms\n",
            "450:\tlearn: 0.1632826\ttotal: 1.1s\tremaining: 119ms\n",
            "451:\tlearn: 0.1629232\ttotal: 1.1s\tremaining: 117ms\n",
            "452:\tlearn: 0.1624008\ttotal: 1.1s\tremaining: 114ms\n",
            "453:\tlearn: 0.1622083\ttotal: 1.1s\tremaining: 112ms\n",
            "454:\tlearn: 0.1618933\ttotal: 1.1s\tremaining: 109ms\n",
            "455:\tlearn: 0.1617022\ttotal: 1.11s\tremaining: 107ms\n",
            "456:\tlearn: 0.1614656\ttotal: 1.11s\tremaining: 104ms\n",
            "457:\tlearn: 0.1610204\ttotal: 1.11s\tremaining: 102ms\n",
            "458:\tlearn: 0.1609032\ttotal: 1.12s\tremaining: 99.8ms\n",
            "459:\tlearn: 0.1606173\ttotal: 1.12s\tremaining: 97.6ms\n",
            "460:\tlearn: 0.1603630\ttotal: 1.13s\tremaining: 95.2ms\n",
            "461:\tlearn: 0.1601216\ttotal: 1.13s\tremaining: 92.9ms\n",
            "462:\tlearn: 0.1596888\ttotal: 1.13s\tremaining: 90.4ms\n",
            "463:\tlearn: 0.1594408\ttotal: 1.13s\tremaining: 88ms\n",
            "464:\tlearn: 0.1591835\ttotal: 1.14s\tremaining: 85.5ms\n",
            "465:\tlearn: 0.1589803\ttotal: 1.14s\tremaining: 83.2ms\n",
            "466:\tlearn: 0.1586344\ttotal: 1.14s\tremaining: 80.8ms\n",
            "467:\tlearn: 0.1585333\ttotal: 1.15s\tremaining: 78.3ms\n",
            "468:\tlearn: 0.1582400\ttotal: 1.15s\tremaining: 75.9ms\n",
            "469:\tlearn: 0.1578718\ttotal: 1.15s\tremaining: 73.4ms\n",
            "470:\tlearn: 0.1574855\ttotal: 1.15s\tremaining: 70.9ms\n",
            "471:\tlearn: 0.1571613\ttotal: 1.15s\tremaining: 68.5ms\n",
            "472:\tlearn: 0.1568041\ttotal: 1.16s\tremaining: 66ms\n",
            "473:\tlearn: 0.1563670\ttotal: 1.16s\tremaining: 63.6ms\n",
            "474:\tlearn: 0.1560968\ttotal: 1.16s\tremaining: 61.1ms\n",
            "475:\tlearn: 0.1557109\ttotal: 1.16s\tremaining: 58.7ms\n",
            "476:\tlearn: 0.1556061\ttotal: 1.17s\tremaining: 56.2ms\n",
            "477:\tlearn: 0.1552321\ttotal: 1.17s\tremaining: 53.7ms\n",
            "478:\tlearn: 0.1550334\ttotal: 1.17s\tremaining: 51.3ms\n",
            "479:\tlearn: 0.1548210\ttotal: 1.17s\tremaining: 48.9ms\n",
            "480:\tlearn: 0.1547406\ttotal: 1.18s\tremaining: 46.4ms\n",
            "481:\tlearn: 0.1545173\ttotal: 1.18s\tremaining: 44ms\n",
            "482:\tlearn: 0.1543921\ttotal: 1.18s\tremaining: 41.5ms\n",
            "483:\tlearn: 0.1539222\ttotal: 1.18s\tremaining: 39.1ms\n",
            "484:\tlearn: 0.1538410\ttotal: 1.18s\tremaining: 36.6ms\n",
            "485:\tlearn: 0.1535913\ttotal: 1.19s\tremaining: 34.2ms\n",
            "486:\tlearn: 0.1529659\ttotal: 1.19s\tremaining: 31.7ms\n",
            "487:\tlearn: 0.1524848\ttotal: 1.19s\tremaining: 29.3ms\n",
            "488:\tlearn: 0.1522850\ttotal: 1.19s\tremaining: 26.8ms\n",
            "489:\tlearn: 0.1519796\ttotal: 1.2s\tremaining: 24.4ms\n",
            "490:\tlearn: 0.1517197\ttotal: 1.2s\tremaining: 22ms\n",
            "491:\tlearn: 0.1514246\ttotal: 1.2s\tremaining: 19.5ms\n",
            "492:\tlearn: 0.1512752\ttotal: 1.2s\tremaining: 17.1ms\n",
            "493:\tlearn: 0.1510344\ttotal: 1.2s\tremaining: 14.6ms\n",
            "494:\tlearn: 0.1507713\ttotal: 1.21s\tremaining: 12.2ms\n",
            "495:\tlearn: 0.1503142\ttotal: 1.21s\tremaining: 9.74ms\n",
            "496:\tlearn: 0.1499302\ttotal: 1.21s\tremaining: 7.32ms\n",
            "497:\tlearn: 0.1496413\ttotal: 1.21s\tremaining: 4.88ms\n",
            "498:\tlearn: 0.1489233\ttotal: 1.22s\tremaining: 2.45ms\n",
            "499:\tlearn: 0.1486676\ttotal: 1.23s\tremaining: 0us\n",
            "[CV] END ............................depth=7, iterations=500; total time=   1.3s\n",
            "Learning rate set to 0.006846\n",
            "0:\tlearn: 0.6898915\ttotal: 2.46ms\tremaining: 2.46s\n",
            "1:\tlearn: 0.6867350\ttotal: 4.57ms\tremaining: 2.28s\n",
            "2:\tlearn: 0.6834207\ttotal: 6.67ms\tremaining: 2.22s\n",
            "3:\tlearn: 0.6802584\ttotal: 8.65ms\tremaining: 2.15s\n",
            "4:\tlearn: 0.6760959\ttotal: 10.7ms\tremaining: 2.13s\n",
            "5:\tlearn: 0.6731265\ttotal: 13.1ms\tremaining: 2.17s\n",
            "6:\tlearn: 0.6687161\ttotal: 15ms\tremaining: 2.13s\n",
            "7:\tlearn: 0.6657554\ttotal: 17.1ms\tremaining: 2.12s\n",
            "8:\tlearn: 0.6620839\ttotal: 19.4ms\tremaining: 2.14s\n",
            "9:\tlearn: 0.6589630\ttotal: 21.6ms\tremaining: 2.14s\n",
            "10:\tlearn: 0.6557435\ttotal: 24ms\tremaining: 2.16s\n",
            "11:\tlearn: 0.6520311\ttotal: 26.4ms\tremaining: 2.18s\n",
            "12:\tlearn: 0.6491435\ttotal: 29ms\tremaining: 2.2s\n",
            "13:\tlearn: 0.6464955\ttotal: 31.2ms\tremaining: 2.19s\n",
            "14:\tlearn: 0.6431115\ttotal: 33.3ms\tremaining: 2.19s\n",
            "15:\tlearn: 0.6399687\ttotal: 35.7ms\tremaining: 2.19s\n",
            "16:\tlearn: 0.6361747\ttotal: 38ms\tremaining: 2.19s\n",
            "17:\tlearn: 0.6326346\ttotal: 40.4ms\tremaining: 2.2s\n",
            "18:\tlearn: 0.6290969\ttotal: 42.6ms\tremaining: 2.2s\n",
            "19:\tlearn: 0.6264620\ttotal: 44.8ms\tremaining: 2.19s\n",
            "20:\tlearn: 0.6237760\ttotal: 48.2ms\tremaining: 2.25s\n",
            "21:\tlearn: 0.6205819\ttotal: 53.1ms\tremaining: 2.36s\n",
            "22:\tlearn: 0.6183133\ttotal: 54.7ms\tremaining: 2.32s\n",
            "23:\tlearn: 0.6158770\ttotal: 59.3ms\tremaining: 2.41s\n",
            "24:\tlearn: 0.6130744\ttotal: 61.6ms\tremaining: 2.4s\n",
            "25:\tlearn: 0.6105665\ttotal: 63.8ms\tremaining: 2.39s\n",
            "26:\tlearn: 0.6075061\ttotal: 66ms\tremaining: 2.38s\n",
            "27:\tlearn: 0.6061277\ttotal: 67ms\tremaining: 2.32s\n",
            "28:\tlearn: 0.6033111\ttotal: 69.1ms\tremaining: 2.31s\n",
            "29:\tlearn: 0.6006448\ttotal: 71.3ms\tremaining: 2.3s\n",
            "30:\tlearn: 0.5988421\ttotal: 73.5ms\tremaining: 2.3s\n",
            "31:\tlearn: 0.5960406\ttotal: 75.6ms\tremaining: 2.29s\n",
            "32:\tlearn: 0.5934951\ttotal: 77.8ms\tremaining: 2.28s\n",
            "33:\tlearn: 0.5909003\ttotal: 80ms\tremaining: 2.27s\n",
            "34:\tlearn: 0.5880784\ttotal: 82.2ms\tremaining: 2.27s\n",
            "35:\tlearn: 0.5854739\ttotal: 84.7ms\tremaining: 2.27s\n",
            "36:\tlearn: 0.5827543\ttotal: 86.9ms\tremaining: 2.26s\n",
            "37:\tlearn: 0.5804535\ttotal: 89.3ms\tremaining: 2.26s\n",
            "38:\tlearn: 0.5777988\ttotal: 91.5ms\tremaining: 2.25s\n",
            "39:\tlearn: 0.5746486\ttotal: 93.6ms\tremaining: 2.25s\n",
            "40:\tlearn: 0.5723190\ttotal: 95.9ms\tremaining: 2.24s\n",
            "41:\tlearn: 0.5697656\ttotal: 98ms\tremaining: 2.23s\n",
            "42:\tlearn: 0.5676906\ttotal: 102ms\tremaining: 2.26s\n",
            "43:\tlearn: 0.5653848\ttotal: 105ms\tremaining: 2.29s\n",
            "44:\tlearn: 0.5632019\ttotal: 107ms\tremaining: 2.28s\n",
            "45:\tlearn: 0.5607476\ttotal: 110ms\tremaining: 2.27s\n",
            "46:\tlearn: 0.5582893\ttotal: 112ms\tremaining: 2.27s\n",
            "47:\tlearn: 0.5566420\ttotal: 114ms\tremaining: 2.26s\n",
            "48:\tlearn: 0.5540186\ttotal: 116ms\tremaining: 2.26s\n",
            "49:\tlearn: 0.5518531\ttotal: 119ms\tremaining: 2.25s\n",
            "50:\tlearn: 0.5497688\ttotal: 121ms\tremaining: 2.25s\n",
            "51:\tlearn: 0.5473071\ttotal: 123ms\tremaining: 2.24s\n",
            "52:\tlearn: 0.5452232\ttotal: 125ms\tremaining: 2.23s\n",
            "53:\tlearn: 0.5427238\ttotal: 127ms\tremaining: 2.23s\n",
            "54:\tlearn: 0.5406369\ttotal: 130ms\tremaining: 2.23s\n",
            "55:\tlearn: 0.5383857\ttotal: 132ms\tremaining: 2.23s\n",
            "56:\tlearn: 0.5365391\ttotal: 134ms\tremaining: 2.22s\n",
            "57:\tlearn: 0.5346997\ttotal: 137ms\tremaining: 2.22s\n",
            "58:\tlearn: 0.5328217\ttotal: 139ms\tremaining: 2.22s\n",
            "59:\tlearn: 0.5304848\ttotal: 143ms\tremaining: 2.23s\n",
            "60:\tlearn: 0.5285248\ttotal: 145ms\tremaining: 2.23s\n",
            "61:\tlearn: 0.5270265\ttotal: 147ms\tremaining: 2.22s\n",
            "62:\tlearn: 0.5248799\ttotal: 149ms\tremaining: 2.21s\n",
            "63:\tlearn: 0.5229496\ttotal: 151ms\tremaining: 2.21s\n",
            "64:\tlearn: 0.5213835\ttotal: 154ms\tremaining: 2.21s\n",
            "65:\tlearn: 0.5195937\ttotal: 156ms\tremaining: 2.21s\n",
            "66:\tlearn: 0.5173970\ttotal: 158ms\tremaining: 2.2s\n",
            "67:\tlearn: 0.5151793\ttotal: 160ms\tremaining: 2.2s\n",
            "68:\tlearn: 0.5132132\ttotal: 163ms\tremaining: 2.19s\n",
            "69:\tlearn: 0.5118202\ttotal: 165ms\tremaining: 2.2s\n",
            "70:\tlearn: 0.5099581\ttotal: 169ms\tremaining: 2.21s\n",
            "71:\tlearn: 0.5091756\ttotal: 171ms\tremaining: 2.21s\n",
            "72:\tlearn: 0.5077684\ttotal: 173ms\tremaining: 2.2s\n",
            "73:\tlearn: 0.5061407\ttotal: 176ms\tremaining: 2.2s\n",
            "74:\tlearn: 0.5043407\ttotal: 180ms\tremaining: 2.21s\n",
            "75:\tlearn: 0.5026526\ttotal: 182ms\tremaining: 2.21s\n",
            "76:\tlearn: 0.5010857\ttotal: 184ms\tremaining: 2.21s\n",
            "77:\tlearn: 0.4994168\ttotal: 186ms\tremaining: 2.2s\n",
            "78:\tlearn: 0.4980285\ttotal: 188ms\tremaining: 2.2s\n",
            "79:\tlearn: 0.4961433\ttotal: 191ms\tremaining: 2.19s\n",
            "80:\tlearn: 0.4946524\ttotal: 193ms\tremaining: 2.19s\n",
            "81:\tlearn: 0.4931654\ttotal: 195ms\tremaining: 2.18s\n",
            "82:\tlearn: 0.4914877\ttotal: 197ms\tremaining: 2.18s\n",
            "83:\tlearn: 0.4901162\ttotal: 200ms\tremaining: 2.17s\n",
            "84:\tlearn: 0.4886984\ttotal: 202ms\tremaining: 2.17s\n",
            "85:\tlearn: 0.4874698\ttotal: 204ms\tremaining: 2.17s\n",
            "86:\tlearn: 0.4861877\ttotal: 206ms\tremaining: 2.16s\n",
            "87:\tlearn: 0.4846452\ttotal: 209ms\tremaining: 2.17s\n",
            "88:\tlearn: 0.4833572\ttotal: 212ms\tremaining: 2.17s\n",
            "89:\tlearn: 0.4819326\ttotal: 214ms\tremaining: 2.17s\n",
            "90:\tlearn: 0.4805208\ttotal: 217ms\tremaining: 2.16s\n",
            "91:\tlearn: 0.4790875\ttotal: 219ms\tremaining: 2.16s\n",
            "92:\tlearn: 0.4774247\ttotal: 221ms\tremaining: 2.15s\n",
            "93:\tlearn: 0.4765206\ttotal: 223ms\tremaining: 2.15s\n",
            "94:\tlearn: 0.4751014\ttotal: 225ms\tremaining: 2.15s\n",
            "95:\tlearn: 0.4740057\ttotal: 227ms\tremaining: 2.14s\n",
            "96:\tlearn: 0.4726828\ttotal: 230ms\tremaining: 2.14s\n",
            "97:\tlearn: 0.4714168\ttotal: 232ms\tremaining: 2.13s\n",
            "98:\tlearn: 0.4696407\ttotal: 234ms\tremaining: 2.13s\n",
            "99:\tlearn: 0.4684388\ttotal: 236ms\tremaining: 2.13s\n",
            "100:\tlearn: 0.4670898\ttotal: 240ms\tremaining: 2.14s\n",
            "101:\tlearn: 0.4657901\ttotal: 245ms\tremaining: 2.16s\n",
            "102:\tlearn: 0.4646297\ttotal: 249ms\tremaining: 2.17s\n",
            "103:\tlearn: 0.4629778\ttotal: 254ms\tremaining: 2.19s\n",
            "104:\tlearn: 0.4616135\ttotal: 257ms\tremaining: 2.19s\n",
            "105:\tlearn: 0.4603202\ttotal: 259ms\tremaining: 2.18s\n",
            "106:\tlearn: 0.4590586\ttotal: 261ms\tremaining: 2.18s\n",
            "107:\tlearn: 0.4578003\ttotal: 264ms\tremaining: 2.18s\n",
            "108:\tlearn: 0.4568855\ttotal: 266ms\tremaining: 2.17s\n",
            "109:\tlearn: 0.4557143\ttotal: 268ms\tremaining: 2.17s\n",
            "110:\tlearn: 0.4544660\ttotal: 271ms\tremaining: 2.17s\n",
            "111:\tlearn: 0.4533641\ttotal: 273ms\tremaining: 2.16s\n",
            "112:\tlearn: 0.4521764\ttotal: 275ms\tremaining: 2.16s\n",
            "113:\tlearn: 0.4511610\ttotal: 277ms\tremaining: 2.15s\n",
            "114:\tlearn: 0.4499839\ttotal: 280ms\tremaining: 2.15s\n",
            "115:\tlearn: 0.4488849\ttotal: 282ms\tremaining: 2.15s\n",
            "116:\tlearn: 0.4477239\ttotal: 284ms\tremaining: 2.15s\n",
            "117:\tlearn: 0.4467008\ttotal: 287ms\tremaining: 2.14s\n",
            "118:\tlearn: 0.4457072\ttotal: 289ms\tremaining: 2.14s\n",
            "119:\tlearn: 0.4443070\ttotal: 291ms\tremaining: 2.13s\n",
            "120:\tlearn: 0.4429537\ttotal: 293ms\tremaining: 2.13s\n",
            "121:\tlearn: 0.4418616\ttotal: 296ms\tremaining: 2.13s\n",
            "122:\tlearn: 0.4404812\ttotal: 298ms\tremaining: 2.13s\n",
            "123:\tlearn: 0.4395078\ttotal: 300ms\tremaining: 2.12s\n",
            "124:\tlearn: 0.4386162\ttotal: 303ms\tremaining: 2.12s\n",
            "125:\tlearn: 0.4377207\ttotal: 305ms\tremaining: 2.12s\n",
            "126:\tlearn: 0.4366480\ttotal: 307ms\tremaining: 2.11s\n",
            "127:\tlearn: 0.4355935\ttotal: 310ms\tremaining: 2.11s\n",
            "128:\tlearn: 0.4347402\ttotal: 312ms\tremaining: 2.11s\n",
            "129:\tlearn: 0.4338876\ttotal: 314ms\tremaining: 2.1s\n",
            "130:\tlearn: 0.4327484\ttotal: 317ms\tremaining: 2.1s\n",
            "131:\tlearn: 0.4312851\ttotal: 319ms\tremaining: 2.1s\n",
            "132:\tlearn: 0.4299771\ttotal: 321ms\tremaining: 2.09s\n",
            "133:\tlearn: 0.4286989\ttotal: 323ms\tremaining: 2.09s\n",
            "134:\tlearn: 0.4279024\ttotal: 325ms\tremaining: 2.08s\n",
            "135:\tlearn: 0.4270027\ttotal: 328ms\tremaining: 2.08s\n",
            "136:\tlearn: 0.4260358\ttotal: 330ms\tremaining: 2.08s\n",
            "137:\tlearn: 0.4249968\ttotal: 332ms\tremaining: 2.08s\n",
            "138:\tlearn: 0.4241066\ttotal: 335ms\tremaining: 2.07s\n",
            "139:\tlearn: 0.4233744\ttotal: 337ms\tremaining: 2.07s\n",
            "140:\tlearn: 0.4223142\ttotal: 339ms\tremaining: 2.07s\n",
            "141:\tlearn: 0.4212179\ttotal: 342ms\tremaining: 2.06s\n",
            "142:\tlearn: 0.4200242\ttotal: 344ms\tremaining: 2.06s\n",
            "143:\tlearn: 0.4189496\ttotal: 346ms\tremaining: 2.06s\n",
            "144:\tlearn: 0.4182835\ttotal: 348ms\tremaining: 2.05s\n",
            "145:\tlearn: 0.4174040\ttotal: 350ms\tremaining: 2.05s\n",
            "146:\tlearn: 0.4166019\ttotal: 352ms\tremaining: 2.04s\n",
            "147:\tlearn: 0.4153344\ttotal: 356ms\tremaining: 2.05s\n",
            "148:\tlearn: 0.4143406\ttotal: 358ms\tremaining: 2.04s\n",
            "149:\tlearn: 0.4136729\ttotal: 360ms\tremaining: 2.04s\n",
            "150:\tlearn: 0.4126822\ttotal: 362ms\tremaining: 2.04s\n",
            "151:\tlearn: 0.4122234\ttotal: 365ms\tremaining: 2.03s\n",
            "152:\tlearn: 0.4115111\ttotal: 367ms\tremaining: 2.03s\n",
            "153:\tlearn: 0.4104284\ttotal: 369ms\tremaining: 2.03s\n",
            "154:\tlearn: 0.4097431\ttotal: 371ms\tremaining: 2.02s\n",
            "155:\tlearn: 0.4084124\ttotal: 373ms\tremaining: 2.02s\n",
            "156:\tlearn: 0.4075286\ttotal: 375ms\tremaining: 2.02s\n",
            "157:\tlearn: 0.4068849\ttotal: 377ms\tremaining: 2.01s\n",
            "158:\tlearn: 0.4057353\ttotal: 380ms\tremaining: 2.01s\n",
            "159:\tlearn: 0.4047954\ttotal: 382ms\tremaining: 2s\n",
            "160:\tlearn: 0.4038997\ttotal: 384ms\tremaining: 2s\n",
            "161:\tlearn: 0.4028548\ttotal: 387ms\tremaining: 2s\n",
            "162:\tlearn: 0.4020451\ttotal: 389ms\tremaining: 2s\n",
            "163:\tlearn: 0.4011842\ttotal: 391ms\tremaining: 1.99s\n",
            "164:\tlearn: 0.4004274\ttotal: 393ms\tremaining: 1.99s\n",
            "165:\tlearn: 0.3995806\ttotal: 396ms\tremaining: 1.99s\n",
            "166:\tlearn: 0.3984495\ttotal: 398ms\tremaining: 1.98s\n",
            "167:\tlearn: 0.3974636\ttotal: 400ms\tremaining: 1.98s\n",
            "168:\tlearn: 0.3967313\ttotal: 402ms\tremaining: 1.98s\n",
            "169:\tlearn: 0.3960023\ttotal: 404ms\tremaining: 1.97s\n",
            "170:\tlearn: 0.3953601\ttotal: 406ms\tremaining: 1.97s\n",
            "171:\tlearn: 0.3949566\ttotal: 409ms\tremaining: 1.97s\n",
            "172:\tlearn: 0.3939093\ttotal: 411ms\tremaining: 1.96s\n",
            "173:\tlearn: 0.3929431\ttotal: 413ms\tremaining: 1.96s\n",
            "174:\tlearn: 0.3922600\ttotal: 416ms\tremaining: 1.96s\n",
            "175:\tlearn: 0.3912961\ttotal: 418ms\tremaining: 1.96s\n",
            "176:\tlearn: 0.3907592\ttotal: 420ms\tremaining: 1.95s\n",
            "177:\tlearn: 0.3899767\ttotal: 422ms\tremaining: 1.95s\n",
            "178:\tlearn: 0.3891709\ttotal: 425ms\tremaining: 1.95s\n",
            "179:\tlearn: 0.3883015\ttotal: 427ms\tremaining: 1.94s\n",
            "180:\tlearn: 0.3877297\ttotal: 429ms\tremaining: 1.94s\n",
            "181:\tlearn: 0.3868985\ttotal: 434ms\tremaining: 1.95s\n",
            "182:\tlearn: 0.3859770\ttotal: 437ms\tremaining: 1.95s\n",
            "183:\tlearn: 0.3854885\ttotal: 442ms\tremaining: 1.96s\n",
            "184:\tlearn: 0.3849569\ttotal: 448ms\tremaining: 1.97s\n",
            "185:\tlearn: 0.3840817\ttotal: 450ms\tremaining: 1.97s\n",
            "186:\tlearn: 0.3833667\ttotal: 452ms\tremaining: 1.97s\n",
            "187:\tlearn: 0.3826665\ttotal: 456ms\tremaining: 1.97s\n",
            "188:\tlearn: 0.3818448\ttotal: 459ms\tremaining: 1.97s\n",
            "189:\tlearn: 0.3810875\ttotal: 462ms\tremaining: 1.97s\n",
            "190:\tlearn: 0.3803678\ttotal: 464ms\tremaining: 1.96s\n",
            "191:\tlearn: 0.3795871\ttotal: 466ms\tremaining: 1.96s\n",
            "192:\tlearn: 0.3789277\ttotal: 469ms\tremaining: 1.96s\n",
            "193:\tlearn: 0.3780882\ttotal: 471ms\tremaining: 1.96s\n",
            "194:\tlearn: 0.3769754\ttotal: 473ms\tremaining: 1.95s\n",
            "195:\tlearn: 0.3759632\ttotal: 476ms\tremaining: 1.95s\n",
            "196:\tlearn: 0.3753980\ttotal: 478ms\tremaining: 1.95s\n",
            "197:\tlearn: 0.3745116\ttotal: 480ms\tremaining: 1.95s\n",
            "198:\tlearn: 0.3739339\ttotal: 483ms\tremaining: 1.94s\n",
            "199:\tlearn: 0.3735090\ttotal: 486ms\tremaining: 1.95s\n",
            "200:\tlearn: 0.3726517\ttotal: 489ms\tremaining: 1.94s\n",
            "201:\tlearn: 0.3722183\ttotal: 491ms\tremaining: 1.94s\n",
            "202:\tlearn: 0.3717852\ttotal: 494ms\tremaining: 1.94s\n",
            "203:\tlearn: 0.3714454\ttotal: 496ms\tremaining: 1.94s\n",
            "204:\tlearn: 0.3709588\ttotal: 498ms\tremaining: 1.93s\n",
            "205:\tlearn: 0.3704281\ttotal: 501ms\tremaining: 1.93s\n",
            "206:\tlearn: 0.3696374\ttotal: 503ms\tremaining: 1.93s\n",
            "207:\tlearn: 0.3688738\ttotal: 505ms\tremaining: 1.92s\n",
            "208:\tlearn: 0.3683086\ttotal: 507ms\tremaining: 1.92s\n",
            "209:\tlearn: 0.3678484\ttotal: 510ms\tremaining: 1.92s\n",
            "210:\tlearn: 0.3672018\ttotal: 512ms\tremaining: 1.91s\n",
            "211:\tlearn: 0.3666732\ttotal: 514ms\tremaining: 1.91s\n",
            "212:\tlearn: 0.3660309\ttotal: 516ms\tremaining: 1.91s\n",
            "213:\tlearn: 0.3652668\ttotal: 518ms\tremaining: 1.9s\n",
            "214:\tlearn: 0.3647815\ttotal: 520ms\tremaining: 1.9s\n",
            "215:\tlearn: 0.3639896\ttotal: 523ms\tremaining: 1.9s\n",
            "216:\tlearn: 0.3635556\ttotal: 525ms\tremaining: 1.89s\n",
            "217:\tlearn: 0.3628260\ttotal: 527ms\tremaining: 1.89s\n",
            "218:\tlearn: 0.3622325\ttotal: 529ms\tremaining: 1.89s\n",
            "219:\tlearn: 0.3616451\ttotal: 532ms\tremaining: 1.88s\n",
            "220:\tlearn: 0.3612935\ttotal: 534ms\tremaining: 1.88s\n",
            "221:\tlearn: 0.3607452\ttotal: 536ms\tremaining: 1.88s\n",
            "222:\tlearn: 0.3601075\ttotal: 538ms\tremaining: 1.88s\n",
            "223:\tlearn: 0.3595533\ttotal: 540ms\tremaining: 1.87s\n",
            "224:\tlearn: 0.3587934\ttotal: 543ms\tremaining: 1.87s\n",
            "225:\tlearn: 0.3584464\ttotal: 545ms\tremaining: 1.86s\n",
            "226:\tlearn: 0.3577514\ttotal: 547ms\tremaining: 1.86s\n",
            "227:\tlearn: 0.3569564\ttotal: 549ms\tremaining: 1.86s\n",
            "228:\tlearn: 0.3562804\ttotal: 551ms\tremaining: 1.85s\n",
            "229:\tlearn: 0.3555960\ttotal: 553ms\tremaining: 1.85s\n",
            "230:\tlearn: 0.3547719\ttotal: 556ms\tremaining: 1.85s\n",
            "231:\tlearn: 0.3542763\ttotal: 558ms\tremaining: 1.85s\n",
            "232:\tlearn: 0.3539718\ttotal: 560ms\tremaining: 1.84s\n",
            "233:\tlearn: 0.3534135\ttotal: 562ms\tremaining: 1.84s\n",
            "234:\tlearn: 0.3529389\ttotal: 565ms\tremaining: 1.84s\n",
            "235:\tlearn: 0.3523429\ttotal: 567ms\tremaining: 1.83s\n",
            "236:\tlearn: 0.3515569\ttotal: 569ms\tremaining: 1.83s\n",
            "237:\tlearn: 0.3507318\ttotal: 571ms\tremaining: 1.83s\n",
            "238:\tlearn: 0.3500087\ttotal: 574ms\tremaining: 1.83s\n",
            "239:\tlearn: 0.3491001\ttotal: 576ms\tremaining: 1.82s\n",
            "240:\tlearn: 0.3486944\ttotal: 578ms\tremaining: 1.82s\n",
            "241:\tlearn: 0.3481818\ttotal: 580ms\tremaining: 1.82s\n",
            "242:\tlearn: 0.3476527\ttotal: 582ms\tremaining: 1.81s\n",
            "243:\tlearn: 0.3469384\ttotal: 584ms\tremaining: 1.81s\n",
            "244:\tlearn: 0.3462497\ttotal: 587ms\tremaining: 1.81s\n",
            "245:\tlearn: 0.3457723\ttotal: 589ms\tremaining: 1.8s\n",
            "246:\tlearn: 0.3451378\ttotal: 591ms\tremaining: 1.8s\n",
            "247:\tlearn: 0.3445154\ttotal: 593ms\tremaining: 1.8s\n",
            "248:\tlearn: 0.3438858\ttotal: 595ms\tremaining: 1.79s\n",
            "249:\tlearn: 0.3431520\ttotal: 598ms\tremaining: 1.79s\n",
            "250:\tlearn: 0.3425097\ttotal: 600ms\tremaining: 1.79s\n",
            "251:\tlearn: 0.3419347\ttotal: 602ms\tremaining: 1.79s\n",
            "252:\tlearn: 0.3414285\ttotal: 604ms\tremaining: 1.78s\n",
            "253:\tlearn: 0.3407938\ttotal: 607ms\tremaining: 1.78s\n",
            "254:\tlearn: 0.3401355\ttotal: 609ms\tremaining: 1.78s\n",
            "255:\tlearn: 0.3393159\ttotal: 611ms\tremaining: 1.77s\n",
            "256:\tlearn: 0.3383820\ttotal: 613ms\tremaining: 1.77s\n",
            "257:\tlearn: 0.3377846\ttotal: 616ms\tremaining: 1.77s\n",
            "258:\tlearn: 0.3372975\ttotal: 618ms\tremaining: 1.77s\n",
            "259:\tlearn: 0.3366872\ttotal: 622ms\tremaining: 1.77s\n",
            "260:\tlearn: 0.3361810\ttotal: 625ms\tremaining: 1.77s\n",
            "261:\tlearn: 0.3358221\ttotal: 629ms\tremaining: 1.77s\n",
            "262:\tlearn: 0.3351928\ttotal: 634ms\tremaining: 1.77s\n",
            "263:\tlearn: 0.3346628\ttotal: 635ms\tremaining: 1.77s\n",
            "264:\tlearn: 0.3340423\ttotal: 637ms\tremaining: 1.77s\n",
            "265:\tlearn: 0.3334976\ttotal: 639ms\tremaining: 1.76s\n",
            "266:\tlearn: 0.3329251\ttotal: 641ms\tremaining: 1.76s\n",
            "267:\tlearn: 0.3325517\ttotal: 643ms\tremaining: 1.76s\n",
            "268:\tlearn: 0.3322617\ttotal: 645ms\tremaining: 1.75s\n",
            "269:\tlearn: 0.3317264\ttotal: 647ms\tremaining: 1.75s\n",
            "270:\tlearn: 0.3312130\ttotal: 650ms\tremaining: 1.75s\n",
            "271:\tlearn: 0.3309126\ttotal: 652ms\tremaining: 1.74s\n",
            "272:\tlearn: 0.3301513\ttotal: 654ms\tremaining: 1.74s\n",
            "273:\tlearn: 0.3296966\ttotal: 656ms\tremaining: 1.74s\n",
            "274:\tlearn: 0.3292105\ttotal: 658ms\tremaining: 1.74s\n",
            "275:\tlearn: 0.3283947\ttotal: 661ms\tremaining: 1.73s\n",
            "276:\tlearn: 0.3278092\ttotal: 663ms\tremaining: 1.73s\n",
            "277:\tlearn: 0.3273178\ttotal: 665ms\tremaining: 1.73s\n",
            "278:\tlearn: 0.3268330\ttotal: 668ms\tremaining: 1.73s\n",
            "279:\tlearn: 0.3263771\ttotal: 670ms\tremaining: 1.72s\n",
            "280:\tlearn: 0.3261608\ttotal: 672ms\tremaining: 1.72s\n",
            "281:\tlearn: 0.3254271\ttotal: 674ms\tremaining: 1.72s\n",
            "282:\tlearn: 0.3247313\ttotal: 676ms\tremaining: 1.71s\n",
            "283:\tlearn: 0.3239930\ttotal: 679ms\tremaining: 1.71s\n",
            "284:\tlearn: 0.3234951\ttotal: 681ms\tremaining: 1.71s\n",
            "285:\tlearn: 0.3230825\ttotal: 683ms\tremaining: 1.7s\n",
            "286:\tlearn: 0.3226600\ttotal: 685ms\tremaining: 1.7s\n",
            "287:\tlearn: 0.3219659\ttotal: 687ms\tremaining: 1.7s\n",
            "288:\tlearn: 0.3214261\ttotal: 689ms\tremaining: 1.7s\n",
            "289:\tlearn: 0.3208338\ttotal: 691ms\tremaining: 1.69s\n",
            "290:\tlearn: 0.3203676\ttotal: 693ms\tremaining: 1.69s\n",
            "291:\tlearn: 0.3197799\ttotal: 695ms\tremaining: 1.69s\n",
            "292:\tlearn: 0.3195472\ttotal: 698ms\tremaining: 1.68s\n",
            "293:\tlearn: 0.3187885\ttotal: 700ms\tremaining: 1.68s\n",
            "294:\tlearn: 0.3181834\ttotal: 702ms\tremaining: 1.68s\n",
            "295:\tlearn: 0.3179287\ttotal: 704ms\tremaining: 1.67s\n",
            "296:\tlearn: 0.3172324\ttotal: 706ms\tremaining: 1.67s\n",
            "297:\tlearn: 0.3167821\ttotal: 708ms\tremaining: 1.67s\n",
            "298:\tlearn: 0.3164889\ttotal: 711ms\tremaining: 1.67s\n",
            "299:\tlearn: 0.3160574\ttotal: 713ms\tremaining: 1.66s\n",
            "300:\tlearn: 0.3155476\ttotal: 715ms\tremaining: 1.66s\n",
            "301:\tlearn: 0.3150766\ttotal: 717ms\tremaining: 1.66s\n",
            "302:\tlearn: 0.3146091\ttotal: 719ms\tremaining: 1.65s\n",
            "303:\tlearn: 0.3140973\ttotal: 721ms\tremaining: 1.65s\n",
            "304:\tlearn: 0.3136822\ttotal: 723ms\tremaining: 1.65s\n",
            "305:\tlearn: 0.3132012\ttotal: 725ms\tremaining: 1.65s\n",
            "306:\tlearn: 0.3129487\ttotal: 727ms\tremaining: 1.64s\n",
            "307:\tlearn: 0.3123737\ttotal: 730ms\tremaining: 1.64s\n",
            "308:\tlearn: 0.3119444\ttotal: 732ms\tremaining: 1.64s\n",
            "309:\tlearn: 0.3115164\ttotal: 734ms\tremaining: 1.63s\n",
            "310:\tlearn: 0.3110811\ttotal: 736ms\tremaining: 1.63s\n",
            "311:\tlearn: 0.3105688\ttotal: 738ms\tremaining: 1.63s\n",
            "312:\tlearn: 0.3102082\ttotal: 740ms\tremaining: 1.63s\n",
            "313:\tlearn: 0.3099148\ttotal: 743ms\tremaining: 1.62s\n",
            "314:\tlearn: 0.3093803\ttotal: 745ms\tremaining: 1.62s\n",
            "315:\tlearn: 0.3091106\ttotal: 750ms\tremaining: 1.62s\n",
            "316:\tlearn: 0.3087411\ttotal: 753ms\tremaining: 1.62s\n",
            "317:\tlearn: 0.3082441\ttotal: 755ms\tremaining: 1.62s\n",
            "318:\tlearn: 0.3079379\ttotal: 758ms\tremaining: 1.62s\n",
            "319:\tlearn: 0.3075012\ttotal: 762ms\tremaining: 1.62s\n",
            "320:\tlearn: 0.3072000\ttotal: 765ms\tremaining: 1.62s\n",
            "321:\tlearn: 0.3068787\ttotal: 767ms\tremaining: 1.61s\n",
            "322:\tlearn: 0.3064660\ttotal: 770ms\tremaining: 1.61s\n",
            "323:\tlearn: 0.3058989\ttotal: 772ms\tremaining: 1.61s\n",
            "324:\tlearn: 0.3054367\ttotal: 774ms\tremaining: 1.61s\n",
            "325:\tlearn: 0.3049567\ttotal: 776ms\tremaining: 1.6s\n",
            "326:\tlearn: 0.3045919\ttotal: 778ms\tremaining: 1.6s\n",
            "327:\tlearn: 0.3039727\ttotal: 781ms\tremaining: 1.6s\n",
            "328:\tlearn: 0.3036869\ttotal: 783ms\tremaining: 1.6s\n",
            "329:\tlearn: 0.3030334\ttotal: 785ms\tremaining: 1.59s\n",
            "330:\tlearn: 0.3026186\ttotal: 787ms\tremaining: 1.59s\n",
            "331:\tlearn: 0.3022430\ttotal: 790ms\tremaining: 1.59s\n",
            "332:\tlearn: 0.3018514\ttotal: 792ms\tremaining: 1.58s\n",
            "333:\tlearn: 0.3011123\ttotal: 794ms\tremaining: 1.58s\n",
            "334:\tlearn: 0.3009260\ttotal: 796ms\tremaining: 1.58s\n",
            "335:\tlearn: 0.3007612\ttotal: 799ms\tremaining: 1.58s\n",
            "336:\tlearn: 0.3002275\ttotal: 801ms\tremaining: 1.57s\n",
            "337:\tlearn: 0.2998375\ttotal: 803ms\tremaining: 1.57s\n",
            "338:\tlearn: 0.2993660\ttotal: 805ms\tremaining: 1.57s\n",
            "339:\tlearn: 0.2989646\ttotal: 808ms\tremaining: 1.57s\n",
            "340:\tlearn: 0.2985374\ttotal: 810ms\tremaining: 1.56s\n",
            "341:\tlearn: 0.2980959\ttotal: 812ms\tremaining: 1.56s\n",
            "342:\tlearn: 0.2976724\ttotal: 815ms\tremaining: 1.56s\n",
            "343:\tlearn: 0.2971627\ttotal: 817ms\tremaining: 1.56s\n",
            "344:\tlearn: 0.2966041\ttotal: 823ms\tremaining: 1.56s\n",
            "345:\tlearn: 0.2964093\ttotal: 827ms\tremaining: 1.56s\n",
            "346:\tlearn: 0.2960611\ttotal: 832ms\tremaining: 1.56s\n",
            "347:\tlearn: 0.2955525\ttotal: 835ms\tremaining: 1.56s\n",
            "348:\tlearn: 0.2951949\ttotal: 837ms\tremaining: 1.56s\n",
            "349:\tlearn: 0.2947940\ttotal: 839ms\tremaining: 1.56s\n",
            "350:\tlearn: 0.2945675\ttotal: 842ms\tremaining: 1.55s\n",
            "351:\tlearn: 0.2938395\ttotal: 844ms\tremaining: 1.55s\n",
            "352:\tlearn: 0.2932968\ttotal: 846ms\tremaining: 1.55s\n",
            "353:\tlearn: 0.2931139\ttotal: 848ms\tremaining: 1.55s\n",
            "354:\tlearn: 0.2927267\ttotal: 851ms\tremaining: 1.54s\n",
            "355:\tlearn: 0.2924742\ttotal: 853ms\tremaining: 1.54s\n",
            "356:\tlearn: 0.2920967\ttotal: 855ms\tremaining: 1.54s\n",
            "357:\tlearn: 0.2916058\ttotal: 858ms\tremaining: 1.54s\n",
            "358:\tlearn: 0.2913016\ttotal: 860ms\tremaining: 1.53s\n",
            "359:\tlearn: 0.2909921\ttotal: 862ms\tremaining: 1.53s\n",
            "360:\tlearn: 0.2906078\ttotal: 864ms\tremaining: 1.53s\n",
            "361:\tlearn: 0.2904322\ttotal: 867ms\tremaining: 1.53s\n",
            "362:\tlearn: 0.2900744\ttotal: 869ms\tremaining: 1.52s\n",
            "363:\tlearn: 0.2897154\ttotal: 871ms\tremaining: 1.52s\n",
            "364:\tlearn: 0.2893783\ttotal: 874ms\tremaining: 1.52s\n",
            "365:\tlearn: 0.2891226\ttotal: 876ms\tremaining: 1.52s\n",
            "366:\tlearn: 0.2888518\ttotal: 878ms\tremaining: 1.51s\n",
            "367:\tlearn: 0.2885648\ttotal: 880ms\tremaining: 1.51s\n",
            "368:\tlearn: 0.2882860\ttotal: 882ms\tremaining: 1.51s\n",
            "369:\tlearn: 0.2880455\ttotal: 885ms\tremaining: 1.51s\n",
            "370:\tlearn: 0.2875317\ttotal: 887ms\tremaining: 1.5s\n",
            "371:\tlearn: 0.2871428\ttotal: 889ms\tremaining: 1.5s\n",
            "372:\tlearn: 0.2867438\ttotal: 891ms\tremaining: 1.5s\n",
            "373:\tlearn: 0.2862969\ttotal: 893ms\tremaining: 1.5s\n",
            "374:\tlearn: 0.2857937\ttotal: 896ms\tremaining: 1.49s\n",
            "375:\tlearn: 0.2854464\ttotal: 898ms\tremaining: 1.49s\n",
            "376:\tlearn: 0.2851990\ttotal: 900ms\tremaining: 1.49s\n",
            "377:\tlearn: 0.2848512\ttotal: 902ms\tremaining: 1.48s\n",
            "378:\tlearn: 0.2845611\ttotal: 904ms\tremaining: 1.48s\n",
            "379:\tlearn: 0.2842632\ttotal: 909ms\tremaining: 1.48s\n",
            "380:\tlearn: 0.2838815\ttotal: 912ms\tremaining: 1.48s\n",
            "381:\tlearn: 0.2834702\ttotal: 917ms\tremaining: 1.48s\n",
            "382:\tlearn: 0.2832157\ttotal: 923ms\tremaining: 1.49s\n",
            "383:\tlearn: 0.2827708\ttotal: 928ms\tremaining: 1.49s\n",
            "384:\tlearn: 0.2823640\ttotal: 930ms\tremaining: 1.49s\n",
            "385:\tlearn: 0.2819792\ttotal: 933ms\tremaining: 1.48s\n",
            "386:\tlearn: 0.2815814\ttotal: 935ms\tremaining: 1.48s\n",
            "387:\tlearn: 0.2811892\ttotal: 937ms\tremaining: 1.48s\n",
            "388:\tlearn: 0.2809920\ttotal: 939ms\tremaining: 1.48s\n",
            "389:\tlearn: 0.2805638\ttotal: 942ms\tremaining: 1.47s\n",
            "390:\tlearn: 0.2803191\ttotal: 944ms\tremaining: 1.47s\n",
            "391:\tlearn: 0.2798862\ttotal: 946ms\tremaining: 1.47s\n",
            "392:\tlearn: 0.2792542\ttotal: 949ms\tremaining: 1.47s\n",
            "393:\tlearn: 0.2789870\ttotal: 951ms\tremaining: 1.46s\n",
            "394:\tlearn: 0.2784980\ttotal: 953ms\tremaining: 1.46s\n",
            "395:\tlearn: 0.2779634\ttotal: 955ms\tremaining: 1.46s\n",
            "396:\tlearn: 0.2775247\ttotal: 958ms\tremaining: 1.45s\n",
            "397:\tlearn: 0.2770550\ttotal: 960ms\tremaining: 1.45s\n",
            "398:\tlearn: 0.2767549\ttotal: 962ms\tremaining: 1.45s\n",
            "399:\tlearn: 0.2764776\ttotal: 964ms\tremaining: 1.45s\n",
            "400:\tlearn: 0.2762702\ttotal: 966ms\tremaining: 1.44s\n",
            "401:\tlearn: 0.2759400\ttotal: 968ms\tremaining: 1.44s\n",
            "402:\tlearn: 0.2756889\ttotal: 971ms\tremaining: 1.44s\n",
            "403:\tlearn: 0.2753127\ttotal: 973ms\tremaining: 1.43s\n",
            "404:\tlearn: 0.2749320\ttotal: 975ms\tremaining: 1.43s\n",
            "405:\tlearn: 0.2744580\ttotal: 977ms\tremaining: 1.43s\n",
            "406:\tlearn: 0.2743018\ttotal: 979ms\tremaining: 1.43s\n",
            "407:\tlearn: 0.2738192\ttotal: 982ms\tremaining: 1.42s\n",
            "408:\tlearn: 0.2735203\ttotal: 984ms\tremaining: 1.42s\n",
            "409:\tlearn: 0.2733743\ttotal: 986ms\tremaining: 1.42s\n",
            "410:\tlearn: 0.2731720\ttotal: 989ms\tremaining: 1.42s\n",
            "411:\tlearn: 0.2727408\ttotal: 991ms\tremaining: 1.41s\n",
            "412:\tlearn: 0.2723529\ttotal: 993ms\tremaining: 1.41s\n",
            "413:\tlearn: 0.2722020\ttotal: 995ms\tremaining: 1.41s\n",
            "414:\tlearn: 0.2719237\ttotal: 998ms\tremaining: 1.41s\n",
            "415:\tlearn: 0.2716238\ttotal: 1s\tremaining: 1.4s\n",
            "416:\tlearn: 0.2712726\ttotal: 1s\tremaining: 1.4s\n",
            "417:\tlearn: 0.2709973\ttotal: 1s\tremaining: 1.4s\n",
            "418:\tlearn: 0.2706757\ttotal: 1.01s\tremaining: 1.4s\n",
            "419:\tlearn: 0.2702910\ttotal: 1.01s\tremaining: 1.39s\n",
            "420:\tlearn: 0.2697665\ttotal: 1.01s\tremaining: 1.39s\n",
            "421:\tlearn: 0.2693501\ttotal: 1.02s\tremaining: 1.39s\n",
            "422:\tlearn: 0.2691905\ttotal: 1.02s\tremaining: 1.39s\n",
            "423:\tlearn: 0.2687520\ttotal: 1.02s\tremaining: 1.39s\n",
            "424:\tlearn: 0.2685035\ttotal: 1.03s\tremaining: 1.39s\n",
            "425:\tlearn: 0.2682222\ttotal: 1.03s\tremaining: 1.39s\n",
            "426:\tlearn: 0.2678915\ttotal: 1.03s\tremaining: 1.38s\n",
            "427:\tlearn: 0.2676185\ttotal: 1.03s\tremaining: 1.38s\n",
            "428:\tlearn: 0.2674228\ttotal: 1.03s\tremaining: 1.38s\n",
            "429:\tlearn: 0.2671500\ttotal: 1.04s\tremaining: 1.38s\n",
            "430:\tlearn: 0.2666549\ttotal: 1.04s\tremaining: 1.37s\n",
            "431:\tlearn: 0.2664748\ttotal: 1.04s\tremaining: 1.37s\n",
            "432:\tlearn: 0.2659653\ttotal: 1.04s\tremaining: 1.37s\n",
            "433:\tlearn: 0.2656608\ttotal: 1.05s\tremaining: 1.37s\n",
            "434:\tlearn: 0.2652363\ttotal: 1.05s\tremaining: 1.36s\n",
            "435:\tlearn: 0.2648066\ttotal: 1.05s\tremaining: 1.36s\n",
            "436:\tlearn: 0.2644780\ttotal: 1.05s\tremaining: 1.36s\n",
            "437:\tlearn: 0.2643150\ttotal: 1.06s\tremaining: 1.36s\n",
            "438:\tlearn: 0.2640297\ttotal: 1.06s\tremaining: 1.35s\n",
            "439:\tlearn: 0.2635800\ttotal: 1.06s\tremaining: 1.35s\n",
            "440:\tlearn: 0.2632946\ttotal: 1.06s\tremaining: 1.35s\n",
            "441:\tlearn: 0.2630745\ttotal: 1.07s\tremaining: 1.35s\n",
            "442:\tlearn: 0.2627751\ttotal: 1.07s\tremaining: 1.34s\n",
            "443:\tlearn: 0.2624349\ttotal: 1.07s\tremaining: 1.34s\n",
            "444:\tlearn: 0.2623264\ttotal: 1.07s\tremaining: 1.34s\n",
            "445:\tlearn: 0.2620829\ttotal: 1.08s\tremaining: 1.34s\n",
            "446:\tlearn: 0.2616649\ttotal: 1.08s\tremaining: 1.34s\n",
            "447:\tlearn: 0.2613340\ttotal: 1.08s\tremaining: 1.33s\n",
            "448:\tlearn: 0.2610588\ttotal: 1.08s\tremaining: 1.33s\n",
            "449:\tlearn: 0.2605588\ttotal: 1.09s\tremaining: 1.33s\n",
            "450:\tlearn: 0.2601354\ttotal: 1.09s\tremaining: 1.32s\n",
            "451:\tlearn: 0.2597752\ttotal: 1.09s\tremaining: 1.32s\n",
            "452:\tlearn: 0.2595365\ttotal: 1.09s\tremaining: 1.32s\n",
            "453:\tlearn: 0.2591467\ttotal: 1.09s\tremaining: 1.32s\n",
            "454:\tlearn: 0.2589677\ttotal: 1.1s\tremaining: 1.32s\n",
            "455:\tlearn: 0.2587603\ttotal: 1.1s\tremaining: 1.31s\n",
            "456:\tlearn: 0.2584010\ttotal: 1.1s\tremaining: 1.31s\n",
            "457:\tlearn: 0.2580550\ttotal: 1.1s\tremaining: 1.31s\n",
            "458:\tlearn: 0.2577493\ttotal: 1.11s\tremaining: 1.31s\n",
            "459:\tlearn: 0.2574594\ttotal: 1.11s\tremaining: 1.3s\n",
            "460:\tlearn: 0.2572217\ttotal: 1.11s\tremaining: 1.3s\n",
            "461:\tlearn: 0.2569339\ttotal: 1.11s\tremaining: 1.3s\n",
            "462:\tlearn: 0.2566405\ttotal: 1.12s\tremaining: 1.3s\n",
            "463:\tlearn: 0.2563223\ttotal: 1.12s\tremaining: 1.29s\n",
            "464:\tlearn: 0.2561514\ttotal: 1.12s\tremaining: 1.29s\n",
            "465:\tlearn: 0.2559252\ttotal: 1.12s\tremaining: 1.29s\n",
            "466:\tlearn: 0.2555051\ttotal: 1.13s\tremaining: 1.28s\n",
            "467:\tlearn: 0.2551604\ttotal: 1.13s\tremaining: 1.28s\n",
            "468:\tlearn: 0.2549946\ttotal: 1.13s\tremaining: 1.28s\n",
            "469:\tlearn: 0.2546823\ttotal: 1.13s\tremaining: 1.28s\n",
            "470:\tlearn: 0.2544250\ttotal: 1.14s\tremaining: 1.28s\n",
            "471:\tlearn: 0.2540248\ttotal: 1.14s\tremaining: 1.27s\n",
            "472:\tlearn: 0.2538538\ttotal: 1.14s\tremaining: 1.27s\n",
            "473:\tlearn: 0.2536355\ttotal: 1.14s\tremaining: 1.27s\n",
            "474:\tlearn: 0.2534393\ttotal: 1.15s\tremaining: 1.27s\n",
            "475:\tlearn: 0.2530759\ttotal: 1.15s\tremaining: 1.26s\n",
            "476:\tlearn: 0.2527223\ttotal: 1.15s\tremaining: 1.26s\n",
            "477:\tlearn: 0.2522780\ttotal: 1.15s\tremaining: 1.26s\n",
            "478:\tlearn: 0.2520255\ttotal: 1.16s\tremaining: 1.26s\n",
            "479:\tlearn: 0.2517834\ttotal: 1.16s\tremaining: 1.25s\n",
            "480:\tlearn: 0.2515070\ttotal: 1.16s\tremaining: 1.25s\n",
            "481:\tlearn: 0.2511775\ttotal: 1.16s\tremaining: 1.25s\n",
            "482:\tlearn: 0.2508226\ttotal: 1.16s\tremaining: 1.25s\n",
            "483:\tlearn: 0.2506731\ttotal: 1.17s\tremaining: 1.24s\n",
            "484:\tlearn: 0.2502237\ttotal: 1.17s\tremaining: 1.24s\n",
            "485:\tlearn: 0.2499758\ttotal: 1.17s\tremaining: 1.24s\n",
            "486:\tlearn: 0.2496087\ttotal: 1.17s\tremaining: 1.24s\n",
            "487:\tlearn: 0.2492326\ttotal: 1.18s\tremaining: 1.23s\n",
            "488:\tlearn: 0.2490109\ttotal: 1.18s\tremaining: 1.23s\n",
            "489:\tlearn: 0.2487170\ttotal: 1.18s\tremaining: 1.23s\n",
            "490:\tlearn: 0.2482867\ttotal: 1.18s\tremaining: 1.22s\n",
            "491:\tlearn: 0.2480842\ttotal: 1.18s\tremaining: 1.22s\n",
            "492:\tlearn: 0.2476765\ttotal: 1.19s\tremaining: 1.22s\n",
            "493:\tlearn: 0.2473908\ttotal: 1.19s\tremaining: 1.22s\n",
            "494:\tlearn: 0.2471131\ttotal: 1.19s\tremaining: 1.21s\n",
            "495:\tlearn: 0.2467658\ttotal: 1.19s\tremaining: 1.21s\n",
            "496:\tlearn: 0.2463529\ttotal: 1.19s\tremaining: 1.21s\n",
            "497:\tlearn: 0.2459744\ttotal: 1.2s\tremaining: 1.21s\n",
            "498:\tlearn: 0.2457200\ttotal: 1.2s\tremaining: 1.21s\n",
            "499:\tlearn: 0.2454630\ttotal: 1.21s\tremaining: 1.21s\n",
            "500:\tlearn: 0.2450235\ttotal: 1.21s\tremaining: 1.21s\n",
            "501:\tlearn: 0.2446371\ttotal: 1.21s\tremaining: 1.2s\n",
            "502:\tlearn: 0.2443151\ttotal: 1.21s\tremaining: 1.2s\n",
            "503:\tlearn: 0.2438406\ttotal: 1.22s\tremaining: 1.2s\n",
            "504:\tlearn: 0.2435565\ttotal: 1.22s\tremaining: 1.2s\n",
            "505:\tlearn: 0.2433481\ttotal: 1.22s\tremaining: 1.19s\n",
            "506:\tlearn: 0.2428423\ttotal: 1.23s\tremaining: 1.19s\n",
            "507:\tlearn: 0.2424794\ttotal: 1.23s\tremaining: 1.19s\n",
            "508:\tlearn: 0.2420863\ttotal: 1.23s\tremaining: 1.19s\n",
            "509:\tlearn: 0.2418108\ttotal: 1.23s\tremaining: 1.18s\n",
            "510:\tlearn: 0.2416066\ttotal: 1.23s\tremaining: 1.18s\n",
            "511:\tlearn: 0.2415236\ttotal: 1.24s\tremaining: 1.18s\n",
            "512:\tlearn: 0.2411373\ttotal: 1.24s\tremaining: 1.18s\n",
            "513:\tlearn: 0.2406464\ttotal: 1.24s\tremaining: 1.17s\n",
            "514:\tlearn: 0.2401749\ttotal: 1.24s\tremaining: 1.17s\n",
            "515:\tlearn: 0.2398126\ttotal: 1.25s\tremaining: 1.17s\n",
            "516:\tlearn: 0.2395871\ttotal: 1.25s\tremaining: 1.17s\n",
            "517:\tlearn: 0.2391092\ttotal: 1.25s\tremaining: 1.16s\n",
            "518:\tlearn: 0.2389199\ttotal: 1.25s\tremaining: 1.16s\n",
            "519:\tlearn: 0.2385832\ttotal: 1.25s\tremaining: 1.16s\n",
            "520:\tlearn: 0.2381990\ttotal: 1.26s\tremaining: 1.16s\n",
            "521:\tlearn: 0.2380088\ttotal: 1.26s\tremaining: 1.15s\n",
            "522:\tlearn: 0.2377792\ttotal: 1.26s\tremaining: 1.15s\n",
            "523:\tlearn: 0.2375485\ttotal: 1.26s\tremaining: 1.15s\n",
            "524:\tlearn: 0.2373074\ttotal: 1.27s\tremaining: 1.15s\n",
            "525:\tlearn: 0.2369109\ttotal: 1.27s\tremaining: 1.14s\n",
            "526:\tlearn: 0.2366718\ttotal: 1.27s\tremaining: 1.14s\n",
            "527:\tlearn: 0.2362037\ttotal: 1.27s\tremaining: 1.14s\n",
            "528:\tlearn: 0.2358827\ttotal: 1.27s\tremaining: 1.14s\n",
            "529:\tlearn: 0.2353975\ttotal: 1.28s\tremaining: 1.13s\n",
            "530:\tlearn: 0.2351137\ttotal: 1.28s\tremaining: 1.13s\n",
            "531:\tlearn: 0.2347699\ttotal: 1.28s\tremaining: 1.13s\n",
            "532:\tlearn: 0.2344886\ttotal: 1.28s\tremaining: 1.13s\n",
            "533:\tlearn: 0.2343373\ttotal: 1.29s\tremaining: 1.12s\n",
            "534:\tlearn: 0.2340571\ttotal: 1.29s\tremaining: 1.12s\n",
            "535:\tlearn: 0.2337519\ttotal: 1.29s\tremaining: 1.12s\n",
            "536:\tlearn: 0.2335896\ttotal: 1.29s\tremaining: 1.11s\n",
            "537:\tlearn: 0.2332030\ttotal: 1.3s\tremaining: 1.11s\n",
            "538:\tlearn: 0.2330407\ttotal: 1.3s\tremaining: 1.11s\n",
            "539:\tlearn: 0.2326815\ttotal: 1.3s\tremaining: 1.11s\n",
            "540:\tlearn: 0.2324372\ttotal: 1.3s\tremaining: 1.1s\n",
            "541:\tlearn: 0.2321140\ttotal: 1.3s\tremaining: 1.1s\n",
            "542:\tlearn: 0.2315161\ttotal: 1.31s\tremaining: 1.1s\n",
            "543:\tlearn: 0.2311745\ttotal: 1.31s\tremaining: 1.1s\n",
            "544:\tlearn: 0.2309398\ttotal: 1.31s\tremaining: 1.09s\n",
            "545:\tlearn: 0.2308060\ttotal: 1.31s\tremaining: 1.09s\n",
            "546:\tlearn: 0.2304886\ttotal: 1.31s\tremaining: 1.09s\n",
            "547:\tlearn: 0.2302640\ttotal: 1.32s\tremaining: 1.09s\n",
            "548:\tlearn: 0.2298330\ttotal: 1.32s\tremaining: 1.08s\n",
            "549:\tlearn: 0.2294382\ttotal: 1.32s\tremaining: 1.08s\n",
            "550:\tlearn: 0.2293664\ttotal: 1.32s\tremaining: 1.08s\n",
            "551:\tlearn: 0.2292358\ttotal: 1.32s\tremaining: 1.07s\n",
            "552:\tlearn: 0.2288507\ttotal: 1.33s\tremaining: 1.07s\n",
            "553:\tlearn: 0.2283704\ttotal: 1.33s\tremaining: 1.07s\n",
            "554:\tlearn: 0.2281848\ttotal: 1.33s\tremaining: 1.07s\n",
            "555:\tlearn: 0.2279142\ttotal: 1.33s\tremaining: 1.06s\n",
            "556:\tlearn: 0.2275668\ttotal: 1.34s\tremaining: 1.06s\n",
            "557:\tlearn: 0.2273281\ttotal: 1.34s\tremaining: 1.06s\n",
            "558:\tlearn: 0.2270957\ttotal: 1.34s\tremaining: 1.06s\n",
            "559:\tlearn: 0.2269047\ttotal: 1.34s\tremaining: 1.05s\n",
            "560:\tlearn: 0.2267316\ttotal: 1.34s\tremaining: 1.05s\n",
            "561:\tlearn: 0.2262596\ttotal: 1.35s\tremaining: 1.05s\n",
            "562:\tlearn: 0.2259776\ttotal: 1.35s\tremaining: 1.05s\n",
            "563:\tlearn: 0.2257053\ttotal: 1.35s\tremaining: 1.04s\n",
            "564:\tlearn: 0.2255190\ttotal: 1.35s\tremaining: 1.04s\n",
            "565:\tlearn: 0.2252479\ttotal: 1.36s\tremaining: 1.04s\n",
            "566:\tlearn: 0.2250506\ttotal: 1.36s\tremaining: 1.04s\n",
            "567:\tlearn: 0.2247601\ttotal: 1.36s\tremaining: 1.03s\n",
            "568:\tlearn: 0.2245881\ttotal: 1.36s\tremaining: 1.03s\n",
            "569:\tlearn: 0.2243857\ttotal: 1.36s\tremaining: 1.03s\n",
            "570:\tlearn: 0.2241540\ttotal: 1.37s\tremaining: 1.03s\n",
            "571:\tlearn: 0.2239914\ttotal: 1.37s\tremaining: 1.02s\n",
            "572:\tlearn: 0.2237902\ttotal: 1.37s\tremaining: 1.02s\n",
            "573:\tlearn: 0.2235454\ttotal: 1.37s\tremaining: 1.02s\n",
            "574:\tlearn: 0.2234242\ttotal: 1.38s\tremaining: 1.02s\n",
            "575:\tlearn: 0.2232003\ttotal: 1.38s\tremaining: 1.01s\n",
            "576:\tlearn: 0.2229198\ttotal: 1.38s\tremaining: 1.01s\n",
            "577:\tlearn: 0.2227915\ttotal: 1.38s\tremaining: 1.01s\n",
            "578:\tlearn: 0.2224387\ttotal: 1.39s\tremaining: 1.01s\n",
            "579:\tlearn: 0.2222209\ttotal: 1.39s\tremaining: 1.01s\n",
            "580:\tlearn: 0.2218736\ttotal: 1.4s\tremaining: 1.01s\n",
            "581:\tlearn: 0.2216639\ttotal: 1.4s\tremaining: 1s\n",
            "582:\tlearn: 0.2215598\ttotal: 1.4s\tremaining: 1s\n",
            "583:\tlearn: 0.2213012\ttotal: 1.41s\tremaining: 1s\n",
            "584:\tlearn: 0.2210037\ttotal: 1.41s\tremaining: 1s\n",
            "585:\tlearn: 0.2208306\ttotal: 1.41s\tremaining: 999ms\n",
            "586:\tlearn: 0.2206604\ttotal: 1.42s\tremaining: 997ms\n",
            "587:\tlearn: 0.2203936\ttotal: 1.42s\tremaining: 995ms\n",
            "588:\tlearn: 0.2201294\ttotal: 1.42s\tremaining: 992ms\n",
            "589:\tlearn: 0.2200135\ttotal: 1.42s\tremaining: 989ms\n",
            "590:\tlearn: 0.2198668\ttotal: 1.43s\tremaining: 987ms\n",
            "591:\tlearn: 0.2195691\ttotal: 1.43s\tremaining: 984ms\n",
            "592:\tlearn: 0.2192842\ttotal: 1.43s\tremaining: 982ms\n",
            "593:\tlearn: 0.2190942\ttotal: 1.43s\tremaining: 979ms\n",
            "594:\tlearn: 0.2187810\ttotal: 1.43s\tremaining: 976ms\n",
            "595:\tlearn: 0.2185432\ttotal: 1.44s\tremaining: 974ms\n",
            "596:\tlearn: 0.2184494\ttotal: 1.44s\tremaining: 971ms\n",
            "597:\tlearn: 0.2181855\ttotal: 1.44s\tremaining: 969ms\n",
            "598:\tlearn: 0.2176916\ttotal: 1.44s\tremaining: 966ms\n",
            "599:\tlearn: 0.2172485\ttotal: 1.45s\tremaining: 964ms\n",
            "600:\tlearn: 0.2169842\ttotal: 1.45s\tremaining: 962ms\n",
            "601:\tlearn: 0.2167374\ttotal: 1.45s\tremaining: 959ms\n",
            "602:\tlearn: 0.2163138\ttotal: 1.45s\tremaining: 957ms\n",
            "603:\tlearn: 0.2158473\ttotal: 1.46s\tremaining: 955ms\n",
            "604:\tlearn: 0.2154026\ttotal: 1.46s\tremaining: 952ms\n",
            "605:\tlearn: 0.2151208\ttotal: 1.46s\tremaining: 949ms\n",
            "606:\tlearn: 0.2148425\ttotal: 1.46s\tremaining: 947ms\n",
            "607:\tlearn: 0.2145566\ttotal: 1.46s\tremaining: 944ms\n",
            "608:\tlearn: 0.2143335\ttotal: 1.47s\tremaining: 942ms\n",
            "609:\tlearn: 0.2141685\ttotal: 1.47s\tremaining: 939ms\n",
            "610:\tlearn: 0.2139720\ttotal: 1.47s\tremaining: 936ms\n",
            "611:\tlearn: 0.2137593\ttotal: 1.47s\tremaining: 934ms\n",
            "612:\tlearn: 0.2134721\ttotal: 1.47s\tremaining: 931ms\n",
            "613:\tlearn: 0.2133120\ttotal: 1.48s\tremaining: 929ms\n",
            "614:\tlearn: 0.2131129\ttotal: 1.48s\tremaining: 926ms\n",
            "615:\tlearn: 0.2129166\ttotal: 1.48s\tremaining: 923ms\n",
            "616:\tlearn: 0.2125525\ttotal: 1.48s\tremaining: 921ms\n",
            "617:\tlearn: 0.2122370\ttotal: 1.49s\tremaining: 918ms\n",
            "618:\tlearn: 0.2121048\ttotal: 1.49s\tremaining: 916ms\n",
            "619:\tlearn: 0.2118882\ttotal: 1.49s\tremaining: 913ms\n",
            "620:\tlearn: 0.2116889\ttotal: 1.49s\tremaining: 910ms\n",
            "621:\tlearn: 0.2115817\ttotal: 1.49s\tremaining: 908ms\n",
            "622:\tlearn: 0.2113573\ttotal: 1.5s\tremaining: 905ms\n",
            "623:\tlearn: 0.2110726\ttotal: 1.5s\tremaining: 903ms\n",
            "624:\tlearn: 0.2109035\ttotal: 1.5s\tremaining: 900ms\n",
            "625:\tlearn: 0.2106148\ttotal: 1.5s\tremaining: 898ms\n",
            "626:\tlearn: 0.2104014\ttotal: 1.5s\tremaining: 895ms\n",
            "627:\tlearn: 0.2099883\ttotal: 1.51s\tremaining: 892ms\n",
            "628:\tlearn: 0.2096179\ttotal: 1.51s\tremaining: 890ms\n",
            "629:\tlearn: 0.2093441\ttotal: 1.51s\tremaining: 887ms\n",
            "630:\tlearn: 0.2091242\ttotal: 1.51s\tremaining: 885ms\n",
            "631:\tlearn: 0.2088481\ttotal: 1.51s\tremaining: 882ms\n",
            "632:\tlearn: 0.2087030\ttotal: 1.52s\tremaining: 880ms\n",
            "633:\tlearn: 0.2084988\ttotal: 1.52s\tremaining: 877ms\n",
            "634:\tlearn: 0.2082314\ttotal: 1.52s\tremaining: 874ms\n",
            "635:\tlearn: 0.2079491\ttotal: 1.52s\tremaining: 872ms\n",
            "636:\tlearn: 0.2077173\ttotal: 1.52s\tremaining: 869ms\n",
            "637:\tlearn: 0.2076044\ttotal: 1.53s\tremaining: 867ms\n",
            "638:\tlearn: 0.2071911\ttotal: 1.53s\tremaining: 864ms\n",
            "639:\tlearn: 0.2069408\ttotal: 1.53s\tremaining: 862ms\n",
            "640:\tlearn: 0.2067473\ttotal: 1.53s\tremaining: 859ms\n",
            "641:\tlearn: 0.2064546\ttotal: 1.54s\tremaining: 857ms\n",
            "642:\tlearn: 0.2060857\ttotal: 1.54s\tremaining: 854ms\n",
            "643:\tlearn: 0.2058859\ttotal: 1.54s\tremaining: 852ms\n",
            "644:\tlearn: 0.2055469\ttotal: 1.54s\tremaining: 849ms\n",
            "645:\tlearn: 0.2051620\ttotal: 1.54s\tremaining: 846ms\n",
            "646:\tlearn: 0.2049202\ttotal: 1.55s\tremaining: 844ms\n",
            "647:\tlearn: 0.2048358\ttotal: 1.55s\tremaining: 841ms\n",
            "648:\tlearn: 0.2044641\ttotal: 1.55s\tremaining: 839ms\n",
            "649:\tlearn: 0.2040992\ttotal: 1.55s\tremaining: 836ms\n",
            "650:\tlearn: 0.2037882\ttotal: 1.55s\tremaining: 834ms\n",
            "651:\tlearn: 0.2036955\ttotal: 1.56s\tremaining: 831ms\n",
            "652:\tlearn: 0.2033655\ttotal: 1.56s\tremaining: 829ms\n",
            "653:\tlearn: 0.2032256\ttotal: 1.56s\tremaining: 826ms\n",
            "654:\tlearn: 0.2029888\ttotal: 1.56s\tremaining: 824ms\n",
            "655:\tlearn: 0.2029335\ttotal: 1.57s\tremaining: 821ms\n",
            "656:\tlearn: 0.2027807\ttotal: 1.57s\tremaining: 819ms\n",
            "657:\tlearn: 0.2023535\ttotal: 1.57s\tremaining: 816ms\n",
            "658:\tlearn: 0.2020533\ttotal: 1.57s\tremaining: 814ms\n",
            "659:\tlearn: 0.2018906\ttotal: 1.57s\tremaining: 811ms\n",
            "660:\tlearn: 0.2016533\ttotal: 1.58s\tremaining: 809ms\n",
            "661:\tlearn: 0.2014548\ttotal: 1.58s\tremaining: 806ms\n",
            "662:\tlearn: 0.2012057\ttotal: 1.58s\tremaining: 805ms\n",
            "663:\tlearn: 0.2009498\ttotal: 1.59s\tremaining: 803ms\n",
            "664:\tlearn: 0.2006243\ttotal: 1.59s\tremaining: 801ms\n",
            "665:\tlearn: 0.2004186\ttotal: 1.59s\tremaining: 799ms\n",
            "666:\tlearn: 0.2001680\ttotal: 1.59s\tremaining: 796ms\n",
            "667:\tlearn: 0.1999375\ttotal: 1.6s\tremaining: 794ms\n",
            "668:\tlearn: 0.1996507\ttotal: 1.6s\tremaining: 791ms\n",
            "669:\tlearn: 0.1994231\ttotal: 1.6s\tremaining: 789ms\n",
            "670:\tlearn: 0.1991021\ttotal: 1.6s\tremaining: 786ms\n",
            "671:\tlearn: 0.1989526\ttotal: 1.6s\tremaining: 784ms\n",
            "672:\tlearn: 0.1986852\ttotal: 1.61s\tremaining: 781ms\n",
            "673:\tlearn: 0.1985584\ttotal: 1.61s\tremaining: 779ms\n",
            "674:\tlearn: 0.1984559\ttotal: 1.61s\tremaining: 776ms\n",
            "675:\tlearn: 0.1982216\ttotal: 1.61s\tremaining: 774ms\n",
            "676:\tlearn: 0.1979067\ttotal: 1.62s\tremaining: 771ms\n",
            "677:\tlearn: 0.1975016\ttotal: 1.62s\tremaining: 769ms\n",
            "678:\tlearn: 0.1972247\ttotal: 1.62s\tremaining: 766ms\n",
            "679:\tlearn: 0.1970650\ttotal: 1.62s\tremaining: 764ms\n",
            "680:\tlearn: 0.1968653\ttotal: 1.63s\tremaining: 761ms\n",
            "681:\tlearn: 0.1965026\ttotal: 1.63s\tremaining: 759ms\n",
            "682:\tlearn: 0.1963130\ttotal: 1.63s\tremaining: 756ms\n",
            "683:\tlearn: 0.1961658\ttotal: 1.63s\tremaining: 754ms\n",
            "684:\tlearn: 0.1959414\ttotal: 1.63s\tremaining: 752ms\n",
            "685:\tlearn: 0.1957995\ttotal: 1.64s\tremaining: 749ms\n",
            "686:\tlearn: 0.1955988\ttotal: 1.64s\tremaining: 747ms\n",
            "687:\tlearn: 0.1953976\ttotal: 1.64s\tremaining: 745ms\n",
            "688:\tlearn: 0.1953065\ttotal: 1.64s\tremaining: 742ms\n",
            "689:\tlearn: 0.1950589\ttotal: 1.65s\tremaining: 740ms\n",
            "690:\tlearn: 0.1948214\ttotal: 1.65s\tremaining: 737ms\n",
            "691:\tlearn: 0.1947662\ttotal: 1.65s\tremaining: 735ms\n",
            "692:\tlearn: 0.1944921\ttotal: 1.65s\tremaining: 732ms\n",
            "693:\tlearn: 0.1943138\ttotal: 1.66s\tremaining: 730ms\n",
            "694:\tlearn: 0.1940774\ttotal: 1.66s\tremaining: 728ms\n",
            "695:\tlearn: 0.1939174\ttotal: 1.66s\tremaining: 725ms\n",
            "696:\tlearn: 0.1937427\ttotal: 1.66s\tremaining: 723ms\n",
            "697:\tlearn: 0.1935618\ttotal: 1.66s\tremaining: 720ms\n",
            "698:\tlearn: 0.1934017\ttotal: 1.67s\tremaining: 718ms\n",
            "699:\tlearn: 0.1931026\ttotal: 1.67s\tremaining: 715ms\n",
            "700:\tlearn: 0.1929828\ttotal: 1.67s\tremaining: 713ms\n",
            "701:\tlearn: 0.1927850\ttotal: 1.67s\tremaining: 711ms\n",
            "702:\tlearn: 0.1926908\ttotal: 1.68s\tremaining: 708ms\n",
            "703:\tlearn: 0.1924017\ttotal: 1.68s\tremaining: 706ms\n",
            "704:\tlearn: 0.1923036\ttotal: 1.68s\tremaining: 703ms\n",
            "705:\tlearn: 0.1921425\ttotal: 1.68s\tremaining: 701ms\n",
            "706:\tlearn: 0.1917816\ttotal: 1.69s\tremaining: 698ms\n",
            "707:\tlearn: 0.1916575\ttotal: 1.69s\tremaining: 696ms\n",
            "708:\tlearn: 0.1914958\ttotal: 1.69s\tremaining: 693ms\n",
            "709:\tlearn: 0.1914043\ttotal: 1.69s\tremaining: 691ms\n",
            "710:\tlearn: 0.1911593\ttotal: 1.69s\tremaining: 689ms\n",
            "711:\tlearn: 0.1908873\ttotal: 1.7s\tremaining: 686ms\n",
            "712:\tlearn: 0.1908319\ttotal: 1.7s\tremaining: 684ms\n",
            "713:\tlearn: 0.1906924\ttotal: 1.7s\tremaining: 681ms\n",
            "714:\tlearn: 0.1904294\ttotal: 1.7s\tremaining: 679ms\n",
            "715:\tlearn: 0.1902414\ttotal: 1.7s\tremaining: 676ms\n",
            "716:\tlearn: 0.1900661\ttotal: 1.71s\tremaining: 674ms\n",
            "717:\tlearn: 0.1898234\ttotal: 1.71s\tremaining: 671ms\n",
            "718:\tlearn: 0.1896843\ttotal: 1.71s\tremaining: 669ms\n",
            "719:\tlearn: 0.1894253\ttotal: 1.71s\tremaining: 667ms\n",
            "720:\tlearn: 0.1893274\ttotal: 1.72s\tremaining: 664ms\n",
            "721:\tlearn: 0.1890649\ttotal: 1.72s\tremaining: 662ms\n",
            "722:\tlearn: 0.1888823\ttotal: 1.72s\tremaining: 659ms\n",
            "723:\tlearn: 0.1886088\ttotal: 1.72s\tremaining: 657ms\n",
            "724:\tlearn: 0.1884480\ttotal: 1.73s\tremaining: 655ms\n",
            "725:\tlearn: 0.1883278\ttotal: 1.73s\tremaining: 652ms\n",
            "726:\tlearn: 0.1879977\ttotal: 1.73s\tremaining: 650ms\n",
            "727:\tlearn: 0.1877542\ttotal: 1.73s\tremaining: 647ms\n",
            "728:\tlearn: 0.1876019\ttotal: 1.73s\tremaining: 645ms\n",
            "729:\tlearn: 0.1874013\ttotal: 1.74s\tremaining: 642ms\n",
            "730:\tlearn: 0.1871090\ttotal: 1.74s\tremaining: 640ms\n",
            "731:\tlearn: 0.1869419\ttotal: 1.74s\tremaining: 637ms\n",
            "732:\tlearn: 0.1866096\ttotal: 1.74s\tremaining: 635ms\n",
            "733:\tlearn: 0.1864708\ttotal: 1.74s\tremaining: 632ms\n",
            "734:\tlearn: 0.1863232\ttotal: 1.75s\tremaining: 630ms\n",
            "735:\tlearn: 0.1862954\ttotal: 1.75s\tremaining: 627ms\n",
            "736:\tlearn: 0.1860499\ttotal: 1.75s\tremaining: 625ms\n",
            "737:\tlearn: 0.1858764\ttotal: 1.75s\tremaining: 622ms\n",
            "738:\tlearn: 0.1857906\ttotal: 1.75s\tremaining: 620ms\n",
            "739:\tlearn: 0.1856348\ttotal: 1.76s\tremaining: 618ms\n",
            "740:\tlearn: 0.1852406\ttotal: 1.76s\tremaining: 616ms\n",
            "741:\tlearn: 0.1850935\ttotal: 1.76s\tremaining: 614ms\n",
            "742:\tlearn: 0.1848761\ttotal: 1.77s\tremaining: 612ms\n",
            "743:\tlearn: 0.1847880\ttotal: 1.77s\tremaining: 610ms\n",
            "744:\tlearn: 0.1845702\ttotal: 1.77s\tremaining: 607ms\n",
            "745:\tlearn: 0.1843787\ttotal: 1.78s\tremaining: 605ms\n",
            "746:\tlearn: 0.1842047\ttotal: 1.78s\tremaining: 602ms\n",
            "747:\tlearn: 0.1840435\ttotal: 1.78s\tremaining: 601ms\n",
            "748:\tlearn: 0.1838718\ttotal: 1.79s\tremaining: 600ms\n",
            "749:\tlearn: 0.1836408\ttotal: 1.79s\tremaining: 599ms\n",
            "750:\tlearn: 0.1834367\ttotal: 1.8s\tremaining: 596ms\n",
            "751:\tlearn: 0.1832199\ttotal: 1.8s\tremaining: 594ms\n",
            "752:\tlearn: 0.1829595\ttotal: 1.8s\tremaining: 591ms\n",
            "753:\tlearn: 0.1825471\ttotal: 1.8s\tremaining: 589ms\n",
            "754:\tlearn: 0.1822742\ttotal: 1.81s\tremaining: 586ms\n",
            "755:\tlearn: 0.1819900\ttotal: 1.81s\tremaining: 584ms\n",
            "756:\tlearn: 0.1818149\ttotal: 1.81s\tremaining: 582ms\n",
            "757:\tlearn: 0.1816008\ttotal: 1.81s\tremaining: 579ms\n",
            "758:\tlearn: 0.1812476\ttotal: 1.82s\tremaining: 577ms\n",
            "759:\tlearn: 0.1810633\ttotal: 1.82s\tremaining: 574ms\n",
            "760:\tlearn: 0.1809087\ttotal: 1.82s\tremaining: 572ms\n",
            "761:\tlearn: 0.1806755\ttotal: 1.82s\tremaining: 570ms\n",
            "762:\tlearn: 0.1805109\ttotal: 1.82s\tremaining: 567ms\n",
            "763:\tlearn: 0.1802718\ttotal: 1.83s\tremaining: 565ms\n",
            "764:\tlearn: 0.1800495\ttotal: 1.83s\tremaining: 562ms\n",
            "765:\tlearn: 0.1797669\ttotal: 1.83s\tremaining: 560ms\n",
            "766:\tlearn: 0.1794220\ttotal: 1.83s\tremaining: 557ms\n",
            "767:\tlearn: 0.1791201\ttotal: 1.84s\tremaining: 555ms\n",
            "768:\tlearn: 0.1789023\ttotal: 1.84s\tremaining: 553ms\n",
            "769:\tlearn: 0.1786954\ttotal: 1.84s\tremaining: 550ms\n",
            "770:\tlearn: 0.1785998\ttotal: 1.84s\tremaining: 548ms\n",
            "771:\tlearn: 0.1784543\ttotal: 1.85s\tremaining: 545ms\n",
            "772:\tlearn: 0.1782129\ttotal: 1.85s\tremaining: 543ms\n",
            "773:\tlearn: 0.1779086\ttotal: 1.85s\tremaining: 540ms\n",
            "774:\tlearn: 0.1776731\ttotal: 1.85s\tremaining: 538ms\n",
            "775:\tlearn: 0.1774855\ttotal: 1.85s\tremaining: 535ms\n",
            "776:\tlearn: 0.1773365\ttotal: 1.86s\tremaining: 533ms\n",
            "777:\tlearn: 0.1772375\ttotal: 1.86s\tremaining: 530ms\n",
            "778:\tlearn: 0.1769249\ttotal: 1.86s\tremaining: 528ms\n",
            "779:\tlearn: 0.1766903\ttotal: 1.87s\tremaining: 527ms\n",
            "780:\tlearn: 0.1765234\ttotal: 1.87s\tremaining: 524ms\n",
            "781:\tlearn: 0.1763113\ttotal: 1.87s\tremaining: 522ms\n",
            "782:\tlearn: 0.1760834\ttotal: 1.88s\tremaining: 520ms\n",
            "783:\tlearn: 0.1759411\ttotal: 1.88s\tremaining: 519ms\n",
            "784:\tlearn: 0.1757013\ttotal: 1.89s\tremaining: 517ms\n",
            "785:\tlearn: 0.1755615\ttotal: 1.89s\tremaining: 514ms\n",
            "786:\tlearn: 0.1753530\ttotal: 1.89s\tremaining: 512ms\n",
            "787:\tlearn: 0.1751571\ttotal: 1.89s\tremaining: 509ms\n",
            "788:\tlearn: 0.1749475\ttotal: 1.9s\tremaining: 507ms\n",
            "789:\tlearn: 0.1747399\ttotal: 1.9s\tremaining: 505ms\n",
            "790:\tlearn: 0.1746536\ttotal: 1.9s\tremaining: 502ms\n",
            "791:\tlearn: 0.1744932\ttotal: 1.9s\tremaining: 500ms\n",
            "792:\tlearn: 0.1742983\ttotal: 1.91s\tremaining: 497ms\n",
            "793:\tlearn: 0.1740414\ttotal: 1.91s\tremaining: 495ms\n",
            "794:\tlearn: 0.1737190\ttotal: 1.91s\tremaining: 492ms\n",
            "795:\tlearn: 0.1735249\ttotal: 1.91s\tremaining: 490ms\n",
            "796:\tlearn: 0.1734636\ttotal: 1.92s\tremaining: 488ms\n",
            "797:\tlearn: 0.1733074\ttotal: 1.92s\tremaining: 485ms\n",
            "798:\tlearn: 0.1730839\ttotal: 1.92s\tremaining: 483ms\n",
            "799:\tlearn: 0.1728201\ttotal: 1.92s\tremaining: 481ms\n",
            "800:\tlearn: 0.1725649\ttotal: 1.92s\tremaining: 478ms\n",
            "801:\tlearn: 0.1724331\ttotal: 1.93s\tremaining: 476ms\n",
            "802:\tlearn: 0.1722323\ttotal: 1.93s\tremaining: 473ms\n",
            "803:\tlearn: 0.1719751\ttotal: 1.93s\tremaining: 471ms\n",
            "804:\tlearn: 0.1717238\ttotal: 1.93s\tremaining: 468ms\n",
            "805:\tlearn: 0.1716444\ttotal: 1.94s\tremaining: 466ms\n",
            "806:\tlearn: 0.1714529\ttotal: 1.94s\tremaining: 463ms\n",
            "807:\tlearn: 0.1712444\ttotal: 1.94s\tremaining: 461ms\n",
            "808:\tlearn: 0.1711378\ttotal: 1.94s\tremaining: 459ms\n",
            "809:\tlearn: 0.1709520\ttotal: 1.94s\tremaining: 456ms\n",
            "810:\tlearn: 0.1708584\ttotal: 1.95s\tremaining: 454ms\n",
            "811:\tlearn: 0.1706692\ttotal: 1.95s\tremaining: 451ms\n",
            "812:\tlearn: 0.1704805\ttotal: 1.95s\tremaining: 449ms\n",
            "813:\tlearn: 0.1702974\ttotal: 1.95s\tremaining: 446ms\n",
            "814:\tlearn: 0.1700673\ttotal: 1.96s\tremaining: 444ms\n",
            "815:\tlearn: 0.1699535\ttotal: 1.96s\tremaining: 442ms\n",
            "816:\tlearn: 0.1697462\ttotal: 1.96s\tremaining: 439ms\n",
            "817:\tlearn: 0.1696159\ttotal: 1.96s\tremaining: 437ms\n",
            "818:\tlearn: 0.1694530\ttotal: 1.96s\tremaining: 434ms\n",
            "819:\tlearn: 0.1692653\ttotal: 1.97s\tremaining: 432ms\n",
            "820:\tlearn: 0.1689941\ttotal: 1.97s\tremaining: 429ms\n",
            "821:\tlearn: 0.1688418\ttotal: 1.97s\tremaining: 427ms\n",
            "822:\tlearn: 0.1687092\ttotal: 1.97s\tremaining: 424ms\n",
            "823:\tlearn: 0.1685778\ttotal: 1.98s\tremaining: 422ms\n",
            "824:\tlearn: 0.1684452\ttotal: 1.98s\tremaining: 420ms\n",
            "825:\tlearn: 0.1682905\ttotal: 1.98s\tremaining: 417ms\n",
            "826:\tlearn: 0.1681491\ttotal: 1.99s\tremaining: 416ms\n",
            "827:\tlearn: 0.1679480\ttotal: 1.99s\tremaining: 414ms\n",
            "828:\tlearn: 0.1677841\ttotal: 1.99s\tremaining: 411ms\n",
            "829:\tlearn: 0.1676666\ttotal: 2s\tremaining: 409ms\n",
            "830:\tlearn: 0.1676248\ttotal: 2s\tremaining: 406ms\n",
            "831:\tlearn: 0.1674767\ttotal: 2s\tremaining: 404ms\n",
            "832:\tlearn: 0.1672916\ttotal: 2s\tremaining: 402ms\n",
            "833:\tlearn: 0.1671119\ttotal: 2s\tremaining: 399ms\n",
            "834:\tlearn: 0.1669827\ttotal: 2.01s\tremaining: 397ms\n",
            "835:\tlearn: 0.1668934\ttotal: 2.01s\tremaining: 394ms\n",
            "836:\tlearn: 0.1666713\ttotal: 2.01s\tremaining: 392ms\n",
            "837:\tlearn: 0.1664032\ttotal: 2.01s\tremaining: 389ms\n",
            "838:\tlearn: 0.1661797\ttotal: 2.02s\tremaining: 387ms\n",
            "839:\tlearn: 0.1660308\ttotal: 2.02s\tremaining: 384ms\n",
            "840:\tlearn: 0.1658632\ttotal: 2.02s\tremaining: 382ms\n",
            "841:\tlearn: 0.1656652\ttotal: 2.02s\tremaining: 379ms\n",
            "842:\tlearn: 0.1655352\ttotal: 2.02s\tremaining: 377ms\n",
            "843:\tlearn: 0.1653741\ttotal: 2.03s\tremaining: 375ms\n",
            "844:\tlearn: 0.1652746\ttotal: 2.03s\tremaining: 372ms\n",
            "845:\tlearn: 0.1651420\ttotal: 2.03s\tremaining: 370ms\n",
            "846:\tlearn: 0.1649947\ttotal: 2.03s\tremaining: 367ms\n",
            "847:\tlearn: 0.1649204\ttotal: 2.03s\tremaining: 365ms\n",
            "848:\tlearn: 0.1648027\ttotal: 2.04s\tremaining: 362ms\n",
            "849:\tlearn: 0.1646881\ttotal: 2.04s\tremaining: 360ms\n",
            "850:\tlearn: 0.1645415\ttotal: 2.04s\tremaining: 357ms\n",
            "851:\tlearn: 0.1643100\ttotal: 2.04s\tremaining: 355ms\n",
            "852:\tlearn: 0.1640887\ttotal: 2.04s\tremaining: 352ms\n",
            "853:\tlearn: 0.1639636\ttotal: 2.05s\tremaining: 350ms\n",
            "854:\tlearn: 0.1638047\ttotal: 2.05s\tremaining: 348ms\n",
            "855:\tlearn: 0.1634926\ttotal: 2.05s\tremaining: 345ms\n",
            "856:\tlearn: 0.1632525\ttotal: 2.05s\tremaining: 343ms\n",
            "857:\tlearn: 0.1631003\ttotal: 2.06s\tremaining: 340ms\n",
            "858:\tlearn: 0.1629796\ttotal: 2.06s\tremaining: 338ms\n",
            "859:\tlearn: 0.1628200\ttotal: 2.06s\tremaining: 335ms\n",
            "860:\tlearn: 0.1627069\ttotal: 2.06s\tremaining: 333ms\n",
            "861:\tlearn: 0.1625790\ttotal: 2.06s\tremaining: 331ms\n",
            "862:\tlearn: 0.1622612\ttotal: 2.07s\tremaining: 328ms\n",
            "863:\tlearn: 0.1620203\ttotal: 2.07s\tremaining: 326ms\n",
            "864:\tlearn: 0.1618497\ttotal: 2.07s\tremaining: 323ms\n",
            "865:\tlearn: 0.1617244\ttotal: 2.07s\tremaining: 321ms\n",
            "866:\tlearn: 0.1616104\ttotal: 2.08s\tremaining: 319ms\n",
            "867:\tlearn: 0.1615174\ttotal: 2.08s\tremaining: 316ms\n",
            "868:\tlearn: 0.1613628\ttotal: 2.08s\tremaining: 314ms\n",
            "869:\tlearn: 0.1612788\ttotal: 2.08s\tremaining: 311ms\n",
            "870:\tlearn: 0.1610842\ttotal: 2.09s\tremaining: 309ms\n",
            "871:\tlearn: 0.1608904\ttotal: 2.09s\tremaining: 307ms\n",
            "872:\tlearn: 0.1607007\ttotal: 2.09s\tremaining: 304ms\n",
            "873:\tlearn: 0.1605108\ttotal: 2.09s\tremaining: 302ms\n",
            "874:\tlearn: 0.1604576\ttotal: 2.1s\tremaining: 299ms\n",
            "875:\tlearn: 0.1602975\ttotal: 2.1s\tremaining: 297ms\n",
            "876:\tlearn: 0.1601319\ttotal: 2.1s\tremaining: 294ms\n",
            "877:\tlearn: 0.1598963\ttotal: 2.1s\tremaining: 292ms\n",
            "878:\tlearn: 0.1597963\ttotal: 2.1s\tremaining: 290ms\n",
            "879:\tlearn: 0.1597228\ttotal: 2.1s\tremaining: 287ms\n",
            "880:\tlearn: 0.1595720\ttotal: 2.11s\tremaining: 285ms\n",
            "881:\tlearn: 0.1594758\ttotal: 2.11s\tremaining: 282ms\n",
            "882:\tlearn: 0.1592946\ttotal: 2.11s\tremaining: 280ms\n",
            "883:\tlearn: 0.1591940\ttotal: 2.11s\tremaining: 277ms\n",
            "884:\tlearn: 0.1589691\ttotal: 2.12s\tremaining: 275ms\n",
            "885:\tlearn: 0.1588414\ttotal: 2.12s\tremaining: 273ms\n",
            "886:\tlearn: 0.1587530\ttotal: 2.12s\tremaining: 270ms\n",
            "887:\tlearn: 0.1586140\ttotal: 2.12s\tremaining: 268ms\n",
            "888:\tlearn: 0.1584661\ttotal: 2.13s\tremaining: 265ms\n",
            "889:\tlearn: 0.1582848\ttotal: 2.13s\tremaining: 263ms\n",
            "890:\tlearn: 0.1581186\ttotal: 2.13s\tremaining: 261ms\n",
            "891:\tlearn: 0.1579405\ttotal: 2.13s\tremaining: 258ms\n",
            "892:\tlearn: 0.1578098\ttotal: 2.13s\tremaining: 256ms\n",
            "893:\tlearn: 0.1576721\ttotal: 2.14s\tremaining: 253ms\n",
            "894:\tlearn: 0.1574541\ttotal: 2.14s\tremaining: 251ms\n",
            "895:\tlearn: 0.1573488\ttotal: 2.14s\tremaining: 248ms\n",
            "896:\tlearn: 0.1571296\ttotal: 2.14s\tremaining: 246ms\n",
            "897:\tlearn: 0.1568967\ttotal: 2.14s\tremaining: 244ms\n",
            "898:\tlearn: 0.1567244\ttotal: 2.15s\tremaining: 241ms\n",
            "899:\tlearn: 0.1566135\ttotal: 2.15s\tremaining: 239ms\n",
            "900:\tlearn: 0.1563399\ttotal: 2.15s\tremaining: 236ms\n",
            "901:\tlearn: 0.1560735\ttotal: 2.15s\tremaining: 234ms\n",
            "902:\tlearn: 0.1559419\ttotal: 2.15s\tremaining: 231ms\n",
            "903:\tlearn: 0.1557734\ttotal: 2.16s\tremaining: 229ms\n",
            "904:\tlearn: 0.1555208\ttotal: 2.16s\tremaining: 227ms\n",
            "905:\tlearn: 0.1553742\ttotal: 2.16s\tremaining: 224ms\n",
            "906:\tlearn: 0.1551629\ttotal: 2.16s\tremaining: 222ms\n",
            "907:\tlearn: 0.1550556\ttotal: 2.17s\tremaining: 220ms\n",
            "908:\tlearn: 0.1548362\ttotal: 2.17s\tremaining: 217ms\n",
            "909:\tlearn: 0.1547290\ttotal: 2.17s\tremaining: 215ms\n",
            "910:\tlearn: 0.1545832\ttotal: 2.18s\tremaining: 213ms\n",
            "911:\tlearn: 0.1545173\ttotal: 2.18s\tremaining: 211ms\n",
            "912:\tlearn: 0.1544320\ttotal: 2.19s\tremaining: 208ms\n",
            "913:\tlearn: 0.1541948\ttotal: 2.19s\tremaining: 206ms\n",
            "914:\tlearn: 0.1539537\ttotal: 2.19s\tremaining: 203ms\n",
            "915:\tlearn: 0.1538014\ttotal: 2.19s\tremaining: 201ms\n",
            "916:\tlearn: 0.1536423\ttotal: 2.19s\tremaining: 199ms\n",
            "917:\tlearn: 0.1535394\ttotal: 2.2s\tremaining: 196ms\n",
            "918:\tlearn: 0.1533242\ttotal: 2.2s\tremaining: 194ms\n",
            "919:\tlearn: 0.1531784\ttotal: 2.2s\tremaining: 192ms\n",
            "920:\tlearn: 0.1530094\ttotal: 2.21s\tremaining: 189ms\n",
            "921:\tlearn: 0.1528176\ttotal: 2.21s\tremaining: 187ms\n",
            "922:\tlearn: 0.1526347\ttotal: 2.21s\tremaining: 184ms\n",
            "923:\tlearn: 0.1524876\ttotal: 2.21s\tremaining: 182ms\n",
            "924:\tlearn: 0.1523452\ttotal: 2.21s\tremaining: 180ms\n",
            "925:\tlearn: 0.1521999\ttotal: 2.22s\tremaining: 177ms\n",
            "926:\tlearn: 0.1520366\ttotal: 2.22s\tremaining: 175ms\n",
            "927:\tlearn: 0.1517635\ttotal: 2.22s\tremaining: 172ms\n",
            "928:\tlearn: 0.1515134\ttotal: 2.23s\tremaining: 170ms\n",
            "929:\tlearn: 0.1513140\ttotal: 2.23s\tremaining: 168ms\n",
            "930:\tlearn: 0.1511177\ttotal: 2.23s\tremaining: 165ms\n",
            "931:\tlearn: 0.1508934\ttotal: 2.23s\tremaining: 163ms\n",
            "932:\tlearn: 0.1507948\ttotal: 2.23s\tremaining: 161ms\n",
            "933:\tlearn: 0.1506146\ttotal: 2.24s\tremaining: 158ms\n",
            "934:\tlearn: 0.1504362\ttotal: 2.24s\tremaining: 156ms\n",
            "935:\tlearn: 0.1502162\ttotal: 2.24s\tremaining: 153ms\n",
            "936:\tlearn: 0.1500544\ttotal: 2.24s\tremaining: 151ms\n",
            "937:\tlearn: 0.1498195\ttotal: 2.25s\tremaining: 148ms\n",
            "938:\tlearn: 0.1495472\ttotal: 2.25s\tremaining: 146ms\n",
            "939:\tlearn: 0.1493420\ttotal: 2.25s\tremaining: 144ms\n",
            "940:\tlearn: 0.1492323\ttotal: 2.25s\tremaining: 141ms\n",
            "941:\tlearn: 0.1490114\ttotal: 2.25s\tremaining: 139ms\n",
            "942:\tlearn: 0.1488771\ttotal: 2.26s\tremaining: 136ms\n",
            "943:\tlearn: 0.1488081\ttotal: 2.26s\tremaining: 134ms\n",
            "944:\tlearn: 0.1486403\ttotal: 2.26s\tremaining: 132ms\n",
            "945:\tlearn: 0.1484910\ttotal: 2.26s\tremaining: 129ms\n",
            "946:\tlearn: 0.1483883\ttotal: 2.27s\tremaining: 127ms\n",
            "947:\tlearn: 0.1482150\ttotal: 2.27s\tremaining: 124ms\n",
            "948:\tlearn: 0.1479663\ttotal: 2.27s\tremaining: 122ms\n",
            "949:\tlearn: 0.1477342\ttotal: 2.27s\tremaining: 120ms\n",
            "950:\tlearn: 0.1475493\ttotal: 2.27s\tremaining: 117ms\n",
            "951:\tlearn: 0.1473273\ttotal: 2.28s\tremaining: 115ms\n",
            "952:\tlearn: 0.1471596\ttotal: 2.28s\tremaining: 112ms\n",
            "953:\tlearn: 0.1470158\ttotal: 2.28s\tremaining: 110ms\n",
            "954:\tlearn: 0.1467715\ttotal: 2.28s\tremaining: 108ms\n",
            "955:\tlearn: 0.1464896\ttotal: 2.29s\tremaining: 105ms\n",
            "956:\tlearn: 0.1463498\ttotal: 2.29s\tremaining: 103ms\n",
            "957:\tlearn: 0.1460060\ttotal: 2.29s\tremaining: 100ms\n",
            "958:\tlearn: 0.1459356\ttotal: 2.29s\tremaining: 98ms\n",
            "959:\tlearn: 0.1457975\ttotal: 2.29s\tremaining: 95.6ms\n",
            "960:\tlearn: 0.1456515\ttotal: 2.3s\tremaining: 93.2ms\n",
            "961:\tlearn: 0.1456068\ttotal: 2.3s\tremaining: 90.8ms\n",
            "962:\tlearn: 0.1454931\ttotal: 2.3s\tremaining: 88.4ms\n",
            "963:\tlearn: 0.1453656\ttotal: 2.3s\tremaining: 86ms\n",
            "964:\tlearn: 0.1451147\ttotal: 2.31s\tremaining: 83.7ms\n",
            "965:\tlearn: 0.1450067\ttotal: 2.31s\tremaining: 81.3ms\n",
            "966:\tlearn: 0.1448436\ttotal: 2.31s\tremaining: 78.9ms\n",
            "967:\tlearn: 0.1448198\ttotal: 2.31s\tremaining: 76.5ms\n",
            "968:\tlearn: 0.1447141\ttotal: 2.31s\tremaining: 74.1ms\n",
            "969:\tlearn: 0.1445394\ttotal: 2.32s\tremaining: 71.7ms\n",
            "970:\tlearn: 0.1443169\ttotal: 2.32s\tremaining: 69.3ms\n",
            "971:\tlearn: 0.1441817\ttotal: 2.32s\tremaining: 66.9ms\n",
            "972:\tlearn: 0.1439973\ttotal: 2.32s\tremaining: 64.5ms\n",
            "973:\tlearn: 0.1436853\ttotal: 2.33s\tremaining: 62.1ms\n",
            "974:\tlearn: 0.1434938\ttotal: 2.33s\tremaining: 59.7ms\n",
            "975:\tlearn: 0.1433863\ttotal: 2.33s\tremaining: 57.3ms\n",
            "976:\tlearn: 0.1433075\ttotal: 2.33s\tremaining: 54.9ms\n",
            "977:\tlearn: 0.1431200\ttotal: 2.33s\tremaining: 52.5ms\n",
            "978:\tlearn: 0.1429458\ttotal: 2.34s\tremaining: 50.1ms\n",
            "979:\tlearn: 0.1427931\ttotal: 2.34s\tremaining: 47.7ms\n",
            "980:\tlearn: 0.1426712\ttotal: 2.34s\tremaining: 45.3ms\n",
            "981:\tlearn: 0.1425788\ttotal: 2.34s\tremaining: 43ms\n",
            "982:\tlearn: 0.1423864\ttotal: 2.35s\tremaining: 40.6ms\n",
            "983:\tlearn: 0.1422194\ttotal: 2.35s\tremaining: 38.2ms\n",
            "984:\tlearn: 0.1421172\ttotal: 2.35s\tremaining: 35.8ms\n",
            "985:\tlearn: 0.1420293\ttotal: 2.35s\tremaining: 33.4ms\n",
            "986:\tlearn: 0.1418397\ttotal: 2.35s\tremaining: 31ms\n",
            "987:\tlearn: 0.1417206\ttotal: 2.36s\tremaining: 28.6ms\n",
            "988:\tlearn: 0.1415856\ttotal: 2.36s\tremaining: 26.3ms\n",
            "989:\tlearn: 0.1413706\ttotal: 2.37s\tremaining: 23.9ms\n",
            "990:\tlearn: 0.1412562\ttotal: 2.37s\tremaining: 21.5ms\n",
            "991:\tlearn: 0.1410533\ttotal: 2.37s\tremaining: 19.1ms\n",
            "992:\tlearn: 0.1408966\ttotal: 2.37s\tremaining: 16.7ms\n",
            "993:\tlearn: 0.1407547\ttotal: 2.38s\tremaining: 14.3ms\n",
            "994:\tlearn: 0.1405963\ttotal: 2.38s\tremaining: 11.9ms\n",
            "995:\tlearn: 0.1403617\ttotal: 2.38s\tremaining: 9.56ms\n",
            "996:\tlearn: 0.1402365\ttotal: 2.38s\tremaining: 7.17ms\n",
            "997:\tlearn: 0.1399995\ttotal: 2.38s\tremaining: 4.78ms\n",
            "998:\tlearn: 0.1397671\ttotal: 2.39s\tremaining: 2.39ms\n",
            "999:\tlearn: 0.1396114\ttotal: 2.39s\tremaining: 0us\n",
            "[CV] END ...........................depth=7, iterations=1000; total time=   2.6s\n",
            "Learning rate set to 0.006846\n",
            "0:\tlearn: 0.6887039\ttotal: 2.18ms\tremaining: 2.18s\n",
            "1:\tlearn: 0.6849852\ttotal: 4.7ms\tremaining: 2.35s\n",
            "2:\tlearn: 0.6816068\ttotal: 6.91ms\tremaining: 2.3s\n",
            "3:\tlearn: 0.6777123\ttotal: 9.18ms\tremaining: 2.29s\n",
            "4:\tlearn: 0.6728957\ttotal: 11.6ms\tremaining: 2.31s\n",
            "5:\tlearn: 0.6693141\ttotal: 13.9ms\tremaining: 2.31s\n",
            "6:\tlearn: 0.6652639\ttotal: 16.4ms\tremaining: 2.33s\n",
            "7:\tlearn: 0.6611690\ttotal: 18.7ms\tremaining: 2.32s\n",
            "8:\tlearn: 0.6570745\ttotal: 20.9ms\tremaining: 2.3s\n",
            "9:\tlearn: 0.6535447\ttotal: 23ms\tremaining: 2.28s\n",
            "10:\tlearn: 0.6505906\ttotal: 25.2ms\tremaining: 2.26s\n",
            "11:\tlearn: 0.6467870\ttotal: 27.4ms\tremaining: 2.26s\n",
            "12:\tlearn: 0.6422637\ttotal: 29.7ms\tremaining: 2.25s\n",
            "13:\tlearn: 0.6388401\ttotal: 31.9ms\tremaining: 2.25s\n",
            "14:\tlearn: 0.6345326\ttotal: 34.1ms\tremaining: 2.24s\n",
            "15:\tlearn: 0.6307435\ttotal: 36.4ms\tremaining: 2.24s\n",
            "16:\tlearn: 0.6265136\ttotal: 38.6ms\tremaining: 2.23s\n",
            "17:\tlearn: 0.6228625\ttotal: 40.8ms\tremaining: 2.23s\n",
            "18:\tlearn: 0.6195194\ttotal: 43ms\tremaining: 2.22s\n",
            "19:\tlearn: 0.6166567\ttotal: 45.1ms\tremaining: 2.21s\n",
            "20:\tlearn: 0.6134915\ttotal: 47.3ms\tremaining: 2.21s\n",
            "21:\tlearn: 0.6099746\ttotal: 49.5ms\tremaining: 2.2s\n",
            "22:\tlearn: 0.6064958\ttotal: 51.7ms\tremaining: 2.2s\n",
            "23:\tlearn: 0.6046402\ttotal: 52.9ms\tremaining: 2.15s\n",
            "24:\tlearn: 0.6007686\ttotal: 55.2ms\tremaining: 2.15s\n",
            "25:\tlearn: 0.5978439\ttotal: 57.4ms\tremaining: 2.15s\n",
            "26:\tlearn: 0.5949718\ttotal: 59.6ms\tremaining: 2.15s\n",
            "27:\tlearn: 0.5917802\ttotal: 61.8ms\tremaining: 2.15s\n",
            "28:\tlearn: 0.5892231\ttotal: 64ms\tremaining: 2.14s\n",
            "29:\tlearn: 0.5866007\ttotal: 66.2ms\tremaining: 2.14s\n",
            "30:\tlearn: 0.5834394\ttotal: 68.3ms\tremaining: 2.13s\n",
            "31:\tlearn: 0.5807856\ttotal: 70.4ms\tremaining: 2.13s\n",
            "32:\tlearn: 0.5786364\ttotal: 72.6ms\tremaining: 2.13s\n",
            "33:\tlearn: 0.5760819\ttotal: 74.7ms\tremaining: 2.12s\n",
            "34:\tlearn: 0.5731412\ttotal: 77ms\tremaining: 2.12s\n",
            "35:\tlearn: 0.5699766\ttotal: 79.2ms\tremaining: 2.12s\n",
            "36:\tlearn: 0.5668910\ttotal: 81.4ms\tremaining: 2.12s\n",
            "37:\tlearn: 0.5652684\ttotal: 83.7ms\tremaining: 2.12s\n",
            "38:\tlearn: 0.5627824\ttotal: 88.5ms\tremaining: 2.18s\n",
            "39:\tlearn: 0.5604047\ttotal: 90.6ms\tremaining: 2.17s\n",
            "40:\tlearn: 0.5579965\ttotal: 92.6ms\tremaining: 2.17s\n",
            "41:\tlearn: 0.5556922\ttotal: 94.9ms\tremaining: 2.16s\n",
            "42:\tlearn: 0.5538254\ttotal: 98.5ms\tremaining: 2.19s\n",
            "43:\tlearn: 0.5515232\ttotal: 101ms\tremaining: 2.19s\n",
            "44:\tlearn: 0.5492235\ttotal: 103ms\tremaining: 2.19s\n",
            "45:\tlearn: 0.5465739\ttotal: 105ms\tremaining: 2.19s\n",
            "46:\tlearn: 0.5440771\ttotal: 108ms\tremaining: 2.18s\n",
            "47:\tlearn: 0.5418580\ttotal: 110ms\tremaining: 2.18s\n",
            "48:\tlearn: 0.5392956\ttotal: 112ms\tremaining: 2.18s\n",
            "49:\tlearn: 0.5373456\ttotal: 119ms\tremaining: 2.25s\n",
            "50:\tlearn: 0.5344927\ttotal: 124ms\tremaining: 2.31s\n",
            "51:\tlearn: 0.5322069\ttotal: 128ms\tremaining: 2.33s\n",
            "52:\tlearn: 0.5297255\ttotal: 130ms\tremaining: 2.33s\n",
            "53:\tlearn: 0.5281110\ttotal: 133ms\tremaining: 2.33s\n",
            "54:\tlearn: 0.5262173\ttotal: 135ms\tremaining: 2.32s\n",
            "55:\tlearn: 0.5240314\ttotal: 137ms\tremaining: 2.31s\n",
            "56:\tlearn: 0.5218245\ttotal: 139ms\tremaining: 2.31s\n",
            "57:\tlearn: 0.5197506\ttotal: 142ms\tremaining: 2.3s\n",
            "58:\tlearn: 0.5177911\ttotal: 144ms\tremaining: 2.29s\n",
            "59:\tlearn: 0.5155814\ttotal: 147ms\tremaining: 2.31s\n",
            "60:\tlearn: 0.5134702\ttotal: 150ms\tremaining: 2.3s\n",
            "61:\tlearn: 0.5115869\ttotal: 152ms\tremaining: 2.3s\n",
            "62:\tlearn: 0.5093550\ttotal: 154ms\tremaining: 2.29s\n",
            "63:\tlearn: 0.5078739\ttotal: 157ms\tremaining: 2.29s\n",
            "64:\tlearn: 0.5057308\ttotal: 159ms\tremaining: 2.29s\n",
            "65:\tlearn: 0.5042666\ttotal: 161ms\tremaining: 2.28s\n",
            "66:\tlearn: 0.5024882\ttotal: 163ms\tremaining: 2.28s\n",
            "67:\tlearn: 0.5002621\ttotal: 166ms\tremaining: 2.27s\n",
            "68:\tlearn: 0.4985822\ttotal: 168ms\tremaining: 2.27s\n",
            "69:\tlearn: 0.4969701\ttotal: 170ms\tremaining: 2.26s\n",
            "70:\tlearn: 0.4950027\ttotal: 172ms\tremaining: 2.26s\n",
            "71:\tlearn: 0.4931933\ttotal: 175ms\tremaining: 2.25s\n",
            "72:\tlearn: 0.4913909\ttotal: 177ms\tremaining: 2.24s\n",
            "73:\tlearn: 0.4899181\ttotal: 179ms\tremaining: 2.24s\n",
            "74:\tlearn: 0.4879339\ttotal: 181ms\tremaining: 2.23s\n",
            "75:\tlearn: 0.4860994\ttotal: 183ms\tremaining: 2.23s\n",
            "76:\tlearn: 0.4840250\ttotal: 186ms\tremaining: 2.22s\n",
            "77:\tlearn: 0.4821353\ttotal: 188ms\tremaining: 2.22s\n",
            "78:\tlearn: 0.4803764\ttotal: 190ms\tremaining: 2.21s\n",
            "79:\tlearn: 0.4782727\ttotal: 192ms\tremaining: 2.21s\n",
            "80:\tlearn: 0.4767249\ttotal: 194ms\tremaining: 2.21s\n",
            "81:\tlearn: 0.4750811\ttotal: 197ms\tremaining: 2.2s\n",
            "82:\tlearn: 0.4736594\ttotal: 199ms\tremaining: 2.2s\n",
            "83:\tlearn: 0.4721098\ttotal: 201ms\tremaining: 2.19s\n",
            "84:\tlearn: 0.4705544\ttotal: 204ms\tremaining: 2.19s\n",
            "85:\tlearn: 0.4688983\ttotal: 206ms\tremaining: 2.19s\n",
            "86:\tlearn: 0.4673283\ttotal: 208ms\tremaining: 2.18s\n",
            "87:\tlearn: 0.4653460\ttotal: 210ms\tremaining: 2.17s\n",
            "88:\tlearn: 0.4639313\ttotal: 212ms\tremaining: 2.17s\n",
            "89:\tlearn: 0.4625991\ttotal: 214ms\tremaining: 2.17s\n",
            "90:\tlearn: 0.4604341\ttotal: 216ms\tremaining: 2.16s\n",
            "91:\tlearn: 0.4589407\ttotal: 218ms\tremaining: 2.16s\n",
            "92:\tlearn: 0.4576739\ttotal: 221ms\tremaining: 2.15s\n",
            "93:\tlearn: 0.4560123\ttotal: 223ms\tremaining: 2.15s\n",
            "94:\tlearn: 0.4542787\ttotal: 225ms\tremaining: 2.14s\n",
            "95:\tlearn: 0.4529363\ttotal: 227ms\tremaining: 2.14s\n",
            "96:\tlearn: 0.4517325\ttotal: 230ms\tremaining: 2.14s\n",
            "97:\tlearn: 0.4500786\ttotal: 232ms\tremaining: 2.13s\n",
            "98:\tlearn: 0.4485983\ttotal: 234ms\tremaining: 2.13s\n",
            "99:\tlearn: 0.4473231\ttotal: 236ms\tremaining: 2.13s\n",
            "100:\tlearn: 0.4458423\ttotal: 238ms\tremaining: 2.12s\n",
            "101:\tlearn: 0.4449972\ttotal: 241ms\tremaining: 2.12s\n",
            "102:\tlearn: 0.4435575\ttotal: 243ms\tremaining: 2.11s\n",
            "103:\tlearn: 0.4420103\ttotal: 245ms\tremaining: 2.11s\n",
            "104:\tlearn: 0.4405867\ttotal: 247ms\tremaining: 2.11s\n",
            "105:\tlearn: 0.4387329\ttotal: 249ms\tremaining: 2.1s\n",
            "106:\tlearn: 0.4373769\ttotal: 251ms\tremaining: 2.1s\n",
            "107:\tlearn: 0.4361873\ttotal: 254ms\tremaining: 2.1s\n",
            "108:\tlearn: 0.4349849\ttotal: 256ms\tremaining: 2.09s\n",
            "109:\tlearn: 0.4335453\ttotal: 258ms\tremaining: 2.09s\n",
            "110:\tlearn: 0.4326436\ttotal: 260ms\tremaining: 2.08s\n",
            "111:\tlearn: 0.4314040\ttotal: 264ms\tremaining: 2.09s\n",
            "112:\tlearn: 0.4302733\ttotal: 267ms\tremaining: 2.1s\n",
            "113:\tlearn: 0.4292336\ttotal: 271ms\tremaining: 2.1s\n",
            "114:\tlearn: 0.4281498\ttotal: 275ms\tremaining: 2.11s\n",
            "115:\tlearn: 0.4272528\ttotal: 277ms\tremaining: 2.11s\n",
            "116:\tlearn: 0.4261142\ttotal: 279ms\tremaining: 2.11s\n",
            "117:\tlearn: 0.4249430\ttotal: 281ms\tremaining: 2.1s\n",
            "118:\tlearn: 0.4235502\ttotal: 284ms\tremaining: 2.1s\n",
            "119:\tlearn: 0.4224077\ttotal: 286ms\tremaining: 2.1s\n",
            "120:\tlearn: 0.4210924\ttotal: 288ms\tremaining: 2.09s\n",
            "121:\tlearn: 0.4200446\ttotal: 290ms\tremaining: 2.09s\n",
            "122:\tlearn: 0.4191422\ttotal: 292ms\tremaining: 2.08s\n",
            "123:\tlearn: 0.4180881\ttotal: 295ms\tremaining: 2.08s\n",
            "124:\tlearn: 0.4170227\ttotal: 297ms\tremaining: 2.08s\n",
            "125:\tlearn: 0.4156002\ttotal: 299ms\tremaining: 2.07s\n",
            "126:\tlearn: 0.4147535\ttotal: 301ms\tremaining: 2.07s\n",
            "127:\tlearn: 0.4140166\ttotal: 304ms\tremaining: 2.07s\n",
            "128:\tlearn: 0.4130715\ttotal: 306ms\tremaining: 2.06s\n",
            "129:\tlearn: 0.4122216\ttotal: 308ms\tremaining: 2.06s\n",
            "130:\tlearn: 0.4113037\ttotal: 311ms\tremaining: 2.06s\n",
            "131:\tlearn: 0.4102825\ttotal: 315ms\tremaining: 2.07s\n",
            "132:\tlearn: 0.4089563\ttotal: 318ms\tremaining: 2.07s\n",
            "133:\tlearn: 0.4081612\ttotal: 323ms\tremaining: 2.08s\n",
            "134:\tlearn: 0.4070512\ttotal: 325ms\tremaining: 2.08s\n",
            "135:\tlearn: 0.4059523\ttotal: 327ms\tremaining: 2.08s\n",
            "136:\tlearn: 0.4051038\ttotal: 329ms\tremaining: 2.08s\n",
            "137:\tlearn: 0.4039818\ttotal: 332ms\tremaining: 2.07s\n",
            "138:\tlearn: 0.4030098\ttotal: 334ms\tremaining: 2.07s\n",
            "139:\tlearn: 0.4021201\ttotal: 336ms\tremaining: 2.06s\n",
            "140:\tlearn: 0.4008155\ttotal: 338ms\tremaining: 2.06s\n",
            "141:\tlearn: 0.3996011\ttotal: 341ms\tremaining: 2.06s\n",
            "142:\tlearn: 0.3989850\ttotal: 343ms\tremaining: 2.05s\n",
            "143:\tlearn: 0.3979966\ttotal: 345ms\tremaining: 2.05s\n",
            "144:\tlearn: 0.3969983\ttotal: 347ms\tremaining: 2.05s\n",
            "145:\tlearn: 0.3959983\ttotal: 349ms\tremaining: 2.04s\n",
            "146:\tlearn: 0.3950974\ttotal: 352ms\tremaining: 2.04s\n",
            "147:\tlearn: 0.3939571\ttotal: 354ms\tremaining: 2.04s\n",
            "148:\tlearn: 0.3931460\ttotal: 356ms\tremaining: 2.03s\n",
            "149:\tlearn: 0.3918219\ttotal: 358ms\tremaining: 2.03s\n",
            "150:\tlearn: 0.3913043\ttotal: 361ms\tremaining: 2.03s\n",
            "151:\tlearn: 0.3903987\ttotal: 363ms\tremaining: 2.02s\n",
            "152:\tlearn: 0.3894538\ttotal: 365ms\tremaining: 2.02s\n",
            "153:\tlearn: 0.3886035\ttotal: 367ms\tremaining: 2.02s\n",
            "154:\tlearn: 0.3874751\ttotal: 369ms\tremaining: 2.01s\n",
            "155:\tlearn: 0.3866415\ttotal: 372ms\tremaining: 2.01s\n",
            "156:\tlearn: 0.3861714\ttotal: 374ms\tremaining: 2.01s\n",
            "157:\tlearn: 0.3852558\ttotal: 376ms\tremaining: 2s\n",
            "158:\tlearn: 0.3843662\ttotal: 378ms\tremaining: 2s\n",
            "159:\tlearn: 0.3835845\ttotal: 380ms\tremaining: 2s\n",
            "160:\tlearn: 0.3827331\ttotal: 382ms\tremaining: 1.99s\n",
            "161:\tlearn: 0.3816966\ttotal: 386ms\tremaining: 2s\n",
            "162:\tlearn: 0.3808453\ttotal: 388ms\tremaining: 1.99s\n",
            "163:\tlearn: 0.3798915\ttotal: 390ms\tremaining: 1.99s\n",
            "164:\tlearn: 0.3789630\ttotal: 394ms\tremaining: 2s\n",
            "165:\tlearn: 0.3778478\ttotal: 399ms\tremaining: 2s\n",
            "166:\tlearn: 0.3768068\ttotal: 407ms\tremaining: 2.03s\n",
            "167:\tlearn: 0.3759094\ttotal: 410ms\tremaining: 2.03s\n",
            "168:\tlearn: 0.3750651\ttotal: 414ms\tremaining: 2.03s\n",
            "169:\tlearn: 0.3740182\ttotal: 417ms\tremaining: 2.04s\n",
            "170:\tlearn: 0.3733419\ttotal: 421ms\tremaining: 2.04s\n",
            "171:\tlearn: 0.3721515\ttotal: 423ms\tremaining: 2.04s\n",
            "172:\tlearn: 0.3715870\ttotal: 426ms\tremaining: 2.03s\n",
            "173:\tlearn: 0.3708618\ttotal: 428ms\tremaining: 2.03s\n",
            "174:\tlearn: 0.3697646\ttotal: 430ms\tremaining: 2.03s\n",
            "175:\tlearn: 0.3691187\ttotal: 432ms\tremaining: 2.02s\n",
            "176:\tlearn: 0.3680175\ttotal: 435ms\tremaining: 2.02s\n",
            "177:\tlearn: 0.3671295\ttotal: 437ms\tremaining: 2.02s\n",
            "178:\tlearn: 0.3664534\ttotal: 439ms\tremaining: 2.01s\n",
            "179:\tlearn: 0.3657383\ttotal: 441ms\tremaining: 2.01s\n",
            "180:\tlearn: 0.3647102\ttotal: 443ms\tremaining: 2.01s\n",
            "181:\tlearn: 0.3635636\ttotal: 446ms\tremaining: 2s\n",
            "182:\tlearn: 0.3629013\ttotal: 448ms\tremaining: 2s\n",
            "183:\tlearn: 0.3623747\ttotal: 450ms\tremaining: 2s\n",
            "184:\tlearn: 0.3615053\ttotal: 452ms\tremaining: 1.99s\n",
            "185:\tlearn: 0.3605603\ttotal: 454ms\tremaining: 1.99s\n",
            "186:\tlearn: 0.3598729\ttotal: 457ms\tremaining: 1.98s\n",
            "187:\tlearn: 0.3590852\ttotal: 459ms\tremaining: 1.98s\n",
            "188:\tlearn: 0.3583545\ttotal: 461ms\tremaining: 1.98s\n",
            "189:\tlearn: 0.3578165\ttotal: 463ms\tremaining: 1.97s\n",
            "190:\tlearn: 0.3570932\ttotal: 465ms\tremaining: 1.97s\n",
            "191:\tlearn: 0.3561099\ttotal: 468ms\tremaining: 1.97s\n",
            "192:\tlearn: 0.3553683\ttotal: 470ms\tremaining: 1.96s\n",
            "193:\tlearn: 0.3542790\ttotal: 472ms\tremaining: 1.96s\n",
            "194:\tlearn: 0.3534595\ttotal: 474ms\tremaining: 1.96s\n",
            "195:\tlearn: 0.3528338\ttotal: 476ms\tremaining: 1.95s\n",
            "196:\tlearn: 0.3520801\ttotal: 479ms\tremaining: 1.95s\n",
            "197:\tlearn: 0.3513021\ttotal: 483ms\tremaining: 1.96s\n",
            "198:\tlearn: 0.3507663\ttotal: 485ms\tremaining: 1.95s\n",
            "199:\tlearn: 0.3502392\ttotal: 489ms\tremaining: 1.96s\n",
            "200:\tlearn: 0.3494840\ttotal: 491ms\tremaining: 1.95s\n",
            "201:\tlearn: 0.3488016\ttotal: 493ms\tremaining: 1.95s\n",
            "202:\tlearn: 0.3483795\ttotal: 496ms\tremaining: 1.95s\n",
            "203:\tlearn: 0.3476937\ttotal: 498ms\tremaining: 1.94s\n",
            "204:\tlearn: 0.3471077\ttotal: 502ms\tremaining: 1.95s\n",
            "205:\tlearn: 0.3462712\ttotal: 507ms\tremaining: 1.95s\n",
            "206:\tlearn: 0.3454136\ttotal: 510ms\tremaining: 1.95s\n",
            "207:\tlearn: 0.3447058\ttotal: 515ms\tremaining: 1.96s\n",
            "208:\tlearn: 0.3441879\ttotal: 518ms\tremaining: 1.96s\n",
            "209:\tlearn: 0.3436522\ttotal: 520ms\tremaining: 1.96s\n",
            "210:\tlearn: 0.3430412\ttotal: 523ms\tremaining: 1.96s\n",
            "211:\tlearn: 0.3425288\ttotal: 526ms\tremaining: 1.96s\n",
            "212:\tlearn: 0.3419182\ttotal: 528ms\tremaining: 1.95s\n",
            "213:\tlearn: 0.3413468\ttotal: 531ms\tremaining: 1.95s\n",
            "214:\tlearn: 0.3407083\ttotal: 533ms\tremaining: 1.95s\n",
            "215:\tlearn: 0.3402456\ttotal: 536ms\tremaining: 1.94s\n",
            "216:\tlearn: 0.3397928\ttotal: 538ms\tremaining: 1.94s\n",
            "217:\tlearn: 0.3390850\ttotal: 540ms\tremaining: 1.94s\n",
            "218:\tlearn: 0.3381752\ttotal: 542ms\tremaining: 1.93s\n",
            "219:\tlearn: 0.3377034\ttotal: 544ms\tremaining: 1.93s\n",
            "220:\tlearn: 0.3369865\ttotal: 547ms\tremaining: 1.93s\n",
            "221:\tlearn: 0.3365148\ttotal: 549ms\tremaining: 1.92s\n",
            "222:\tlearn: 0.3359864\ttotal: 551ms\tremaining: 1.92s\n",
            "223:\tlearn: 0.3351347\ttotal: 553ms\tremaining: 1.92s\n",
            "224:\tlearn: 0.3345166\ttotal: 555ms\tremaining: 1.91s\n",
            "225:\tlearn: 0.3337297\ttotal: 558ms\tremaining: 1.91s\n",
            "226:\tlearn: 0.3327759\ttotal: 560ms\tremaining: 1.91s\n",
            "227:\tlearn: 0.3320639\ttotal: 562ms\tremaining: 1.9s\n",
            "228:\tlearn: 0.3312873\ttotal: 564ms\tremaining: 1.9s\n",
            "229:\tlearn: 0.3305397\ttotal: 566ms\tremaining: 1.9s\n",
            "230:\tlearn: 0.3297356\ttotal: 568ms\tremaining: 1.89s\n",
            "231:\tlearn: 0.3289803\ttotal: 571ms\tremaining: 1.89s\n",
            "232:\tlearn: 0.3284614\ttotal: 573ms\tremaining: 1.89s\n",
            "233:\tlearn: 0.3280613\ttotal: 575ms\tremaining: 1.88s\n",
            "234:\tlearn: 0.3275542\ttotal: 577ms\tremaining: 1.88s\n",
            "235:\tlearn: 0.3268153\ttotal: 579ms\tremaining: 1.88s\n",
            "236:\tlearn: 0.3260977\ttotal: 582ms\tremaining: 1.87s\n",
            "237:\tlearn: 0.3255013\ttotal: 584ms\tremaining: 1.87s\n",
            "238:\tlearn: 0.3246751\ttotal: 586ms\tremaining: 1.87s\n",
            "239:\tlearn: 0.3242848\ttotal: 588ms\tremaining: 1.86s\n",
            "240:\tlearn: 0.3237858\ttotal: 591ms\tremaining: 1.86s\n",
            "241:\tlearn: 0.3232824\ttotal: 594ms\tremaining: 1.86s\n",
            "242:\tlearn: 0.3226172\ttotal: 597ms\tremaining: 1.86s\n",
            "243:\tlearn: 0.3220771\ttotal: 599ms\tremaining: 1.85s\n",
            "244:\tlearn: 0.3214239\ttotal: 601ms\tremaining: 1.85s\n",
            "245:\tlearn: 0.3208132\ttotal: 603ms\tremaining: 1.85s\n",
            "246:\tlearn: 0.3204098\ttotal: 605ms\tremaining: 1.84s\n",
            "247:\tlearn: 0.3197822\ttotal: 608ms\tremaining: 1.84s\n",
            "248:\tlearn: 0.3192533\ttotal: 610ms\tremaining: 1.84s\n",
            "249:\tlearn: 0.3186577\ttotal: 612ms\tremaining: 1.84s\n",
            "250:\tlearn: 0.3181743\ttotal: 614ms\tremaining: 1.83s\n",
            "251:\tlearn: 0.3173443\ttotal: 616ms\tremaining: 1.83s\n",
            "252:\tlearn: 0.3167779\ttotal: 619ms\tremaining: 1.83s\n",
            "253:\tlearn: 0.3163607\ttotal: 621ms\tremaining: 1.82s\n",
            "254:\tlearn: 0.3158935\ttotal: 623ms\tremaining: 1.82s\n",
            "255:\tlearn: 0.3154334\ttotal: 625ms\tremaining: 1.82s\n",
            "256:\tlearn: 0.3149263\ttotal: 628ms\tremaining: 1.81s\n",
            "257:\tlearn: 0.3144680\ttotal: 630ms\tremaining: 1.81s\n",
            "258:\tlearn: 0.3141539\ttotal: 632ms\tremaining: 1.81s\n",
            "259:\tlearn: 0.3137775\ttotal: 634ms\tremaining: 1.8s\n",
            "260:\tlearn: 0.3133577\ttotal: 637ms\tremaining: 1.8s\n",
            "261:\tlearn: 0.3124845\ttotal: 639ms\tremaining: 1.8s\n",
            "262:\tlearn: 0.3120347\ttotal: 641ms\tremaining: 1.8s\n",
            "263:\tlearn: 0.3115377\ttotal: 643ms\tremaining: 1.79s\n",
            "264:\tlearn: 0.3110770\ttotal: 645ms\tremaining: 1.79s\n",
            "265:\tlearn: 0.3105891\ttotal: 648ms\tremaining: 1.79s\n",
            "266:\tlearn: 0.3099451\ttotal: 650ms\tremaining: 1.78s\n",
            "267:\tlearn: 0.3096425\ttotal: 652ms\tremaining: 1.78s\n",
            "268:\tlearn: 0.3092429\ttotal: 655ms\tremaining: 1.78s\n",
            "269:\tlearn: 0.3085958\ttotal: 657ms\tremaining: 1.78s\n",
            "270:\tlearn: 0.3082105\ttotal: 659ms\tremaining: 1.77s\n",
            "271:\tlearn: 0.3075090\ttotal: 661ms\tremaining: 1.77s\n",
            "272:\tlearn: 0.3072833\ttotal: 664ms\tremaining: 1.77s\n",
            "273:\tlearn: 0.3068453\ttotal: 666ms\tremaining: 1.76s\n",
            "274:\tlearn: 0.3063496\ttotal: 668ms\tremaining: 1.76s\n",
            "275:\tlearn: 0.3059329\ttotal: 670ms\tremaining: 1.76s\n",
            "276:\tlearn: 0.3053927\ttotal: 673ms\tremaining: 1.75s\n",
            "277:\tlearn: 0.3046092\ttotal: 675ms\tremaining: 1.75s\n",
            "278:\tlearn: 0.3041722\ttotal: 677ms\tremaining: 1.75s\n",
            "279:\tlearn: 0.3036988\ttotal: 679ms\tremaining: 1.75s\n",
            "280:\tlearn: 0.3031109\ttotal: 682ms\tremaining: 1.74s\n",
            "281:\tlearn: 0.3024318\ttotal: 684ms\tremaining: 1.74s\n",
            "282:\tlearn: 0.3017477\ttotal: 686ms\tremaining: 1.74s\n",
            "283:\tlearn: 0.3010827\ttotal: 688ms\tremaining: 1.73s\n",
            "284:\tlearn: 0.3006449\ttotal: 690ms\tremaining: 1.73s\n",
            "285:\tlearn: 0.3000195\ttotal: 693ms\tremaining: 1.73s\n",
            "286:\tlearn: 0.2995426\ttotal: 695ms\tremaining: 1.73s\n",
            "287:\tlearn: 0.2990410\ttotal: 697ms\tremaining: 1.72s\n",
            "288:\tlearn: 0.2985056\ttotal: 699ms\tremaining: 1.72s\n",
            "289:\tlearn: 0.2983312\ttotal: 704ms\tremaining: 1.72s\n",
            "290:\tlearn: 0.2977737\ttotal: 707ms\tremaining: 1.72s\n",
            "291:\tlearn: 0.2974485\ttotal: 713ms\tremaining: 1.73s\n",
            "292:\tlearn: 0.2968729\ttotal: 719ms\tremaining: 1.73s\n",
            "293:\tlearn: 0.2964295\ttotal: 722ms\tremaining: 1.73s\n",
            "294:\tlearn: 0.2960280\ttotal: 724ms\tremaining: 1.73s\n",
            "295:\tlearn: 0.2954764\ttotal: 726ms\tremaining: 1.73s\n",
            "296:\tlearn: 0.2947805\ttotal: 729ms\tremaining: 1.72s\n",
            "297:\tlearn: 0.2942426\ttotal: 731ms\tremaining: 1.72s\n",
            "298:\tlearn: 0.2938995\ttotal: 733ms\tremaining: 1.72s\n",
            "299:\tlearn: 0.2934040\ttotal: 735ms\tremaining: 1.72s\n",
            "300:\tlearn: 0.2929608\ttotal: 737ms\tremaining: 1.71s\n",
            "301:\tlearn: 0.2923909\ttotal: 739ms\tremaining: 1.71s\n",
            "302:\tlearn: 0.2919691\ttotal: 742ms\tremaining: 1.71s\n",
            "303:\tlearn: 0.2913840\ttotal: 744ms\tremaining: 1.7s\n",
            "304:\tlearn: 0.2908684\ttotal: 746ms\tremaining: 1.7s\n",
            "305:\tlearn: 0.2902851\ttotal: 749ms\tremaining: 1.7s\n",
            "306:\tlearn: 0.2898868\ttotal: 751ms\tremaining: 1.7s\n",
            "307:\tlearn: 0.2895498\ttotal: 753ms\tremaining: 1.69s\n",
            "308:\tlearn: 0.2890356\ttotal: 755ms\tremaining: 1.69s\n",
            "309:\tlearn: 0.2887013\ttotal: 758ms\tremaining: 1.69s\n",
            "310:\tlearn: 0.2880329\ttotal: 760ms\tremaining: 1.68s\n",
            "311:\tlearn: 0.2876938\ttotal: 762ms\tremaining: 1.68s\n",
            "312:\tlearn: 0.2873793\ttotal: 764ms\tremaining: 1.68s\n",
            "313:\tlearn: 0.2869897\ttotal: 767ms\tremaining: 1.67s\n",
            "314:\tlearn: 0.2865906\ttotal: 769ms\tremaining: 1.67s\n",
            "315:\tlearn: 0.2859535\ttotal: 771ms\tremaining: 1.67s\n",
            "316:\tlearn: 0.2855074\ttotal: 773ms\tremaining: 1.67s\n",
            "317:\tlearn: 0.2851912\ttotal: 776ms\tremaining: 1.66s\n",
            "318:\tlearn: 0.2849279\ttotal: 778ms\tremaining: 1.66s\n",
            "319:\tlearn: 0.2845673\ttotal: 780ms\tremaining: 1.66s\n",
            "320:\tlearn: 0.2842677\ttotal: 782ms\tremaining: 1.65s\n",
            "321:\tlearn: 0.2838673\ttotal: 784ms\tremaining: 1.65s\n",
            "322:\tlearn: 0.2832977\ttotal: 787ms\tremaining: 1.65s\n",
            "323:\tlearn: 0.2828381\ttotal: 789ms\tremaining: 1.65s\n",
            "324:\tlearn: 0.2823546\ttotal: 791ms\tremaining: 1.64s\n",
            "325:\tlearn: 0.2819271\ttotal: 793ms\tremaining: 1.64s\n",
            "326:\tlearn: 0.2814661\ttotal: 796ms\tremaining: 1.64s\n",
            "327:\tlearn: 0.2811930\ttotal: 798ms\tremaining: 1.63s\n",
            "328:\tlearn: 0.2807585\ttotal: 800ms\tremaining: 1.63s\n",
            "329:\tlearn: 0.2802734\ttotal: 802ms\tremaining: 1.63s\n",
            "330:\tlearn: 0.2797137\ttotal: 805ms\tremaining: 1.63s\n",
            "331:\tlearn: 0.2793867\ttotal: 807ms\tremaining: 1.62s\n",
            "332:\tlearn: 0.2790240\ttotal: 809ms\tremaining: 1.62s\n",
            "333:\tlearn: 0.2786361\ttotal: 812ms\tremaining: 1.62s\n",
            "334:\tlearn: 0.2783874\ttotal: 814ms\tremaining: 1.61s\n",
            "335:\tlearn: 0.2779091\ttotal: 818ms\tremaining: 1.62s\n",
            "336:\tlearn: 0.2774202\ttotal: 820ms\tremaining: 1.61s\n",
            "337:\tlearn: 0.2770496\ttotal: 822ms\tremaining: 1.61s\n",
            "338:\tlearn: 0.2766759\ttotal: 824ms\tremaining: 1.61s\n",
            "339:\tlearn: 0.2764762\ttotal: 826ms\tremaining: 1.6s\n",
            "340:\tlearn: 0.2760942\ttotal: 831ms\tremaining: 1.6s\n",
            "341:\tlearn: 0.2757070\ttotal: 833ms\tremaining: 1.6s\n",
            "342:\tlearn: 0.2753795\ttotal: 835ms\tremaining: 1.6s\n",
            "343:\tlearn: 0.2748886\ttotal: 837ms\tremaining: 1.6s\n",
            "344:\tlearn: 0.2746209\ttotal: 840ms\tremaining: 1.59s\n",
            "345:\tlearn: 0.2743009\ttotal: 842ms\tremaining: 1.59s\n",
            "346:\tlearn: 0.2739633\ttotal: 844ms\tremaining: 1.59s\n",
            "347:\tlearn: 0.2736253\ttotal: 846ms\tremaining: 1.58s\n",
            "348:\tlearn: 0.2733045\ttotal: 848ms\tremaining: 1.58s\n",
            "349:\tlearn: 0.2731769\ttotal: 851ms\tremaining: 1.58s\n",
            "350:\tlearn: 0.2727264\ttotal: 853ms\tremaining: 1.58s\n",
            "351:\tlearn: 0.2724570\ttotal: 855ms\tremaining: 1.57s\n",
            "352:\tlearn: 0.2721038\ttotal: 857ms\tremaining: 1.57s\n",
            "353:\tlearn: 0.2717344\ttotal: 861ms\tremaining: 1.57s\n",
            "354:\tlearn: 0.2714816\ttotal: 863ms\tremaining: 1.57s\n",
            "355:\tlearn: 0.2711751\ttotal: 865ms\tremaining: 1.56s\n",
            "356:\tlearn: 0.2707870\ttotal: 867ms\tremaining: 1.56s\n",
            "357:\tlearn: 0.2705196\ttotal: 870ms\tremaining: 1.56s\n",
            "358:\tlearn: 0.2701279\ttotal: 872ms\tremaining: 1.56s\n",
            "359:\tlearn: 0.2695776\ttotal: 874ms\tremaining: 1.55s\n",
            "360:\tlearn: 0.2694346\ttotal: 876ms\tremaining: 1.55s\n",
            "361:\tlearn: 0.2689948\ttotal: 878ms\tremaining: 1.55s\n",
            "362:\tlearn: 0.2687043\ttotal: 880ms\tremaining: 1.54s\n",
            "363:\tlearn: 0.2684618\ttotal: 882ms\tremaining: 1.54s\n",
            "364:\tlearn: 0.2680471\ttotal: 884ms\tremaining: 1.54s\n",
            "365:\tlearn: 0.2677525\ttotal: 887ms\tremaining: 1.53s\n",
            "366:\tlearn: 0.2673317\ttotal: 889ms\tremaining: 1.53s\n",
            "367:\tlearn: 0.2669433\ttotal: 891ms\tremaining: 1.53s\n",
            "368:\tlearn: 0.2666751\ttotal: 893ms\tremaining: 1.53s\n",
            "369:\tlearn: 0.2664525\ttotal: 895ms\tremaining: 1.52s\n",
            "370:\tlearn: 0.2660394\ttotal: 899ms\tremaining: 1.52s\n",
            "371:\tlearn: 0.2657567\ttotal: 904ms\tremaining: 1.52s\n",
            "372:\tlearn: 0.2651912\ttotal: 908ms\tremaining: 1.52s\n",
            "373:\tlearn: 0.2647510\ttotal: 911ms\tremaining: 1.52s\n",
            "374:\tlearn: 0.2643316\ttotal: 917ms\tremaining: 1.53s\n",
            "375:\tlearn: 0.2639177\ttotal: 923ms\tremaining: 1.53s\n",
            "376:\tlearn: 0.2636049\ttotal: 925ms\tremaining: 1.53s\n",
            "377:\tlearn: 0.2629951\ttotal: 927ms\tremaining: 1.52s\n",
            "378:\tlearn: 0.2627771\ttotal: 929ms\tremaining: 1.52s\n",
            "379:\tlearn: 0.2624125\ttotal: 931ms\tremaining: 1.52s\n",
            "380:\tlearn: 0.2620217\ttotal: 933ms\tremaining: 1.52s\n",
            "381:\tlearn: 0.2617343\ttotal: 936ms\tremaining: 1.51s\n",
            "382:\tlearn: 0.2614612\ttotal: 938ms\tremaining: 1.51s\n",
            "383:\tlearn: 0.2612388\ttotal: 940ms\tremaining: 1.51s\n",
            "384:\tlearn: 0.2609629\ttotal: 942ms\tremaining: 1.5s\n",
            "385:\tlearn: 0.2607064\ttotal: 944ms\tremaining: 1.5s\n",
            "386:\tlearn: 0.2601874\ttotal: 946ms\tremaining: 1.5s\n",
            "387:\tlearn: 0.2598546\ttotal: 948ms\tremaining: 1.5s\n",
            "388:\tlearn: 0.2595505\ttotal: 951ms\tremaining: 1.49s\n",
            "389:\tlearn: 0.2593631\ttotal: 953ms\tremaining: 1.49s\n",
            "390:\tlearn: 0.2589929\ttotal: 955ms\tremaining: 1.49s\n",
            "391:\tlearn: 0.2586918\ttotal: 957ms\tremaining: 1.48s\n",
            "392:\tlearn: 0.2581555\ttotal: 959ms\tremaining: 1.48s\n",
            "393:\tlearn: 0.2579202\ttotal: 961ms\tremaining: 1.48s\n",
            "394:\tlearn: 0.2575842\ttotal: 964ms\tremaining: 1.48s\n",
            "395:\tlearn: 0.2572549\ttotal: 966ms\tremaining: 1.47s\n",
            "396:\tlearn: 0.2569826\ttotal: 968ms\tremaining: 1.47s\n",
            "397:\tlearn: 0.2567875\ttotal: 970ms\tremaining: 1.47s\n",
            "398:\tlearn: 0.2564363\ttotal: 972ms\tremaining: 1.46s\n",
            "399:\tlearn: 0.2561304\ttotal: 974ms\tremaining: 1.46s\n",
            "400:\tlearn: 0.2559832\ttotal: 976ms\tremaining: 1.46s\n",
            "401:\tlearn: 0.2555707\ttotal: 979ms\tremaining: 1.46s\n",
            "402:\tlearn: 0.2552939\ttotal: 981ms\tremaining: 1.45s\n",
            "403:\tlearn: 0.2549652\ttotal: 983ms\tremaining: 1.45s\n",
            "404:\tlearn: 0.2545407\ttotal: 985ms\tremaining: 1.45s\n",
            "405:\tlearn: 0.2541792\ttotal: 988ms\tremaining: 1.45s\n",
            "406:\tlearn: 0.2537904\ttotal: 990ms\tremaining: 1.44s\n",
            "407:\tlearn: 0.2533854\ttotal: 992ms\tremaining: 1.44s\n",
            "408:\tlearn: 0.2530178\ttotal: 995ms\tremaining: 1.44s\n",
            "409:\tlearn: 0.2527238\ttotal: 997ms\tremaining: 1.43s\n",
            "410:\tlearn: 0.2525156\ttotal: 999ms\tremaining: 1.43s\n",
            "411:\tlearn: 0.2520868\ttotal: 1s\tremaining: 1.43s\n",
            "412:\tlearn: 0.2518121\ttotal: 1s\tremaining: 1.43s\n",
            "413:\tlearn: 0.2513567\ttotal: 1.01s\tremaining: 1.42s\n",
            "414:\tlearn: 0.2510085\ttotal: 1.01s\tremaining: 1.42s\n",
            "415:\tlearn: 0.2507767\ttotal: 1.01s\tremaining: 1.42s\n",
            "416:\tlearn: 0.2503951\ttotal: 1.01s\tremaining: 1.42s\n",
            "417:\tlearn: 0.2500292\ttotal: 1.01s\tremaining: 1.41s\n",
            "418:\tlearn: 0.2497021\ttotal: 1.02s\tremaining: 1.41s\n",
            "419:\tlearn: 0.2493563\ttotal: 1.02s\tremaining: 1.41s\n",
            "420:\tlearn: 0.2491049\ttotal: 1.02s\tremaining: 1.4s\n",
            "421:\tlearn: 0.2488247\ttotal: 1.02s\tremaining: 1.4s\n",
            "422:\tlearn: 0.2483664\ttotal: 1.02s\tremaining: 1.4s\n",
            "423:\tlearn: 0.2480994\ttotal: 1.03s\tremaining: 1.4s\n",
            "424:\tlearn: 0.2477710\ttotal: 1.03s\tremaining: 1.39s\n",
            "425:\tlearn: 0.2474546\ttotal: 1.03s\tremaining: 1.39s\n",
            "426:\tlearn: 0.2471183\ttotal: 1.03s\tremaining: 1.39s\n",
            "427:\tlearn: 0.2470024\ttotal: 1.04s\tremaining: 1.39s\n",
            "428:\tlearn: 0.2465908\ttotal: 1.04s\tremaining: 1.38s\n",
            "429:\tlearn: 0.2462166\ttotal: 1.04s\tremaining: 1.38s\n",
            "430:\tlearn: 0.2458649\ttotal: 1.04s\tremaining: 1.38s\n",
            "431:\tlearn: 0.2453140\ttotal: 1.05s\tremaining: 1.38s\n",
            "432:\tlearn: 0.2449920\ttotal: 1.05s\tremaining: 1.38s\n",
            "433:\tlearn: 0.2445938\ttotal: 1.05s\tremaining: 1.37s\n",
            "434:\tlearn: 0.2441045\ttotal: 1.05s\tremaining: 1.37s\n",
            "435:\tlearn: 0.2437906\ttotal: 1.06s\tremaining: 1.37s\n",
            "436:\tlearn: 0.2436002\ttotal: 1.06s\tremaining: 1.36s\n",
            "437:\tlearn: 0.2433478\ttotal: 1.06s\tremaining: 1.36s\n",
            "438:\tlearn: 0.2430381\ttotal: 1.06s\tremaining: 1.36s\n",
            "439:\tlearn: 0.2427866\ttotal: 1.07s\tremaining: 1.36s\n",
            "440:\tlearn: 0.2425408\ttotal: 1.07s\tremaining: 1.35s\n",
            "441:\tlearn: 0.2422380\ttotal: 1.07s\tremaining: 1.35s\n",
            "442:\tlearn: 0.2419239\ttotal: 1.07s\tremaining: 1.35s\n",
            "443:\tlearn: 0.2417723\ttotal: 1.07s\tremaining: 1.34s\n",
            "444:\tlearn: 0.2414893\ttotal: 1.08s\tremaining: 1.34s\n",
            "445:\tlearn: 0.2410814\ttotal: 1.08s\tremaining: 1.34s\n",
            "446:\tlearn: 0.2408346\ttotal: 1.08s\tremaining: 1.34s\n",
            "447:\tlearn: 0.2405830\ttotal: 1.08s\tremaining: 1.33s\n",
            "448:\tlearn: 0.2403539\ttotal: 1.09s\tremaining: 1.33s\n",
            "449:\tlearn: 0.2400782\ttotal: 1.09s\tremaining: 1.33s\n",
            "450:\tlearn: 0.2397379\ttotal: 1.09s\tremaining: 1.33s\n",
            "451:\tlearn: 0.2393156\ttotal: 1.09s\tremaining: 1.32s\n",
            "452:\tlearn: 0.2389788\ttotal: 1.1s\tremaining: 1.32s\n",
            "453:\tlearn: 0.2386220\ttotal: 1.1s\tremaining: 1.32s\n",
            "454:\tlearn: 0.2384303\ttotal: 1.1s\tremaining: 1.32s\n",
            "455:\tlearn: 0.2380665\ttotal: 1.11s\tremaining: 1.32s\n",
            "456:\tlearn: 0.2378555\ttotal: 1.11s\tremaining: 1.32s\n",
            "457:\tlearn: 0.2376885\ttotal: 1.11s\tremaining: 1.32s\n",
            "458:\tlearn: 0.2374203\ttotal: 1.12s\tremaining: 1.32s\n",
            "459:\tlearn: 0.2371325\ttotal: 1.12s\tremaining: 1.31s\n",
            "460:\tlearn: 0.2368437\ttotal: 1.12s\tremaining: 1.31s\n",
            "461:\tlearn: 0.2366690\ttotal: 1.12s\tremaining: 1.31s\n",
            "462:\tlearn: 0.2363013\ttotal: 1.13s\tremaining: 1.31s\n",
            "463:\tlearn: 0.2361287\ttotal: 1.13s\tremaining: 1.3s\n",
            "464:\tlearn: 0.2359852\ttotal: 1.13s\tremaining: 1.3s\n",
            "465:\tlearn: 0.2356565\ttotal: 1.13s\tremaining: 1.3s\n",
            "466:\tlearn: 0.2353564\ttotal: 1.14s\tremaining: 1.29s\n",
            "467:\tlearn: 0.2351849\ttotal: 1.14s\tremaining: 1.29s\n",
            "468:\tlearn: 0.2348724\ttotal: 1.14s\tremaining: 1.29s\n",
            "469:\tlearn: 0.2345487\ttotal: 1.14s\tremaining: 1.29s\n",
            "470:\tlearn: 0.2342599\ttotal: 1.14s\tremaining: 1.28s\n",
            "471:\tlearn: 0.2339114\ttotal: 1.15s\tremaining: 1.28s\n",
            "472:\tlearn: 0.2337839\ttotal: 1.15s\tremaining: 1.28s\n",
            "473:\tlearn: 0.2335517\ttotal: 1.15s\tremaining: 1.28s\n",
            "474:\tlearn: 0.2332637\ttotal: 1.15s\tremaining: 1.27s\n",
            "475:\tlearn: 0.2329730\ttotal: 1.16s\tremaining: 1.27s\n",
            "476:\tlearn: 0.2328091\ttotal: 1.16s\tremaining: 1.27s\n",
            "477:\tlearn: 0.2325255\ttotal: 1.16s\tremaining: 1.27s\n",
            "478:\tlearn: 0.2319863\ttotal: 1.16s\tremaining: 1.26s\n",
            "479:\tlearn: 0.2317083\ttotal: 1.16s\tremaining: 1.26s\n",
            "480:\tlearn: 0.2314269\ttotal: 1.17s\tremaining: 1.26s\n",
            "481:\tlearn: 0.2310049\ttotal: 1.17s\tremaining: 1.25s\n",
            "482:\tlearn: 0.2305685\ttotal: 1.17s\tremaining: 1.25s\n",
            "483:\tlearn: 0.2301701\ttotal: 1.17s\tremaining: 1.25s\n",
            "484:\tlearn: 0.2300332\ttotal: 1.18s\tremaining: 1.25s\n",
            "485:\tlearn: 0.2296962\ttotal: 1.18s\tremaining: 1.25s\n",
            "486:\tlearn: 0.2294809\ttotal: 1.18s\tremaining: 1.24s\n",
            "487:\tlearn: 0.2291374\ttotal: 1.18s\tremaining: 1.24s\n",
            "488:\tlearn: 0.2289999\ttotal: 1.18s\tremaining: 1.24s\n",
            "489:\tlearn: 0.2286084\ttotal: 1.19s\tremaining: 1.23s\n",
            "490:\tlearn: 0.2284214\ttotal: 1.19s\tremaining: 1.23s\n",
            "491:\tlearn: 0.2282037\ttotal: 1.19s\tremaining: 1.23s\n",
            "492:\tlearn: 0.2279036\ttotal: 1.19s\tremaining: 1.23s\n",
            "493:\tlearn: 0.2276067\ttotal: 1.2s\tremaining: 1.22s\n",
            "494:\tlearn: 0.2273214\ttotal: 1.2s\tremaining: 1.22s\n",
            "495:\tlearn: 0.2269319\ttotal: 1.2s\tremaining: 1.22s\n",
            "496:\tlearn: 0.2266897\ttotal: 1.2s\tremaining: 1.22s\n",
            "497:\tlearn: 0.2263845\ttotal: 1.2s\tremaining: 1.21s\n",
            "498:\tlearn: 0.2261626\ttotal: 1.21s\tremaining: 1.21s\n",
            "499:\tlearn: 0.2259465\ttotal: 1.21s\tremaining: 1.21s\n",
            "500:\tlearn: 0.2256944\ttotal: 1.21s\tremaining: 1.21s\n",
            "501:\tlearn: 0.2254335\ttotal: 1.21s\tremaining: 1.2s\n",
            "502:\tlearn: 0.2247930\ttotal: 1.21s\tremaining: 1.2s\n",
            "503:\tlearn: 0.2245363\ttotal: 1.22s\tremaining: 1.2s\n",
            "504:\tlearn: 0.2243128\ttotal: 1.22s\tremaining: 1.19s\n",
            "505:\tlearn: 0.2239946\ttotal: 1.22s\tremaining: 1.19s\n",
            "506:\tlearn: 0.2236317\ttotal: 1.22s\tremaining: 1.19s\n",
            "507:\tlearn: 0.2232307\ttotal: 1.23s\tremaining: 1.19s\n",
            "508:\tlearn: 0.2229582\ttotal: 1.23s\tremaining: 1.18s\n",
            "509:\tlearn: 0.2227517\ttotal: 1.23s\tremaining: 1.18s\n",
            "510:\tlearn: 0.2225810\ttotal: 1.23s\tremaining: 1.18s\n",
            "511:\tlearn: 0.2221472\ttotal: 1.23s\tremaining: 1.18s\n",
            "512:\tlearn: 0.2219291\ttotal: 1.24s\tremaining: 1.17s\n",
            "513:\tlearn: 0.2215940\ttotal: 1.24s\tremaining: 1.17s\n",
            "514:\tlearn: 0.2211646\ttotal: 1.24s\tremaining: 1.17s\n",
            "515:\tlearn: 0.2208995\ttotal: 1.24s\tremaining: 1.17s\n",
            "516:\tlearn: 0.2205632\ttotal: 1.25s\tremaining: 1.16s\n",
            "517:\tlearn: 0.2203073\ttotal: 1.25s\tremaining: 1.16s\n",
            "518:\tlearn: 0.2199276\ttotal: 1.25s\tremaining: 1.16s\n",
            "519:\tlearn: 0.2196949\ttotal: 1.25s\tremaining: 1.16s\n",
            "520:\tlearn: 0.2195104\ttotal: 1.25s\tremaining: 1.15s\n",
            "521:\tlearn: 0.2191027\ttotal: 1.26s\tremaining: 1.15s\n",
            "522:\tlearn: 0.2188166\ttotal: 1.26s\tremaining: 1.15s\n",
            "523:\tlearn: 0.2186039\ttotal: 1.26s\tremaining: 1.14s\n",
            "524:\tlearn: 0.2183779\ttotal: 1.26s\tremaining: 1.14s\n",
            "525:\tlearn: 0.2182026\ttotal: 1.26s\tremaining: 1.14s\n",
            "526:\tlearn: 0.2180098\ttotal: 1.27s\tremaining: 1.14s\n",
            "527:\tlearn: 0.2176316\ttotal: 1.27s\tremaining: 1.13s\n",
            "528:\tlearn: 0.2172990\ttotal: 1.27s\tremaining: 1.13s\n",
            "529:\tlearn: 0.2169387\ttotal: 1.27s\tremaining: 1.13s\n",
            "530:\tlearn: 0.2168143\ttotal: 1.27s\tremaining: 1.13s\n",
            "531:\tlearn: 0.2166331\ttotal: 1.28s\tremaining: 1.12s\n",
            "532:\tlearn: 0.2163633\ttotal: 1.28s\tremaining: 1.12s\n",
            "533:\tlearn: 0.2160689\ttotal: 1.28s\tremaining: 1.12s\n",
            "534:\tlearn: 0.2157054\ttotal: 1.29s\tremaining: 1.12s\n",
            "535:\tlearn: 0.2154712\ttotal: 1.29s\tremaining: 1.12s\n",
            "536:\tlearn: 0.2152102\ttotal: 1.29s\tremaining: 1.11s\n",
            "537:\tlearn: 0.2150770\ttotal: 1.3s\tremaining: 1.11s\n",
            "538:\tlearn: 0.2150177\ttotal: 1.3s\tremaining: 1.11s\n",
            "539:\tlearn: 0.2146018\ttotal: 1.3s\tremaining: 1.11s\n",
            "540:\tlearn: 0.2141729\ttotal: 1.3s\tremaining: 1.11s\n",
            "541:\tlearn: 0.2138164\ttotal: 1.31s\tremaining: 1.1s\n",
            "542:\tlearn: 0.2135601\ttotal: 1.31s\tremaining: 1.1s\n",
            "543:\tlearn: 0.2133225\ttotal: 1.31s\tremaining: 1.1s\n",
            "544:\tlearn: 0.2132069\ttotal: 1.31s\tremaining: 1.09s\n",
            "545:\tlearn: 0.2129875\ttotal: 1.31s\tremaining: 1.09s\n",
            "546:\tlearn: 0.2127248\ttotal: 1.32s\tremaining: 1.09s\n",
            "547:\tlearn: 0.2125938\ttotal: 1.32s\tremaining: 1.09s\n",
            "548:\tlearn: 0.2124352\ttotal: 1.32s\tremaining: 1.08s\n",
            "549:\tlearn: 0.2123278\ttotal: 1.32s\tremaining: 1.08s\n",
            "550:\tlearn: 0.2120970\ttotal: 1.32s\tremaining: 1.08s\n",
            "551:\tlearn: 0.2117186\ttotal: 1.33s\tremaining: 1.08s\n",
            "552:\tlearn: 0.2115608\ttotal: 1.33s\tremaining: 1.07s\n",
            "553:\tlearn: 0.2112774\ttotal: 1.33s\tremaining: 1.07s\n",
            "554:\tlearn: 0.2110035\ttotal: 1.33s\tremaining: 1.07s\n",
            "555:\tlearn: 0.2107878\ttotal: 1.34s\tremaining: 1.07s\n",
            "556:\tlearn: 0.2105539\ttotal: 1.34s\tremaining: 1.06s\n",
            "557:\tlearn: 0.2102488\ttotal: 1.34s\tremaining: 1.06s\n",
            "558:\tlearn: 0.2098306\ttotal: 1.34s\tremaining: 1.06s\n",
            "559:\tlearn: 0.2095112\ttotal: 1.34s\tremaining: 1.06s\n",
            "560:\tlearn: 0.2091617\ttotal: 1.35s\tremaining: 1.05s\n",
            "561:\tlearn: 0.2088665\ttotal: 1.35s\tremaining: 1.05s\n",
            "562:\tlearn: 0.2086237\ttotal: 1.35s\tremaining: 1.05s\n",
            "563:\tlearn: 0.2083139\ttotal: 1.35s\tremaining: 1.05s\n",
            "564:\tlearn: 0.2080384\ttotal: 1.35s\tremaining: 1.04s\n",
            "565:\tlearn: 0.2079239\ttotal: 1.36s\tremaining: 1.04s\n",
            "566:\tlearn: 0.2076006\ttotal: 1.36s\tremaining: 1.04s\n",
            "567:\tlearn: 0.2071912\ttotal: 1.37s\tremaining: 1.04s\n",
            "568:\tlearn: 0.2069477\ttotal: 1.37s\tremaining: 1.04s\n",
            "569:\tlearn: 0.2066299\ttotal: 1.37s\tremaining: 1.03s\n",
            "570:\tlearn: 0.2064907\ttotal: 1.38s\tremaining: 1.03s\n",
            "571:\tlearn: 0.2061944\ttotal: 1.38s\tremaining: 1.03s\n",
            "572:\tlearn: 0.2060066\ttotal: 1.38s\tremaining: 1.03s\n",
            "573:\tlearn: 0.2057812\ttotal: 1.38s\tremaining: 1.03s\n",
            "574:\tlearn: 0.2054795\ttotal: 1.39s\tremaining: 1.02s\n",
            "575:\tlearn: 0.2051910\ttotal: 1.39s\tremaining: 1.02s\n",
            "576:\tlearn: 0.2050855\ttotal: 1.39s\tremaining: 1.02s\n",
            "577:\tlearn: 0.2049047\ttotal: 1.39s\tremaining: 1.02s\n",
            "578:\tlearn: 0.2047744\ttotal: 1.4s\tremaining: 1.01s\n",
            "579:\tlearn: 0.2046154\ttotal: 1.4s\tremaining: 1.01s\n",
            "580:\tlearn: 0.2044794\ttotal: 1.4s\tremaining: 1.01s\n",
            "581:\tlearn: 0.2041464\ttotal: 1.4s\tremaining: 1.01s\n",
            "582:\tlearn: 0.2039233\ttotal: 1.4s\tremaining: 1s\n",
            "583:\tlearn: 0.2036944\ttotal: 1.41s\tremaining: 1s\n",
            "584:\tlearn: 0.2035662\ttotal: 1.41s\tremaining: 999ms\n",
            "585:\tlearn: 0.2032918\ttotal: 1.41s\tremaining: 996ms\n",
            "586:\tlearn: 0.2029347\ttotal: 1.41s\tremaining: 993ms\n",
            "587:\tlearn: 0.2027272\ttotal: 1.41s\tremaining: 991ms\n",
            "588:\tlearn: 0.2024093\ttotal: 1.42s\tremaining: 988ms\n",
            "589:\tlearn: 0.2021666\ttotal: 1.42s\tremaining: 986ms\n",
            "590:\tlearn: 0.2018203\ttotal: 1.42s\tremaining: 983ms\n",
            "591:\tlearn: 0.2015837\ttotal: 1.42s\tremaining: 981ms\n",
            "592:\tlearn: 0.2014904\ttotal: 1.43s\tremaining: 980ms\n",
            "593:\tlearn: 0.2012935\ttotal: 1.43s\tremaining: 977ms\n",
            "594:\tlearn: 0.2011870\ttotal: 1.43s\tremaining: 975ms\n",
            "595:\tlearn: 0.2008379\ttotal: 1.43s\tremaining: 972ms\n",
            "596:\tlearn: 0.2006146\ttotal: 1.44s\tremaining: 969ms\n",
            "597:\tlearn: 0.2003693\ttotal: 1.44s\tremaining: 967ms\n",
            "598:\tlearn: 0.2001248\ttotal: 1.44s\tremaining: 964ms\n",
            "599:\tlearn: 0.2000064\ttotal: 1.44s\tremaining: 962ms\n",
            "600:\tlearn: 0.1997886\ttotal: 1.45s\tremaining: 959ms\n",
            "601:\tlearn: 0.1995555\ttotal: 1.45s\tremaining: 957ms\n",
            "602:\tlearn: 0.1992336\ttotal: 1.45s\tremaining: 954ms\n",
            "603:\tlearn: 0.1989003\ttotal: 1.45s\tremaining: 952ms\n",
            "604:\tlearn: 0.1987517\ttotal: 1.45s\tremaining: 949ms\n",
            "605:\tlearn: 0.1986067\ttotal: 1.46s\tremaining: 947ms\n",
            "606:\tlearn: 0.1983347\ttotal: 1.46s\tremaining: 944ms\n",
            "607:\tlearn: 0.1980969\ttotal: 1.46s\tremaining: 941ms\n",
            "608:\tlearn: 0.1978314\ttotal: 1.46s\tremaining: 939ms\n",
            "609:\tlearn: 0.1975648\ttotal: 1.46s\tremaining: 936ms\n",
            "610:\tlearn: 0.1973549\ttotal: 1.47s\tremaining: 934ms\n",
            "611:\tlearn: 0.1970875\ttotal: 1.47s\tremaining: 931ms\n",
            "612:\tlearn: 0.1969548\ttotal: 1.47s\tremaining: 928ms\n",
            "613:\tlearn: 0.1968131\ttotal: 1.47s\tremaining: 926ms\n",
            "614:\tlearn: 0.1964760\ttotal: 1.48s\tremaining: 925ms\n",
            "615:\tlearn: 0.1961112\ttotal: 1.48s\tremaining: 923ms\n",
            "616:\tlearn: 0.1958903\ttotal: 1.48s\tremaining: 922ms\n",
            "617:\tlearn: 0.1957188\ttotal: 1.49s\tremaining: 921ms\n",
            "618:\tlearn: 0.1953063\ttotal: 1.49s\tremaining: 919ms\n",
            "619:\tlearn: 0.1949343\ttotal: 1.5s\tremaining: 916ms\n",
            "620:\tlearn: 0.1947917\ttotal: 1.5s\tremaining: 914ms\n",
            "621:\tlearn: 0.1944961\ttotal: 1.5s\tremaining: 911ms\n",
            "622:\tlearn: 0.1941593\ttotal: 1.5s\tremaining: 909ms\n",
            "623:\tlearn: 0.1940066\ttotal: 1.5s\tremaining: 906ms\n",
            "624:\tlearn: 0.1937578\ttotal: 1.5s\tremaining: 904ms\n",
            "625:\tlearn: 0.1934281\ttotal: 1.51s\tremaining: 901ms\n",
            "626:\tlearn: 0.1933050\ttotal: 1.51s\tremaining: 898ms\n",
            "627:\tlearn: 0.1931967\ttotal: 1.51s\tremaining: 896ms\n",
            "628:\tlearn: 0.1928850\ttotal: 1.51s\tremaining: 893ms\n",
            "629:\tlearn: 0.1926809\ttotal: 1.52s\tremaining: 891ms\n",
            "630:\tlearn: 0.1925021\ttotal: 1.52s\tremaining: 888ms\n",
            "631:\tlearn: 0.1923327\ttotal: 1.52s\tremaining: 886ms\n",
            "632:\tlearn: 0.1921476\ttotal: 1.52s\tremaining: 883ms\n",
            "633:\tlearn: 0.1920119\ttotal: 1.52s\tremaining: 880ms\n",
            "634:\tlearn: 0.1918528\ttotal: 1.53s\tremaining: 878ms\n",
            "635:\tlearn: 0.1916269\ttotal: 1.53s\tremaining: 875ms\n",
            "636:\tlearn: 0.1914853\ttotal: 1.53s\tremaining: 873ms\n",
            "637:\tlearn: 0.1912590\ttotal: 1.54s\tremaining: 872ms\n",
            "638:\tlearn: 0.1910517\ttotal: 1.54s\tremaining: 869ms\n",
            "639:\tlearn: 0.1908092\ttotal: 1.54s\tremaining: 866ms\n",
            "640:\tlearn: 0.1906263\ttotal: 1.54s\tremaining: 864ms\n",
            "641:\tlearn: 0.1904574\ttotal: 1.54s\tremaining: 861ms\n",
            "642:\tlearn: 0.1903702\ttotal: 1.55s\tremaining: 859ms\n",
            "643:\tlearn: 0.1901429\ttotal: 1.55s\tremaining: 856ms\n",
            "644:\tlearn: 0.1898738\ttotal: 1.55s\tremaining: 854ms\n",
            "645:\tlearn: 0.1896272\ttotal: 1.55s\tremaining: 851ms\n",
            "646:\tlearn: 0.1894013\ttotal: 1.55s\tremaining: 849ms\n",
            "647:\tlearn: 0.1891937\ttotal: 1.56s\tremaining: 846ms\n",
            "648:\tlearn: 0.1887603\ttotal: 1.56s\tremaining: 843ms\n",
            "649:\tlearn: 0.1885397\ttotal: 1.56s\tremaining: 841ms\n",
            "650:\tlearn: 0.1884177\ttotal: 1.56s\tremaining: 838ms\n",
            "651:\tlearn: 0.1881871\ttotal: 1.57s\tremaining: 836ms\n",
            "652:\tlearn: 0.1880536\ttotal: 1.57s\tremaining: 833ms\n",
            "653:\tlearn: 0.1879283\ttotal: 1.57s\tremaining: 831ms\n",
            "654:\tlearn: 0.1876711\ttotal: 1.57s\tremaining: 828ms\n",
            "655:\tlearn: 0.1874756\ttotal: 1.57s\tremaining: 826ms\n",
            "656:\tlearn: 0.1872672\ttotal: 1.58s\tremaining: 823ms\n",
            "657:\tlearn: 0.1871013\ttotal: 1.58s\tremaining: 821ms\n",
            "658:\tlearn: 0.1868677\ttotal: 1.58s\tremaining: 818ms\n",
            "659:\tlearn: 0.1867778\ttotal: 1.58s\tremaining: 816ms\n",
            "660:\tlearn: 0.1865695\ttotal: 1.58s\tremaining: 813ms\n",
            "661:\tlearn: 0.1862181\ttotal: 1.59s\tremaining: 811ms\n",
            "662:\tlearn: 0.1859696\ttotal: 1.59s\tremaining: 808ms\n",
            "663:\tlearn: 0.1857781\ttotal: 1.59s\tremaining: 806ms\n",
            "664:\tlearn: 0.1854475\ttotal: 1.59s\tremaining: 803ms\n",
            "665:\tlearn: 0.1852299\ttotal: 1.6s\tremaining: 800ms\n",
            "666:\tlearn: 0.1849558\ttotal: 1.6s\tremaining: 798ms\n",
            "667:\tlearn: 0.1846305\ttotal: 1.6s\tremaining: 795ms\n",
            "668:\tlearn: 0.1844225\ttotal: 1.6s\tremaining: 793ms\n",
            "669:\tlearn: 0.1842472\ttotal: 1.6s\tremaining: 790ms\n",
            "670:\tlearn: 0.1841653\ttotal: 1.61s\tremaining: 788ms\n",
            "671:\tlearn: 0.1839295\ttotal: 1.61s\tremaining: 786ms\n",
            "672:\tlearn: 0.1837083\ttotal: 1.61s\tremaining: 784ms\n",
            "673:\tlearn: 0.1835968\ttotal: 1.61s\tremaining: 781ms\n",
            "674:\tlearn: 0.1834280\ttotal: 1.62s\tremaining: 779ms\n",
            "675:\tlearn: 0.1832325\ttotal: 1.62s\tremaining: 776ms\n",
            "676:\tlearn: 0.1829673\ttotal: 1.62s\tremaining: 774ms\n",
            "677:\tlearn: 0.1827371\ttotal: 1.62s\tremaining: 771ms\n",
            "678:\tlearn: 0.1825574\ttotal: 1.63s\tremaining: 769ms\n",
            "679:\tlearn: 0.1823429\ttotal: 1.63s\tremaining: 766ms\n",
            "680:\tlearn: 0.1820723\ttotal: 1.63s\tremaining: 763ms\n",
            "681:\tlearn: 0.1818946\ttotal: 1.63s\tremaining: 761ms\n",
            "682:\tlearn: 0.1818024\ttotal: 1.63s\tremaining: 758ms\n",
            "683:\tlearn: 0.1816562\ttotal: 1.64s\tremaining: 756ms\n",
            "684:\tlearn: 0.1815461\ttotal: 1.64s\tremaining: 753ms\n",
            "685:\tlearn: 0.1813609\ttotal: 1.64s\tremaining: 751ms\n",
            "686:\tlearn: 0.1810272\ttotal: 1.64s\tremaining: 748ms\n",
            "687:\tlearn: 0.1807995\ttotal: 1.65s\tremaining: 746ms\n",
            "688:\tlearn: 0.1806142\ttotal: 1.65s\tremaining: 744ms\n",
            "689:\tlearn: 0.1804010\ttotal: 1.65s\tremaining: 742ms\n",
            "690:\tlearn: 0.1802209\ttotal: 1.65s\tremaining: 739ms\n",
            "691:\tlearn: 0.1799212\ttotal: 1.65s\tremaining: 737ms\n",
            "692:\tlearn: 0.1796776\ttotal: 1.66s\tremaining: 734ms\n",
            "693:\tlearn: 0.1794676\ttotal: 1.66s\tremaining: 732ms\n",
            "694:\tlearn: 0.1791859\ttotal: 1.66s\tremaining: 729ms\n",
            "695:\tlearn: 0.1790552\ttotal: 1.66s\tremaining: 727ms\n",
            "696:\tlearn: 0.1789112\ttotal: 1.67s\tremaining: 724ms\n",
            "697:\tlearn: 0.1786857\ttotal: 1.67s\tremaining: 722ms\n",
            "698:\tlearn: 0.1782726\ttotal: 1.67s\tremaining: 720ms\n",
            "699:\tlearn: 0.1781118\ttotal: 1.68s\tremaining: 719ms\n",
            "700:\tlearn: 0.1778691\ttotal: 1.68s\tremaining: 717ms\n",
            "701:\tlearn: 0.1777925\ttotal: 1.68s\tremaining: 714ms\n",
            "702:\tlearn: 0.1774660\ttotal: 1.68s\tremaining: 711ms\n",
            "703:\tlearn: 0.1773669\ttotal: 1.69s\tremaining: 709ms\n",
            "704:\tlearn: 0.1771535\ttotal: 1.69s\tremaining: 707ms\n",
            "705:\tlearn: 0.1767674\ttotal: 1.69s\tremaining: 704ms\n",
            "706:\tlearn: 0.1765068\ttotal: 1.69s\tremaining: 702ms\n",
            "707:\tlearn: 0.1763267\ttotal: 1.69s\tremaining: 699ms\n",
            "708:\tlearn: 0.1760919\ttotal: 1.7s\tremaining: 697ms\n",
            "709:\tlearn: 0.1759334\ttotal: 1.7s\tremaining: 694ms\n",
            "710:\tlearn: 0.1756194\ttotal: 1.7s\tremaining: 692ms\n",
            "711:\tlearn: 0.1752807\ttotal: 1.7s\tremaining: 689ms\n",
            "712:\tlearn: 0.1751636\ttotal: 1.71s\tremaining: 687ms\n",
            "713:\tlearn: 0.1750256\ttotal: 1.71s\tremaining: 684ms\n",
            "714:\tlearn: 0.1748206\ttotal: 1.71s\tremaining: 682ms\n",
            "715:\tlearn: 0.1745734\ttotal: 1.71s\tremaining: 679ms\n",
            "716:\tlearn: 0.1743953\ttotal: 1.71s\tremaining: 677ms\n",
            "717:\tlearn: 0.1741689\ttotal: 1.72s\tremaining: 674ms\n",
            "718:\tlearn: 0.1740213\ttotal: 1.72s\tremaining: 672ms\n",
            "719:\tlearn: 0.1737267\ttotal: 1.72s\tremaining: 669ms\n",
            "720:\tlearn: 0.1734611\ttotal: 1.72s\tremaining: 667ms\n",
            "721:\tlearn: 0.1733053\ttotal: 1.73s\tremaining: 664ms\n",
            "722:\tlearn: 0.1730676\ttotal: 1.73s\tremaining: 662ms\n",
            "723:\tlearn: 0.1728614\ttotal: 1.73s\tremaining: 660ms\n",
            "724:\tlearn: 0.1727441\ttotal: 1.73s\tremaining: 657ms\n",
            "725:\tlearn: 0.1726374\ttotal: 1.73s\tremaining: 655ms\n",
            "726:\tlearn: 0.1724977\ttotal: 1.74s\tremaining: 652ms\n",
            "727:\tlearn: 0.1723482\ttotal: 1.74s\tremaining: 650ms\n",
            "728:\tlearn: 0.1722873\ttotal: 1.74s\tremaining: 647ms\n",
            "729:\tlearn: 0.1721401\ttotal: 1.74s\tremaining: 644ms\n",
            "730:\tlearn: 0.1720362\ttotal: 1.75s\tremaining: 642ms\n",
            "731:\tlearn: 0.1718219\ttotal: 1.75s\tremaining: 640ms\n",
            "732:\tlearn: 0.1714917\ttotal: 1.75s\tremaining: 637ms\n",
            "733:\tlearn: 0.1712789\ttotal: 1.75s\tremaining: 635ms\n",
            "734:\tlearn: 0.1711033\ttotal: 1.75s\tremaining: 632ms\n",
            "735:\tlearn: 0.1708701\ttotal: 1.76s\tremaining: 630ms\n",
            "736:\tlearn: 0.1707160\ttotal: 1.76s\tremaining: 628ms\n",
            "737:\tlearn: 0.1704863\ttotal: 1.76s\tremaining: 625ms\n",
            "738:\tlearn: 0.1702609\ttotal: 1.76s\tremaining: 623ms\n",
            "739:\tlearn: 0.1700247\ttotal: 1.76s\tremaining: 620ms\n",
            "740:\tlearn: 0.1698659\ttotal: 1.77s\tremaining: 618ms\n",
            "741:\tlearn: 0.1696111\ttotal: 1.77s\tremaining: 615ms\n",
            "742:\tlearn: 0.1695043\ttotal: 1.77s\tremaining: 613ms\n",
            "743:\tlearn: 0.1693270\ttotal: 1.77s\tremaining: 611ms\n",
            "744:\tlearn: 0.1691375\ttotal: 1.78s\tremaining: 608ms\n",
            "745:\tlearn: 0.1689785\ttotal: 1.78s\tremaining: 606ms\n",
            "746:\tlearn: 0.1688354\ttotal: 1.78s\tremaining: 603ms\n",
            "747:\tlearn: 0.1687496\ttotal: 1.78s\tremaining: 601ms\n",
            "748:\tlearn: 0.1685642\ttotal: 1.78s\tremaining: 598ms\n",
            "749:\tlearn: 0.1684755\ttotal: 1.79s\tremaining: 596ms\n",
            "750:\tlearn: 0.1682493\ttotal: 1.79s\tremaining: 593ms\n",
            "751:\tlearn: 0.1681284\ttotal: 1.79s\tremaining: 591ms\n",
            "752:\tlearn: 0.1680450\ttotal: 1.79s\tremaining: 589ms\n",
            "753:\tlearn: 0.1678555\ttotal: 1.8s\tremaining: 587ms\n",
            "754:\tlearn: 0.1676191\ttotal: 1.8s\tremaining: 585ms\n",
            "755:\tlearn: 0.1671835\ttotal: 1.8s\tremaining: 582ms\n",
            "756:\tlearn: 0.1669838\ttotal: 1.8s\tremaining: 580ms\n",
            "757:\tlearn: 0.1668835\ttotal: 1.81s\tremaining: 577ms\n",
            "758:\tlearn: 0.1666691\ttotal: 1.81s\tremaining: 575ms\n",
            "759:\tlearn: 0.1664816\ttotal: 1.81s\tremaining: 572ms\n",
            "760:\tlearn: 0.1663726\ttotal: 1.81s\tremaining: 570ms\n",
            "761:\tlearn: 0.1662631\ttotal: 1.82s\tremaining: 568ms\n",
            "762:\tlearn: 0.1660587\ttotal: 1.82s\tremaining: 565ms\n",
            "763:\tlearn: 0.1659647\ttotal: 1.82s\tremaining: 563ms\n",
            "764:\tlearn: 0.1657961\ttotal: 1.82s\tremaining: 560ms\n",
            "765:\tlearn: 0.1657266\ttotal: 1.82s\tremaining: 558ms\n",
            "766:\tlearn: 0.1655274\ttotal: 1.83s\tremaining: 555ms\n",
            "767:\tlearn: 0.1653722\ttotal: 1.83s\tremaining: 553ms\n",
            "768:\tlearn: 0.1649929\ttotal: 1.83s\tremaining: 550ms\n",
            "769:\tlearn: 0.1648475\ttotal: 1.83s\tremaining: 548ms\n",
            "770:\tlearn: 0.1646468\ttotal: 1.84s\tremaining: 546ms\n",
            "771:\tlearn: 0.1644821\ttotal: 1.84s\tremaining: 543ms\n",
            "772:\tlearn: 0.1642250\ttotal: 1.84s\tremaining: 541ms\n",
            "773:\tlearn: 0.1641004\ttotal: 1.84s\tremaining: 538ms\n",
            "774:\tlearn: 0.1638359\ttotal: 1.84s\tremaining: 536ms\n",
            "775:\tlearn: 0.1635915\ttotal: 1.85s\tremaining: 533ms\n",
            "776:\tlearn: 0.1634070\ttotal: 1.85s\tremaining: 531ms\n",
            "777:\tlearn: 0.1631833\ttotal: 1.85s\tremaining: 528ms\n",
            "778:\tlearn: 0.1630153\ttotal: 1.85s\tremaining: 526ms\n",
            "779:\tlearn: 0.1627717\ttotal: 1.86s\tremaining: 524ms\n",
            "780:\tlearn: 0.1624327\ttotal: 1.86s\tremaining: 521ms\n",
            "781:\tlearn: 0.1622187\ttotal: 1.86s\tremaining: 519ms\n",
            "782:\tlearn: 0.1619888\ttotal: 1.87s\tremaining: 517ms\n",
            "783:\tlearn: 0.1617835\ttotal: 1.87s\tremaining: 516ms\n",
            "784:\tlearn: 0.1616232\ttotal: 1.87s\tremaining: 513ms\n",
            "785:\tlearn: 0.1615306\ttotal: 1.88s\tremaining: 511ms\n",
            "786:\tlearn: 0.1613864\ttotal: 1.88s\tremaining: 509ms\n",
            "787:\tlearn: 0.1611852\ttotal: 1.88s\tremaining: 507ms\n",
            "788:\tlearn: 0.1610422\ttotal: 1.89s\tremaining: 504ms\n",
            "789:\tlearn: 0.1609341\ttotal: 1.89s\tremaining: 502ms\n",
            "790:\tlearn: 0.1606768\ttotal: 1.89s\tremaining: 499ms\n",
            "791:\tlearn: 0.1605364\ttotal: 1.89s\tremaining: 497ms\n",
            "792:\tlearn: 0.1603921\ttotal: 1.89s\tremaining: 494ms\n",
            "793:\tlearn: 0.1602984\ttotal: 1.9s\tremaining: 492ms\n",
            "794:\tlearn: 0.1601827\ttotal: 1.9s\tremaining: 490ms\n",
            "795:\tlearn: 0.1601555\ttotal: 1.9s\tremaining: 487ms\n",
            "796:\tlearn: 0.1600366\ttotal: 1.9s\tremaining: 485ms\n",
            "797:\tlearn: 0.1598139\ttotal: 1.9s\tremaining: 482ms\n",
            "798:\tlearn: 0.1596200\ttotal: 1.91s\tremaining: 480ms\n",
            "799:\tlearn: 0.1594885\ttotal: 1.91s\tremaining: 477ms\n",
            "800:\tlearn: 0.1593088\ttotal: 1.91s\tremaining: 475ms\n",
            "801:\tlearn: 0.1590130\ttotal: 1.91s\tremaining: 473ms\n",
            "802:\tlearn: 0.1588832\ttotal: 1.92s\tremaining: 470ms\n",
            "803:\tlearn: 0.1587045\ttotal: 1.92s\tremaining: 468ms\n",
            "804:\tlearn: 0.1584870\ttotal: 1.92s\tremaining: 465ms\n",
            "805:\tlearn: 0.1583749\ttotal: 1.92s\tremaining: 463ms\n",
            "806:\tlearn: 0.1581713\ttotal: 1.92s\tremaining: 460ms\n",
            "807:\tlearn: 0.1579317\ttotal: 1.93s\tremaining: 458ms\n",
            "808:\tlearn: 0.1577817\ttotal: 1.93s\tremaining: 455ms\n",
            "809:\tlearn: 0.1576727\ttotal: 1.93s\tremaining: 453ms\n",
            "810:\tlearn: 0.1573508\ttotal: 1.93s\tremaining: 451ms\n",
            "811:\tlearn: 0.1571727\ttotal: 1.94s\tremaining: 448ms\n",
            "812:\tlearn: 0.1569761\ttotal: 1.94s\tremaining: 446ms\n",
            "813:\tlearn: 0.1566545\ttotal: 1.94s\tremaining: 443ms\n",
            "814:\tlearn: 0.1564506\ttotal: 1.94s\tremaining: 441ms\n",
            "815:\tlearn: 0.1562190\ttotal: 1.94s\tremaining: 438ms\n",
            "816:\tlearn: 0.1560048\ttotal: 1.95s\tremaining: 436ms\n",
            "817:\tlearn: 0.1558441\ttotal: 1.95s\tremaining: 434ms\n",
            "818:\tlearn: 0.1556468\ttotal: 1.95s\tremaining: 431ms\n",
            "819:\tlearn: 0.1554046\ttotal: 1.95s\tremaining: 429ms\n",
            "820:\tlearn: 0.1552516\ttotal: 1.96s\tremaining: 426ms\n",
            "821:\tlearn: 0.1550329\ttotal: 1.96s\tremaining: 424ms\n",
            "822:\tlearn: 0.1548909\ttotal: 1.96s\tremaining: 422ms\n",
            "823:\tlearn: 0.1547422\ttotal: 1.96s\tremaining: 419ms\n",
            "824:\tlearn: 0.1546347\ttotal: 1.96s\tremaining: 417ms\n",
            "825:\tlearn: 0.1544016\ttotal: 1.97s\tremaining: 414ms\n",
            "826:\tlearn: 0.1542708\ttotal: 1.97s\tremaining: 412ms\n",
            "827:\tlearn: 0.1540704\ttotal: 1.97s\tremaining: 409ms\n",
            "828:\tlearn: 0.1538741\ttotal: 1.97s\tremaining: 407ms\n",
            "829:\tlearn: 0.1536977\ttotal: 1.98s\tremaining: 405ms\n",
            "830:\tlearn: 0.1534410\ttotal: 1.98s\tremaining: 402ms\n",
            "831:\tlearn: 0.1532895\ttotal: 1.98s\tremaining: 400ms\n",
            "832:\tlearn: 0.1531478\ttotal: 1.98s\tremaining: 397ms\n",
            "833:\tlearn: 0.1529922\ttotal: 1.98s\tremaining: 395ms\n",
            "834:\tlearn: 0.1527669\ttotal: 1.99s\tremaining: 392ms\n",
            "835:\tlearn: 0.1525764\ttotal: 1.99s\tremaining: 390ms\n",
            "836:\tlearn: 0.1524771\ttotal: 1.99s\tremaining: 388ms\n",
            "837:\tlearn: 0.1523176\ttotal: 1.99s\tremaining: 385ms\n",
            "838:\tlearn: 0.1521903\ttotal: 2s\tremaining: 383ms\n",
            "839:\tlearn: 0.1520378\ttotal: 2s\tremaining: 380ms\n",
            "840:\tlearn: 0.1518760\ttotal: 2s\tremaining: 378ms\n",
            "841:\tlearn: 0.1515846\ttotal: 2s\tremaining: 376ms\n",
            "842:\tlearn: 0.1515330\ttotal: 2s\tremaining: 373ms\n",
            "843:\tlearn: 0.1513948\ttotal: 2.01s\tremaining: 371ms\n",
            "844:\tlearn: 0.1513363\ttotal: 2.01s\tremaining: 369ms\n",
            "845:\tlearn: 0.1512275\ttotal: 2.01s\tremaining: 366ms\n",
            "846:\tlearn: 0.1510544\ttotal: 2.01s\tremaining: 364ms\n",
            "847:\tlearn: 0.1509675\ttotal: 2.02s\tremaining: 361ms\n",
            "848:\tlearn: 0.1507536\ttotal: 2.02s\tremaining: 359ms\n",
            "849:\tlearn: 0.1505741\ttotal: 2.02s\tremaining: 356ms\n",
            "850:\tlearn: 0.1504872\ttotal: 2.02s\tremaining: 354ms\n",
            "851:\tlearn: 0.1503886\ttotal: 2.02s\tremaining: 352ms\n",
            "852:\tlearn: 0.1501734\ttotal: 2.03s\tremaining: 349ms\n",
            "853:\tlearn: 0.1499480\ttotal: 2.03s\tremaining: 347ms\n",
            "854:\tlearn: 0.1497647\ttotal: 2.03s\tremaining: 344ms\n",
            "855:\tlearn: 0.1496219\ttotal: 2.03s\tremaining: 342ms\n",
            "856:\tlearn: 0.1494004\ttotal: 2.03s\tremaining: 340ms\n",
            "857:\tlearn: 0.1492615\ttotal: 2.04s\tremaining: 337ms\n",
            "858:\tlearn: 0.1490746\ttotal: 2.04s\tremaining: 335ms\n",
            "859:\tlearn: 0.1487990\ttotal: 2.04s\tremaining: 332ms\n",
            "860:\tlearn: 0.1486923\ttotal: 2.04s\tremaining: 330ms\n",
            "861:\tlearn: 0.1484979\ttotal: 2.04s\tremaining: 327ms\n",
            "862:\tlearn: 0.1483733\ttotal: 2.05s\tremaining: 325ms\n",
            "863:\tlearn: 0.1482368\ttotal: 2.05s\tremaining: 323ms\n",
            "864:\tlearn: 0.1481920\ttotal: 2.05s\tremaining: 320ms\n",
            "865:\tlearn: 0.1479974\ttotal: 2.05s\tremaining: 318ms\n",
            "866:\tlearn: 0.1478051\ttotal: 2.06s\tremaining: 316ms\n",
            "867:\tlearn: 0.1475934\ttotal: 2.06s\tremaining: 314ms\n",
            "868:\tlearn: 0.1474840\ttotal: 2.07s\tremaining: 312ms\n",
            "869:\tlearn: 0.1473886\ttotal: 2.07s\tremaining: 309ms\n",
            "870:\tlearn: 0.1472798\ttotal: 2.08s\tremaining: 308ms\n",
            "871:\tlearn: 0.1470624\ttotal: 2.08s\tremaining: 305ms\n",
            "872:\tlearn: 0.1468616\ttotal: 2.08s\tremaining: 303ms\n",
            "873:\tlearn: 0.1466346\ttotal: 2.08s\tremaining: 301ms\n",
            "874:\tlearn: 0.1464971\ttotal: 2.09s\tremaining: 298ms\n",
            "875:\tlearn: 0.1462961\ttotal: 2.09s\tremaining: 296ms\n",
            "876:\tlearn: 0.1460737\ttotal: 2.09s\tremaining: 293ms\n",
            "877:\tlearn: 0.1459406\ttotal: 2.09s\tremaining: 291ms\n",
            "878:\tlearn: 0.1457911\ttotal: 2.1s\tremaining: 289ms\n",
            "879:\tlearn: 0.1455941\ttotal: 2.1s\tremaining: 286ms\n",
            "880:\tlearn: 0.1453837\ttotal: 2.1s\tremaining: 284ms\n",
            "881:\tlearn: 0.1451797\ttotal: 2.1s\tremaining: 281ms\n",
            "882:\tlearn: 0.1450386\ttotal: 2.1s\tremaining: 279ms\n",
            "883:\tlearn: 0.1448301\ttotal: 2.11s\tremaining: 277ms\n",
            "884:\tlearn: 0.1445766\ttotal: 2.11s\tremaining: 274ms\n",
            "885:\tlearn: 0.1444157\ttotal: 2.11s\tremaining: 272ms\n",
            "886:\tlearn: 0.1443308\ttotal: 2.11s\tremaining: 269ms\n",
            "887:\tlearn: 0.1441761\ttotal: 2.12s\tremaining: 267ms\n",
            "888:\tlearn: 0.1440152\ttotal: 2.12s\tremaining: 265ms\n",
            "889:\tlearn: 0.1439461\ttotal: 2.12s\tremaining: 262ms\n",
            "890:\tlearn: 0.1437967\ttotal: 2.12s\tremaining: 260ms\n",
            "891:\tlearn: 0.1436623\ttotal: 2.12s\tremaining: 257ms\n",
            "892:\tlearn: 0.1434524\ttotal: 2.13s\tremaining: 255ms\n",
            "893:\tlearn: 0.1432502\ttotal: 2.13s\tremaining: 253ms\n",
            "894:\tlearn: 0.1430435\ttotal: 2.13s\tremaining: 250ms\n",
            "895:\tlearn: 0.1428346\ttotal: 2.13s\tremaining: 248ms\n",
            "896:\tlearn: 0.1426978\ttotal: 2.14s\tremaining: 245ms\n",
            "897:\tlearn: 0.1425355\ttotal: 2.14s\tremaining: 243ms\n",
            "898:\tlearn: 0.1423688\ttotal: 2.14s\tremaining: 241ms\n",
            "899:\tlearn: 0.1422093\ttotal: 2.14s\tremaining: 238ms\n",
            "900:\tlearn: 0.1420125\ttotal: 2.15s\tremaining: 236ms\n",
            "901:\tlearn: 0.1418596\ttotal: 2.15s\tremaining: 233ms\n",
            "902:\tlearn: 0.1416877\ttotal: 2.15s\tremaining: 231ms\n",
            "903:\tlearn: 0.1415633\ttotal: 2.15s\tremaining: 229ms\n",
            "904:\tlearn: 0.1414640\ttotal: 2.15s\tremaining: 226ms\n",
            "905:\tlearn: 0.1413338\ttotal: 2.16s\tremaining: 224ms\n",
            "906:\tlearn: 0.1412343\ttotal: 2.16s\tremaining: 222ms\n",
            "907:\tlearn: 0.1410927\ttotal: 2.16s\tremaining: 219ms\n",
            "908:\tlearn: 0.1409147\ttotal: 2.17s\tremaining: 217ms\n",
            "909:\tlearn: 0.1407889\ttotal: 2.17s\tremaining: 214ms\n",
            "910:\tlearn: 0.1407034\ttotal: 2.17s\tremaining: 212ms\n",
            "911:\tlearn: 0.1404541\ttotal: 2.17s\tremaining: 210ms\n",
            "912:\tlearn: 0.1402233\ttotal: 2.17s\tremaining: 207ms\n",
            "913:\tlearn: 0.1400942\ttotal: 2.18s\tremaining: 205ms\n",
            "914:\tlearn: 0.1399908\ttotal: 2.18s\tremaining: 203ms\n",
            "915:\tlearn: 0.1397809\ttotal: 2.18s\tremaining: 200ms\n",
            "916:\tlearn: 0.1395992\ttotal: 2.19s\tremaining: 198ms\n",
            "917:\tlearn: 0.1395005\ttotal: 2.19s\tremaining: 195ms\n",
            "918:\tlearn: 0.1393610\ttotal: 2.19s\tremaining: 193ms\n",
            "919:\tlearn: 0.1393145\ttotal: 2.19s\tremaining: 191ms\n",
            "920:\tlearn: 0.1391760\ttotal: 2.19s\tremaining: 188ms\n",
            "921:\tlearn: 0.1390386\ttotal: 2.2s\tremaining: 186ms\n",
            "922:\tlearn: 0.1389039\ttotal: 2.2s\tremaining: 184ms\n",
            "923:\tlearn: 0.1387196\ttotal: 2.2s\tremaining: 181ms\n",
            "924:\tlearn: 0.1385161\ttotal: 2.2s\tremaining: 179ms\n",
            "925:\tlearn: 0.1383707\ttotal: 2.21s\tremaining: 176ms\n",
            "926:\tlearn: 0.1382359\ttotal: 2.21s\tremaining: 174ms\n",
            "927:\tlearn: 0.1381902\ttotal: 2.21s\tremaining: 172ms\n",
            "928:\tlearn: 0.1380234\ttotal: 2.21s\tremaining: 169ms\n",
            "929:\tlearn: 0.1378790\ttotal: 2.21s\tremaining: 167ms\n",
            "930:\tlearn: 0.1377844\ttotal: 2.22s\tremaining: 164ms\n",
            "931:\tlearn: 0.1375939\ttotal: 2.22s\tremaining: 162ms\n",
            "932:\tlearn: 0.1374693\ttotal: 2.22s\tremaining: 160ms\n",
            "933:\tlearn: 0.1373321\ttotal: 2.22s\tremaining: 157ms\n",
            "934:\tlearn: 0.1371908\ttotal: 2.23s\tremaining: 155ms\n",
            "935:\tlearn: 0.1369571\ttotal: 2.23s\tremaining: 152ms\n",
            "936:\tlearn: 0.1368283\ttotal: 2.23s\tremaining: 150ms\n",
            "937:\tlearn: 0.1367391\ttotal: 2.23s\tremaining: 148ms\n",
            "938:\tlearn: 0.1365324\ttotal: 2.23s\tremaining: 145ms\n",
            "939:\tlearn: 0.1364790\ttotal: 2.24s\tremaining: 143ms\n",
            "940:\tlearn: 0.1362971\ttotal: 2.24s\tremaining: 140ms\n",
            "941:\tlearn: 0.1360633\ttotal: 2.24s\tremaining: 138ms\n",
            "942:\tlearn: 0.1359710\ttotal: 2.24s\tremaining: 136ms\n",
            "943:\tlearn: 0.1358185\ttotal: 2.25s\tremaining: 133ms\n",
            "944:\tlearn: 0.1356288\ttotal: 2.25s\tremaining: 131ms\n",
            "945:\tlearn: 0.1355273\ttotal: 2.25s\tremaining: 128ms\n",
            "946:\tlearn: 0.1352915\ttotal: 2.25s\tremaining: 126ms\n",
            "947:\tlearn: 0.1352206\ttotal: 2.26s\tremaining: 124ms\n",
            "948:\tlearn: 0.1350700\ttotal: 2.26s\tremaining: 122ms\n",
            "949:\tlearn: 0.1348979\ttotal: 2.27s\tremaining: 119ms\n",
            "950:\tlearn: 0.1346758\ttotal: 2.27s\tremaining: 117ms\n",
            "951:\tlearn: 0.1345499\ttotal: 2.27s\tremaining: 115ms\n",
            "952:\tlearn: 0.1342920\ttotal: 2.27s\tremaining: 112ms\n",
            "953:\tlearn: 0.1342495\ttotal: 2.28s\tremaining: 110ms\n",
            "954:\tlearn: 0.1340655\ttotal: 2.28s\tremaining: 107ms\n",
            "955:\tlearn: 0.1339476\ttotal: 2.28s\tremaining: 105ms\n",
            "956:\tlearn: 0.1338135\ttotal: 2.28s\tremaining: 103ms\n",
            "957:\tlearn: 0.1336467\ttotal: 2.29s\tremaining: 100ms\n",
            "958:\tlearn: 0.1335400\ttotal: 2.29s\tremaining: 97.8ms\n",
            "959:\tlearn: 0.1333875\ttotal: 2.29s\tremaining: 95.4ms\n",
            "960:\tlearn: 0.1332169\ttotal: 2.29s\tremaining: 93ms\n",
            "961:\tlearn: 0.1331153\ttotal: 2.29s\tremaining: 90.6ms\n",
            "962:\tlearn: 0.1330070\ttotal: 2.3s\tremaining: 88.2ms\n",
            "963:\tlearn: 0.1328071\ttotal: 2.3s\tremaining: 85.8ms\n",
            "964:\tlearn: 0.1326856\ttotal: 2.3s\tremaining: 83.5ms\n",
            "965:\tlearn: 0.1325175\ttotal: 2.3s\tremaining: 81.1ms\n",
            "966:\tlearn: 0.1324020\ttotal: 2.31s\tremaining: 78.7ms\n",
            "967:\tlearn: 0.1322290\ttotal: 2.31s\tremaining: 76.3ms\n",
            "968:\tlearn: 0.1319305\ttotal: 2.31s\tremaining: 73.9ms\n",
            "969:\tlearn: 0.1318350\ttotal: 2.31s\tremaining: 71.5ms\n",
            "970:\tlearn: 0.1316921\ttotal: 2.31s\tremaining: 69.1ms\n",
            "971:\tlearn: 0.1315456\ttotal: 2.32s\tremaining: 66.8ms\n",
            "972:\tlearn: 0.1313987\ttotal: 2.32s\tremaining: 64.5ms\n",
            "973:\tlearn: 0.1312928\ttotal: 2.33s\tremaining: 62.1ms\n",
            "974:\tlearn: 0.1311069\ttotal: 2.33s\tremaining: 59.7ms\n",
            "975:\tlearn: 0.1309905\ttotal: 2.33s\tremaining: 57.4ms\n",
            "976:\tlearn: 0.1308150\ttotal: 2.33s\tremaining: 55ms\n",
            "977:\tlearn: 0.1306758\ttotal: 2.34s\tremaining: 52.6ms\n",
            "978:\tlearn: 0.1305489\ttotal: 2.34s\tremaining: 50.2ms\n",
            "979:\tlearn: 0.1304696\ttotal: 2.34s\tremaining: 47.8ms\n",
            "980:\tlearn: 0.1303660\ttotal: 2.35s\tremaining: 45.4ms\n",
            "981:\tlearn: 0.1302438\ttotal: 2.35s\tremaining: 43ms\n",
            "982:\tlearn: 0.1301329\ttotal: 2.35s\tremaining: 40.6ms\n",
            "983:\tlearn: 0.1299688\ttotal: 2.35s\tremaining: 38.2ms\n",
            "984:\tlearn: 0.1298440\ttotal: 2.35s\tremaining: 35.8ms\n",
            "985:\tlearn: 0.1296673\ttotal: 2.35s\tremaining: 33.5ms\n",
            "986:\tlearn: 0.1295266\ttotal: 2.36s\tremaining: 31.1ms\n",
            "987:\tlearn: 0.1294414\ttotal: 2.36s\tremaining: 28.7ms\n",
            "988:\tlearn: 0.1293172\ttotal: 2.36s\tremaining: 26.3ms\n",
            "989:\tlearn: 0.1291924\ttotal: 2.37s\tremaining: 23.9ms\n",
            "990:\tlearn: 0.1291376\ttotal: 2.37s\tremaining: 21.5ms\n",
            "991:\tlearn: 0.1290221\ttotal: 2.37s\tremaining: 19.1ms\n",
            "992:\tlearn: 0.1289210\ttotal: 2.37s\tremaining: 16.7ms\n",
            "993:\tlearn: 0.1287998\ttotal: 2.37s\tremaining: 14.3ms\n",
            "994:\tlearn: 0.1286159\ttotal: 2.38s\tremaining: 11.9ms\n",
            "995:\tlearn: 0.1284100\ttotal: 2.38s\tremaining: 9.55ms\n",
            "996:\tlearn: 0.1283159\ttotal: 2.38s\tremaining: 7.17ms\n",
            "997:\tlearn: 0.1281151\ttotal: 2.38s\tremaining: 4.78ms\n",
            "998:\tlearn: 0.1280211\ttotal: 2.39s\tremaining: 2.39ms\n",
            "999:\tlearn: 0.1278848\ttotal: 2.39s\tremaining: 0us\n",
            "[CV] END ...........................depth=7, iterations=1000; total time=   2.6s\n",
            "Learning rate set to 0.006846\n",
            "0:\tlearn: 0.6887499\ttotal: 2.15ms\tremaining: 2.15s\n",
            "1:\tlearn: 0.6850721\ttotal: 4.42ms\tremaining: 2.21s\n",
            "2:\tlearn: 0.6810854\ttotal: 6.7ms\tremaining: 2.23s\n",
            "3:\tlearn: 0.6776168\ttotal: 8.89ms\tremaining: 2.21s\n",
            "4:\tlearn: 0.6730390\ttotal: 11.3ms\tremaining: 2.25s\n",
            "5:\tlearn: 0.6691316\ttotal: 14.9ms\tremaining: 2.47s\n",
            "6:\tlearn: 0.6652541\ttotal: 19.9ms\tremaining: 2.82s\n",
            "7:\tlearn: 0.6620315\ttotal: 22.8ms\tremaining: 2.83s\n",
            "8:\tlearn: 0.6584742\ttotal: 28.4ms\tremaining: 3.12s\n",
            "9:\tlearn: 0.6547962\ttotal: 30.7ms\tremaining: 3.04s\n",
            "10:\tlearn: 0.6519998\ttotal: 32.9ms\tremaining: 2.96s\n",
            "11:\tlearn: 0.6486296\ttotal: 35.2ms\tremaining: 2.89s\n",
            "12:\tlearn: 0.6455712\ttotal: 37.3ms\tremaining: 2.83s\n",
            "13:\tlearn: 0.6417143\ttotal: 39.5ms\tremaining: 2.78s\n",
            "14:\tlearn: 0.6381675\ttotal: 41.5ms\tremaining: 2.73s\n",
            "15:\tlearn: 0.6350784\ttotal: 43.9ms\tremaining: 2.7s\n",
            "16:\tlearn: 0.6312526\ttotal: 48.6ms\tremaining: 2.81s\n",
            "17:\tlearn: 0.6277575\ttotal: 50.8ms\tremaining: 2.77s\n",
            "18:\tlearn: 0.6242478\ttotal: 53ms\tremaining: 2.74s\n",
            "19:\tlearn: 0.6211677\ttotal: 55.1ms\tremaining: 2.7s\n",
            "20:\tlearn: 0.6179130\ttotal: 58.7ms\tremaining: 2.74s\n",
            "21:\tlearn: 0.6146812\ttotal: 62.8ms\tremaining: 2.79s\n",
            "22:\tlearn: 0.6120625\ttotal: 70.9ms\tremaining: 3.01s\n",
            "23:\tlearn: 0.6096170\ttotal: 74.3ms\tremaining: 3.02s\n",
            "24:\tlearn: 0.6068366\ttotal: 80.4ms\tremaining: 3.13s\n",
            "25:\tlearn: 0.6038310\ttotal: 82.9ms\tremaining: 3.1s\n",
            "26:\tlearn: 0.6005297\ttotal: 85.1ms\tremaining: 3.06s\n",
            "27:\tlearn: 0.5974855\ttotal: 87.3ms\tremaining: 3.03s\n",
            "28:\tlearn: 0.5939580\ttotal: 90.1ms\tremaining: 3.02s\n",
            "29:\tlearn: 0.5912175\ttotal: 92.2ms\tremaining: 2.98s\n",
            "30:\tlearn: 0.5880894\ttotal: 94.4ms\tremaining: 2.95s\n",
            "31:\tlearn: 0.5855854\ttotal: 96.5ms\tremaining: 2.92s\n",
            "32:\tlearn: 0.5825361\ttotal: 98.7ms\tremaining: 2.89s\n",
            "33:\tlearn: 0.5797600\ttotal: 101ms\tremaining: 2.87s\n",
            "34:\tlearn: 0.5767059\ttotal: 103ms\tremaining: 2.84s\n",
            "35:\tlearn: 0.5736047\ttotal: 105ms\tremaining: 2.81s\n",
            "36:\tlearn: 0.5710119\ttotal: 107ms\tremaining: 2.79s\n",
            "37:\tlearn: 0.5687573\ttotal: 110ms\tremaining: 2.78s\n",
            "38:\tlearn: 0.5659675\ttotal: 112ms\tremaining: 2.77s\n",
            "39:\tlearn: 0.5634505\ttotal: 114ms\tremaining: 2.75s\n",
            "40:\tlearn: 0.5613006\ttotal: 117ms\tremaining: 2.73s\n",
            "41:\tlearn: 0.5583755\ttotal: 119ms\tremaining: 2.71s\n",
            "42:\tlearn: 0.5563530\ttotal: 121ms\tremaining: 2.69s\n",
            "43:\tlearn: 0.5546462\ttotal: 123ms\tremaining: 2.68s\n",
            "44:\tlearn: 0.5525581\ttotal: 126ms\tremaining: 2.67s\n",
            "45:\tlearn: 0.5505498\ttotal: 128ms\tremaining: 2.65s\n",
            "46:\tlearn: 0.5488216\ttotal: 130ms\tremaining: 2.63s\n",
            "47:\tlearn: 0.5459480\ttotal: 132ms\tremaining: 2.62s\n",
            "48:\tlearn: 0.5439860\ttotal: 134ms\tremaining: 2.6s\n",
            "49:\tlearn: 0.5414597\ttotal: 136ms\tremaining: 2.59s\n",
            "50:\tlearn: 0.5393973\ttotal: 139ms\tremaining: 2.58s\n",
            "51:\tlearn: 0.5373271\ttotal: 141ms\tremaining: 2.56s\n",
            "52:\tlearn: 0.5348072\ttotal: 143ms\tremaining: 2.55s\n",
            "53:\tlearn: 0.5327383\ttotal: 145ms\tremaining: 2.54s\n",
            "54:\tlearn: 0.5305467\ttotal: 147ms\tremaining: 2.53s\n",
            "55:\tlearn: 0.5283969\ttotal: 149ms\tremaining: 2.51s\n",
            "56:\tlearn: 0.5263804\ttotal: 151ms\tremaining: 2.5s\n",
            "57:\tlearn: 0.5250373\ttotal: 154ms\tremaining: 2.5s\n",
            "58:\tlearn: 0.5225559\ttotal: 156ms\tremaining: 2.48s\n",
            "59:\tlearn: 0.5206482\ttotal: 158ms\tremaining: 2.47s\n",
            "60:\tlearn: 0.5190361\ttotal: 160ms\tremaining: 2.47s\n",
            "61:\tlearn: 0.5170517\ttotal: 163ms\tremaining: 2.46s\n",
            "62:\tlearn: 0.5144037\ttotal: 165ms\tremaining: 2.45s\n",
            "63:\tlearn: 0.5127280\ttotal: 167ms\tremaining: 2.44s\n",
            "64:\tlearn: 0.5108341\ttotal: 169ms\tremaining: 2.43s\n",
            "65:\tlearn: 0.5093357\ttotal: 171ms\tremaining: 2.42s\n",
            "66:\tlearn: 0.5073144\ttotal: 173ms\tremaining: 2.41s\n",
            "67:\tlearn: 0.5057107\ttotal: 175ms\tremaining: 2.4s\n",
            "68:\tlearn: 0.5042696\ttotal: 178ms\tremaining: 2.4s\n",
            "69:\tlearn: 0.5022318\ttotal: 180ms\tremaining: 2.39s\n",
            "70:\tlearn: 0.5008806\ttotal: 182ms\tremaining: 2.38s\n",
            "71:\tlearn: 0.4993434\ttotal: 184ms\tremaining: 2.37s\n",
            "72:\tlearn: 0.4974077\ttotal: 187ms\tremaining: 2.37s\n",
            "73:\tlearn: 0.4958416\ttotal: 189ms\tremaining: 2.36s\n",
            "74:\tlearn: 0.4941807\ttotal: 191ms\tremaining: 2.35s\n",
            "75:\tlearn: 0.4928276\ttotal: 193ms\tremaining: 2.35s\n",
            "76:\tlearn: 0.4905530\ttotal: 195ms\tremaining: 2.34s\n",
            "77:\tlearn: 0.4887533\ttotal: 197ms\tremaining: 2.33s\n",
            "78:\tlearn: 0.4872091\ttotal: 199ms\tremaining: 2.32s\n",
            "79:\tlearn: 0.4849162\ttotal: 202ms\tremaining: 2.32s\n",
            "80:\tlearn: 0.4824131\ttotal: 205ms\tremaining: 2.33s\n",
            "81:\tlearn: 0.4810456\ttotal: 209ms\tremaining: 2.34s\n",
            "82:\tlearn: 0.4796454\ttotal: 212ms\tremaining: 2.34s\n",
            "83:\tlearn: 0.4780512\ttotal: 215ms\tremaining: 2.34s\n",
            "84:\tlearn: 0.4766568\ttotal: 217ms\tremaining: 2.33s\n",
            "85:\tlearn: 0.4752124\ttotal: 220ms\tremaining: 2.33s\n",
            "86:\tlearn: 0.4734875\ttotal: 222ms\tremaining: 2.33s\n",
            "87:\tlearn: 0.4720196\ttotal: 224ms\tremaining: 2.32s\n",
            "88:\tlearn: 0.4708031\ttotal: 226ms\tremaining: 2.32s\n",
            "89:\tlearn: 0.4687423\ttotal: 229ms\tremaining: 2.31s\n",
            "90:\tlearn: 0.4674036\ttotal: 231ms\tremaining: 2.31s\n",
            "91:\tlearn: 0.4659799\ttotal: 233ms\tremaining: 2.3s\n",
            "92:\tlearn: 0.4645576\ttotal: 235ms\tremaining: 2.29s\n",
            "93:\tlearn: 0.4635209\ttotal: 237ms\tremaining: 2.29s\n",
            "94:\tlearn: 0.4622087\ttotal: 239ms\tremaining: 2.28s\n",
            "95:\tlearn: 0.4604626\ttotal: 242ms\tremaining: 2.27s\n",
            "96:\tlearn: 0.4592001\ttotal: 244ms\tremaining: 2.27s\n",
            "97:\tlearn: 0.4579667\ttotal: 246ms\tremaining: 2.27s\n",
            "98:\tlearn: 0.4568793\ttotal: 248ms\tremaining: 2.26s\n",
            "99:\tlearn: 0.4552582\ttotal: 251ms\tremaining: 2.26s\n",
            "100:\tlearn: 0.4540870\ttotal: 254ms\tremaining: 2.26s\n",
            "101:\tlearn: 0.4527574\ttotal: 256ms\tremaining: 2.25s\n",
            "102:\tlearn: 0.4513755\ttotal: 258ms\tremaining: 2.25s\n",
            "103:\tlearn: 0.4501288\ttotal: 260ms\tremaining: 2.24s\n",
            "104:\tlearn: 0.4488744\ttotal: 263ms\tremaining: 2.24s\n",
            "105:\tlearn: 0.4472388\ttotal: 265ms\tremaining: 2.23s\n",
            "106:\tlearn: 0.4459707\ttotal: 267ms\tremaining: 2.23s\n",
            "107:\tlearn: 0.4449730\ttotal: 269ms\tremaining: 2.22s\n",
            "108:\tlearn: 0.4437393\ttotal: 271ms\tremaining: 2.22s\n",
            "109:\tlearn: 0.4421949\ttotal: 273ms\tremaining: 2.21s\n",
            "110:\tlearn: 0.4417843\ttotal: 274ms\tremaining: 2.2s\n",
            "111:\tlearn: 0.4406624\ttotal: 277ms\tremaining: 2.19s\n",
            "112:\tlearn: 0.4396119\ttotal: 279ms\tremaining: 2.19s\n",
            "113:\tlearn: 0.4385129\ttotal: 281ms\tremaining: 2.18s\n",
            "114:\tlearn: 0.4378714\ttotal: 282ms\tremaining: 2.17s\n",
            "115:\tlearn: 0.4366146\ttotal: 284ms\tremaining: 2.17s\n",
            "116:\tlearn: 0.4355696\ttotal: 287ms\tremaining: 2.16s\n",
            "117:\tlearn: 0.4347804\ttotal: 289ms\tremaining: 2.16s\n",
            "118:\tlearn: 0.4336313\ttotal: 291ms\tremaining: 2.15s\n",
            "119:\tlearn: 0.4324478\ttotal: 294ms\tremaining: 2.15s\n",
            "120:\tlearn: 0.4311265\ttotal: 296ms\tremaining: 2.15s\n",
            "121:\tlearn: 0.4299128\ttotal: 299ms\tremaining: 2.15s\n",
            "122:\tlearn: 0.4287822\ttotal: 301ms\tremaining: 2.15s\n",
            "123:\tlearn: 0.4277922\ttotal: 303ms\tremaining: 2.14s\n",
            "124:\tlearn: 0.4264583\ttotal: 306ms\tremaining: 2.14s\n",
            "125:\tlearn: 0.4256236\ttotal: 308ms\tremaining: 2.14s\n",
            "126:\tlearn: 0.4244685\ttotal: 310ms\tremaining: 2.13s\n",
            "127:\tlearn: 0.4232490\ttotal: 313ms\tremaining: 2.13s\n",
            "128:\tlearn: 0.4224818\ttotal: 315ms\tremaining: 2.13s\n",
            "129:\tlearn: 0.4215838\ttotal: 317ms\tremaining: 2.12s\n",
            "130:\tlearn: 0.4207644\ttotal: 319ms\tremaining: 2.12s\n",
            "131:\tlearn: 0.4195380\ttotal: 321ms\tremaining: 2.11s\n",
            "132:\tlearn: 0.4184327\ttotal: 324ms\tremaining: 2.11s\n",
            "133:\tlearn: 0.4175862\ttotal: 326ms\tremaining: 2.1s\n",
            "134:\tlearn: 0.4163127\ttotal: 328ms\tremaining: 2.1s\n",
            "135:\tlearn: 0.4154899\ttotal: 331ms\tremaining: 2.1s\n",
            "136:\tlearn: 0.4146392\ttotal: 333ms\tremaining: 2.1s\n",
            "137:\tlearn: 0.4138529\ttotal: 335ms\tremaining: 2.1s\n",
            "138:\tlearn: 0.4129115\ttotal: 338ms\tremaining: 2.09s\n",
            "139:\tlearn: 0.4118191\ttotal: 341ms\tremaining: 2.1s\n",
            "140:\tlearn: 0.4107392\ttotal: 344ms\tremaining: 2.1s\n",
            "141:\tlearn: 0.4095879\ttotal: 347ms\tremaining: 2.1s\n",
            "142:\tlearn: 0.4087897\ttotal: 349ms\tremaining: 2.09s\n",
            "143:\tlearn: 0.4079365\ttotal: 352ms\tremaining: 2.09s\n",
            "144:\tlearn: 0.4069343\ttotal: 355ms\tremaining: 2.09s\n",
            "145:\tlearn: 0.4063221\ttotal: 357ms\tremaining: 2.09s\n",
            "146:\tlearn: 0.4055836\ttotal: 360ms\tremaining: 2.09s\n",
            "147:\tlearn: 0.4047252\ttotal: 362ms\tremaining: 2.08s\n",
            "148:\tlearn: 0.4035318\ttotal: 364ms\tremaining: 2.08s\n",
            "149:\tlearn: 0.4028245\ttotal: 366ms\tremaining: 2.07s\n",
            "150:\tlearn: 0.4019825\ttotal: 368ms\tremaining: 2.07s\n",
            "151:\tlearn: 0.4010920\ttotal: 371ms\tremaining: 2.07s\n",
            "152:\tlearn: 0.4003138\ttotal: 373ms\tremaining: 2.06s\n",
            "153:\tlearn: 0.3995415\ttotal: 375ms\tremaining: 2.06s\n",
            "154:\tlearn: 0.3984080\ttotal: 378ms\tremaining: 2.06s\n",
            "155:\tlearn: 0.3973838\ttotal: 380ms\tremaining: 2.05s\n",
            "156:\tlearn: 0.3963693\ttotal: 382ms\tremaining: 2.05s\n",
            "157:\tlearn: 0.3951494\ttotal: 384ms\tremaining: 2.05s\n",
            "158:\tlearn: 0.3943288\ttotal: 387ms\tremaining: 2.04s\n",
            "159:\tlearn: 0.3932964\ttotal: 391ms\tremaining: 2.05s\n",
            "160:\tlearn: 0.3925996\ttotal: 395ms\tremaining: 2.06s\n",
            "161:\tlearn: 0.3915649\ttotal: 400ms\tremaining: 2.07s\n",
            "162:\tlearn: 0.3906674\ttotal: 404ms\tremaining: 2.08s\n",
            "163:\tlearn: 0.3898563\ttotal: 409ms\tremaining: 2.08s\n",
            "164:\tlearn: 0.3889405\ttotal: 412ms\tremaining: 2.08s\n",
            "165:\tlearn: 0.3880791\ttotal: 414ms\tremaining: 2.08s\n",
            "166:\tlearn: 0.3870829\ttotal: 416ms\tremaining: 2.08s\n",
            "167:\tlearn: 0.3862951\ttotal: 419ms\tremaining: 2.07s\n",
            "168:\tlearn: 0.3852756\ttotal: 421ms\tremaining: 2.07s\n",
            "169:\tlearn: 0.3843291\ttotal: 423ms\tremaining: 2.06s\n",
            "170:\tlearn: 0.3835773\ttotal: 425ms\tremaining: 2.06s\n",
            "171:\tlearn: 0.3828013\ttotal: 427ms\tremaining: 2.06s\n",
            "172:\tlearn: 0.3823872\ttotal: 429ms\tremaining: 2.05s\n",
            "173:\tlearn: 0.3817072\ttotal: 431ms\tremaining: 2.05s\n",
            "174:\tlearn: 0.3810001\ttotal: 434ms\tremaining: 2.04s\n",
            "175:\tlearn: 0.3801607\ttotal: 436ms\tremaining: 2.04s\n",
            "176:\tlearn: 0.3794083\ttotal: 438ms\tremaining: 2.04s\n",
            "177:\tlearn: 0.3787480\ttotal: 440ms\tremaining: 2.03s\n",
            "178:\tlearn: 0.3779571\ttotal: 442ms\tremaining: 2.03s\n",
            "179:\tlearn: 0.3771504\ttotal: 444ms\tremaining: 2.02s\n",
            "180:\tlearn: 0.3760593\ttotal: 447ms\tremaining: 2.02s\n",
            "181:\tlearn: 0.3752709\ttotal: 449ms\tremaining: 2.02s\n",
            "182:\tlearn: 0.3745919\ttotal: 451ms\tremaining: 2.01s\n",
            "183:\tlearn: 0.3740098\ttotal: 453ms\tremaining: 2.01s\n",
            "184:\tlearn: 0.3732903\ttotal: 455ms\tremaining: 2s\n",
            "185:\tlearn: 0.3725919\ttotal: 457ms\tremaining: 2s\n",
            "186:\tlearn: 0.3716322\ttotal: 459ms\tremaining: 2s\n",
            "187:\tlearn: 0.3705061\ttotal: 462ms\tremaining: 1.99s\n",
            "188:\tlearn: 0.3697707\ttotal: 464ms\tremaining: 1.99s\n",
            "189:\tlearn: 0.3687553\ttotal: 466ms\tremaining: 1.99s\n",
            "190:\tlearn: 0.3680936\ttotal: 468ms\tremaining: 1.98s\n",
            "191:\tlearn: 0.3674297\ttotal: 470ms\tremaining: 1.98s\n",
            "192:\tlearn: 0.3667786\ttotal: 472ms\tremaining: 1.98s\n",
            "193:\tlearn: 0.3662146\ttotal: 474ms\tremaining: 1.97s\n",
            "194:\tlearn: 0.3654715\ttotal: 478ms\tremaining: 1.97s\n",
            "195:\tlearn: 0.3648752\ttotal: 482ms\tremaining: 1.98s\n",
            "196:\tlearn: 0.3641910\ttotal: 486ms\tremaining: 1.98s\n",
            "197:\tlearn: 0.3633809\ttotal: 489ms\tremaining: 1.98s\n",
            "198:\tlearn: 0.3628162\ttotal: 492ms\tremaining: 1.98s\n",
            "199:\tlearn: 0.3621199\ttotal: 494ms\tremaining: 1.97s\n",
            "200:\tlearn: 0.3616362\ttotal: 496ms\tremaining: 1.97s\n",
            "201:\tlearn: 0.3611546\ttotal: 498ms\tremaining: 1.97s\n",
            "202:\tlearn: 0.3605493\ttotal: 501ms\tremaining: 1.97s\n",
            "203:\tlearn: 0.3596057\ttotal: 503ms\tremaining: 1.96s\n",
            "204:\tlearn: 0.3588871\ttotal: 505ms\tremaining: 1.96s\n",
            "205:\tlearn: 0.3578571\ttotal: 507ms\tremaining: 1.95s\n",
            "206:\tlearn: 0.3572783\ttotal: 509ms\tremaining: 1.95s\n",
            "207:\tlearn: 0.3569340\ttotal: 512ms\tremaining: 1.95s\n",
            "208:\tlearn: 0.3559953\ttotal: 514ms\tremaining: 1.94s\n",
            "209:\tlearn: 0.3550216\ttotal: 516ms\tremaining: 1.94s\n",
            "210:\tlearn: 0.3542705\ttotal: 518ms\tremaining: 1.94s\n",
            "211:\tlearn: 0.3534063\ttotal: 520ms\tremaining: 1.93s\n",
            "212:\tlearn: 0.3527257\ttotal: 522ms\tremaining: 1.93s\n",
            "213:\tlearn: 0.3520931\ttotal: 525ms\tremaining: 1.93s\n",
            "214:\tlearn: 0.3512965\ttotal: 527ms\tremaining: 1.92s\n",
            "215:\tlearn: 0.3507286\ttotal: 529ms\tremaining: 1.92s\n",
            "216:\tlearn: 0.3501372\ttotal: 532ms\tremaining: 1.92s\n",
            "217:\tlearn: 0.3493029\ttotal: 534ms\tremaining: 1.91s\n",
            "218:\tlearn: 0.3487127\ttotal: 536ms\tremaining: 1.91s\n",
            "219:\tlearn: 0.3479982\ttotal: 538ms\tremaining: 1.91s\n",
            "220:\tlearn: 0.3473543\ttotal: 540ms\tremaining: 1.9s\n",
            "221:\tlearn: 0.3467061\ttotal: 542ms\tremaining: 1.9s\n",
            "222:\tlearn: 0.3461172\ttotal: 545ms\tremaining: 1.9s\n",
            "223:\tlearn: 0.3454775\ttotal: 547ms\tremaining: 1.89s\n",
            "224:\tlearn: 0.3447842\ttotal: 549ms\tremaining: 1.89s\n",
            "225:\tlearn: 0.3439911\ttotal: 551ms\tremaining: 1.89s\n",
            "226:\tlearn: 0.3434002\ttotal: 553ms\tremaining: 1.88s\n",
            "227:\tlearn: 0.3428967\ttotal: 555ms\tremaining: 1.88s\n",
            "228:\tlearn: 0.3423192\ttotal: 557ms\tremaining: 1.88s\n",
            "229:\tlearn: 0.3418367\ttotal: 560ms\tremaining: 1.87s\n",
            "230:\tlearn: 0.3410453\ttotal: 562ms\tremaining: 1.87s\n",
            "231:\tlearn: 0.3403419\ttotal: 564ms\tremaining: 1.87s\n",
            "232:\tlearn: 0.3398717\ttotal: 566ms\tremaining: 1.86s\n",
            "233:\tlearn: 0.3391782\ttotal: 568ms\tremaining: 1.86s\n",
            "234:\tlearn: 0.3383700\ttotal: 570ms\tremaining: 1.85s\n",
            "235:\tlearn: 0.3378390\ttotal: 572ms\tremaining: 1.85s\n",
            "236:\tlearn: 0.3372518\ttotal: 575ms\tremaining: 1.85s\n",
            "237:\tlearn: 0.3368070\ttotal: 577ms\tremaining: 1.85s\n",
            "238:\tlearn: 0.3361783\ttotal: 579ms\tremaining: 1.84s\n",
            "239:\tlearn: 0.3357662\ttotal: 581ms\tremaining: 1.84s\n",
            "240:\tlearn: 0.3348811\ttotal: 583ms\tremaining: 1.84s\n",
            "241:\tlearn: 0.3345225\ttotal: 587ms\tremaining: 1.84s\n",
            "242:\tlearn: 0.3339474\ttotal: 590ms\tremaining: 1.84s\n",
            "243:\tlearn: 0.3333711\ttotal: 595ms\tremaining: 1.84s\n",
            "244:\tlearn: 0.3328050\ttotal: 598ms\tremaining: 1.84s\n",
            "245:\tlearn: 0.3324597\ttotal: 600ms\tremaining: 1.84s\n",
            "246:\tlearn: 0.3317880\ttotal: 602ms\tremaining: 1.84s\n",
            "247:\tlearn: 0.3310730\ttotal: 605ms\tremaining: 1.83s\n",
            "248:\tlearn: 0.3306677\ttotal: 607ms\tremaining: 1.83s\n",
            "249:\tlearn: 0.3299770\ttotal: 609ms\tremaining: 1.83s\n",
            "250:\tlearn: 0.3294873\ttotal: 612ms\tremaining: 1.82s\n",
            "251:\tlearn: 0.3290950\ttotal: 614ms\tremaining: 1.82s\n",
            "252:\tlearn: 0.3284520\ttotal: 616ms\tremaining: 1.82s\n",
            "253:\tlearn: 0.3279018\ttotal: 619ms\tremaining: 1.82s\n",
            "254:\tlearn: 0.3273825\ttotal: 621ms\tremaining: 1.81s\n",
            "255:\tlearn: 0.3266860\ttotal: 623ms\tremaining: 1.81s\n",
            "256:\tlearn: 0.3262979\ttotal: 625ms\tremaining: 1.81s\n",
            "257:\tlearn: 0.3257593\ttotal: 628ms\tremaining: 1.8s\n",
            "258:\tlearn: 0.3252634\ttotal: 630ms\tremaining: 1.8s\n",
            "259:\tlearn: 0.3248198\ttotal: 632ms\tremaining: 1.8s\n",
            "260:\tlearn: 0.3244803\ttotal: 635ms\tremaining: 1.8s\n",
            "261:\tlearn: 0.3239613\ttotal: 637ms\tremaining: 1.79s\n",
            "262:\tlearn: 0.3234391\ttotal: 639ms\tremaining: 1.79s\n",
            "263:\tlearn: 0.3228099\ttotal: 641ms\tremaining: 1.79s\n",
            "264:\tlearn: 0.3223824\ttotal: 643ms\tremaining: 1.78s\n",
            "265:\tlearn: 0.3218727\ttotal: 646ms\tremaining: 1.78s\n",
            "266:\tlearn: 0.3215271\ttotal: 648ms\tremaining: 1.78s\n",
            "267:\tlearn: 0.3210830\ttotal: 650ms\tremaining: 1.78s\n",
            "268:\tlearn: 0.3203480\ttotal: 653ms\tremaining: 1.77s\n",
            "269:\tlearn: 0.3198354\ttotal: 655ms\tremaining: 1.77s\n",
            "270:\tlearn: 0.3195192\ttotal: 657ms\tremaining: 1.77s\n",
            "271:\tlearn: 0.3192870\ttotal: 660ms\tremaining: 1.77s\n",
            "272:\tlearn: 0.3188844\ttotal: 662ms\tremaining: 1.76s\n",
            "273:\tlearn: 0.3185409\ttotal: 665ms\tremaining: 1.76s\n",
            "274:\tlearn: 0.3181529\ttotal: 667ms\tremaining: 1.76s\n",
            "275:\tlearn: 0.3177729\ttotal: 669ms\tremaining: 1.75s\n",
            "276:\tlearn: 0.3173609\ttotal: 671ms\tremaining: 1.75s\n",
            "277:\tlearn: 0.3166516\ttotal: 673ms\tremaining: 1.75s\n",
            "278:\tlearn: 0.3159017\ttotal: 676ms\tremaining: 1.75s\n",
            "279:\tlearn: 0.3153918\ttotal: 678ms\tremaining: 1.74s\n",
            "280:\tlearn: 0.3148330\ttotal: 680ms\tremaining: 1.74s\n",
            "281:\tlearn: 0.3143354\ttotal: 682ms\tremaining: 1.74s\n",
            "282:\tlearn: 0.3138233\ttotal: 684ms\tremaining: 1.73s\n",
            "283:\tlearn: 0.3132910\ttotal: 687ms\tremaining: 1.73s\n",
            "284:\tlearn: 0.3128156\ttotal: 689ms\tremaining: 1.73s\n",
            "285:\tlearn: 0.3123559\ttotal: 691ms\tremaining: 1.72s\n",
            "286:\tlearn: 0.3120420\ttotal: 693ms\tremaining: 1.72s\n",
            "287:\tlearn: 0.3115393\ttotal: 695ms\tremaining: 1.72s\n",
            "288:\tlearn: 0.3109252\ttotal: 697ms\tremaining: 1.72s\n",
            "289:\tlearn: 0.3106360\ttotal: 700ms\tremaining: 1.71s\n",
            "290:\tlearn: 0.3103054\ttotal: 702ms\tremaining: 1.71s\n",
            "291:\tlearn: 0.3096928\ttotal: 704ms\tremaining: 1.71s\n",
            "292:\tlearn: 0.3090972\ttotal: 706ms\tremaining: 1.7s\n",
            "293:\tlearn: 0.3087696\ttotal: 708ms\tremaining: 1.7s\n",
            "294:\tlearn: 0.3084988\ttotal: 710ms\tremaining: 1.7s\n",
            "295:\tlearn: 0.3080055\ttotal: 713ms\tremaining: 1.7s\n",
            "296:\tlearn: 0.3077160\ttotal: 715ms\tremaining: 1.69s\n",
            "297:\tlearn: 0.3071166\ttotal: 718ms\tremaining: 1.69s\n",
            "298:\tlearn: 0.3069589\ttotal: 719ms\tremaining: 1.68s\n",
            "299:\tlearn: 0.3066275\ttotal: 721ms\tremaining: 1.68s\n",
            "300:\tlearn: 0.3060091\ttotal: 724ms\tremaining: 1.68s\n",
            "301:\tlearn: 0.3054215\ttotal: 726ms\tremaining: 1.68s\n",
            "302:\tlearn: 0.3051092\ttotal: 729ms\tremaining: 1.68s\n",
            "303:\tlearn: 0.3046934\ttotal: 731ms\tremaining: 1.67s\n",
            "304:\tlearn: 0.3042008\ttotal: 733ms\tremaining: 1.67s\n",
            "305:\tlearn: 0.3038104\ttotal: 735ms\tremaining: 1.67s\n",
            "306:\tlearn: 0.3031523\ttotal: 740ms\tremaining: 1.67s\n",
            "307:\tlearn: 0.3028313\ttotal: 742ms\tremaining: 1.67s\n",
            "308:\tlearn: 0.3025019\ttotal: 745ms\tremaining: 1.67s\n",
            "309:\tlearn: 0.3020859\ttotal: 747ms\tremaining: 1.66s\n",
            "310:\tlearn: 0.3016522\ttotal: 750ms\tremaining: 1.66s\n",
            "311:\tlearn: 0.3013514\ttotal: 753ms\tremaining: 1.66s\n",
            "312:\tlearn: 0.3011185\ttotal: 755ms\tremaining: 1.66s\n",
            "313:\tlearn: 0.3004786\ttotal: 757ms\tremaining: 1.65s\n",
            "314:\tlearn: 0.3000166\ttotal: 759ms\tremaining: 1.65s\n",
            "315:\tlearn: 0.2995879\ttotal: 762ms\tremaining: 1.65s\n",
            "316:\tlearn: 0.2989674\ttotal: 764ms\tremaining: 1.65s\n",
            "317:\tlearn: 0.2984491\ttotal: 766ms\tremaining: 1.64s\n",
            "318:\tlearn: 0.2979250\ttotal: 768ms\tremaining: 1.64s\n",
            "319:\tlearn: 0.2977072\ttotal: 771ms\tremaining: 1.64s\n",
            "320:\tlearn: 0.2973636\ttotal: 773ms\tremaining: 1.64s\n",
            "321:\tlearn: 0.2969610\ttotal: 777ms\tremaining: 1.64s\n",
            "322:\tlearn: 0.2961682\ttotal: 783ms\tremaining: 1.64s\n",
            "323:\tlearn: 0.2957552\ttotal: 787ms\tremaining: 1.64s\n",
            "324:\tlearn: 0.2954280\ttotal: 792ms\tremaining: 1.64s\n",
            "325:\tlearn: 0.2948479\ttotal: 794ms\tremaining: 1.64s\n",
            "326:\tlearn: 0.2946212\ttotal: 797ms\tremaining: 1.64s\n",
            "327:\tlearn: 0.2942153\ttotal: 799ms\tremaining: 1.64s\n",
            "328:\tlearn: 0.2938779\ttotal: 801ms\tremaining: 1.63s\n",
            "329:\tlearn: 0.2934880\ttotal: 803ms\tremaining: 1.63s\n",
            "330:\tlearn: 0.2930630\ttotal: 805ms\tremaining: 1.63s\n",
            "331:\tlearn: 0.2925322\ttotal: 808ms\tremaining: 1.62s\n",
            "332:\tlearn: 0.2920646\ttotal: 810ms\tremaining: 1.62s\n",
            "333:\tlearn: 0.2912716\ttotal: 812ms\tremaining: 1.62s\n",
            "334:\tlearn: 0.2909365\ttotal: 814ms\tremaining: 1.62s\n",
            "335:\tlearn: 0.2906022\ttotal: 816ms\tremaining: 1.61s\n",
            "336:\tlearn: 0.2902534\ttotal: 818ms\tremaining: 1.61s\n",
            "337:\tlearn: 0.2899187\ttotal: 820ms\tremaining: 1.61s\n",
            "338:\tlearn: 0.2895150\ttotal: 823ms\tremaining: 1.6s\n",
            "339:\tlearn: 0.2890697\ttotal: 825ms\tremaining: 1.6s\n",
            "340:\tlearn: 0.2884672\ttotal: 827ms\tremaining: 1.6s\n",
            "341:\tlearn: 0.2880145\ttotal: 829ms\tremaining: 1.59s\n",
            "342:\tlearn: 0.2875682\ttotal: 831ms\tremaining: 1.59s\n",
            "343:\tlearn: 0.2872003\ttotal: 833ms\tremaining: 1.59s\n",
            "344:\tlearn: 0.2867099\ttotal: 836ms\tremaining: 1.59s\n",
            "345:\tlearn: 0.2864371\ttotal: 838ms\tremaining: 1.58s\n",
            "346:\tlearn: 0.2861050\ttotal: 840ms\tremaining: 1.58s\n",
            "347:\tlearn: 0.2857141\ttotal: 842ms\tremaining: 1.58s\n",
            "348:\tlearn: 0.2852900\ttotal: 844ms\tremaining: 1.57s\n",
            "349:\tlearn: 0.2848650\ttotal: 846ms\tremaining: 1.57s\n",
            "350:\tlearn: 0.2844564\ttotal: 848ms\tremaining: 1.57s\n",
            "351:\tlearn: 0.2841123\ttotal: 854ms\tremaining: 1.57s\n",
            "352:\tlearn: 0.2838495\ttotal: 857ms\tremaining: 1.57s\n",
            "353:\tlearn: 0.2836331\ttotal: 861ms\tremaining: 1.57s\n",
            "354:\tlearn: 0.2833961\ttotal: 864ms\tremaining: 1.57s\n",
            "355:\tlearn: 0.2829759\ttotal: 867ms\tremaining: 1.57s\n",
            "356:\tlearn: 0.2822311\ttotal: 873ms\tremaining: 1.57s\n",
            "357:\tlearn: 0.2819409\ttotal: 876ms\tremaining: 1.57s\n",
            "358:\tlearn: 0.2815946\ttotal: 878ms\tremaining: 1.57s\n",
            "359:\tlearn: 0.2811558\ttotal: 880ms\tremaining: 1.56s\n",
            "360:\tlearn: 0.2806939\ttotal: 885ms\tremaining: 1.56s\n",
            "361:\tlearn: 0.2803363\ttotal: 887ms\tremaining: 1.56s\n",
            "362:\tlearn: 0.2798813\ttotal: 889ms\tremaining: 1.56s\n",
            "363:\tlearn: 0.2794025\ttotal: 891ms\tremaining: 1.56s\n",
            "364:\tlearn: 0.2788709\ttotal: 893ms\tremaining: 1.55s\n",
            "365:\tlearn: 0.2784340\ttotal: 896ms\tremaining: 1.55s\n",
            "366:\tlearn: 0.2780242\ttotal: 898ms\tremaining: 1.55s\n",
            "367:\tlearn: 0.2776728\ttotal: 900ms\tremaining: 1.54s\n",
            "368:\tlearn: 0.2774339\ttotal: 902ms\tremaining: 1.54s\n",
            "369:\tlearn: 0.2770269\ttotal: 904ms\tremaining: 1.54s\n",
            "370:\tlearn: 0.2766611\ttotal: 907ms\tremaining: 1.54s\n",
            "371:\tlearn: 0.2764197\ttotal: 908ms\tremaining: 1.53s\n",
            "372:\tlearn: 0.2762128\ttotal: 911ms\tremaining: 1.53s\n",
            "373:\tlearn: 0.2759322\ttotal: 914ms\tremaining: 1.53s\n",
            "374:\tlearn: 0.2756196\ttotal: 916ms\tremaining: 1.53s\n",
            "375:\tlearn: 0.2751279\ttotal: 918ms\tremaining: 1.52s\n",
            "376:\tlearn: 0.2747289\ttotal: 920ms\tremaining: 1.52s\n",
            "377:\tlearn: 0.2743063\ttotal: 923ms\tremaining: 1.52s\n",
            "378:\tlearn: 0.2739215\ttotal: 925ms\tremaining: 1.51s\n",
            "379:\tlearn: 0.2737384\ttotal: 927ms\tremaining: 1.51s\n",
            "380:\tlearn: 0.2733991\ttotal: 929ms\tremaining: 1.51s\n",
            "381:\tlearn: 0.2729827\ttotal: 931ms\tremaining: 1.51s\n",
            "382:\tlearn: 0.2728464\ttotal: 933ms\tremaining: 1.5s\n",
            "383:\tlearn: 0.2723896\ttotal: 935ms\tremaining: 1.5s\n",
            "384:\tlearn: 0.2717250\ttotal: 938ms\tremaining: 1.5s\n",
            "385:\tlearn: 0.2714640\ttotal: 940ms\tremaining: 1.5s\n",
            "386:\tlearn: 0.2711923\ttotal: 942ms\tremaining: 1.49s\n",
            "387:\tlearn: 0.2707245\ttotal: 944ms\tremaining: 1.49s\n",
            "388:\tlearn: 0.2703792\ttotal: 946ms\tremaining: 1.49s\n",
            "389:\tlearn: 0.2699661\ttotal: 949ms\tremaining: 1.48s\n",
            "390:\tlearn: 0.2697153\ttotal: 951ms\tremaining: 1.48s\n",
            "391:\tlearn: 0.2691833\ttotal: 953ms\tremaining: 1.48s\n",
            "392:\tlearn: 0.2688537\ttotal: 955ms\tremaining: 1.48s\n",
            "393:\tlearn: 0.2685664\ttotal: 957ms\tremaining: 1.47s\n",
            "394:\tlearn: 0.2683642\ttotal: 960ms\tremaining: 1.47s\n",
            "395:\tlearn: 0.2678718\ttotal: 962ms\tremaining: 1.47s\n",
            "396:\tlearn: 0.2675313\ttotal: 964ms\tremaining: 1.46s\n",
            "397:\tlearn: 0.2670619\ttotal: 966ms\tremaining: 1.46s\n",
            "398:\tlearn: 0.2668425\ttotal: 968ms\tremaining: 1.46s\n",
            "399:\tlearn: 0.2661021\ttotal: 971ms\tremaining: 1.46s\n",
            "400:\tlearn: 0.2656976\ttotal: 974ms\tremaining: 1.46s\n",
            "401:\tlearn: 0.2655610\ttotal: 977ms\tremaining: 1.45s\n",
            "402:\tlearn: 0.2653408\ttotal: 982ms\tremaining: 1.45s\n",
            "403:\tlearn: 0.2650831\ttotal: 986ms\tremaining: 1.45s\n",
            "404:\tlearn: 0.2647882\ttotal: 992ms\tremaining: 1.46s\n",
            "405:\tlearn: 0.2645297\ttotal: 996ms\tremaining: 1.46s\n",
            "406:\tlearn: 0.2641002\ttotal: 999ms\tremaining: 1.46s\n",
            "407:\tlearn: 0.2637726\ttotal: 1s\tremaining: 1.45s\n",
            "408:\tlearn: 0.2634520\ttotal: 1s\tremaining: 1.45s\n",
            "409:\tlearn: 0.2630544\ttotal: 1.01s\tremaining: 1.45s\n",
            "410:\tlearn: 0.2626234\ttotal: 1.01s\tremaining: 1.45s\n",
            "411:\tlearn: 0.2623501\ttotal: 1.01s\tremaining: 1.44s\n",
            "412:\tlearn: 0.2620814\ttotal: 1.01s\tremaining: 1.44s\n",
            "413:\tlearn: 0.2618914\ttotal: 1.01s\tremaining: 1.44s\n",
            "414:\tlearn: 0.2617058\ttotal: 1.02s\tremaining: 1.43s\n",
            "415:\tlearn: 0.2615313\ttotal: 1.02s\tremaining: 1.43s\n",
            "416:\tlearn: 0.2612231\ttotal: 1.02s\tremaining: 1.43s\n",
            "417:\tlearn: 0.2609310\ttotal: 1.02s\tremaining: 1.43s\n",
            "418:\tlearn: 0.2605735\ttotal: 1.03s\tremaining: 1.42s\n",
            "419:\tlearn: 0.2603057\ttotal: 1.03s\tremaining: 1.42s\n",
            "420:\tlearn: 0.2599930\ttotal: 1.03s\tremaining: 1.42s\n",
            "421:\tlearn: 0.2596246\ttotal: 1.03s\tremaining: 1.42s\n",
            "422:\tlearn: 0.2594135\ttotal: 1.04s\tremaining: 1.42s\n",
            "423:\tlearn: 0.2589777\ttotal: 1.04s\tremaining: 1.41s\n",
            "424:\tlearn: 0.2585662\ttotal: 1.04s\tremaining: 1.41s\n",
            "425:\tlearn: 0.2580770\ttotal: 1.04s\tremaining: 1.41s\n",
            "426:\tlearn: 0.2577861\ttotal: 1.05s\tremaining: 1.41s\n",
            "427:\tlearn: 0.2574712\ttotal: 1.05s\tremaining: 1.4s\n",
            "428:\tlearn: 0.2572888\ttotal: 1.05s\tremaining: 1.4s\n",
            "429:\tlearn: 0.2569003\ttotal: 1.05s\tremaining: 1.4s\n",
            "430:\tlearn: 0.2565658\ttotal: 1.06s\tremaining: 1.4s\n",
            "431:\tlearn: 0.2563779\ttotal: 1.06s\tremaining: 1.39s\n",
            "432:\tlearn: 0.2560733\ttotal: 1.06s\tremaining: 1.39s\n",
            "433:\tlearn: 0.2558208\ttotal: 1.06s\tremaining: 1.39s\n",
            "434:\tlearn: 0.2555089\ttotal: 1.06s\tremaining: 1.38s\n",
            "435:\tlearn: 0.2551430\ttotal: 1.07s\tremaining: 1.38s\n",
            "436:\tlearn: 0.2548943\ttotal: 1.07s\tremaining: 1.38s\n",
            "437:\tlearn: 0.2546656\ttotal: 1.07s\tremaining: 1.38s\n",
            "438:\tlearn: 0.2543883\ttotal: 1.07s\tremaining: 1.37s\n",
            "439:\tlearn: 0.2540599\ttotal: 1.08s\tremaining: 1.37s\n",
            "440:\tlearn: 0.2536700\ttotal: 1.08s\tremaining: 1.37s\n",
            "441:\tlearn: 0.2532556\ttotal: 1.08s\tremaining: 1.36s\n",
            "442:\tlearn: 0.2529627\ttotal: 1.08s\tremaining: 1.36s\n",
            "443:\tlearn: 0.2526384\ttotal: 1.09s\tremaining: 1.36s\n",
            "444:\tlearn: 0.2522003\ttotal: 1.09s\tremaining: 1.36s\n",
            "445:\tlearn: 0.2518131\ttotal: 1.09s\tremaining: 1.35s\n",
            "446:\tlearn: 0.2515398\ttotal: 1.09s\tremaining: 1.35s\n",
            "447:\tlearn: 0.2512039\ttotal: 1.09s\tremaining: 1.35s\n",
            "448:\tlearn: 0.2509267\ttotal: 1.1s\tremaining: 1.35s\n",
            "449:\tlearn: 0.2507278\ttotal: 1.1s\tremaining: 1.34s\n",
            "450:\tlearn: 0.2504172\ttotal: 1.1s\tremaining: 1.34s\n",
            "451:\tlearn: 0.2500273\ttotal: 1.1s\tremaining: 1.34s\n",
            "452:\tlearn: 0.2498543\ttotal: 1.11s\tremaining: 1.34s\n",
            "453:\tlearn: 0.2495917\ttotal: 1.11s\tremaining: 1.33s\n",
            "454:\tlearn: 0.2493050\ttotal: 1.11s\tremaining: 1.33s\n",
            "455:\tlearn: 0.2490349\ttotal: 1.11s\tremaining: 1.33s\n",
            "456:\tlearn: 0.2486385\ttotal: 1.11s\tremaining: 1.32s\n",
            "457:\tlearn: 0.2483979\ttotal: 1.12s\tremaining: 1.32s\n",
            "458:\tlearn: 0.2481957\ttotal: 1.12s\tremaining: 1.32s\n",
            "459:\tlearn: 0.2476491\ttotal: 1.12s\tremaining: 1.32s\n",
            "460:\tlearn: 0.2474135\ttotal: 1.12s\tremaining: 1.31s\n",
            "461:\tlearn: 0.2468494\ttotal: 1.13s\tremaining: 1.31s\n",
            "462:\tlearn: 0.2466933\ttotal: 1.13s\tremaining: 1.31s\n",
            "463:\tlearn: 0.2461597\ttotal: 1.13s\tremaining: 1.3s\n",
            "464:\tlearn: 0.2459253\ttotal: 1.13s\tremaining: 1.3s\n",
            "465:\tlearn: 0.2456289\ttotal: 1.14s\tremaining: 1.3s\n",
            "466:\tlearn: 0.2454556\ttotal: 1.14s\tremaining: 1.3s\n",
            "467:\tlearn: 0.2450698\ttotal: 1.14s\tremaining: 1.29s\n",
            "468:\tlearn: 0.2448902\ttotal: 1.14s\tremaining: 1.29s\n",
            "469:\tlearn: 0.2444809\ttotal: 1.14s\tremaining: 1.29s\n",
            "470:\tlearn: 0.2441993\ttotal: 1.15s\tremaining: 1.29s\n",
            "471:\tlearn: 0.2441014\ttotal: 1.15s\tremaining: 1.28s\n",
            "472:\tlearn: 0.2437130\ttotal: 1.15s\tremaining: 1.28s\n",
            "473:\tlearn: 0.2434399\ttotal: 1.15s\tremaining: 1.28s\n",
            "474:\tlearn: 0.2432781\ttotal: 1.16s\tremaining: 1.28s\n",
            "475:\tlearn: 0.2429682\ttotal: 1.16s\tremaining: 1.27s\n",
            "476:\tlearn: 0.2425961\ttotal: 1.16s\tremaining: 1.27s\n",
            "477:\tlearn: 0.2423123\ttotal: 1.16s\tremaining: 1.27s\n",
            "478:\tlearn: 0.2419526\ttotal: 1.16s\tremaining: 1.27s\n",
            "479:\tlearn: 0.2417496\ttotal: 1.17s\tremaining: 1.26s\n",
            "480:\tlearn: 0.2414168\ttotal: 1.17s\tremaining: 1.26s\n",
            "481:\tlearn: 0.2408511\ttotal: 1.18s\tremaining: 1.26s\n",
            "482:\tlearn: 0.2403719\ttotal: 1.18s\tremaining: 1.26s\n",
            "483:\tlearn: 0.2400437\ttotal: 1.18s\tremaining: 1.26s\n",
            "484:\tlearn: 0.2396448\ttotal: 1.19s\tremaining: 1.26s\n",
            "485:\tlearn: 0.2395636\ttotal: 1.19s\tremaining: 1.26s\n",
            "486:\tlearn: 0.2393162\ttotal: 1.19s\tremaining: 1.25s\n",
            "487:\tlearn: 0.2390125\ttotal: 1.19s\tremaining: 1.25s\n",
            "488:\tlearn: 0.2388049\ttotal: 1.19s\tremaining: 1.25s\n",
            "489:\tlearn: 0.2387174\ttotal: 1.2s\tremaining: 1.25s\n",
            "490:\tlearn: 0.2384010\ttotal: 1.2s\tremaining: 1.24s\n",
            "491:\tlearn: 0.2380610\ttotal: 1.2s\tremaining: 1.24s\n",
            "492:\tlearn: 0.2379345\ttotal: 1.2s\tremaining: 1.24s\n",
            "493:\tlearn: 0.2376233\ttotal: 1.21s\tremaining: 1.23s\n",
            "494:\tlearn: 0.2374194\ttotal: 1.21s\tremaining: 1.23s\n",
            "495:\tlearn: 0.2371232\ttotal: 1.21s\tremaining: 1.23s\n",
            "496:\tlearn: 0.2368376\ttotal: 1.21s\tremaining: 1.23s\n",
            "497:\tlearn: 0.2366413\ttotal: 1.21s\tremaining: 1.22s\n",
            "498:\tlearn: 0.2365744\ttotal: 1.22s\tremaining: 1.22s\n",
            "499:\tlearn: 0.2363022\ttotal: 1.22s\tremaining: 1.22s\n",
            "500:\tlearn: 0.2359735\ttotal: 1.22s\tremaining: 1.22s\n",
            "501:\tlearn: 0.2356030\ttotal: 1.22s\tremaining: 1.21s\n",
            "502:\tlearn: 0.2353224\ttotal: 1.23s\tremaining: 1.21s\n",
            "503:\tlearn: 0.2348749\ttotal: 1.23s\tremaining: 1.21s\n",
            "504:\tlearn: 0.2346598\ttotal: 1.23s\tremaining: 1.21s\n",
            "505:\tlearn: 0.2343959\ttotal: 1.23s\tremaining: 1.2s\n",
            "506:\tlearn: 0.2341230\ttotal: 1.24s\tremaining: 1.2s\n",
            "507:\tlearn: 0.2339287\ttotal: 1.24s\tremaining: 1.2s\n",
            "508:\tlearn: 0.2334839\ttotal: 1.24s\tremaining: 1.2s\n",
            "509:\tlearn: 0.2332923\ttotal: 1.25s\tremaining: 1.2s\n",
            "510:\tlearn: 0.2330056\ttotal: 1.25s\tremaining: 1.19s\n",
            "511:\tlearn: 0.2326052\ttotal: 1.25s\tremaining: 1.19s\n",
            "512:\tlearn: 0.2323178\ttotal: 1.25s\tremaining: 1.19s\n",
            "513:\tlearn: 0.2319000\ttotal: 1.25s\tremaining: 1.19s\n",
            "514:\tlearn: 0.2315972\ttotal: 1.26s\tremaining: 1.18s\n",
            "515:\tlearn: 0.2311936\ttotal: 1.26s\tremaining: 1.18s\n",
            "516:\tlearn: 0.2310261\ttotal: 1.26s\tremaining: 1.18s\n",
            "517:\tlearn: 0.2309540\ttotal: 1.26s\tremaining: 1.18s\n",
            "518:\tlearn: 0.2307583\ttotal: 1.26s\tremaining: 1.17s\n",
            "519:\tlearn: 0.2304453\ttotal: 1.27s\tremaining: 1.17s\n",
            "520:\tlearn: 0.2299803\ttotal: 1.27s\tremaining: 1.17s\n",
            "521:\tlearn: 0.2296458\ttotal: 1.27s\tremaining: 1.17s\n",
            "522:\tlearn: 0.2294174\ttotal: 1.27s\tremaining: 1.16s\n",
            "523:\tlearn: 0.2292759\ttotal: 1.28s\tremaining: 1.16s\n",
            "524:\tlearn: 0.2290679\ttotal: 1.28s\tremaining: 1.16s\n",
            "525:\tlearn: 0.2287105\ttotal: 1.28s\tremaining: 1.15s\n",
            "526:\tlearn: 0.2282913\ttotal: 1.28s\tremaining: 1.15s\n",
            "527:\tlearn: 0.2280505\ttotal: 1.29s\tremaining: 1.15s\n",
            "528:\tlearn: 0.2279440\ttotal: 1.29s\tremaining: 1.15s\n",
            "529:\tlearn: 0.2276655\ttotal: 1.29s\tremaining: 1.14s\n",
            "530:\tlearn: 0.2273309\ttotal: 1.29s\tremaining: 1.14s\n",
            "531:\tlearn: 0.2273118\ttotal: 1.29s\tremaining: 1.14s\n",
            "532:\tlearn: 0.2270632\ttotal: 1.3s\tremaining: 1.14s\n",
            "533:\tlearn: 0.2266003\ttotal: 1.3s\tremaining: 1.13s\n",
            "534:\tlearn: 0.2263668\ttotal: 1.3s\tremaining: 1.13s\n",
            "535:\tlearn: 0.2260051\ttotal: 1.3s\tremaining: 1.13s\n",
            "536:\tlearn: 0.2258121\ttotal: 1.3s\tremaining: 1.13s\n",
            "537:\tlearn: 0.2256121\ttotal: 1.31s\tremaining: 1.12s\n",
            "538:\tlearn: 0.2251834\ttotal: 1.31s\tremaining: 1.12s\n",
            "539:\tlearn: 0.2248813\ttotal: 1.31s\tremaining: 1.12s\n",
            "540:\tlearn: 0.2246218\ttotal: 1.31s\tremaining: 1.11s\n",
            "541:\tlearn: 0.2241850\ttotal: 1.32s\tremaining: 1.11s\n",
            "542:\tlearn: 0.2239031\ttotal: 1.32s\tremaining: 1.11s\n",
            "543:\tlearn: 0.2236513\ttotal: 1.32s\tremaining: 1.11s\n",
            "544:\tlearn: 0.2235116\ttotal: 1.32s\tremaining: 1.1s\n",
            "545:\tlearn: 0.2231167\ttotal: 1.32s\tremaining: 1.1s\n",
            "546:\tlearn: 0.2229103\ttotal: 1.33s\tremaining: 1.1s\n",
            "547:\tlearn: 0.2228571\ttotal: 1.33s\tremaining: 1.1s\n",
            "548:\tlearn: 0.2226984\ttotal: 1.33s\tremaining: 1.09s\n",
            "549:\tlearn: 0.2225810\ttotal: 1.33s\tremaining: 1.09s\n",
            "550:\tlearn: 0.2221920\ttotal: 1.34s\tremaining: 1.09s\n",
            "551:\tlearn: 0.2219959\ttotal: 1.34s\tremaining: 1.09s\n",
            "552:\tlearn: 0.2215455\ttotal: 1.34s\tremaining: 1.09s\n",
            "553:\tlearn: 0.2212850\ttotal: 1.35s\tremaining: 1.08s\n",
            "554:\tlearn: 0.2211571\ttotal: 1.35s\tremaining: 1.08s\n",
            "555:\tlearn: 0.2209975\ttotal: 1.35s\tremaining: 1.08s\n",
            "556:\tlearn: 0.2207540\ttotal: 1.35s\tremaining: 1.08s\n",
            "557:\tlearn: 0.2205553\ttotal: 1.35s\tremaining: 1.07s\n",
            "558:\tlearn: 0.2203276\ttotal: 1.36s\tremaining: 1.07s\n",
            "559:\tlearn: 0.2201096\ttotal: 1.36s\tremaining: 1.07s\n",
            "560:\tlearn: 0.2197032\ttotal: 1.37s\tremaining: 1.07s\n",
            "561:\tlearn: 0.2195499\ttotal: 1.37s\tremaining: 1.07s\n",
            "562:\tlearn: 0.2194392\ttotal: 1.37s\tremaining: 1.06s\n",
            "563:\tlearn: 0.2192544\ttotal: 1.38s\tremaining: 1.06s\n",
            "564:\tlearn: 0.2189318\ttotal: 1.38s\tremaining: 1.06s\n",
            "565:\tlearn: 0.2185628\ttotal: 1.38s\tremaining: 1.06s\n",
            "566:\tlearn: 0.2181341\ttotal: 1.38s\tremaining: 1.05s\n",
            "567:\tlearn: 0.2179194\ttotal: 1.38s\tremaining: 1.05s\n",
            "568:\tlearn: 0.2177026\ttotal: 1.39s\tremaining: 1.05s\n",
            "569:\tlearn: 0.2175272\ttotal: 1.39s\tremaining: 1.05s\n",
            "570:\tlearn: 0.2174325\ttotal: 1.39s\tremaining: 1.04s\n",
            "571:\tlearn: 0.2172530\ttotal: 1.39s\tremaining: 1.04s\n",
            "572:\tlearn: 0.2166065\ttotal: 1.4s\tremaining: 1.04s\n",
            "573:\tlearn: 0.2164541\ttotal: 1.4s\tremaining: 1.04s\n",
            "574:\tlearn: 0.2162282\ttotal: 1.4s\tremaining: 1.03s\n",
            "575:\tlearn: 0.2159191\ttotal: 1.4s\tremaining: 1.03s\n",
            "576:\tlearn: 0.2157428\ttotal: 1.4s\tremaining: 1.03s\n",
            "577:\tlearn: 0.2155566\ttotal: 1.41s\tremaining: 1.03s\n",
            "578:\tlearn: 0.2152861\ttotal: 1.41s\tremaining: 1.02s\n",
            "579:\tlearn: 0.2151441\ttotal: 1.41s\tremaining: 1.02s\n",
            "580:\tlearn: 0.2150580\ttotal: 1.42s\tremaining: 1.02s\n",
            "581:\tlearn: 0.2149281\ttotal: 1.42s\tremaining: 1.02s\n",
            "582:\tlearn: 0.2146596\ttotal: 1.42s\tremaining: 1.02s\n",
            "583:\tlearn: 0.2143873\ttotal: 1.43s\tremaining: 1.01s\n",
            "584:\tlearn: 0.2141207\ttotal: 1.43s\tremaining: 1.01s\n",
            "585:\tlearn: 0.2140075\ttotal: 1.43s\tremaining: 1.01s\n",
            "586:\tlearn: 0.2137204\ttotal: 1.43s\tremaining: 1.01s\n",
            "587:\tlearn: 0.2131314\ttotal: 1.43s\tremaining: 1s\n",
            "588:\tlearn: 0.2129013\ttotal: 1.44s\tremaining: 1s\n",
            "589:\tlearn: 0.2126737\ttotal: 1.44s\tremaining: 1000ms\n",
            "590:\tlearn: 0.2125440\ttotal: 1.44s\tremaining: 997ms\n",
            "591:\tlearn: 0.2124311\ttotal: 1.44s\tremaining: 995ms\n",
            "592:\tlearn: 0.2122991\ttotal: 1.45s\tremaining: 992ms\n",
            "593:\tlearn: 0.2121098\ttotal: 1.45s\tremaining: 989ms\n",
            "594:\tlearn: 0.2118798\ttotal: 1.45s\tremaining: 987ms\n",
            "595:\tlearn: 0.2115357\ttotal: 1.45s\tremaining: 984ms\n",
            "596:\tlearn: 0.2114470\ttotal: 1.45s\tremaining: 981ms\n",
            "597:\tlearn: 0.2110948\ttotal: 1.46s\tremaining: 979ms\n",
            "598:\tlearn: 0.2108043\ttotal: 1.46s\tremaining: 976ms\n",
            "599:\tlearn: 0.2106644\ttotal: 1.46s\tremaining: 974ms\n",
            "600:\tlearn: 0.2104089\ttotal: 1.46s\tremaining: 971ms\n",
            "601:\tlearn: 0.2102381\ttotal: 1.47s\tremaining: 969ms\n",
            "602:\tlearn: 0.2100494\ttotal: 1.47s\tremaining: 966ms\n",
            "603:\tlearn: 0.2098595\ttotal: 1.47s\tremaining: 963ms\n",
            "604:\tlearn: 0.2096236\ttotal: 1.47s\tremaining: 961ms\n",
            "605:\tlearn: 0.2093423\ttotal: 1.47s\tremaining: 958ms\n",
            "606:\tlearn: 0.2090646\ttotal: 1.48s\tremaining: 956ms\n",
            "607:\tlearn: 0.2088391\ttotal: 1.48s\tremaining: 953ms\n",
            "608:\tlearn: 0.2086022\ttotal: 1.48s\tremaining: 950ms\n",
            "609:\tlearn: 0.2084911\ttotal: 1.48s\tremaining: 948ms\n",
            "610:\tlearn: 0.2082148\ttotal: 1.48s\tremaining: 945ms\n",
            "611:\tlearn: 0.2078656\ttotal: 1.49s\tremaining: 943ms\n",
            "612:\tlearn: 0.2077210\ttotal: 1.49s\tremaining: 940ms\n",
            "613:\tlearn: 0.2074912\ttotal: 1.49s\tremaining: 937ms\n",
            "614:\tlearn: 0.2072324\ttotal: 1.49s\tremaining: 935ms\n",
            "615:\tlearn: 0.2070342\ttotal: 1.5s\tremaining: 932ms\n",
            "616:\tlearn: 0.2066180\ttotal: 1.5s\tremaining: 929ms\n",
            "617:\tlearn: 0.2063236\ttotal: 1.5s\tremaining: 927ms\n",
            "618:\tlearn: 0.2061173\ttotal: 1.5s\tremaining: 924ms\n",
            "619:\tlearn: 0.2059638\ttotal: 1.5s\tremaining: 922ms\n",
            "620:\tlearn: 0.2058043\ttotal: 1.51s\tremaining: 919ms\n",
            "621:\tlearn: 0.2054449\ttotal: 1.51s\tremaining: 917ms\n",
            "622:\tlearn: 0.2052382\ttotal: 1.51s\tremaining: 914ms\n",
            "623:\tlearn: 0.2050014\ttotal: 1.51s\tremaining: 912ms\n",
            "624:\tlearn: 0.2049186\ttotal: 1.51s\tremaining: 909ms\n",
            "625:\tlearn: 0.2046565\ttotal: 1.52s\tremaining: 906ms\n",
            "626:\tlearn: 0.2043806\ttotal: 1.52s\tremaining: 904ms\n",
            "627:\tlearn: 0.2040792\ttotal: 1.52s\tremaining: 901ms\n",
            "628:\tlearn: 0.2039381\ttotal: 1.52s\tremaining: 899ms\n",
            "629:\tlearn: 0.2037112\ttotal: 1.52s\tremaining: 896ms\n",
            "630:\tlearn: 0.2035688\ttotal: 1.53s\tremaining: 894ms\n",
            "631:\tlearn: 0.2032122\ttotal: 1.53s\tremaining: 891ms\n",
            "632:\tlearn: 0.2029278\ttotal: 1.53s\tremaining: 889ms\n",
            "633:\tlearn: 0.2026197\ttotal: 1.53s\tremaining: 886ms\n",
            "634:\tlearn: 0.2023442\ttotal: 1.54s\tremaining: 883ms\n",
            "635:\tlearn: 0.2021811\ttotal: 1.54s\tremaining: 881ms\n",
            "636:\tlearn: 0.2019284\ttotal: 1.54s\tremaining: 878ms\n",
            "637:\tlearn: 0.2017175\ttotal: 1.54s\tremaining: 876ms\n",
            "638:\tlearn: 0.2015923\ttotal: 1.54s\tremaining: 873ms\n",
            "639:\tlearn: 0.2013209\ttotal: 1.55s\tremaining: 871ms\n",
            "640:\tlearn: 0.2010542\ttotal: 1.55s\tremaining: 869ms\n",
            "641:\tlearn: 0.2008496\ttotal: 1.56s\tremaining: 868ms\n",
            "642:\tlearn: 0.2006121\ttotal: 1.56s\tremaining: 867ms\n",
            "643:\tlearn: 0.2002043\ttotal: 1.56s\tremaining: 865ms\n",
            "644:\tlearn: 0.1998399\ttotal: 1.57s\tremaining: 862ms\n",
            "645:\tlearn: 0.1993693\ttotal: 1.57s\tremaining: 860ms\n",
            "646:\tlearn: 0.1991794\ttotal: 1.57s\tremaining: 857ms\n",
            "647:\tlearn: 0.1989721\ttotal: 1.57s\tremaining: 855ms\n",
            "648:\tlearn: 0.1988655\ttotal: 1.57s\tremaining: 852ms\n",
            "649:\tlearn: 0.1986385\ttotal: 1.58s\tremaining: 849ms\n",
            "650:\tlearn: 0.1985070\ttotal: 1.58s\tremaining: 847ms\n",
            "651:\tlearn: 0.1982491\ttotal: 1.58s\tremaining: 844ms\n",
            "652:\tlearn: 0.1981215\ttotal: 1.58s\tremaining: 842ms\n",
            "653:\tlearn: 0.1980380\ttotal: 1.59s\tremaining: 839ms\n",
            "654:\tlearn: 0.1977892\ttotal: 1.59s\tremaining: 837ms\n",
            "655:\tlearn: 0.1976277\ttotal: 1.59s\tremaining: 834ms\n",
            "656:\tlearn: 0.1975110\ttotal: 1.59s\tremaining: 832ms\n",
            "657:\tlearn: 0.1974608\ttotal: 1.59s\tremaining: 829ms\n",
            "658:\tlearn: 0.1972617\ttotal: 1.6s\tremaining: 827ms\n",
            "659:\tlearn: 0.1971191\ttotal: 1.6s\tremaining: 824ms\n",
            "660:\tlearn: 0.1968944\ttotal: 1.6s\tremaining: 821ms\n",
            "661:\tlearn: 0.1966753\ttotal: 1.6s\tremaining: 820ms\n",
            "662:\tlearn: 0.1964287\ttotal: 1.61s\tremaining: 818ms\n",
            "663:\tlearn: 0.1961595\ttotal: 1.61s\tremaining: 816ms\n",
            "664:\tlearn: 0.1960493\ttotal: 1.62s\tremaining: 814ms\n",
            "665:\tlearn: 0.1957211\ttotal: 1.62s\tremaining: 813ms\n",
            "666:\tlearn: 0.1955675\ttotal: 1.62s\tremaining: 810ms\n",
            "667:\tlearn: 0.1954599\ttotal: 1.63s\tremaining: 808ms\n",
            "668:\tlearn: 0.1952750\ttotal: 1.63s\tremaining: 806ms\n",
            "669:\tlearn: 0.1951819\ttotal: 1.63s\tremaining: 803ms\n",
            "670:\tlearn: 0.1948964\ttotal: 1.63s\tremaining: 801ms\n",
            "671:\tlearn: 0.1947194\ttotal: 1.64s\tremaining: 798ms\n",
            "672:\tlearn: 0.1944646\ttotal: 1.64s\tremaining: 796ms\n",
            "673:\tlearn: 0.1942048\ttotal: 1.64s\tremaining: 794ms\n",
            "674:\tlearn: 0.1941353\ttotal: 1.64s\tremaining: 791ms\n",
            "675:\tlearn: 0.1939459\ttotal: 1.65s\tremaining: 789ms\n",
            "676:\tlearn: 0.1935935\ttotal: 1.65s\tremaining: 787ms\n",
            "677:\tlearn: 0.1933407\ttotal: 1.65s\tremaining: 784ms\n",
            "678:\tlearn: 0.1932406\ttotal: 1.65s\tremaining: 782ms\n",
            "679:\tlearn: 0.1928817\ttotal: 1.66s\tremaining: 779ms\n",
            "680:\tlearn: 0.1927560\ttotal: 1.66s\tremaining: 777ms\n",
            "681:\tlearn: 0.1925936\ttotal: 1.66s\tremaining: 774ms\n",
            "682:\tlearn: 0.1921475\ttotal: 1.66s\tremaining: 772ms\n",
            "683:\tlearn: 0.1920475\ttotal: 1.67s\tremaining: 769ms\n",
            "684:\tlearn: 0.1918663\ttotal: 1.67s\tremaining: 767ms\n",
            "685:\tlearn: 0.1916822\ttotal: 1.67s\tremaining: 764ms\n",
            "686:\tlearn: 0.1914820\ttotal: 1.67s\tremaining: 762ms\n",
            "687:\tlearn: 0.1913601\ttotal: 1.67s\tremaining: 759ms\n",
            "688:\tlearn: 0.1912160\ttotal: 1.68s\tremaining: 757ms\n",
            "689:\tlearn: 0.1909111\ttotal: 1.68s\tremaining: 754ms\n",
            "690:\tlearn: 0.1907723\ttotal: 1.68s\tremaining: 752ms\n",
            "691:\tlearn: 0.1905264\ttotal: 1.68s\tremaining: 749ms\n",
            "692:\tlearn: 0.1903822\ttotal: 1.69s\tremaining: 747ms\n",
            "693:\tlearn: 0.1901603\ttotal: 1.69s\tremaining: 744ms\n",
            "694:\tlearn: 0.1899709\ttotal: 1.69s\tremaining: 742ms\n",
            "695:\tlearn: 0.1897920\ttotal: 1.69s\tremaining: 739ms\n",
            "696:\tlearn: 0.1895367\ttotal: 1.7s\tremaining: 737ms\n",
            "697:\tlearn: 0.1893984\ttotal: 1.7s\tremaining: 735ms\n",
            "698:\tlearn: 0.1892664\ttotal: 1.7s\tremaining: 732ms\n",
            "699:\tlearn: 0.1889666\ttotal: 1.7s\tremaining: 730ms\n",
            "700:\tlearn: 0.1887083\ttotal: 1.7s\tremaining: 727ms\n",
            "701:\tlearn: 0.1885232\ttotal: 1.71s\tremaining: 725ms\n",
            "702:\tlearn: 0.1884022\ttotal: 1.71s\tremaining: 722ms\n",
            "703:\tlearn: 0.1882280\ttotal: 1.71s\tremaining: 720ms\n",
            "704:\tlearn: 0.1879531\ttotal: 1.71s\tremaining: 717ms\n",
            "705:\tlearn: 0.1878114\ttotal: 1.72s\tremaining: 715ms\n",
            "706:\tlearn: 0.1876615\ttotal: 1.72s\tremaining: 712ms\n",
            "707:\tlearn: 0.1875384\ttotal: 1.72s\tremaining: 710ms\n",
            "708:\tlearn: 0.1873917\ttotal: 1.72s\tremaining: 707ms\n",
            "709:\tlearn: 0.1873871\ttotal: 1.72s\tremaining: 704ms\n",
            "710:\tlearn: 0.1871973\ttotal: 1.73s\tremaining: 702ms\n",
            "711:\tlearn: 0.1870744\ttotal: 1.73s\tremaining: 699ms\n",
            "712:\tlearn: 0.1868635\ttotal: 1.73s\tremaining: 697ms\n",
            "713:\tlearn: 0.1864424\ttotal: 1.73s\tremaining: 694ms\n",
            "714:\tlearn: 0.1862797\ttotal: 1.74s\tremaining: 692ms\n",
            "715:\tlearn: 0.1859505\ttotal: 1.74s\tremaining: 690ms\n",
            "716:\tlearn: 0.1857436\ttotal: 1.74s\tremaining: 688ms\n",
            "717:\tlearn: 0.1855197\ttotal: 1.75s\tremaining: 687ms\n",
            "718:\tlearn: 0.1852722\ttotal: 1.75s\tremaining: 685ms\n",
            "719:\tlearn: 0.1850984\ttotal: 1.75s\tremaining: 683ms\n",
            "720:\tlearn: 0.1849107\ttotal: 1.76s\tremaining: 680ms\n",
            "721:\tlearn: 0.1846884\ttotal: 1.76s\tremaining: 678ms\n",
            "722:\tlearn: 0.1845121\ttotal: 1.76s\tremaining: 675ms\n",
            "723:\tlearn: 0.1843957\ttotal: 1.76s\tremaining: 673ms\n",
            "724:\tlearn: 0.1842507\ttotal: 1.77s\tremaining: 670ms\n",
            "725:\tlearn: 0.1840276\ttotal: 1.77s\tremaining: 668ms\n",
            "726:\tlearn: 0.1838989\ttotal: 1.77s\tremaining: 665ms\n",
            "727:\tlearn: 0.1838464\ttotal: 1.77s\tremaining: 663ms\n",
            "728:\tlearn: 0.1836478\ttotal: 1.77s\tremaining: 660ms\n",
            "729:\tlearn: 0.1835107\ttotal: 1.78s\tremaining: 657ms\n",
            "730:\tlearn: 0.1833144\ttotal: 1.78s\tremaining: 655ms\n",
            "731:\tlearn: 0.1829668\ttotal: 1.78s\tremaining: 652ms\n",
            "732:\tlearn: 0.1829054\ttotal: 1.78s\tremaining: 650ms\n",
            "733:\tlearn: 0.1826855\ttotal: 1.79s\tremaining: 647ms\n",
            "734:\tlearn: 0.1824317\ttotal: 1.79s\tremaining: 645ms\n",
            "735:\tlearn: 0.1822416\ttotal: 1.79s\tremaining: 642ms\n",
            "736:\tlearn: 0.1820643\ttotal: 1.79s\tremaining: 640ms\n",
            "737:\tlearn: 0.1818899\ttotal: 1.79s\tremaining: 637ms\n",
            "738:\tlearn: 0.1818119\ttotal: 1.8s\tremaining: 635ms\n",
            "739:\tlearn: 0.1816513\ttotal: 1.8s\tremaining: 632ms\n",
            "740:\tlearn: 0.1813436\ttotal: 1.8s\tremaining: 630ms\n",
            "741:\tlearn: 0.1812427\ttotal: 1.8s\tremaining: 627ms\n",
            "742:\tlearn: 0.1810176\ttotal: 1.8s\tremaining: 624ms\n",
            "743:\tlearn: 0.1806586\ttotal: 1.81s\tremaining: 622ms\n",
            "744:\tlearn: 0.1805682\ttotal: 1.81s\tremaining: 621ms\n",
            "745:\tlearn: 0.1804612\ttotal: 1.82s\tremaining: 619ms\n",
            "746:\tlearn: 0.1803095\ttotal: 1.82s\tremaining: 616ms\n",
            "747:\tlearn: 0.1801329\ttotal: 1.82s\tremaining: 614ms\n",
            "748:\tlearn: 0.1799894\ttotal: 1.83s\tremaining: 612ms\n",
            "749:\tlearn: 0.1798094\ttotal: 1.83s\tremaining: 610ms\n",
            "750:\tlearn: 0.1796569\ttotal: 1.83s\tremaining: 608ms\n",
            "751:\tlearn: 0.1793214\ttotal: 1.83s\tremaining: 605ms\n",
            "752:\tlearn: 0.1791448\ttotal: 1.84s\tremaining: 603ms\n",
            "753:\tlearn: 0.1790003\ttotal: 1.84s\tremaining: 600ms\n",
            "754:\tlearn: 0.1787127\ttotal: 1.84s\tremaining: 598ms\n",
            "755:\tlearn: 0.1785660\ttotal: 1.84s\tremaining: 595ms\n",
            "756:\tlearn: 0.1783385\ttotal: 1.85s\tremaining: 593ms\n",
            "757:\tlearn: 0.1780754\ttotal: 1.85s\tremaining: 590ms\n",
            "758:\tlearn: 0.1779350\ttotal: 1.85s\tremaining: 588ms\n",
            "759:\tlearn: 0.1777263\ttotal: 1.85s\tremaining: 585ms\n",
            "760:\tlearn: 0.1775466\ttotal: 1.85s\tremaining: 583ms\n",
            "761:\tlearn: 0.1774379\ttotal: 1.86s\tremaining: 580ms\n",
            "762:\tlearn: 0.1772978\ttotal: 1.86s\tremaining: 578ms\n",
            "763:\tlearn: 0.1771771\ttotal: 1.86s\tremaining: 575ms\n",
            "764:\tlearn: 0.1770570\ttotal: 1.86s\tremaining: 573ms\n",
            "765:\tlearn: 0.1768655\ttotal: 1.87s\tremaining: 570ms\n",
            "766:\tlearn: 0.1767132\ttotal: 1.87s\tremaining: 568ms\n",
            "767:\tlearn: 0.1765584\ttotal: 1.87s\tremaining: 565ms\n",
            "768:\tlearn: 0.1763539\ttotal: 1.87s\tremaining: 563ms\n",
            "769:\tlearn: 0.1760498\ttotal: 1.88s\tremaining: 560ms\n",
            "770:\tlearn: 0.1759132\ttotal: 1.88s\tremaining: 558ms\n",
            "771:\tlearn: 0.1755956\ttotal: 1.88s\tremaining: 555ms\n",
            "772:\tlearn: 0.1753619\ttotal: 1.88s\tremaining: 553ms\n",
            "773:\tlearn: 0.1749942\ttotal: 1.88s\tremaining: 550ms\n",
            "774:\tlearn: 0.1747393\ttotal: 1.89s\tremaining: 548ms\n",
            "775:\tlearn: 0.1745550\ttotal: 1.89s\tremaining: 545ms\n",
            "776:\tlearn: 0.1744601\ttotal: 1.89s\tremaining: 543ms\n",
            "777:\tlearn: 0.1743010\ttotal: 1.89s\tremaining: 540ms\n",
            "778:\tlearn: 0.1741670\ttotal: 1.89s\tremaining: 537ms\n",
            "779:\tlearn: 0.1740167\ttotal: 1.9s\tremaining: 535ms\n",
            "780:\tlearn: 0.1738925\ttotal: 1.9s\tremaining: 533ms\n",
            "781:\tlearn: 0.1738127\ttotal: 1.9s\tremaining: 531ms\n",
            "782:\tlearn: 0.1736218\ttotal: 1.91s\tremaining: 529ms\n",
            "783:\tlearn: 0.1733806\ttotal: 1.91s\tremaining: 527ms\n",
            "784:\tlearn: 0.1731846\ttotal: 1.91s\tremaining: 524ms\n",
            "785:\tlearn: 0.1729718\ttotal: 1.92s\tremaining: 522ms\n",
            "786:\tlearn: 0.1727598\ttotal: 1.92s\tremaining: 519ms\n",
            "787:\tlearn: 0.1726242\ttotal: 1.92s\tremaining: 517ms\n",
            "788:\tlearn: 0.1723510\ttotal: 1.93s\tremaining: 515ms\n",
            "789:\tlearn: 0.1722003\ttotal: 1.93s\tremaining: 513ms\n",
            "790:\tlearn: 0.1718736\ttotal: 1.93s\tremaining: 511ms\n",
            "791:\tlearn: 0.1716866\ttotal: 1.94s\tremaining: 509ms\n",
            "792:\tlearn: 0.1714500\ttotal: 1.94s\tremaining: 507ms\n",
            "793:\tlearn: 0.1712914\ttotal: 1.94s\tremaining: 504ms\n",
            "794:\tlearn: 0.1712135\ttotal: 1.95s\tremaining: 502ms\n",
            "795:\tlearn: 0.1708594\ttotal: 1.95s\tremaining: 499ms\n",
            "796:\tlearn: 0.1707996\ttotal: 1.95s\tremaining: 497ms\n",
            "797:\tlearn: 0.1707364\ttotal: 1.95s\tremaining: 494ms\n",
            "798:\tlearn: 0.1705217\ttotal: 1.96s\tremaining: 492ms\n",
            "799:\tlearn: 0.1704585\ttotal: 1.96s\tremaining: 489ms\n",
            "800:\tlearn: 0.1703192\ttotal: 1.96s\tremaining: 487ms\n",
            "801:\tlearn: 0.1702629\ttotal: 1.96s\tremaining: 484ms\n",
            "802:\tlearn: 0.1700641\ttotal: 1.96s\tremaining: 482ms\n",
            "803:\tlearn: 0.1698196\ttotal: 1.97s\tremaining: 479ms\n",
            "804:\tlearn: 0.1695840\ttotal: 1.97s\tremaining: 477ms\n",
            "805:\tlearn: 0.1694852\ttotal: 1.97s\tremaining: 475ms\n",
            "806:\tlearn: 0.1693627\ttotal: 1.97s\tremaining: 472ms\n",
            "807:\tlearn: 0.1690398\ttotal: 1.98s\tremaining: 470ms\n",
            "808:\tlearn: 0.1689357\ttotal: 1.98s\tremaining: 467ms\n",
            "809:\tlearn: 0.1688258\ttotal: 1.98s\tremaining: 465ms\n",
            "810:\tlearn: 0.1686722\ttotal: 1.99s\tremaining: 463ms\n",
            "811:\tlearn: 0.1684600\ttotal: 1.99s\tremaining: 460ms\n",
            "812:\tlearn: 0.1683838\ttotal: 1.99s\tremaining: 458ms\n",
            "813:\tlearn: 0.1682572\ttotal: 2s\tremaining: 456ms\n",
            "814:\tlearn: 0.1679672\ttotal: 2s\tremaining: 453ms\n",
            "815:\tlearn: 0.1678878\ttotal: 2s\tremaining: 451ms\n",
            "816:\tlearn: 0.1677500\ttotal: 2s\tremaining: 448ms\n",
            "817:\tlearn: 0.1676019\ttotal: 2s\tremaining: 446ms\n",
            "818:\tlearn: 0.1672830\ttotal: 2.01s\tremaining: 443ms\n",
            "819:\tlearn: 0.1670506\ttotal: 2.01s\tremaining: 441ms\n",
            "820:\tlearn: 0.1668242\ttotal: 2.01s\tremaining: 438ms\n",
            "821:\tlearn: 0.1666482\ttotal: 2.01s\tremaining: 436ms\n",
            "822:\tlearn: 0.1665036\ttotal: 2.02s\tremaining: 433ms\n",
            "823:\tlearn: 0.1664045\ttotal: 2.02s\tremaining: 431ms\n",
            "824:\tlearn: 0.1661243\ttotal: 2.02s\tremaining: 428ms\n",
            "825:\tlearn: 0.1658433\ttotal: 2.02s\tremaining: 426ms\n",
            "826:\tlearn: 0.1656769\ttotal: 2.02s\tremaining: 424ms\n",
            "827:\tlearn: 0.1655979\ttotal: 2.03s\tremaining: 421ms\n",
            "828:\tlearn: 0.1651767\ttotal: 2.03s\tremaining: 418ms\n",
            "829:\tlearn: 0.1648583\ttotal: 2.03s\tremaining: 416ms\n",
            "830:\tlearn: 0.1647645\ttotal: 2.03s\tremaining: 413ms\n",
            "831:\tlearn: 0.1644804\ttotal: 2.04s\tremaining: 411ms\n",
            "832:\tlearn: 0.1641601\ttotal: 2.04s\tremaining: 409ms\n",
            "833:\tlearn: 0.1641079\ttotal: 2.04s\tremaining: 406ms\n",
            "834:\tlearn: 0.1638006\ttotal: 2.04s\tremaining: 404ms\n",
            "835:\tlearn: 0.1636324\ttotal: 2.04s\tremaining: 401ms\n",
            "836:\tlearn: 0.1634373\ttotal: 2.05s\tremaining: 399ms\n",
            "837:\tlearn: 0.1634127\ttotal: 2.05s\tremaining: 396ms\n",
            "838:\tlearn: 0.1631928\ttotal: 2.05s\tremaining: 394ms\n",
            "839:\tlearn: 0.1630516\ttotal: 2.05s\tremaining: 391ms\n",
            "840:\tlearn: 0.1628245\ttotal: 2.06s\tremaining: 389ms\n",
            "841:\tlearn: 0.1627375\ttotal: 2.06s\tremaining: 386ms\n",
            "842:\tlearn: 0.1626172\ttotal: 2.06s\tremaining: 384ms\n",
            "843:\tlearn: 0.1625682\ttotal: 2.06s\tremaining: 381ms\n",
            "844:\tlearn: 0.1624020\ttotal: 2.06s\tremaining: 379ms\n",
            "845:\tlearn: 0.1623279\ttotal: 2.07s\tremaining: 376ms\n",
            "846:\tlearn: 0.1621046\ttotal: 2.07s\tremaining: 374ms\n",
            "847:\tlearn: 0.1619224\ttotal: 2.07s\tremaining: 371ms\n",
            "848:\tlearn: 0.1617847\ttotal: 2.07s\tremaining: 369ms\n",
            "849:\tlearn: 0.1615671\ttotal: 2.08s\tremaining: 366ms\n",
            "850:\tlearn: 0.1614044\ttotal: 2.08s\tremaining: 364ms\n",
            "851:\tlearn: 0.1612821\ttotal: 2.08s\tremaining: 361ms\n",
            "852:\tlearn: 0.1611716\ttotal: 2.08s\tremaining: 359ms\n",
            "853:\tlearn: 0.1610387\ttotal: 2.08s\tremaining: 356ms\n",
            "854:\tlearn: 0.1609616\ttotal: 2.09s\tremaining: 354ms\n",
            "855:\tlearn: 0.1607508\ttotal: 2.09s\tremaining: 351ms\n",
            "856:\tlearn: 0.1604277\ttotal: 2.09s\tremaining: 349ms\n",
            "857:\tlearn: 0.1602106\ttotal: 2.09s\tremaining: 346ms\n",
            "858:\tlearn: 0.1599898\ttotal: 2.1s\tremaining: 344ms\n",
            "859:\tlearn: 0.1597101\ttotal: 2.1s\tremaining: 342ms\n",
            "860:\tlearn: 0.1595898\ttotal: 2.1s\tremaining: 339ms\n",
            "861:\tlearn: 0.1593900\ttotal: 2.1s\tremaining: 337ms\n",
            "862:\tlearn: 0.1592363\ttotal: 2.1s\tremaining: 334ms\n",
            "863:\tlearn: 0.1590715\ttotal: 2.11s\tremaining: 332ms\n",
            "864:\tlearn: 0.1590080\ttotal: 2.11s\tremaining: 329ms\n",
            "865:\tlearn: 0.1586357\ttotal: 2.11s\tremaining: 327ms\n",
            "866:\tlearn: 0.1585227\ttotal: 2.12s\tremaining: 325ms\n",
            "867:\tlearn: 0.1582959\ttotal: 2.12s\tremaining: 322ms\n",
            "868:\tlearn: 0.1582166\ttotal: 2.12s\tremaining: 320ms\n",
            "869:\tlearn: 0.1581021\ttotal: 2.13s\tremaining: 318ms\n",
            "870:\tlearn: 0.1579582\ttotal: 2.13s\tremaining: 316ms\n",
            "871:\tlearn: 0.1578432\ttotal: 2.13s\tremaining: 313ms\n",
            "872:\tlearn: 0.1576463\ttotal: 2.13s\tremaining: 311ms\n",
            "873:\tlearn: 0.1575345\ttotal: 2.14s\tremaining: 308ms\n",
            "874:\tlearn: 0.1574203\ttotal: 2.14s\tremaining: 306ms\n",
            "875:\tlearn: 0.1571343\ttotal: 2.14s\tremaining: 303ms\n",
            "876:\tlearn: 0.1569750\ttotal: 2.14s\tremaining: 301ms\n",
            "877:\tlearn: 0.1567815\ttotal: 2.15s\tremaining: 298ms\n",
            "878:\tlearn: 0.1566984\ttotal: 2.15s\tremaining: 296ms\n",
            "879:\tlearn: 0.1564997\ttotal: 2.15s\tremaining: 293ms\n",
            "880:\tlearn: 0.1562779\ttotal: 2.15s\tremaining: 291ms\n",
            "881:\tlearn: 0.1560335\ttotal: 2.15s\tremaining: 288ms\n",
            "882:\tlearn: 0.1558275\ttotal: 2.16s\tremaining: 286ms\n",
            "883:\tlearn: 0.1556711\ttotal: 2.16s\tremaining: 283ms\n",
            "884:\tlearn: 0.1555146\ttotal: 2.16s\tremaining: 281ms\n",
            "885:\tlearn: 0.1554397\ttotal: 2.16s\tremaining: 278ms\n",
            "886:\tlearn: 0.1553855\ttotal: 2.17s\tremaining: 276ms\n",
            "887:\tlearn: 0.1553176\ttotal: 2.17s\tremaining: 274ms\n",
            "888:\tlearn: 0.1551038\ttotal: 2.17s\tremaining: 271ms\n",
            "889:\tlearn: 0.1549090\ttotal: 2.17s\tremaining: 269ms\n",
            "890:\tlearn: 0.1547736\ttotal: 2.17s\tremaining: 266ms\n",
            "891:\tlearn: 0.1546266\ttotal: 2.18s\tremaining: 264ms\n",
            "892:\tlearn: 0.1543420\ttotal: 2.18s\tremaining: 261ms\n",
            "893:\tlearn: 0.1542998\ttotal: 2.18s\tremaining: 259ms\n",
            "894:\tlearn: 0.1541544\ttotal: 2.18s\tremaining: 256ms\n",
            "895:\tlearn: 0.1540611\ttotal: 2.19s\tremaining: 254ms\n",
            "896:\tlearn: 0.1540003\ttotal: 2.19s\tremaining: 251ms\n",
            "897:\tlearn: 0.1538846\ttotal: 2.19s\tremaining: 249ms\n",
            "898:\tlearn: 0.1537354\ttotal: 2.19s\tremaining: 246ms\n",
            "899:\tlearn: 0.1536369\ttotal: 2.19s\tremaining: 244ms\n",
            "900:\tlearn: 0.1535055\ttotal: 2.2s\tremaining: 241ms\n",
            "901:\tlearn: 0.1534149\ttotal: 2.2s\tremaining: 239ms\n",
            "902:\tlearn: 0.1532454\ttotal: 2.2s\tremaining: 236ms\n",
            "903:\tlearn: 0.1530280\ttotal: 2.2s\tremaining: 234ms\n",
            "904:\tlearn: 0.1529634\ttotal: 2.21s\tremaining: 232ms\n",
            "905:\tlearn: 0.1528423\ttotal: 2.21s\tremaining: 229ms\n",
            "906:\tlearn: 0.1526534\ttotal: 2.21s\tremaining: 227ms\n",
            "907:\tlearn: 0.1524300\ttotal: 2.21s\tremaining: 224ms\n",
            "908:\tlearn: 0.1523386\ttotal: 2.21s\tremaining: 222ms\n",
            "909:\tlearn: 0.1522076\ttotal: 2.22s\tremaining: 219ms\n",
            "910:\tlearn: 0.1520807\ttotal: 2.22s\tremaining: 217ms\n",
            "911:\tlearn: 0.1519080\ttotal: 2.22s\tremaining: 214ms\n",
            "912:\tlearn: 0.1517919\ttotal: 2.22s\tremaining: 212ms\n",
            "913:\tlearn: 0.1517044\ttotal: 2.23s\tremaining: 209ms\n",
            "914:\tlearn: 0.1515753\ttotal: 2.23s\tremaining: 207ms\n",
            "915:\tlearn: 0.1514887\ttotal: 2.23s\tremaining: 205ms\n",
            "916:\tlearn: 0.1512656\ttotal: 2.23s\tremaining: 202ms\n",
            "917:\tlearn: 0.1511298\ttotal: 2.23s\tremaining: 200ms\n",
            "918:\tlearn: 0.1508546\ttotal: 2.24s\tremaining: 197ms\n",
            "919:\tlearn: 0.1506945\ttotal: 2.24s\tremaining: 195ms\n",
            "920:\tlearn: 0.1504390\ttotal: 2.24s\tremaining: 192ms\n",
            "921:\tlearn: 0.1501438\ttotal: 2.24s\tremaining: 190ms\n",
            "922:\tlearn: 0.1497936\ttotal: 2.25s\tremaining: 187ms\n",
            "923:\tlearn: 0.1495265\ttotal: 2.25s\tremaining: 185ms\n",
            "924:\tlearn: 0.1493913\ttotal: 2.25s\tremaining: 182ms\n",
            "925:\tlearn: 0.1492995\ttotal: 2.25s\tremaining: 180ms\n",
            "926:\tlearn: 0.1491139\ttotal: 2.25s\tremaining: 178ms\n",
            "927:\tlearn: 0.1490189\ttotal: 2.26s\tremaining: 175ms\n",
            "928:\tlearn: 0.1487809\ttotal: 2.26s\tremaining: 173ms\n",
            "929:\tlearn: 0.1486433\ttotal: 2.26s\tremaining: 170ms\n",
            "930:\tlearn: 0.1485107\ttotal: 2.26s\tremaining: 168ms\n",
            "931:\tlearn: 0.1484070\ttotal: 2.27s\tremaining: 165ms\n",
            "932:\tlearn: 0.1482414\ttotal: 2.27s\tremaining: 163ms\n",
            "933:\tlearn: 0.1482058\ttotal: 2.27s\tremaining: 161ms\n",
            "934:\tlearn: 0.1481387\ttotal: 2.27s\tremaining: 158ms\n",
            "935:\tlearn: 0.1480099\ttotal: 2.27s\tremaining: 156ms\n",
            "936:\tlearn: 0.1478050\ttotal: 2.28s\tremaining: 153ms\n",
            "937:\tlearn: 0.1476738\ttotal: 2.28s\tremaining: 151ms\n",
            "938:\tlearn: 0.1475262\ttotal: 2.28s\tremaining: 148ms\n",
            "939:\tlearn: 0.1474277\ttotal: 2.28s\tremaining: 146ms\n",
            "940:\tlearn: 0.1473763\ttotal: 2.29s\tremaining: 143ms\n",
            "941:\tlearn: 0.1472798\ttotal: 2.29s\tremaining: 141ms\n",
            "942:\tlearn: 0.1471365\ttotal: 2.29s\tremaining: 138ms\n",
            "943:\tlearn: 0.1469997\ttotal: 2.29s\tremaining: 136ms\n",
            "944:\tlearn: 0.1467645\ttotal: 2.29s\tremaining: 134ms\n",
            "945:\tlearn: 0.1466815\ttotal: 2.3s\tremaining: 131ms\n",
            "946:\tlearn: 0.1464130\ttotal: 2.3s\tremaining: 129ms\n",
            "947:\tlearn: 0.1462966\ttotal: 2.3s\tremaining: 126ms\n",
            "948:\tlearn: 0.1460856\ttotal: 2.31s\tremaining: 124ms\n",
            "949:\tlearn: 0.1460177\ttotal: 2.31s\tremaining: 122ms\n",
            "950:\tlearn: 0.1457660\ttotal: 2.31s\tremaining: 119ms\n",
            "951:\tlearn: 0.1456558\ttotal: 2.32s\tremaining: 117ms\n",
            "952:\tlearn: 0.1456257\ttotal: 2.32s\tremaining: 114ms\n",
            "953:\tlearn: 0.1455333\ttotal: 2.32s\tremaining: 112ms\n",
            "954:\tlearn: 0.1454543\ttotal: 2.33s\tremaining: 110ms\n",
            "955:\tlearn: 0.1453886\ttotal: 2.33s\tremaining: 107ms\n",
            "956:\tlearn: 0.1451948\ttotal: 2.33s\tremaining: 105ms\n",
            "957:\tlearn: 0.1450986\ttotal: 2.33s\tremaining: 102ms\n",
            "958:\tlearn: 0.1450344\ttotal: 2.33s\tremaining: 99.8ms\n",
            "959:\tlearn: 0.1449033\ttotal: 2.34s\tremaining: 97.4ms\n",
            "960:\tlearn: 0.1446831\ttotal: 2.34s\tremaining: 94.9ms\n",
            "961:\tlearn: 0.1445959\ttotal: 2.34s\tremaining: 92.5ms\n",
            "962:\tlearn: 0.1443170\ttotal: 2.34s\tremaining: 90ms\n",
            "963:\tlearn: 0.1441287\ttotal: 2.35s\tremaining: 87.6ms\n",
            "964:\tlearn: 0.1438167\ttotal: 2.35s\tremaining: 85.2ms\n",
            "965:\tlearn: 0.1435204\ttotal: 2.35s\tremaining: 82.7ms\n",
            "966:\tlearn: 0.1433801\ttotal: 2.35s\tremaining: 80.3ms\n",
            "967:\tlearn: 0.1431855\ttotal: 2.35s\tremaining: 77.8ms\n",
            "968:\tlearn: 0.1430875\ttotal: 2.36s\tremaining: 75.4ms\n",
            "969:\tlearn: 0.1429147\ttotal: 2.36s\tremaining: 73ms\n",
            "970:\tlearn: 0.1428740\ttotal: 2.36s\tremaining: 70.5ms\n",
            "971:\tlearn: 0.1428052\ttotal: 2.36s\tremaining: 68.1ms\n",
            "972:\tlearn: 0.1427860\ttotal: 2.37s\tremaining: 65.6ms\n",
            "973:\tlearn: 0.1426507\ttotal: 2.37s\tremaining: 63.2ms\n",
            "974:\tlearn: 0.1425684\ttotal: 2.37s\tremaining: 60.8ms\n",
            "975:\tlearn: 0.1424531\ttotal: 2.37s\tremaining: 58.3ms\n",
            "976:\tlearn: 0.1423779\ttotal: 2.37s\tremaining: 55.9ms\n",
            "977:\tlearn: 0.1422523\ttotal: 2.38s\tremaining: 53.5ms\n",
            "978:\tlearn: 0.1421651\ttotal: 2.38s\tremaining: 51ms\n",
            "979:\tlearn: 0.1420392\ttotal: 2.38s\tremaining: 48.6ms\n",
            "980:\tlearn: 0.1419499\ttotal: 2.38s\tremaining: 46.2ms\n",
            "981:\tlearn: 0.1418306\ttotal: 2.38s\tremaining: 43.7ms\n",
            "982:\tlearn: 0.1415587\ttotal: 2.39s\tremaining: 41.3ms\n",
            "983:\tlearn: 0.1414481\ttotal: 2.39s\tremaining: 38.9ms\n",
            "984:\tlearn: 0.1413587\ttotal: 2.39s\tremaining: 36.4ms\n",
            "985:\tlearn: 0.1412358\ttotal: 2.39s\tremaining: 34ms\n",
            "986:\tlearn: 0.1410155\ttotal: 2.4s\tremaining: 31.6ms\n",
            "987:\tlearn: 0.1408197\ttotal: 2.4s\tremaining: 29.1ms\n",
            "988:\tlearn: 0.1407040\ttotal: 2.4s\tremaining: 26.7ms\n",
            "989:\tlearn: 0.1404826\ttotal: 2.4s\tremaining: 24.3ms\n",
            "990:\tlearn: 0.1404189\ttotal: 2.4s\tremaining: 21.8ms\n",
            "991:\tlearn: 0.1403945\ttotal: 2.4s\tremaining: 19.4ms\n",
            "992:\tlearn: 0.1402723\ttotal: 2.41s\tremaining: 17ms\n",
            "993:\tlearn: 0.1401328\ttotal: 2.41s\tremaining: 14.5ms\n",
            "994:\tlearn: 0.1400140\ttotal: 2.41s\tremaining: 12.1ms\n",
            "995:\tlearn: 0.1399898\ttotal: 2.41s\tremaining: 9.7ms\n",
            "996:\tlearn: 0.1398008\ttotal: 2.42s\tremaining: 7.27ms\n",
            "997:\tlearn: 0.1396665\ttotal: 2.42s\tremaining: 4.85ms\n",
            "998:\tlearn: 0.1395416\ttotal: 2.42s\tremaining: 2.42ms\n",
            "999:\tlearn: 0.1394682\ttotal: 2.42s\tremaining: 0us\n",
            "[CV] END ...........................depth=7, iterations=1000; total time=   2.6s\n",
            "Learning rate set to 0.067241\n",
            "0:\tlearn: 0.6734989\ttotal: 2.06ms\tremaining: 204ms\n",
            "1:\tlearn: 0.6588993\ttotal: 4.1ms\tremaining: 201ms\n",
            "2:\tlearn: 0.6443933\ttotal: 6.01ms\tremaining: 194ms\n",
            "3:\tlearn: 0.6290881\ttotal: 8ms\tremaining: 192ms\n",
            "4:\tlearn: 0.6176632\ttotal: 9.69ms\tremaining: 184ms\n",
            "5:\tlearn: 0.6073706\ttotal: 11.8ms\tremaining: 184ms\n",
            "6:\tlearn: 0.5965406\ttotal: 13.8ms\tremaining: 183ms\n",
            "7:\tlearn: 0.5836991\ttotal: 15.7ms\tremaining: 181ms\n",
            "8:\tlearn: 0.5731384\ttotal: 18.4ms\tremaining: 186ms\n",
            "9:\tlearn: 0.5644144\ttotal: 20.2ms\tremaining: 182ms\n",
            "10:\tlearn: 0.5557477\ttotal: 22.1ms\tremaining: 179ms\n",
            "11:\tlearn: 0.5482154\ttotal: 23.9ms\tremaining: 175ms\n",
            "12:\tlearn: 0.5423085\ttotal: 25.9ms\tremaining: 173ms\n",
            "13:\tlearn: 0.5350761\ttotal: 27.8ms\tremaining: 171ms\n",
            "14:\tlearn: 0.5283763\ttotal: 29.6ms\tremaining: 168ms\n",
            "15:\tlearn: 0.5221845\ttotal: 33.1ms\tremaining: 174ms\n",
            "16:\tlearn: 0.5168395\ttotal: 36.2ms\tremaining: 177ms\n",
            "17:\tlearn: 0.5113013\ttotal: 39.9ms\tremaining: 182ms\n",
            "18:\tlearn: 0.5050783\ttotal: 43.7ms\tremaining: 186ms\n",
            "19:\tlearn: 0.4995536\ttotal: 45.9ms\tremaining: 184ms\n",
            "20:\tlearn: 0.4939738\ttotal: 47.8ms\tremaining: 180ms\n",
            "21:\tlearn: 0.4896762\ttotal: 49.7ms\tremaining: 176ms\n",
            "22:\tlearn: 0.4844090\ttotal: 51.6ms\tremaining: 173ms\n",
            "23:\tlearn: 0.4790670\ttotal: 53ms\tremaining: 168ms\n",
            "24:\tlearn: 0.4750489\ttotal: 55ms\tremaining: 165ms\n",
            "25:\tlearn: 0.4717185\ttotal: 57ms\tremaining: 162ms\n",
            "26:\tlearn: 0.4670241\ttotal: 59.2ms\tremaining: 160ms\n",
            "27:\tlearn: 0.4636551\ttotal: 60.8ms\tremaining: 156ms\n",
            "28:\tlearn: 0.4596723\ttotal: 62.7ms\tremaining: 154ms\n",
            "29:\tlearn: 0.4554077\ttotal: 64.7ms\tremaining: 151ms\n",
            "30:\tlearn: 0.4522475\ttotal: 66.7ms\tremaining: 148ms\n",
            "31:\tlearn: 0.4488652\ttotal: 69.3ms\tremaining: 147ms\n",
            "32:\tlearn: 0.4463691\ttotal: 71.1ms\tremaining: 144ms\n",
            "33:\tlearn: 0.4435506\ttotal: 72.9ms\tremaining: 142ms\n",
            "34:\tlearn: 0.4409488\ttotal: 74.8ms\tremaining: 139ms\n",
            "35:\tlearn: 0.4383930\ttotal: 76.6ms\tremaining: 136ms\n",
            "36:\tlearn: 0.4364162\ttotal: 78.5ms\tremaining: 134ms\n",
            "37:\tlearn: 0.4337764\ttotal: 80.4ms\tremaining: 131ms\n",
            "38:\tlearn: 0.4314104\ttotal: 82.4ms\tremaining: 129ms\n",
            "39:\tlearn: 0.4290014\ttotal: 84.3ms\tremaining: 126ms\n",
            "40:\tlearn: 0.4266306\ttotal: 86.1ms\tremaining: 124ms\n",
            "41:\tlearn: 0.4242629\ttotal: 89.7ms\tremaining: 124ms\n",
            "42:\tlearn: 0.4215688\ttotal: 92.1ms\tremaining: 122ms\n",
            "43:\tlearn: 0.4183613\ttotal: 94.1ms\tremaining: 120ms\n",
            "44:\tlearn: 0.4157328\ttotal: 96ms\tremaining: 117ms\n",
            "45:\tlearn: 0.4141729\ttotal: 97.9ms\tremaining: 115ms\n",
            "46:\tlearn: 0.4126189\ttotal: 101ms\tremaining: 114ms\n",
            "47:\tlearn: 0.4104815\ttotal: 103ms\tremaining: 111ms\n",
            "48:\tlearn: 0.4080103\ttotal: 105ms\tremaining: 109ms\n",
            "49:\tlearn: 0.4057500\ttotal: 107ms\tremaining: 107ms\n",
            "50:\tlearn: 0.4034889\ttotal: 109ms\tremaining: 104ms\n",
            "51:\tlearn: 0.4015483\ttotal: 110ms\tremaining: 102ms\n",
            "52:\tlearn: 0.3994572\ttotal: 112ms\tremaining: 99.7ms\n",
            "53:\tlearn: 0.3981241\ttotal: 114ms\tremaining: 97.3ms\n",
            "54:\tlearn: 0.3956060\ttotal: 116ms\tremaining: 95ms\n",
            "55:\tlearn: 0.3936071\ttotal: 118ms\tremaining: 92.9ms\n",
            "56:\tlearn: 0.3915927\ttotal: 120ms\tremaining: 90.8ms\n",
            "57:\tlearn: 0.3894584\ttotal: 122ms\tremaining: 88.6ms\n",
            "58:\tlearn: 0.3877663\ttotal: 125ms\tremaining: 86.7ms\n",
            "59:\tlearn: 0.3860130\ttotal: 127ms\tremaining: 84.7ms\n",
            "60:\tlearn: 0.3841459\ttotal: 129ms\tremaining: 82.6ms\n",
            "61:\tlearn: 0.3827067\ttotal: 132ms\tremaining: 80.9ms\n",
            "62:\tlearn: 0.3810495\ttotal: 134ms\tremaining: 78.8ms\n",
            "63:\tlearn: 0.3796427\ttotal: 136ms\tremaining: 76.5ms\n",
            "64:\tlearn: 0.3780005\ttotal: 138ms\tremaining: 74.4ms\n",
            "65:\tlearn: 0.3763914\ttotal: 140ms\tremaining: 72.2ms\n",
            "66:\tlearn: 0.3747598\ttotal: 142ms\tremaining: 70ms\n",
            "67:\tlearn: 0.3726642\ttotal: 144ms\tremaining: 67.8ms\n",
            "68:\tlearn: 0.3704320\ttotal: 146ms\tremaining: 65.6ms\n",
            "69:\tlearn: 0.3678669\ttotal: 148ms\tremaining: 63.5ms\n",
            "70:\tlearn: 0.3659652\ttotal: 150ms\tremaining: 61.3ms\n",
            "71:\tlearn: 0.3648667\ttotal: 152ms\tremaining: 59.2ms\n",
            "72:\tlearn: 0.3635892\ttotal: 154ms\tremaining: 57ms\n",
            "73:\tlearn: 0.3623524\ttotal: 156ms\tremaining: 54.8ms\n",
            "74:\tlearn: 0.3616657\ttotal: 157ms\tremaining: 52.4ms\n",
            "75:\tlearn: 0.3607285\ttotal: 159ms\tremaining: 50.3ms\n",
            "76:\tlearn: 0.3601005\ttotal: 161ms\tremaining: 48.1ms\n",
            "77:\tlearn: 0.3582524\ttotal: 163ms\tremaining: 46ms\n",
            "78:\tlearn: 0.3572271\ttotal: 165ms\tremaining: 43.9ms\n",
            "79:\tlearn: 0.3560027\ttotal: 167ms\tremaining: 41.8ms\n",
            "80:\tlearn: 0.3549144\ttotal: 169ms\tremaining: 39.7ms\n",
            "81:\tlearn: 0.3531340\ttotal: 171ms\tremaining: 37.5ms\n",
            "82:\tlearn: 0.3522816\ttotal: 173ms\tremaining: 35.5ms\n",
            "83:\tlearn: 0.3512642\ttotal: 175ms\tremaining: 33.4ms\n",
            "84:\tlearn: 0.3497196\ttotal: 177ms\tremaining: 31.3ms\n",
            "85:\tlearn: 0.3484852\ttotal: 179ms\tremaining: 29.2ms\n",
            "86:\tlearn: 0.3468923\ttotal: 181ms\tremaining: 27.1ms\n",
            "87:\tlearn: 0.3449619\ttotal: 183ms\tremaining: 25ms\n",
            "88:\tlearn: 0.3434390\ttotal: 185ms\tremaining: 22.9ms\n",
            "89:\tlearn: 0.3423748\ttotal: 187ms\tremaining: 20.8ms\n",
            "90:\tlearn: 0.3413861\ttotal: 189ms\tremaining: 18.7ms\n",
            "91:\tlearn: 0.3406856\ttotal: 191ms\tremaining: 16.6ms\n",
            "92:\tlearn: 0.3398277\ttotal: 193ms\tremaining: 14.5ms\n",
            "93:\tlearn: 0.3390233\ttotal: 195ms\tremaining: 12.4ms\n",
            "94:\tlearn: 0.3375189\ttotal: 197ms\tremaining: 10.4ms\n",
            "95:\tlearn: 0.3364950\ttotal: 199ms\tremaining: 8.28ms\n",
            "96:\tlearn: 0.3353515\ttotal: 200ms\tremaining: 6.2ms\n",
            "97:\tlearn: 0.3339362\ttotal: 202ms\tremaining: 4.13ms\n",
            "98:\tlearn: 0.3326615\ttotal: 204ms\tremaining: 2.06ms\n",
            "99:\tlearn: 0.3316400\ttotal: 206ms\tremaining: 0us\n",
            "Learning rate set to 0.067241\n",
            "0:\tlearn: 0.6734989\ttotal: 7.63ms\tremaining: 755ms\n",
            "1:\tlearn: 0.6588993\ttotal: 12.4ms\tremaining: 605ms\n",
            "2:\tlearn: 0.6443933\ttotal: 16.3ms\tremaining: 527ms\n",
            "3:\tlearn: 0.6290881\ttotal: 18.3ms\tremaining: 440ms\n",
            "4:\tlearn: 0.6176632\ttotal: 20.3ms\tremaining: 385ms\n",
            "5:\tlearn: 0.6073706\ttotal: 22.3ms\tremaining: 350ms\n",
            "6:\tlearn: 0.5965406\ttotal: 24.3ms\tremaining: 323ms\n",
            "7:\tlearn: 0.5836991\ttotal: 26.2ms\tremaining: 302ms\n",
            "8:\tlearn: 0.5731384\ttotal: 28.1ms\tremaining: 284ms\n",
            "9:\tlearn: 0.5644144\ttotal: 30ms\tremaining: 270ms\n",
            "10:\tlearn: 0.5557477\ttotal: 31.9ms\tremaining: 258ms\n",
            "11:\tlearn: 0.5482154\ttotal: 33.7ms\tremaining: 247ms\n",
            "12:\tlearn: 0.5423085\ttotal: 36ms\tremaining: 241ms\n",
            "13:\tlearn: 0.5350761\ttotal: 38ms\tremaining: 233ms\n",
            "14:\tlearn: 0.5283763\ttotal: 39.9ms\tremaining: 226ms\n",
            "15:\tlearn: 0.5221845\ttotal: 41.8ms\tremaining: 219ms\n",
            "16:\tlearn: 0.5168395\ttotal: 43.9ms\tremaining: 214ms\n",
            "17:\tlearn: 0.5113013\ttotal: 46ms\tremaining: 209ms\n",
            "18:\tlearn: 0.5050783\ttotal: 47.9ms\tremaining: 204ms\n",
            "19:\tlearn: 0.4995536\ttotal: 49.8ms\tremaining: 199ms\n",
            "20:\tlearn: 0.4939738\ttotal: 53.6ms\tremaining: 202ms\n",
            "21:\tlearn: 0.4896762\ttotal: 55.4ms\tremaining: 196ms\n",
            "22:\tlearn: 0.4844090\ttotal: 57.3ms\tremaining: 192ms\n",
            "23:\tlearn: 0.4790670\ttotal: 58.6ms\tremaining: 186ms\n",
            "24:\tlearn: 0.4750489\ttotal: 61.7ms\tremaining: 185ms\n",
            "25:\tlearn: 0.4717185\ttotal: 63.8ms\tremaining: 182ms\n",
            "26:\tlearn: 0.4670241\ttotal: 65.8ms\tremaining: 178ms\n",
            "27:\tlearn: 0.4636551\ttotal: 67.6ms\tremaining: 174ms\n",
            "28:\tlearn: 0.4596723\ttotal: 69.5ms\tremaining: 170ms\n",
            "29:\tlearn: 0.4554077\ttotal: 71.5ms\tremaining: 167ms\n",
            "30:\tlearn: 0.4522475\ttotal: 73.5ms\tremaining: 164ms\n",
            "31:\tlearn: 0.4488652\ttotal: 75.4ms\tremaining: 160ms\n",
            "32:\tlearn: 0.4463691\ttotal: 77.4ms\tremaining: 157ms\n",
            "33:\tlearn: 0.4435506\ttotal: 81.4ms\tremaining: 158ms\n",
            "34:\tlearn: 0.4409488\ttotal: 85.3ms\tremaining: 158ms\n",
            "35:\tlearn: 0.4383930\ttotal: 87.8ms\tremaining: 156ms\n",
            "36:\tlearn: 0.4364162\ttotal: 90.9ms\tremaining: 155ms\n",
            "37:\tlearn: 0.4337764\ttotal: 94.2ms\tremaining: 154ms\n",
            "38:\tlearn: 0.4314104\ttotal: 97.3ms\tremaining: 152ms\n",
            "39:\tlearn: 0.4290014\ttotal: 103ms\tremaining: 154ms\n",
            "40:\tlearn: 0.4266306\ttotal: 106ms\tremaining: 152ms\n",
            "41:\tlearn: 0.4242629\ttotal: 108ms\tremaining: 149ms\n",
            "42:\tlearn: 0.4215688\ttotal: 110ms\tremaining: 146ms\n",
            "43:\tlearn: 0.4183613\ttotal: 112ms\tremaining: 142ms\n",
            "44:\tlearn: 0.4157328\ttotal: 114ms\tremaining: 139ms\n",
            "45:\tlearn: 0.4141729\ttotal: 116ms\tremaining: 136ms\n",
            "46:\tlearn: 0.4126189\ttotal: 118ms\tremaining: 133ms\n",
            "47:\tlearn: 0.4104815\ttotal: 120ms\tremaining: 130ms\n",
            "48:\tlearn: 0.4080103\ttotal: 122ms\tremaining: 127ms\n",
            "49:\tlearn: 0.4057500\ttotal: 124ms\tremaining: 124ms\n",
            "50:\tlearn: 0.4034889\ttotal: 126ms\tremaining: 121ms\n",
            "51:\tlearn: 0.4015483\ttotal: 128ms\tremaining: 118ms\n",
            "52:\tlearn: 0.3994572\ttotal: 130ms\tremaining: 115ms\n",
            "53:\tlearn: 0.3981241\ttotal: 132ms\tremaining: 112ms\n",
            "54:\tlearn: 0.3956060\ttotal: 134ms\tremaining: 109ms\n",
            "55:\tlearn: 0.3936071\ttotal: 136ms\tremaining: 107ms\n",
            "56:\tlearn: 0.3915927\ttotal: 138ms\tremaining: 104ms\n",
            "57:\tlearn: 0.3894584\ttotal: 140ms\tremaining: 101ms\n",
            "58:\tlearn: 0.3877663\ttotal: 141ms\tremaining: 98.3ms\n",
            "59:\tlearn: 0.3860130\ttotal: 145ms\tremaining: 96.6ms\n",
            "60:\tlearn: 0.3841459\ttotal: 147ms\tremaining: 93.9ms\n",
            "61:\tlearn: 0.3827067\ttotal: 149ms\tremaining: 91.2ms\n",
            "62:\tlearn: 0.3810495\ttotal: 151ms\tremaining: 88.5ms\n",
            "63:\tlearn: 0.3796427\ttotal: 155ms\tremaining: 87ms\n",
            "64:\tlearn: 0.3780005\ttotal: 157ms\tremaining: 84.6ms\n",
            "65:\tlearn: 0.3763914\ttotal: 159ms\tremaining: 82ms\n",
            "66:\tlearn: 0.3747598\ttotal: 161ms\tremaining: 79.3ms\n",
            "67:\tlearn: 0.3726642\ttotal: 163ms\tremaining: 76.7ms\n",
            "68:\tlearn: 0.3704320\ttotal: 166ms\tremaining: 74.4ms\n",
            "69:\tlearn: 0.3678669\ttotal: 168ms\tremaining: 71.8ms\n",
            "70:\tlearn: 0.3659652\ttotal: 169ms\tremaining: 69.2ms\n",
            "71:\tlearn: 0.3648667\ttotal: 171ms\tremaining: 66.6ms\n",
            "72:\tlearn: 0.3635892\ttotal: 173ms\tremaining: 64.1ms\n",
            "73:\tlearn: 0.3623524\ttotal: 175ms\tremaining: 61.6ms\n",
            "74:\tlearn: 0.3616657\ttotal: 176ms\tremaining: 58.8ms\n",
            "75:\tlearn: 0.3607285\ttotal: 178ms\tremaining: 56.3ms\n",
            "76:\tlearn: 0.3601005\ttotal: 180ms\tremaining: 53.8ms\n",
            "77:\tlearn: 0.3582524\ttotal: 184ms\tremaining: 51.8ms\n",
            "78:\tlearn: 0.3572271\ttotal: 187ms\tremaining: 49.6ms\n",
            "79:\tlearn: 0.3560027\ttotal: 189ms\tremaining: 47.2ms\n",
            "80:\tlearn: 0.3549144\ttotal: 191ms\tremaining: 44.8ms\n",
            "81:\tlearn: 0.3531340\ttotal: 193ms\tremaining: 42.3ms\n",
            "82:\tlearn: 0.3522816\ttotal: 197ms\tremaining: 40.4ms\n",
            "83:\tlearn: 0.3512642\ttotal: 202ms\tremaining: 38.6ms\n",
            "84:\tlearn: 0.3497196\ttotal: 207ms\tremaining: 36.4ms\n",
            "85:\tlearn: 0.3484852\ttotal: 210ms\tremaining: 34.3ms\n",
            "86:\tlearn: 0.3468923\ttotal: 212ms\tremaining: 31.7ms\n",
            "87:\tlearn: 0.3449619\ttotal: 214ms\tremaining: 29.2ms\n",
            "88:\tlearn: 0.3434390\ttotal: 216ms\tremaining: 26.7ms\n",
            "89:\tlearn: 0.3423748\ttotal: 218ms\tremaining: 24.2ms\n",
            "90:\tlearn: 0.3413861\ttotal: 220ms\tremaining: 21.8ms\n",
            "91:\tlearn: 0.3406856\ttotal: 222ms\tremaining: 19.3ms\n",
            "92:\tlearn: 0.3398277\ttotal: 224ms\tremaining: 16.9ms\n",
            "93:\tlearn: 0.3390233\ttotal: 226ms\tremaining: 14.4ms\n",
            "94:\tlearn: 0.3375189\ttotal: 228ms\tremaining: 12ms\n",
            "95:\tlearn: 0.3364950\ttotal: 231ms\tremaining: 9.61ms\n",
            "96:\tlearn: 0.3353515\ttotal: 233ms\tremaining: 7.22ms\n",
            "97:\tlearn: 0.3339362\ttotal: 235ms\tremaining: 4.8ms\n",
            "98:\tlearn: 0.3326615\ttotal: 237ms\tremaining: 2.39ms\n",
            "99:\tlearn: 0.3316400\ttotal: 239ms\tremaining: 0us\n",
            "Accuracy: 0.7552083333333334\n",
            "              precision    recall  f1-score   support\n",
            "\n",
            "           0       0.81      0.81      0.81       123\n",
            "           1       0.66      0.65      0.66        69\n",
            "\n",
            "    accuracy                           0.76       192\n",
            "   macro avg       0.73      0.73      0.73       192\n",
            "weighted avg       0.75      0.76      0.75       192\n",
            "\n",
            "Confusion Matrix:\n",
            "[[100  23]\n",
            " [ 24  45]]\n"
          ]
        }
      ]
    },
    {
      "cell_type": "markdown",
      "source": [
        "Построим ROC кривую нашей модели, чтобы визуально оценить ее производительность"
      ],
      "metadata": {
        "id": "u39YwU80TeWY"
      }
    },
    {
      "cell_type": "code",
      "execution_count": 19,
      "metadata": {
        "colab": {
          "base_uri": "https://localhost:8080/",
          "height": 564
        },
        "id": "s7h5Ofj9kqgW",
        "outputId": "49dff392-5383-4366-cfc1-861d22e05c7c"
      },
      "outputs": [
        {
          "output_type": "display_data",
          "data": {
            "text/plain": [
              "<Figure size 800x600 with 1 Axes>"
            ],
            "image/png": "[encoded data removed]"
          },
          "metadata": {}
        }
      ],
      "source": [
        "from sklearn.metrics import roc_curve, roc_auc_score\n",
        "import matplotlib.pyplot as plt\n",
        "\n",
        "y_pred_proba = model.predict_proba(X_test)[:, 1]\n",
        "\n",
        "positive_class_index = 1\n",
        "negative_class_index = 0\n",
        "\n",
        "fpr_pos, tpr_pos, thresholds_pos = roc_curve(y_test, y_pred_proba, pos_label=positive_class_index)\n",
        "fpr_neg, tpr_neg, thresholds_neg = roc_curve(y_test, 1 - y_pred_proba, pos_label=negative_class_index)\n",
        "\n",
        "plt.figure(figsize=(8, 6))\n",
        "plt.plot(fpr_pos, tpr_pos, color='blue', lw=2, label='ROC curve (Class 1)')\n",
        "plt.plot(fpr_neg, tpr_neg, color='green', lw=2, label='ROC curve (Class 0)')\n",
        "plt.plot([0, 1], [0, 1], color='red', linestyle='--')\n",
        "plt.xlabel('False Positive Rate')\n",
        "plt.ylabel('True Positive Rate')\n",
        "plt.title('ROC Curves for Each Class')\n",
        "plt.legend()\n",
        "plt.show()"
      ]
    },
    {
      "cell_type": "markdown",
      "source": [
        "##Исследование модели предсказания диабета позволяет сделать несколько ключевых выводов:\n",
        "\n",
        "1. Производительность модели: Модель демонстрирует довольно неплохую производительность с точностью около 80%. Однако, есть некоторое количество ложных предсказаний.\n",
        "\n",
        "2. Классификация: Модель способна правильно классифицировать большинство случаев, но имеет тенденцию совершать ошибки в предсказании положительных случаев (что не очень хорошо :) )"
      ],
      "metadata": {
        "id": "Pht7WdTfS_I3"
      }
    },
    {
      "cell_type": "code",
      "source": [],
      "metadata": {
        "id": "2WzMhAqLqhxf"
      },
      "execution_count": null,
      "outputs": []
    }
  ],
  "metadata": {
    "colab": {
      "provenance": [],
      "include_colab_link": true
    },
    "kernelspec": {
      "display_name": "Python 3 (ipykernel)",
      "language": "python",
      "name": "python3"
    },
    "language_info": {
      "codemirror_mode": {
        "name": "ipython",
        "version": 3
      },
      "file_extension": ".py",
      "mimetype": "text/x-python",
      "name": "python",
      "nbconvert_exporter": "python",
      "pygments_lexer": "ipython3",
      "version": "3.11.2"
    },
    "widgets": {
      "application/vnd.jupyter.widget-state+json": {
        "c31afb6d8cb04174aba11f96d7aeee27": {
          "model_module": "catboost-widget",
          "model_name": "CatboostWidgetModel",
          "model_module_version": "^1.0.0",
          "state": {
            "_dom_classes": [],
            "_model_module": "catboost-widget",
            "_model_module_version": "^1.0.0",
            "_model_name": "CatboostWidgetModel",
            "_view_count": null,
            "_view_module": "catboost-widget",
            "_view_module_version": "^1.0.0",
            "_view_name": "CatboostWidgetView",
            "data": {
              "catboost_info": {
                "path": "catboost_info",
                "name": "catboost_info",
                "content": {
                  "passed_iterations": 499,
                  "total_iterations": 500,
                  "data": {
                    "iterations": [
                      {
                        "learn": [
                          0.6732558674
                        ],
                        "iteration": 0,
                        "passed_time": 0.04829224733,
                        "remaining_time": 24.09783142,
                        "test": [
                          0.6783134642
                        ]
                      },
                      {
                        "learn": [
                          0.6563981374
                        ],
                        "iteration": 1,
                        "passed_time": 0.04938659213,
                        "remaining_time": 12.29726144,
                        "test": [
                          0.6639545204
                        ]
                      },
                      {
                        "learn": [
                          0.639594131
                        ],
                        "iteration": 2,
                        "passed_time": 0.05040384481,
                        "remaining_time": 8.350236956,
                        "test": [
                          0.6501954534
                        ]
                      },
                      {
                        "learn": [
                          0.6300120884
                        ],
                        "iteration": 3,
                        "passed_time": 0.0514355872,
                        "remaining_time": 6.378012813,
                        "test": [
                          0.6424875751
                        ]
                      },
                      {
                        "learn": [
                          0.6157595317
                        ],
                        "iteration": 4,
                        "passed_time": 0.05245316624,
                        "remaining_time": 5.192863457,
                        "test": [
                          0.63172879
                        ]
                      },
                      {
                        "learn": [
                          0.6043902503
                        ],
                        "iteration": 5,
                        "passed_time": 0.0534974702,
                        "remaining_time": 4.404625046,
                        "test": [
                          0.6239955257
                        ]
                      },
                      {
                        "learn": [
                          0.5915195147
                        ],
                        "iteration": 6,
                        "passed_time": 0.05450392855,
                        "remaining_time": 3.838633825,
                        "test": [
                          0.6127016474
                        ]
                      },
                      {
                        "learn": [
                          0.5782815086
                        ],
                        "iteration": 7,
                        "passed_time": 0.05549929348,
                        "remaining_time": 3.413206549,
                        "test": [
                          0.6036692281
                        ]
                      },
                      {
                        "learn": [
                          0.566412237
                        ],
                        "iteration": 8,
                        "passed_time": 0.0565122426,
                        "remaining_time": 3.083056791,
                        "test": [
                          0.5952322545
                        ]
                      },
                      {
                        "learn": [
                          0.5565565957
                        ],
                        "iteration": 9,
                        "passed_time": 0.05753398337,
                        "remaining_time": 2.819165185,
                        "test": [
                          0.5864571192
                        ]
                      },
                      {
                        "learn": [
                          0.5488011042
                        ],
                        "iteration": 10,
                        "passed_time": 0.05854286622,
                        "remaining_time": 2.602496507,
                        "test": [
                          0.5808144465
                        ]
                      },
                      {
                        "learn": [
                          0.5378177961
                        ],
                        "iteration": 11,
                        "passed_time": 0.05955711987,
                        "remaining_time": 2.421989541,
                        "test": [
                          0.5722763251
                        ]
                      },
                      {
                        "learn": [
                          0.5308059057
                        ],
                        "iteration": 12,
                        "passed_time": 0.06055718925,
                        "remaining_time": 2.268565474,
                        "test": [
                          0.5669572447
                        ]
                      },
                      {
                        "learn": [
                          0.5229313638
                        ],
                        "iteration": 13,
                        "passed_time": 0.06157726096,
                        "remaining_time": 2.137610631,
                        "test": [
                          0.5609768361
                        ]
                      },
                      {
                        "learn": [
                          0.514787462
                        ],
                        "iteration": 14,
                        "passed_time": 0.06257094683,
                        "remaining_time": 2.023127281,
                        "test": [
                          0.5529137263
                        ]
                      },
                      {
                        "learn": [
                          0.5096430249
                        ],
                        "iteration": 15,
                        "passed_time": 0.06355958098,
                        "remaining_time": 1.922677325,
                        "test": [
                          0.5493806975
                        ]
                      },
                      {
                        "learn": [
                          0.5032227834
                        ],
                        "iteration": 16,
                        "passed_time": 0.06456967017,
                        "remaining_time": 1.834538276,
                        "test": [
                          0.5459925715
                        ]
                      },
                      {
                        "learn": [
                          0.495669206
                        ],
                        "iteration": 17,
                        "passed_time": 0.06563167651,
                        "remaining_time": 1.757470449,
                        "test": [
                          0.5401226119
                        ]
                      },
                      {
                        "learn": [
                          0.4919164975
                        ],
                        "iteration": 18,
                        "passed_time": 0.06664047299,
                        "remaining_time": 1.687056185,
                        "test": [
                          0.5383862638
                        ]
                      },
                      {
                        "learn": [
                          0.486322244
                        ],
                        "iteration": 19,
                        "passed_time": 0.06769877759,
                        "remaining_time": 1.624770662,
                        "test": [
                          0.5347715445
                        ]
                      },
                      {
                        "learn": [
                          0.4835870531
                        ],
                        "iteration": 20,
                        "passed_time": 0.06929655246,
                        "remaining_time": 1.580621363,
                        "test": [
                          0.5333789946
                        ]
                      },
                      {
                        "learn": [
                          0.4790870878
                        ],
                        "iteration": 21,
                        "passed_time": 0.07034724176,
                        "remaining_time": 1.528453707,
                        "test": [
                          0.5311233998
                        ]
                      },
                      {
                        "learn": [
                          0.4759724935
                        ],
                        "iteration": 22,
                        "passed_time": 0.07138860851,
                        "remaining_time": 1.480537663,
                        "test": [
                          0.5280763148
                        ]
                      },
                      {
                        "learn": [
                          0.4721769757
                        ],
                        "iteration": 23,
                        "passed_time": 0.0724331261,
                        "remaining_time": 1.436590334,
                        "test": [
                          0.5265672723
                        ]
                      },
                      {
                        "learn": [
                          0.4680285454
                        ],
                        "iteration": 24,
                        "passed_time": 0.07348308904,
                        "remaining_time": 1.396178692,
                        "test": [
                          0.5252169116
                        ]
                      },
                      {
                        "learn": [
                          0.464246432
                        ],
                        "iteration": 25,
                        "passed_time": 0.07452176857,
                        "remaining_time": 1.358589166,
                        "test": [
                          0.5247729323
                        ]
                      },
                      {
                        "learn": [
                          0.4608557489
                        ],
                        "iteration": 26,
                        "passed_time": 0.07554355571,
                        "remaining_time": 1.32341118,
                        "test": [
                          0.522669041
                        ]
                      },
                      {
                        "learn": [
                          0.4566133817
                        ],
                        "iteration": 27,
                        "passed_time": 0.07657114637,
                        "remaining_time": 1.290770753,
                        "test": [
                          0.5198504604
                        ]
                      },
                      {
                        "learn": [
                          0.4539101919
                        ],
                        "iteration": 28,
                        "passed_time": 0.07757354752,
                        "remaining_time": 1.25990141,
                        "test": [
                          0.519060872
                        ]
                      },
                      {
                        "learn": [
                          0.4498311679
                        ],
                        "iteration": 29,
                        "passed_time": 0.07860942256,
                        "remaining_time": 1.23154762,
                        "test": [
                          0.5177896947
                        ]
                      },
                      {
                        "learn": [
                          0.4475509855
                        ],
                        "iteration": 30,
                        "passed_time": 0.07963106879,
                        "remaining_time": 1.204741008,
                        "test": [
                          0.5166341407
                        ]
                      },
                      {
                        "learn": [
                          0.4441378911
                        ],
                        "iteration": 31,
                        "passed_time": 0.08087588335,
                        "remaining_time": 1.182809794,
                        "test": [
                          0.514584712
                        ]
                      },
                      {
                        "learn": [
                          0.440842496
                        ],
                        "iteration": 32,
                        "passed_time": 0.08190694302,
                        "remaining_time": 1.159107345,
                        "test": [
                          0.5124777218
                        ]
                      },
                      {
                        "learn": [
                          0.4378450182
                        ],
                        "iteration": 33,
                        "passed_time": 0.08292378662,
                        "remaining_time": 1.136543664,
                        "test": [
                          0.5114549613
                        ]
                      },
                      {
                        "learn": [
                          0.4353560077
                        ],
                        "iteration": 34,
                        "passed_time": 0.08395260816,
                        "remaining_time": 1.115370366,
                        "test": [
                          0.5100342654
                        ]
                      },
                      {
                        "learn": [
                          0.4332116445
                        ],
                        "iteration": 35,
                        "passed_time": 0.0849644864,
                        "remaining_time": 1.095097825,
                        "test": [
                          0.5094016721
                        ]
                      },
                      {
                        "learn": [
                          0.4307075606
                        ],
                        "iteration": 36,
                        "passed_time": 0.08598185908,
                        "remaining_time": 1.075935155,
                        "test": [
                          0.5091432413
                        ]
                      },
                      {
                        "learn": [
                          0.427779807
                        ],
                        "iteration": 37,
                        "passed_time": 0.08698858378,
                        "remaining_time": 1.057598045,
                        "test": [
                          0.5075742659
                        ]
                      },
                      {
                        "learn": [
                          0.425788482
                        ],
                        "iteration": 38,
                        "passed_time": 0.08799744935,
                        "remaining_time": 1.040174978,
                        "test": [
                          0.5075924912
                        ]
                      },
                      {
                        "learn": [
                          0.4233262539
                        ],
                        "iteration": 39,
                        "passed_time": 0.08901698653,
                        "remaining_time": 1.023695345,
                        "test": [
                          0.5067299449
                        ]
                      },
                      {
                        "learn": [
                          0.4205210739
                        ],
                        "iteration": 40,
                        "passed_time": 0.09006111323,
                        "remaining_time": 1.008245146,
                        "test": [
                          0.5050355647
                        ]
                      },
                      {
                        "learn": [
                          0.4181594319
                        ],
                        "iteration": 41,
                        "passed_time": 0.09110161909,
                        "remaining_time": 0.9934414653,
                        "test": [
                          0.5053603168
                        ]
                      },
                      {
                        "learn": [
                          0.4168276787
                        ],
                        "iteration": 42,
                        "passed_time": 0.09212204534,
                        "remaining_time": 0.9790645284,
                        "test": [
                          0.5044198864
                        ]
                      },
                      {
                        "learn": [
                          0.4148464468
                        ],
                        "iteration": 43,
                        "passed_time": 0.0931281946,
                        "remaining_time": 0.965146744,
                        "test": [
                          0.5035888638
                        ]
                      },
                      {
                        "learn": [
                          0.4126323064
                        ],
                        "iteration": 44,
                        "passed_time": 0.09413367206,
                        "remaining_time": 0.9517960175,
                        "test": [
                          0.5024138872
                        ]
                      },
                      {
                        "learn": [
                          0.4117877748
                        ],
                        "iteration": 45,
                        "passed_time": 0.09519908924,
                        "remaining_time": 0.9395736199,
                        "test": [
                          0.5022377524
                        ]
                      },
                      {
                        "learn": [
                          0.4103884697
                        ],
                        "iteration": 46,
                        "passed_time": 0.09622152091,
                        "remaining_time": 0.9274116802,
                        "test": [
                          0.5015533998
                        ]
                      },
                      {
                        "learn": [
                          0.4080973201
                        ],
                        "iteration": 47,
                        "passed_time": 0.09722466659,
                        "remaining_time": 0.9155322771,
                        "test": [
                          0.5016800225
                        ]
                      },
                      {
                        "learn": [
                          0.4064584308
                        ],
                        "iteration": 48,
                        "passed_time": 0.09824584556,
                        "remaining_time": 0.9042627826,
                        "test": [
                          0.5017889106
                        ]
                      },
                      {
                        "learn": [
                          0.4051815139
                        ],
                        "iteration": 49,
                        "passed_time": 0.09926137463,
                        "remaining_time": 0.8933523717,
                        "test": [
                          0.5013501314
                        ]
                      },
                      {
                        "learn": [
                          0.4030851788
                        ],
                        "iteration": 50,
                        "passed_time": 0.100274061,
                        "remaining_time": 0.8828049688,
                        "test": [
                          0.5009673436
                        ]
                      },
                      {
                        "learn": [
                          0.4007146888
                        ],
                        "iteration": 51,
                        "passed_time": 0.1012981454,
                        "remaining_time": 0.8727224835,
                        "test": [
                          0.50139713
                        ]
                      },
                      {
                        "learn": [
                          0.3993501663
                        ],
                        "iteration": 52,
                        "passed_time": 0.1023138617,
                        "remaining_time": 0.8629112491,
                        "test": [
                          0.5008496846
                        ]
                      },
                      {
                        "learn": [
                          0.3982535203
                        ],
                        "iteration": 53,
                        "passed_time": 0.1033356925,
                        "remaining_time": 0.8534762752,
                        "test": [
                          0.5003711795
                        ]
                      },
                      {
                        "learn": [
                          0.3963927693
                        ],
                        "iteration": 54,
                        "passed_time": 0.1043557761,
                        "remaining_time": 0.8443330971,
                        "test": [
                          0.5005311496
                        ]
                      },
                      {
                        "learn": [
                          0.3946856393
                        ],
                        "iteration": 55,
                        "passed_time": 0.1053635589,
                        "remaining_time": 0.8353825028,
                        "test": [
                          0.5002903504
                        ]
                      },
                      {
                        "learn": [
                          0.3930234379
                        ],
                        "iteration": 56,
                        "passed_time": 0.1064024694,
                        "remaining_time": 0.8269525249,
                        "test": [
                          0.5002580343
                        ]
                      },
                      {
                        "learn": [
                          0.3917020957
                        ],
                        "iteration": 57,
                        "passed_time": 0.1074124576,
                        "remaining_time": 0.8185570047,
                        "test": [
                          0.5005173919
                        ]
                      },
                      {
                        "learn": [
                          0.3898044427
                        ],
                        "iteration": 58,
                        "passed_time": 0.1086668884,
                        "remaining_time": 0.8122389452,
                        "test": [
                          0.5010291938
                        ]
                      },
                      {
                        "learn": [
                          0.3878307607
                        ],
                        "iteration": 59,
                        "passed_time": 0.1101901547,
                        "remaining_time": 0.8080611345,
                        "test": [
                          0.5003985237
                        ]
                      },
                      {
                        "learn": [
                          0.3866126802
                        ],
                        "iteration": 60,
                        "passed_time": 0.1115421762,
                        "remaining_time": 0.8027379569,
                        "test": [
                          0.499794253
                        ]
                      },
                      {
                        "learn": [
                          0.3850828542
                        ],
                        "iteration": 61,
                        "passed_time": 0.1125592098,
                        "remaining_time": 0.7951763533,
                        "test": [
                          0.5005126942
                        ]
                      },
                      {
                        "learn": [
                          0.3823882739
                        ],
                        "iteration": 62,
                        "passed_time": 0.1135715572,
                        "remaining_time": 0.7877900075,
                        "test": [
                          0.501020207
                        ]
                      },
                      {
                        "learn": [
                          0.3804900381
                        ],
                        "iteration": 63,
                        "passed_time": 0.114599896,
                        "remaining_time": 0.7807117913,
                        "test": [
                          0.5016283982
                        ]
                      },
                      {
                        "learn": [
                          0.3794504537
                        ],
                        "iteration": 64,
                        "passed_time": 0.11563995,
                        "remaining_time": 0.7738981271,
                        "test": [
                          0.5015317657
                        ]
                      },
                      {
                        "learn": [
                          0.3784251213
                        ],
                        "iteration": 65,
                        "passed_time": 0.1166689861,
                        "remaining_time": 0.7671869692,
                        "test": [
                          0.501393479
                        ]
                      },
                      {
                        "learn": [
                          0.3773070176
                        ],
                        "iteration": 66,
                        "passed_time": 0.117712021,
                        "remaining_time": 0.7607358969,
                        "test": [
                          0.501019746
                        ]
                      },
                      {
                        "learn": [
                          0.3746676975
                        ],
                        "iteration": 67,
                        "passed_time": 0.1187364972,
                        "remaining_time": 0.7543259821,
                        "test": [
                          0.5010756707
                        ]
                      },
                      {
                        "learn": [
                          0.3737187386
                        ],
                        "iteration": 68,
                        "passed_time": 0.1197441491,
                        "remaining_time": 0.7479670765,
                        "test": [
                          0.5007879812
                        ]
                      },
                      {
                        "learn": [
                          0.3726161321
                        ],
                        "iteration": 69,
                        "passed_time": 0.1207548174,
                        "remaining_time": 0.7417795926,
                        "test": [
                          0.5006336868
                        ]
                      },
                      {
                        "learn": [
                          0.3717122873
                        ],
                        "iteration": 70,
                        "passed_time": 0.1217388889,
                        "remaining_time": 0.7355772302,
                        "test": [
                          0.5003505778
                        ]
                      },
                      {
                        "learn": [
                          0.3706203567
                        ],
                        "iteration": 71,
                        "passed_time": 0.1227362574,
                        "remaining_time": 0.7295988637,
                        "test": [
                          0.4996235583
                        ]
                      },
                      {
                        "learn": [
                          0.3697603014
                        ],
                        "iteration": 72,
                        "passed_time": 0.1237553646,
                        "remaining_time": 0.7238841191,
                        "test": [
                          0.499184628
                        ]
                      },
                      {
                        "learn": [
                          0.3687815136
                        ],
                        "iteration": 73,
                        "passed_time": 0.1247951878,
                        "remaining_time": 0.7184155404,
                        "test": [
                          0.499112252
                        ]
                      },
                      {
                        "learn": [
                          0.367085033
                        ],
                        "iteration": 74,
                        "passed_time": 0.1258130668,
                        "remaining_time": 0.7129407119,
                        "test": [
                          0.4997178622
                        ]
                      },
                      {
                        "learn": [
                          0.3653650284
                        ],
                        "iteration": 75,
                        "passed_time": 0.1269430818,
                        "remaining_time": 0.7082087722,
                        "test": [
                          0.4985503354
                        ]
                      },
                      {
                        "learn": [
                          0.36431649
                        ],
                        "iteration": 76,
                        "passed_time": 0.1279999582,
                        "remaining_time": 0.7031686018,
                        "test": [
                          0.4985203839
                        ]
                      },
                      {
                        "learn": [
                          0.363505125
                        ],
                        "iteration": 77,
                        "passed_time": 0.129024959,
                        "remaining_time": 0.6980581113,
                        "test": [
                          0.4990938705
                        ]
                      },
                      {
                        "learn": [
                          0.361177259
                        ],
                        "iteration": 78,
                        "passed_time": 0.1300895125,
                        "remaining_time": 0.6932618325,
                        "test": [
                          0.4994779782
                        ]
                      },
                      {
                        "learn": [
                          0.3589292367
                        ],
                        "iteration": 79,
                        "passed_time": 0.1311171577,
                        "remaining_time": 0.688365078,
                        "test": [
                          0.4993898613
                        ]
                      },
                      {
                        "learn": [
                          0.3577492502
                        ],
                        "iteration": 80,
                        "passed_time": 0.1321348304,
                        "remaining_time": 0.6835122708,
                        "test": [
                          0.4990296668
                        ]
                      },
                      {
                        "learn": [
                          0.3568880823
                        ],
                        "iteration": 81,
                        "passed_time": 0.1331380652,
                        "remaining_time": 0.6786794053,
                        "test": [
                          0.4990668259
                        ]
                      },
                      {
                        "learn": [
                          0.3553890122
                        ],
                        "iteration": 82,
                        "passed_time": 0.1341505443,
                        "remaining_time": 0.6739852647,
                        "test": [
                          0.4999785429
                        ]
                      },
                      {
                        "learn": [
                          0.3539801174
                        ],
                        "iteration": 83,
                        "passed_time": 0.1351697133,
                        "remaining_time": 0.6694119135,
                        "test": [
                          0.5002006396
                        ]
                      },
                      {
                        "learn": [
                          0.3535647392
                        ],
                        "iteration": 84,
                        "passed_time": 0.1361997848,
                        "remaining_time": 0.66497542,
                        "test": [
                          0.5002345281
                        ]
                      },
                      {
                        "learn": [
                          0.3525925742
                        ],
                        "iteration": 85,
                        "passed_time": 0.1372102776,
                        "remaining_time": 0.6605238947,
                        "test": [
                          0.4998065531
                        ]
                      },
                      {
                        "learn": [
                          0.3509043588
                        ],
                        "iteration": 86,
                        "passed_time": 0.1382293576,
                        "remaining_time": 0.6561922376,
                        "test": [
                          0.5011017348
                        ]
                      },
                      {
                        "learn": [
                          0.3488835759
                        ],
                        "iteration": 87,
                        "passed_time": 0.1392247598,
                        "remaining_time": 0.6518250116,
                        "test": [
                          0.5018592444
                        ]
                      },
                      {
                        "learn": [
                          0.3473936452
                        ],
                        "iteration": 88,
                        "passed_time": 0.1402419761,
                        "remaining_time": 0.647634294,
                        "test": [
                          0.5011874131
                        ]
                      },
                      {
                        "learn": [
                          0.3467335701
                        ],
                        "iteration": 89,
                        "passed_time": 0.1412503835,
                        "remaining_time": 0.6434739691,
                        "test": [
                          0.5009512708
                        ]
                      },
                      {
                        "learn": [
                          0.3451162444
                        ],
                        "iteration": 90,
                        "passed_time": 0.1422787996,
                        "remaining_time": 0.6394728464,
                        "test": [
                          0.5004160577
                        ]
                      },
                      {
                        "learn": [
                          0.3443640603
                        ],
                        "iteration": 91,
                        "passed_time": 0.1432683473,
                        "remaining_time": 0.6353639751,
                        "test": [
                          0.500783712
                        ]
                      },
                      {
                        "learn": [
                          0.3428235054
                        ],
                        "iteration": 92,
                        "passed_time": 0.1442886945,
                        "remaining_time": 0.6314569748,
                        "test": [
                          0.5006861623
                        ]
                      },
                      {
                        "learn": [
                          0.341757218
                        ],
                        "iteration": 93,
                        "passed_time": 0.1460787429,
                        "remaining_time": 0.6309358468,
                        "test": [
                          0.5008331045
                        ]
                      },
                      {
                        "learn": [
                          0.3408222728
                        ],
                        "iteration": 94,
                        "passed_time": 0.1470880657,
                        "remaining_time": 0.6270596485,
                        "test": [
                          0.5014632322
                        ]
                      },
                      {
                        "learn": [
                          0.3399022155
                        ],
                        "iteration": 95,
                        "passed_time": 0.1480974122,
                        "remaining_time": 0.6232432762,
                        "test": [
                          0.5012823972
                        ]
                      },
                      {
                        "learn": [
                          0.3386419614
                        ],
                        "iteration": 96,
                        "passed_time": 0.1491145539,
                        "remaining_time": 0.6195171674,
                        "test": [
                          0.5020471614
                        ]
                      },
                      {
                        "learn": [
                          0.3376624849
                        ],
                        "iteration": 97,
                        "passed_time": 0.150123555,
                        "remaining_time": 0.6158129499,
                        "test": [
                          0.5027609901
                        ]
                      },
                      {
                        "learn": [
                          0.3359503746
                        ],
                        "iteration": 98,
                        "passed_time": 0.1511515556,
                        "remaining_time": 0.6122401394,
                        "test": [
                          0.5029656727
                        ]
                      },
                      {
                        "learn": [
                          0.334735526
                        ],
                        "iteration": 99,
                        "passed_time": 0.1521488932,
                        "remaining_time": 0.6085955729,
                        "test": [
                          0.5031848825
                        ]
                      },
                      {
                        "learn": [
                          0.3339969582
                        ],
                        "iteration": 100,
                        "passed_time": 0.1531610933,
                        "remaining_time": 0.6050621407,
                        "test": [
                          0.5036626211
                        ]
                      },
                      {
                        "learn": [
                          0.3321848445
                        ],
                        "iteration": 101,
                        "passed_time": 0.15766339,
                        "remaining_time": 0.6151963649,
                        "test": [
                          0.5032993476
                        ]
                      },
                      {
                        "learn": [
                          0.3307946523
                        ],
                        "iteration": 102,
                        "passed_time": 0.1588855268,
                        "remaining_time": 0.6124034383,
                        "test": [
                          0.5041323355
                        ]
                      },
                      {
                        "learn": [
                          0.3294318517
                        ],
                        "iteration": 103,
                        "passed_time": 0.1599060194,
                        "remaining_time": 0.6088729201,
                        "test": [
                          0.5048717099
                        ]
                      },
                      {
                        "learn": [
                          0.3285329342
                        ],
                        "iteration": 104,
                        "passed_time": 0.1609304174,
                        "remaining_time": 0.6054049036,
                        "test": [
                          0.5050091239
                        ]
                      },
                      {
                        "learn": [
                          0.327776485
                        ],
                        "iteration": 105,
                        "passed_time": 0.1619659434,
                        "remaining_time": 0.6020243556,
                        "test": [
                          0.5053693602
                        ]
                      },
                      {
                        "learn": [
                          0.327114847
                        ],
                        "iteration": 106,
                        "passed_time": 0.1630609545,
                        "remaining_time": 0.5989061227,
                        "test": [
                          0.5045435844
                        ]
                      },
                      {
                        "learn": [
                          0.3255416817
                        ],
                        "iteration": 107,
                        "passed_time": 0.1640712301,
                        "remaining_time": 0.595517798,
                        "test": [
                          0.505561284
                        ]
                      },
                      {
                        "learn": [
                          0.3249736892
                        ],
                        "iteration": 108,
                        "passed_time": 0.1650909391,
                        "remaining_time": 0.5922069465,
                        "test": [
                          0.5056033685
                        ]
                      },
                      {
                        "learn": [
                          0.3242579566
                        ],
                        "iteration": 109,
                        "passed_time": 0.1661606216,
                        "remaining_time": 0.5891149312,
                        "test": [
                          0.5059008124
                        ]
                      },
                      {
                        "learn": [
                          0.3231446213
                        ],
                        "iteration": 110,
                        "passed_time": 0.1671731917,
                        "remaining_time": 0.5858592032,
                        "test": [
                          0.5067396914
                        ]
                      },
                      {
                        "learn": [
                          0.3222955068
                        ],
                        "iteration": 111,
                        "passed_time": 0.1681711493,
                        "remaining_time": 0.58259291,
                        "test": [
                          0.5063780428
                        ]
                      },
                      {
                        "learn": [
                          0.320552614
                        ],
                        "iteration": 112,
                        "passed_time": 0.1691687332,
                        "remaining_time": 0.5793654846,
                        "test": [
                          0.5062302126
                        ]
                      },
                      {
                        "learn": [
                          0.3195660644
                        ],
                        "iteration": 113,
                        "passed_time": 0.1701924694,
                        "remaining_time": 0.5762657298,
                        "test": [
                          0.5068767701
                        ]
                      },
                      {
                        "learn": [
                          0.3190611468
                        ],
                        "iteration": 114,
                        "passed_time": 0.1711952333,
                        "remaining_time": 0.573131868,
                        "test": [
                          0.5069664547
                        ]
                      },
                      {
                        "learn": [
                          0.3179035187
                        ],
                        "iteration": 115,
                        "passed_time": 0.1722609214,
                        "remaining_time": 0.5702430501,
                        "test": [
                          0.5070106899
                        ]
                      },
                      {
                        "learn": [
                          0.3169490231
                        ],
                        "iteration": 116,
                        "passed_time": 0.1732735651,
                        "remaining_time": 0.5672117557,
                        "test": [
                          0.507588156
                        ]
                      },
                      {
                        "learn": [
                          0.3166782591
                        ],
                        "iteration": 117,
                        "passed_time": 0.1742856224,
                        "remaining_time": 0.5642127776,
                        "test": [
                          0.5076083802
                        ]
                      },
                      {
                        "learn": [
                          0.3159197966
                        ],
                        "iteration": 118,
                        "passed_time": 0.1753128985,
                        "remaining_time": 0.5612959188,
                        "test": [
                          0.5085688101
                        ]
                      },
                      {
                        "learn": [
                          0.315075371
                        ],
                        "iteration": 119,
                        "passed_time": 0.1763115879,
                        "remaining_time": 0.5583200284,
                        "test": [
                          0.5087204361
                        ]
                      },
                      {
                        "learn": [
                          0.3147638904
                        ],
                        "iteration": 120,
                        "passed_time": 0.1773238534,
                        "remaining_time": 0.5554193426,
                        "test": [
                          0.5088045312
                        ]
                      },
                      {
                        "learn": [
                          0.3134542571
                        ],
                        "iteration": 121,
                        "passed_time": 0.1783285654,
                        "remaining_time": 0.552526211,
                        "test": [
                          0.5079622557
                        ]
                      },
                      {
                        "learn": [
                          0.3130526013
                        ],
                        "iteration": 122,
                        "passed_time": 0.1793242576,
                        "remaining_time": 0.5496361393,
                        "test": [
                          0.507800141
                        ]
                      },
                      {
                        "learn": [
                          0.311826494
                        ],
                        "iteration": 123,
                        "passed_time": 0.1803406676,
                        "remaining_time": 0.5468394437,
                        "test": [
                          0.5089929127
                        ]
                      },
                      {
                        "learn": [
                          0.3112653097
                        ],
                        "iteration": 124,
                        "passed_time": 0.181334338,
                        "remaining_time": 0.5440030141,
                        "test": [
                          0.5095252456
                        ]
                      },
                      {
                        "learn": [
                          0.3103442987
                        ],
                        "iteration": 125,
                        "passed_time": 0.1823427927,
                        "remaining_time": 0.541239718,
                        "test": [
                          0.5091946834
                        ]
                      },
                      {
                        "learn": [
                          0.309237957
                        ],
                        "iteration": 126,
                        "passed_time": 0.1833419139,
                        "remaining_time": 0.5384766448,
                        "test": [
                          0.5081326852
                        ]
                      },
                      {
                        "learn": [
                          0.3088230557
                        ],
                        "iteration": 127,
                        "passed_time": 0.1843704127,
                        "remaining_time": 0.535826512,
                        "test": [
                          0.508493477
                        ]
                      },
                      {
                        "learn": [
                          0.3075624042
                        ],
                        "iteration": 128,
                        "passed_time": 0.1854641312,
                        "remaining_time": 0.5333890904,
                        "test": [
                          0.5094776279
                        ]
                      },
                      {
                        "learn": [
                          0.3065702915
                        ],
                        "iteration": 129,
                        "passed_time": 0.1865168977,
                        "remaining_time": 0.5308557858,
                        "test": [
                          0.5092711248
                        ]
                      },
                      {
                        "learn": [
                          0.305322965
                        ],
                        "iteration": 130,
                        "passed_time": 0.1875552727,
                        "remaining_time": 0.5283045467,
                        "test": [
                          0.5103640585
                        ]
                      },
                      {
                        "learn": [
                          0.3043103748
                        ],
                        "iteration": 131,
                        "passed_time": 0.1885916504,
                        "remaining_time": 0.5257706619,
                        "test": [
                          0.5105917395
                        ]
                      },
                      {
                        "learn": [
                          0.303703732
                        ],
                        "iteration": 132,
                        "passed_time": 0.1895970843,
                        "remaining_time": 0.5231739092,
                        "test": [
                          0.5099355592
                        ]
                      },
                      {
                        "learn": [
                          0.3027851846
                        ],
                        "iteration": 133,
                        "passed_time": 0.1906079716,
                        "remaining_time": 0.5206158031,
                        "test": [
                          0.5100796922
                        ]
                      },
                      {
                        "learn": [
                          0.3020484977
                        ],
                        "iteration": 134,
                        "passed_time": 0.1916166199,
                        "remaining_time": 0.518074565,
                        "test": [
                          0.5106669699
                        ]
                      },
                      {
                        "learn": [
                          0.3014122115
                        ],
                        "iteration": 135,
                        "passed_time": 0.1926351935,
                        "remaining_time": 0.5155824296,
                        "test": [
                          0.5104510503
                        ]
                      },
                      {
                        "learn": [
                          0.3010147148
                        ],
                        "iteration": 136,
                        "passed_time": 0.1936324356,
                        "remaining_time": 0.5130552857,
                        "test": [
                          0.5100028404
                        ]
                      },
                      {
                        "learn": [
                          0.3002167808
                        ],
                        "iteration": 137,
                        "passed_time": 0.1946882212,
                        "remaining_time": 0.5107038846,
                        "test": [
                          0.5092439302
                        ]
                      },
                      {
                        "learn": [
                          0.2991894616
                        ],
                        "iteration": 138,
                        "passed_time": 0.195780257,
                        "remaining_time": 0.5084652717,
                        "test": [
                          0.5086750876
                        ]
                      },
                      {
                        "learn": [
                          0.2985579173
                        ],
                        "iteration": 139,
                        "passed_time": 0.1967848517,
                        "remaining_time": 0.5060181901,
                        "test": [
                          0.5082217505
                        ]
                      },
                      {
                        "learn": [
                          0.2980320189
                        ],
                        "iteration": 140,
                        "passed_time": 0.1978084633,
                        "remaining_time": 0.5036399882,
                        "test": [
                          0.5086097159
                        ]
                      },
                      {
                        "learn": [
                          0.2972460323
                        ],
                        "iteration": 141,
                        "passed_time": 0.1988058837,
                        "remaining_time": 0.5012148335,
                        "test": [
                          0.5080416727
                        ]
                      },
                      {
                        "learn": [
                          0.2961865001
                        ],
                        "iteration": 142,
                        "passed_time": 0.1998584648,
                        "remaining_time": 0.4989473561,
                        "test": [
                          0.5089791824
                        ]
                      },
                      {
                        "learn": [
                          0.2951792081
                        ],
                        "iteration": 143,
                        "passed_time": 0.2009040932,
                        "remaining_time": 0.4966795639,
                        "test": [
                          0.5094290314
                        ]
                      },
                      {
                        "learn": [
                          0.2943855921
                        ],
                        "iteration": 144,
                        "passed_time": 0.2019056581,
                        "remaining_time": 0.494320749,
                        "test": [
                          0.5094934539
                        ]
                      },
                      {
                        "learn": [
                          0.2933077547
                        ],
                        "iteration": 145,
                        "passed_time": 0.2029114655,
                        "remaining_time": 0.4919908136,
                        "test": [
                          0.5100535709
                        ]
                      },
                      {
                        "learn": [
                          0.2924512757
                        ],
                        "iteration": 146,
                        "passed_time": 0.2039761427,
                        "remaining_time": 0.489820261,
                        "test": [
                          0.5095177961
                        ]
                      },
                      {
                        "learn": [
                          0.2920298047
                        ],
                        "iteration": 147,
                        "passed_time": 0.2049800029,
                        "remaining_time": 0.4875200069,
                        "test": [
                          0.5103114941
                        ]
                      },
                      {
                        "learn": [
                          0.2911878162
                        ],
                        "iteration": 148,
                        "passed_time": 0.205983764,
                        "remaining_time": 0.4852369207,
                        "test": [
                          0.5094243959
                        ]
                      },
                      {
                        "learn": [
                          0.2909931077
                        ],
                        "iteration": 149,
                        "passed_time": 0.2069807153,
                        "remaining_time": 0.4829550024,
                        "test": [
                          0.5097146647
                        ]
                      },
                      {
                        "learn": [
                          0.2901952002
                        ],
                        "iteration": 150,
                        "passed_time": 0.2079735585,
                        "remaining_time": 0.4806806086,
                        "test": [
                          0.5100517656
                        ]
                      },
                      {
                        "learn": [
                          0.2890923553
                        ],
                        "iteration": 151,
                        "passed_time": 0.2090552353,
                        "remaining_time": 0.4786264598,
                        "test": [
                          0.5109152048
                        ]
                      },
                      {
                        "learn": [
                          0.2882297039
                        ],
                        "iteration": 152,
                        "passed_time": 0.2101759605,
                        "remaining_time": 0.4766735836,
                        "test": [
                          0.511382658
                        ]
                      },
                      {
                        "learn": [
                          0.2876499494
                        ],
                        "iteration": 153,
                        "passed_time": 0.2111951395,
                        "remaining_time": 0.4745033654,
                        "test": [
                          0.5108222483
                        ]
                      },
                      {
                        "learn": [
                          0.286813736
                        ],
                        "iteration": 154,
                        "passed_time": 0.2122182221,
                        "remaining_time": 0.4723566879,
                        "test": [
                          0.5118681728
                        ]
                      },
                      {
                        "learn": [
                          0.2863756816
                        ],
                        "iteration": 155,
                        "passed_time": 0.2132144106,
                        "remaining_time": 0.4701651106,
                        "test": [
                          0.5118273337
                        ]
                      },
                      {
                        "learn": [
                          0.2851652039
                        ],
                        "iteration": 156,
                        "passed_time": 0.2142185908,
                        "remaining_time": 0.4680062208,
                        "test": [
                          0.5120454724
                        ]
                      },
                      {
                        "learn": [
                          0.2839839194
                        ],
                        "iteration": 157,
                        "passed_time": 0.215217143,
                        "remaining_time": 0.4658497652,
                        "test": [
                          0.5128113471
                        ]
                      },
                      {
                        "learn": [
                          0.2837284141
                        ],
                        "iteration": 158,
                        "passed_time": 0.2162212132,
                        "remaining_time": 0.4637197088,
                        "test": [
                          0.512201738
                        ]
                      },
                      {
                        "learn": [
                          0.282922162
                        ],
                        "iteration": 159,
                        "passed_time": 0.2172156081,
                        "remaining_time": 0.4615831673,
                        "test": [
                          0.5125333001
                        ]
                      },
                      {
                        "learn": [
                          0.2822886043
                        ],
                        "iteration": 160,
                        "passed_time": 0.2182123976,
                        "remaining_time": 0.4594658558,
                        "test": [
                          0.5129060409
                        ]
                      },
                      {
                        "learn": [
                          0.2812222905
                        ],
                        "iteration": 161,
                        "passed_time": 0.2192185396,
                        "remaining_time": 0.4573818912,
                        "test": [
                          0.513125925
                        ]
                      },
                      {
                        "learn": [
                          0.2804506355
                        ],
                        "iteration": 162,
                        "passed_time": 0.2203020409,
                        "remaining_time": 0.4554710908,
                        "test": [
                          0.513436617
                        ]
                      },
                      {
                        "learn": [
                          0.2794300715
                        ],
                        "iteration": 163,
                        "passed_time": 0.2213497648,
                        "remaining_time": 0.4534970792,
                        "test": [
                          0.5138793013
                        ]
                      },
                      {
                        "learn": [
                          0.2783463796
                        ],
                        "iteration": 164,
                        "passed_time": 0.2223938752,
                        "remaining_time": 0.4515269587,
                        "test": [
                          0.5146082586
                        ]
                      },
                      {
                        "learn": [
                          0.2777670225
                        ],
                        "iteration": 165,
                        "passed_time": 0.2234039316,
                        "remaining_time": 0.4494994769,
                        "test": [
                          0.5145512995
                        ]
                      },
                      {
                        "learn": [
                          0.2770168516
                        ],
                        "iteration": 166,
                        "passed_time": 0.2243862923,
                        "remaining_time": 0.447428954,
                        "test": [
                          0.5139629391
                        ]
                      },
                      {
                        "learn": [
                          0.276638137
                        ],
                        "iteration": 167,
                        "passed_time": 0.2253683056,
                        "remaining_time": 0.4453706992,
                        "test": [
                          0.514104393
                        ]
                      },
                      {
                        "learn": [
                          0.2755106555
                        ],
                        "iteration": 168,
                        "passed_time": 0.2263719186,
                        "remaining_time": 0.4433674855,
                        "test": [
                          0.5142590005
                        ]
                      },
                      {
                        "learn": [
                          0.2746287452
                        ],
                        "iteration": 169,
                        "passed_time": 0.2273940994,
                        "remaining_time": 0.4414120752,
                        "test": [
                          0.5149474462
                        ]
                      },
                      {
                        "learn": [
                          0.273753643
                        ],
                        "iteration": 170,
                        "passed_time": 0.228429278,
                        "remaining_time": 0.4394925876,
                        "test": [
                          0.5156775075
                        ]
                      },
                      {
                        "learn": [
                          0.2730324003
                        ],
                        "iteration": 171,
                        "passed_time": 0.2294335982,
                        "remaining_time": 0.4375245362,
                        "test": [
                          0.5158451172
                        ]
                      },
                      {
                        "learn": [
                          0.2729590734
                        ],
                        "iteration": 172,
                        "passed_time": 0.2304263223,
                        "remaining_time": 0.4355457075,
                        "test": [
                          0.5158462641
                        ]
                      },
                      {
                        "learn": [
                          0.272447798
                        ],
                        "iteration": 173,
                        "passed_time": 0.2314250835,
                        "remaining_time": 0.4335895243,
                        "test": [
                          0.5158444542
                        ]
                      },
                      {
                        "learn": [
                          0.2712568707
                        ],
                        "iteration": 174,
                        "passed_time": 0.2324225857,
                        "remaining_time": 0.4316419449,
                        "test": [
                          0.5160452708
                        ]
                      },
                      {
                        "learn": [
                          0.2705446879
                        ],
                        "iteration": 175,
                        "passed_time": 0.2334235069,
                        "remaining_time": 0.4297114559,
                        "test": [
                          0.5173994728
                        ]
                      },
                      {
                        "learn": [
                          0.2701587677
                        ],
                        "iteration": 176,
                        "passed_time": 0.2344263244,
                        "remaining_time": 0.427794931,
                        "test": [
                          0.5172619633
                        ]
                      },
                      {
                        "learn": [
                          0.2696403662
                        ],
                        "iteration": 177,
                        "passed_time": 0.2354181167,
                        "remaining_time": 0.4258687279,
                        "test": [
                          0.5170846549
                        ]
                      },
                      {
                        "learn": [
                          0.2686282264
                        ],
                        "iteration": 178,
                        "passed_time": 0.236430744,
                        "remaining_time": 0.4239903286,
                        "test": [
                          0.5180714644
                        ]
                      },
                      {
                        "learn": [
                          0.2679613961
                        ],
                        "iteration": 179,
                        "passed_time": 0.2374211563,
                        "remaining_time": 0.4220820556,
                        "test": [
                          0.5188277007
                        ]
                      },
                      {
                        "learn": [
                          0.2672742738
                        ],
                        "iteration": 180,
                        "passed_time": 0.2384142322,
                        "remaining_time": 0.4201886191,
                        "test": [
                          0.5187540413
                        ]
                      },
                      {
                        "learn": [
                          0.2666328218
                        ],
                        "iteration": 181,
                        "passed_time": 0.2394537762,
                        "remaining_time": 0.4183862683,
                        "test": [
                          0.5193174128
                        ]
                      },
                      {
                        "learn": [
                          0.2656481001
                        ],
                        "iteration": 182,
                        "passed_time": 0.2404463039,
                        "remaining_time": 0.4165108106,
                        "test": [
                          0.5202820356
                        ]
                      },
                      {
                        "learn": [
                          0.2648714913
                        ],
                        "iteration": 183,
                        "passed_time": 0.2414538086,
                        "remaining_time": 0.4146706713,
                        "test": [
                          0.5209984963
                        ]
                      },
                      {
                        "learn": [
                          0.2642430729
                        ],
                        "iteration": 184,
                        "passed_time": 0.2424682886,
                        "remaining_time": 0.4128514104,
                        "test": [
                          0.5218633551
                        ]
                      },
                      {
                        "learn": [
                          0.2635542552
                        ],
                        "iteration": 185,
                        "passed_time": 0.2434786787,
                        "remaining_time": 0.4110338985,
                        "test": [
                          0.5225950812
                        ]
                      },
                      {
                        "learn": [
                          0.2630516158
                        ],
                        "iteration": 186,
                        "passed_time": 0.2444794354,
                        "remaining_time": 0.4092088945,
                        "test": [
                          0.5229908218
                        ]
                      },
                      {
                        "learn": [
                          0.2626825968
                        ],
                        "iteration": 187,
                        "passed_time": 0.2454714522,
                        "remaining_time": 0.4073781547,
                        "test": [
                          0.5232003417
                        ]
                      },
                      {
                        "learn": [
                          0.262333605
                        ],
                        "iteration": 188,
                        "passed_time": 0.2464728479,
                        "remaining_time": 0.4055717232,
                        "test": [
                          0.5234988514
                        ]
                      },
                      {
                        "learn": [
                          0.2620004548
                        ],
                        "iteration": 189,
                        "passed_time": 0.2474598003,
                        "remaining_time": 0.4037502004,
                        "test": [
                          0.5235293153
                        ]
                      },
                      {
                        "learn": [
                          0.2613850435
                        ],
                        "iteration": 190,
                        "passed_time": 0.2484683849,
                        "remaining_time": 0.4019724133,
                        "test": [
                          0.5243830232
                        ]
                      },
                      {
                        "learn": [
                          0.2604851193
                        ],
                        "iteration": 191,
                        "passed_time": 0.2494652144,
                        "remaining_time": 0.4001837814,
                        "test": [
                          0.5250271998
                        ]
                      },
                      {
                        "learn": [
                          0.2594813241
                        ],
                        "iteration": 192,
                        "passed_time": 0.25047239,
                        "remaining_time": 0.398419812,
                        "test": [
                          0.5258941668
                        ]
                      },
                      {
                        "learn": [
                          0.2582306332
                        ],
                        "iteration": 193,
                        "passed_time": 0.2514874282,
                        "remaining_time": 0.3966760465,
                        "test": [
                          0.5268359571
                        ]
                      },
                      {
                        "learn": [
                          0.2577295303
                        ],
                        "iteration": 194,
                        "passed_time": 0.2524886684,
                        "remaining_time": 0.3949181737,
                        "test": [
                          0.5260392555
                        ]
                      },
                      {
                        "learn": [
                          0.2569939295
                        ],
                        "iteration": 195,
                        "passed_time": 0.253508762,
                        "remaining_time": 0.3931972634,
                        "test": [
                          0.5263798961
                        ]
                      },
                      {
                        "learn": [
                          0.2565677166
                        ],
                        "iteration": 196,
                        "passed_time": 0.2545163666,
                        "remaining_time": 0.3914642593,
                        "test": [
                          0.5269544829
                        ]
                      },
                      {
                        "learn": [
                          0.2561266157
                        ],
                        "iteration": 197,
                        "passed_time": 0.2555134361,
                        "remaining_time": 0.3897225136,
                        "test": [
                          0.5271913452
                        ]
                      },
                      {
                        "learn": [
                          0.2555938562
                        ],
                        "iteration": 198,
                        "passed_time": 0.256522368,
                        "remaining_time": 0.3880061948,
                        "test": [
                          0.5264627492
                        ]
                      },
                      {
                        "learn": [
                          0.2550360892
                        ],
                        "iteration": 199,
                        "passed_time": 0.2575348326,
                        "remaining_time": 0.3863022489,
                        "test": [
                          0.5265599369
                        ]
                      },
                      {
                        "learn": [
                          0.254513979
                        ],
                        "iteration": 200,
                        "passed_time": 0.2593061068,
                        "remaining_time": 0.3857339598,
                        "test": [
                          0.5257515039
                        ]
                      },
                      {
                        "learn": [
                          0.2540453805
                        ],
                        "iteration": 201,
                        "passed_time": 0.2603599733,
                        "remaining_time": 0.3840954061,
                        "test": [
                          0.526584618
                        ]
                      },
                      {
                        "learn": [
                          0.2535523838
                        ],
                        "iteration": 202,
                        "passed_time": 0.2613821086,
                        "remaining_time": 0.3824161884,
                        "test": [
                          0.5265349882
                        ]
                      },
                      {
                        "learn": [
                          0.2528007825
                        ],
                        "iteration": 203,
                        "passed_time": 0.2624135083,
                        "remaining_time": 0.3807568551,
                        "test": [
                          0.526914883
                        ]
                      },
                      {
                        "learn": [
                          0.2522655593
                        ],
                        "iteration": 204,
                        "passed_time": 0.2634065251,
                        "remaining_time": 0.3790484141,
                        "test": [
                          0.5269179226
                        ]
                      },
                      {
                        "learn": [
                          0.2513919936
                        ],
                        "iteration": 205,
                        "passed_time": 0.264387883,
                        "remaining_time": 0.3773302796,
                        "test": [
                          0.5271522371
                        ]
                      },
                      {
                        "learn": [
                          0.2512594859
                        ],
                        "iteration": 206,
                        "passed_time": 0.2653621938,
                        "remaining_time": 0.3756092888,
                        "test": [
                          0.5273065193
                        ]
                      },
                      {
                        "learn": [
                          0.2506216102
                        ],
                        "iteration": 207,
                        "passed_time": 0.2663543888,
                        "remaining_time": 0.3739205843,
                        "test": [
                          0.5274600229
                        ]
                      },
                      {
                        "learn": [
                          0.2496823205
                        ],
                        "iteration": 208,
                        "passed_time": 0.267390972,
                        "remaining_time": 0.3723003486,
                        "test": [
                          0.5281189366
                        ]
                      },
                      {
                        "learn": [
                          0.2492217753
                        ],
                        "iteration": 209,
                        "passed_time": 0.2684292161,
                        "remaining_time": 0.3706879651,
                        "test": [
                          0.5274492431
                        ]
                      },
                      {
                        "learn": [
                          0.2485861778
                        ],
                        "iteration": 210,
                        "passed_time": 0.2694389762,
                        "remaining_time": 0.36904201,
                        "test": [
                          0.5279015962
                        ]
                      },
                      {
                        "learn": [
                          0.2479412821
                        ],
                        "iteration": 211,
                        "passed_time": 0.2704294985,
                        "remaining_time": 0.3673759225,
                        "test": [
                          0.5288827355
                        ]
                      },
                      {
                        "learn": [
                          0.2471087774
                        ],
                        "iteration": 212,
                        "passed_time": 0.271418109,
                        "remaining_time": 0.3657136023,
                        "test": [
                          0.530350353
                        ]
                      },
                      {
                        "learn": [
                          0.2467396789
                        ],
                        "iteration": 213,
                        "passed_time": 0.2724203874,
                        "remaining_time": 0.3640758449,
                        "test": [
                          0.5299134202
                        ]
                      },
                      {
                        "learn": [
                          0.2462946044
                        ],
                        "iteration": 214,
                        "passed_time": 0.2734103697,
                        "remaining_time": 0.3624276994,
                        "test": [
                          0.5310421115
                        ]
                      },
                      {
                        "learn": [
                          0.2460043695
                        ],
                        "iteration": 215,
                        "passed_time": 0.2743976648,
                        "remaining_time": 0.3607821148,
                        "test": [
                          0.5310664056
                        ]
                      },
                      {
                        "learn": [
                          0.2456651529
                        ],
                        "iteration": 216,
                        "passed_time": 0.2753996369,
                        "remaining_time": 0.3591617384,
                        "test": [
                          0.5317226314
                        ]
                      },
                      {
                        "learn": [
                          0.2450216611
                        ],
                        "iteration": 217,
                        "passed_time": 0.2764061307,
                        "remaining_time": 0.3575528846,
                        "test": [
                          0.532397474
                        ]
                      },
                      {
                        "learn": [
                          0.2444365289
                        ],
                        "iteration": 218,
                        "passed_time": 0.2774266615,
                        "remaining_time": 0.3559675428,
                        "test": [
                          0.5325381127
                        ]
                      },
                      {
                        "learn": [
                          0.2437701225
                        ],
                        "iteration": 219,
                        "passed_time": 0.2784668619,
                        "remaining_time": 0.3544123697,
                        "test": [
                          0.5325319701
                        ]
                      },
                      {
                        "learn": [
                          0.2427058485
                        ],
                        "iteration": 220,
                        "passed_time": 0.2794746938,
                        "remaining_time": 0.3528209936,
                        "test": [
                          0.5323517985
                        ]
                      },
                      {
                        "learn": [
                          0.2423800362
                        ],
                        "iteration": 221,
                        "passed_time": 0.2804578936,
                        "remaining_time": 0.3512040289,
                        "test": [
                          0.5325927054
                        ]
                      },
                      {
                        "learn": [
                          0.2420466741
                        ],
                        "iteration": 222,
                        "passed_time": 0.281462881,
                        "remaining_time": 0.3496198119,
                        "test": [
                          0.5326676373
                        ]
                      },
                      {
                        "learn": [
                          0.241651588
                        ],
                        "iteration": 223,
                        "passed_time": 0.2824707448,
                        "remaining_time": 0.3480443106,
                        "test": [
                          0.5328884037
                        ]
                      },
                      {
                        "learn": [
                          0.2414619393
                        ],
                        "iteration": 224,
                        "passed_time": 0.2834582226,
                        "remaining_time": 0.3464489387,
                        "test": [
                          0.5330518052
                        ]
                      },
                      {
                        "learn": [
                          0.2413093514
                        ],
                        "iteration": 225,
                        "passed_time": 0.2844388733,
                        "remaining_time": 0.3448506694,
                        "test": [
                          0.532920285
                        ]
                      },
                      {
                        "learn": [
                          0.2407955594
                        ],
                        "iteration": 226,
                        "passed_time": 0.2854596623,
                        "remaining_time": 0.3433061136,
                        "test": [
                          0.5328478605
                        ]
                      },
                      {
                        "learn": [
                          0.2397155232
                        ],
                        "iteration": 227,
                        "passed_time": 0.2864812303,
                        "remaining_time": 0.3417670818,
                        "test": [
                          0.5327499101
                        ]
                      },
                      {
                        "learn": [
                          0.2396357059
                        ],
                        "iteration": 228,
                        "passed_time": 0.2874795243,
                        "remaining_time": 0.3402050265,
                        "test": [
                          0.532652136
                        ]
                      },
                      {
                        "learn": [
                          0.2389092445
                        ],
                        "iteration": 229,
                        "passed_time": 0.2943061606,
                        "remaining_time": 0.3454898407,
                        "test": [
                          0.5322347468
                        ]
                      },
                      {
                        "learn": [
                          0.2385511398
                        ],
                        "iteration": 230,
                        "passed_time": 0.295264609,
                        "remaining_time": 0.3438362763,
                        "test": [
                          0.5328822872
                        ]
                      },
                      {
                        "learn": [
                          0.2379128668
                        ],
                        "iteration": 231,
                        "passed_time": 0.2961882181,
                        "remaining_time": 0.3421484588,
                        "test": [
                          0.5315640404
                        ]
                      },
                      {
                        "learn": [
                          0.2376588451
                        ],
                        "iteration": 232,
                        "passed_time": 0.2980765736,
                        "remaining_time": 0.341572726,
                        "test": [
                          0.5312620908
                        ]
                      },
                      {
                        "learn": [
                          0.2368142075
                        ],
                        "iteration": 233,
                        "passed_time": 0.2991097905,
                        "remaining_time": 0.3400136935,
                        "test": [
                          0.5328134167
                        ]
                      },
                      {
                        "learn": [
                          0.2363422712
                        ],
                        "iteration": 234,
                        "passed_time": 0.3001375684,
                        "remaining_time": 0.3384530027,
                        "test": [
                          0.5322042571
                        ]
                      },
                      {
                        "learn": [
                          0.2358331945
                        ],
                        "iteration": 235,
                        "passed_time": 0.3029602064,
                        "remaining_time": 0.3389046377,
                        "test": [
                          0.5327803148
                        ]
                      },
                      {
                        "learn": [
                          0.2353709009
                        ],
                        "iteration": 236,
                        "passed_time": 0.3039780991,
                        "remaining_time": 0.3373259074,
                        "test": [
                          0.5328848296
                        ]
                      },
                      {
                        "learn": [
                          0.2343850666
                        ],
                        "iteration": 237,
                        "passed_time": 0.3049853502,
                        "remaining_time": 0.3357401754,
                        "test": [
                          0.5331034851
                        ]
                      },
                      {
                        "learn": [
                          0.2328792678
                        ],
                        "iteration": 238,
                        "passed_time": 0.3060009265,
                        "remaining_time": 0.3341683758,
                        "test": [
                          0.5326327248
                        ]
                      },
                      {
                        "learn": [
                          0.2326378293
                        ],
                        "iteration": 239,
                        "passed_time": 0.3070682709,
                        "remaining_time": 0.3326572935,
                        "test": [
                          0.5323556733
                        ]
                      },
                      {
                        "learn": [
                          0.2311242951
                        ],
                        "iteration": 240,
                        "passed_time": 0.3081261755,
                        "remaining_time": 0.3311397488,
                        "test": [
                          0.5323682715
                        ]
                      },
                      {
                        "learn": [
                          0.2306647566
                        ],
                        "iteration": 241,
                        "passed_time": 0.309126904,
                        "remaining_time": 0.3295650464,
                        "test": [
                          0.5318717469
                        ]
                      },
                      {
                        "learn": [
                          0.2303474214
                        ],
                        "iteration": 242,
                        "passed_time": 0.3101716834,
                        "remaining_time": 0.3280416569,
                        "test": [
                          0.530924088
                        ]
                      },
                      {
                        "learn": [
                          0.2291463481
                        ],
                        "iteration": 243,
                        "passed_time": 0.3112020785,
                        "remaining_time": 0.3265070988,
                        "test": [
                          0.5320060713
                        ]
                      },
                      {
                        "learn": [
                          0.2290022108
                        ],
                        "iteration": 244,
                        "passed_time": 0.3122004261,
                        "remaining_time": 0.3249433007,
                        "test": [
                          0.5321162466
                        ]
                      },
                      {
                        "learn": [
                          0.2285267512
                        ],
                        "iteration": 245,
                        "passed_time": 0.3132105462,
                        "remaining_time": 0.3233962551,
                        "test": [
                          0.5327286667
                        ]
                      },
                      {
                        "learn": [
                          0.2280097008
                        ],
                        "iteration": 246,
                        "passed_time": 0.3142116247,
                        "remaining_time": 0.3218442957,
                        "test": [
                          0.5326055304
                        ]
                      },
                      {
                        "learn": [
                          0.2274287012
                        ],
                        "iteration": 247,
                        "passed_time": 0.3152240629,
                        "remaining_time": 0.320308322,
                        "test": [
                          0.5327426609
                        ]
                      },
                      {
                        "learn": [
                          0.226799753
                        ],
                        "iteration": 248,
                        "passed_time": 0.3163383782,
                        "remaining_time": 0.3188792487,
                        "test": [
                          0.5335628329
                        ]
                      },
                      {
                        "learn": [
                          0.2261034913
                        ],
                        "iteration": 249,
                        "passed_time": 0.3173860749,
                        "remaining_time": 0.3173860749,
                        "test": [
                          0.5339055262
                        ]
                      },
                      {
                        "learn": [
                          0.2253113323
                        ],
                        "iteration": 250,
                        "passed_time": 0.318405792,
                        "remaining_time": 0.3158686941,
                        "test": [
                          0.5349397291
                        ]
                      },
                      {
                        "learn": [
                          0.2244242032
                        ],
                        "iteration": 251,
                        "passed_time": 0.3194176394,
                        "remaining_time": 0.3143475181,
                        "test": [
                          0.536119275
                        ]
                      },
                      {
                        "learn": [
                          0.2237731616
                        ],
                        "iteration": 252,
                        "passed_time": 0.3204417701,
                        "remaining_time": 0.3128423605,
                        "test": [
                          0.5353963144
                        ]
                      },
                      {
                        "learn": [
                          0.2228029304
                        ],
                        "iteration": 253,
                        "passed_time": 0.3214421349,
                        "remaining_time": 0.3113179732,
                        "test": [
                          0.5365387242
                        ]
                      },
                      {
                        "learn": [
                          0.222127835
                        ],
                        "iteration": 254,
                        "passed_time": 0.3224586431,
                        "remaining_time": 0.3098132061,
                        "test": [
                          0.5372714772
                        ]
                      },
                      {
                        "learn": [
                          0.2217201922
                        ],
                        "iteration": 255,
                        "passed_time": 0.3234476663,
                        "remaining_time": 0.3082860569,
                        "test": [
                          0.5373438932
                        ]
                      },
                      {
                        "learn": [
                          0.2215071784
                        ],
                        "iteration": 256,
                        "passed_time": 0.324522976,
                        "remaining_time": 0.3068446816,
                        "test": [
                          0.5376092461
                        ]
                      },
                      {
                        "learn": [
                          0.2203856972
                        ],
                        "iteration": 257,
                        "passed_time": 0.3256007493,
                        "remaining_time": 0.3054084548,
                        "test": [
                          0.5382916884
                        ]
                      },
                      {
                        "learn": [
                          0.2198457056
                        ],
                        "iteration": 258,
                        "passed_time": 0.3266249582,
                        "remaining_time": 0.3039251542,
                        "test": [
                          0.5394802837
                        ]
                      },
                      {
                        "learn": [
                          0.2195161581
                        ],
                        "iteration": 259,
                        "passed_time": 0.3276784975,
                        "remaining_time": 0.3024724592,
                        "test": [
                          0.5392529216
                        ]
                      },
                      {
                        "learn": [
                          0.2182832294
                        ],
                        "iteration": 260,
                        "passed_time": 0.3286865421,
                        "remaining_time": 0.3009811631,
                        "test": [
                          0.5389243783
                        ]
                      },
                      {
                        "learn": [
                          0.2172069682
                        ],
                        "iteration": 261,
                        "passed_time": 0.3296897178,
                        "remaining_time": 0.299489133,
                        "test": [
                          0.5393382372
                        ]
                      },
                      {
                        "learn": [
                          0.2167154948
                        ],
                        "iteration": 262,
                        "passed_time": 0.3306923408,
                        "remaining_time": 0.2980003223,
                        "test": [
                          0.5396618773
                        ]
                      },
                      {
                        "learn": [
                          0.2155328327
                        ],
                        "iteration": 263,
                        "passed_time": 0.3316939738,
                        "remaining_time": 0.2965143099,
                        "test": [
                          0.539317681
                        ]
                      },
                      {
                        "learn": [
                          0.2147783836
                        ],
                        "iteration": 264,
                        "passed_time": 0.3326948631,
                        "remaining_time": 0.2950312937,
                        "test": [
                          0.5384007796
                        ]
                      },
                      {
                        "learn": [
                          0.2147262626
                        ],
                        "iteration": 265,
                        "passed_time": 0.3336769547,
                        "remaining_time": 0.2935353662,
                        "test": [
                          0.5382976437
                        ]
                      },
                      {
                        "learn": [
                          0.2143138117
                        ],
                        "iteration": 266,
                        "passed_time": 0.334690282,
                        "remaining_time": 0.2920705457,
                        "test": [
                          0.5376866805
                        ]
                      },
                      {
                        "learn": [
                          0.2141785489
                        ],
                        "iteration": 267,
                        "passed_time": 0.3356838806,
                        "remaining_time": 0.290592016,
                        "test": [
                          0.5379714791
                        ]
                      },
                      {
                        "learn": [
                          0.2139568594
                        ],
                        "iteration": 268,
                        "passed_time": 0.3366742102,
                        "remaining_time": 0.2891142846,
                        "test": [
                          0.5377647579
                        ]
                      },
                      {
                        "learn": [
                          0.2128561603
                        ],
                        "iteration": 269,
                        "passed_time": 0.3376869475,
                        "remaining_time": 0.2876592516,
                        "test": [
                          0.538439897
                        ]
                      },
                      {
                        "learn": [
                          0.2125258578
                        ],
                        "iteration": 270,
                        "passed_time": 0.3386786679,
                        "remaining_time": 0.2861897231,
                        "test": [
                          0.5388891934
                        ]
                      },
                      {
                        "learn": [
                          0.2120684915
                        ],
                        "iteration": 271,
                        "passed_time": 0.3396822782,
                        "remaining_time": 0.2847336743,
                        "test": [
                          0.5401037398
                        ]
                      },
                      {
                        "learn": [
                          0.2111531893
                        ],
                        "iteration": 272,
                        "passed_time": 0.3406830303,
                        "remaining_time": 0.2832785636,
                        "test": [
                          0.5410175265
                        ]
                      },
                      {
                        "learn": [
                          0.2102239529
                        ],
                        "iteration": 273,
                        "passed_time": 0.3417134281,
                        "remaining_time": 0.2818512217,
                        "test": [
                          0.5404534599
                        ]
                      },
                      {
                        "learn": [
                          0.2099106444
                        ],
                        "iteration": 274,
                        "passed_time": 0.3427271354,
                        "remaining_time": 0.2804131108,
                        "test": [
                          0.5409015092
                        ]
                      },
                      {
                        "learn": [
                          0.2091559437
                        ],
                        "iteration": 275,
                        "passed_time": 0.3437554806,
                        "remaining_time": 0.2789899553,
                        "test": [
                          0.5419495244
                        ]
                      },
                      {
                        "learn": [
                          0.2084669405
                        ],
                        "iteration": 276,
                        "passed_time": 0.3447569936,
                        "remaining_time": 0.277548049,
                        "test": [
                          0.5424925783
                        ]
                      },
                      {
                        "learn": [
                          0.2077627314
                        ],
                        "iteration": 277,
                        "passed_time": 0.3457441978,
                        "remaining_time": 0.2760978846,
                        "test": [
                          0.5421447705
                        ]
                      },
                      {
                        "learn": [
                          0.2068940798
                        ],
                        "iteration": 278,
                        "passed_time": 0.3467429236,
                        "remaining_time": 0.2746601653,
                        "test": [
                          0.5422575745
                        ]
                      },
                      {
                        "learn": [
                          0.2064077987
                        ],
                        "iteration": 279,
                        "passed_time": 0.3477387339,
                        "remaining_time": 0.2732232909,
                        "test": [
                          0.5415902531
                        ]
                      },
                      {
                        "learn": [
                          0.2060922517
                        ],
                        "iteration": 280,
                        "passed_time": 0.348736327,
                        "remaining_time": 0.2717909452,
                        "test": [
                          0.5410263646
                        ]
                      },
                      {
                        "learn": [
                          0.2055359946
                        ],
                        "iteration": 281,
                        "passed_time": 0.3497339101,
                        "remaining_time": 0.2703616752,
                        "test": [
                          0.541474101
                        ]
                      },
                      {
                        "learn": [
                          0.2048714691
                        ],
                        "iteration": 282,
                        "passed_time": 0.350731524,
                        "remaining_time": 0.2689354796,
                        "test": [
                          0.5425141341
                        ]
                      },
                      {
                        "learn": [
                          0.2045822806
                        ],
                        "iteration": 283,
                        "passed_time": 0.3517487094,
                        "remaining_time": 0.2675271875,
                        "test": [
                          0.5430297445
                        ]
                      },
                      {
                        "learn": [
                          0.2039104038
                        ],
                        "iteration": 284,
                        "passed_time": 0.3527467216,
                        "remaining_time": 0.2661071759,
                        "test": [
                          0.5432722161
                        ]
                      },
                      {
                        "learn": [
                          0.2036150164
                        ],
                        "iteration": 285,
                        "passed_time": 0.3537895683,
                        "remaining_time": 0.264723663,
                        "test": [
                          0.5433594001
                        ]
                      },
                      {
                        "learn": [
                          0.2033881346
                        ],
                        "iteration": 286,
                        "passed_time": 0.3547960085,
                        "remaining_time": 0.2633155045,
                        "test": [
                          0.5436132122
                        ]
                      },
                      {
                        "learn": [
                          0.2030042675
                        ],
                        "iteration": 287,
                        "passed_time": 0.3557827236,
                        "remaining_time": 0.261895616,
                        "test": [
                          0.5443781146
                        ]
                      },
                      {
                        "learn": [
                          0.2021652328
                        ],
                        "iteration": 288,
                        "passed_time": 0.3567861574,
                        "remaining_time": 0.2604909316,
                        "test": [
                          0.545562189
                        ]
                      },
                      {
                        "learn": [
                          0.2012646728
                        ],
                        "iteration": 289,
                        "passed_time": 0.357783705,
                        "remaining_time": 0.2590847519,
                        "test": [
                          0.5456036548
                        ]
                      },
                      {
                        "learn": [
                          0.1998329825
                        ],
                        "iteration": 290,
                        "passed_time": 0.3588072676,
                        "remaining_time": 0.257700065,
                        "test": [
                          0.5457205847
                        ]
                      },
                      {
                        "learn": [
                          0.1995274756
                        ],
                        "iteration": 291,
                        "passed_time": 0.35979222,
                        "remaining_time": 0.2562903485,
                        "test": [
                          0.5463095912
                        ]
                      },
                      {
                        "learn": [
                          0.1993151771
                        ],
                        "iteration": 292,
                        "passed_time": 0.3607768806,
                        "remaining_time": 0.2548833252,
                        "test": [
                          0.5462987047
                        ]
                      },
                      {
                        "learn": [
                          0.1985361311
                        ],
                        "iteration": 293,
                        "passed_time": 0.3617881825,
                        "remaining_time": 0.2534978422,
                        "test": [
                          0.5466765401
                        ]
                      },
                      {
                        "learn": [
                          0.1984232399
                        ],
                        "iteration": 294,
                        "passed_time": 0.3627738122,
                        "remaining_time": 0.2520970559,
                        "test": [
                          0.5469419317
                        ]
                      },
                      {
                        "learn": [
                          0.1973061694
                        ],
                        "iteration": 295,
                        "passed_time": 0.3637686189,
                        "remaining_time": 0.2507053995,
                        "test": [
                          0.5470766168
                        ]
                      },
                      {
                        "learn": [
                          0.1966617902
                        ],
                        "iteration": 296,
                        "passed_time": 0.3655649599,
                        "remaining_time": 0.2498642655,
                        "test": [
                          0.5479095687
                        ]
                      },
                      {
                        "learn": [
                          0.1963736084
                        ],
                        "iteration": 297,
                        "passed_time": 0.3677514195,
                        "remaining_time": 0.2492811636,
                        "test": [
                          0.5470591313
                        ]
                      },
                      {
                        "learn": [
                          0.1955041356
                        ],
                        "iteration": 298,
                        "passed_time": 0.3691102436,
                        "remaining_time": 0.2481309665,
                        "test": [
                          0.5479062962
                        ]
                      },
                      {
                        "learn": [
                          0.1945818
                        ],
                        "iteration": 299,
                        "passed_time": 0.3701772817,
                        "remaining_time": 0.2467848545,
                        "test": [
                          0.5489285873
                        ]
                      },
                      {
                        "learn": [
                          0.1942727831
                        ],
                        "iteration": 300,
                        "passed_time": 0.3711664095,
                        "remaining_time": 0.245389088,
                        "test": [
                          0.5495859245
                        ]
                      },
                      {
                        "learn": [
                          0.1938554181
                        ],
                        "iteration": 301,
                        "passed_time": 0.3721453893,
                        "remaining_time": 0.2439893612,
                        "test": [
                          0.5505058195
                        ]
                      },
                      {
                        "learn": [
                          0.1936423911
                        ],
                        "iteration": 302,
                        "passed_time": 0.3731977249,
                        "remaining_time": 0.242640105,
                        "test": [
                          0.5502572787
                        ]
                      },
                      {
                        "learn": [
                          0.1925055981
                        ],
                        "iteration": 303,
                        "passed_time": 0.3742483151,
                        "remaining_time": 0.2412916768,
                        "test": [
                          0.5503201707
                        ]
                      },
                      {
                        "learn": [
                          0.1917572419
                        ],
                        "iteration": 304,
                        "passed_time": 0.3764026663,
                        "remaining_time": 0.240650885,
                        "test": [
                          0.550154874
                        ]
                      },
                      {
                        "learn": [
                          0.1908830404
                        ],
                        "iteration": 305,
                        "passed_time": 0.3787262232,
                        "remaining_time": 0.2401074748,
                        "test": [
                          0.5502858492
                        ]
                      },
                      {
                        "learn": [
                          0.1906612184
                        ],
                        "iteration": 306,
                        "passed_time": 0.3807110396,
                        "remaining_time": 0.2393395135,
                        "test": [
                          0.5505157102
                        ]
                      },
                      {
                        "learn": [
                          0.1899216175
                        ],
                        "iteration": 307,
                        "passed_time": 0.3817609598,
                        "remaining_time": 0.237980858,
                        "test": [
                          0.5501876147
                        ]
                      },
                      {
                        "learn": [
                          0.1891627577
                        ],
                        "iteration": 308,
                        "passed_time": 0.3827880032,
                        "remaining_time": 0.2366100602,
                        "test": [
                          0.5507918255
                        ]
                      },
                      {
                        "learn": [
                          0.1884333955
                        ],
                        "iteration": 309,
                        "passed_time": 0.3838317899,
                        "remaining_time": 0.2352517422,
                        "test": [
                          0.551449295
                        ]
                      },
                      {
                        "learn": [
                          0.1876411703
                        ],
                        "iteration": 310,
                        "passed_time": 0.3848570115,
                        "remaining_time": 0.2338841645,
                        "test": [
                          0.5515648216
                        ]
                      },
                      {
                        "learn": [
                          0.1874978013
                        ],
                        "iteration": 311,
                        "passed_time": 0.3858525855,
                        "remaining_time": 0.2325009169,
                        "test": [
                          0.5515001255
                        ]
                      },
                      {
                        "learn": [
                          0.1870096657
                        ],
                        "iteration": 312,
                        "passed_time": 0.3868636019,
                        "remaining_time": 0.2311293724,
                        "test": [
                          0.5520748064
                        ]
                      },
                      {
                        "learn": [
                          0.1868902842
                        ],
                        "iteration": 313,
                        "passed_time": 0.3878794728,
                        "remaining_time": 0.2297629998,
                        "test": [
                          0.5519831849
                        ]
                      },
                      {
                        "learn": [
                          0.1864296065
                        ],
                        "iteration": 314,
                        "passed_time": 0.3905574337,
                        "remaining_time": 0.2293750007,
                        "test": [
                          0.5526741693
                        ]
                      },
                      {
                        "learn": [
                          0.1855427292
                        ],
                        "iteration": 315,
                        "passed_time": 0.3916511021,
                        "remaining_time": 0.2280500088,
                        "test": [
                          0.5532321234
                        ]
                      },
                      {
                        "learn": [
                          0.1854444345
                        ],
                        "iteration": 316,
                        "passed_time": 0.392672012,
                        "remaining_time": 0.2266844738,
                        "test": [
                          0.5528471417
                        ]
                      },
                      {
                        "learn": [
                          0.1844514211
                        ],
                        "iteration": 317,
                        "passed_time": 0.3937005836,
                        "remaining_time": 0.2253254912,
                        "test": [
                          0.5530022528
                        ]
                      },
                      {
                        "learn": [
                          0.1833809482
                        ],
                        "iteration": 318,
                        "passed_time": 0.3947268379,
                        "remaining_time": 0.2239672654,
                        "test": [
                          0.5526604298
                        ]
                      },
                      {
                        "learn": [
                          0.1823271645
                        ],
                        "iteration": 319,
                        "passed_time": 0.3957356816,
                        "remaining_time": 0.2226013209,
                        "test": [
                          0.5524146841
                        ]
                      },
                      {
                        "learn": [
                          0.1816275782
                        ],
                        "iteration": 320,
                        "passed_time": 0.3967596787,
                        "remaining_time": 0.2212460514,
                        "test": [
                          0.5526504359
                        ]
                      },
                      {
                        "learn": [
                          0.1813121902
                        ],
                        "iteration": 321,
                        "passed_time": 0.3977654398,
                        "remaining_time": 0.2198827586,
                        "test": [
                          0.5524173681
                        ]
                      },
                      {
                        "learn": [
                          0.1808326112
                        ],
                        "iteration": 322,
                        "passed_time": 0.3987669892,
                        "remaining_time": 0.2185193718,
                        "test": [
                          0.5518368631
                        ]
                      },
                      {
                        "learn": [
                          0.1805437936
                        ],
                        "iteration": 323,
                        "passed_time": 0.3997683331,
                        "remaining_time": 0.2171581068,
                        "test": [
                          0.5516522662
                        ]
                      },
                      {
                        "learn": [
                          0.1796547307
                        ],
                        "iteration": 324,
                        "passed_time": 0.4007821758,
                        "remaining_time": 0.215805787,
                        "test": [
                          0.5524053046
                        ]
                      },
                      {
                        "learn": [
                          0.1795374817
                        ],
                        "iteration": 325,
                        "passed_time": 0.4017895896,
                        "remaining_time": 0.2144521122,
                        "test": [
                          0.5521482571
                        ]
                      },
                      {
                        "learn": [
                          0.1792085833
                        ],
                        "iteration": 326,
                        "passed_time": 0.4027894699,
                        "remaining_time": 0.2130965697,
                        "test": [
                          0.5522777569
                        ]
                      },
                      {
                        "learn": [
                          0.1786151992
                        ],
                        "iteration": 327,
                        "passed_time": 0.4038027254,
                        "remaining_time": 0.2117502096,
                        "test": [
                          0.5515399369
                        ]
                      },
                      {
                        "learn": [
                          0.1777970393
                        ],
                        "iteration": 328,
                        "passed_time": 0.4048187735,
                        "remaining_time": 0.2104073261,
                        "test": [
                          0.5522690898
                        ]
                      },
                      {
                        "learn": [
                          0.1775686079
                        ],
                        "iteration": 329,
                        "passed_time": 0.4058214156,
                        "remaining_time": 0.2090595171,
                        "test": [
                          0.5523788669
                        ]
                      },
                      {
                        "learn": [
                          0.1771322886
                        ],
                        "iteration": 330,
                        "passed_time": 0.4068431327,
                        "remaining_time": 0.207723533,
                        "test": [
                          0.552960678
                        ]
                      },
                      {
                        "learn": [
                          0.1761449973
                        ],
                        "iteration": 331,
                        "passed_time": 0.4078470966,
                        "remaining_time": 0.2063804585,
                        "test": [
                          0.5529370109
                        ]
                      },
                      {
                        "learn": [
                          0.1754649613
                        ],
                        "iteration": 332,
                        "passed_time": 0.4088516386,
                        "remaining_time": 0.2050397106,
                        "test": [
                          0.5530094039
                        ]
                      },
                      {
                        "learn": [
                          0.1748078929
                        ],
                        "iteration": 333,
                        "passed_time": 0.4098764111,
                        "remaining_time": 0.2037110307,
                        "test": [
                          0.5536846661
                        ]
                      },
                      {
                        "learn": [
                          0.1742929882
                        ],
                        "iteration": 334,
                        "passed_time": 0.4109067472,
                        "remaining_time": 0.2023869053,
                        "test": [
                          0.5539026724
                        ]
                      },
                      {
                        "learn": [
                          0.1741263602
                        ],
                        "iteration": 335,
                        "passed_time": 0.4118934968,
                        "remaining_time": 0.2010432544,
                        "test": [
                          0.5542569999
                        ]
                      },
                      {
                        "learn": [
                          0.1735528575
                        ],
                        "iteration": 336,
                        "passed_time": 0.4129194184,
                        "remaining_time": 0.1997206683,
                        "test": [
                          0.5545652969
                        ]
                      },
                      {
                        "learn": [
                          0.1727106571
                        ],
                        "iteration": 337,
                        "passed_time": 0.413953228,
                        "remaining_time": 0.1984036182,
                        "test": [
                          0.5555158873
                        ]
                      },
                      {
                        "learn": [
                          0.1723376645
                        ],
                        "iteration": 338,
                        "passed_time": 0.4149711125,
                        "remaining_time": 0.1970806759,
                        "test": [
                          0.5558484164
                        ]
                      },
                      {
                        "learn": [
                          0.1715153323
                        ],
                        "iteration": 339,
                        "passed_time": 0.4159903761,
                        "remaining_time": 0.195760177,
                        "test": [
                          0.5572694754
                        ]
                      },
                      {
                        "learn": [
                          0.1710335149
                        ],
                        "iteration": 340,
                        "passed_time": 0.416994479,
                        "remaining_time": 0.1944343758,
                        "test": [
                          0.5572351725
                        ]
                      },
                      {
                        "learn": [
                          0.1707162857
                        ],
                        "iteration": 341,
                        "passed_time": 0.4180031437,
                        "remaining_time": 0.1931125635,
                        "test": [
                          0.5571035765
                        ]
                      },
                      {
                        "learn": [
                          0.1705112987
                        ],
                        "iteration": 342,
                        "passed_time": 0.4190073357,
                        "remaining_time": 0.1917905298,
                        "test": [
                          0.5573363373
                        ]
                      },
                      {
                        "learn": [
                          0.1698520978
                        ],
                        "iteration": 343,
                        "passed_time": 0.4200207394,
                        "remaining_time": 0.1904745213,
                        "test": [
                          0.5582327065
                        ]
                      },
                      {
                        "learn": [
                          0.1696433491
                        ],
                        "iteration": 344,
                        "passed_time": 0.4210312913,
                        "remaining_time": 0.1891589859,
                        "test": [
                          0.558650689
                        ]
                      },
                      {
                        "learn": [
                          0.1691613727
                        ],
                        "iteration": 345,
                        "passed_time": 0.4220323634,
                        "remaining_time": 0.1878409941,
                        "test": [
                          0.5599434816
                        ]
                      },
                      {
                        "learn": [
                          0.1685476568
                        ],
                        "iteration": 346,
                        "passed_time": 0.423038109,
                        "remaining_time": 0.1865268896,
                        "test": [
                          0.5611230796
                        ]
                      },
                      {
                        "learn": [
                          0.1682537662
                        ],
                        "iteration": 347,
                        "passed_time": 0.4240426665,
                        "remaining_time": 0.1852140382,
                        "test": [
                          0.5603307208
                        ]
                      },
                      {
                        "learn": [
                          0.167809142
                        ],
                        "iteration": 348,
                        "passed_time": 0.4250908122,
                        "remaining_time": 0.1839218127,
                        "test": [
                          0.5604037167
                        ]
                      },
                      {
                        "learn": [
                          0.1672954294
                        ],
                        "iteration": 349,
                        "passed_time": 0.4261118166,
                        "remaining_time": 0.18261935,
                        "test": [
                          0.5612259068
                        ]
                      },
                      {
                        "learn": [
                          0.1667175161
                        ],
                        "iteration": 350,
                        "passed_time": 0.4271617086,
                        "remaining_time": 0.1813307538,
                        "test": [
                          0.5611201102
                        ]
                      },
                      {
                        "learn": [
                          0.1663958497
                        ],
                        "iteration": 351,
                        "passed_time": 0.4281900756,
                        "remaining_time": 0.1800344636,
                        "test": [
                          0.5613078341
                        ]
                      },
                      {
                        "learn": [
                          0.1658585866
                        ],
                        "iteration": 352,
                        "passed_time": 0.4294701031,
                        "remaining_time": 0.1788444905,
                        "test": [
                          0.5623605828
                        ]
                      },
                      {
                        "learn": [
                          0.1653067536
                        ],
                        "iteration": 353,
                        "passed_time": 0.4304947793,
                        "remaining_time": 0.1775486943,
                        "test": [
                          0.5622573563
                        ]
                      },
                      {
                        "learn": [
                          0.1648531225
                        ],
                        "iteration": 354,
                        "passed_time": 0.4315149756,
                        "remaining_time": 0.1762525957,
                        "test": [
                          0.5625484302
                        ]
                      },
                      {
                        "learn": [
                          0.1643426418
                        ],
                        "iteration": 355,
                        "passed_time": 0.4325344573,
                        "remaining_time": 0.174957758,
                        "test": [
                          0.5630194865
                        ]
                      },
                      {
                        "learn": [
                          0.164012644
                        ],
                        "iteration": 356,
                        "passed_time": 0.4335725487,
                        "remaining_time": 0.1736719172,
                        "test": [
                          0.563184992
                        ]
                      },
                      {
                        "learn": [
                          0.1637513505
                        ],
                        "iteration": 357,
                        "passed_time": 0.4346374495,
                        "remaining_time": 0.1723980945,
                        "test": [
                          0.5630831437
                        ]
                      },
                      {
                        "learn": [
                          0.1634287172
                        ],
                        "iteration": 358,
                        "passed_time": 0.4356530958,
                        "remaining_time": 0.1711060906,
                        "test": [
                          0.5628228769
                        ]
                      },
                      {
                        "learn": [
                          0.1631304158
                        ],
                        "iteration": 359,
                        "passed_time": 0.4366447908,
                        "remaining_time": 0.1698063075,
                        "test": [
                          0.563360986
                        ]
                      },
                      {
                        "learn": [
                          0.1626768377
                        ],
                        "iteration": 360,
                        "passed_time": 0.4376589672,
                        "remaining_time": 0.1685168876,
                        "test": [
                          0.563780361
                        ]
                      },
                      {
                        "learn": [
                          0.16251919
                        ],
                        "iteration": 361,
                        "passed_time": 0.4386563712,
                        "remaining_time": 0.1672225945,
                        "test": [
                          0.5642135972
                        ]
                      },
                      {
                        "learn": [
                          0.1620955467
                        ],
                        "iteration": 362,
                        "passed_time": 0.4396769065,
                        "remaining_time": 0.1659386672,
                        "test": [
                          0.5648250393
                        ]
                      },
                      {
                        "learn": [
                          0.1613659991
                        ],
                        "iteration": 363,
                        "passed_time": 0.4406835485,
                        "remaining_time": 0.1646509961,
                        "test": [
                          0.5651124739
                        ]
                      },
                      {
                        "learn": [
                          0.1611898078
                        ],
                        "iteration": 364,
                        "passed_time": 0.4416750699,
                        "remaining_time": 0.1633592724,
                        "test": [
                          0.5652140576
                        ]
                      },
                      {
                        "learn": [
                          0.161086811
                        ],
                        "iteration": 365,
                        "passed_time": 0.4427303882,
                        "remaining_time": 0.1620925465,
                        "test": [
                          0.5650146538
                        ]
                      },
                      {
                        "learn": [
                          0.1601593362
                        ],
                        "iteration": 366,
                        "passed_time": 0.4437892782,
                        "remaining_time": 0.160828267,
                        "test": [
                          0.565284261
                        ]
                      },
                      {
                        "learn": [
                          0.1600194507
                        ],
                        "iteration": 367,
                        "passed_time": 0.4447911966,
                        "remaining_time": 0.1595446684,
                        "test": [
                          0.5651664611
                        ]
                      },
                      {
                        "learn": [
                          0.1598902014
                        ],
                        "iteration": 368,
                        "passed_time": 0.4458078884,
                        "remaining_time": 0.1582678411,
                        "test": [
                          0.5653175429
                        ]
                      },
                      {
                        "learn": [
                          0.159221424
                        ],
                        "iteration": 369,
                        "passed_time": 0.4468455298,
                        "remaining_time": 0.1569997807,
                        "test": [
                          0.565911075
                        ]
                      },
                      {
                        "learn": [
                          0.1589558787
                        ],
                        "iteration": 370,
                        "passed_time": 0.4479151096,
                        "remaining_time": 0.1557440678,
                        "test": [
                          0.5657003527
                        ]
                      },
                      {
                        "learn": [
                          0.1587862306
                        ],
                        "iteration": 371,
                        "passed_time": 0.4489673125,
                        "remaining_time": 0.1544833764,
                        "test": [
                          0.5655679237
                        ]
                      },
                      {
                        "learn": [
                          0.1583692763
                        ],
                        "iteration": 372,
                        "passed_time": 0.4500328524,
                        "remaining_time": 0.1532283439,
                        "test": [
                          0.5662214307
                        ]
                      },
                      {
                        "learn": [
                          0.1581575606
                        ],
                        "iteration": 373,
                        "passed_time": 0.4510712756,
                        "remaining_time": 0.1519651891,
                        "test": [
                          0.5662278996
                        ]
                      },
                      {
                        "learn": [
                          0.1580072774
                        ],
                        "iteration": 374,
                        "passed_time": 0.4520586325,
                        "remaining_time": 0.1506862108,
                        "test": [
                          0.5662822322
                        ]
                      },
                      {
                        "learn": [
                          0.1577381028
                        ],
                        "iteration": 375,
                        "passed_time": 0.4531080073,
                        "remaining_time": 0.1494292364,
                        "test": [
                          0.5660467323
                        ]
                      },
                      {
                        "learn": [
                          0.1575401624
                        ],
                        "iteration": 376,
                        "passed_time": 0.45412191,
                        "remaining_time": 0.1481617903,
                        "test": [
                          0.5660529399
                        ]
                      },
                      {
                        "learn": [
                          0.1573624876
                        ],
                        "iteration": 377,
                        "passed_time": 0.4551371673,
                        "remaining_time": 0.1468961228,
                        "test": [
                          0.566294047
                        ]
                      },
                      {
                        "learn": [
                          0.1571531561
                        ],
                        "iteration": 378,
                        "passed_time": 0.4562232095,
                        "remaining_time": 0.1456543756,
                        "test": [
                          0.5665060827
                        ]
                      },
                      {
                        "learn": [
                          0.1569564078
                        ],
                        "iteration": 379,
                        "passed_time": 0.4572172263,
                        "remaining_time": 0.1443843872,
                        "test": [
                          0.5670687663
                        ]
                      },
                      {
                        "learn": [
                          0.1566239463
                        ],
                        "iteration": 380,
                        "passed_time": 0.4582342572,
                        "remaining_time": 0.1431230357,
                        "test": [
                          0.5676418372
                        ]
                      },
                      {
                        "learn": [
                          0.15640378
                        ],
                        "iteration": 381,
                        "passed_time": 0.459234662,
                        "remaining_time": 0.1418578275,
                        "test": [
                          0.5671515692
                        ]
                      },
                      {
                        "learn": [
                          0.1554724375
                        ],
                        "iteration": 382,
                        "passed_time": 0.4602545255,
                        "remaining_time": 0.1405999464,
                        "test": [
                          0.5668761382
                        ]
                      },
                      {
                        "learn": [
                          0.1551936335
                        ],
                        "iteration": 383,
                        "passed_time": 0.4612724764,
                        "remaining_time": 0.1393427272,
                        "test": [
                          0.5673739579
                        ]
                      },
                      {
                        "learn": [
                          0.1548010508
                        ],
                        "iteration": 384,
                        "passed_time": 0.4622897727,
                        "remaining_time": 0.1380865555,
                        "test": [
                          0.5683772589
                        ]
                      },
                      {
                        "learn": [
                          0.1539739238
                        ],
                        "iteration": 385,
                        "passed_time": 0.4632944983,
                        "remaining_time": 0.1368279088,
                        "test": [
                          0.5692664577
                        ]
                      },
                      {
                        "learn": [
                          0.1538639334
                        ],
                        "iteration": 386,
                        "passed_time": 0.4642785408,
                        "remaining_time": 0.1355645352,
                        "test": [
                          0.569038762
                        ]
                      },
                      {
                        "learn": [
                          0.1531712214
                        ],
                        "iteration": 387,
                        "passed_time": 0.4652843764,
                        "remaining_time": 0.1343088922,
                        "test": [
                          0.5683987999
                        ]
                      },
                      {
                        "learn": [
                          0.1528935697
                        ],
                        "iteration": 388,
                        "passed_time": 0.4663300467,
                        "remaining_time": 0.1330659002,
                        "test": [
                          0.5685909632
                        ]
                      },
                      {
                        "learn": [
                          0.1527139876
                        ],
                        "iteration": 389,
                        "passed_time": 0.4673335706,
                        "remaining_time": 0.1318120327,
                        "test": [
                          0.5682799748
                        ]
                      },
                      {
                        "learn": [
                          0.1525686847
                        ],
                        "iteration": 390,
                        "passed_time": 0.4683323372,
                        "remaining_time": 0.1305581196,
                        "test": [
                          0.5681159586
                        ]
                      },
                      {
                        "learn": [
                          0.1520660188
                        ],
                        "iteration": 391,
                        "passed_time": 0.4693533607,
                        "remaining_time": 0.1293116402,
                        "test": [
                          0.5678837925
                        ]
                      },
                      {
                        "learn": [
                          0.1519073248
                        ],
                        "iteration": 392,
                        "passed_time": 0.4704533482,
                        "remaining_time": 0.1280878073,
                        "test": [
                          0.5682210884
                        ]
                      },
                      {
                        "learn": [
                          0.1514406204
                        ],
                        "iteration": 393,
                        "passed_time": 0.4714682909,
                        "remaining_time": 0.1268417229,
                        "test": [
                          0.5688795161
                        ]
                      },
                      {
                        "learn": [
                          0.15075069
                        ],
                        "iteration": 394,
                        "passed_time": 0.4724701884,
                        "remaining_time": 0.1255933412,
                        "test": [
                          0.5704808035
                        ]
                      },
                      {
                        "learn": [
                          0.150301973
                        ],
                        "iteration": 395,
                        "passed_time": 0.473489232,
                        "remaining_time": 0.1243507074,
                        "test": [
                          0.5706141336
                        ]
                      },
                      {
                        "learn": [
                          0.1500477791
                        ],
                        "iteration": 396,
                        "passed_time": 0.4744901386,
                        "remaining_time": 0.1231044944,
                        "test": [
                          0.5710822179
                        ]
                      },
                      {
                        "learn": [
                          0.1495681074
                        ],
                        "iteration": 397,
                        "passed_time": 0.475499736,
                        "remaining_time": 0.1218617414,
                        "test": [
                          0.5713211017
                        ]
                      },
                      {
                        "learn": [
                          0.1490229236
                        ],
                        "iteration": 398,
                        "passed_time": 0.476522364,
                        "remaining_time": 0.1206234555,
                        "test": [
                          0.5729621647
                        ]
                      },
                      {
                        "learn": [
                          0.148291813
                        ],
                        "iteration": 399,
                        "passed_time": 0.4775436875,
                        "remaining_time": 0.1193859219,
                        "test": [
                          0.5724875525
                        ]
                      },
                      {
                        "learn": [
                          0.1476143599
                        ],
                        "iteration": 400,
                        "passed_time": 0.4785553894,
                        "remaining_time": 0.1181470911,
                        "test": [
                          0.5718591805
                        ]
                      },
                      {
                        "learn": [
                          0.1474080351
                        ],
                        "iteration": 401,
                        "passed_time": 0.4795614287,
                        "remaining_time": 0.11690801,
                        "test": [
                          0.5721388526
                        ]
                      },
                      {
                        "learn": [
                          0.1468838851
                        ],
                        "iteration": 402,
                        "passed_time": 0.48059906,
                        "remaining_time": 0.1156776894,
                        "test": [
                          0.5717188086
                        ]
                      },
                      {
                        "learn": [
                          0.1461861663
                        ],
                        "iteration": 403,
                        "passed_time": 0.4816327506,
                        "remaining_time": 0.1144473863,
                        "test": [
                          0.5732305263
                        ]
                      },
                      {
                        "learn": [
                          0.1459089915
                        ],
                        "iteration": 404,
                        "passed_time": 0.4828282306,
                        "remaining_time": 0.1132560047,
                        "test": [
                          0.5736521526
                        ]
                      },
                      {
                        "learn": [
                          0.1455139849
                        ],
                        "iteration": 405,
                        "passed_time": 0.4838443215,
                        "remaining_time": 0.1120230695,
                        "test": [
                          0.5744679753
                        ]
                      },
                      {
                        "learn": [
                          0.1450613605
                        ],
                        "iteration": 406,
                        "passed_time": 0.4848445636,
                        "remaining_time": 0.1107875784,
                        "test": [
                          0.5742390072
                        ]
                      },
                      {
                        "learn": [
                          0.1445580853
                        ],
                        "iteration": 407,
                        "passed_time": 0.4858812559,
                        "remaining_time": 0.1095614597,
                        "test": [
                          0.574084147
                        ]
                      },
                      {
                        "learn": [
                          0.1443974972
                        ],
                        "iteration": 408,
                        "passed_time": 0.486902904,
                        "remaining_time": 0.10833292,
                        "test": [
                          0.5742023662
                        ]
                      },
                      {
                        "learn": [
                          0.1443505287
                        ],
                        "iteration": 409,
                        "passed_time": 0.4879004298,
                        "remaining_time": 0.1071000943,
                        "test": [
                          0.5742536136
                        ]
                      },
                      {
                        "learn": [
                          0.1438048151
                        ],
                        "iteration": 410,
                        "passed_time": 0.4889276241,
                        "remaining_time": 0.1058748383,
                        "test": [
                          0.5753439941
                        ]
                      },
                      {
                        "learn": [
                          0.1435292032
                        ],
                        "iteration": 411,
                        "passed_time": 0.4899387814,
                        "remaining_time": 0.1046471184,
                        "test": [
                          0.5753640217
                        ]
                      },
                      {
                        "learn": [
                          0.1433760855
                        ],
                        "iteration": 412,
                        "passed_time": 0.4909396599,
                        "remaining_time": 0.1034182819,
                        "test": [
                          0.5755773426
                        ]
                      },
                      {
                        "learn": [
                          0.1429522567
                        ],
                        "iteration": 413,
                        "passed_time": 0.4919620843,
                        "remaining_time": 0.1021950223,
                        "test": [
                          0.5756046481
                        ]
                      },
                      {
                        "learn": [
                          0.1424180269
                        ],
                        "iteration": 414,
                        "passed_time": 0.4929619445,
                        "remaining_time": 0.1009681091,
                        "test": [
                          0.5755912599
                        ]
                      },
                      {
                        "learn": [
                          0.1419882774
                        ],
                        "iteration": 415,
                        "passed_time": 0.4939754728,
                        "remaining_time": 0.09974504738,
                        "test": [
                          0.5756444593
                        ]
                      },
                      {
                        "learn": [
                          0.1416980028
                        ],
                        "iteration": 416,
                        "passed_time": 0.4949738913,
                        "remaining_time": 0.09851998315,
                        "test": [
                          0.5768459844
                        ]
                      },
                      {
                        "learn": [
                          0.141350362
                        ],
                        "iteration": 417,
                        "passed_time": 0.4959803596,
                        "remaining_time": 0.09729758251,
                        "test": [
                          0.5772925421
                        ]
                      },
                      {
                        "learn": [
                          0.1411165926
                        ],
                        "iteration": 418,
                        "passed_time": 0.4969776309,
                        "remaining_time": 0.09607443461,
                        "test": [
                          0.5774016732
                        ]
                      },
                      {
                        "learn": [
                          0.1408096419
                        ],
                        "iteration": 419,
                        "passed_time": 0.4980091214,
                        "remaining_time": 0.09485888027,
                        "test": [
                          0.5780777731
                        ]
                      },
                      {
                        "learn": [
                          0.1404457092
                        ],
                        "iteration": 420,
                        "passed_time": 0.4990105363,
                        "remaining_time": 0.09363855668,
                        "test": [
                          0.5790131957
                        ]
                      },
                      {
                        "learn": [
                          0.1400948233
                        ],
                        "iteration": 421,
                        "passed_time": 0.5000291144,
                        "remaining_time": 0.09242244294,
                        "test": [
                          0.5794631528
                        ]
                      },
                      {
                        "learn": [
                          0.1398680475
                        ],
                        "iteration": 422,
                        "passed_time": 0.5010529978,
                        "remaining_time": 0.09120822892,
                        "test": [
                          0.578804931
                        ]
                      },
                      {
                        "learn": [
                          0.1393332216
                        ],
                        "iteration": 423,
                        "passed_time": 0.5020719686,
                        "remaining_time": 0.08999403212,
                        "test": [
                          0.5789556852
                        ]
                      },
                      {
                        "learn": [
                          0.1390984853
                        ],
                        "iteration": 424,
                        "passed_time": 0.5030976939,
                        "remaining_time": 0.08878194598,
                        "test": [
                          0.5791365504
                        ]
                      },
                      {
                        "learn": [
                          0.1389254861
                        ],
                        "iteration": 425,
                        "passed_time": 0.5041482041,
                        "remaining_time": 0.08757504015,
                        "test": [
                          0.579540639
                        ]
                      },
                      {
                        "learn": [
                          0.138737758
                        ],
                        "iteration": 426,
                        "passed_time": 0.5051460235,
                        "remaining_time": 0.08635985882,
                        "test": [
                          0.5796302537
                        ]
                      },
                      {
                        "learn": [
                          0.1385290093
                        ],
                        "iteration": 427,
                        "passed_time": 0.5061289223,
                        "remaining_time": 0.08514318319,
                        "test": [
                          0.5790147135
                        ]
                      },
                      {
                        "learn": [
                          0.1383701828
                        ],
                        "iteration": 428,
                        "passed_time": 0.5071373088,
                        "remaining_time": 0.08393181568,
                        "test": [
                          0.5786302003
                        ]
                      },
                      {
                        "learn": [
                          0.1377453539
                        ],
                        "iteration": 429,
                        "passed_time": 0.5081529906,
                        "remaining_time": 0.08272257987,
                        "test": [
                          0.5783346551
                        ]
                      },
                      {
                        "learn": [
                          0.1376145681
                        ],
                        "iteration": 430,
                        "passed_time": 0.5091561499,
                        "remaining_time": 0.08151223746,
                        "test": [
                          0.5785524417
                        ]
                      },
                      {
                        "learn": [
                          0.1371814145
                        ],
                        "iteration": 431,
                        "passed_time": 0.510154863,
                        "remaining_time": 0.08030215436,
                        "test": [
                          0.5777857485
                        ]
                      },
                      {
                        "learn": [
                          0.136934042
                        ],
                        "iteration": 432,
                        "passed_time": 0.5111498252,
                        "remaining_time": 0.07909246718,
                        "test": [
                          0.5770823112
                        ]
                      },
                      {
                        "learn": [
                          0.1365762684
                        ],
                        "iteration": 433,
                        "passed_time": 0.5121622016,
                        "remaining_time": 0.07788641775,
                        "test": [
                          0.5775694501
                        ]
                      },
                      {
                        "learn": [
                          0.1363697582
                        ],
                        "iteration": 434,
                        "passed_time": 0.5131721608,
                        "remaining_time": 0.07668089759,
                        "test": [
                          0.5773732408
                        ]
                      },
                      {
                        "learn": [
                          0.136057655
                        ],
                        "iteration": 435,
                        "passed_time": 0.5141831581,
                        "remaining_time": 0.07547642688,
                        "test": [
                          0.5777389667
                        ]
                      },
                      {
                        "learn": [
                          0.1356605291
                        ],
                        "iteration": 436,
                        "passed_time": 0.5151951173,
                        "remaining_time": 0.07427298029,
                        "test": [
                          0.5790998042
                        ]
                      },
                      {
                        "learn": [
                          0.1356232696
                        ],
                        "iteration": 437,
                        "passed_time": 0.516195293,
                        "remaining_time": 0.07306874011,
                        "test": [
                          0.5790835905
                        ]
                      },
                      {
                        "learn": [
                          0.1354242961
                        ],
                        "iteration": 438,
                        "passed_time": 0.5172061049,
                        "remaining_time": 0.07186690752,
                        "test": [
                          0.5797357642
                        ]
                      },
                      {
                        "learn": [
                          0.1351008548
                        ],
                        "iteration": 439,
                        "passed_time": 0.5182055907,
                        "remaining_time": 0.07066439873,
                        "test": [
                          0.5806695358
                        ]
                      },
                      {
                        "learn": [
                          0.134549525
                        ],
                        "iteration": 440,
                        "passed_time": 0.5192274814,
                        "remaining_time": 0.06946580818,
                        "test": [
                          0.5815202247
                        ]
                      },
                      {
                        "learn": [
                          0.1343369484
                        ],
                        "iteration": 441,
                        "passed_time": 0.520245805,
                        "remaining_time": 0.06826754907,
                        "test": [
                          0.5811684117
                        ]
                      },
                      {
                        "learn": [
                          0.1337832477
                        ],
                        "iteration": 442,
                        "passed_time": 0.5212605087,
                        "remaining_time": 0.06706963655,
                        "test": [
                          0.581595638
                        ]
                      },
                      {
                        "learn": [
                          0.1335008674
                        ],
                        "iteration": 443,
                        "passed_time": 0.522282244,
                        "remaining_time": 0.06587343618,
                        "test": [
                          0.5819362694
                        ]
                      },
                      {
                        "learn": [
                          0.1332689656
                        ],
                        "iteration": 444,
                        "passed_time": 0.5233975529,
                        "remaining_time": 0.06468958519,
                        "test": [
                          0.5815585142
                        ]
                      },
                      {
                        "learn": [
                          0.1327593459
                        ],
                        "iteration": 445,
                        "passed_time": 0.5244180437,
                        "remaining_time": 0.06349456134,
                        "test": [
                          0.5811219766
                        ]
                      },
                      {
                        "learn": [
                          0.1320003668
                        ],
                        "iteration": 446,
                        "passed_time": 0.5254468489,
                        "remaining_time": 0.06230130423,
                        "test": [
                          0.5812205145
                        ]
                      },
                      {
                        "learn": [
                          0.1319193443
                        ],
                        "iteration": 447,
                        "passed_time": 0.5264487064,
                        "remaining_time": 0.06110565342,
                        "test": [
                          0.5813209563
                        ]
                      },
                      {
                        "learn": [
                          0.1316186322
                        ],
                        "iteration": 448,
                        "passed_time": 0.5274818551,
                        "remaining_time": 0.05991442007,
                        "test": [
                          0.5815454632
                        ]
                      },
                      {
                        "learn": [
                          0.1311060058
                        ],
                        "iteration": 449,
                        "passed_time": 0.5285055586,
                        "remaining_time": 0.05872283984,
                        "test": [
                          0.5823620125
                        ]
                      },
                      {
                        "learn": [
                          0.1307377021
                        ],
                        "iteration": 450,
                        "passed_time": 0.5295569979,
                        "remaining_time": 0.05753501751,
                        "test": [
                          0.5826270753
                        ]
                      },
                      {
                        "learn": [
                          0.130414327
                        ],
                        "iteration": 451,
                        "passed_time": 0.5305654725,
                        "remaining_time": 0.05634323602,
                        "test": [
                          0.5825361704
                        ]
                      },
                      {
                        "learn": [
                          0.1301271915
                        ],
                        "iteration": 452,
                        "passed_time": 0.5315771571,
                        "remaining_time": 0.05515259688,
                        "test": [
                          0.5833589282
                        ]
                      },
                      {
                        "learn": [
                          0.1298584276
                        ],
                        "iteration": 453,
                        "passed_time": 0.5326027597,
                        "remaining_time": 0.05396415627,
                        "test": [
                          0.5836749451
                        ]
                      },
                      {
                        "learn": [
                          0.1295908027
                        ],
                        "iteration": 454,
                        "passed_time": 0.5336149524,
                        "remaining_time": 0.05277510519,
                        "test": [
                          0.584111817
                        ]
                      },
                      {
                        "learn": [
                          0.1290495661
                        ],
                        "iteration": 455,
                        "passed_time": 0.5346263771,
                        "remaining_time": 0.05158675568,
                        "test": [
                          0.5842889171
                        ]
                      },
                      {
                        "learn": [
                          0.1285082102
                        ],
                        "iteration": 456,
                        "passed_time": 0.5356232992,
                        "remaining_time": 0.0503978159,
                        "test": [
                          0.5852157097
                        ]
                      },
                      {
                        "learn": [
                          0.1280645265
                        ],
                        "iteration": 457,
                        "passed_time": 0.5366433791,
                        "remaining_time": 0.04921183826,
                        "test": [
                          0.5858675945
                        ]
                      },
                      {
                        "learn": [
                          0.127890269
                        ],
                        "iteration": 458,
                        "passed_time": 0.5376702443,
                        "remaining_time": 0.04802718958,
                        "test": [
                          0.5853190301
                        ]
                      },
                      {
                        "learn": [
                          0.1275758743
                        ],
                        "iteration": 459,
                        "passed_time": 0.5387121183,
                        "remaining_time": 0.04684453203,
                        "test": [
                          0.5858833405
                        ]
                      },
                      {
                        "learn": [
                          0.1268482341
                        ],
                        "iteration": 460,
                        "passed_time": 0.5397747101,
                        "remaining_time": 0.04566423795,
                        "test": [
                          0.5862458537
                        ]
                      },
                      {
                        "learn": [
                          0.1266283062
                        ],
                        "iteration": 461,
                        "passed_time": 0.5429137755,
                        "remaining_time": 0.04465524561,
                        "test": [
                          0.587245775
                        ]
                      },
                      {
                        "learn": [
                          0.1264749103
                        ],
                        "iteration": 462,
                        "passed_time": 0.5446086603,
                        "remaining_time": 0.0435216424,
                        "test": [
                          0.5867244542
                        ]
                      },
                      {
                        "learn": [
                          0.126273844
                        ],
                        "iteration": 463,
                        "passed_time": 0.5460861076,
                        "remaining_time": 0.04236874972,
                        "test": [
                          0.5869381477
                        ]
                      },
                      {
                        "learn": [
                          0.1258607043
                        ],
                        "iteration": 464,
                        "passed_time": 0.5472185298,
                        "remaining_time": 0.04118849149,
                        "test": [
                          0.587252345
                        ]
                      },
                      {
                        "learn": [
                          0.1256899569
                        ],
                        "iteration": 465,
                        "passed_time": 0.5482538876,
                        "remaining_time": 0.0400013566,
                        "test": [
                          0.5875857657
                        ]
                      },
                      {
                        "learn": [
                          0.12532213
                        ],
                        "iteration": 466,
                        "passed_time": 0.5493077432,
                        "remaining_time": 0.03881617885,
                        "test": [
                          0.5875318057
                        ]
                      },
                      {
                        "learn": [
                          0.1250153383
                        ],
                        "iteration": 467,
                        "passed_time": 0.5503275812,
                        "remaining_time": 0.03762923632,
                        "test": [
                          0.5880605463
                        ]
                      },
                      {
                        "learn": [
                          0.1249379582
                        ],
                        "iteration": 468,
                        "passed_time": 0.551371477,
                        "remaining_time": 0.03644459656,
                        "test": [
                          0.588273795
                        ]
                      },
                      {
                        "learn": [
                          0.1247297128
                        ],
                        "iteration": 469,
                        "passed_time": 0.5523883924,
                        "remaining_time": 0.03525883356,
                        "test": [
                          0.5883828698
                        ]
                      },
                      {
                        "learn": [
                          0.1240693066
                        ],
                        "iteration": 470,
                        "passed_time": 0.5533993034,
                        "remaining_time": 0.03407341783,
                        "test": [
                          0.5881135207
                        ]
                      },
                      {
                        "learn": [
                          0.1239216857
                        ],
                        "iteration": 471,
                        "passed_time": 0.5544272168,
                        "remaining_time": 0.03288975015,
                        "test": [
                          0.5880845942
                        ]
                      },
                      {
                        "learn": [
                          0.1235646407
                        ],
                        "iteration": 472,
                        "passed_time": 0.5554337733,
                        "remaining_time": 0.03170552195,
                        "test": [
                          0.5886586945
                        ]
                      },
                      {
                        "learn": [
                          0.1234285831
                        ],
                        "iteration": 473,
                        "passed_time": 0.5564366399,
                        "remaining_time": 0.03052184101,
                        "test": [
                          0.589049762
                        ]
                      },
                      {
                        "learn": [
                          0.1228744719
                        ],
                        "iteration": 474,
                        "passed_time": 0.5574621806,
                        "remaining_time": 0.02934011477,
                        "test": [
                          0.5895146247
                        ]
                      },
                      {
                        "learn": [
                          0.1227161884
                        ],
                        "iteration": 475,
                        "passed_time": 0.5584700226,
                        "remaining_time": 0.0281581524,
                        "test": [
                          0.5896187841
                        ]
                      },
                      {
                        "learn": [
                          0.1226108074
                        ],
                        "iteration": 476,
                        "passed_time": 0.5594656975,
                        "remaining_time": 0.02697633342,
                        "test": [
                          0.5895197635
                        ]
                      },
                      {
                        "learn": [
                          0.1220873197
                        ],
                        "iteration": 477,
                        "passed_time": 0.5604831547,
                        "remaining_time": 0.02579629582,
                        "test": [
                          0.5903967277
                        ]
                      },
                      {
                        "learn": [
                          0.1219587061
                        ],
                        "iteration": 478,
                        "passed_time": 0.5614856004,
                        "remaining_time": 0.02461627893,
                        "test": [
                          0.5908134094
                        ]
                      },
                      {
                        "learn": [
                          0.1218473911
                        ],
                        "iteration": 479,
                        "passed_time": 0.5624883716,
                        "remaining_time": 0.02343701548,
                        "test": [
                          0.5905457614
                        ]
                      },
                      {
                        "learn": [
                          0.1213729382
                        ],
                        "iteration": 480,
                        "passed_time": 0.5635077497,
                        "remaining_time": 0.02225914188,
                        "test": [
                          0.5910440985
                        ]
                      },
                      {
                        "learn": [
                          0.1206973394
                        ],
                        "iteration": 481,
                        "passed_time": 0.5645210497,
                        "remaining_time": 0.02108169895,
                        "test": [
                          0.5910337468
                        ]
                      },
                      {
                        "learn": [
                          0.120576779
                        ],
                        "iteration": 482,
                        "passed_time": 0.5655434668,
                        "remaining_time": 0.0199052566,
                        "test": [
                          0.5910780469
                        ]
                      },
                      {
                        "learn": [
                          0.1201823552
                        ],
                        "iteration": 483,
                        "passed_time": 0.5665664557,
                        "remaining_time": 0.01872946961,
                        "test": [
                          0.591570542
                        ]
                      },
                      {
                        "learn": [
                          0.119644973
                        ],
                        "iteration": 484,
                        "passed_time": 0.567583133,
                        "remaining_time": 0.01755411751,
                        "test": [
                          0.5910745791
                        ]
                      },
                      {
                        "learn": [
                          0.119506518
                        ],
                        "iteration": 485,
                        "passed_time": 0.568599642,
                        "remaining_time": 0.01637941356,
                        "test": [
                          0.5912581204
                        ]
                      },
                      {
                        "learn": [
                          0.1190503438
                        ],
                        "iteration": 486,
                        "passed_time": 0.5695960215,
                        "remaining_time": 0.01520482193,
                        "test": [
                          0.5921551108
                        ]
                      },
                      {
                        "learn": [
                          0.118910869
                        ],
                        "iteration": 487,
                        "passed_time": 0.5706122351,
                        "remaining_time": 0.0140314484,
                        "test": [
                          0.5925514521
                        ]
                      },
                      {
                        "learn": [
                          0.1182848612
                        ],
                        "iteration": 488,
                        "passed_time": 0.5716604054,
                        "remaining_time": 0.01285943652,
                        "test": [
                          0.5930799772
                        ]
                      },
                      {
                        "learn": [
                          0.1180788411
                        ],
                        "iteration": 489,
                        "passed_time": 0.5726695591,
                        "remaining_time": 0.01168713386,
                        "test": [
                          0.5934061765
                        ]
                      },
                      {
                        "learn": [
                          0.1180361112
                        ],
                        "iteration": 490,
                        "passed_time": 0.5736696276,
                        "remaining_time": 0.01051532922,
                        "test": [
                          0.5934902205
                        ]
                      },
                      {
                        "learn": [
                          0.1178031762
                        ],
                        "iteration": 491,
                        "passed_time": 0.5746808431,
                        "remaining_time": 0.009344403953,
                        "test": [
                          0.5941080724
                        ]
                      },
                      {
                        "learn": [
                          0.1177872287
                        ],
                        "iteration": 492,
                        "passed_time": 0.5756851806,
                        "remaining_time": 0.008174028933,
                        "test": [
                          0.5941080532
                        ]
                      },
                      {
                        "learn": [
                          0.1176726553
                        ],
                        "iteration": 493,
                        "passed_time": 0.5766845327,
                        "remaining_time": 0.007004265579,
                        "test": [
                          0.5940606866
                        ]
                      },
                      {
                        "learn": [
                          0.1172136201
                        ],
                        "iteration": 494,
                        "passed_time": 0.5776842112,
                        "remaining_time": 0.005835194052,
                        "test": [
                          0.59447353
                        ]
                      },
                      {
                        "learn": [
                          0.1170993116
                        ],
                        "iteration": 495,
                        "passed_time": 0.5786712581,
                        "remaining_time": 0.004666703694,
                        "test": [
                          0.5942838381
                        ]
                      },
                      {
                        "learn": [
                          0.1164147589
                        ],
                        "iteration": 496,
                        "passed_time": 0.579708794,
                        "remaining_time": 0.003499248254,
                        "test": [
                          0.5938188697
                        ]
                      },
                      {
                        "learn": [
                          0.1163208087
                        ],
                        "iteration": 497,
                        "passed_time": 0.5807108461,
                        "remaining_time": 0.002332172073,
                        "test": [
                          0.5940271733
                        ]
                      },
                      {
                        "learn": [
                          0.1158879598
                        ],
                        "iteration": 498,
                        "passed_time": 0.5817194962,
                        "remaining_time": 0.001165770533,
                        "test": [
                          0.5949173435
                        ]
                      },
                      {
                        "learn": [
                          0.1155312591
                        ],
                        "iteration": 499,
                        "passed_time": 0.5829605426,
                        "remaining_time": 0,
                        "test": [
                          0.5956347711
                        ]
                      }
                    ],
                    "meta": {
                      "test_sets": [
                        "test"
                      ],
                      "test_metrics": [
                        {
                          "best_value": "Min",
                          "name": "Logloss"
                        }
                      ],
                      "learn_metrics": [
                        {
                          "best_value": "Min",
                          "name": "Logloss"
                        }
                      ],
                      "launch_mode": "Train",
                      "parameters": "",
                      "iteration_count": 500,
                      "learn_sets": [
                        "learn"
                      ],
                      "name": "experiment"
                    }
                  }
                }
              }
            },
            "layout": "IPY_MODEL_403b5ac472fd46be985bf4b9a8e423a4"
          }
        }
      }
    }
  },
  "nbformat": 4,
  "nbformat_minor": 0
}