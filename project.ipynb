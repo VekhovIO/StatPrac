{
  "cells": [
    {
      "cell_type": "markdown",
      "metadata": {
        "id": "view-in-github",
        "colab_type": "text"
      },
      "source": [
        "<a href=\"https://colab.research.google.com/github/VekhovIO/StatPrac/blob/main/project.ipynb\" target=\"_parent\"><img src=\"https://colab.research.google.com/assets/colab-badge.svg\" alt=\"Open In Colab\"/></a>"
      ]
    },
    {
      "cell_type": "code",
      "execution_count": 2,
      "metadata": {
        "colab": {
          "base_uri": "https://localhost:8080/"
        },
        "id": "wVWtQplhxG_T",
        "outputId": "11a9ec2a-28f3-4c57-9bb4-0b3283b7941c"
      },
      "outputs": [
        {
          "output_type": "stream",
          "name": "stdout",
          "text": [
            "Mounted at /content/drive\n"
          ]
        }
      ],
      "source": [
        "from google.colab import drive\n",
        "drive.mount('/content/drive')"
      ]
    },
    {
      "cell_type": "code",
      "execution_count": 3,
      "metadata": {
        "colab": {
          "base_uri": "https://localhost:8080/",
          "height": 226
        },
        "id": "jl20ZRFVyuA_",
        "outputId": "d86cc7d9-6d09-429e-d11d-f222c3ed58c8"
      },
      "outputs": [
        {
          "output_type": "execute_result",
          "data": {
            "text/plain": [
              "   Pregnancies  Glucose  BloodPressure  SkinThickness  Insulin   BMI  \\\n",
              "0            6      148             72             35        0  33.6   \n",
              "1            1       85             66             29        0  26.6   \n",
              "2            8      183             64              0        0  23.3   \n",
              "3            1       89             66             23       94  28.1   \n",
              "4            0      137             40             35      168  43.1   \n",
              "\n",
              "   DiabetesPedigreeFunction  Age  Outcome  \n",
              "0                     0.627   50        1  \n",
              "1                     0.351   31        0  \n",
              "2                     0.672   32        1  \n",
              "3                     0.167   21        0  \n",
              "4                     2.288   33        1  "
            ],
            "text/html": [
              "\n",
              "  <div id=\"df-3fce36ac-bb87-4e4f-90bc-42db7b9c0914\" class=\"colab-df-container\">\n",
              "    <div>\n",
              "<style scoped>\n",
              "    .dataframe tbody tr th:only-of-type {\n",
              "        vertical-align: middle;\n",
              "    }\n",
              "\n",
              "    .dataframe tbody tr th {\n",
              "        vertical-align: top;\n",
              "    }\n",
              "\n",
              "    .dataframe thead th {\n",
              "        text-align: right;\n",
              "    }\n",
              "</style>\n",
              "<table border=\"1\" class=\"dataframe\">\n",
              "  <thead>\n",
              "    <tr style=\"text-align: right;\">\n",
              "      <th></th>\n",
              "      <th>Pregnancies</th>\n",
              "      <th>Glucose</th>\n",
              "      <th>BloodPressure</th>\n",
              "      <th>SkinThickness</th>\n",
              "      <th>Insulin</th>\n",
              "      <th>BMI</th>\n",
              "      <th>DiabetesPedigreeFunction</th>\n",
              "      <th>Age</th>\n",
              "      <th>Outcome</th>\n",
              "    </tr>\n",
              "  </thead>\n",
              "  <tbody>\n",
              "    <tr>\n",
              "      <th>0</th>\n",
              "      <td>6</td>\n",
              "      <td>148</td>\n",
              "      <td>72</td>\n",
              "      <td>35</td>\n",
              "      <td>0</td>\n",
              "      <td>33.6</td>\n",
              "      <td>0.627</td>\n",
              "      <td>50</td>\n",
              "      <td>1</td>\n",
              "    </tr>\n",
              "    <tr>\n",
              "      <th>1</th>\n",
              "      <td>1</td>\n",
              "      <td>85</td>\n",
              "      <td>66</td>\n",
              "      <td>29</td>\n",
              "      <td>0</td>\n",
              "      <td>26.6</td>\n",
              "      <td>0.351</td>\n",
              "      <td>31</td>\n",
              "      <td>0</td>\n",
              "    </tr>\n",
              "    <tr>\n",
              "      <th>2</th>\n",
              "      <td>8</td>\n",
              "      <td>183</td>\n",
              "      <td>64</td>\n",
              "      <td>0</td>\n",
              "      <td>0</td>\n",
              "      <td>23.3</td>\n",
              "      <td>0.672</td>\n",
              "      <td>32</td>\n",
              "      <td>1</td>\n",
              "    </tr>\n",
              "    <tr>\n",
              "      <th>3</th>\n",
              "      <td>1</td>\n",
              "      <td>89</td>\n",
              "      <td>66</td>\n",
              "      <td>23</td>\n",
              "      <td>94</td>\n",
              "      <td>28.1</td>\n",
              "      <td>0.167</td>\n",
              "      <td>21</td>\n",
              "      <td>0</td>\n",
              "    </tr>\n",
              "    <tr>\n",
              "      <th>4</th>\n",
              "      <td>0</td>\n",
              "      <td>137</td>\n",
              "      <td>40</td>\n",
              "      <td>35</td>\n",
              "      <td>168</td>\n",
              "      <td>43.1</td>\n",
              "      <td>2.288</td>\n",
              "      <td>33</td>\n",
              "      <td>1</td>\n",
              "    </tr>\n",
              "  </tbody>\n",
              "</table>\n",
              "</div>\n",
              "    <div class=\"colab-df-buttons\">\n",
              "\n",
              "  <div class=\"colab-df-container\">\n",
              "    <button class=\"colab-df-convert\" onclick=\"convertToInteractive('df-3fce36ac-bb87-4e4f-90bc-42db7b9c0914')\"\n",
              "            title=\"Convert this dataframe to an interactive table.\"\n",
              "            style=\"display:none;\">\n",
              "\n",
              "  <svg xmlns=\"http://www.w3.org/2000/svg\" height=\"24px\" viewBox=\"0 -960 960 960\">\n",
              "    <path d=\"M120-120v-720h720v720H120Zm60-500h600v-160H180v160Zm220 220h160v-160H400v160Zm0 220h160v-160H400v160ZM180-400h160v-160H180v160Zm440 0h160v-160H620v160ZM180-180h160v-160H180v160Zm440 0h160v-160H620v160Z\"/>\n",
              "  </svg>\n",
              "    </button>\n",
              "\n",
              "  <style>\n",
              "    .colab-df-container {\n",
              "      display:flex;\n",
              "      gap: 12px;\n",
              "    }\n",
              "\n",
              "    .colab-df-convert {\n",
              "      background-color: #E8F0FE;\n",
              "      border: none;\n",
              "      border-radius: 50%;\n",
              "      cursor: pointer;\n",
              "      display: none;\n",
              "      fill: #1967D2;\n",
              "      height: 32px;\n",
              "      padding: 0 0 0 0;\n",
              "      width: 32px;\n",
              "    }\n",
              "\n",
              "    .colab-df-convert:hover {\n",
              "      background-color: #E2EBFA;\n",
              "      box-shadow: 0px 1px 2px rgba(60, 64, 67, 0.3), 0px 1px 3px 1px rgba(60, 64, 67, 0.15);\n",
              "      fill: #174EA6;\n",
              "    }\n",
              "\n",
              "    .colab-df-buttons div {\n",
              "      margin-bottom: 4px;\n",
              "    }\n",
              "\n",
              "    [theme=dark] .colab-df-convert {\n",
              "      background-color: #3B4455;\n",
              "      fill: #D2E3FC;\n",
              "    }\n",
              "\n",
              "    [theme=dark] .colab-df-convert:hover {\n",
              "      background-color: #434B5C;\n",
              "      box-shadow: 0px 1px 3px 1px rgba(0, 0, 0, 0.15);\n",
              "      filter: drop-shadow(0px 1px 2px rgba(0, 0, 0, 0.3));\n",
              "      fill: #FFFFFF;\n",
              "    }\n",
              "  </style>\n",
              "\n",
              "    <script>\n",
              "      const buttonEl =\n",
              "        document.querySelector('#df-3fce36ac-bb87-4e4f-90bc-42db7b9c0914 button.colab-df-convert');\n",
              "      buttonEl.style.display =\n",
              "        google.colab.kernel.accessAllowed ? 'block' : 'none';\n",
              "\n",
              "      async function convertToInteractive(key) {\n",
              "        const element = document.querySelector('#df-3fce36ac-bb87-4e4f-90bc-42db7b9c0914');\n",
              "        const dataTable =\n",
              "          await google.colab.kernel.invokeFunction('convertToInteractive',\n",
              "                                                    [key], {});\n",
              "        if (!dataTable) return;\n",
              "\n",
              "        const docLinkHtml = 'Like what you see? Visit the ' +\n",
              "          '<a target=\"_blank\" href=https://colab.research.google.com/notebooks/data_table.ipynb>data table notebook</a>'\n",
              "          + ' to learn more about interactive tables.';\n",
              "        element.innerHTML = '';\n",
              "        dataTable['output_type'] = 'display_data';\n",
              "        await google.colab.output.renderOutput(dataTable, element);\n",
              "        const docLink = document.createElement('div');\n",
              "        docLink.innerHTML = docLinkHtml;\n",
              "        element.appendChild(docLink);\n",
              "      }\n",
              "    </script>\n",
              "  </div>\n",
              "\n",
              "\n",
              "<div id=\"df-1e3850c4-eb8f-4b82-9a49-4c02b253e1ee\">\n",
              "  <button class=\"colab-df-quickchart\" onclick=\"quickchart('df-1e3850c4-eb8f-4b82-9a49-4c02b253e1ee')\"\n",
              "            title=\"Suggest charts\"\n",
              "            style=\"display:none;\">\n",
              "\n",
              "<svg xmlns=\"http://www.w3.org/2000/svg\" height=\"24px\"viewBox=\"0 0 24 24\"\n",
              "     width=\"24px\">\n",
              "    <g>\n",
              "        <path d=\"M19 3H5c-1.1 0-2 .9-2 2v14c0 1.1.9 2 2 2h14c1.1 0 2-.9 2-2V5c0-1.1-.9-2-2-2zM9 17H7v-7h2v7zm4 0h-2V7h2v10zm4 0h-2v-4h2v4z\"/>\n",
              "    </g>\n",
              "</svg>\n",
              "  </button>\n",
              "\n",
              "<style>\n",
              "  .colab-df-quickchart {\n",
              "      --bg-color: #E8F0FE;\n",
              "      --fill-color: #1967D2;\n",
              "      --hover-bg-color: #E2EBFA;\n",
              "      --hover-fill-color: #174EA6;\n",
              "      --disabled-fill-color: #AAA;\n",
              "      --disabled-bg-color: #DDD;\n",
              "  }\n",
              "\n",
              "  [theme=dark] .colab-df-quickchart {\n",
              "      --bg-color: #3B4455;\n",
              "      --fill-color: #D2E3FC;\n",
              "      --hover-bg-color: #434B5C;\n",
              "      --hover-fill-color: #FFFFFF;\n",
              "      --disabled-bg-color: #3B4455;\n",
              "      --disabled-fill-color: #666;\n",
              "  }\n",
              "\n",
              "  .colab-df-quickchart {\n",
              "    background-color: var(--bg-color);\n",
              "    border: none;\n",
              "    border-radius: 50%;\n",
              "    cursor: pointer;\n",
              "    display: none;\n",
              "    fill: var(--fill-color);\n",
              "    height: 32px;\n",
              "    padding: 0;\n",
              "    width: 32px;\n",
              "  }\n",
              "\n",
              "  .colab-df-quickchart:hover {\n",
              "    background-color: var(--hover-bg-color);\n",
              "    box-shadow: 0 1px 2px rgba(60, 64, 67, 0.3), 0 1px 3px 1px rgba(60, 64, 67, 0.15);\n",
              "    fill: var(--button-hover-fill-color);\n",
              "  }\n",
              "\n",
              "  .colab-df-quickchart-complete:disabled,\n",
              "  .colab-df-quickchart-complete:disabled:hover {\n",
              "    background-color: var(--disabled-bg-color);\n",
              "    fill: var(--disabled-fill-color);\n",
              "    box-shadow: none;\n",
              "  }\n",
              "\n",
              "  .colab-df-spinner {\n",
              "    border: 2px solid var(--fill-color);\n",
              "    border-color: transparent;\n",
              "    border-bottom-color: var(--fill-color);\n",
              "    animation:\n",
              "      spin 1s steps(1) infinite;\n",
              "  }\n",
              "\n",
              "  @keyframes spin {\n",
              "    0% {\n",
              "      border-color: transparent;\n",
              "      border-bottom-color: var(--fill-color);\n",
              "      border-left-color: var(--fill-color);\n",
              "    }\n",
              "    20% {\n",
              "      border-color: transparent;\n",
              "      border-left-color: var(--fill-color);\n",
              "      border-top-color: var(--fill-color);\n",
              "    }\n",
              "    30% {\n",
              "      border-color: transparent;\n",
              "      border-left-color: var(--fill-color);\n",
              "      border-top-color: var(--fill-color);\n",
              "      border-right-color: var(--fill-color);\n",
              "    }\n",
              "    40% {\n",
              "      border-color: transparent;\n",
              "      border-right-color: var(--fill-color);\n",
              "      border-top-color: var(--fill-color);\n",
              "    }\n",
              "    60% {\n",
              "      border-color: transparent;\n",
              "      border-right-color: var(--fill-color);\n",
              "    }\n",
              "    80% {\n",
              "      border-color: transparent;\n",
              "      border-right-color: var(--fill-color);\n",
              "      border-bottom-color: var(--fill-color);\n",
              "    }\n",
              "    90% {\n",
              "      border-color: transparent;\n",
              "      border-bottom-color: var(--fill-color);\n",
              "    }\n",
              "  }\n",
              "</style>\n",
              "\n",
              "  <script>\n",
              "    async function quickchart(key) {\n",
              "      const quickchartButtonEl =\n",
              "        document.querySelector('#' + key + ' button');\n",
              "      quickchartButtonEl.disabled = true;  // To prevent multiple clicks.\n",
              "      quickchartButtonEl.classList.add('colab-df-spinner');\n",
              "      try {\n",
              "        const charts = await google.colab.kernel.invokeFunction(\n",
              "            'suggestCharts', [key], {});\n",
              "      } catch (error) {\n",
              "        console.error('Error during call to suggestCharts:', error);\n",
              "      }\n",
              "      quickchartButtonEl.classList.remove('colab-df-spinner');\n",
              "      quickchartButtonEl.classList.add('colab-df-quickchart-complete');\n",
              "    }\n",
              "    (() => {\n",
              "      let quickchartButtonEl =\n",
              "        document.querySelector('#df-1e3850c4-eb8f-4b82-9a49-4c02b253e1ee button');\n",
              "      quickchartButtonEl.style.display =\n",
              "        google.colab.kernel.accessAllowed ? 'block' : 'none';\n",
              "    })();\n",
              "  </script>\n",
              "</div>\n",
              "    </div>\n",
              "  </div>\n"
            ],
            "application/vnd.google.colaboratory.intrinsic+json": {
              "type": "dataframe",
              "variable_name": "df",
              "summary": "{\n  \"name\": \"df\",\n  \"rows\": 768,\n  \"fields\": [\n    {\n      \"column\": \"Pregnancies\",\n      \"properties\": {\n        \"dtype\": \"number\",\n        \"std\": 3,\n        \"min\": 0,\n        \"max\": 17,\n        \"num_unique_values\": 17,\n        \"samples\": [\n          6,\n          1,\n          3\n        ],\n        \"semantic_type\": \"\",\n        \"description\": \"\"\n      }\n    },\n    {\n      \"column\": \"Glucose\",\n      \"properties\": {\n        \"dtype\": \"number\",\n        \"std\": 31,\n        \"min\": 0,\n        \"max\": 199,\n        \"num_unique_values\": 136,\n        \"samples\": [\n          151,\n          101,\n          112\n        ],\n        \"semantic_type\": \"\",\n        \"description\": \"\"\n      }\n    },\n    {\n      \"column\": \"BloodPressure\",\n      \"properties\": {\n        \"dtype\": \"number\",\n        \"std\": 19,\n        \"min\": 0,\n        \"max\": 122,\n        \"num_unique_values\": 47,\n        \"samples\": [\n          86,\n          46,\n          85\n        ],\n        \"semantic_type\": \"\",\n        \"description\": \"\"\n      }\n    },\n    {\n      \"column\": \"SkinThickness\",\n      \"properties\": {\n        \"dtype\": \"number\",\n        \"std\": 15,\n        \"min\": 0,\n        \"max\": 99,\n        \"num_unique_values\": 51,\n        \"samples\": [\n          7,\n          12,\n          48\n        ],\n        \"semantic_type\": \"\",\n        \"description\": \"\"\n      }\n    },\n    {\n      \"column\": \"Insulin\",\n      \"properties\": {\n        \"dtype\": \"number\",\n        \"std\": 115,\n        \"min\": 0,\n        \"max\": 846,\n        \"num_unique_values\": 186,\n        \"samples\": [\n          52,\n          41,\n          183\n        ],\n        \"semantic_type\": \"\",\n        \"description\": \"\"\n      }\n    },\n    {\n      \"column\": \"BMI\",\n      \"properties\": {\n        \"dtype\": \"number\",\n        \"std\": 7.884160320375446,\n        \"min\": 0.0,\n        \"max\": 67.1,\n        \"num_unique_values\": 248,\n        \"samples\": [\n          19.9,\n          31.0,\n          38.1\n        ],\n        \"semantic_type\": \"\",\n        \"description\": \"\"\n      }\n    },\n    {\n      \"column\": \"DiabetesPedigreeFunction\",\n      \"properties\": {\n        \"dtype\": \"number\",\n        \"std\": 0.3313285950127749,\n        \"min\": 0.078,\n        \"max\": 2.42,\n        \"num_unique_values\": 517,\n        \"samples\": [\n          1.731,\n          0.426,\n          0.138\n        ],\n        \"semantic_type\": \"\",\n        \"description\": \"\"\n      }\n    },\n    {\n      \"column\": \"Age\",\n      \"properties\": {\n        \"dtype\": \"number\",\n        \"std\": 11,\n        \"min\": 21,\n        \"max\": 81,\n        \"num_unique_values\": 52,\n        \"samples\": [\n          60,\n          47,\n          72\n        ],\n        \"semantic_type\": \"\",\n        \"description\": \"\"\n      }\n    },\n    {\n      \"column\": \"Outcome\",\n      \"properties\": {\n        \"dtype\": \"number\",\n        \"std\": 0,\n        \"min\": 0,\n        \"max\": 1,\n        \"num_unique_values\": 2,\n        \"samples\": [\n          0,\n          1\n        ],\n        \"semantic_type\": \"\",\n        \"description\": \"\"\n      }\n    }\n  ]\n}"
            }
          },
          "metadata": {},
          "execution_count": 3
        }
      ],
      "source": [
        "import pandas as pd\n",
        "\n",
        "df = pd.read_csv('/content/drive/MyDrive/diabetes.csv') #подключили датасет через гугл диск\n",
        "##df = pd.read_csv('datasets/diabetes.csv', low_memory=False)\n",
        "df.head()"
      ]
    },
    {
      "cell_type": "code",
      "execution_count": 4,
      "metadata": {
        "colab": {
          "base_uri": "https://localhost:8080/",
          "height": 163
        },
        "id": "CngCtI0HzJPJ",
        "outputId": "0e675565-0a2b-43aa-ff92-d460940197ca"
      },
      "outputs": [
        {
          "output_type": "execute_result",
          "data": {
            "text/plain": [
              "         Pregnancies     Glucose  BloodPressure  SkinThickness     Insulin  \\\n",
              "Outcome                                                                      \n",
              "0           3.298000  109.980000      68.184000      19.664000   68.792000   \n",
              "1           4.865672  141.257463      70.824627      22.164179  100.335821   \n",
              "\n",
              "               BMI  DiabetesPedigreeFunction        Age  \n",
              "Outcome                                                  \n",
              "0        30.304200                  0.429734  31.190000  \n",
              "1        35.142537                  0.550500  37.067164  "
            ],
            "text/html": [
              "\n",
              "  <div id=\"df-fc813f39-9507-4665-a644-5ea81acae897\" class=\"colab-df-container\">\n",
              "    <div>\n",
              "<style scoped>\n",
              "    .dataframe tbody tr th:only-of-type {\n",
              "        vertical-align: middle;\n",
              "    }\n",
              "\n",
              "    .dataframe tbody tr th {\n",
              "        vertical-align: top;\n",
              "    }\n",
              "\n",
              "    .dataframe thead th {\n",
              "        text-align: right;\n",
              "    }\n",
              "</style>\n",
              "<table border=\"1\" class=\"dataframe\">\n",
              "  <thead>\n",
              "    <tr style=\"text-align: right;\">\n",
              "      <th></th>\n",
              "      <th>Pregnancies</th>\n",
              "      <th>Glucose</th>\n",
              "      <th>BloodPressure</th>\n",
              "      <th>SkinThickness</th>\n",
              "      <th>Insulin</th>\n",
              "      <th>BMI</th>\n",
              "      <th>DiabetesPedigreeFunction</th>\n",
              "      <th>Age</th>\n",
              "    </tr>\n",
              "    <tr>\n",
              "      <th>Outcome</th>\n",
              "      <th></th>\n",
              "      <th></th>\n",
              "      <th></th>\n",
              "      <th></th>\n",
              "      <th></th>\n",
              "      <th></th>\n",
              "      <th></th>\n",
              "      <th></th>\n",
              "    </tr>\n",
              "  </thead>\n",
              "  <tbody>\n",
              "    <tr>\n",
              "      <th>0</th>\n",
              "      <td>3.298000</td>\n",
              "      <td>109.980000</td>\n",
              "      <td>68.184000</td>\n",
              "      <td>19.664000</td>\n",
              "      <td>68.792000</td>\n",
              "      <td>30.304200</td>\n",
              "      <td>0.429734</td>\n",
              "      <td>31.190000</td>\n",
              "    </tr>\n",
              "    <tr>\n",
              "      <th>1</th>\n",
              "      <td>4.865672</td>\n",
              "      <td>141.257463</td>\n",
              "      <td>70.824627</td>\n",
              "      <td>22.164179</td>\n",
              "      <td>100.335821</td>\n",
              "      <td>35.142537</td>\n",
              "      <td>0.550500</td>\n",
              "      <td>37.067164</td>\n",
              "    </tr>\n",
              "  </tbody>\n",
              "</table>\n",
              "</div>\n",
              "    <div class=\"colab-df-buttons\">\n",
              "\n",
              "  <div class=\"colab-df-container\">\n",
              "    <button class=\"colab-df-convert\" onclick=\"convertToInteractive('df-fc813f39-9507-4665-a644-5ea81acae897')\"\n",
              "            title=\"Convert this dataframe to an interactive table.\"\n",
              "            style=\"display:none;\">\n",
              "\n",
              "  <svg xmlns=\"http://www.w3.org/2000/svg\" height=\"24px\" viewBox=\"0 -960 960 960\">\n",
              "    <path d=\"M120-120v-720h720v720H120Zm60-500h600v-160H180v160Zm220 220h160v-160H400v160Zm0 220h160v-160H400v160ZM180-400h160v-160H180v160Zm440 0h160v-160H620v160ZM180-180h160v-160H180v160Zm440 0h160v-160H620v160Z\"/>\n",
              "  </svg>\n",
              "    </button>\n",
              "\n",
              "  <style>\n",
              "    .colab-df-container {\n",
              "      display:flex;\n",
              "      gap: 12px;\n",
              "    }\n",
              "\n",
              "    .colab-df-convert {\n",
              "      background-color: #E8F0FE;\n",
              "      border: none;\n",
              "      border-radius: 50%;\n",
              "      cursor: pointer;\n",
              "      display: none;\n",
              "      fill: #1967D2;\n",
              "      height: 32px;\n",
              "      padding: 0 0 0 0;\n",
              "      width: 32px;\n",
              "    }\n",
              "\n",
              "    .colab-df-convert:hover {\n",
              "      background-color: #E2EBFA;\n",
              "      box-shadow: 0px 1px 2px rgba(60, 64, 67, 0.3), 0px 1px 3px 1px rgba(60, 64, 67, 0.15);\n",
              "      fill: #174EA6;\n",
              "    }\n",
              "\n",
              "    .colab-df-buttons div {\n",
              "      margin-bottom: 4px;\n",
              "    }\n",
              "\n",
              "    [theme=dark] .colab-df-convert {\n",
              "      background-color: #3B4455;\n",
              "      fill: #D2E3FC;\n",
              "    }\n",
              "\n",
              "    [theme=dark] .colab-df-convert:hover {\n",
              "      background-color: #434B5C;\n",
              "      box-shadow: 0px 1px 3px 1px rgba(0, 0, 0, 0.15);\n",
              "      filter: drop-shadow(0px 1px 2px rgba(0, 0, 0, 0.3));\n",
              "      fill: #FFFFFF;\n",
              "    }\n",
              "  </style>\n",
              "\n",
              "    <script>\n",
              "      const buttonEl =\n",
              "        document.querySelector('#df-fc813f39-9507-4665-a644-5ea81acae897 button.colab-df-convert');\n",
              "      buttonEl.style.display =\n",
              "        google.colab.kernel.accessAllowed ? 'block' : 'none';\n",
              "\n",
              "      async function convertToInteractive(key) {\n",
              "        const element = document.querySelector('#df-fc813f39-9507-4665-a644-5ea81acae897');\n",
              "        const dataTable =\n",
              "          await google.colab.kernel.invokeFunction('convertToInteractive',\n",
              "                                                    [key], {});\n",
              "        if (!dataTable) return;\n",
              "\n",
              "        const docLinkHtml = 'Like what you see? Visit the ' +\n",
              "          '<a target=\"_blank\" href=https://colab.research.google.com/notebooks/data_table.ipynb>data table notebook</a>'\n",
              "          + ' to learn more about interactive tables.';\n",
              "        element.innerHTML = '';\n",
              "        dataTable['output_type'] = 'display_data';\n",
              "        await google.colab.output.renderOutput(dataTable, element);\n",
              "        const docLink = document.createElement('div');\n",
              "        docLink.innerHTML = docLinkHtml;\n",
              "        element.appendChild(docLink);\n",
              "      }\n",
              "    </script>\n",
              "  </div>\n",
              "\n",
              "\n",
              "<div id=\"df-db05ba9c-5fa3-4130-b255-8fb8e3a77849\">\n",
              "  <button class=\"colab-df-quickchart\" onclick=\"quickchart('df-db05ba9c-5fa3-4130-b255-8fb8e3a77849')\"\n",
              "            title=\"Suggest charts\"\n",
              "            style=\"display:none;\">\n",
              "\n",
              "<svg xmlns=\"http://www.w3.org/2000/svg\" height=\"24px\"viewBox=\"0 0 24 24\"\n",
              "     width=\"24px\">\n",
              "    <g>\n",
              "        <path d=\"M19 3H5c-1.1 0-2 .9-2 2v14c0 1.1.9 2 2 2h14c1.1 0 2-.9 2-2V5c0-1.1-.9-2-2-2zM9 17H7v-7h2v7zm4 0h-2V7h2v10zm4 0h-2v-4h2v4z\"/>\n",
              "    </g>\n",
              "</svg>\n",
              "  </button>\n",
              "\n",
              "<style>\n",
              "  .colab-df-quickchart {\n",
              "      --bg-color: #E8F0FE;\n",
              "      --fill-color: #1967D2;\n",
              "      --hover-bg-color: #E2EBFA;\n",
              "      --hover-fill-color: #174EA6;\n",
              "      --disabled-fill-color: #AAA;\n",
              "      --disabled-bg-color: #DDD;\n",
              "  }\n",
              "\n",
              "  [theme=dark] .colab-df-quickchart {\n",
              "      --bg-color: #3B4455;\n",
              "      --fill-color: #D2E3FC;\n",
              "      --hover-bg-color: #434B5C;\n",
              "      --hover-fill-color: #FFFFFF;\n",
              "      --disabled-bg-color: #3B4455;\n",
              "      --disabled-fill-color: #666;\n",
              "  }\n",
              "\n",
              "  .colab-df-quickchart {\n",
              "    background-color: var(--bg-color);\n",
              "    border: none;\n",
              "    border-radius: 50%;\n",
              "    cursor: pointer;\n",
              "    display: none;\n",
              "    fill: var(--fill-color);\n",
              "    height: 32px;\n",
              "    padding: 0;\n",
              "    width: 32px;\n",
              "  }\n",
              "\n",
              "  .colab-df-quickchart:hover {\n",
              "    background-color: var(--hover-bg-color);\n",
              "    box-shadow: 0 1px 2px rgba(60, 64, 67, 0.3), 0 1px 3px 1px rgba(60, 64, 67, 0.15);\n",
              "    fill: var(--button-hover-fill-color);\n",
              "  }\n",
              "\n",
              "  .colab-df-quickchart-complete:disabled,\n",
              "  .colab-df-quickchart-complete:disabled:hover {\n",
              "    background-color: var(--disabled-bg-color);\n",
              "    fill: var(--disabled-fill-color);\n",
              "    box-shadow: none;\n",
              "  }\n",
              "\n",
              "  .colab-df-spinner {\n",
              "    border: 2px solid var(--fill-color);\n",
              "    border-color: transparent;\n",
              "    border-bottom-color: var(--fill-color);\n",
              "    animation:\n",
              "      spin 1s steps(1) infinite;\n",
              "  }\n",
              "\n",
              "  @keyframes spin {\n",
              "    0% {\n",
              "      border-color: transparent;\n",
              "      border-bottom-color: var(--fill-color);\n",
              "      border-left-color: var(--fill-color);\n",
              "    }\n",
              "    20% {\n",
              "      border-color: transparent;\n",
              "      border-left-color: var(--fill-color);\n",
              "      border-top-color: var(--fill-color);\n",
              "    }\n",
              "    30% {\n",
              "      border-color: transparent;\n",
              "      border-left-color: var(--fill-color);\n",
              "      border-top-color: var(--fill-color);\n",
              "      border-right-color: var(--fill-color);\n",
              "    }\n",
              "    40% {\n",
              "      border-color: transparent;\n",
              "      border-right-color: var(--fill-color);\n",
              "      border-top-color: var(--fill-color);\n",
              "    }\n",
              "    60% {\n",
              "      border-color: transparent;\n",
              "      border-right-color: var(--fill-color);\n",
              "    }\n",
              "    80% {\n",
              "      border-color: transparent;\n",
              "      border-right-color: var(--fill-color);\n",
              "      border-bottom-color: var(--fill-color);\n",
              "    }\n",
              "    90% {\n",
              "      border-color: transparent;\n",
              "      border-bottom-color: var(--fill-color);\n",
              "    }\n",
              "  }\n",
              "</style>\n",
              "\n",
              "  <script>\n",
              "    async function quickchart(key) {\n",
              "      const quickchartButtonEl =\n",
              "        document.querySelector('#' + key + ' button');\n",
              "      quickchartButtonEl.disabled = true;  // To prevent multiple clicks.\n",
              "      quickchartButtonEl.classList.add('colab-df-spinner');\n",
              "      try {\n",
              "        const charts = await google.colab.kernel.invokeFunction(\n",
              "            'suggestCharts', [key], {});\n",
              "      } catch (error) {\n",
              "        console.error('Error during call to suggestCharts:', error);\n",
              "      }\n",
              "      quickchartButtonEl.classList.remove('colab-df-spinner');\n",
              "      quickchartButtonEl.classList.add('colab-df-quickchart-complete');\n",
              "    }\n",
              "    (() => {\n",
              "      let quickchartButtonEl =\n",
              "        document.querySelector('#df-db05ba9c-5fa3-4130-b255-8fb8e3a77849 button');\n",
              "      quickchartButtonEl.style.display =\n",
              "        google.colab.kernel.accessAllowed ? 'block' : 'none';\n",
              "    })();\n",
              "  </script>\n",
              "</div>\n",
              "    </div>\n",
              "  </div>\n"
            ],
            "application/vnd.google.colaboratory.intrinsic+json": {
              "type": "dataframe",
              "summary": "{\n  \"name\": \"teachdata\",\n  \"rows\": 2,\n  \"fields\": [\n    {\n      \"column\": \"Outcome\",\n      \"properties\": {\n        \"dtype\": \"number\",\n        \"std\": 0,\n        \"min\": 0,\n        \"max\": 1,\n        \"num_unique_values\": 2,\n        \"samples\": [\n          1,\n          0\n        ],\n        \"semantic_type\": \"\",\n        \"description\": \"\"\n      }\n    },\n    {\n      \"column\": \"Pregnancies\",\n      \"properties\": {\n        \"dtype\": \"number\",\n        \"std\": 1.108511248584296,\n        \"min\": 3.298,\n        \"max\": 4.865671641791045,\n        \"num_unique_values\": 2,\n        \"samples\": [\n          4.865671641791045,\n          3.298\n        ],\n        \"semantic_type\": \"\",\n        \"description\": \"\"\n      }\n    },\n    {\n      \"column\": \"Glucose\",\n      \"properties\": {\n        \"dtype\": \"number\",\n        \"std\": 22.116505963980842,\n        \"min\": 109.98,\n        \"max\": 141.25746268656715,\n        \"num_unique_values\": 2,\n        \"samples\": [\n          141.25746268656715,\n          109.98\n        ],\n        \"semantic_type\": \"\",\n        \"description\": \"\"\n      }\n    },\n    {\n      \"column\": \"BloodPressure\",\n      \"properties\": {\n        \"dtype\": \"number\",\n        \"std\": 1.8672051632998017,\n        \"min\": 68.184,\n        \"max\": 70.82462686567165,\n        \"num_unique_values\": 2,\n        \"samples\": [\n          70.82462686567165,\n          68.184\n        ],\n        \"semantic_type\": \"\",\n        \"description\": \"\"\n      }\n    },\n    {\n      \"column\": \"SkinThickness\",\n      \"properties\": {\n        \"dtype\": \"number\",\n        \"std\": 1.7678935989570275,\n        \"min\": 19.664,\n        \"max\": 22.16417910447761,\n        \"num_unique_values\": 2,\n        \"samples\": [\n          22.16417910447761,\n          19.664\n        ],\n        \"semantic_type\": \"\",\n        \"description\": \"\"\n      }\n    },\n    {\n      \"column\": \"Insulin\",\n      \"properties\": {\n        \"dtype\": \"number\",\n        \"std\": 22.304849659757796,\n        \"min\": 68.792,\n        \"max\": 100.33582089552239,\n        \"num_unique_values\": 2,\n        \"samples\": [\n          100.33582089552239,\n          68.792\n        ],\n        \"semantic_type\": \"\",\n        \"description\": \"\"\n      }\n    },\n    {\n      \"column\": \"BMI\",\n      \"properties\": {\n        \"dtype\": \"number\",\n        \"std\": 3.4212211239962618,\n        \"min\": 30.3042,\n        \"max\": 35.14253731343284,\n        \"num_unique_values\": 2,\n        \"samples\": [\n          35.14253731343284,\n          30.3042\n        ],\n        \"semantic_type\": \"\",\n        \"description\": \"\"\n      }\n    },\n    {\n      \"column\": \"DiabetesPedigreeFunction\",\n      \"properties\": {\n        \"dtype\": \"number\",\n        \"std\": 0.08539445753677459,\n        \"min\": 0.429734,\n        \"max\": 0.5505,\n        \"num_unique_values\": 2,\n        \"samples\": [\n          0.5505,\n          0.429734\n        ],\n        \"semantic_type\": \"\",\n        \"description\": \"\"\n      }\n    },\n    {\n      \"column\": \"Age\",\n      \"properties\": {\n        \"dtype\": \"number\",\n        \"std\": 4.155782645191446,\n        \"min\": 31.19,\n        \"max\": 37.06716417910448,\n        \"num_unique_values\": 2,\n        \"samples\": [\n          37.06716417910448,\n          31.19\n        ],\n        \"semantic_type\": \"\",\n        \"description\": \"\"\n      }\n    }\n  ]\n}"
            }
          },
          "metadata": {},
          "execution_count": 4
        }
      ],
      "source": [
        "import random\n",
        "import matplotlib.pyplot as plt\n",
        "import scipy.stats as stats\n",
        "import numpy as np\n",
        "import seaborn as sns\n",
        "\n",
        "data = df.loc[~df[['Pregnancies', 'Glucose', 'BloodPressure', 'SkinThickness', 'Insulin',\n",
        "       'BMI', 'DiabetesPedigreeFunction', 'Age']].isna().any(axis=1)]\n",
        "\n",
        "teachdata = df.loc[~df[['Pregnancies', 'Glucose', 'BloodPressure', 'SkinThickness', 'Insulin',\n",
        "       'BMI', 'DiabetesPedigreeFunction', 'Age', 'Outcome']].isna().any(axis=1)]\n",
        "\n",
        "teachdata.groupby('Outcome').mean()"
      ]
    },
    {
      "cell_type": "markdown",
      "metadata": {
        "id": "xDXtwr-W1z22"
      },
      "source": [
        "Первичные наблюдения из средних значений:\n",
        "1)Уровень глюкозы в крови диабетиков сильно выше, чем у здоровых людей\n",
        "2)Беременность довольно сильно повышает риск появления диабета\n",
        "3)С возрастом вероятность заболеть диабетом растет\n",
        "4)Чем больше вес человека, тем больше риск заболеть диабетом\n",
        "5)Так называемая DPF, отвечающая за генетическую предрасположенность способна предсказать риск заболеть диабетом,\n",
        "но не является точным индикатором"
      ]
    },
    {
      "cell_type": "code",
      "execution_count": 5,
      "metadata": {
        "colab": {
          "base_uri": "https://localhost:8080/",
          "height": 556
        },
        "id": "Zdy4g9zr0VnO",
        "outputId": "7466bd77-53d9-4105-b62a-9e1a58f02010"
      },
      "outputs": [
        {
          "output_type": "stream",
          "name": "stderr",
          "text": [
            "<ipython-input-5-b1fc29b3b2df>:2: FutureWarning: \n",
            "\n",
            "Passing `palette` without assigning `hue` is deprecated and will be removed in v0.14.0. Assign the `x` variable to `hue` and set `legend=False` for the same effect.\n",
            "\n",
            "  sns.countplot(x='Outcome', data=teachdata, palette = 'hls')\n"
          ]
        },
        {
          "output_type": "display_data",
          "data": {
            "text/plain": [
              "<Figure size 640x480 with 1 Axes>"
            ],
            "image/png": "[encoded data removed]"
          },
          "metadata": {}
        }
      ],
      "source": [
        "outc = teachdata['Outcome'].value_counts()\n",
        "sns.countplot(x='Outcome', data=teachdata, palette = 'hls')\n",
        "plt.show()"
      ]
    },
    {
      "cell_type": "markdown",
      "metadata": {
        "id": "94OQbS0H1z25"
      },
      "source": [
        "Классы здоровых и болеющих диабетом людей отличаются в 2 раза, что не критично.\n",
        "Можно считать классы сбалансированными(потом проверим это ещё раз и подтвердим)."
      ]
    },
    {
      "cell_type": "code",
      "execution_count": 6,
      "metadata": {
        "colab": {
          "base_uri": "https://localhost:8080/",
          "height": 902
        },
        "id": "lHfeYr2s1z26",
        "outputId": "f62aebe5-7118-45da-d9eb-d5a577d06885"
      },
      "outputs": [
        {
          "output_type": "execute_result",
          "data": {
            "text/plain": [
              "<Axes: ylabel='Density'>"
            ]
          },
          "metadata": {},
          "execution_count": 6
        },
        {
          "output_type": "display_data",
          "data": {
            "text/plain": [
              "<Figure size 640x480 with 1 Axes>"
            ],
            "image/png": "[encoded data removed]"
          },
          "metadata": {}
        },
        {
          "output_type": "display_data",
          "data": {
            "text/plain": [
              "<Figure size 640x480 with 1 Axes>"
            ],
            "image/png": "[encoded data removed]"
          },
          "metadata": {}
        }
      ],
      "source": [
        "pd.crosstab(teachdata.loc[teachdata.Glucose > 0].Glucose,teachdata.Outcome).plot(title=\"Glucose plots\")\n",
        "pd.crosstab(teachdata.loc[teachdata.Glucose > 0].Glucose,teachdata.Outcome).plot.density()"
      ]
    },
    {
      "cell_type": "code",
      "execution_count": 7,
      "metadata": {
        "colab": {
          "base_uri": "https://localhost:8080/",
          "height": 902
        },
        "id": "bbtp5jfT1z27",
        "outputId": "37e71084-8515-4848-e62d-d42b5392850f"
      },
      "outputs": [
        {
          "output_type": "execute_result",
          "data": {
            "text/plain": [
              "<Axes: ylabel='Density'>"
            ]
          },
          "metadata": {},
          "execution_count": 7
        },
        {
          "output_type": "display_data",
          "data": {
            "text/plain": [
              "<Figure size 640x480 with 1 Axes>"
            ],
            "image/png": "[encoded data removed]"
          },
          "metadata": {}
        },
        {
          "output_type": "display_data",
          "data": {
            "text/plain": [
              "<Figure size 640x480 with 1 Axes>"
            ],
            "image/png": "[encoded data removed]"
          },
          "metadata": {}
        }
      ],
      "source": [
        "dat = teachdata.loc[teachdata.Insulin > 0]\n",
        "pd.crosstab(dat.Insulin,dat.Outcome).plot(title=\"Insulin plots\")\n",
        "pd.crosstab(dat.Insulin,dat.Outcome).plot.density()"
      ]
    },
    {
      "cell_type": "code",
      "execution_count": 8,
      "metadata": {
        "colab": {
          "base_uri": "https://localhost:8080/",
          "height": 902
        },
        "id": "qaAgtU291z28",
        "outputId": "3d726135-8ca1-49e2-9f89-093e4b6b4d1d"
      },
      "outputs": [
        {
          "output_type": "execute_result",
          "data": {
            "text/plain": [
              "<Axes: ylabel='Density'>"
            ]
          },
          "metadata": {},
          "execution_count": 8
        },
        {
          "output_type": "display_data",
          "data": {
            "text/plain": [
              "<Figure size 640x480 with 1 Axes>"
            ],
            "image/png": "[encoded data removed]"
          },
          "metadata": {}
        },
        {
          "output_type": "display_data",
          "data": {
            "text/plain": [
              "<Figure size 640x480 with 1 Axes>"
            ],
            "image/png": "[encoded data removed]"
          },
          "metadata": {}
        }
      ],
      "source": [
        "pd.crosstab(teachdata.loc[teachdata.Age < 70].Age,teachdata.Outcome).plot(title=\"Age plots\")\n",
        "pd.crosstab(teachdata.loc[teachdata.Age < 70].Age,teachdata.Outcome).plot.density()"
      ]
    },
    {
      "cell_type": "code",
      "execution_count": 15,
      "metadata": {
        "colab": {
          "base_uri": "https://localhost:8080/"
        },
        "id": "l9tQip7LEPHb",
        "outputId": "7ece6e05-c1cf-44e4-8480-3afda807b95c"
      },
      "outputs": [
        {
          "output_type": "stream",
          "name": "stdout",
          "text": [
            "Accuracy: 0.7291666666666666\n",
            "              precision    recall  f1-score   support\n",
            "\n",
            "           0       0.80      0.77      0.79       123\n",
            "           1       0.62      0.65      0.63        69\n",
            "\n",
            "    accuracy                           0.73       192\n",
            "   macro avg       0.71      0.71      0.71       192\n",
            "weighted avg       0.73      0.73      0.73       192\n",
            "\n",
            "Confusion Matrix:\n",
            "[[95 28]\n",
            " [24 45]]\n"
          ]
        },
        {
          "output_type": "stream",
          "name": "stderr",
          "text": [
            "/usr/local/lib/python3.10/dist-packages/sklearn/linear_model/_logistic.py:458: ConvergenceWarning: lbfgs failed to converge (status=1):\n",
            "STOP: TOTAL NO. of ITERATIONS REACHED LIMIT.\n",
            "\n",
            "Increase the number of iterations (max_iter) or scale the data as shown in:\n",
            "    https://scikit-learn.org/stable/modules/preprocessing.html\n",
            "Please also refer to the documentation for alternative solver options:\n",
            "    https://scikit-learn.org/stable/modules/linear_model.html#logistic-regression\n",
            "  n_iter_i = _check_optimize_result(\n"
          ]
        }
      ],
      "source": [
        "from sklearn.model_selection import train_test_split\n",
        "from sklearn.linear_model import LogisticRegression\n",
        "from sklearn.metrics import accuracy_score, classification_report, confusion_matrix\n",
        "\n",
        "X = teachdata.drop('Outcome', axis=1)\n",
        "y = teachdata['Outcome']\n",
        "\n",
        "X_train, X_test, y_train, y_test = train_test_split(X, y, test_size=0.25, random_state=42, shuffle = True)\n",
        "\n",
        "model = LogisticRegression()\n",
        "model.fit(X_train, y_train)\n",
        "\n",
        "y_pred = model.predict(X_test)\n",
        "\n",
        "accuracy = accuracy_score(y_test, y_pred)\n",
        "print(\"Accuracy:\", accuracy)\n",
        "\n",
        "print(classification_report(y_test, y_pred))\n",
        "\n",
        "print(\"Confusion Matrix:\")\n",
        "print(confusion_matrix(y_test, y_pred))"
      ]
    },
    {
      "cell_type": "markdown",
      "source": [
        "Модель демонстрирует приемлемую, но не идеальную производительность. Она имеет некоторую способность различать образцы класса 0 и класса 1, но существует пространство для улучшений. Возможно, оптимизация гиперпараметров модели может улучшить ее производительность."
      ],
      "metadata": {
        "id": "NSYbft0pJN-c"
      }
    },
    {
      "cell_type": "code",
      "execution_count": 17,
      "metadata": {
        "colab": {
          "base_uri": "https://localhost:8080/"
        },
        "id": "Hfs9QCdantoP",
        "outputId": "73064ed0-6824-4765-880f-97b95f446aec"
      },
      "outputs": [
        {
          "output_type": "stream",
          "name": "stdout",
          "text": [
            "Best Parameters: {'C': 10, 'class_weight': None, 'penalty': 'l2', 'solver': 'liblinear'}\n",
            "Best Accuracy: 0.777736131934033\n",
            "              precision    recall  f1-score   support\n",
            "\n",
            "           0       0.79      0.77      0.78       123\n",
            "           1       0.61      0.64      0.62        69\n",
            "\n",
            "    accuracy                           0.72       192\n",
            "   macro avg       0.70      0.71      0.70       192\n",
            "weighted avg       0.73      0.72      0.73       192\n",
            "\n"
          ]
        }
      ],
      "source": [
        "from sklearn.model_selection import GridSearchCV\n",
        "from sklearn.metrics import classification_report\n",
        "\n",
        "param_grid = {\n",
        "    'penalty': ['l1', 'l2'],  # Тип регуляризации\n",
        "    'C': [0.001, 0.01, 0.1, 1, 10, 100],  # Обратная сила регуляризации\n",
        "    'solver': ['liblinear'],  # Алгоритм оптимизации\n",
        "    'class_weight': [None, 'balanced']  # Балансировка классов\n",
        "}\n",
        "\n",
        "model = LogisticRegression()\n",
        "\n",
        "grid_search = GridSearchCV(model, param_grid, cv=5, scoring='accuracy')\n",
        "grid_search.fit(X_train, y_train)\n",
        "\n",
        "print(\"Best Parameters:\", grid_search.best_params_)\n",
        "print(\"Best Accuracy:\", grid_search.best_score_)\n",
        "y_pred = grid_search.predict(X_test)\n",
        "print(classification_report(y_test, y_pred))\n"
      ]
    },
    {
      "cell_type": "markdown",
      "source": [
        "С помощью gridsearch удалось добиться значительного улучшения параметра accuracy, почти до 78%. Однако, precision и recall для класса 1 остались примерно на том же уровне"
      ],
      "metadata": {
        "id": "2IHl03_zOSew"
      }
    },
    {
      "cell_type": "markdown",
      "source": [
        "Протестируем метод catboost и попробуем улучшить нашу модель"
      ],
      "metadata": {
        "id": "c3tDWPzTQlWg"
      }
    },
    {
      "cell_type": "code",
      "source": [
        "!pip install catboost"
      ],
      "metadata": {
        "colab": {
          "base_uri": "https://localhost:8080/"
        },
        "id": "5LfL6FdgQ1Xg",
        "outputId": "b0e2ddfc-d04a-43e7-df01-758cb46d454f"
      },
      "execution_count": 19,
      "outputs": [
        {
          "output_type": "stream",
          "name": "stdout",
          "text": [
            "Requirement already satisfied: catboost in /usr/local/lib/python3.10/dist-packages (1.2.3)\n",
            "Requirement already satisfied: graphviz in /usr/local/lib/python3.10/dist-packages (from catboost) (0.20.3)\n",
            "Requirement already satisfied: matplotlib in /usr/local/lib/python3.10/dist-packages (from catboost) (3.7.1)\n",
            "Requirement already satisfied: numpy>=1.16.0 in /usr/local/lib/python3.10/dist-packages (from catboost) (1.25.2)\n",
            "Requirement already satisfied: pandas>=0.24 in /usr/local/lib/python3.10/dist-packages (from catboost) (2.0.3)\n",
            "Requirement already satisfied: scipy in /usr/local/lib/python3.10/dist-packages (from catboost) (1.11.4)\n",
            "Requirement already satisfied: plotly in /usr/local/lib/python3.10/dist-packages (from catboost) (5.15.0)\n",
            "Requirement already satisfied: six in /usr/local/lib/python3.10/dist-packages (from catboost) (1.16.0)\n",
            "Requirement already satisfied: python-dateutil>=2.8.2 in /usr/local/lib/python3.10/dist-packages (from pandas>=0.24->catboost) (2.8.2)\n",
            "Requirement already satisfied: pytz>=2020.1 in /usr/local/lib/python3.10/dist-packages (from pandas>=0.24->catboost) (2023.4)\n",
            "Requirement already satisfied: tzdata>=2022.1 in /usr/local/lib/python3.10/dist-packages (from pandas>=0.24->catboost) (2024.1)\n",
            "Requirement already satisfied: contourpy>=1.0.1 in /usr/local/lib/python3.10/dist-packages (from matplotlib->catboost) (1.2.1)\n",
            "Requirement already satisfied: cycler>=0.10 in /usr/local/lib/python3.10/dist-packages (from matplotlib->catboost) (0.12.1)\n",
            "Requirement already satisfied: fonttools>=4.22.0 in /usr/local/lib/python3.10/dist-packages (from matplotlib->catboost) (4.51.0)\n",
            "Requirement already satisfied: kiwisolver>=1.0.1 in /usr/local/lib/python3.10/dist-packages (from matplotlib->catboost) (1.4.5)\n",
            "Requirement already satisfied: packaging>=20.0 in /usr/local/lib/python3.10/dist-packages (from matplotlib->catboost) (24.0)\n",
            "Requirement already satisfied: pillow>=6.2.0 in /usr/local/lib/python3.10/dist-packages (from matplotlib->catboost) (9.4.0)\n",
            "Requirement already satisfied: pyparsing>=2.3.1 in /usr/local/lib/python3.10/dist-packages (from matplotlib->catboost) (3.1.2)\n",
            "Requirement already satisfied: tenacity>=6.2.0 in /usr/local/lib/python3.10/dist-packages (from plotly->catboost) (8.2.3)\n"
          ]
        }
      ]
    },
    {
      "cell_type": "code",
      "source": [
        "from google.colab import output\n",
        "output.enable_custom_widget_manager()"
      ],
      "metadata": {
        "id": "WStYHi-QQ8Tg"
      },
      "execution_count": 20,
      "outputs": []
    },
    {
      "cell_type": "code",
      "source": [
        "from sklearn.model_selection import train_test_split\n",
        "from catboost import CatBoostClassifier\n",
        "from sklearn.metrics import accuracy_score, classification_report, confusion_matrix\n",
        "\n",
        "X = teachdata.drop('Outcome', axis=1)\n",
        "y = teachdata['Outcome']\n",
        "\n",
        "X_train, X_test, y_train, y_test = train_test_split(X, y, test_size=0.25, random_state=42, shuffle=True)\n",
        "\n",
        "params = {\"iterations\": 500,\n",
        "          \"depth\":5,\n",
        "          \"loss_function\": \"Logloss\",\n",
        "          \"verbose\": False}\n",
        "          #\"learning_rate\": 0.001}\n",
        "\n",
        "model = CatBoostClassifier(**params)\n",
        "model.fit(X_train, y_train, plot=True, eval_set=(X_test, y_test))\n",
        "\n",
        "y_pred = model.predict(X_test)\n",
        "\n",
        "accuracy = accuracy_score(y_test, y_pred)\n",
        "print(\"Accuracy:\", accuracy)\n",
        "\n",
        "print(classification_report(y_test, y_pred))\n",
        "\n",
        "print(\"Confusion Matrix:\")\n",
        "print(confusion_matrix(y_test, y_pred))"
      ],
      "metadata": {
        "colab": {
          "base_uri": "https://localhost:8080/",
          "height": 243,
          "referenced_widgets": [
            "ee6beda4b7f04871b58edf32c7c32dcc"
          ]
        },
        "id": "NxE8AUjbRBQb",
        "outputId": "4f1b74a6-c3cd-416a-d908-2b74c6946051"
      },
      "execution_count": 21,
      "outputs": [
        {
          "output_type": "display_data",
          "data": {
            "text/plain": [
              "MetricVisualizer(layout=Layout(align_self='stretch', height='500px'))"
            ],
            "application/vnd.jupyter.widget-view+json": {
              "version_major": 2,
              "version_minor": 0,
              "model_id": "ee6beda4b7f04871b58edf32c7c32dcc"
            }
          },
          "metadata": {}
        },
        {
          "output_type": "stream",
          "name": "stdout",
          "text": [
            "Accuracy: 0.7604166666666666\n",
            "              precision    recall  f1-score   support\n",
            "\n",
            "           0       0.80      0.83      0.82       123\n",
            "           1       0.68      0.64      0.66        69\n",
            "\n",
            "    accuracy                           0.76       192\n",
            "   macro avg       0.74      0.73      0.74       192\n",
            "weighted avg       0.76      0.76      0.76       192\n",
            "\n",
            "Confusion Matrix:\n",
            "[[102  21]\n",
            " [ 25  44]]\n"
          ]
        }
      ]
    },
    {
      "cell_type": "markdown",
      "source": [
        "Как мы видим, показатели precision и recall выросли для обоих классов. Accuracy упало до 76%, но все же это выше чем у 1й модели (72%). Поэтому этот алгоритм является наиболее оптимальным"
      ],
      "metadata": {
        "id": "9Ntl6X-oRSUZ"
      }
    },
    {
      "cell_type": "markdown",
      "source": [
        "Построим ROC кривую нашей модели, чтобы визуально оценить ее производительность"
      ],
      "metadata": {
        "id": "u39YwU80TeWY"
      }
    },
    {
      "cell_type": "code",
      "execution_count": 22,
      "metadata": {
        "colab": {
          "base_uri": "https://localhost:8080/",
          "height": 564
        },
        "id": "s7h5Ofj9kqgW",
        "outputId": "e12951bd-62ce-4c28-d898-08bcab8842c8"
      },
      "outputs": [
        {
          "output_type": "display_data",
          "data": {
            "text/plain": [
              "<Figure size 800x600 with 1 Axes>"
            ],
            "image/png": "[encoded data removed]"
          },
          "metadata": {}
        }
      ],
      "source": [
        "from sklearn.metrics import roc_curve, roc_auc_score\n",
        "import matplotlib.pyplot as plt\n",
        "\n",
        "positive_class_index = 1\n",
        "negative_class_index = 0\n",
        "\n",
        "fpr_pos, tpr_pos, thresholds_pos = roc_curve(y_test, y_pred, pos_label=positive_class_index)\n",
        "fpr_neg, tpr_neg, thresholds_neg = roc_curve(y_test, 1 - y_pred, pos_label=negative_class_index)\n",
        "\n",
        "plt.figure(figsize=(8, 6))\n",
        "plt.plot(fpr_pos, tpr_pos, color='blue', lw=2, label='ROC curve (Class 1)')\n",
        "plt.plot(fpr_neg, tpr_neg, color='green', lw=2, label='ROC curve (Class 0)')\n",
        "plt.plot([0, 1], [0, 1], color='red', linestyle='--')\n",
        "plt.xlabel('False Positive Rate')\n",
        "plt.ylabel('True Positive Rate')\n",
        "plt.title('ROC Curves for Each Class')\n",
        "plt.legend()\n",
        "plt.show()\n"
      ]
    },
    {
      "cell_type": "markdown",
      "source": [
        "##Исследование модели предсказания диабета позволяет сделать несколько ключевых выводов:\n",
        "\n",
        "1. Производительность модели: Модель демонстрирует довольно неплохую производительность с точностью около 80%. Однако, есть некоторое количество ложных предсказаний.\n",
        "\n",
        "2. Классификация: Модель способна правильно классифицировать большинство случаев, но имеет тенденцию совершать ошибки в предсказании положительных случаев (что не очень хорошо :) )"
      ],
      "metadata": {
        "id": "Pht7WdTfS_I3"
      }
    }
  ],
  "metadata": {
    "colab": {
      "provenance": [],
      "include_colab_link": true
    },
    "kernelspec": {
      "display_name": "Python 3 (ipykernel)",
      "language": "python",
      "name": "python3"
    },
    "language_info": {
      "codemirror_mode": {
        "name": "ipython",
        "version": 3
      },
      "file_extension": ".py",
      "mimetype": "text/x-python",
      "name": "python",
      "nbconvert_exporter": "python",
      "pygments_lexer": "ipython3",
      "version": "3.11.2"
    },
    "widgets": {
      "application/vnd.jupyter.widget-state+json": {
        "ee6beda4b7f04871b58edf32c7c32dcc": {
          "model_module": "catboost-widget",
          "model_name": "CatboostWidgetModel",
          "model_module_version": "^1.0.0",
          "state": {
            "_dom_classes": [],
            "_model_module": "catboost-widget",
            "_model_module_version": "^1.0.0",
            "_model_name": "CatboostWidgetModel",
            "_view_count": null,
            "_view_module": "catboost-widget",
            "_view_module_version": "^1.0.0",
            "_view_name": "CatboostWidgetView",
            "data": {
              "catboost_info": {
                "path": "catboost_info",
                "name": "catboost_info",
                "content": {
                  "passed_iterations": 499,
                  "total_iterations": 500,
                  "data": {
                    "iterations": [
                      {
                        "learn": [
                          0.6732558674
                        ],
                        "iteration": 0,
                        "passed_time": 0.05463615792,
                        "remaining_time": 27.2634428,
                        "test": [
                          0.6783134642
                        ]
                      },
                      {
                        "learn": [
                          0.6563981374
                        ],
                        "iteration": 1,
                        "passed_time": 0.0571491525,
                        "remaining_time": 14.23013897,
                        "test": [
                          0.6639545204
                        ]
                      },
                      {
                        "learn": [
                          0.639594131
                        ],
                        "iteration": 2,
                        "passed_time": 0.05891936013,
                        "remaining_time": 9.760973995,
                        "test": [
                          0.6501954534
                        ]
                      },
                      {
                        "learn": [
                          0.6300120884
                        ],
                        "iteration": 3,
                        "passed_time": 0.06369201995,
                        "remaining_time": 7.897810474,
                        "test": [
                          0.6424875751
                        ]
                      },
                      {
                        "learn": [
                          0.6157595317
                        ],
                        "iteration": 4,
                        "passed_time": 0.0678789562,
                        "remaining_time": 6.720016664,
                        "test": [
                          0.63172879
                        ]
                      },
                      {
                        "learn": [
                          0.6043902503
                        ],
                        "iteration": 5,
                        "passed_time": 0.0696251086,
                        "remaining_time": 5.732467275,
                        "test": [
                          0.6239955257
                        ]
                      },
                      {
                        "learn": [
                          0.5915195147
                        ],
                        "iteration": 6,
                        "passed_time": 0.07425757475,
                        "remaining_time": 5.229854907,
                        "test": [
                          0.6127016474
                        ]
                      },
                      {
                        "learn": [
                          0.5782815086
                        ],
                        "iteration": 7,
                        "passed_time": 0.07796484986,
                        "remaining_time": 4.794838266,
                        "test": [
                          0.6036692281
                        ]
                      },
                      {
                        "learn": [
                          0.566412237
                        ],
                        "iteration": 8,
                        "passed_time": 0.07959707158,
                        "remaining_time": 4.34246246,
                        "test": [
                          0.5952322545
                        ]
                      },
                      {
                        "learn": [
                          0.5565565957
                        ],
                        "iteration": 9,
                        "passed_time": 0.08363655045,
                        "remaining_time": 4.098190972,
                        "test": [
                          0.5864571192
                        ]
                      },
                      {
                        "learn": [
                          0.5488011042
                        ],
                        "iteration": 10,
                        "passed_time": 0.0888279899,
                        "remaining_time": 3.948807915,
                        "test": [
                          0.5808144465
                        ]
                      },
                      {
                        "learn": [
                          0.5378177961
                        ],
                        "iteration": 11,
                        "passed_time": 0.09046270709,
                        "remaining_time": 3.678816755,
                        "test": [
                          0.5722763251
                        ]
                      },
                      {
                        "learn": [
                          0.5308059057
                        ],
                        "iteration": 12,
                        "passed_time": 0.09208756828,
                        "remaining_time": 3.449741981,
                        "test": [
                          0.5669572447
                        ]
                      },
                      {
                        "learn": [
                          0.5229313638
                        ],
                        "iteration": 13,
                        "passed_time": 0.09870726513,
                        "remaining_time": 3.426552204,
                        "test": [
                          0.5609768361
                        ]
                      },
                      {
                        "learn": [
                          0.514787462
                        ],
                        "iteration": 14,
                        "passed_time": 0.1007664747,
                        "remaining_time": 3.258116016,
                        "test": [
                          0.5529137263
                        ]
                      },
                      {
                        "learn": [
                          0.5096430249
                        ],
                        "iteration": 15,
                        "passed_time": 0.1024488347,
                        "remaining_time": 3.099077249,
                        "test": [
                          0.5493806975
                        ]
                      },
                      {
                        "learn": [
                          0.5032227834
                        ],
                        "iteration": 16,
                        "passed_time": 0.1087493956,
                        "remaining_time": 3.08976224,
                        "test": [
                          0.5459925715
                        ]
                      },
                      {
                        "learn": [
                          0.495669206
                        ],
                        "iteration": 17,
                        "passed_time": 0.1108330464,
                        "remaining_time": 2.967862686,
                        "test": [
                          0.5401226119
                        ]
                      },
                      {
                        "learn": [
                          0.4919164975
                        ],
                        "iteration": 18,
                        "passed_time": 0.1124607217,
                        "remaining_time": 2.847031954,
                        "test": [
                          0.5383862638
                        ]
                      },
                      {
                        "learn": [
                          0.486322244
                        ],
                        "iteration": 19,
                        "passed_time": 0.1167710069,
                        "remaining_time": 2.802504166,
                        "test": [
                          0.5347715445
                        ]
                      },
                      {
                        "learn": [
                          0.4835870531
                        ],
                        "iteration": 20,
                        "passed_time": 0.1209943235,
                        "remaining_time": 2.759822903,
                        "test": [
                          0.5333789946
                        ]
                      },
                      {
                        "learn": [
                          0.4790870878
                        ],
                        "iteration": 21,
                        "passed_time": 0.1226799444,
                        "remaining_time": 2.66550061,
                        "test": [
                          0.5311233998
                        ]
                      },
                      {
                        "learn": [
                          0.4759724935
                        ],
                        "iteration": 22,
                        "passed_time": 0.1248188134,
                        "remaining_time": 2.588633653,
                        "test": [
                          0.5280763148
                        ]
                      },
                      {
                        "learn": [
                          0.4721769757
                        ],
                        "iteration": 23,
                        "passed_time": 0.1299828626,
                        "remaining_time": 2.577993442,
                        "test": [
                          0.5265672723
                        ]
                      },
                      {
                        "learn": [
                          0.4680285454
                        ],
                        "iteration": 24,
                        "passed_time": 0.1316790895,
                        "remaining_time": 2.501902701,
                        "test": [
                          0.5252169116
                        ]
                      },
                      {
                        "learn": [
                          0.464246432
                        ],
                        "iteration": 25,
                        "passed_time": 0.1332922974,
                        "remaining_time": 2.430021114,
                        "test": [
                          0.5247729323
                        ]
                      },
                      {
                        "learn": [
                          0.4608557489
                        ],
                        "iteration": 26,
                        "passed_time": 0.1399451618,
                        "remaining_time": 2.451631909,
                        "test": [
                          0.522669041
                        ]
                      },
                      {
                        "learn": [
                          0.4566133817
                        ],
                        "iteration": 27,
                        "passed_time": 0.1423807779,
                        "remaining_time": 2.400133114,
                        "test": [
                          0.5198504604
                        ]
                      },
                      {
                        "learn": [
                          0.4539101919
                        ],
                        "iteration": 28,
                        "passed_time": 0.1440043427,
                        "remaining_time": 2.338829153,
                        "test": [
                          0.519060872
                        ]
                      },
                      {
                        "learn": [
                          0.4498311679
                        ],
                        "iteration": 29,
                        "passed_time": 0.1482411072,
                        "remaining_time": 2.322444013,
                        "test": [
                          0.5177896947
                        ]
                      },
                      {
                        "learn": [
                          0.4475509855
                        ],
                        "iteration": 30,
                        "passed_time": 0.152434059,
                        "remaining_time": 2.306179796,
                        "test": [
                          0.5166341407
                        ]
                      },
                      {
                        "learn": [
                          0.4441378911
                        ],
                        "iteration": 31,
                        "passed_time": 0.154378282,
                        "remaining_time": 2.257782374,
                        "test": [
                          0.514584712
                        ]
                      },
                      {
                        "learn": [
                          0.440842496
                        ],
                        "iteration": 32,
                        "passed_time": 0.1576387222,
                        "remaining_time": 2.230826766,
                        "test": [
                          0.5124777218
                        ]
                      },
                      {
                        "learn": [
                          0.4378450182
                        ],
                        "iteration": 33,
                        "passed_time": 0.1632749097,
                        "remaining_time": 2.237826704,
                        "test": [
                          0.5114549613
                        ]
                      },
                      {
                        "learn": [
                          0.4353560077
                        ],
                        "iteration": 34,
                        "passed_time": 0.1649823099,
                        "remaining_time": 2.191907832,
                        "test": [
                          0.5100342654
                        ]
                      },
                      {
                        "learn": [
                          0.4332116445
                        ],
                        "iteration": 35,
                        "passed_time": 0.1687678603,
                        "remaining_time": 2.1752302,
                        "test": [
                          0.5094016721
                        ]
                      },
                      {
                        "learn": [
                          0.4307075606
                        ],
                        "iteration": 36,
                        "passed_time": 0.1733499142,
                        "remaining_time": 2.169216494,
                        "test": [
                          0.5091432413
                        ]
                      },
                      {
                        "learn": [
                          0.427779807
                        ],
                        "iteration": 37,
                        "passed_time": 0.1752216815,
                        "remaining_time": 2.130326759,
                        "test": [
                          0.5075742659
                        ]
                      },
                      {
                        "learn": [
                          0.425788482
                        ],
                        "iteration": 38,
                        "passed_time": 0.1777946512,
                        "remaining_time": 2.101623954,
                        "test": [
                          0.5075924912
                        ]
                      },
                      {
                        "learn": [
                          0.4233262539
                        ],
                        "iteration": 39,
                        "passed_time": 0.1836703302,
                        "remaining_time": 2.112208797,
                        "test": [
                          0.5067299449
                        ]
                      },
                      {
                        "learn": [
                          0.4205210739
                        ],
                        "iteration": 40,
                        "passed_time": 0.1853776585,
                        "remaining_time": 2.075325494,
                        "test": [
                          0.5050355647
                        ]
                      },
                      {
                        "learn": [
                          0.4181594319
                        ],
                        "iteration": 41,
                        "passed_time": 0.18698581,
                        "remaining_time": 2.039035738,
                        "test": [
                          0.5053603168
                        ]
                      },
                      {
                        "learn": [
                          0.4168276787
                        ],
                        "iteration": 42,
                        "passed_time": 0.192999119,
                        "remaining_time": 2.051176683,
                        "test": [
                          0.5044198864
                        ]
                      },
                      {
                        "learn": [
                          0.4148464468
                        ],
                        "iteration": 43,
                        "passed_time": 0.2155721666,
                        "remaining_time": 2.234111545,
                        "test": [
                          0.5035888638
                        ]
                      },
                      {
                        "learn": [
                          0.4126323064
                        ],
                        "iteration": 44,
                        "passed_time": 0.2168191881,
                        "remaining_time": 2.192282902,
                        "test": [
                          0.5024138872
                        ]
                      },
                      {
                        "learn": [
                          0.4117877748
                        ],
                        "iteration": 45,
                        "passed_time": 0.2181920068,
                        "remaining_time": 2.153460241,
                        "test": [
                          0.5022377524
                        ]
                      },
                      {
                        "learn": [
                          0.4103884697
                        ],
                        "iteration": 46,
                        "passed_time": 0.2193600289,
                        "remaining_time": 2.1142573,
                        "test": [
                          0.5015533998
                        ]
                      },
                      {
                        "learn": [
                          0.4080973201
                        ],
                        "iteration": 47,
                        "passed_time": 0.2367383311,
                        "remaining_time": 2.229285951,
                        "test": [
                          0.5016800225
                        ]
                      },
                      {
                        "learn": [
                          0.4064584308
                        ],
                        "iteration": 48,
                        "passed_time": 0.2379114351,
                        "remaining_time": 2.18975627,
                        "test": [
                          0.5017889106
                        ]
                      },
                      {
                        "learn": [
                          0.4051815139
                        ],
                        "iteration": 49,
                        "passed_time": 0.2391208526,
                        "remaining_time": 2.152087673,
                        "test": [
                          0.5013501314
                        ]
                      },
                      {
                        "learn": [
                          0.4030851788
                        ],
                        "iteration": 50,
                        "passed_time": 0.2402430215,
                        "remaining_time": 2.115080718,
                        "test": [
                          0.5009673436
                        ]
                      },
                      {
                        "learn": [
                          0.4007146888
                        ],
                        "iteration": 51,
                        "passed_time": 0.2518202227,
                        "remaining_time": 2.169528073,
                        "test": [
                          0.50139713
                        ]
                      },
                      {
                        "learn": [
                          0.3993501663
                        ],
                        "iteration": 52,
                        "passed_time": 0.2531870686,
                        "remaining_time": 2.135370182,
                        "test": [
                          0.5008496846
                        ]
                      },
                      {
                        "learn": [
                          0.3982535203
                        ],
                        "iteration": 53,
                        "passed_time": 0.2592962535,
                        "remaining_time": 2.141594983,
                        "test": [
                          0.5003711795
                        ]
                      },
                      {
                        "learn": [
                          0.3963927693
                        ],
                        "iteration": 54,
                        "passed_time": 0.2757654249,
                        "remaining_time": 2.231192983,
                        "test": [
                          0.5005311496
                        ]
                      },
                      {
                        "learn": [
                          0.3946856393
                        ],
                        "iteration": 55,
                        "passed_time": 0.2842296001,
                        "remaining_time": 2.253534687,
                        "test": [
                          0.5002903504
                        ]
                      },
                      {
                        "learn": [
                          0.3930234379
                        ],
                        "iteration": 56,
                        "passed_time": 0.2856740104,
                        "remaining_time": 2.220238362,
                        "test": [
                          0.5002580343
                        ]
                      },
                      {
                        "learn": [
                          0.3917020957
                        ],
                        "iteration": 57,
                        "passed_time": 0.2992026029,
                        "remaining_time": 2.280130181,
                        "test": [
                          0.5005173919
                        ]
                      },
                      {
                        "learn": [
                          0.3898044427
                        ],
                        "iteration": 58,
                        "passed_time": 0.3004572999,
                        "remaining_time": 2.245791005,
                        "test": [
                          0.5010291938
                        ]
                      },
                      {
                        "learn": [
                          0.3878307607
                        ],
                        "iteration": 59,
                        "passed_time": 0.3017623802,
                        "remaining_time": 2.212924122,
                        "test": [
                          0.5003985237
                        ]
                      },
                      {
                        "learn": [
                          0.3866126802
                        ],
                        "iteration": 60,
                        "passed_time": 0.3174926733,
                        "remaining_time": 2.284906288,
                        "test": [
                          0.499794253
                        ]
                      },
                      {
                        "learn": [
                          0.3850828542
                        ],
                        "iteration": 61,
                        "passed_time": 0.3186915325,
                        "remaining_time": 2.251401472,
                        "test": [
                          0.5005126942
                        ]
                      },
                      {
                        "learn": [
                          0.3823882739
                        ],
                        "iteration": 62,
                        "passed_time": 0.3197828302,
                        "remaining_time": 2.21817614,
                        "test": [
                          0.501020207
                        ]
                      },
                      {
                        "learn": [
                          0.3804900381
                        ],
                        "iteration": 63,
                        "passed_time": 0.3209247198,
                        "remaining_time": 2.186299653,
                        "test": [
                          0.5016283982
                        ]
                      },
                      {
                        "learn": [
                          0.3794504537
                        ],
                        "iteration": 64,
                        "passed_time": 0.3388746949,
                        "remaining_time": 2.267853728,
                        "test": [
                          0.5015317657
                        ]
                      },
                      {
                        "learn": [
                          0.3784251213
                        ],
                        "iteration": 65,
                        "passed_time": 0.3401285933,
                        "remaining_time": 2.236603174,
                        "test": [
                          0.501393479
                        ]
                      },
                      {
                        "learn": [
                          0.3773070176
                        ],
                        "iteration": 66,
                        "passed_time": 0.3533658561,
                        "remaining_time": 2.283692772,
                        "test": [
                          0.501019746
                        ]
                      },
                      {
                        "learn": [
                          0.3746676975
                        ],
                        "iteration": 67,
                        "passed_time": 0.3545715758,
                        "remaining_time": 2.252572364,
                        "test": [
                          0.5010756707
                        ]
                      },
                      {
                        "learn": [
                          0.3737187386
                        ],
                        "iteration": 68,
                        "passed_time": 0.3557390029,
                        "remaining_time": 2.222079859,
                        "test": [
                          0.5007879812
                        ]
                      },
                      {
                        "learn": [
                          0.3726161321
                        ],
                        "iteration": 69,
                        "passed_time": 0.3709235206,
                        "remaining_time": 2.278530198,
                        "test": [
                          0.5006336868
                        ]
                      },
                      {
                        "learn": [
                          0.3717122873
                        ],
                        "iteration": 70,
                        "passed_time": 0.37218799,
                        "remaining_time": 2.248854193,
                        "test": [
                          0.5003505778
                        ]
                      },
                      {
                        "learn": [
                          0.3706203567
                        ],
                        "iteration": 71,
                        "passed_time": 0.3734117399,
                        "remaining_time": 2.219725343,
                        "test": [
                          0.4996235583
                        ]
                      },
                      {
                        "learn": [
                          0.3697603014
                        ],
                        "iteration": 72,
                        "passed_time": 0.3745590186,
                        "remaining_time": 2.190913712,
                        "test": [
                          0.499184628
                        ]
                      },
                      {
                        "learn": [
                          0.3687815136
                        ],
                        "iteration": 73,
                        "passed_time": 0.3861750661,
                        "remaining_time": 2.223115921,
                        "test": [
                          0.499112252
                        ]
                      },
                      {
                        "learn": [
                          0.367085033
                        ],
                        "iteration": 74,
                        "passed_time": 0.3874376746,
                        "remaining_time": 2.195480156,
                        "test": [
                          0.4997178622
                        ]
                      },
                      {
                        "learn": [
                          0.3653650284
                        ],
                        "iteration": 75,
                        "passed_time": 0.3886305774,
                        "remaining_time": 2.168149537,
                        "test": [
                          0.4985503354
                        ]
                      },
                      {
                        "learn": [
                          0.36431649
                        ],
                        "iteration": 76,
                        "passed_time": 0.3897527113,
                        "remaining_time": 2.14110905,
                        "test": [
                          0.4985203839
                        ]
                      },
                      {
                        "learn": [
                          0.363505125
                        ],
                        "iteration": 77,
                        "passed_time": 0.39130431,
                        "remaining_time": 2.117056651,
                        "test": [
                          0.4990938705
                        ]
                      },
                      {
                        "learn": [
                          0.361177259
                        ],
                        "iteration": 78,
                        "passed_time": 0.39979876,
                        "remaining_time": 2.130573139,
                        "test": [
                          0.4994779782
                        ]
                      },
                      {
                        "learn": [
                          0.3589292367
                        ],
                        "iteration": 79,
                        "passed_time": 0.4009630625,
                        "remaining_time": 2.105056078,
                        "test": [
                          0.4993898613
                        ]
                      },
                      {
                        "learn": [
                          0.3577492502
                        ],
                        "iteration": 80,
                        "passed_time": 0.4021271323,
                        "remaining_time": 2.080139117,
                        "test": [
                          0.4990296668
                        ]
                      },
                      {
                        "learn": [
                          0.3568880823
                        ],
                        "iteration": 81,
                        "passed_time": 0.4032509808,
                        "remaining_time": 2.055596463,
                        "test": [
                          0.4990668259
                        ]
                      },
                      {
                        "learn": [
                          0.3553890122
                        ],
                        "iteration": 82,
                        "passed_time": 0.411943271,
                        "remaining_time": 2.069642699,
                        "test": [
                          0.4999785429
                        ]
                      },
                      {
                        "learn": [
                          0.3539801174
                        ],
                        "iteration": 83,
                        "passed_time": 0.4134523915,
                        "remaining_time": 2.047573748,
                        "test": [
                          0.5002006396
                        ]
                      },
                      {
                        "learn": [
                          0.3535647392
                        ],
                        "iteration": 84,
                        "passed_time": 0.4146902088,
                        "remaining_time": 2.024663961,
                        "test": [
                          0.5002345281
                        ]
                      },
                      {
                        "learn": [
                          0.3525925742
                        ],
                        "iteration": 85,
                        "passed_time": 0.4186798154,
                        "remaining_time": 2.015505158,
                        "test": [
                          0.4998065531
                        ]
                      },
                      {
                        "learn": [
                          0.3509043588
                        ],
                        "iteration": 86,
                        "passed_time": 0.4198411661,
                        "remaining_time": 1.993039099,
                        "test": [
                          0.5011017348
                        ]
                      },
                      {
                        "learn": [
                          0.3488835759
                        ],
                        "iteration": 87,
                        "passed_time": 0.4210661855,
                        "remaining_time": 1.971355323,
                        "test": [
                          0.5018592444
                        ]
                      },
                      {
                        "learn": [
                          0.3473936452
                        ],
                        "iteration": 88,
                        "passed_time": 0.4239179576,
                        "remaining_time": 1.957643602,
                        "test": [
                          0.5011874131
                        ]
                      },
                      {
                        "learn": [
                          0.3467335701
                        ],
                        "iteration": 89,
                        "passed_time": 0.4256142927,
                        "remaining_time": 1.938909555,
                        "test": [
                          0.5009512708
                        ]
                      },
                      {
                        "learn": [
                          0.3451162444
                        ],
                        "iteration": 90,
                        "passed_time": 0.427221875,
                        "remaining_time": 1.920151065,
                        "test": [
                          0.5004160577
                        ]
                      },
                      {
                        "learn": [
                          0.3443640603
                        ],
                        "iteration": 91,
                        "passed_time": 0.4329200827,
                        "remaining_time": 1.919906454,
                        "test": [
                          0.500783712
                        ]
                      },
                      {
                        "learn": [
                          0.3428235054
                        ],
                        "iteration": 92,
                        "passed_time": 0.4369188375,
                        "remaining_time": 1.912107171,
                        "test": [
                          0.5006861623
                        ]
                      },
                      {
                        "learn": [
                          0.341757218
                        ],
                        "iteration": 93,
                        "passed_time": 0.4385521202,
                        "remaining_time": 1.894171923,
                        "test": [
                          0.5008331045
                        ]
                      },
                      {
                        "learn": [
                          0.3408222728
                        ],
                        "iteration": 94,
                        "passed_time": 0.4401768686,
                        "remaining_time": 1.876543493,
                        "test": [
                          0.5014632322
                        ]
                      },
                      {
                        "learn": [
                          0.3399022155
                        ],
                        "iteration": 95,
                        "passed_time": 0.4451878245,
                        "remaining_time": 1.873498761,
                        "test": [
                          0.5012823972
                        ]
                      },
                      {
                        "learn": [
                          0.3386419614
                        ],
                        "iteration": 96,
                        "passed_time": 0.4485741077,
                        "remaining_time": 1.863663561,
                        "test": [
                          0.5020471614
                        ]
                      },
                      {
                        "learn": [
                          0.3376624849
                        ],
                        "iteration": 97,
                        "passed_time": 0.4517604236,
                        "remaining_time": 1.853139697,
                        "test": [
                          0.5027609901
                        ]
                      },
                      {
                        "learn": [
                          0.3359503746
                        ],
                        "iteration": 98,
                        "passed_time": 0.4552979688,
                        "remaining_time": 1.844186722,
                        "test": [
                          0.5029656727
                        ]
                      },
                      {
                        "learn": [
                          0.334735526
                        ],
                        "iteration": 99,
                        "passed_time": 0.4585975917,
                        "remaining_time": 1.834390367,
                        "test": [
                          0.5031848825
                        ]
                      },
                      {
                        "learn": [
                          0.3339969582
                        ],
                        "iteration": 100,
                        "passed_time": 0.4617154255,
                        "remaining_time": 1.824004503,
                        "test": [
                          0.5036626211
                        ]
                      },
                      {
                        "learn": [
                          0.3321848445
                        ],
                        "iteration": 101,
                        "passed_time": 0.4642536553,
                        "remaining_time": 1.811499557,
                        "test": [
                          0.5032993476
                        ]
                      },
                      {
                        "learn": [
                          0.3307946523
                        ],
                        "iteration": 102,
                        "passed_time": 0.46842047,
                        "remaining_time": 1.805465307,
                        "test": [
                          0.5041323355
                        ]
                      },
                      {
                        "learn": [
                          0.3294318517
                        ],
                        "iteration": 103,
                        "passed_time": 0.4768366216,
                        "remaining_time": 1.815647136,
                        "test": [
                          0.5048717099
                        ]
                      },
                      {
                        "learn": [
                          0.3285329342
                        ],
                        "iteration": 104,
                        "passed_time": 0.4787757159,
                        "remaining_time": 1.801108645,
                        "test": [
                          0.5050091239
                        ]
                      },
                      {
                        "learn": [
                          0.327776485
                        ],
                        "iteration": 105,
                        "passed_time": 0.4805342034,
                        "remaining_time": 1.786136567,
                        "test": [
                          0.5053693602
                        ]
                      },
                      {
                        "learn": [
                          0.327114847
                        ],
                        "iteration": 106,
                        "passed_time": 0.4846419225,
                        "remaining_time": 1.780039958,
                        "test": [
                          0.5045435844
                        ]
                      },
                      {
                        "learn": [
                          0.3255416817
                        ],
                        "iteration": 107,
                        "passed_time": 0.4889988136,
                        "remaining_time": 1.774884583,
                        "test": [
                          0.505561284
                        ]
                      },
                      {
                        "learn": [
                          0.3249736892
                        ],
                        "iteration": 108,
                        "passed_time": 0.4907064629,
                        "remaining_time": 1.760240615,
                        "test": [
                          0.5056033685
                        ]
                      },
                      {
                        "learn": [
                          0.3242579566
                        ],
                        "iteration": 109,
                        "passed_time": 0.492357768,
                        "remaining_time": 1.745632087,
                        "test": [
                          0.5059008124
                        ]
                      },
                      {
                        "learn": [
                          0.3231446213
                        ],
                        "iteration": 110,
                        "passed_time": 0.497940295,
                        "remaining_time": 1.745034007,
                        "test": [
                          0.5067396914
                        ]
                      },
                      {
                        "learn": [
                          0.3222955068
                        ],
                        "iteration": 111,
                        "passed_time": 0.5013580195,
                        "remaining_time": 1.736847425,
                        "test": [
                          0.5063780428
                        ]
                      },
                      {
                        "learn": [
                          0.320552614
                        ],
                        "iteration": 112,
                        "passed_time": 0.5046214656,
                        "remaining_time": 1.728216878,
                        "test": [
                          0.5062302126
                        ]
                      },
                      {
                        "learn": [
                          0.3195660644
                        ],
                        "iteration": 113,
                        "passed_time": 0.5087406276,
                        "remaining_time": 1.722577914,
                        "test": [
                          0.5068767701
                        ]
                      },
                      {
                        "learn": [
                          0.3190611468
                        ],
                        "iteration": 114,
                        "passed_time": 0.5114513219,
                        "remaining_time": 1.712250078,
                        "test": [
                          0.5069664547
                        ]
                      },
                      {
                        "learn": [
                          0.3179035187
                        ],
                        "iteration": 115,
                        "passed_time": 0.5139844835,
                        "remaining_time": 1.701465876,
                        "test": [
                          0.5070106899
                        ]
                      },
                      {
                        "learn": [
                          0.3169490231
                        ],
                        "iteration": 116,
                        "passed_time": 0.5177490232,
                        "remaining_time": 1.69485364,
                        "test": [
                          0.507588156
                        ]
                      },
                      {
                        "learn": [
                          0.3166782591
                        ],
                        "iteration": 117,
                        "passed_time": 0.5204245403,
                        "remaining_time": 1.68476419,
                        "test": [
                          0.5076083802
                        ]
                      },
                      {
                        "learn": [
                          0.3159197966
                        ],
                        "iteration": 118,
                        "passed_time": 0.5239821012,
                        "remaining_time": 1.677623366,
                        "test": [
                          0.5085688101
                        ]
                      },
                      {
                        "learn": [
                          0.315075371
                        ],
                        "iteration": 119,
                        "passed_time": 0.5285155105,
                        "remaining_time": 1.67363245,
                        "test": [
                          0.5087204361
                        ]
                      },
                      {
                        "learn": [
                          0.3147638904
                        ],
                        "iteration": 120,
                        "passed_time": 0.5297048055,
                        "remaining_time": 1.659158027,
                        "test": [
                          0.5088045312
                        ]
                      },
                      {
                        "learn": [
                          0.3134542571
                        ],
                        "iteration": 121,
                        "passed_time": 0.5307931209,
                        "remaining_time": 1.644588522,
                        "test": [
                          0.5079622557
                        ]
                      },
                      {
                        "learn": [
                          0.3130526013
                        ],
                        "iteration": 122,
                        "passed_time": 0.5319459365,
                        "remaining_time": 1.630435919,
                        "test": [
                          0.507800141
                        ]
                      },
                      {
                        "learn": [
                          0.311826494
                        ],
                        "iteration": 123,
                        "passed_time": 0.533279107,
                        "remaining_time": 1.617039873,
                        "test": [
                          0.5089929127
                        ]
                      },
                      {
                        "learn": [
                          0.3112653097
                        ],
                        "iteration": 124,
                        "passed_time": 0.5344088342,
                        "remaining_time": 1.603226503,
                        "test": [
                          0.5095252456
                        ]
                      },
                      {
                        "learn": [
                          0.3103442987
                        ],
                        "iteration": 125,
                        "passed_time": 0.5357657886,
                        "remaining_time": 1.590288928,
                        "test": [
                          0.5091946834
                        ]
                      },
                      {
                        "learn": [
                          0.309237957
                        ],
                        "iteration": 126,
                        "passed_time": 0.5373023535,
                        "remaining_time": 1.578061243,
                        "test": [
                          0.5081326852
                        ]
                      },
                      {
                        "learn": [
                          0.3088230557
                        ],
                        "iteration": 127,
                        "passed_time": 0.5389677851,
                        "remaining_time": 1.566375125,
                        "test": [
                          0.508493477
                        ]
                      },
                      {
                        "learn": [
                          0.3075624042
                        ],
                        "iteration": 128,
                        "passed_time": 0.540724538,
                        "remaining_time": 1.555107005,
                        "test": [
                          0.5094776279
                        ]
                      },
                      {
                        "learn": [
                          0.3065702915
                        ],
                        "iteration": 129,
                        "passed_time": 0.5423961556,
                        "remaining_time": 1.543742904,
                        "test": [
                          0.5092711248
                        ]
                      },
                      {
                        "learn": [
                          0.305322965
                        ],
                        "iteration": 130,
                        "passed_time": 0.5440725682,
                        "remaining_time": 1.532540287,
                        "test": [
                          0.5103640585
                        ]
                      },
                      {
                        "learn": [
                          0.3043103748
                        ],
                        "iteration": 131,
                        "passed_time": 0.5456875206,
                        "remaining_time": 1.521310664,
                        "test": [
                          0.5105917395
                        ]
                      },
                      {
                        "learn": [
                          0.303703732
                        ],
                        "iteration": 132,
                        "passed_time": 0.547022413,
                        "remaining_time": 1.509452824,
                        "test": [
                          0.5099355592
                        ]
                      },
                      {
                        "learn": [
                          0.3027851846
                        ],
                        "iteration": 133,
                        "passed_time": 0.5482068812,
                        "remaining_time": 1.497341183,
                        "test": [
                          0.5100796922
                        ]
                      },
                      {
                        "learn": [
                          0.3020484977
                        ],
                        "iteration": 134,
                        "passed_time": 0.5499745561,
                        "remaining_time": 1.486968244,
                        "test": [
                          0.5106669699
                        ]
                      },
                      {
                        "learn": [
                          0.3014122115
                        ],
                        "iteration": 135,
                        "passed_time": 0.5514801747,
                        "remaining_time": 1.476020468,
                        "test": [
                          0.5104510503
                        ]
                      },
                      {
                        "learn": [
                          0.3010147148
                        ],
                        "iteration": 136,
                        "passed_time": 0.5530054613,
                        "remaining_time": 1.465262646,
                        "test": [
                          0.5100028404
                        ]
                      },
                      {
                        "learn": [
                          0.3002167808
                        ],
                        "iteration": 137,
                        "passed_time": 0.5540638973,
                        "remaining_time": 1.453413991,
                        "test": [
                          0.5092439302
                        ]
                      },
                      {
                        "learn": [
                          0.2991894616
                        ],
                        "iteration": 138,
                        "passed_time": 0.5556504472,
                        "remaining_time": 1.443092169,
                        "test": [
                          0.5086750876
                        ]
                      },
                      {
                        "learn": [
                          0.2985579173
                        ],
                        "iteration": 139,
                        "passed_time": 0.5572585568,
                        "remaining_time": 1.432950575,
                        "test": [
                          0.5082217505
                        ]
                      },
                      {
                        "learn": [
                          0.2980320189
                        ],
                        "iteration": 140,
                        "passed_time": 0.558647197,
                        "remaining_time": 1.422371232,
                        "test": [
                          0.5086097159
                        ]
                      },
                      {
                        "learn": [
                          0.2972460323
                        ],
                        "iteration": 141,
                        "passed_time": 0.5597534458,
                        "remaining_time": 1.411209391,
                        "test": [
                          0.5080416727
                        ]
                      },
                      {
                        "learn": [
                          0.2961865001
                        ],
                        "iteration": 142,
                        "passed_time": 0.5607771537,
                        "remaining_time": 1.399982125,
                        "test": [
                          0.5089791824
                        ]
                      },
                      {
                        "learn": [
                          0.2951792081
                        ],
                        "iteration": 143,
                        "passed_time": 0.561905379,
                        "remaining_time": 1.389154965,
                        "test": [
                          0.5094290314
                        ]
                      },
                      {
                        "learn": [
                          0.2943855921
                        ],
                        "iteration": 144,
                        "passed_time": 0.5632246213,
                        "remaining_time": 1.378929245,
                        "test": [
                          0.5094934539
                        ]
                      },
                      {
                        "learn": [
                          0.2933077547
                        ],
                        "iteration": 145,
                        "passed_time": 0.5648532493,
                        "remaining_time": 1.369575687,
                        "test": [
                          0.5100535709
                        ]
                      },
                      {
                        "learn": [
                          0.2924512757
                        ],
                        "iteration": 146,
                        "passed_time": 0.5660207623,
                        "remaining_time": 1.359219926,
                        "test": [
                          0.5095177961
                        ]
                      },
                      {
                        "learn": [
                          0.2920298047
                        ],
                        "iteration": 147,
                        "passed_time": 0.5670361947,
                        "remaining_time": 1.348626625,
                        "test": [
                          0.5103114941
                        ]
                      },
                      {
                        "learn": [
                          0.2911878162
                        ],
                        "iteration": 148,
                        "passed_time": 0.5686884489,
                        "remaining_time": 1.339662051,
                        "test": [
                          0.5094243959
                        ]
                      },
                      {
                        "learn": [
                          0.2909931077
                        ],
                        "iteration": 149,
                        "passed_time": 0.5703639215,
                        "remaining_time": 1.33084915,
                        "test": [
                          0.5097146647
                        ]
                      },
                      {
                        "learn": [
                          0.2901952002
                        ],
                        "iteration": 150,
                        "passed_time": 0.5719371935,
                        "remaining_time": 1.321894573,
                        "test": [
                          0.5100517656
                        ]
                      },
                      {
                        "learn": [
                          0.2890923553
                        ],
                        "iteration": 151,
                        "passed_time": 0.5735419658,
                        "remaining_time": 1.313109238,
                        "test": [
                          0.5109152048
                        ]
                      },
                      {
                        "learn": [
                          0.2882297039
                        ],
                        "iteration": 152,
                        "passed_time": 0.575179424,
                        "remaining_time": 1.304491896,
                        "test": [
                          0.511382658
                        ]
                      },
                      {
                        "learn": [
                          0.2876499494
                        ],
                        "iteration": 153,
                        "passed_time": 0.5765070677,
                        "remaining_time": 1.295269126,
                        "test": [
                          0.5108222483
                        ]
                      },
                      {
                        "learn": [
                          0.286813736
                        ],
                        "iteration": 154,
                        "passed_time": 0.5777783235,
                        "remaining_time": 1.28602272,
                        "test": [
                          0.5118681728
                        ]
                      },
                      {
                        "learn": [
                          0.2863756816
                        ],
                        "iteration": 155,
                        "passed_time": 0.5794150539,
                        "remaining_time": 1.277684478,
                        "test": [
                          0.5118273337
                        ]
                      },
                      {
                        "learn": [
                          0.2851652039
                        ],
                        "iteration": 156,
                        "passed_time": 0.5806232632,
                        "remaining_time": 1.268495409,
                        "test": [
                          0.5120454724
                        ]
                      },
                      {
                        "learn": [
                          0.2839839194
                        ],
                        "iteration": 157,
                        "passed_time": 0.5819179484,
                        "remaining_time": 1.259594546,
                        "test": [
                          0.5128113471
                        ]
                      },
                      {
                        "learn": [
                          0.2837284141
                        ],
                        "iteration": 158,
                        "passed_time": 0.5859743279,
                        "remaining_time": 1.256712238,
                        "test": [
                          0.512201738
                        ]
                      },
                      {
                        "learn": [
                          0.282922162
                        ],
                        "iteration": 159,
                        "passed_time": 0.5876481291,
                        "remaining_time": 1.248752274,
                        "test": [
                          0.5125333001
                        ]
                      },
                      {
                        "learn": [
                          0.2822886043
                        ],
                        "iteration": 160,
                        "passed_time": 0.5893646507,
                        "remaining_time": 1.240960352,
                        "test": [
                          0.5129060409
                        ]
                      },
                      {
                        "learn": [
                          0.2812222905
                        ],
                        "iteration": 161,
                        "passed_time": 0.5941775601,
                        "remaining_time": 1.239703798,
                        "test": [
                          0.513125925
                        ]
                      },
                      {
                        "learn": [
                          0.2804506355
                        ],
                        "iteration": 162,
                        "passed_time": 0.5980510882,
                        "remaining_time": 1.236461452,
                        "test": [
                          0.513436617
                        ]
                      },
                      {
                        "learn": [
                          0.2794300715
                        ],
                        "iteration": 163,
                        "passed_time": 0.5997112315,
                        "remaining_time": 1.22867667,
                        "test": [
                          0.5138793013
                        ]
                      },
                      {
                        "learn": [
                          0.2783463796
                        ],
                        "iteration": 164,
                        "passed_time": 0.6041453057,
                        "remaining_time": 1.226598045,
                        "test": [
                          0.5146082586
                        ]
                      },
                      {
                        "learn": [
                          0.2777670225
                        ],
                        "iteration": 165,
                        "passed_time": 0.607742532,
                        "remaining_time": 1.222807263,
                        "test": [
                          0.5145512995
                        ]
                      },
                      {
                        "learn": [
                          0.2770168516
                        ],
                        "iteration": 166,
                        "passed_time": 0.6093472857,
                        "remaining_time": 1.215045785,
                        "test": [
                          0.5139629391
                        ]
                      },
                      {
                        "learn": [
                          0.276638137
                        ],
                        "iteration": 167,
                        "passed_time": 0.6111772049,
                        "remaining_time": 1.207802572,
                        "test": [
                          0.514104393
                        ]
                      },
                      {
                        "learn": [
                          0.2755106555
                        ],
                        "iteration": 168,
                        "passed_time": 0.6168396999,
                        "remaining_time": 1.208129826,
                        "test": [
                          0.5142590005
                        ]
                      },
                      {
                        "learn": [
                          0.2746287452
                        ],
                        "iteration": 169,
                        "passed_time": 0.6184222311,
                        "remaining_time": 1.200466684,
                        "test": [
                          0.5149474462
                        ]
                      },
                      {
                        "learn": [
                          0.273753643
                        ],
                        "iteration": 170,
                        "passed_time": 0.636705251,
                        "remaining_time": 1.225006009,
                        "test": [
                          0.5156775075
                        ]
                      },
                      {
                        "learn": [
                          0.2730324003
                        ],
                        "iteration": 171,
                        "passed_time": 0.6393338922,
                        "remaining_time": 1.219194864,
                        "test": [
                          0.5158451172
                        ]
                      },
                      {
                        "learn": [
                          0.2729590734
                        ],
                        "iteration": 172,
                        "passed_time": 0.6428796539,
                        "remaining_time": 1.215154028,
                        "test": [
                          0.5158462641
                        ]
                      },
                      {
                        "learn": [
                          0.272447798
                        ],
                        "iteration": 173,
                        "passed_time": 0.6445782235,
                        "remaining_time": 1.207658051,
                        "test": [
                          0.5158444542
                        ]
                      },
                      {
                        "learn": [
                          0.2712568707
                        ],
                        "iteration": 174,
                        "passed_time": 0.6458294105,
                        "remaining_time": 1.199397477,
                        "test": [
                          0.5160452708
                        ]
                      },
                      {
                        "learn": [
                          0.2705446879
                        ],
                        "iteration": 175,
                        "passed_time": 0.6468786205,
                        "remaining_time": 1.190844733,
                        "test": [
                          0.5173994728
                        ]
                      },
                      {
                        "learn": [
                          0.2701587677
                        ],
                        "iteration": 176,
                        "passed_time": 0.6480659496,
                        "remaining_time": 1.182628823,
                        "test": [
                          0.5172619633
                        ]
                      },
                      {
                        "learn": [
                          0.2696403662
                        ],
                        "iteration": 177,
                        "passed_time": 0.6495655368,
                        "remaining_time": 1.175056758,
                        "test": [
                          0.5170846549
                        ]
                      },
                      {
                        "learn": [
                          0.2686282264
                        ],
                        "iteration": 178,
                        "passed_time": 0.6639940069,
                        "remaining_time": 1.190737856,
                        "test": [
                          0.5180714644
                        ]
                      },
                      {
                        "learn": [
                          0.2679613961
                        ],
                        "iteration": 179,
                        "passed_time": 0.6651986576,
                        "remaining_time": 1.182575391,
                        "test": [
                          0.5188277007
                        ]
                      },
                      {
                        "learn": [
                          0.2672742738
                        ],
                        "iteration": 180,
                        "passed_time": 0.6663797502,
                        "remaining_time": 1.174448289,
                        "test": [
                          0.5187540413
                        ]
                      },
                      {
                        "learn": [
                          0.2666328218
                        ],
                        "iteration": 181,
                        "passed_time": 0.6674972732,
                        "remaining_time": 1.166286444,
                        "test": [
                          0.5193174128
                        ]
                      },
                      {
                        "learn": [
                          0.2656481001
                        ],
                        "iteration": 182,
                        "passed_time": 0.6689453681,
                        "remaining_time": 1.158774217,
                        "test": [
                          0.5202820356
                        ]
                      },
                      {
                        "learn": [
                          0.2648714913
                        ],
                        "iteration": 183,
                        "passed_time": 0.6774698207,
                        "remaining_time": 1.163480779,
                        "test": [
                          0.5209984963
                        ]
                      },
                      {
                        "learn": [
                          0.2642430729
                        ],
                        "iteration": 184,
                        "passed_time": 0.6786859542,
                        "remaining_time": 1.155600408,
                        "test": [
                          0.5218633551
                        ]
                      },
                      {
                        "learn": [
                          0.2635542552
                        ],
                        "iteration": 185,
                        "passed_time": 0.6798404925,
                        "remaining_time": 1.147687713,
                        "test": [
                          0.5225950812
                        ]
                      },
                      {
                        "learn": [
                          0.2630516158
                        ],
                        "iteration": 186,
                        "passed_time": 0.6813038875,
                        "remaining_time": 1.140364261,
                        "test": [
                          0.5229908218
                        ]
                      },
                      {
                        "learn": [
                          0.2626825968
                        ],
                        "iteration": 187,
                        "passed_time": 0.6888200392,
                        "remaining_time": 1.14314815,
                        "test": [
                          0.5232003417
                        ]
                      },
                      {
                        "learn": [
                          0.262333605
                        ],
                        "iteration": 188,
                        "passed_time": 0.6900087402,
                        "remaining_time": 1.135411207,
                        "test": [
                          0.5234988514
                        ]
                      },
                      {
                        "learn": [
                          0.2620004548
                        ],
                        "iteration": 189,
                        "passed_time": 0.6910979719,
                        "remaining_time": 1.127580902,
                        "test": [
                          0.5235293153
                        ]
                      },
                      {
                        "learn": [
                          0.2613850435
                        ],
                        "iteration": 190,
                        "passed_time": 0.6922604003,
                        "remaining_time": 1.119939601,
                        "test": [
                          0.5243830232
                        ]
                      },
                      {
                        "learn": [
                          0.2604851193
                        ],
                        "iteration": 191,
                        "passed_time": 0.6937173189,
                        "remaining_time": 1.112838199,
                        "test": [
                          0.5250271998
                        ]
                      },
                      {
                        "learn": [
                          0.2594813241
                        ],
                        "iteration": 192,
                        "passed_time": 0.7017979758,
                        "remaining_time": 1.116331495,
                        "test": [
                          0.5258941668
                        ]
                      },
                      {
                        "learn": [
                          0.2582306332
                        ],
                        "iteration": 193,
                        "passed_time": 0.7030202421,
                        "remaining_time": 1.108887598,
                        "test": [
                          0.5268359571
                        ]
                      },
                      {
                        "learn": [
                          0.2577295303
                        ],
                        "iteration": 194,
                        "passed_time": 0.7040740685,
                        "remaining_time": 1.101244056,
                        "test": [
                          0.5260392555
                        ]
                      },
                      {
                        "learn": [
                          0.2569939295
                        ],
                        "iteration": 195,
                        "passed_time": 0.708463539,
                        "remaining_time": 1.098841407,
                        "test": [
                          0.5263798961
                        ]
                      },
                      {
                        "learn": [
                          0.2565677166
                        ],
                        "iteration": 196,
                        "passed_time": 0.7096035504,
                        "remaining_time": 1.091420689,
                        "test": [
                          0.5269544829
                        ]
                      },
                      {
                        "learn": [
                          0.2561266157
                        ],
                        "iteration": 197,
                        "passed_time": 0.7106694019,
                        "remaining_time": 1.0839503,
                        "test": [
                          0.5271913452
                        ]
                      },
                      {
                        "learn": [
                          0.2555938562
                        ],
                        "iteration": 198,
                        "passed_time": 0.7221246728,
                        "remaining_time": 1.092258927,
                        "test": [
                          0.5264627492
                        ]
                      },
                      {
                        "learn": [
                          0.2550360892
                        ],
                        "iteration": 199,
                        "passed_time": 0.7233221211,
                        "remaining_time": 1.084983182,
                        "test": [
                          0.5265599369
                        ]
                      },
                      {
                        "learn": [
                          0.254513979
                        ],
                        "iteration": 200,
                        "passed_time": 0.7244333645,
                        "remaining_time": 1.077639681,
                        "test": [
                          0.5257515039
                        ]
                      },
                      {
                        "learn": [
                          0.2540453805
                        ],
                        "iteration": 201,
                        "passed_time": 0.7259627774,
                        "remaining_time": 1.07097479,
                        "test": [
                          0.526584618
                        ]
                      },
                      {
                        "learn": [
                          0.2535523838
                        ],
                        "iteration": 202,
                        "passed_time": 0.7273152386,
                        "remaining_time": 1.064101605,
                        "test": [
                          0.5265349882
                        ]
                      },
                      {
                        "learn": [
                          0.2528007825
                        ],
                        "iteration": 203,
                        "passed_time": 0.7359208285,
                        "remaining_time": 1.067806692,
                        "test": [
                          0.526914883
                        ]
                      },
                      {
                        "learn": [
                          0.2522655593
                        ],
                        "iteration": 204,
                        "passed_time": 0.737151658,
                        "remaining_time": 1.060779215,
                        "test": [
                          0.5269179226
                        ]
                      },
                      {
                        "learn": [
                          0.2513919936
                        ],
                        "iteration": 205,
                        "passed_time": 0.7426052346,
                        "remaining_time": 1.059834655,
                        "test": [
                          0.5271522371
                        ]
                      },
                      {
                        "learn": [
                          0.2512594859
                        ],
                        "iteration": 206,
                        "passed_time": 0.7437443832,
                        "remaining_time": 1.052739634,
                        "test": [
                          0.5273065193
                        ]
                      },
                      {
                        "learn": [
                          0.2506216102
                        ],
                        "iteration": 207,
                        "passed_time": 0.7448070488,
                        "remaining_time": 1.045594511,
                        "test": [
                          0.5274600229
                        ]
                      },
                      {
                        "learn": [
                          0.2496823205
                        ],
                        "iteration": 208,
                        "passed_time": 0.745855517,
                        "remaining_time": 1.038487825,
                        "test": [
                          0.5281189366
                        ]
                      },
                      {
                        "learn": [
                          0.2492217753
                        ],
                        "iteration": 209,
                        "passed_time": 0.7474637684,
                        "remaining_time": 1.032211871,
                        "test": [
                          0.5274492431
                        ]
                      },
                      {
                        "learn": [
                          0.2485861778
                        ],
                        "iteration": 210,
                        "passed_time": 0.7558110621,
                        "remaining_time": 1.035210412,
                        "test": [
                          0.5279015962
                        ]
                      },
                      {
                        "learn": [
                          0.2479412821
                        ],
                        "iteration": 211,
                        "passed_time": 0.7569709909,
                        "remaining_time": 1.02833795,
                        "test": [
                          0.5288827355
                        ]
                      },
                      {
                        "learn": [
                          0.2471087774
                        ],
                        "iteration": 212,
                        "passed_time": 0.7581009817,
                        "remaining_time": 1.021478788,
                        "test": [
                          0.530350353
                        ]
                      },
                      {
                        "learn": [
                          0.2467396789
                        ],
                        "iteration": 213,
                        "passed_time": 0.7597146918,
                        "remaining_time": 1.015319635,
                        "test": [
                          0.5299134202
                        ]
                      },
                      {
                        "learn": [
                          0.2462946044
                        ],
                        "iteration": 214,
                        "passed_time": 0.7608768884,
                        "remaining_time": 1.008604247,
                        "test": [
                          0.5310421115
                        ]
                      },
                      {
                        "learn": [
                          0.2460043695
                        ],
                        "iteration": 215,
                        "passed_time": 0.774638491,
                        "remaining_time": 1.018506164,
                        "test": [
                          0.5310664056
                        ]
                      },
                      {
                        "learn": [
                          0.2456651529
                        ],
                        "iteration": 216,
                        "passed_time": 0.7759229438,
                        "remaining_time": 1.01191794,
                        "test": [
                          0.5317226314
                        ]
                      },
                      {
                        "learn": [
                          0.2450216611
                        ],
                        "iteration": 217,
                        "passed_time": 0.781113925,
                        "remaining_time": 1.010431775,
                        "test": [
                          0.532397474
                        ]
                      },
                      {
                        "learn": [
                          0.2444365289
                        ],
                        "iteration": 218,
                        "passed_time": 0.7822964795,
                        "remaining_time": 1.003768542,
                        "test": [
                          0.5325381127
                        ]
                      },
                      {
                        "learn": [
                          0.2437701225
                        ],
                        "iteration": 219,
                        "passed_time": 0.7834938096,
                        "remaining_time": 0.9971739395,
                        "test": [
                          0.5325319701
                        ]
                      },
                      {
                        "learn": [
                          0.2427058485
                        ],
                        "iteration": 220,
                        "passed_time": 0.7845923483,
                        "remaining_time": 0.9905034624,
                        "test": [
                          0.5323517985
                        ]
                      },
                      {
                        "learn": [
                          0.2423800362
                        ],
                        "iteration": 221,
                        "passed_time": 0.7861771164,
                        "remaining_time": 0.9844920647,
                        "test": [
                          0.5325927054
                        ]
                      },
                      {
                        "learn": [
                          0.2420466741
                        ],
                        "iteration": 222,
                        "passed_time": 0.7972169277,
                        "remaining_time": 0.990264973,
                        "test": [
                          0.5326676373
                        ]
                      },
                      {
                        "learn": [
                          0.241651588
                        ],
                        "iteration": 223,
                        "passed_time": 0.7997911779,
                        "remaining_time": 0.9854569871,
                        "test": [
                          0.5328884037
                        ]
                      },
                      {
                        "learn": [
                          0.2414619393
                        ],
                        "iteration": 224,
                        "passed_time": 0.8041298661,
                        "remaining_time": 0.9828253919,
                        "test": [
                          0.5330518052
                        ]
                      },
                      {
                        "learn": [
                          0.2413093514
                        ],
                        "iteration": 225,
                        "passed_time": 0.8201488803,
                        "remaining_time": 0.9943397929,
                        "test": [
                          0.532920285
                        ]
                      },
                      {
                        "learn": [
                          0.2407955594
                        ],
                        "iteration": 226,
                        "passed_time": 0.8224197974,
                        "remaining_time": 0.9890775537,
                        "test": [
                          0.5328478605
                        ]
                      },
                      {
                        "learn": [
                          0.2397155232
                        ],
                        "iteration": 227,
                        "passed_time": 0.8259645596,
                        "remaining_time": 0.9853612289,
                        "test": [
                          0.5327499101
                        ]
                      },
                      {
                        "learn": [
                          0.2396357059
                        ],
                        "iteration": 228,
                        "passed_time": 0.8273565125,
                        "remaining_time": 0.979098755,
                        "test": [
                          0.532652136
                        ]
                      },
                      {
                        "learn": [
                          0.2389092445
                        ],
                        "iteration": 229,
                        "passed_time": 0.8286800593,
                        "remaining_time": 0.9727983305,
                        "test": [
                          0.5322347468
                        ]
                      },
                      {
                        "learn": [
                          0.2385511398
                        ],
                        "iteration": 230,
                        "passed_time": 0.8313313521,
                        "remaining_time": 0.9680871589,
                        "test": [
                          0.5328822872
                        ]
                      },
                      {
                        "learn": [
                          0.2379128668
                        ],
                        "iteration": 231,
                        "passed_time": 0.8364027722,
                        "remaining_time": 0.9661894092,
                        "test": [
                          0.5315640404
                        ]
                      },
                      {
                        "learn": [
                          0.2376588451
                        ],
                        "iteration": 232,
                        "passed_time": 0.8380089277,
                        "remaining_time": 0.9602934923,
                        "test": [
                          0.5312620908
                        ]
                      },
                      {
                        "learn": [
                          0.2368142075
                        ],
                        "iteration": 233,
                        "passed_time": 0.8399170613,
                        "remaining_time": 0.9547775141,
                        "test": [
                          0.5328134167
                        ]
                      },
                      {
                        "learn": [
                          0.2363422712
                        ],
                        "iteration": 234,
                        "passed_time": 0.846235826,
                        "remaining_time": 0.9542659315,
                        "test": [
                          0.5322042571
                        ]
                      },
                      {
                        "learn": [
                          0.2358331945
                        ],
                        "iteration": 235,
                        "passed_time": 0.8507788554,
                        "remaining_time": 0.9517187196,
                        "test": [
                          0.5327803148
                        ]
                      },
                      {
                        "learn": [
                          0.2353709009
                        ],
                        "iteration": 236,
                        "passed_time": 0.8525301583,
                        "remaining_time": 0.9460566735,
                        "test": [
                          0.5328848296
                        ]
                      },
                      {
                        "learn": [
                          0.2343850666
                        ],
                        "iteration": 237,
                        "passed_time": 0.8539726036,
                        "remaining_time": 0.940087488,
                        "test": [
                          0.5331034851
                        ]
                      },
                      {
                        "learn": [
                          0.2328792678
                        ],
                        "iteration": 238,
                        "passed_time": 0.8579652943,
                        "remaining_time": 0.9369411791,
                        "test": [
                          0.5326327248
                        ]
                      },
                      {
                        "learn": [
                          0.2326378293
                        ],
                        "iteration": 239,
                        "passed_time": 0.8623730109,
                        "remaining_time": 0.9342374285,
                        "test": [
                          0.5323556733
                        ]
                      },
                      {
                        "learn": [
                          0.2311242951
                        ],
                        "iteration": 240,
                        "passed_time": 0.8641157096,
                        "remaining_time": 0.9286554722,
                        "test": [
                          0.5323682715
                        ]
                      },
                      {
                        "learn": [
                          0.2306647566
                        ],
                        "iteration": 241,
                        "passed_time": 0.868492915,
                        "remaining_time": 0.9259139342,
                        "test": [
                          0.5318717469
                        ]
                      },
                      {
                        "learn": [
                          0.2303474214
                        ],
                        "iteration": 242,
                        "passed_time": 0.8728493562,
                        "remaining_time": 0.9231369734,
                        "test": [
                          0.530924088
                        ]
                      },
                      {
                        "learn": [
                          0.2291463481
                        ],
                        "iteration": 243,
                        "passed_time": 0.8767533869,
                        "remaining_time": 0.9198724059,
                        "test": [
                          0.5320060713
                        ]
                      },
                      {
                        "learn": [
                          0.2290022108
                        ],
                        "iteration": 244,
                        "passed_time": 0.8815467464,
                        "remaining_time": 0.9175282463,
                        "test": [
                          0.5321162466
                        ]
                      },
                      {
                        "learn": [
                          0.2285267512
                        ],
                        "iteration": 245,
                        "passed_time": 0.8829742788,
                        "remaining_time": 0.9116888895,
                        "test": [
                          0.5327286667
                        ]
                      },
                      {
                        "learn": [
                          0.2280097008
                        ],
                        "iteration": 246,
                        "passed_time": 0.8846645975,
                        "remaining_time": 0.9061544258,
                        "test": [
                          0.5326055304
                        ]
                      },
                      {
                        "learn": [
                          0.2274287012
                        ],
                        "iteration": 247,
                        "passed_time": 0.8899753286,
                        "remaining_time": 0.9043297694,
                        "test": [
                          0.5327426609
                        ]
                      },
                      {
                        "learn": [
                          0.226799753
                        ],
                        "iteration": 248,
                        "passed_time": 0.8913586055,
                        "remaining_time": 0.8985181124,
                        "test": [
                          0.5335628329
                        ]
                      },
                      {
                        "learn": [
                          0.2261034913
                        ],
                        "iteration": 249,
                        "passed_time": 0.8927397193,
                        "remaining_time": 0.8927397193,
                        "test": [
                          0.5339055262
                        ]
                      },
                      {
                        "learn": [
                          0.2253113323
                        ],
                        "iteration": 250,
                        "passed_time": 0.8986050818,
                        "remaining_time": 0.891444882,
                        "test": [
                          0.5349397291
                        ]
                      },
                      {
                        "learn": [
                          0.2244242032
                        ],
                        "iteration": 251,
                        "passed_time": 0.9006245574,
                        "remaining_time": 0.8863289295,
                        "test": [
                          0.536119275
                        ]
                      },
                      {
                        "learn": [
                          0.2237731616
                        ],
                        "iteration": 252,
                        "passed_time": 0.9022126859,
                        "remaining_time": 0.8808163377,
                        "test": [
                          0.5353963144
                        ]
                      },
                      {
                        "learn": [
                          0.2228029304
                        ],
                        "iteration": 253,
                        "passed_time": 0.9053249651,
                        "remaining_time": 0.876810793,
                        "test": [
                          0.5365387242
                        ]
                      },
                      {
                        "learn": [
                          0.222127835
                        ],
                        "iteration": 254,
                        "passed_time": 0.9098707504,
                        "remaining_time": 0.8741895445,
                        "test": [
                          0.5372714772
                        ]
                      },
                      {
                        "learn": [
                          0.2217201922
                        ],
                        "iteration": 255,
                        "passed_time": 0.9114023157,
                        "remaining_time": 0.8686803321,
                        "test": [
                          0.5373438932
                        ]
                      },
                      {
                        "learn": [
                          0.2215071784
                        ],
                        "iteration": 256,
                        "passed_time": 0.9251206846,
                        "remaining_time": 0.8747250053,
                        "test": [
                          0.5376092461
                        ]
                      },
                      {
                        "learn": [
                          0.2203856972
                        ],
                        "iteration": 257,
                        "passed_time": 0.9305395468,
                        "remaining_time": 0.8728316679,
                        "test": [
                          0.5382916884
                        ]
                      },
                      {
                        "learn": [
                          0.2198457056
                        ],
                        "iteration": 258,
                        "passed_time": 0.9318789588,
                        "remaining_time": 0.8671151701,
                        "test": [
                          0.5394802837
                        ]
                      },
                      {
                        "learn": [
                          0.2195161581
                        ],
                        "iteration": 259,
                        "passed_time": 0.9332698549,
                        "remaining_time": 0.861479866,
                        "test": [
                          0.5392529216
                        ]
                      },
                      {
                        "learn": [
                          0.2182832294
                        ],
                        "iteration": 260,
                        "passed_time": 0.9374118434,
                        "remaining_time": 0.8583962857,
                        "test": [
                          0.5389243783
                        ]
                      },
                      {
                        "learn": [
                          0.2172069682
                        ],
                        "iteration": 261,
                        "passed_time": 0.9386557972,
                        "remaining_time": 0.85267206,
                        "test": [
                          0.5393382372
                        ]
                      },
                      {
                        "learn": [
                          0.2167154948
                        ],
                        "iteration": 262,
                        "passed_time": 0.9397472208,
                        "remaining_time": 0.8468444537,
                        "test": [
                          0.5396618773
                        ]
                      },
                      {
                        "learn": [
                          0.2155328327
                        ],
                        "iteration": 263,
                        "passed_time": 0.9409210197,
                        "remaining_time": 0.8411263661,
                        "test": [
                          0.539317681
                        ]
                      },
                      {
                        "learn": [
                          0.2147783836
                        ],
                        "iteration": 264,
                        "passed_time": 0.9420844813,
                        "remaining_time": 0.835433408,
                        "test": [
                          0.5384007796
                        ]
                      },
                      {
                        "learn": [
                          0.2147262626
                        ],
                        "iteration": 265,
                        "passed_time": 0.9636794451,
                        "remaining_time": 0.8477480833,
                        "test": [
                          0.5382976437
                        ]
                      },
                      {
                        "learn": [
                          0.2143138117
                        ],
                        "iteration": 266,
                        "passed_time": 0.9654334467,
                        "remaining_time": 0.8424943561,
                        "test": [
                          0.5376866805
                        ]
                      },
                      {
                        "learn": [
                          0.2141785489
                        ],
                        "iteration": 267,
                        "passed_time": 0.9782744659,
                        "remaining_time": 0.8468644631,
                        "test": [
                          0.5379714791
                        ]
                      },
                      {
                        "learn": [
                          0.2139568594
                        ],
                        "iteration": 268,
                        "passed_time": 0.9800564887,
                        "remaining_time": 0.8416098472,
                        "test": [
                          0.5377647579
                        ]
                      },
                      {
                        "learn": [
                          0.2128561603
                        ],
                        "iteration": 269,
                        "passed_time": 0.9846431721,
                        "remaining_time": 0.8387701096,
                        "test": [
                          0.538439897
                        ]
                      },
                      {
                        "learn": [
                          0.2125258578
                        ],
                        "iteration": 270,
                        "passed_time": 0.9874363386,
                        "remaining_time": 0.8344019245,
                        "test": [
                          0.5388891934
                        ]
                      },
                      {
                        "learn": [
                          0.2120684915
                        ],
                        "iteration": 271,
                        "passed_time": 0.9904218656,
                        "remaining_time": 0.8302065638,
                        "test": [
                          0.5401037398
                        ]
                      },
                      {
                        "learn": [
                          0.2111531893
                        ],
                        "iteration": 272,
                        "passed_time": 0.9935363134,
                        "remaining_time": 0.8261272643,
                        "test": [
                          0.5410175265
                        ]
                      },
                      {
                        "learn": [
                          0.2102239529
                        ],
                        "iteration": 273,
                        "passed_time": 0.9964597485,
                        "remaining_time": 0.8218974568,
                        "test": [
                          0.5404534599
                        ]
                      },
                      {
                        "learn": [
                          0.2099106444
                        ],
                        "iteration": 274,
                        "passed_time": 0.9989199639,
                        "remaining_time": 0.8172981523,
                        "test": [
                          0.5409015092
                        ]
                      },
                      {
                        "learn": [
                          0.2091559437
                        ],
                        "iteration": 275,
                        "passed_time": 1.000551762,
                        "remaining_time": 0.8120420093,
                        "test": [
                          0.5419495244
                        ]
                      },
                      {
                        "learn": [
                          0.2084669405
                        ],
                        "iteration": 276,
                        "passed_time": 1.001956926,
                        "remaining_time": 0.8066295826,
                        "test": [
                          0.5424925783
                        ]
                      },
                      {
                        "learn": [
                          0.2077627314
                        ],
                        "iteration": 277,
                        "passed_time": 1.007577229,
                        "remaining_time": 0.8046120316,
                        "test": [
                          0.5421447705
                        ]
                      },
                      {
                        "learn": [
                          0.2068940798
                        ],
                        "iteration": 278,
                        "passed_time": 1.01063135,
                        "remaining_time": 0.800535944,
                        "test": [
                          0.5422575745
                        ]
                      },
                      {
                        "learn": [
                          0.2064077987
                        ],
                        "iteration": 279,
                        "passed_time": 1.014199843,
                        "remaining_time": 0.7968713055,
                        "test": [
                          0.5415902531
                        ]
                      },
                      {
                        "learn": [
                          0.2060922517
                        ],
                        "iteration": 280,
                        "passed_time": 1.015840043,
                        "remaining_time": 0.7917045178,
                        "test": [
                          0.5410263646
                        ]
                      },
                      {
                        "learn": [
                          0.2055359946
                        ],
                        "iteration": 281,
                        "passed_time": 1.017529995,
                        "remaining_time": 0.7866012016,
                        "test": [
                          0.541474101
                        ]
                      },
                      {
                        "learn": [
                          0.2048714691
                        ],
                        "iteration": 282,
                        "passed_time": 1.022164016,
                        "remaining_time": 0.7837794751,
                        "test": [
                          0.5425141341
                        ]
                      },
                      {
                        "learn": [
                          0.2045822806
                        ],
                        "iteration": 283,
                        "passed_time": 1.025668191,
                        "remaining_time": 0.7800856662,
                        "test": [
                          0.5430297445
                        ]
                      },
                      {
                        "learn": [
                          0.2039104038
                        ],
                        "iteration": 284,
                        "passed_time": 1.027199024,
                        "remaining_time": 0.7749045267,
                        "test": [
                          0.5432722161
                        ]
                      },
                      {
                        "learn": [
                          0.2036150164
                        ],
                        "iteration": 285,
                        "passed_time": 1.028784238,
                        "remaining_time": 0.7697896045,
                        "test": [
                          0.5433594001
                        ]
                      },
                      {
                        "learn": [
                          0.2033881346
                        ],
                        "iteration": 286,
                        "passed_time": 1.034655269,
                        "remaining_time": 0.7678800428,
                        "test": [
                          0.5436132122
                        ]
                      },
                      {
                        "learn": [
                          0.2030042675
                        ],
                        "iteration": 287,
                        "passed_time": 1.036273591,
                        "remaining_time": 0.7628125041,
                        "test": [
                          0.5443781146
                        ]
                      },
                      {
                        "learn": [
                          0.2021652328
                        ],
                        "iteration": 288,
                        "passed_time": 1.037817706,
                        "remaining_time": 0.7577146576,
                        "test": [
                          0.545562189
                        ]
                      },
                      {
                        "learn": [
                          0.2012646728
                        ],
                        "iteration": 289,
                        "passed_time": 1.042317773,
                        "remaining_time": 0.7547818356,
                        "test": [
                          0.5456036548
                        ]
                      },
                      {
                        "learn": [
                          0.1998329825
                        ],
                        "iteration": 290,
                        "passed_time": 1.0462902,
                        "remaining_time": 0.7514592844,
                        "test": [
                          0.5457205847
                        ]
                      },
                      {
                        "learn": [
                          0.1995274756
                        ],
                        "iteration": 291,
                        "passed_time": 1.0479442,
                        "remaining_time": 0.7464808,
                        "test": [
                          0.5463095912
                        ]
                      },
                      {
                        "learn": [
                          0.1993151771
                        ],
                        "iteration": 292,
                        "passed_time": 1.05127265,
                        "remaining_time": 0.7427079817,
                        "test": [
                          0.5462987047
                        ]
                      },
                      {
                        "learn": [
                          0.1985361311
                        ],
                        "iteration": 293,
                        "passed_time": 1.05641737,
                        "remaining_time": 0.7402108102,
                        "test": [
                          0.5466765401
                        ]
                      },
                      {
                        "learn": [
                          0.1984232399
                        ],
                        "iteration": 294,
                        "passed_time": 1.058885212,
                        "remaining_time": 0.7358354861,
                        "test": [
                          0.5469419317
                        ]
                      },
                      {
                        "learn": [
                          0.1973061694
                        ],
                        "iteration": 295,
                        "passed_time": 1.060526265,
                        "remaining_time": 0.7309032366,
                        "test": [
                          0.5470766168
                        ]
                      },
                      {
                        "learn": [
                          0.1966617902
                        ],
                        "iteration": 296,
                        "passed_time": 1.06210353,
                        "remaining_time": 0.7259495506,
                        "test": [
                          0.5479095687
                        ]
                      },
                      {
                        "learn": [
                          0.1963736084
                        ],
                        "iteration": 297,
                        "passed_time": 1.067343729,
                        "remaining_time": 0.723501454,
                        "test": [
                          0.5470591313
                        ]
                      },
                      {
                        "learn": [
                          0.1955041356
                        ],
                        "iteration": 298,
                        "passed_time": 1.070761231,
                        "remaining_time": 0.7198093897,
                        "test": [
                          0.5479062962
                        ]
                      },
                      {
                        "learn": [
                          0.1945818
                        ],
                        "iteration": 299,
                        "passed_time": 1.072449088,
                        "remaining_time": 0.7149660585,
                        "test": [
                          0.5489285873
                        ]
                      },
                      {
                        "learn": [
                          0.1942727831
                        ],
                        "iteration": 300,
                        "passed_time": 1.077055325,
                        "remaining_time": 0.7120731215,
                        "test": [
                          0.5495859245
                        ]
                      },
                      {
                        "learn": [
                          0.1938554181
                        ],
                        "iteration": 301,
                        "passed_time": 1.081553679,
                        "remaining_time": 0.7090981077,
                        "test": [
                          0.5505058195
                        ]
                      },
                      {
                        "learn": [
                          0.1936423911
                        ],
                        "iteration": 302,
                        "passed_time": 1.083609244,
                        "remaining_time": 0.704524822,
                        "test": [
                          0.5502572787
                        ]
                      },
                      {
                        "learn": [
                          0.1925055981
                        ],
                        "iteration": 303,
                        "passed_time": 1.08825094,
                        "remaining_time": 0.7016354746,
                        "test": [
                          0.5503201707
                        ]
                      },
                      {
                        "learn": [
                          0.1917572419
                        ],
                        "iteration": 304,
                        "passed_time": 1.092274801,
                        "remaining_time": 0.698339627,
                        "test": [
                          0.550154874
                        ]
                      },
                      {
                        "learn": [
                          0.1908830404
                        ],
                        "iteration": 305,
                        "passed_time": 1.09399142,
                        "remaining_time": 0.6935762595,
                        "test": [
                          0.5502858492
                        ]
                      },
                      {
                        "learn": [
                          0.1906612184
                        ],
                        "iteration": 306,
                        "passed_time": 1.097440437,
                        "remaining_time": 0.6899218383,
                        "test": [
                          0.5505157102
                        ]
                      },
                      {
                        "learn": [
                          0.1899216175
                        ],
                        "iteration": 307,
                        "passed_time": 1.101815075,
                        "remaining_time": 0.6868457609,
                        "test": [
                          0.5501876147
                        ]
                      },
                      {
                        "learn": [
                          0.1891627577
                        ],
                        "iteration": 308,
                        "passed_time": 1.109211328,
                        "remaining_time": 0.6856290083,
                        "test": [
                          0.5507918255
                        ]
                      },
                      {
                        "learn": [
                          0.1884333955
                        ],
                        "iteration": 309,
                        "passed_time": 1.111692145,
                        "remaining_time": 0.6813597021,
                        "test": [
                          0.551449295
                        ]
                      },
                      {
                        "learn": [
                          0.1876411703
                        ],
                        "iteration": 310,
                        "passed_time": 1.113572809,
                        "remaining_time": 0.6767371732,
                        "test": [
                          0.5515648216
                        ]
                      },
                      {
                        "learn": [
                          0.1874978013
                        ],
                        "iteration": 311,
                        "passed_time": 1.118078322,
                        "remaining_time": 0.6737138606,
                        "test": [
                          0.5515001255
                        ]
                      },
                      {
                        "learn": [
                          0.1870096657
                        ],
                        "iteration": 312,
                        "passed_time": 1.122245193,
                        "remaining_time": 0.6704787577,
                        "test": [
                          0.5520748064
                        ]
                      },
                      {
                        "learn": [
                          0.1868902842
                        ],
                        "iteration": 313,
                        "passed_time": 1.123818449,
                        "remaining_time": 0.665701374,
                        "test": [
                          0.5519831849
                        ]
                      },
                      {
                        "learn": [
                          0.1864296065
                        ],
                        "iteration": 314,
                        "passed_time": 1.128194281,
                        "remaining_time": 0.6625902922,
                        "test": [
                          0.5526741693
                        ]
                      },
                      {
                        "learn": [
                          0.1855427292
                        ],
                        "iteration": 315,
                        "passed_time": 1.133549683,
                        "remaining_time": 0.6600415874,
                        "test": [
                          0.5532321234
                        ]
                      },
                      {
                        "learn": [
                          0.1854444345
                        ],
                        "iteration": 316,
                        "passed_time": 1.135402278,
                        "remaining_time": 0.6554530501,
                        "test": [
                          0.5528471417
                        ]
                      },
                      {
                        "learn": [
                          0.1844514211
                        ],
                        "iteration": 317,
                        "passed_time": 1.140017541,
                        "remaining_time": 0.6524628696,
                        "test": [
                          0.5530022528
                        ]
                      },
                      {
                        "learn": [
                          0.1833809482
                        ],
                        "iteration": 318,
                        "passed_time": 1.143948888,
                        "remaining_time": 0.6490744475,
                        "test": [
                          0.5526604298
                        ]
                      },
                      {
                        "learn": [
                          0.1823271645
                        ],
                        "iteration": 319,
                        "passed_time": 1.147827224,
                        "remaining_time": 0.6456528133,
                        "test": [
                          0.5524146841
                        ]
                      },
                      {
                        "learn": [
                          0.1816275782
                        ],
                        "iteration": 320,
                        "passed_time": 1.150609454,
                        "remaining_time": 0.6416171097,
                        "test": [
                          0.5526504359
                        ]
                      },
                      {
                        "learn": [
                          0.1813121902
                        ],
                        "iteration": 321,
                        "passed_time": 1.152191567,
                        "remaining_time": 0.6369257729,
                        "test": [
                          0.5524173681
                        ]
                      },
                      {
                        "learn": [
                          0.1808326112
                        ],
                        "iteration": 322,
                        "passed_time": 1.15381439,
                        "remaining_time": 0.6322759968,
                        "test": [
                          0.5518368631
                        ]
                      },
                      {
                        "learn": [
                          0.1805437936
                        ],
                        "iteration": 323,
                        "passed_time": 1.159166408,
                        "remaining_time": 0.6296706416,
                        "test": [
                          0.5516522662
                        ]
                      },
                      {
                        "learn": [
                          0.1796547307
                        ],
                        "iteration": 324,
                        "passed_time": 1.160856651,
                        "remaining_time": 0.6250766583,
                        "test": [
                          0.5524053046
                        ]
                      },
                      {
                        "learn": [
                          0.1795374817
                        ],
                        "iteration": 325,
                        "passed_time": 1.164637519,
                        "remaining_time": 0.6216163444,
                        "test": [
                          0.5521482571
                        ]
                      },
                      {
                        "learn": [
                          0.1792085833
                        ],
                        "iteration": 326,
                        "passed_time": 1.169205079,
                        "remaining_time": 0.6185702713,
                        "test": [
                          0.5522777569
                        ]
                      },
                      {
                        "learn": [
                          0.1786151992
                        ],
                        "iteration": 327,
                        "passed_time": 1.171089984,
                        "remaining_time": 0.6141081626,
                        "test": [
                          0.5515399369
                        ]
                      },
                      {
                        "learn": [
                          0.1777970393
                        ],
                        "iteration": 328,
                        "passed_time": 1.176452777,
                        "remaining_time": 0.6114693763,
                        "test": [
                          0.5522690898
                        ]
                      },
                      {
                        "learn": [
                          0.1775686079
                        ],
                        "iteration": 329,
                        "passed_time": 1.179843977,
                        "remaining_time": 0.6077984122,
                        "test": [
                          0.5523788669
                        ]
                      },
                      {
                        "learn": [
                          0.1771322886
                        ],
                        "iteration": 330,
                        "passed_time": 1.181480253,
                        "remaining_time": 0.6032331201,
                        "test": [
                          0.552960678
                        ]
                      },
                      {
                        "learn": [
                          0.1761449973
                        ],
                        "iteration": 331,
                        "passed_time": 1.186045071,
                        "remaining_time": 0.6001673852,
                        "test": [
                          0.5529370109
                        ]
                      },
                      {
                        "learn": [
                          0.1754649613
                        ],
                        "iteration": 332,
                        "passed_time": 1.190046602,
                        "remaining_time": 0.596810158,
                        "test": [
                          0.5530094039
                        ]
                      },
                      {
                        "learn": [
                          0.1748078929
                        ],
                        "iteration": 333,
                        "passed_time": 1.1918179,
                        "remaining_time": 0.592340633,
                        "test": [
                          0.5536846661
                        ]
                      },
                      {
                        "learn": [
                          0.1742929882
                        ],
                        "iteration": 334,
                        "passed_time": 1.196669636,
                        "remaining_time": 0.5894044476,
                        "test": [
                          0.5539026724
                        ]
                      },
                      {
                        "learn": [
                          0.1741263602
                        ],
                        "iteration": 335,
                        "passed_time": 1.201165099,
                        "remaining_time": 0.586282965,
                        "test": [
                          0.5542569999
                        ]
                      },
                      {
                        "learn": [
                          0.1735528575
                        ],
                        "iteration": 336,
                        "passed_time": 1.206116637,
                        "remaining_time": 0.5833739224,
                        "test": [
                          0.5545652969
                        ]
                      },
                      {
                        "learn": [
                          0.1727106571
                        ],
                        "iteration": 337,
                        "passed_time": 1.207813954,
                        "remaining_time": 0.5788930785,
                        "test": [
                          0.5555158873
                        ]
                      },
                      {
                        "learn": [
                          0.1723376645
                        ],
                        "iteration": 338,
                        "passed_time": 1.209619946,
                        "remaining_time": 0.5744802691,
                        "test": [
                          0.5558484164
                        ]
                      },
                      {
                        "learn": [
                          0.1715153323
                        ],
                        "iteration": 339,
                        "passed_time": 1.216081565,
                        "remaining_time": 0.5722736776,
                        "test": [
                          0.5572694754
                        ]
                      },
                      {
                        "learn": [
                          0.1710335149
                        ],
                        "iteration": 340,
                        "passed_time": 1.217726548,
                        "remaining_time": 0.5677962495,
                        "test": [
                          0.5572351725
                        ]
                      },
                      {
                        "learn": [
                          0.1707162857
                        ],
                        "iteration": 341,
                        "passed_time": 1.219270338,
                        "remaining_time": 0.5632886355,
                        "test": [
                          0.5571035765
                        ]
                      },
                      {
                        "learn": [
                          0.1705112987
                        ],
                        "iteration": 342,
                        "passed_time": 1.225259346,
                        "remaining_time": 0.5608329951,
                        "test": [
                          0.5573363373
                        ]
                      },
                      {
                        "learn": [
                          0.1698520978
                        ],
                        "iteration": 343,
                        "passed_time": 1.22688263,
                        "remaining_time": 0.5563770068,
                        "test": [
                          0.5582327065
                        ]
                      },
                      {
                        "learn": [
                          0.1696433491
                        ],
                        "iteration": 344,
                        "passed_time": 1.228428116,
                        "remaining_time": 0.551902487,
                        "test": [
                          0.558650689
                        ]
                      },
                      {
                        "learn": [
                          0.1691613727
                        ],
                        "iteration": 345,
                        "passed_time": 1.233852597,
                        "remaining_time": 0.5491713869,
                        "test": [
                          0.5599434816
                        ]
                      },
                      {
                        "learn": [
                          0.1685476568
                        ],
                        "iteration": 346,
                        "passed_time": 1.236992306,
                        "remaining_time": 0.5454173568,
                        "test": [
                          0.5611230796
                        ]
                      },
                      {
                        "learn": [
                          0.1682537662
                        ],
                        "iteration": 347,
                        "passed_time": 1.23872137,
                        "remaining_time": 0.5410507132,
                        "test": [
                          0.5603307208
                        ]
                      },
                      {
                        "learn": [
                          0.167809142
                        ],
                        "iteration": 348,
                        "passed_time": 1.243316609,
                        "remaining_time": 0.537939278,
                        "test": [
                          0.5604037167
                        ]
                      },
                      {
                        "learn": [
                          0.1672954294
                        ],
                        "iteration": 349,
                        "passed_time": 1.247219517,
                        "remaining_time": 0.5345226499,
                        "test": [
                          0.5612259068
                        ]
                      },
                      {
                        "learn": [
                          0.1667175161
                        ],
                        "iteration": 350,
                        "passed_time": 1.248879555,
                        "remaining_time": 0.5301511501,
                        "test": [
                          0.5611201102
                        ]
                      },
                      {
                        "learn": [
                          0.1663958497
                        ],
                        "iteration": 351,
                        "passed_time": 1.253081,
                        "remaining_time": 0.5268636024,
                        "test": [
                          0.5613078341
                        ]
                      },
                      {
                        "learn": [
                          0.1658585866
                        ],
                        "iteration": 352,
                        "passed_time": 1.257013883,
                        "remaining_time": 0.523459039,
                        "test": [
                          0.5623605828
                        ]
                      },
                      {
                        "learn": [
                          0.1653067536
                        ],
                        "iteration": 353,
                        "passed_time": 1.25859813,
                        "remaining_time": 0.5190828445,
                        "test": [
                          0.5622573563
                        ]
                      },
                      {
                        "learn": [
                          0.1648531225
                        ],
                        "iteration": 354,
                        "passed_time": 1.262866816,
                        "remaining_time": 0.5158188403,
                        "test": [
                          0.5625484302
                        ]
                      },
                      {
                        "learn": [
                          0.1643426418
                        ],
                        "iteration": 355,
                        "passed_time": 1.266625468,
                        "remaining_time": 0.5123428858,
                        "test": [
                          0.5630194865
                        ]
                      },
                      {
                        "learn": [
                          0.164012644
                        ],
                        "iteration": 356,
                        "passed_time": 1.268330263,
                        "remaining_time": 0.5080426544,
                        "test": [
                          0.563184992
                        ]
                      },
                      {
                        "learn": [
                          0.1637513505
                        ],
                        "iteration": 357,
                        "passed_time": 1.272406128,
                        "remaining_time": 0.5046974029,
                        "test": [
                          0.5630831437
                        ]
                      },
                      {
                        "learn": [
                          0.1634287172
                        ],
                        "iteration": 358,
                        "passed_time": 1.276583416,
                        "remaining_time": 0.5013879156,
                        "test": [
                          0.5628228769
                        ]
                      },
                      {
                        "learn": [
                          0.1631304158
                        ],
                        "iteration": 359,
                        "passed_time": 1.278271083,
                        "remaining_time": 0.497105421,
                        "test": [
                          0.563360986
                        ]
                      },
                      {
                        "learn": [
                          0.1626768377
                        ],
                        "iteration": 360,
                        "passed_time": 1.282349874,
                        "remaining_time": 0.4937579846,
                        "test": [
                          0.563780361
                        ]
                      },
                      {
                        "learn": [
                          0.16251919
                        ],
                        "iteration": 361,
                        "passed_time": 1.283981878,
                        "remaining_time": 0.4894737547,
                        "test": [
                          0.5642135972
                        ]
                      },
                      {
                        "learn": [
                          0.1620955467
                        ],
                        "iteration": 362,
                        "passed_time": 1.285503452,
                        "remaining_time": 0.4851624598,
                        "test": [
                          0.5648250393
                        ]
                      },
                      {
                        "learn": [
                          0.1613659991
                        ],
                        "iteration": 363,
                        "passed_time": 1.290841736,
                        "remaining_time": 0.4822925168,
                        "test": [
                          0.5651124739
                        ]
                      },
                      {
                        "learn": [
                          0.1611898078
                        ],
                        "iteration": 364,
                        "passed_time": 1.29362147,
                        "remaining_time": 0.4784627354,
                        "test": [
                          0.5652140576
                        ]
                      },
                      {
                        "learn": [
                          0.161086811
                        ],
                        "iteration": 365,
                        "passed_time": 1.295294734,
                        "remaining_time": 0.4742335912,
                        "test": [
                          0.5650146538
                        ]
                      },
                      {
                        "learn": [
                          0.1601593362
                        ],
                        "iteration": 366,
                        "passed_time": 1.297105258,
                        "remaining_time": 0.4700681182,
                        "test": [
                          0.565284261
                        ]
                      },
                      {
                        "learn": [
                          0.1600194507
                        ],
                        "iteration": 367,
                        "passed_time": 1.302623984,
                        "remaining_time": 0.4672455596,
                        "test": [
                          0.5651664611
                        ]
                      },
                      {
                        "learn": [
                          0.1598902014
                        ],
                        "iteration": 368,
                        "passed_time": 1.304288659,
                        "remaining_time": 0.4630401471,
                        "test": [
                          0.5653175429
                        ]
                      },
                      {
                        "learn": [
                          0.159221424
                        ],
                        "iteration": 369,
                        "passed_time": 1.30592188,
                        "remaining_time": 0.4588374174,
                        "test": [
                          0.565911075
                        ]
                      },
                      {
                        "learn": [
                          0.1589558787
                        ],
                        "iteration": 370,
                        "passed_time": 1.311961079,
                        "remaining_time": 0.456180537,
                        "test": [
                          0.5657003527
                        ]
                      },
                      {
                        "learn": [
                          0.1587862306
                        ],
                        "iteration": 371,
                        "passed_time": 1.313517997,
                        "remaining_time": 0.4519631819,
                        "test": [
                          0.5655679237
                        ]
                      },
                      {
                        "learn": [
                          0.1583692763
                        ],
                        "iteration": 372,
                        "passed_time": 1.315065562,
                        "remaining_time": 0.4477569071,
                        "test": [
                          0.5662214307
                        ]
                      },
                      {
                        "learn": [
                          0.1581575606
                        ],
                        "iteration": 373,
                        "passed_time": 1.319736265,
                        "remaining_time": 0.4446170304,
                        "test": [
                          0.5662278996
                        ]
                      },
                      {
                        "learn": [
                          0.1580072774
                        ],
                        "iteration": 374,
                        "passed_time": 1.323501072,
                        "remaining_time": 0.441167024,
                        "test": [
                          0.5662822322
                        ]
                      },
                      {
                        "learn": [
                          0.1577381028
                        ],
                        "iteration": 375,
                        "passed_time": 1.325065486,
                        "remaining_time": 0.4369896814,
                        "test": [
                          0.5660467323
                        ]
                      },
                      {
                        "learn": [
                          0.1575401624
                        ],
                        "iteration": 376,
                        "passed_time": 1.327701194,
                        "remaining_time": 0.433175721,
                        "test": [
                          0.5660529399
                        ]
                      },
                      {
                        "learn": [
                          0.1573624876
                        ],
                        "iteration": 377,
                        "passed_time": 1.332865786,
                        "remaining_time": 0.4301841955,
                        "test": [
                          0.566294047
                        ]
                      },
                      {
                        "learn": [
                          0.1571531561
                        ],
                        "iteration": 378,
                        "passed_time": 1.33451627,
                        "remaining_time": 0.4260592842,
                        "test": [
                          0.5665060827
                        ]
                      },
                      {
                        "learn": [
                          0.1569564078
                        ],
                        "iteration": 379,
                        "passed_time": 1.337213806,
                        "remaining_time": 0.4222780439,
                        "test": [
                          0.5670687663
                        ]
                      },
                      {
                        "learn": [
                          0.1566239463
                        ],
                        "iteration": 380,
                        "passed_time": 1.342668721,
                        "remaining_time": 0.4193637213,
                        "test": [
                          0.5676418372
                        ]
                      },
                      {
                        "learn": [
                          0.15640378
                        ],
                        "iteration": 381,
                        "passed_time": 1.352900852,
                        "remaining_time": 0.4179117814,
                        "test": [
                          0.5671515692
                        ]
                      },
                      {
                        "learn": [
                          0.1554724375
                        ],
                        "iteration": 382,
                        "passed_time": 1.357322485,
                        "remaining_time": 0.4146389836,
                        "test": [
                          0.5668761382
                        ]
                      },
                      {
                        "learn": [
                          0.1551936335
                        ],
                        "iteration": 383,
                        "passed_time": 1.358990685,
                        "remaining_time": 0.4105284361,
                        "test": [
                          0.5673739579
                        ]
                      },
                      {
                        "learn": [
                          0.1548010508
                        ],
                        "iteration": 384,
                        "passed_time": 1.364629823,
                        "remaining_time": 0.4076167004,
                        "test": [
                          0.5683772589
                        ]
                      },
                      {
                        "learn": [
                          0.1539739238
                        ],
                        "iteration": 385,
                        "passed_time": 1.369781345,
                        "remaining_time": 0.4045468222,
                        "test": [
                          0.5692664577
                        ]
                      },
                      {
                        "learn": [
                          0.1538639334
                        ],
                        "iteration": 386,
                        "passed_time": 1.371453057,
                        "remaining_time": 0.4004501174,
                        "test": [
                          0.569038762
                        ]
                      },
                      {
                        "learn": [
                          0.1531712214
                        ],
                        "iteration": 387,
                        "passed_time": 1.385238119,
                        "remaining_time": 0.3998625497,
                        "test": [
                          0.5683987999
                        ]
                      },
                      {
                        "learn": [
                          0.1528935697
                        ],
                        "iteration": 388,
                        "passed_time": 1.38905391,
                        "remaining_time": 0.3963624267,
                        "test": [
                          0.5685909632
                        ]
                      },
                      {
                        "learn": [
                          0.1527139876
                        ],
                        "iteration": 389,
                        "passed_time": 1.391899113,
                        "remaining_time": 0.3925869293,
                        "test": [
                          0.5682799748
                        ]
                      },
                      {
                        "learn": [
                          0.1525686847
                        ],
                        "iteration": 390,
                        "passed_time": 1.396376505,
                        "remaining_time": 0.3892711995,
                        "test": [
                          0.5681159586
                        ]
                      },
                      {
                        "learn": [
                          0.1520660188
                        ],
                        "iteration": 391,
                        "passed_time": 1.400485552,
                        "remaining_time": 0.3858480604,
                        "test": [
                          0.5678837925
                        ]
                      },
                      {
                        "learn": [
                          0.1519073248
                        ],
                        "iteration": 392,
                        "passed_time": 1.404460032,
                        "remaining_time": 0.3823847924,
                        "test": [
                          0.5682210884
                        ]
                      },
                      {
                        "learn": [
                          0.1514406204
                        ],
                        "iteration": 393,
                        "passed_time": 1.408240158,
                        "remaining_time": 0.3788666415,
                        "test": [
                          0.5688795161
                        ]
                      },
                      {
                        "learn": [
                          0.15075069
                        ],
                        "iteration": 394,
                        "passed_time": 1.40981507,
                        "remaining_time": 0.374760968,
                        "test": [
                          0.5704808035
                        ]
                      },
                      {
                        "learn": [
                          0.150301973
                        ],
                        "iteration": 395,
                        "passed_time": 1.411459,
                        "remaining_time": 0.3706862021,
                        "test": [
                          0.5706141336
                        ]
                      },
                      {
                        "learn": [
                          0.1500477791
                        ],
                        "iteration": 396,
                        "passed_time": 1.417009755,
                        "remaining_time": 0.3676372915,
                        "test": [
                          0.5710822179
                        ]
                      },
                      {
                        "learn": [
                          0.1495681074
                        ],
                        "iteration": 397,
                        "passed_time": 1.418682912,
                        "remaining_time": 0.3635820529,
                        "test": [
                          0.5713211017
                        ]
                      },
                      {
                        "learn": [
                          0.1490229236
                        ],
                        "iteration": 398,
                        "passed_time": 1.420989728,
                        "remaining_time": 0.3596991541,
                        "test": [
                          0.5729621647
                        ]
                      },
                      {
                        "learn": [
                          0.148291813
                        ],
                        "iteration": 399,
                        "passed_time": 1.425976232,
                        "remaining_time": 0.356494058,
                        "test": [
                          0.5724875525
                        ]
                      },
                      {
                        "learn": [
                          0.1476143599
                        ],
                        "iteration": 400,
                        "passed_time": 1.428600689,
                        "remaining_time": 0.3526969283,
                        "test": [
                          0.5718591805
                        ]
                      },
                      {
                        "learn": [
                          0.1474080351
                        ],
                        "iteration": 401,
                        "passed_time": 1.43179689,
                        "remaining_time": 0.349045013,
                        "test": [
                          0.5721388526
                        ]
                      },
                      {
                        "learn": [
                          0.1468838851
                        ],
                        "iteration": 402,
                        "passed_time": 1.433298029,
                        "remaining_time": 0.3449873669,
                        "test": [
                          0.5717188086
                        ]
                      },
                      {
                        "learn": [
                          0.1461861663
                        ],
                        "iteration": 403,
                        "passed_time": 1.436619108,
                        "remaining_time": 0.3413748376,
                        "test": [
                          0.5732305263
                        ]
                      },
                      {
                        "learn": [
                          0.1459089915
                        ],
                        "iteration": 404,
                        "passed_time": 1.441224961,
                        "remaining_time": 0.3380651143,
                        "test": [
                          0.5736521526
                        ]
                      },
                      {
                        "learn": [
                          0.1455139849
                        ],
                        "iteration": 405,
                        "passed_time": 1.443999208,
                        "remaining_time": 0.3343249397,
                        "test": [
                          0.5744679753
                        ]
                      },
                      {
                        "learn": [
                          0.1450613605
                        ],
                        "iteration": 406,
                        "passed_time": 1.445723024,
                        "remaining_time": 0.3303494872,
                        "test": [
                          0.5742390072
                        ]
                      },
                      {
                        "learn": [
                          0.1445580853
                        ],
                        "iteration": 407,
                        "passed_time": 1.44879433,
                        "remaining_time": 0.3266889175,
                        "test": [
                          0.574084147
                        ]
                      },
                      {
                        "learn": [
                          0.1443974972
                        ],
                        "iteration": 408,
                        "passed_time": 1.453481099,
                        "remaining_time": 0.3233906603,
                        "test": [
                          0.5742023662
                        ]
                      },
                      {
                        "learn": [
                          0.1443505287
                        ],
                        "iteration": 409,
                        "passed_time": 1.455032451,
                        "remaining_time": 0.3193973673,
                        "test": [
                          0.5742536136
                        ]
                      },
                      {
                        "learn": [
                          0.1438048151
                        ],
                        "iteration": 410,
                        "passed_time": 1.457310829,
                        "remaining_time": 0.3155733911,
                        "test": [
                          0.5753439941
                        ]
                      },
                      {
                        "learn": [
                          0.1435292032
                        ],
                        "iteration": 411,
                        "passed_time": 1.462425403,
                        "remaining_time": 0.3123627074,
                        "test": [
                          0.5753640217
                        ]
                      },
                      {
                        "learn": [
                          0.1433760855
                        ],
                        "iteration": 412,
                        "passed_time": 1.464058324,
                        "remaining_time": 0.3084093807,
                        "test": [
                          0.5755773426
                        ]
                      },
                      {
                        "learn": [
                          0.1429522567
                        ],
                        "iteration": 413,
                        "passed_time": 1.465734694,
                        "remaining_time": 0.304476289,
                        "test": [
                          0.5756046481
                        ]
                      },
                      {
                        "learn": [
                          0.1424180269
                        ],
                        "iteration": 414,
                        "passed_time": 1.471700982,
                        "remaining_time": 0.3014327312,
                        "test": [
                          0.5755912599
                        ]
                      },
                      {
                        "learn": [
                          0.1419882774
                        ],
                        "iteration": 415,
                        "passed_time": 1.474771607,
                        "remaining_time": 0.2977904207,
                        "test": [
                          0.5756444593
                        ]
                      },
                      {
                        "learn": [
                          0.1416980028
                        ],
                        "iteration": 416,
                        "passed_time": 1.478457573,
                        "remaining_time": 0.2942733298,
                        "test": [
                          0.5768459844
                        ]
                      },
                      {
                        "learn": [
                          0.141350362
                        ],
                        "iteration": 417,
                        "passed_time": 1.48071707,
                        "remaining_time": 0.2904755974,
                        "test": [
                          0.5772925421
                        ]
                      },
                      {
                        "learn": [
                          0.1411165926
                        ],
                        "iteration": 418,
                        "passed_time": 1.484150896,
                        "remaining_time": 0.2869122257,
                        "test": [
                          0.5774016732
                        ]
                      },
                      {
                        "learn": [
                          0.1408096419
                        ],
                        "iteration": 419,
                        "passed_time": 1.487498513,
                        "remaining_time": 0.2833330501,
                        "test": [
                          0.5780777731
                        ]
                      },
                      {
                        "learn": [
                          0.1404457092
                        ],
                        "iteration": 420,
                        "passed_time": 1.494447168,
                        "remaining_time": 0.2804307037,
                        "test": [
                          0.5790131957
                        ]
                      },
                      {
                        "learn": [
                          0.1400948233
                        ],
                        "iteration": 421,
                        "passed_time": 1.498154603,
                        "remaining_time": 0.2769100925,
                        "test": [
                          0.5794631528
                        ]
                      },
                      {
                        "learn": [
                          0.1398680475
                        ],
                        "iteration": 422,
                        "passed_time": 1.50044774,
                        "remaining_time": 0.2731311489,
                        "test": [
                          0.578804931
                        ]
                      },
                      {
                        "learn": [
                          0.1393332216
                        ],
                        "iteration": 423,
                        "passed_time": 1.512382546,
                        "remaining_time": 0.2710874375,
                        "test": [
                          0.5789556852
                        ]
                      },
                      {
                        "learn": [
                          0.1390984853
                        ],
                        "iteration": 424,
                        "passed_time": 1.51380104,
                        "remaining_time": 0.2671413601,
                        "test": [
                          0.5791365504
                        ]
                      },
                      {
                        "learn": [
                          0.1389254861
                        ],
                        "iteration": 425,
                        "passed_time": 1.51663679,
                        "remaining_time": 0.263453339,
                        "test": [
                          0.579540639
                        ]
                      },
                      {
                        "learn": [
                          0.138737758
                        ],
                        "iteration": 426,
                        "passed_time": 1.520242952,
                        "remaining_time": 0.2599010199,
                        "test": [
                          0.5796302537
                        ]
                      },
                      {
                        "learn": [
                          0.1385290093
                        ],
                        "iteration": 427,
                        "passed_time": 1.539318477,
                        "remaining_time": 0.2589507718,
                        "test": [
                          0.5790147135
                        ]
                      },
                      {
                        "learn": [
                          0.1383701828
                        ],
                        "iteration": 428,
                        "passed_time": 1.544326612,
                        "remaining_time": 0.2555878542,
                        "test": [
                          0.5786302003
                        ]
                      },
                      {
                        "learn": [
                          0.1377453539
                        ],
                        "iteration": 429,
                        "passed_time": 1.547881739,
                        "remaining_time": 0.2519807482,
                        "test": [
                          0.5783346551
                        ]
                      },
                      {
                        "learn": [
                          0.1376145681
                        ],
                        "iteration": 430,
                        "passed_time": 1.550821165,
                        "remaining_time": 0.2482753141,
                        "test": [
                          0.5785524417
                        ]
                      },
                      {
                        "learn": [
                          0.1371814145
                        ],
                        "iteration": 431,
                        "passed_time": 1.567106427,
                        "remaining_time": 0.2466741599,
                        "test": [
                          0.5777857485
                        ]
                      },
                      {
                        "learn": [
                          0.136934042
                        ],
                        "iteration": 432,
                        "passed_time": 1.570810967,
                        "remaining_time": 0.24305851,
                        "test": [
                          0.5770823112
                        ]
                      },
                      {
                        "learn": [
                          0.1365762684
                        ],
                        "iteration": 433,
                        "passed_time": 1.585108531,
                        "remaining_time": 0.2410533711,
                        "test": [
                          0.5775694501
                        ]
                      },
                      {
                        "learn": [
                          0.1363697582
                        ],
                        "iteration": 434,
                        "passed_time": 1.587091054,
                        "remaining_time": 0.2371515368,
                        "test": [
                          0.5773732408
                        ]
                      },
                      {
                        "learn": [
                          0.136057655
                        ],
                        "iteration": 435,
                        "passed_time": 1.590956616,
                        "remaining_time": 0.2335349161,
                        "test": [
                          0.5777389667
                        ]
                      },
                      {
                        "learn": [
                          0.1356605291
                        ],
                        "iteration": 436,
                        "passed_time": 1.606983248,
                        "remaining_time": 0.2316703538,
                        "test": [
                          0.5790998042
                        ]
                      },
                      {
                        "learn": [
                          0.1356232696
                        ],
                        "iteration": 437,
                        "passed_time": 1.610616187,
                        "remaining_time": 0.2279867662,
                        "test": [
                          0.5790835905
                        ]
                      },
                      {
                        "learn": [
                          0.1354242961
                        ],
                        "iteration": 438,
                        "passed_time": 1.613064935,
                        "remaining_time": 0.2241388634,
                        "test": [
                          0.5797357642
                        ]
                      },
                      {
                        "learn": [
                          0.1351008548
                        ],
                        "iteration": 439,
                        "passed_time": 1.626711374,
                        "remaining_time": 0.2218242782,
                        "test": [
                          0.5806695358
                        ]
                      },
                      {
                        "learn": [
                          0.134549525
                        ],
                        "iteration": 440,
                        "passed_time": 1.629893901,
                        "remaining_time": 0.2180583677,
                        "test": [
                          0.5815202247
                        ]
                      },
                      {
                        "learn": [
                          0.1343369484
                        ],
                        "iteration": 441,
                        "passed_time": 1.636794613,
                        "remaining_time": 0.2147830036,
                        "test": [
                          0.5811684117
                        ]
                      },
                      {
                        "learn": [
                          0.1337832477
                        ],
                        "iteration": 442,
                        "passed_time": 1.643155748,
                        "remaining_time": 0.2114218456,
                        "test": [
                          0.581595638
                        ]
                      },
                      {
                        "learn": [
                          0.1335008674
                        ],
                        "iteration": 443,
                        "passed_time": 1.645269907,
                        "remaining_time": 0.2075115198,
                        "test": [
                          0.5819362694
                        ]
                      },
                      {
                        "learn": [
                          0.1332689656
                        ],
                        "iteration": 444,
                        "passed_time": 1.646859789,
                        "remaining_time": 0.2035444683,
                        "test": [
                          0.5815585142
                        ]
                      },
                      {
                        "learn": [
                          0.1327593459
                        ],
                        "iteration": 445,
                        "passed_time": 1.650886511,
                        "remaining_time": 0.1998831201,
                        "test": [
                          0.5811219766
                        ]
                      },
                      {
                        "learn": [
                          0.1320003668
                        ],
                        "iteration": 446,
                        "passed_time": 1.654961589,
                        "remaining_time": 0.1962258707,
                        "test": [
                          0.5812205145
                        ]
                      },
                      {
                        "learn": [
                          0.1319193443
                        ],
                        "iteration": 447,
                        "passed_time": 1.657335448,
                        "remaining_time": 0.1923692931,
                        "test": [
                          0.5813209563
                        ]
                      },
                      {
                        "learn": [
                          0.1316186322
                        ],
                        "iteration": 448,
                        "passed_time": 1.659059335,
                        "remaining_time": 0.1884454924,
                        "test": [
                          0.5815454632
                        ]
                      },
                      {
                        "learn": [
                          0.1311060058
                        ],
                        "iteration": 449,
                        "passed_time": 1.66204222,
                        "remaining_time": 0.1846713578,
                        "test": [
                          0.5823620125
                        ]
                      },
                      {
                        "learn": [
                          0.1307377021
                        ],
                        "iteration": 450,
                        "passed_time": 1.67093963,
                        "remaining_time": 0.1815433301,
                        "test": [
                          0.5826270753
                        ]
                      },
                      {
                        "learn": [
                          0.130414327
                        ],
                        "iteration": 451,
                        "passed_time": 1.676643677,
                        "remaining_time": 0.1780506559,
                        "test": [
                          0.5825361704
                        ]
                      },
                      {
                        "learn": [
                          0.1301271915
                        ],
                        "iteration": 452,
                        "passed_time": 1.679029613,
                        "remaining_time": 0.1742039554,
                        "test": [
                          0.5833589282
                        ]
                      },
                      {
                        "learn": [
                          0.1298584276
                        ],
                        "iteration": 453,
                        "passed_time": 1.680651881,
                        "remaining_time": 0.1702863139,
                        "test": [
                          0.5836749451
                        ]
                      },
                      {
                        "learn": [
                          0.1295908027
                        ],
                        "iteration": 454,
                        "passed_time": 1.685233126,
                        "remaining_time": 0.1666714081,
                        "test": [
                          0.584111817
                        ]
                      },
                      {
                        "learn": [
                          0.1290495661
                        ],
                        "iteration": 455,
                        "passed_time": 1.68928181,
                        "remaining_time": 0.1630008764,
                        "test": [
                          0.5842889171
                        ]
                      },
                      {
                        "learn": [
                          0.1285082102
                        ],
                        "iteration": 456,
                        "passed_time": 1.690882043,
                        "remaining_time": 0.1590983104,
                        "test": [
                          0.5852157097
                        ]
                      },
                      {
                        "learn": [
                          0.1280645265
                        ],
                        "iteration": 457,
                        "passed_time": 1.694249051,
                        "remaining_time": 0.1553678169,
                        "test": [
                          0.5858675945
                        ]
                      },
                      {
                        "learn": [
                          0.127890269
                        ],
                        "iteration": 458,
                        "passed_time": 1.69873165,
                        "remaining_time": 0.151738557,
                        "test": [
                          0.5853190301
                        ]
                      },
                      {
                        "learn": [
                          0.1275758743
                        ],
                        "iteration": 459,
                        "passed_time": 1.700328402,
                        "remaining_time": 0.1478546437,
                        "test": [
                          0.5858833405
                        ]
                      },
                      {
                        "learn": [
                          0.1268482341
                        ],
                        "iteration": 460,
                        "passed_time": 1.701863885,
                        "remaining_time": 0.1439754696,
                        "test": [
                          0.5862458537
                        ]
                      },
                      {
                        "learn": [
                          0.1266283062
                        ],
                        "iteration": 461,
                        "passed_time": 1.707179292,
                        "remaining_time": 0.1404173444,
                        "test": [
                          0.587245775
                        ]
                      },
                      {
                        "learn": [
                          0.1264749103
                        ],
                        "iteration": 462,
                        "passed_time": 1.709048245,
                        "remaining_time": 0.1365762096,
                        "test": [
                          0.5867244542
                        ]
                      },
                      {
                        "learn": [
                          0.126273844
                        ],
                        "iteration": 463,
                        "passed_time": 1.726285329,
                        "remaining_time": 0.1339359307,
                        "test": [
                          0.5869381477
                        ]
                      },
                      {
                        "learn": [
                          0.1258607043
                        ],
                        "iteration": 464,
                        "passed_time": 1.734696946,
                        "remaining_time": 0.1305685873,
                        "test": [
                          0.587252345
                        ]
                      },
                      {
                        "learn": [
                          0.1256899569
                        ],
                        "iteration": 465,
                        "passed_time": 1.737840597,
                        "remaining_time": 0.1267952367,
                        "test": [
                          0.5875857657
                        ]
                      },
                      {
                        "learn": [
                          0.12532213
                        ],
                        "iteration": 466,
                        "passed_time": 1.739129759,
                        "remaining_time": 0.1228935376,
                        "test": [
                          0.5875318057
                        ]
                      },
                      {
                        "learn": [
                          0.1250153383
                        ],
                        "iteration": 467,
                        "passed_time": 1.74029824,
                        "remaining_time": 0.1189947514,
                        "test": [
                          0.5880605463
                        ]
                      },
                      {
                        "learn": [
                          0.1249379582
                        ],
                        "iteration": 468,
                        "passed_time": 1.741858081,
                        "remaining_time": 0.1151334766,
                        "test": [
                          0.588273795
                        ]
                      },
                      {
                        "learn": [
                          0.1247297128
                        ],
                        "iteration": 469,
                        "passed_time": 1.743658932,
                        "remaining_time": 0.1112973786,
                        "test": [
                          0.5883828698
                        ]
                      },
                      {
                        "learn": [
                          0.1240693066
                        ],
                        "iteration": 470,
                        "passed_time": 1.752237161,
                        "remaining_time": 0.1078872137,
                        "test": [
                          0.5881135207
                        ]
                      },
                      {
                        "learn": [
                          0.1239216857
                        ],
                        "iteration": 471,
                        "passed_time": 1.753551128,
                        "remaining_time": 0.1040242195,
                        "test": [
                          0.5880845942
                        ]
                      },
                      {
                        "learn": [
                          0.1235646407
                        ],
                        "iteration": 472,
                        "passed_time": 1.754750529,
                        "remaining_time": 0.1001654636,
                        "test": [
                          0.5886586945
                        ]
                      },
                      {
                        "learn": [
                          0.1234285831
                        ],
                        "iteration": 473,
                        "passed_time": 1.75591542,
                        "remaining_time": 0.09631603572,
                        "test": [
                          0.589049762
                        ]
                      },
                      {
                        "learn": [
                          0.1228744719
                        ],
                        "iteration": 474,
                        "passed_time": 1.762643177,
                        "remaining_time": 0.0927706935,
                        "test": [
                          0.5895146247
                        ]
                      },
                      {
                        "learn": [
                          0.1227161884
                        ],
                        "iteration": 475,
                        "passed_time": 1.774464049,
                        "remaining_time": 0.0894687756,
                        "test": [
                          0.5896187841
                        ]
                      },
                      {
                        "learn": [
                          0.1226108074
                        ],
                        "iteration": 476,
                        "passed_time": 1.775779375,
                        "remaining_time": 0.08562458201,
                        "test": [
                          0.5895197635
                        ]
                      },
                      {
                        "learn": [
                          0.1220873197
                        ],
                        "iteration": 477,
                        "passed_time": 1.776943914,
                        "remaining_time": 0.08178402954,
                        "test": [
                          0.5903967277
                        ]
                      },
                      {
                        "learn": [
                          0.1219587061
                        ],
                        "iteration": 478,
                        "passed_time": 1.777951408,
                        "remaining_time": 0.07794776526,
                        "test": [
                          0.5908134094
                        ]
                      },
                      {
                        "learn": [
                          0.1218473911
                        ],
                        "iteration": 479,
                        "passed_time": 1.779619797,
                        "remaining_time": 0.07415082486,
                        "test": [
                          0.5905457614
                        ]
                      },
                      {
                        "learn": [
                          0.1213729382
                        ],
                        "iteration": 480,
                        "passed_time": 1.78327023,
                        "remaining_time": 0.07044102779,
                        "test": [
                          0.5910440985
                        ]
                      },
                      {
                        "learn": [
                          0.1206973394
                        ],
                        "iteration": 481,
                        "passed_time": 1.784458826,
                        "remaining_time": 0.06663954123,
                        "test": [
                          0.5910337468
                        ]
                      },
                      {
                        "learn": [
                          0.120576779
                        ],
                        "iteration": 482,
                        "passed_time": 1.785629378,
                        "remaining_time": 0.06284823899,
                        "test": [
                          0.5910780469
                        ]
                      },
                      {
                        "learn": [
                          0.1201823552
                        ],
                        "iteration": 483,
                        "passed_time": 1.786777399,
                        "remaining_time": 0.05906702145,
                        "test": [
                          0.591570542
                        ]
                      },
                      {
                        "learn": [
                          0.119644973
                        ],
                        "iteration": 484,
                        "passed_time": 1.788335421,
                        "remaining_time": 0.05530934291,
                        "test": [
                          0.5910745791
                        ]
                      },
                      {
                        "learn": [
                          0.119506518
                        ],
                        "iteration": 485,
                        "passed_time": 1.796761147,
                        "remaining_time": 0.05175855156,
                        "test": [
                          0.5912581204
                        ]
                      },
                      {
                        "learn": [
                          0.1190503438
                        ],
                        "iteration": 486,
                        "passed_time": 1.797967169,
                        "remaining_time": 0.04799501684,
                        "test": [
                          0.5921551108
                        ]
                      },
                      {
                        "learn": [
                          0.118910869
                        ],
                        "iteration": 487,
                        "passed_time": 1.799254174,
                        "remaining_time": 0.0442439551,
                        "test": [
                          0.5925514521
                        ]
                      },
                      {
                        "learn": [
                          0.1182848612
                        ],
                        "iteration": 488,
                        "passed_time": 1.800442431,
                        "remaining_time": 0.04050074998,
                        "test": [
                          0.5930799772
                        ]
                      },
                      {
                        "learn": [
                          0.1180788411
                        ],
                        "iteration": 489,
                        "passed_time": 1.802017084,
                        "remaining_time": 0.03677585885,
                        "test": [
                          0.5934061765
                        ]
                      },
                      {
                        "learn": [
                          0.1180361112
                        ],
                        "iteration": 490,
                        "passed_time": 1.810636769,
                        "remaining_time": 0.03318886135,
                        "test": [
                          0.5934902205
                        ]
                      },
                      {
                        "learn": [
                          0.1178031762
                        ],
                        "iteration": 491,
                        "passed_time": 1.814033563,
                        "remaining_time": 0.0294964807,
                        "test": [
                          0.5941080724
                        ]
                      },
                      {
                        "learn": [
                          0.1177872287
                        ],
                        "iteration": 492,
                        "passed_time": 1.81513058,
                        "remaining_time": 0.02577264516,
                        "test": [
                          0.5941080532
                        ]
                      },
                      {
                        "learn": [
                          0.1176726553
                        ],
                        "iteration": 493,
                        "passed_time": 1.81626599,
                        "remaining_time": 0.02205991081,
                        "test": [
                          0.5940606866
                        ]
                      },
                      {
                        "learn": [
                          0.1172136201
                        ],
                        "iteration": 494,
                        "passed_time": 1.817411158,
                        "remaining_time": 0.01835768847,
                        "test": [
                          0.59447353
                        ]
                      },
                      {
                        "learn": [
                          0.1170993116
                        ],
                        "iteration": 495,
                        "passed_time": 1.828892122,
                        "remaining_time": 0.01474913002,
                        "test": [
                          0.5942838381
                        ]
                      },
                      {
                        "learn": [
                          0.1164147589
                        ],
                        "iteration": 496,
                        "passed_time": 1.830622882,
                        "remaining_time": 0.01105003752,
                        "test": [
                          0.5938188697
                        ]
                      },
                      {
                        "learn": [
                          0.1163208087
                        ],
                        "iteration": 497,
                        "passed_time": 1.831798492,
                        "remaining_time": 0.007356620449,
                        "test": [
                          0.5940271733
                        ]
                      },
                      {
                        "learn": [
                          0.1158879598
                        ],
                        "iteration": 498,
                        "passed_time": 1.833001539,
                        "remaining_time": 0.003673349777,
                        "test": [
                          0.5949173435
                        ]
                      },
                      {
                        "learn": [
                          0.1155312591
                        ],
                        "iteration": 499,
                        "passed_time": 1.834160609,
                        "remaining_time": 0,
                        "test": [
                          0.5956347711
                        ]
                      }
                    ],
                    "meta": {
                      "test_sets": [
                        "test"
                      ],
                      "test_metrics": [
                        {
                          "best_value": "Min",
                          "name": "Logloss"
                        }
                      ],
                      "learn_metrics": [
                        {
                          "best_value": "Min",
                          "name": "Logloss"
                        }
                      ],
                      "launch_mode": "Train",
                      "parameters": "",
                      "iteration_count": 500,
                      "learn_sets": [
                        "learn"
                      ],
                      "name": "experiment"
                    }
                  }
                }
              }
            },
            "layout": "IPY_MODEL_54d48b5b0edd4cc8bbc3f86abca33f47"
          }
        }
      }
    }
  },
  "nbformat": 4,
  "nbformat_minor": 0
}