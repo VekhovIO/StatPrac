{
  "cells": [
    {
      "cell_type": "markdown",
      "metadata": {
        "id": "view-in-github",
        "colab_type": "text"
      },
      "source": [
        "<a href=\"https://colab.research.google.com/github/VekhovIO/StatPrac/blob/main/project3.ipynb\" target=\"_parent\"><img src=\"https://colab.research.google.com/assets/colab-badge.svg\" alt=\"Open In Colab\"/></a>"
      ]
    },
    {
      "cell_type": "code",
      "execution_count": 3,
      "metadata": {
        "colab": {
          "base_uri": "https://localhost:8080/"
        },
        "id": "wVWtQplhxG_T",
        "outputId": "164b9cff-5109-46a5-c4ea-d13fedb361e1"
      },
      "outputs": [
        {
          "output_type": "stream",
          "name": "stdout",
          "text": [
            "Mounted at /content/drive\n"
          ]
        }
      ],
      "source": [
        "from google.colab import drive\n",
        "drive.mount('/content/drive')"
      ]
    },
    {
      "cell_type": "code",
      "execution_count": 4,
      "metadata": {
        "colab": {
          "base_uri": "https://localhost:8080/",
          "height": 226
        },
        "id": "jl20ZRFVyuA_",
        "outputId": "ffd99de3-2c9f-4114-e872-60def71be227"
      },
      "outputs": [
        {
          "output_type": "execute_result",
          "data": {
            "text/plain": [
              "   Pregnancies  Glucose  BloodPressure  SkinThickness  Insulin   BMI  \\\n",
              "0            6      148             72             35        0  33.6   \n",
              "1            1       85             66             29        0  26.6   \n",
              "2            8      183             64              0        0  23.3   \n",
              "3            1       89             66             23       94  28.1   \n",
              "4            0      137             40             35      168  43.1   \n",
              "\n",
              "   DiabetesPedigreeFunction  Age  Outcome  \n",
              "0                     0.627   50        1  \n",
              "1                     0.351   31        0  \n",
              "2                     0.672   32        1  \n",
              "3                     0.167   21        0  \n",
              "4                     2.288   33        1  "
            ],
            "text/html": [
              "\n",
              "  <div id=\"df-98c446dd-1ab2-4f3e-81c4-2cf84a9077d1\" class=\"colab-df-container\">\n",
              "    <div>\n",
              "<style scoped>\n",
              "    .dataframe tbody tr th:only-of-type {\n",
              "        vertical-align: middle;\n",
              "    }\n",
              "\n",
              "    .dataframe tbody tr th {\n",
              "        vertical-align: top;\n",
              "    }\n",
              "\n",
              "    .dataframe thead th {\n",
              "        text-align: right;\n",
              "    }\n",
              "</style>\n",
              "<table border=\"1\" class=\"dataframe\">\n",
              "  <thead>\n",
              "    <tr style=\"text-align: right;\">\n",
              "      <th></th>\n",
              "      <th>Pregnancies</th>\n",
              "      <th>Glucose</th>\n",
              "      <th>BloodPressure</th>\n",
              "      <th>SkinThickness</th>\n",
              "      <th>Insulin</th>\n",
              "      <th>BMI</th>\n",
              "      <th>DiabetesPedigreeFunction</th>\n",
              "      <th>Age</th>\n",
              "      <th>Outcome</th>\n",
              "    </tr>\n",
              "  </thead>\n",
              "  <tbody>\n",
              "    <tr>\n",
              "      <th>0</th>\n",
              "      <td>6</td>\n",
              "      <td>148</td>\n",
              "      <td>72</td>\n",
              "      <td>35</td>\n",
              "      <td>0</td>\n",
              "      <td>33.6</td>\n",
              "      <td>0.627</td>\n",
              "      <td>50</td>\n",
              "      <td>1</td>\n",
              "    </tr>\n",
              "    <tr>\n",
              "      <th>1</th>\n",
              "      <td>1</td>\n",
              "      <td>85</td>\n",
              "      <td>66</td>\n",
              "      <td>29</td>\n",
              "      <td>0</td>\n",
              "      <td>26.6</td>\n",
              "      <td>0.351</td>\n",
              "      <td>31</td>\n",
              "      <td>0</td>\n",
              "    </tr>\n",
              "    <tr>\n",
              "      <th>2</th>\n",
              "      <td>8</td>\n",
              "      <td>183</td>\n",
              "      <td>64</td>\n",
              "      <td>0</td>\n",
              "      <td>0</td>\n",
              "      <td>23.3</td>\n",
              "      <td>0.672</td>\n",
              "      <td>32</td>\n",
              "      <td>1</td>\n",
              "    </tr>\n",
              "    <tr>\n",
              "      <th>3</th>\n",
              "      <td>1</td>\n",
              "      <td>89</td>\n",
              "      <td>66</td>\n",
              "      <td>23</td>\n",
              "      <td>94</td>\n",
              "      <td>28.1</td>\n",
              "      <td>0.167</td>\n",
              "      <td>21</td>\n",
              "      <td>0</td>\n",
              "    </tr>\n",
              "    <tr>\n",
              "      <th>4</th>\n",
              "      <td>0</td>\n",
              "      <td>137</td>\n",
              "      <td>40</td>\n",
              "      <td>35</td>\n",
              "      <td>168</td>\n",
              "      <td>43.1</td>\n",
              "      <td>2.288</td>\n",
              "      <td>33</td>\n",
              "      <td>1</td>\n",
              "    </tr>\n",
              "  </tbody>\n",
              "</table>\n",
              "</div>\n",
              "    <div class=\"colab-df-buttons\">\n",
              "\n",
              "  <div class=\"colab-df-container\">\n",
              "    <button class=\"colab-df-convert\" onclick=\"convertToInteractive('df-98c446dd-1ab2-4f3e-81c4-2cf84a9077d1')\"\n",
              "            title=\"Convert this dataframe to an interactive table.\"\n",
              "            style=\"display:none;\">\n",
              "\n",
              "  <svg xmlns=\"http://www.w3.org/2000/svg\" height=\"24px\" viewBox=\"0 -960 960 960\">\n",
              "    <path d=\"M120-120v-720h720v720H120Zm60-500h600v-160H180v160Zm220 220h160v-160H400v160Zm0 220h160v-160H400v160ZM180-400h160v-160H180v160Zm440 0h160v-160H620v160ZM180-180h160v-160H180v160Zm440 0h160v-160H620v160Z\"/>\n",
              "  </svg>\n",
              "    </button>\n",
              "\n",
              "  <style>\n",
              "    .colab-df-container {\n",
              "      display:flex;\n",
              "      gap: 12px;\n",
              "    }\n",
              "\n",
              "    .colab-df-convert {\n",
              "      background-color: #E8F0FE;\n",
              "      border: none;\n",
              "      border-radius: 50%;\n",
              "      cursor: pointer;\n",
              "      display: none;\n",
              "      fill: #1967D2;\n",
              "      height: 32px;\n",
              "      padding: 0 0 0 0;\n",
              "      width: 32px;\n",
              "    }\n",
              "\n",
              "    .colab-df-convert:hover {\n",
              "      background-color: #E2EBFA;\n",
              "      box-shadow: 0px 1px 2px rgba(60, 64, 67, 0.3), 0px 1px 3px 1px rgba(60, 64, 67, 0.15);\n",
              "      fill: #174EA6;\n",
              "    }\n",
              "\n",
              "    .colab-df-buttons div {\n",
              "      margin-bottom: 4px;\n",
              "    }\n",
              "\n",
              "    [theme=dark] .colab-df-convert {\n",
              "      background-color: #3B4455;\n",
              "      fill: #D2E3FC;\n",
              "    }\n",
              "\n",
              "    [theme=dark] .colab-df-convert:hover {\n",
              "      background-color: #434B5C;\n",
              "      box-shadow: 0px 1px 3px 1px rgba(0, 0, 0, 0.15);\n",
              "      filter: drop-shadow(0px 1px 2px rgba(0, 0, 0, 0.3));\n",
              "      fill: #FFFFFF;\n",
              "    }\n",
              "  </style>\n",
              "\n",
              "    <script>\n",
              "      const buttonEl =\n",
              "        document.querySelector('#df-98c446dd-1ab2-4f3e-81c4-2cf84a9077d1 button.colab-df-convert');\n",
              "      buttonEl.style.display =\n",
              "        google.colab.kernel.accessAllowed ? 'block' : 'none';\n",
              "\n",
              "      async function convertToInteractive(key) {\n",
              "        const element = document.querySelector('#df-98c446dd-1ab2-4f3e-81c4-2cf84a9077d1');\n",
              "        const dataTable =\n",
              "          await google.colab.kernel.invokeFunction('convertToInteractive',\n",
              "                                                    [key], {});\n",
              "        if (!dataTable) return;\n",
              "\n",
              "        const docLinkHtml = 'Like what you see? Visit the ' +\n",
              "          '<a target=\"_blank\" href=https://colab.research.google.com/notebooks/data_table.ipynb>data table notebook</a>'\n",
              "          + ' to learn more about interactive tables.';\n",
              "        element.innerHTML = '';\n",
              "        dataTable['output_type'] = 'display_data';\n",
              "        await google.colab.output.renderOutput(dataTable, element);\n",
              "        const docLink = document.createElement('div');\n",
              "        docLink.innerHTML = docLinkHtml;\n",
              "        element.appendChild(docLink);\n",
              "      }\n",
              "    </script>\n",
              "  </div>\n",
              "\n",
              "\n",
              "<div id=\"df-318c9814-c18f-447c-a6de-91bbee6687ce\">\n",
              "  <button class=\"colab-df-quickchart\" onclick=\"quickchart('df-318c9814-c18f-447c-a6de-91bbee6687ce')\"\n",
              "            title=\"Suggest charts\"\n",
              "            style=\"display:none;\">\n",
              "\n",
              "<svg xmlns=\"http://www.w3.org/2000/svg\" height=\"24px\"viewBox=\"0 0 24 24\"\n",
              "     width=\"24px\">\n",
              "    <g>\n",
              "        <path d=\"M19 3H5c-1.1 0-2 .9-2 2v14c0 1.1.9 2 2 2h14c1.1 0 2-.9 2-2V5c0-1.1-.9-2-2-2zM9 17H7v-7h2v7zm4 0h-2V7h2v10zm4 0h-2v-4h2v4z\"/>\n",
              "    </g>\n",
              "</svg>\n",
              "  </button>\n",
              "\n",
              "<style>\n",
              "  .colab-df-quickchart {\n",
              "      --bg-color: #E8F0FE;\n",
              "      --fill-color: #1967D2;\n",
              "      --hover-bg-color: #E2EBFA;\n",
              "      --hover-fill-color: #174EA6;\n",
              "      --disabled-fill-color: #AAA;\n",
              "      --disabled-bg-color: #DDD;\n",
              "  }\n",
              "\n",
              "  [theme=dark] .colab-df-quickchart {\n",
              "      --bg-color: #3B4455;\n",
              "      --fill-color: #D2E3FC;\n",
              "      --hover-bg-color: #434B5C;\n",
              "      --hover-fill-color: #FFFFFF;\n",
              "      --disabled-bg-color: #3B4455;\n",
              "      --disabled-fill-color: #666;\n",
              "  }\n",
              "\n",
              "  .colab-df-quickchart {\n",
              "    background-color: var(--bg-color);\n",
              "    border: none;\n",
              "    border-radius: 50%;\n",
              "    cursor: pointer;\n",
              "    display: none;\n",
              "    fill: var(--fill-color);\n",
              "    height: 32px;\n",
              "    padding: 0;\n",
              "    width: 32px;\n",
              "  }\n",
              "\n",
              "  .colab-df-quickchart:hover {\n",
              "    background-color: var(--hover-bg-color);\n",
              "    box-shadow: 0 1px 2px rgba(60, 64, 67, 0.3), 0 1px 3px 1px rgba(60, 64, 67, 0.15);\n",
              "    fill: var(--button-hover-fill-color);\n",
              "  }\n",
              "\n",
              "  .colab-df-quickchart-complete:disabled,\n",
              "  .colab-df-quickchart-complete:disabled:hover {\n",
              "    background-color: var(--disabled-bg-color);\n",
              "    fill: var(--disabled-fill-color);\n",
              "    box-shadow: none;\n",
              "  }\n",
              "\n",
              "  .colab-df-spinner {\n",
              "    border: 2px solid var(--fill-color);\n",
              "    border-color: transparent;\n",
              "    border-bottom-color: var(--fill-color);\n",
              "    animation:\n",
              "      spin 1s steps(1) infinite;\n",
              "  }\n",
              "\n",
              "  @keyframes spin {\n",
              "    0% {\n",
              "      border-color: transparent;\n",
              "      border-bottom-color: var(--fill-color);\n",
              "      border-left-color: var(--fill-color);\n",
              "    }\n",
              "    20% {\n",
              "      border-color: transparent;\n",
              "      border-left-color: var(--fill-color);\n",
              "      border-top-color: var(--fill-color);\n",
              "    }\n",
              "    30% {\n",
              "      border-color: transparent;\n",
              "      border-left-color: var(--fill-color);\n",
              "      border-top-color: var(--fill-color);\n",
              "      border-right-color: var(--fill-color);\n",
              "    }\n",
              "    40% {\n",
              "      border-color: transparent;\n",
              "      border-right-color: var(--fill-color);\n",
              "      border-top-color: var(--fill-color);\n",
              "    }\n",
              "    60% {\n",
              "      border-color: transparent;\n",
              "      border-right-color: var(--fill-color);\n",
              "    }\n",
              "    80% {\n",
              "      border-color: transparent;\n",
              "      border-right-color: var(--fill-color);\n",
              "      border-bottom-color: var(--fill-color);\n",
              "    }\n",
              "    90% {\n",
              "      border-color: transparent;\n",
              "      border-bottom-color: var(--fill-color);\n",
              "    }\n",
              "  }\n",
              "</style>\n",
              "\n",
              "  <script>\n",
              "    async function quickchart(key) {\n",
              "      const quickchartButtonEl =\n",
              "        document.querySelector('#' + key + ' button');\n",
              "      quickchartButtonEl.disabled = true;  // To prevent multiple clicks.\n",
              "      quickchartButtonEl.classList.add('colab-df-spinner');\n",
              "      try {\n",
              "        const charts = await google.colab.kernel.invokeFunction(\n",
              "            'suggestCharts', [key], {});\n",
              "      } catch (error) {\n",
              "        console.error('Error during call to suggestCharts:', error);\n",
              "      }\n",
              "      quickchartButtonEl.classList.remove('colab-df-spinner');\n",
              "      quickchartButtonEl.classList.add('colab-df-quickchart-complete');\n",
              "    }\n",
              "    (() => {\n",
              "      let quickchartButtonEl =\n",
              "        document.querySelector('#df-318c9814-c18f-447c-a6de-91bbee6687ce button');\n",
              "      quickchartButtonEl.style.display =\n",
              "        google.colab.kernel.accessAllowed ? 'block' : 'none';\n",
              "    })();\n",
              "  </script>\n",
              "</div>\n",
              "    </div>\n",
              "  </div>\n"
            ],
            "application/vnd.google.colaboratory.intrinsic+json": {
              "type": "dataframe",
              "variable_name": "df",
              "summary": "{\n  \"name\": \"df\",\n  \"rows\": 768,\n  \"fields\": [\n    {\n      \"column\": \"Pregnancies\",\n      \"properties\": {\n        \"dtype\": \"number\",\n        \"std\": 3,\n        \"min\": 0,\n        \"max\": 17,\n        \"num_unique_values\": 17,\n        \"samples\": [\n          6,\n          1,\n          3\n        ],\n        \"semantic_type\": \"\",\n        \"description\": \"\"\n      }\n    },\n    {\n      \"column\": \"Glucose\",\n      \"properties\": {\n        \"dtype\": \"number\",\n        \"std\": 31,\n        \"min\": 0,\n        \"max\": 199,\n        \"num_unique_values\": 136,\n        \"samples\": [\n          151,\n          101,\n          112\n        ],\n        \"semantic_type\": \"\",\n        \"description\": \"\"\n      }\n    },\n    {\n      \"column\": \"BloodPressure\",\n      \"properties\": {\n        \"dtype\": \"number\",\n        \"std\": 19,\n        \"min\": 0,\n        \"max\": 122,\n        \"num_unique_values\": 47,\n        \"samples\": [\n          86,\n          46,\n          85\n        ],\n        \"semantic_type\": \"\",\n        \"description\": \"\"\n      }\n    },\n    {\n      \"column\": \"SkinThickness\",\n      \"properties\": {\n        \"dtype\": \"number\",\n        \"std\": 15,\n        \"min\": 0,\n        \"max\": 99,\n        \"num_unique_values\": 51,\n        \"samples\": [\n          7,\n          12,\n          48\n        ],\n        \"semantic_type\": \"\",\n        \"description\": \"\"\n      }\n    },\n    {\n      \"column\": \"Insulin\",\n      \"properties\": {\n        \"dtype\": \"number\",\n        \"std\": 115,\n        \"min\": 0,\n        \"max\": 846,\n        \"num_unique_values\": 186,\n        \"samples\": [\n          52,\n          41,\n          183\n        ],\n        \"semantic_type\": \"\",\n        \"description\": \"\"\n      }\n    },\n    {\n      \"column\": \"BMI\",\n      \"properties\": {\n        \"dtype\": \"number\",\n        \"std\": 7.884160320375446,\n        \"min\": 0.0,\n        \"max\": 67.1,\n        \"num_unique_values\": 248,\n        \"samples\": [\n          19.9,\n          31.0,\n          38.1\n        ],\n        \"semantic_type\": \"\",\n        \"description\": \"\"\n      }\n    },\n    {\n      \"column\": \"DiabetesPedigreeFunction\",\n      \"properties\": {\n        \"dtype\": \"number\",\n        \"std\": 0.3313285950127749,\n        \"min\": 0.078,\n        \"max\": 2.42,\n        \"num_unique_values\": 517,\n        \"samples\": [\n          1.731,\n          0.426,\n          0.138\n        ],\n        \"semantic_type\": \"\",\n        \"description\": \"\"\n      }\n    },\n    {\n      \"column\": \"Age\",\n      \"properties\": {\n        \"dtype\": \"number\",\n        \"std\": 11,\n        \"min\": 21,\n        \"max\": 81,\n        \"num_unique_values\": 52,\n        \"samples\": [\n          60,\n          47,\n          72\n        ],\n        \"semantic_type\": \"\",\n        \"description\": \"\"\n      }\n    },\n    {\n      \"column\": \"Outcome\",\n      \"properties\": {\n        \"dtype\": \"number\",\n        \"std\": 0,\n        \"min\": 0,\n        \"max\": 1,\n        \"num_unique_values\": 2,\n        \"samples\": [\n          0,\n          1\n        ],\n        \"semantic_type\": \"\",\n        \"description\": \"\"\n      }\n    }\n  ]\n}"
            }
          },
          "metadata": {},
          "execution_count": 4
        }
      ],
      "source": [
        "import pandas as pd\n",
        "\n",
        "df = pd.read_csv('/content/drive/MyDrive/diabetes.csv') #подключили датасет через гугл диск\n",
        "##df = pd.read_csv('datasets/diabetes.csv', low_memory=False)\n",
        "df.head()"
      ]
    },
    {
      "cell_type": "markdown",
      "source": [
        "Датасет содержит информацию о пациентах, включая различные медицинские показатели, такие как месяц беременности (Pregnancies), уровень глюкозы в крови (Glucose), артериальное давление (BloodPressure), толщина кожи (SkinThickness), уровень инсулина в крови (Insulin), индекс массы тела (BMI), семейная предрасположенность к диабету (DiabetesPedigreeFunction), возраст (Age) и наличие диабета (Outcome)."
      ],
      "metadata": {
        "id": "LI0cniK_lXyw"
      }
    },
    {
      "cell_type": "code",
      "execution_count": 5,
      "metadata": {
        "colab": {
          "base_uri": "https://localhost:8080/",
          "height": 163
        },
        "id": "CngCtI0HzJPJ",
        "outputId": "029898bf-d397-40ca-a42a-55f1ef5a3adb"
      },
      "outputs": [
        {
          "output_type": "execute_result",
          "data": {
            "text/plain": [
              "         Pregnancies     Glucose  BloodPressure  SkinThickness     Insulin  \\\n",
              "Outcome                                                                      \n",
              "0           3.298000  109.980000      68.184000      19.664000   68.792000   \n",
              "1           4.865672  141.257463      70.824627      22.164179  100.335821   \n",
              "\n",
              "               BMI  DiabetesPedigreeFunction        Age  \n",
              "Outcome                                                  \n",
              "0        30.304200                  0.429734  31.190000  \n",
              "1        35.142537                  0.550500  37.067164  "
            ],
            "text/html": [
              "\n",
              "  <div id=\"df-5a832b8a-a776-4e42-aea7-cd679a215948\" class=\"colab-df-container\">\n",
              "    <div>\n",
              "<style scoped>\n",
              "    .dataframe tbody tr th:only-of-type {\n",
              "        vertical-align: middle;\n",
              "    }\n",
              "\n",
              "    .dataframe tbody tr th {\n",
              "        vertical-align: top;\n",
              "    }\n",
              "\n",
              "    .dataframe thead th {\n",
              "        text-align: right;\n",
              "    }\n",
              "</style>\n",
              "<table border=\"1\" class=\"dataframe\">\n",
              "  <thead>\n",
              "    <tr style=\"text-align: right;\">\n",
              "      <th></th>\n",
              "      <th>Pregnancies</th>\n",
              "      <th>Glucose</th>\n",
              "      <th>BloodPressure</th>\n",
              "      <th>SkinThickness</th>\n",
              "      <th>Insulin</th>\n",
              "      <th>BMI</th>\n",
              "      <th>DiabetesPedigreeFunction</th>\n",
              "      <th>Age</th>\n",
              "    </tr>\n",
              "    <tr>\n",
              "      <th>Outcome</th>\n",
              "      <th></th>\n",
              "      <th></th>\n",
              "      <th></th>\n",
              "      <th></th>\n",
              "      <th></th>\n",
              "      <th></th>\n",
              "      <th></th>\n",
              "      <th></th>\n",
              "    </tr>\n",
              "  </thead>\n",
              "  <tbody>\n",
              "    <tr>\n",
              "      <th>0</th>\n",
              "      <td>3.298000</td>\n",
              "      <td>109.980000</td>\n",
              "      <td>68.184000</td>\n",
              "      <td>19.664000</td>\n",
              "      <td>68.792000</td>\n",
              "      <td>30.304200</td>\n",
              "      <td>0.429734</td>\n",
              "      <td>31.190000</td>\n",
              "    </tr>\n",
              "    <tr>\n",
              "      <th>1</th>\n",
              "      <td>4.865672</td>\n",
              "      <td>141.257463</td>\n",
              "      <td>70.824627</td>\n",
              "      <td>22.164179</td>\n",
              "      <td>100.335821</td>\n",
              "      <td>35.142537</td>\n",
              "      <td>0.550500</td>\n",
              "      <td>37.067164</td>\n",
              "    </tr>\n",
              "  </tbody>\n",
              "</table>\n",
              "</div>\n",
              "    <div class=\"colab-df-buttons\">\n",
              "\n",
              "  <div class=\"colab-df-container\">\n",
              "    <button class=\"colab-df-convert\" onclick=\"convertToInteractive('df-5a832b8a-a776-4e42-aea7-cd679a215948')\"\n",
              "            title=\"Convert this dataframe to an interactive table.\"\n",
              "            style=\"display:none;\">\n",
              "\n",
              "  <svg xmlns=\"http://www.w3.org/2000/svg\" height=\"24px\" viewBox=\"0 -960 960 960\">\n",
              "    <path d=\"M120-120v-720h720v720H120Zm60-500h600v-160H180v160Zm220 220h160v-160H400v160Zm0 220h160v-160H400v160ZM180-400h160v-160H180v160Zm440 0h160v-160H620v160ZM180-180h160v-160H180v160Zm440 0h160v-160H620v160Z\"/>\n",
              "  </svg>\n",
              "    </button>\n",
              "\n",
              "  <style>\n",
              "    .colab-df-container {\n",
              "      display:flex;\n",
              "      gap: 12px;\n",
              "    }\n",
              "\n",
              "    .colab-df-convert {\n",
              "      background-color: #E8F0FE;\n",
              "      border: none;\n",
              "      border-radius: 50%;\n",
              "      cursor: pointer;\n",
              "      display: none;\n",
              "      fill: #1967D2;\n",
              "      height: 32px;\n",
              "      padding: 0 0 0 0;\n",
              "      width: 32px;\n",
              "    }\n",
              "\n",
              "    .colab-df-convert:hover {\n",
              "      background-color: #E2EBFA;\n",
              "      box-shadow: 0px 1px 2px rgba(60, 64, 67, 0.3), 0px 1px 3px 1px rgba(60, 64, 67, 0.15);\n",
              "      fill: #174EA6;\n",
              "    }\n",
              "\n",
              "    .colab-df-buttons div {\n",
              "      margin-bottom: 4px;\n",
              "    }\n",
              "\n",
              "    [theme=dark] .colab-df-convert {\n",
              "      background-color: #3B4455;\n",
              "      fill: #D2E3FC;\n",
              "    }\n",
              "\n",
              "    [theme=dark] .colab-df-convert:hover {\n",
              "      background-color: #434B5C;\n",
              "      box-shadow: 0px 1px 3px 1px rgba(0, 0, 0, 0.15);\n",
              "      filter: drop-shadow(0px 1px 2px rgba(0, 0, 0, 0.3));\n",
              "      fill: #FFFFFF;\n",
              "    }\n",
              "  </style>\n",
              "\n",
              "    <script>\n",
              "      const buttonEl =\n",
              "        document.querySelector('#df-5a832b8a-a776-4e42-aea7-cd679a215948 button.colab-df-convert');\n",
              "      buttonEl.style.display =\n",
              "        google.colab.kernel.accessAllowed ? 'block' : 'none';\n",
              "\n",
              "      async function convertToInteractive(key) {\n",
              "        const element = document.querySelector('#df-5a832b8a-a776-4e42-aea7-cd679a215948');\n",
              "        const dataTable =\n",
              "          await google.colab.kernel.invokeFunction('convertToInteractive',\n",
              "                                                    [key], {});\n",
              "        if (!dataTable) return;\n",
              "\n",
              "        const docLinkHtml = 'Like what you see? Visit the ' +\n",
              "          '<a target=\"_blank\" href=https://colab.research.google.com/notebooks/data_table.ipynb>data table notebook</a>'\n",
              "          + ' to learn more about interactive tables.';\n",
              "        element.innerHTML = '';\n",
              "        dataTable['output_type'] = 'display_data';\n",
              "        await google.colab.output.renderOutput(dataTable, element);\n",
              "        const docLink = document.createElement('div');\n",
              "        docLink.innerHTML = docLinkHtml;\n",
              "        element.appendChild(docLink);\n",
              "      }\n",
              "    </script>\n",
              "  </div>\n",
              "\n",
              "\n",
              "<div id=\"df-883337bf-5ed7-4683-b06f-14428507e342\">\n",
              "  <button class=\"colab-df-quickchart\" onclick=\"quickchart('df-883337bf-5ed7-4683-b06f-14428507e342')\"\n",
              "            title=\"Suggest charts\"\n",
              "            style=\"display:none;\">\n",
              "\n",
              "<svg xmlns=\"http://www.w3.org/2000/svg\" height=\"24px\"viewBox=\"0 0 24 24\"\n",
              "     width=\"24px\">\n",
              "    <g>\n",
              "        <path d=\"M19 3H5c-1.1 0-2 .9-2 2v14c0 1.1.9 2 2 2h14c1.1 0 2-.9 2-2V5c0-1.1-.9-2-2-2zM9 17H7v-7h2v7zm4 0h-2V7h2v10zm4 0h-2v-4h2v4z\"/>\n",
              "    </g>\n",
              "</svg>\n",
              "  </button>\n",
              "\n",
              "<style>\n",
              "  .colab-df-quickchart {\n",
              "      --bg-color: #E8F0FE;\n",
              "      --fill-color: #1967D2;\n",
              "      --hover-bg-color: #E2EBFA;\n",
              "      --hover-fill-color: #174EA6;\n",
              "      --disabled-fill-color: #AAA;\n",
              "      --disabled-bg-color: #DDD;\n",
              "  }\n",
              "\n",
              "  [theme=dark] .colab-df-quickchart {\n",
              "      --bg-color: #3B4455;\n",
              "      --fill-color: #D2E3FC;\n",
              "      --hover-bg-color: #434B5C;\n",
              "      --hover-fill-color: #FFFFFF;\n",
              "      --disabled-bg-color: #3B4455;\n",
              "      --disabled-fill-color: #666;\n",
              "  }\n",
              "\n",
              "  .colab-df-quickchart {\n",
              "    background-color: var(--bg-color);\n",
              "    border: none;\n",
              "    border-radius: 50%;\n",
              "    cursor: pointer;\n",
              "    display: none;\n",
              "    fill: var(--fill-color);\n",
              "    height: 32px;\n",
              "    padding: 0;\n",
              "    width: 32px;\n",
              "  }\n",
              "\n",
              "  .colab-df-quickchart:hover {\n",
              "    background-color: var(--hover-bg-color);\n",
              "    box-shadow: 0 1px 2px rgba(60, 64, 67, 0.3), 0 1px 3px 1px rgba(60, 64, 67, 0.15);\n",
              "    fill: var(--button-hover-fill-color);\n",
              "  }\n",
              "\n",
              "  .colab-df-quickchart-complete:disabled,\n",
              "  .colab-df-quickchart-complete:disabled:hover {\n",
              "    background-color: var(--disabled-bg-color);\n",
              "    fill: var(--disabled-fill-color);\n",
              "    box-shadow: none;\n",
              "  }\n",
              "\n",
              "  .colab-df-spinner {\n",
              "    border: 2px solid var(--fill-color);\n",
              "    border-color: transparent;\n",
              "    border-bottom-color: var(--fill-color);\n",
              "    animation:\n",
              "      spin 1s steps(1) infinite;\n",
              "  }\n",
              "\n",
              "  @keyframes spin {\n",
              "    0% {\n",
              "      border-color: transparent;\n",
              "      border-bottom-color: var(--fill-color);\n",
              "      border-left-color: var(--fill-color);\n",
              "    }\n",
              "    20% {\n",
              "      border-color: transparent;\n",
              "      border-left-color: var(--fill-color);\n",
              "      border-top-color: var(--fill-color);\n",
              "    }\n",
              "    30% {\n",
              "      border-color: transparent;\n",
              "      border-left-color: var(--fill-color);\n",
              "      border-top-color: var(--fill-color);\n",
              "      border-right-color: var(--fill-color);\n",
              "    }\n",
              "    40% {\n",
              "      border-color: transparent;\n",
              "      border-right-color: var(--fill-color);\n",
              "      border-top-color: var(--fill-color);\n",
              "    }\n",
              "    60% {\n",
              "      border-color: transparent;\n",
              "      border-right-color: var(--fill-color);\n",
              "    }\n",
              "    80% {\n",
              "      border-color: transparent;\n",
              "      border-right-color: var(--fill-color);\n",
              "      border-bottom-color: var(--fill-color);\n",
              "    }\n",
              "    90% {\n",
              "      border-color: transparent;\n",
              "      border-bottom-color: var(--fill-color);\n",
              "    }\n",
              "  }\n",
              "</style>\n",
              "\n",
              "  <script>\n",
              "    async function quickchart(key) {\n",
              "      const quickchartButtonEl =\n",
              "        document.querySelector('#' + key + ' button');\n",
              "      quickchartButtonEl.disabled = true;  // To prevent multiple clicks.\n",
              "      quickchartButtonEl.classList.add('colab-df-spinner');\n",
              "      try {\n",
              "        const charts = await google.colab.kernel.invokeFunction(\n",
              "            'suggestCharts', [key], {});\n",
              "      } catch (error) {\n",
              "        console.error('Error during call to suggestCharts:', error);\n",
              "      }\n",
              "      quickchartButtonEl.classList.remove('colab-df-spinner');\n",
              "      quickchartButtonEl.classList.add('colab-df-quickchart-complete');\n",
              "    }\n",
              "    (() => {\n",
              "      let quickchartButtonEl =\n",
              "        document.querySelector('#df-883337bf-5ed7-4683-b06f-14428507e342 button');\n",
              "      quickchartButtonEl.style.display =\n",
              "        google.colab.kernel.accessAllowed ? 'block' : 'none';\n",
              "    })();\n",
              "  </script>\n",
              "</div>\n",
              "    </div>\n",
              "  </div>\n"
            ],
            "application/vnd.google.colaboratory.intrinsic+json": {
              "type": "dataframe",
              "summary": "{\n  \"name\": \"teachdata\",\n  \"rows\": 2,\n  \"fields\": [\n    {\n      \"column\": \"Outcome\",\n      \"properties\": {\n        \"dtype\": \"number\",\n        \"std\": 0,\n        \"min\": 0,\n        \"max\": 1,\n        \"num_unique_values\": 2,\n        \"samples\": [\n          1,\n          0\n        ],\n        \"semantic_type\": \"\",\n        \"description\": \"\"\n      }\n    },\n    {\n      \"column\": \"Pregnancies\",\n      \"properties\": {\n        \"dtype\": \"number\",\n        \"std\": 1.108511248584296,\n        \"min\": 3.298,\n        \"max\": 4.865671641791045,\n        \"num_unique_values\": 2,\n        \"samples\": [\n          4.865671641791045,\n          3.298\n        ],\n        \"semantic_type\": \"\",\n        \"description\": \"\"\n      }\n    },\n    {\n      \"column\": \"Glucose\",\n      \"properties\": {\n        \"dtype\": \"number\",\n        \"std\": 22.116505963980842,\n        \"min\": 109.98,\n        \"max\": 141.25746268656715,\n        \"num_unique_values\": 2,\n        \"samples\": [\n          141.25746268656715,\n          109.98\n        ],\n        \"semantic_type\": \"\",\n        \"description\": \"\"\n      }\n    },\n    {\n      \"column\": \"BloodPressure\",\n      \"properties\": {\n        \"dtype\": \"number\",\n        \"std\": 1.8672051632998017,\n        \"min\": 68.184,\n        \"max\": 70.82462686567165,\n        \"num_unique_values\": 2,\n        \"samples\": [\n          70.82462686567165,\n          68.184\n        ],\n        \"semantic_type\": \"\",\n        \"description\": \"\"\n      }\n    },\n    {\n      \"column\": \"SkinThickness\",\n      \"properties\": {\n        \"dtype\": \"number\",\n        \"std\": 1.7678935989570275,\n        \"min\": 19.664,\n        \"max\": 22.16417910447761,\n        \"num_unique_values\": 2,\n        \"samples\": [\n          22.16417910447761,\n          19.664\n        ],\n        \"semantic_type\": \"\",\n        \"description\": \"\"\n      }\n    },\n    {\n      \"column\": \"Insulin\",\n      \"properties\": {\n        \"dtype\": \"number\",\n        \"std\": 22.304849659757796,\n        \"min\": 68.792,\n        \"max\": 100.33582089552239,\n        \"num_unique_values\": 2,\n        \"samples\": [\n          100.33582089552239,\n          68.792\n        ],\n        \"semantic_type\": \"\",\n        \"description\": \"\"\n      }\n    },\n    {\n      \"column\": \"BMI\",\n      \"properties\": {\n        \"dtype\": \"number\",\n        \"std\": 3.4212211239962618,\n        \"min\": 30.3042,\n        \"max\": 35.14253731343284,\n        \"num_unique_values\": 2,\n        \"samples\": [\n          35.14253731343284,\n          30.3042\n        ],\n        \"semantic_type\": \"\",\n        \"description\": \"\"\n      }\n    },\n    {\n      \"column\": \"DiabetesPedigreeFunction\",\n      \"properties\": {\n        \"dtype\": \"number\",\n        \"std\": 0.08539445753677459,\n        \"min\": 0.429734,\n        \"max\": 0.5505,\n        \"num_unique_values\": 2,\n        \"samples\": [\n          0.5505,\n          0.429734\n        ],\n        \"semantic_type\": \"\",\n        \"description\": \"\"\n      }\n    },\n    {\n      \"column\": \"Age\",\n      \"properties\": {\n        \"dtype\": \"number\",\n        \"std\": 4.155782645191446,\n        \"min\": 31.19,\n        \"max\": 37.06716417910448,\n        \"num_unique_values\": 2,\n        \"samples\": [\n          37.06716417910448,\n          31.19\n        ],\n        \"semantic_type\": \"\",\n        \"description\": \"\"\n      }\n    }\n  ]\n}"
            }
          },
          "metadata": {},
          "execution_count": 5
        }
      ],
      "source": [
        "import random\n",
        "import matplotlib.pyplot as plt\n",
        "import scipy.stats as stats\n",
        "import numpy as np\n",
        "import seaborn as sns\n",
        "\n",
        "data = df.loc[~df[['Pregnancies', 'Glucose', 'BloodPressure', 'SkinThickness', 'Insulin',\n",
        "       'BMI', 'DiabetesPedigreeFunction', 'Age']].isna().any(axis=1)]\n",
        "\n",
        "teachdata = df.loc[~df[['Pregnancies', 'Glucose', 'BloodPressure', 'SkinThickness', 'Insulin',\n",
        "       'BMI', 'DiabetesPedigreeFunction', 'Age', 'Outcome']].isna().any(axis=1)]\n",
        "\n",
        "teachdata.groupby('Outcome').mean()"
      ]
    },
    {
      "cell_type": "markdown",
      "metadata": {
        "id": "xDXtwr-W1z22"
      },
      "source": [
        "##Первичные наблюдения из средних значений:\n",
        "1)Уровень глюкозы в крови диабетиков сильно выше, чем у здоровых людей\n",
        "\n",
        "2)Беременность довольно сильно повышает риск появления диабета\n",
        "\n",
        "3)С возрастом вероятность заболеть диабетом растет\n",
        "\n",
        "4)Чем больше вес человека, тем больше риск заболеть диабетом\n",
        "\n",
        "5)Так называемая DPF, отвечающая за генетическую предрасположенность способна предсказать риск заболеть диабетом, но не является точным индикатором"
      ]
    },
    {
      "cell_type": "code",
      "execution_count": 6,
      "metadata": {
        "colab": {
          "base_uri": "https://localhost:8080/",
          "height": 556
        },
        "id": "Zdy4g9zr0VnO",
        "outputId": "73e77f7c-f36f-489c-942a-a5ee0e6094cd"
      },
      "outputs": [
        {
          "output_type": "stream",
          "name": "stderr",
          "text": [
            "<ipython-input-6-b1fc29b3b2df>:2: FutureWarning: \n",
            "\n",
            "Passing `palette` without assigning `hue` is deprecated and will be removed in v0.14.0. Assign the `x` variable to `hue` and set `legend=False` for the same effect.\n",
            "\n",
            "  sns.countplot(x='Outcome', data=teachdata, palette = 'hls')\n"
          ]
        },
        {
          "output_type": "display_data",
          "data": {
            "text/plain": [
              "<Figure size 640x480 with 1 Axes>"
            ],
            "image/png": "[encoded data removed]"
          },
          "metadata": {}
        }
      ],
      "source": [
        "outc = teachdata['Outcome'].value_counts()\n",
        "sns.countplot(x='Outcome', data=teachdata, palette = 'hls')\n",
        "plt.show()"
      ]
    },
    {
      "cell_type": "markdown",
      "metadata": {
        "id": "94OQbS0H1z25"
      },
      "source": [
        "Классы здоровых и болеющих диабетом людей отличаются в 2 раза, что не критично.\n",
        "Можно считать классы сбалансированными(потом проверим это ещё раз и подтвердим)."
      ]
    },
    {
      "cell_type": "code",
      "execution_count": 18,
      "metadata": {
        "colab": {
          "base_uri": "https://localhost:8080/",
          "height": 902
        },
        "id": "lHfeYr2s1z26",
        "outputId": "ea9d75a9-7292-45d8-d88d-b5dc7963a03b"
      },
      "outputs": [
        {
          "output_type": "execute_result",
          "data": {
            "text/plain": [
              "<Axes: ylabel='Density'>"
            ]
          },
          "metadata": {},
          "execution_count": 18
        },
        {
          "output_type": "display_data",
          "data": {
            "text/plain": [
              "<Figure size 640x480 with 1 Axes>"
            ],
            "image/png": "[encoded data removed]"
          },
          "metadata": {}
        },
        {
          "output_type": "display_data",
          "data": {
            "text/plain": [
              "<Figure size 640x480 with 1 Axes>"
            ],
            "image/png": "[encoded data removed]"
          },
          "metadata": {}
        }
      ],
      "source": [
        "outcome_0_data = teachdata[teachdata['Outcome'] == 1].copy()\n",
        "\n",
        "teachdata_1 = pd.concat([teachdata, outcome_0_data], ignore_index=True)\n",
        "\n",
        "pd.crosstab(teachdata_1.loc[teachdata_1.Glucose > 0].Glucose,teachdata_1.Outcome).plot(title=\"Glucose plots\")\n",
        "pd.crosstab(teachdata_1.loc[teachdata_1.Glucose > 0].Glucose,teachdata_1.Outcome).plot.density()"
      ]
    },
    {
      "cell_type": "markdown",
      "source": [
        "Первый график, показывает количество пациентов с диабетом и без диабета в зависимости от уровня глюкозы в крови.\n",
        "\n",
        "Второй график показывает плотность распределения уровня глюкозы в крови для пациентов с диабетом и без него."
      ],
      "metadata": {
        "id": "AgW0qkEImd-c"
      }
    },
    {
      "cell_type": "code",
      "execution_count": 19,
      "metadata": {
        "colab": {
          "base_uri": "https://localhost:8080/",
          "height": 902
        },
        "id": "bbtp5jfT1z27",
        "outputId": "d2d4ea5b-0b90-4562-e9e5-5564dfa8f6ff"
      },
      "outputs": [
        {
          "output_type": "execute_result",
          "data": {
            "text/plain": [
              "<Axes: ylabel='Density'>"
            ]
          },
          "metadata": {},
          "execution_count": 19
        },
        {
          "output_type": "display_data",
          "data": {
            "text/plain": [
              "<Figure size 640x480 with 1 Axes>"
            ],
            "image/png": "[encoded data removed]"
          },
          "metadata": {}
        },
        {
          "output_type": "display_data",
          "data": {
            "text/plain": [
              "<Figure size 640x480 with 1 Axes>"
            ],
            "image/png": "[encoded data removed]"
          },
          "metadata": {}
        }
      ],
      "source": [
        "dat = teachdata_1.loc[teachdata_1.Insulin > 0]\n",
        "pd.crosstab(dat.Insulin,dat.Outcome).plot(title=\"Insulin plots\")\n",
        "pd.crosstab(dat.Insulin,dat.Outcome).plot.density()"
      ]
    },
    {
      "cell_type": "markdown",
      "source": [
        "Первый график, показывает количество пациентов с диабетом и без диабета в зависимости от уровня инсулина.\n",
        "\n",
        "Второй график показывает плотность распределения уровня инсулина для пациентов с диабетом и без него."
      ],
      "metadata": {
        "id": "l53fvE0Qm86e"
      }
    },
    {
      "cell_type": "code",
      "source": [
        "pd.crosstab(teachdata_1.loc[teachdata_1.Age < 70].Age, teachdata_1.Outcome).plot(title=\"Age plots\")\n",
        "pd.crosstab(teachdata_1.loc[teachdata_1.Age < 70].Age, teachdata_1.Outcome).plot.density()"
      ],
      "metadata": {
        "colab": {
          "base_uri": "https://localhost:8080/",
          "height": 902
        },
        "id": "SzICYvypY2Cs",
        "outputId": "28ba612f-8471-4146-a11f-394739c733fd"
      },
      "execution_count": 20,
      "outputs": [
        {
          "output_type": "execute_result",
          "data": {
            "text/plain": [
              "<Axes: ylabel='Density'>"
            ]
          },
          "metadata": {},
          "execution_count": 20
        },
        {
          "output_type": "display_data",
          "data": {
            "text/plain": [
              "<Figure size 640x480 with 1 Axes>"
            ],
            "image/png": "[encoded data removed]"
          },
          "metadata": {}
        },
        {
          "output_type": "display_data",
          "data": {
            "text/plain": [
              "<Figure size 640x480 with 1 Axes>"
            ],
            "image/png": "[encoded data removed]"
          },
          "metadata": {}
        }
      ]
    },
    {
      "cell_type": "markdown",
      "source": [
        "Первый график, показывает количество пациентов с диабетом и без диабета в зависимости от возраста.\n",
        "\n",
        "Второй график показывает плотность распределения возраста пациентов с диабетом и без него."
      ],
      "metadata": {
        "id": "vnnD4ijqnO6L"
      }
    },
    {
      "cell_type": "code",
      "execution_count": 21,
      "metadata": {
        "colab": {
          "base_uri": "https://localhost:8080/"
        },
        "id": "l9tQip7LEPHb",
        "outputId": "9b5ebb2f-18be-4d03-abf4-36948f5bcfff"
      },
      "outputs": [
        {
          "output_type": "stream",
          "name": "stdout",
          "text": [
            "Accuracy: 0.7291666666666666\n",
            "              precision    recall  f1-score   support\n",
            "\n",
            "           0       0.80      0.77      0.79       123\n",
            "           1       0.62      0.65      0.63        69\n",
            "\n",
            "    accuracy                           0.73       192\n",
            "   macro avg       0.71      0.71      0.71       192\n",
            "weighted avg       0.73      0.73      0.73       192\n",
            "\n",
            "Confusion Matrix:\n",
            "[[95 28]\n",
            " [24 45]]\n"
          ]
        },
        {
          "output_type": "stream",
          "name": "stderr",
          "text": [
            "/usr/local/lib/python3.10/dist-packages/sklearn/linear_model/_logistic.py:458: ConvergenceWarning: lbfgs failed to converge (status=1):\n",
            "STOP: TOTAL NO. of ITERATIONS REACHED LIMIT.\n",
            "\n",
            "Increase the number of iterations (max_iter) or scale the data as shown in:\n",
            "    https://scikit-learn.org/stable/modules/preprocessing.html\n",
            "Please also refer to the documentation for alternative solver options:\n",
            "    https://scikit-learn.org/stable/modules/linear_model.html#logistic-regression\n",
            "  n_iter_i = _check_optimize_result(\n"
          ]
        }
      ],
      "source": [
        "from sklearn.model_selection import train_test_split\n",
        "from sklearn.linear_model import LogisticRegression\n",
        "from sklearn.metrics import accuracy_score, classification_report, confusion_matrix\n",
        "\n",
        "X = teachdata.drop('Outcome', axis=1)\n",
        "y = teachdata['Outcome']\n",
        "\n",
        "X_train, X_test, y_train, y_test = train_test_split(X, y, test_size=0.25, random_state=42, shuffle = True)\n",
        "\n",
        "model = LogisticRegression(max_iter = 100)\n",
        "model.fit(X_train, y_train)\n",
        "\n",
        "y_pred = model.predict(X_test)\n",
        "\n",
        "accuracy = accuracy_score(y_test, y_pred)\n",
        "print(\"Accuracy:\", accuracy)\n",
        "\n",
        "print(classification_report(y_test, y_pred))\n",
        "\n",
        "print(\"Confusion Matrix:\")\n",
        "print(confusion_matrix(y_test, y_pred))"
      ]
    },
    {
      "cell_type": "code",
      "source": [
        "X = teachdata.drop('Outcome', axis=1)\n",
        "cols = ['Pregnancies', 'Glucose', 'Insulin',\n",
        "       'BMI', 'DiabetesPedigreeFunction', 'Age']\n",
        "X = X[cols]\n",
        "y = teachdata['Outcome']\n",
        "\n",
        "X_train, X_test, y_train, y_test = train_test_split(X, y, test_size=0.25, random_state=42)\n",
        "\n",
        "model = LogisticRegression()\n",
        "model.fit(X_train, y_train)\n",
        "\n",
        "y_pred = model.predict(X_test)\n",
        "\n",
        "accuracy = accuracy_score(y_test, y_pred)\n",
        "print(\"Accuracy:\", accuracy)\n",
        "\n",
        "print(classification_report(y_test, y_pred))\n",
        "\n",
        "print(\"Confusion Matrix:\")\n",
        "print(confusion_matrix(y_test, y_pred))"
      ],
      "metadata": {
        "id": "RxJQEOgec_Jh",
        "outputId": "d199117d-db09-4eb2-b014-12f26b49e49e",
        "colab": {
          "base_uri": "https://localhost:8080/"
        }
      },
      "execution_count": 30,
      "outputs": [
        {
          "output_type": "stream",
          "name": "stdout",
          "text": [
            "Accuracy: 0.7291666666666666\n",
            "              precision    recall  f1-score   support\n",
            "\n",
            "           0       0.78      0.80      0.79       123\n",
            "           1       0.63      0.61      0.62        69\n",
            "\n",
            "    accuracy                           0.73       192\n",
            "   macro avg       0.71      0.70      0.70       192\n",
            "weighted avg       0.73      0.73      0.73       192\n",
            "\n",
            "Confusion Matrix:\n",
            "[[98 25]\n",
            " [27 42]]\n"
          ]
        },
        {
          "output_type": "stream",
          "name": "stderr",
          "text": [
            "/usr/local/lib/python3.10/dist-packages/sklearn/linear_model/_logistic.py:458: ConvergenceWarning: lbfgs failed to converge (status=1):\n",
            "STOP: TOTAL NO. of ITERATIONS REACHED LIMIT.\n",
            "\n",
            "Increase the number of iterations (max_iter) or scale the data as shown in:\n",
            "    https://scikit-learn.org/stable/modules/preprocessing.html\n",
            "Please also refer to the documentation for alternative solver options:\n",
            "    https://scikit-learn.org/stable/modules/linear_model.html#logistic-regression\n",
            "  n_iter_i = _check_optimize_result(\n"
          ]
        }
      ]
    },
    {
      "cell_type": "markdown",
      "source": [
        "Модель демонстрирует приемлемую, но не идеальную производительность. Она имеет некоторую способность различать образцы класса 0 и класса 1, но существует пространство для улучшений. Возможно, оптимизация гиперпараметров модели может улучшить ее производительность."
      ],
      "metadata": {
        "id": "NSYbft0pJN-c"
      }
    },
    {
      "cell_type": "code",
      "execution_count": 31,
      "metadata": {
        "colab": {
          "base_uri": "https://localhost:8080/"
        },
        "id": "Hfs9QCdantoP",
        "outputId": "b829b935-861e-451b-fa2e-5d8d57b54a99"
      },
      "outputs": [
        {
          "output_type": "stream",
          "name": "stdout",
          "text": [
            "Best Parameters: {'C': 1, 'class_weight': None, 'penalty': 'l1', 'solver': 'liblinear'}\n",
            "Best Accuracy: 0.7725187406296852\n",
            "              precision    recall  f1-score   support\n",
            "\n",
            "           0       0.78      0.80      0.79       123\n",
            "           1       0.62      0.59      0.61        69\n",
            "\n",
            "    accuracy                           0.72       192\n",
            "   macro avg       0.70      0.70      0.70       192\n",
            "weighted avg       0.72      0.72      0.72       192\n",
            "\n"
          ]
        }
      ],
      "source": [
        "from sklearn.model_selection import GridSearchCV\n",
        "from sklearn.metrics import classification_report\n",
        "\n",
        "param_grid = {\n",
        "    'penalty': ['l1', 'l2'],  # Тип регуляризации\n",
        "    'C': [0.001, 0.01, 0.1, 1, 10, 100],  # Обратная сила регуляризации\n",
        "    'solver': ['liblinear'],  # Алгоритм оптимизации\n",
        "    'class_weight': [None, 'balanced']  # Балансировка классов\n",
        "}\n",
        "\n",
        "model = LogisticRegression()\n",
        "\n",
        "grid_search = GridSearchCV(model, param_grid, cv=5, scoring='accuracy')\n",
        "grid_search.fit(X_train, y_train)\n",
        "\n",
        "print(\"Best Parameters:\", grid_search.best_params_)\n",
        "print(\"Best Accuracy:\", grid_search.best_score_)\n",
        "y_pred = grid_search.predict(X_test)\n",
        "print(classification_report(y_test, y_pred))\n"
      ]
    },
    {
      "cell_type": "markdown",
      "source": [
        "С помощью gridsearch удалось добиться значительного улучшения параметра accuracy, почти до 78%. Однако, precision и recall для класса 1 остались примерно на том же уровне"
      ],
      "metadata": {
        "id": "2IHl03_zOSew"
      }
    },
    {
      "cell_type": "markdown",
      "source": [
        "##Протестируем метод catboost и попробуем улучшить нашу модель"
      ],
      "metadata": {
        "id": "c3tDWPzTQlWg"
      }
    },
    {
      "cell_type": "code",
      "source": [
        "!pip install catboost"
      ],
      "metadata": {
        "colab": {
          "base_uri": "https://localhost:8080/"
        },
        "id": "5LfL6FdgQ1Xg",
        "outputId": "3f739d40-9179-4bf2-e31f-3c6076a6f822"
      },
      "execution_count": 23,
      "outputs": [
        {
          "output_type": "stream",
          "name": "stdout",
          "text": [
            "Collecting catboost\n",
            "  Downloading catboost-1.2.3-cp310-cp310-manylinux2014_x86_64.whl (98.5 MB)\n",
            "\u001b[2K     \u001b[90m━━━━━━━━━━━━━━━━━━━━━━━━━━━━━━━━━━━━━━━━\u001b[0m \u001b[32m98.5/98.5 MB\u001b[0m \u001b[31m9.1 MB/s\u001b[0m eta \u001b[36m0:00:00\u001b[0m\n",
            "\u001b[?25hRequirement already satisfied: graphviz in /usr/local/lib/python3.10/dist-packages (from catboost) (0.20.3)\n",
            "Requirement already satisfied: matplotlib in /usr/local/lib/python3.10/dist-packages (from catboost) (3.7.1)\n",
            "Requirement already satisfied: numpy>=1.16.0 in /usr/local/lib/python3.10/dist-packages (from catboost) (1.25.2)\n",
            "Requirement already satisfied: pandas>=0.24 in /usr/local/lib/python3.10/dist-packages (from catboost) (2.0.3)\n",
            "Requirement already satisfied: scipy in /usr/local/lib/python3.10/dist-packages (from catboost) (1.11.4)\n",
            "Requirement already satisfied: plotly in /usr/local/lib/python3.10/dist-packages (from catboost) (5.15.0)\n",
            "Requirement already satisfied: six in /usr/local/lib/python3.10/dist-packages (from catboost) (1.16.0)\n",
            "Requirement already satisfied: python-dateutil>=2.8.2 in /usr/local/lib/python3.10/dist-packages (from pandas>=0.24->catboost) (2.8.2)\n",
            "Requirement already satisfied: pytz>=2020.1 in /usr/local/lib/python3.10/dist-packages (from pandas>=0.24->catboost) (2023.4)\n",
            "Requirement already satisfied: tzdata>=2022.1 in /usr/local/lib/python3.10/dist-packages (from pandas>=0.24->catboost) (2024.1)\n",
            "Requirement already satisfied: contourpy>=1.0.1 in /usr/local/lib/python3.10/dist-packages (from matplotlib->catboost) (1.2.1)\n",
            "Requirement already satisfied: cycler>=0.10 in /usr/local/lib/python3.10/dist-packages (from matplotlib->catboost) (0.12.1)\n",
            "Requirement already satisfied: fonttools>=4.22.0 in /usr/local/lib/python3.10/dist-packages (from matplotlib->catboost) (4.51.0)\n",
            "Requirement already satisfied: kiwisolver>=1.0.1 in /usr/local/lib/python3.10/dist-packages (from matplotlib->catboost) (1.4.5)\n",
            "Requirement already satisfied: packaging>=20.0 in /usr/local/lib/python3.10/dist-packages (from matplotlib->catboost) (24.0)\n",
            "Requirement already satisfied: pillow>=6.2.0 in /usr/local/lib/python3.10/dist-packages (from matplotlib->catboost) (9.4.0)\n",
            "Requirement already satisfied: pyparsing>=2.3.1 in /usr/local/lib/python3.10/dist-packages (from matplotlib->catboost) (3.1.2)\n",
            "Requirement already satisfied: tenacity>=6.2.0 in /usr/local/lib/python3.10/dist-packages (from plotly->catboost) (8.2.3)\n",
            "Installing collected packages: catboost\n",
            "Successfully installed catboost-1.2.3\n"
          ]
        }
      ]
    },
    {
      "cell_type": "code",
      "source": [
        "from google.colab import output\n",
        "output.enable_custom_widget_manager()"
      ],
      "metadata": {
        "id": "WStYHi-QQ8Tg"
      },
      "execution_count": 24,
      "outputs": []
    },
    {
      "cell_type": "code",
      "source": [
        "from sklearn.model_selection import train_test_split\n",
        "from catboost import CatBoostClassifier\n",
        "from sklearn.metrics import accuracy_score, classification_report, confusion_matrix\n",
        "\n",
        "X = teachdata.drop('Outcome', axis=1)\n",
        "y = teachdata['Outcome']\n",
        "\n",
        "X_train, X_test, y_train, y_test = train_test_split(X, y, test_size=0.25, random_state=42, shuffle=True)\n",
        "\n",
        "params = {\"iterations\": 500,\n",
        "          \"depth\":5,\n",
        "          \"loss_function\": \"Logloss\",\n",
        "          \"verbose\": False}\n",
        "          #\"learning_rate\": 0.001}\n",
        "\n",
        "model = CatBoostClassifier(**params)\n",
        "model.fit(X_train, y_train, plot=True, eval_set=(X_test, y_test))\n",
        "\n",
        "y_pred = model.predict(X_test)\n",
        "\n",
        "accuracy = accuracy_score(y_test, y_pred)\n",
        "print(\"Accuracy:\", accuracy)\n",
        "\n",
        "print(classification_report(y_test, y_pred))\n",
        "\n",
        "print(\"Confusion Matrix:\")\n",
        "print(confusion_matrix(y_test, y_pred))"
      ],
      "metadata": {
        "colab": {
          "base_uri": "https://localhost:8080/",
          "height": 243,
          "referenced_widgets": [
            "77cd30fb290d43cfab0352d4db2e7314"
          ]
        },
        "id": "NxE8AUjbRBQb",
        "outputId": "cb4cc155-3f07-453d-b4aa-65cd6be8aa72"
      },
      "execution_count": 32,
      "outputs": [
        {
          "output_type": "display_data",
          "data": {
            "text/plain": [
              "MetricVisualizer(layout=Layout(align_self='stretch', height='500px'))"
            ],
            "application/vnd.jupyter.widget-view+json": {
              "version_major": 2,
              "version_minor": 0,
              "model_id": "77cd30fb290d43cfab0352d4db2e7314"
            }
          },
          "metadata": {}
        },
        {
          "output_type": "stream",
          "name": "stdout",
          "text": [
            "Accuracy: 0.7604166666666666\n",
            "              precision    recall  f1-score   support\n",
            "\n",
            "           0       0.80      0.83      0.82       123\n",
            "           1       0.68      0.64      0.66        69\n",
            "\n",
            "    accuracy                           0.76       192\n",
            "   macro avg       0.74      0.73      0.74       192\n",
            "weighted avg       0.76      0.76      0.76       192\n",
            "\n",
            "Confusion Matrix:\n",
            "[[102  21]\n",
            " [ 25  44]]\n"
          ]
        }
      ]
    },
    {
      "cell_type": "markdown",
      "source": [
        "Как мы видим, показатели precision и recall выросли для обоих классов. Accuracy упало до 76%, но все же это выше чем у 1й модели (72%). Поэтому этот алгоритм является наиболее оптимальным"
      ],
      "metadata": {
        "id": "9Ntl6X-oRSUZ"
      }
    },
    {
      "cell_type": "markdown",
      "source": [
        "Построим ROC кривую нашей модели, чтобы визуально оценить ее производительность"
      ],
      "metadata": {
        "id": "u39YwU80TeWY"
      }
    },
    {
      "cell_type": "code",
      "execution_count": 36,
      "metadata": {
        "colab": {
          "base_uri": "https://localhost:8080/",
          "height": 564
        },
        "id": "s7h5Ofj9kqgW",
        "outputId": "4a5928db-bf15-45c8-f98f-b20e2a0c2cf0"
      },
      "outputs": [
        {
          "output_type": "display_data",
          "data": {
            "text/plain": [
              "<Figure size 800x600 with 1 Axes>"
            ],
            "image/png": "[encoded data removed]"
          },
          "metadata": {}
        }
      ],
      "source": [
        "from sklearn.metrics import roc_curve, roc_auc_score\n",
        "import matplotlib.pyplot as plt\n",
        "\n",
        "y_pred_proba = model.predict_proba(X_test)[:, 1]\n",
        "\n",
        "positive_class_index = 1\n",
        "negative_class_index = 0\n",
        "\n",
        "fpr_pos, tpr_pos, thresholds_pos = roc_curve(y_test, y_pred_proba, pos_label=positive_class_index)\n",
        "fpr_neg, tpr_neg, thresholds_neg = roc_curve(y_test, 1 - y_pred_proba, pos_label=negative_class_index)\n",
        "\n",
        "plt.figure(figsize=(8, 6))\n",
        "plt.plot(fpr_pos, tpr_pos, color='blue', lw=2, label='ROC curve (Class 1)')\n",
        "plt.plot(fpr_neg, tpr_neg, color='green', lw=2, label='ROC curve (Class 0)')\n",
        "plt.plot([0, 1], [0, 1], color='red', linestyle='--')\n",
        "plt.xlabel('False Positive Rate')\n",
        "plt.ylabel('True Positive Rate')\n",
        "plt.title('ROC Curves for Each Class')\n",
        "plt.legend()\n",
        "plt.show()"
      ]
    },
    {
      "cell_type": "markdown",
      "source": [
        "##Исследование модели предсказания диабета позволяет сделать несколько ключевых выводов:\n",
        "\n",
        "1. Производительность модели: Модель демонстрирует довольно неплохую производительность с точностью около 80%. Однако, есть некоторое количество ложных предсказаний.\n",
        "\n",
        "2. Классификация: Модель способна правильно классифицировать большинство случаев, но имеет тенденцию совершать ошибки в предсказании положительных случаев (что не очень хорошо :) )"
      ],
      "metadata": {
        "id": "Pht7WdTfS_I3"
      }
    },
    {
      "cell_type": "code",
      "source": [],
      "metadata": {
        "id": "2WzMhAqLqhxf"
      },
      "execution_count": null,
      "outputs": []
    }
  ],
  "metadata": {
    "colab": {
      "provenance": [],
      "include_colab_link": true
    },
    "kernelspec": {
      "display_name": "Python 3 (ipykernel)",
      "language": "python",
      "name": "python3"
    },
    "language_info": {
      "codemirror_mode": {
        "name": "ipython",
        "version": 3
      },
      "file_extension": ".py",
      "mimetype": "text/x-python",
      "name": "python",
      "nbconvert_exporter": "python",
      "pygments_lexer": "ipython3",
      "version": "3.11.2"
    },
    "widgets": {
      "application/vnd.jupyter.widget-state+json": {
        "77cd30fb290d43cfab0352d4db2e7314": {
          "model_module": "catboost-widget",
          "model_name": "CatboostWidgetModel",
          "model_module_version": "^1.0.0",
          "state": {
            "_dom_classes": [],
            "_model_module": "catboost-widget",
            "_model_module_version": "^1.0.0",
            "_model_name": "CatboostWidgetModel",
            "_view_count": null,
            "_view_module": "catboost-widget",
            "_view_module_version": "^1.0.0",
            "_view_name": "CatboostWidgetView",
            "data": {
              "catboost_info": {
                "path": "catboost_info",
                "name": "catboost_info",
                "content": {
                  "passed_iterations": 499,
                  "total_iterations": 500,
                  "data": {
                    "iterations": [
                      {
                        "learn": [
                          0.6732558674
                        ],
                        "iteration": 0,
                        "passed_time": 0.002383848695,
                        "remaining_time": 1.189540499,
                        "test": [
                          0.6783134642
                        ]
                      },
                      {
                        "learn": [
                          0.6563981374
                        ],
                        "iteration": 1,
                        "passed_time": 0.004555453426,
                        "remaining_time": 1.134307903,
                        "test": [
                          0.6639545204
                        ]
                      },
                      {
                        "learn": [
                          0.639594131
                        ],
                        "iteration": 2,
                        "passed_time": 0.01270478694,
                        "remaining_time": 2.104759703,
                        "test": [
                          0.6501954534
                        ]
                      },
                      {
                        "learn": [
                          0.6300120884
                        ],
                        "iteration": 3,
                        "passed_time": 0.01416915057,
                        "remaining_time": 1.75697467,
                        "test": [
                          0.6424875751
                        ]
                      },
                      {
                        "learn": [
                          0.6157595317
                        ],
                        "iteration": 4,
                        "passed_time": 0.01576762488,
                        "remaining_time": 1.560994863,
                        "test": [
                          0.63172879
                        ]
                      },
                      {
                        "learn": [
                          0.6043902503
                        ],
                        "iteration": 5,
                        "passed_time": 0.01728938399,
                        "remaining_time": 1.423492616,
                        "test": [
                          0.6239955257
                        ]
                      },
                      {
                        "learn": [
                          0.5915195147
                        ],
                        "iteration": 6,
                        "passed_time": 0.02302044279,
                        "remaining_time": 1.621296899,
                        "test": [
                          0.6127016474
                        ]
                      },
                      {
                        "learn": [
                          0.5782815086
                        ],
                        "iteration": 7,
                        "passed_time": 0.025648308,
                        "remaining_time": 1.577370942,
                        "test": [
                          0.6036692281
                        ]
                      },
                      {
                        "learn": [
                          0.566412237
                        ],
                        "iteration": 8,
                        "passed_time": 0.02882059453,
                        "remaining_time": 1.572323546,
                        "test": [
                          0.5952322545
                        ]
                      },
                      {
                        "learn": [
                          0.5565565957
                        ],
                        "iteration": 9,
                        "passed_time": 0.03132090047,
                        "remaining_time": 1.534724123,
                        "test": [
                          0.5864571192
                        ]
                      },
                      {
                        "learn": [
                          0.5488011042
                        ],
                        "iteration": 10,
                        "passed_time": 0.03456066094,
                        "remaining_time": 1.536378473,
                        "test": [
                          0.5808144465
                        ]
                      },
                      {
                        "learn": [
                          0.5378177961
                        ],
                        "iteration": 11,
                        "passed_time": 0.03615736445,
                        "remaining_time": 1.470399488,
                        "test": [
                          0.5722763251
                        ]
                      },
                      {
                        "learn": [
                          0.5308059057
                        ],
                        "iteration": 12,
                        "passed_time": 0.03770248756,
                        "remaining_time": 1.412393188,
                        "test": [
                          0.5669572447
                        ]
                      },
                      {
                        "learn": [
                          0.5229313638
                        ],
                        "iteration": 13,
                        "passed_time": 0.04441374125,
                        "remaining_time": 1.541791304,
                        "test": [
                          0.5609768361
                        ]
                      },
                      {
                        "learn": [
                          0.514787462
                        ],
                        "iteration": 14,
                        "passed_time": 0.0492600528,
                        "remaining_time": 1.592741707,
                        "test": [
                          0.5529137263
                        ]
                      },
                      {
                        "learn": [
                          0.5096430249
                        ],
                        "iteration": 15,
                        "passed_time": 0.0516205666,
                        "remaining_time": 1.56152214,
                        "test": [
                          0.5493806975
                        ]
                      },
                      {
                        "learn": [
                          0.5032227834
                        ],
                        "iteration": 16,
                        "passed_time": 0.05318957639,
                        "remaining_time": 1.511209729,
                        "test": [
                          0.5459925715
                        ]
                      },
                      {
                        "learn": [
                          0.495669206
                        ],
                        "iteration": 17,
                        "passed_time": 0.05767937575,
                        "remaining_time": 1.544525506,
                        "test": [
                          0.5401226119
                        ]
                      },
                      {
                        "learn": [
                          0.4919164975
                        ],
                        "iteration": 18,
                        "passed_time": 0.06052294744,
                        "remaining_time": 1.532186196,
                        "test": [
                          0.5383862638
                        ]
                      },
                      {
                        "learn": [
                          0.486322244
                        ],
                        "iteration": 19,
                        "passed_time": 0.06400665625,
                        "remaining_time": 1.53615975,
                        "test": [
                          0.5347715445
                        ]
                      },
                      {
                        "learn": [
                          0.4835870531
                        ],
                        "iteration": 20,
                        "passed_time": 0.06557438703,
                        "remaining_time": 1.495720542,
                        "test": [
                          0.5333789946
                        ]
                      },
                      {
                        "learn": [
                          0.4790870878
                        ],
                        "iteration": 21,
                        "passed_time": 0.0701672872,
                        "remaining_time": 1.524543786,
                        "test": [
                          0.5311233998
                        ]
                      },
                      {
                        "learn": [
                          0.4759724935
                        ],
                        "iteration": 22,
                        "passed_time": 0.07390913529,
                        "remaining_time": 1.532811197,
                        "test": [
                          0.5280763148
                        ]
                      },
                      {
                        "learn": [
                          0.4721769757
                        ],
                        "iteration": 23,
                        "passed_time": 0.07664581185,
                        "remaining_time": 1.520141935,
                        "test": [
                          0.5265672723
                        ]
                      },
                      {
                        "learn": [
                          0.4680285454
                        ],
                        "iteration": 24,
                        "passed_time": 0.07823660301,
                        "remaining_time": 1.486495457,
                        "test": [
                          0.5252169116
                        ]
                      },
                      {
                        "learn": [
                          0.464246432
                        ],
                        "iteration": 25,
                        "passed_time": 0.08445843739,
                        "remaining_time": 1.539742282,
                        "test": [
                          0.5247729323
                        ]
                      },
                      {
                        "learn": [
                          0.4608557489
                        ],
                        "iteration": 26,
                        "passed_time": 0.08989321659,
                        "remaining_time": 1.574795979,
                        "test": [
                          0.522669041
                        ]
                      },
                      {
                        "learn": [
                          0.4566133817
                        ],
                        "iteration": 27,
                        "passed_time": 0.09173609284,
                        "remaining_time": 1.546408422,
                        "test": [
                          0.5198504604
                        ]
                      },
                      {
                        "learn": [
                          0.4539101919
                        ],
                        "iteration": 28,
                        "passed_time": 0.09501587354,
                        "remaining_time": 1.543188843,
                        "test": [
                          0.519060872
                        ]
                      },
                      {
                        "learn": [
                          0.4498311679
                        ],
                        "iteration": 29,
                        "passed_time": 0.1024098944,
                        "remaining_time": 1.604421679,
                        "test": [
                          0.5177896947
                        ]
                      },
                      {
                        "learn": [
                          0.4475509855
                        ],
                        "iteration": 30,
                        "passed_time": 0.1067614134,
                        "remaining_time": 1.615196867,
                        "test": [
                          0.5166341407
                        ]
                      },
                      {
                        "learn": [
                          0.4441378911
                        ],
                        "iteration": 31,
                        "passed_time": 0.1118903036,
                        "remaining_time": 1.636395689,
                        "test": [
                          0.514584712
                        ]
                      },
                      {
                        "learn": [
                          0.440842496
                        ],
                        "iteration": 32,
                        "passed_time": 0.1153352266,
                        "remaining_time": 1.632168207,
                        "test": [
                          0.5124777218
                        ]
                      },
                      {
                        "learn": [
                          0.4378450182
                        ],
                        "iteration": 33,
                        "passed_time": 0.119839596,
                        "remaining_time": 1.642507404,
                        "test": [
                          0.5114549613
                        ]
                      },
                      {
                        "learn": [
                          0.4353560077
                        ],
                        "iteration": 34,
                        "passed_time": 0.1255682449,
                        "remaining_time": 1.668263825,
                        "test": [
                          0.5100342654
                        ]
                      },
                      {
                        "learn": [
                          0.4332116445
                        ],
                        "iteration": 35,
                        "passed_time": 0.1312514422,
                        "remaining_time": 1.691685255,
                        "test": [
                          0.5094016721
                        ]
                      },
                      {
                        "learn": [
                          0.4307075606
                        ],
                        "iteration": 36,
                        "passed_time": 0.1347796637,
                        "remaining_time": 1.686567142,
                        "test": [
                          0.5091432413
                        ]
                      },
                      {
                        "learn": [
                          0.427779807
                        ],
                        "iteration": 37,
                        "passed_time": 0.1369825746,
                        "remaining_time": 1.665419723,
                        "test": [
                          0.5075742659
                        ]
                      },
                      {
                        "learn": [
                          0.425788482
                        ],
                        "iteration": 38,
                        "passed_time": 0.1401777479,
                        "remaining_time": 1.656972866,
                        "test": [
                          0.5075924912
                        ]
                      },
                      {
                        "learn": [
                          0.4233262539
                        ],
                        "iteration": 39,
                        "passed_time": 0.1432692286,
                        "remaining_time": 1.647596128,
                        "test": [
                          0.5067299449
                        ]
                      },
                      {
                        "learn": [
                          0.4205210739
                        ],
                        "iteration": 40,
                        "passed_time": 0.145665002,
                        "remaining_time": 1.630737461,
                        "test": [
                          0.5050355647
                        ]
                      },
                      {
                        "learn": [
                          0.4181594319
                        ],
                        "iteration": 41,
                        "passed_time": 0.1488015316,
                        "remaining_time": 1.622645274,
                        "test": [
                          0.5053603168
                        ]
                      },
                      {
                        "learn": [
                          0.4168276787
                        ],
                        "iteration": 42,
                        "passed_time": 0.1511670806,
                        "remaining_time": 1.60658967,
                        "test": [
                          0.5044198864
                        ]
                      },
                      {
                        "learn": [
                          0.4148464468
                        ],
                        "iteration": 43,
                        "passed_time": 0.1550730456,
                        "remaining_time": 1.607120655,
                        "test": [
                          0.5035888638
                        ]
                      },
                      {
                        "learn": [
                          0.4126323064
                        ],
                        "iteration": 44,
                        "passed_time": 0.1579849767,
                        "remaining_time": 1.597403653,
                        "test": [
                          0.5024138872
                        ]
                      },
                      {
                        "learn": [
                          0.4117877748
                        ],
                        "iteration": 45,
                        "passed_time": 0.160650884,
                        "remaining_time": 1.585554377,
                        "test": [
                          0.5022377524
                        ]
                      },
                      {
                        "learn": [
                          0.4103884697
                        ],
                        "iteration": 46,
                        "passed_time": 0.162230984,
                        "remaining_time": 1.563630548,
                        "test": [
                          0.5015533998
                        ]
                      },
                      {
                        "learn": [
                          0.4080973201
                        ],
                        "iteration": 47,
                        "passed_time": 0.1658952615,
                        "remaining_time": 1.562180379,
                        "test": [
                          0.5016800225
                        ]
                      },
                      {
                        "learn": [
                          0.4064584308
                        ],
                        "iteration": 48,
                        "passed_time": 0.1700184112,
                        "remaining_time": 1.564863335,
                        "test": [
                          0.5017889106
                        ]
                      },
                      {
                        "learn": [
                          0.4051815139
                        ],
                        "iteration": 49,
                        "passed_time": 0.1716341389,
                        "remaining_time": 1.54470725,
                        "test": [
                          0.5013501314
                        ]
                      },
                      {
                        "learn": [
                          0.4030851788
                        ],
                        "iteration": 50,
                        "passed_time": 0.1732920832,
                        "remaining_time": 1.525649909,
                        "test": [
                          0.5009673436
                        ]
                      },
                      {
                        "learn": [
                          0.4007146888
                        ],
                        "iteration": 51,
                        "passed_time": 0.1786418822,
                        "remaining_time": 1.539068524,
                        "test": [
                          0.50139713
                        ]
                      },
                      {
                        "learn": [
                          0.3993501663
                        ],
                        "iteration": 52,
                        "passed_time": 0.1824162528,
                        "remaining_time": 1.538491793,
                        "test": [
                          0.5008496846
                        ]
                      },
                      {
                        "learn": [
                          0.3982535203
                        ],
                        "iteration": 53,
                        "passed_time": 0.184028469,
                        "remaining_time": 1.519938836,
                        "test": [
                          0.5003711795
                        ]
                      },
                      {
                        "learn": [
                          0.3963927693
                        ],
                        "iteration": 54,
                        "passed_time": 0.1856057355,
                        "remaining_time": 1.501719133,
                        "test": [
                          0.5005311496
                        ]
                      },
                      {
                        "learn": [
                          0.3946856393
                        ],
                        "iteration": 55,
                        "passed_time": 0.1897662428,
                        "remaining_time": 1.504575211,
                        "test": [
                          0.5002903504
                        ]
                      },
                      {
                        "learn": [
                          0.3930234379
                        ],
                        "iteration": 56,
                        "passed_time": 0.1939527566,
                        "remaining_time": 1.507387214,
                        "test": [
                          0.5002580343
                        ]
                      },
                      {
                        "learn": [
                          0.3917020957
                        ],
                        "iteration": 57,
                        "passed_time": 0.1955990934,
                        "remaining_time": 1.490599988,
                        "test": [
                          0.5005173919
                        ]
                      },
                      {
                        "learn": [
                          0.3898044427
                        ],
                        "iteration": 58,
                        "passed_time": 0.1971448328,
                        "remaining_time": 1.47357409,
                        "test": [
                          0.5010291938
                        ]
                      },
                      {
                        "learn": [
                          0.3878307607
                        ],
                        "iteration": 59,
                        "passed_time": 0.2031054272,
                        "remaining_time": 1.4894398,
                        "test": [
                          0.5003985237
                        ]
                      },
                      {
                        "learn": [
                          0.3866126802
                        ],
                        "iteration": 60,
                        "passed_time": 0.2047501832,
                        "remaining_time": 1.473530007,
                        "test": [
                          0.499794253
                        ]
                      },
                      {
                        "learn": [
                          0.3850828542
                        ],
                        "iteration": 61,
                        "passed_time": 0.2063472585,
                        "remaining_time": 1.457743536,
                        "test": [
                          0.5005126942
                        ]
                      },
                      {
                        "learn": [
                          0.3823882739
                        ],
                        "iteration": 62,
                        "passed_time": 0.2111481684,
                        "remaining_time": 1.464630946,
                        "test": [
                          0.501020207
                        ]
                      },
                      {
                        "learn": [
                          0.3804900381
                        ],
                        "iteration": 63,
                        "passed_time": 0.2144638704,
                        "remaining_time": 1.461035117,
                        "test": [
                          0.5016283982
                        ]
                      },
                      {
                        "learn": [
                          0.3794504537
                        ],
                        "iteration": 64,
                        "passed_time": 0.216066659,
                        "remaining_time": 1.445984564,
                        "test": [
                          0.5015317657
                        ]
                      },
                      {
                        "learn": [
                          0.3784251213
                        ],
                        "iteration": 65,
                        "passed_time": 0.217624994,
                        "remaining_time": 1.431049203,
                        "test": [
                          0.501393479
                        ]
                      },
                      {
                        "learn": [
                          0.3773070176
                        ],
                        "iteration": 66,
                        "passed_time": 0.2231256454,
                        "remaining_time": 1.441991112,
                        "test": [
                          0.501019746
                        ]
                      },
                      {
                        "learn": [
                          0.3746676975
                        ],
                        "iteration": 67,
                        "passed_time": 0.2247672625,
                        "remaining_time": 1.427933197,
                        "test": [
                          0.5010756707
                        ]
                      },
                      {
                        "learn": [
                          0.3737187386
                        ],
                        "iteration": 68,
                        "passed_time": 0.2263945677,
                        "remaining_time": 1.414145778,
                        "test": [
                          0.5007879812
                        ]
                      },
                      {
                        "learn": [
                          0.3726161321
                        ],
                        "iteration": 69,
                        "passed_time": 0.2315006266,
                        "remaining_time": 1.422075278,
                        "test": [
                          0.5006336868
                        ]
                      },
                      {
                        "learn": [
                          0.3717122873
                        ],
                        "iteration": 70,
                        "passed_time": 0.2346562378,
                        "remaining_time": 1.417852479,
                        "test": [
                          0.5003505778
                        ]
                      },
                      {
                        "learn": [
                          0.3706203567
                        ],
                        "iteration": 71,
                        "passed_time": 0.2361709619,
                        "remaining_time": 1.403905163,
                        "test": [
                          0.4996235583
                        ]
                      },
                      {
                        "learn": [
                          0.3697603014
                        ],
                        "iteration": 72,
                        "passed_time": 0.2381134647,
                        "remaining_time": 1.392800677,
                        "test": [
                          0.499184628
                        ]
                      },
                      {
                        "learn": [
                          0.3687815136
                        ],
                        "iteration": 73,
                        "passed_time": 0.2433149521,
                        "remaining_time": 1.400704995,
                        "test": [
                          0.499112252
                        ]
                      },
                      {
                        "learn": [
                          0.367085033
                        ],
                        "iteration": 74,
                        "passed_time": 0.2449487333,
                        "remaining_time": 1.388042822,
                        "test": [
                          0.4997178622
                        ]
                      },
                      {
                        "learn": [
                          0.3653650284
                        ],
                        "iteration": 75,
                        "passed_time": 0.2465177004,
                        "remaining_time": 1.375309276,
                        "test": [
                          0.4985503354
                        ]
                      },
                      {
                        "learn": [
                          0.36431649
                        ],
                        "iteration": 76,
                        "passed_time": 0.2507323397,
                        "remaining_time": 1.377399736,
                        "test": [
                          0.4985203839
                        ]
                      },
                      {
                        "learn": [
                          0.363505125
                        ],
                        "iteration": 77,
                        "passed_time": 0.2547108475,
                        "remaining_time": 1.378050996,
                        "test": [
                          0.4990938705
                        ]
                      },
                      {
                        "learn": [
                          0.361177259
                        ],
                        "iteration": 78,
                        "passed_time": 0.2562948955,
                        "remaining_time": 1.365824696,
                        "test": [
                          0.4994779782
                        ]
                      },
                      {
                        "learn": [
                          0.3589292367
                        ],
                        "iteration": 79,
                        "passed_time": 0.25973028,
                        "remaining_time": 1.36358397,
                        "test": [
                          0.4993898613
                        ]
                      },
                      {
                        "learn": [
                          0.3577492502
                        ],
                        "iteration": 80,
                        "passed_time": 0.2649251134,
                        "remaining_time": 1.370415093,
                        "test": [
                          0.4990296668
                        ]
                      },
                      {
                        "learn": [
                          0.3568880823
                        ],
                        "iteration": 81,
                        "passed_time": 0.2672470559,
                        "remaining_time": 1.362308163,
                        "test": [
                          0.4990668259
                        ]
                      },
                      {
                        "learn": [
                          0.3553890122
                        ],
                        "iteration": 82,
                        "passed_time": 0.2709356537,
                        "remaining_time": 1.361206839,
                        "test": [
                          0.4999785429
                        ]
                      },
                      {
                        "learn": [
                          0.3539801174
                        ],
                        "iteration": 83,
                        "passed_time": 0.2733006954,
                        "remaining_time": 1.353489158,
                        "test": [
                          0.5002006396
                        ]
                      },
                      {
                        "learn": [
                          0.3535647392
                        ],
                        "iteration": 84,
                        "passed_time": 0.27634523,
                        "remaining_time": 1.349214946,
                        "test": [
                          0.5002345281
                        ]
                      },
                      {
                        "learn": [
                          0.3525925742
                        ],
                        "iteration": 85,
                        "passed_time": 0.2779180704,
                        "remaining_time": 1.337884665,
                        "test": [
                          0.4998065531
                        ]
                      },
                      {
                        "learn": [
                          0.3509043588
                        ],
                        "iteration": 86,
                        "passed_time": 0.2817757512,
                        "remaining_time": 1.337625118,
                        "test": [
                          0.5011017348
                        ]
                      },
                      {
                        "learn": [
                          0.3488835759
                        ],
                        "iteration": 87,
                        "passed_time": 0.2857937275,
                        "remaining_time": 1.338034269,
                        "test": [
                          0.5018592444
                        ]
                      },
                      {
                        "learn": [
                          0.3473936452
                        ],
                        "iteration": 88,
                        "passed_time": 0.287398195,
                        "remaining_time": 1.327198406,
                        "test": [
                          0.5011874131
                        ]
                      },
                      {
                        "learn": [
                          0.3467335701
                        ],
                        "iteration": 89,
                        "passed_time": 0.2900231541,
                        "remaining_time": 1.321216591,
                        "test": [
                          0.5009512708
                        ]
                      },
                      {
                        "learn": [
                          0.3451162444
                        ],
                        "iteration": 90,
                        "passed_time": 0.2946184441,
                        "remaining_time": 1.324164216,
                        "test": [
                          0.5004160577
                        ]
                      },
                      {
                        "learn": [
                          0.3443640603
                        ],
                        "iteration": 91,
                        "passed_time": 0.2961483172,
                        "remaining_time": 1.313353407,
                        "test": [
                          0.500783712
                        ]
                      },
                      {
                        "learn": [
                          0.3428235054
                        ],
                        "iteration": 92,
                        "passed_time": 0.2977538611,
                        "remaining_time": 1.303073349,
                        "test": [
                          0.5006861623
                        ]
                      },
                      {
                        "learn": [
                          0.341757218
                        ],
                        "iteration": 93,
                        "passed_time": 0.3027369459,
                        "remaining_time": 1.307565958,
                        "test": [
                          0.5008331045
                        ]
                      },
                      {
                        "learn": [
                          0.3408222728
                        ],
                        "iteration": 94,
                        "passed_time": 0.3060699642,
                        "remaining_time": 1.304824584,
                        "test": [
                          0.5014632322
                        ]
                      },
                      {
                        "learn": [
                          0.3399022155
                        ],
                        "iteration": 95,
                        "passed_time": 0.307723135,
                        "remaining_time": 1.295001527,
                        "test": [
                          0.5012823972
                        ]
                      },
                      {
                        "learn": [
                          0.3386419614
                        ],
                        "iteration": 96,
                        "passed_time": 0.3109041156,
                        "remaining_time": 1.291694418,
                        "test": [
                          0.5020471614
                        ]
                      },
                      {
                        "learn": [
                          0.3376624849
                        ],
                        "iteration": 97,
                        "passed_time": 0.3153664566,
                        "remaining_time": 1.293646077,
                        "test": [
                          0.5027609901
                        ]
                      },
                      {
                        "learn": [
                          0.3359503746
                        ],
                        "iteration": 98,
                        "passed_time": 0.3169523672,
                        "remaining_time": 1.283817164,
                        "test": [
                          0.5029656727
                        ]
                      },
                      {
                        "learn": [
                          0.334735526
                        ],
                        "iteration": 99,
                        "passed_time": 0.318450256,
                        "remaining_time": 1.273801024,
                        "test": [
                          0.5031848825
                        ]
                      },
                      {
                        "learn": [
                          0.3339969582
                        ],
                        "iteration": 100,
                        "passed_time": 0.324471393,
                        "remaining_time": 1.281822632,
                        "test": [
                          0.5036626211
                        ]
                      },
                      {
                        "learn": [
                          0.3321848445
                        ],
                        "iteration": 101,
                        "passed_time": 0.326056349,
                        "remaining_time": 1.272259087,
                        "test": [
                          0.5032993476
                        ]
                      },
                      {
                        "learn": [
                          0.3307946523
                        ],
                        "iteration": 102,
                        "passed_time": 0.3276253543,
                        "remaining_time": 1.262788987,
                        "test": [
                          0.5041323355
                        ]
                      },
                      {
                        "learn": [
                          0.3294318517
                        ],
                        "iteration": 103,
                        "passed_time": 0.332519341,
                        "remaining_time": 1.266131337,
                        "test": [
                          0.5048717099
                        ]
                      },
                      {
                        "learn": [
                          0.3285329342
                        ],
                        "iteration": 104,
                        "passed_time": 0.3357075538,
                        "remaining_time": 1.262899845,
                        "test": [
                          0.5050091239
                        ]
                      },
                      {
                        "learn": [
                          0.327776485
                        ],
                        "iteration": 105,
                        "passed_time": 0.3373159611,
                        "remaining_time": 1.253797063,
                        "test": [
                          0.5053693602
                        ]
                      },
                      {
                        "learn": [
                          0.327114847
                        ],
                        "iteration": 106,
                        "passed_time": 0.3388725608,
                        "remaining_time": 1.244644078,
                        "test": [
                          0.5045435844
                        ]
                      },
                      {
                        "learn": [
                          0.3255416817
                        ],
                        "iteration": 107,
                        "passed_time": 0.3440742755,
                        "remaining_time": 1.248862185,
                        "test": [
                          0.505561284
                        ]
                      },
                      {
                        "learn": [
                          0.3249736892
                        ],
                        "iteration": 108,
                        "passed_time": 0.3456338186,
                        "remaining_time": 1.239842414,
                        "test": [
                          0.5056033685
                        ]
                      },
                      {
                        "learn": [
                          0.3242579566
                        ],
                        "iteration": 109,
                        "passed_time": 0.347172663,
                        "remaining_time": 1.230884896,
                        "test": [
                          0.5059008124
                        ]
                      },
                      {
                        "learn": [
                          0.3231446213
                        ],
                        "iteration": 110,
                        "passed_time": 0.3531998969,
                        "remaining_time": 1.23779063,
                        "test": [
                          0.5067396914
                        ]
                      },
                      {
                        "learn": [
                          0.3222955068
                        ],
                        "iteration": 111,
                        "passed_time": 0.3547595,
                        "remaining_time": 1.228988268,
                        "test": [
                          0.5063780428
                        ]
                      },
                      {
                        "learn": [
                          0.320552614
                        ],
                        "iteration": 112,
                        "passed_time": 0.3563330877,
                        "remaining_time": 1.220361991,
                        "test": [
                          0.5062302126
                        ]
                      },
                      {
                        "learn": [
                          0.3195660644
                        ],
                        "iteration": 113,
                        "passed_time": 0.3604171516,
                        "remaining_time": 1.220359829,
                        "test": [
                          0.5068767701
                        ]
                      },
                      {
                        "learn": [
                          0.3190611468
                        ],
                        "iteration": 114,
                        "passed_time": 0.3644560874,
                        "remaining_time": 1.220135597,
                        "test": [
                          0.5069664547
                        ]
                      },
                      {
                        "learn": [
                          0.3179035187
                        ],
                        "iteration": 115,
                        "passed_time": 0.3660092936,
                        "remaining_time": 1.211616972,
                        "test": [
                          0.5070106899
                        ]
                      },
                      {
                        "learn": [
                          0.3169490231
                        ],
                        "iteration": 116,
                        "passed_time": 0.3674949368,
                        "remaining_time": 1.202996246,
                        "test": [
                          0.507588156
                        ]
                      },
                      {
                        "learn": [
                          0.3166782591
                        ],
                        "iteration": 117,
                        "passed_time": 0.3729448878,
                        "remaining_time": 1.207330061,
                        "test": [
                          0.5076083802
                        ]
                      },
                      {
                        "learn": [
                          0.3159197966
                        ],
                        "iteration": 118,
                        "passed_time": 0.3754265158,
                        "remaining_time": 1.20199582,
                        "test": [
                          0.5085688101
                        ]
                      },
                      {
                        "learn": [
                          0.315075371
                        ],
                        "iteration": 119,
                        "passed_time": 0.37691186,
                        "remaining_time": 1.193554223,
                        "test": [
                          0.5087204361
                        ]
                      },
                      {
                        "learn": [
                          0.3147638904
                        ],
                        "iteration": 120,
                        "passed_time": 0.3784490599,
                        "remaining_time": 1.185390031,
                        "test": [
                          0.5088045312
                        ]
                      },
                      {
                        "learn": [
                          0.3134542571
                        ],
                        "iteration": 121,
                        "passed_time": 0.3844267987,
                        "remaining_time": 1.191092868,
                        "test": [
                          0.5079622557
                        ]
                      },
                      {
                        "learn": [
                          0.3130526013
                        ],
                        "iteration": 122,
                        "passed_time": 0.3860115375,
                        "remaining_time": 1.183141054,
                        "test": [
                          0.507800141
                        ]
                      },
                      {
                        "learn": [
                          0.311826494
                        ],
                        "iteration": 123,
                        "passed_time": 0.3876180895,
                        "remaining_time": 1.175358078,
                        "test": [
                          0.5089929127
                        ]
                      },
                      {
                        "learn": [
                          0.3112653097
                        ],
                        "iteration": 124,
                        "passed_time": 0.3927087112,
                        "remaining_time": 1.178126134,
                        "test": [
                          0.5095252456
                        ]
                      },
                      {
                        "learn": [
                          0.3103442987
                        ],
                        "iteration": 125,
                        "passed_time": 0.3962322848,
                        "remaining_time": 1.176118052,
                        "test": [
                          0.5091946834
                        ]
                      },
                      {
                        "learn": [
                          0.309237957
                        ],
                        "iteration": 126,
                        "passed_time": 0.3977443,
                        "remaining_time": 1.168178141,
                        "test": [
                          0.5081326852
                        ]
                      },
                      {
                        "learn": [
                          0.3088230557
                        ],
                        "iteration": 127,
                        "passed_time": 0.4012971044,
                        "remaining_time": 1.16626971,
                        "test": [
                          0.508493477
                        ]
                      },
                      {
                        "learn": [
                          0.3075624042
                        ],
                        "iteration": 128,
                        "passed_time": 0.4055085967,
                        "remaining_time": 1.16623015,
                        "test": [
                          0.5094776279
                        ]
                      },
                      {
                        "learn": [
                          0.3065702915
                        ],
                        "iteration": 129,
                        "passed_time": 0.4070777392,
                        "remaining_time": 1.158605873,
                        "test": [
                          0.5092711248
                        ]
                      },
                      {
                        "learn": [
                          0.305322965
                        ],
                        "iteration": 130,
                        "passed_time": 0.4086224342,
                        "remaining_time": 1.151005177,
                        "test": [
                          0.5103640585
                        ]
                      },
                      {
                        "learn": [
                          0.3043103748
                        ],
                        "iteration": 131,
                        "passed_time": 0.4138618674,
                        "remaining_time": 1.153796721,
                        "test": [
                          0.5105917395
                        ]
                      },
                      {
                        "learn": [
                          0.303703732
                        ],
                        "iteration": 132,
                        "passed_time": 0.4153896062,
                        "remaining_time": 1.146225455,
                        "test": [
                          0.5099355592
                        ]
                      },
                      {
                        "learn": [
                          0.3027851846
                        ],
                        "iteration": 133,
                        "passed_time": 0.4169562752,
                        "remaining_time": 1.138850722,
                        "test": [
                          0.5100796922
                        ]
                      },
                      {
                        "learn": [
                          0.3020484977
                        ],
                        "iteration": 134,
                        "passed_time": 0.4241666367,
                        "remaining_time": 1.146820907,
                        "test": [
                          0.5106669699
                        ]
                      },
                      {
                        "learn": [
                          0.3014122115
                        ],
                        "iteration": 135,
                        "passed_time": 0.4257668591,
                        "remaining_time": 1.139552476,
                        "test": [
                          0.5104510503
                        ]
                      },
                      {
                        "learn": [
                          0.3010147148
                        ],
                        "iteration": 136,
                        "passed_time": 0.4297165568,
                        "remaining_time": 1.138592045,
                        "test": [
                          0.5100028404
                        ]
                      },
                      {
                        "learn": [
                          0.3002167808
                        ],
                        "iteration": 137,
                        "passed_time": 0.4329432181,
                        "remaining_time": 1.13569163,
                        "test": [
                          0.5092439302
                        ]
                      },
                      {
                        "learn": [
                          0.2991894616
                        ],
                        "iteration": 138,
                        "passed_time": 0.4345050193,
                        "remaining_time": 1.128462676,
                        "test": [
                          0.5086750876
                        ]
                      },
                      {
                        "learn": [
                          0.2985579173
                        ],
                        "iteration": 139,
                        "passed_time": 0.4384211228,
                        "remaining_time": 1.127368602,
                        "test": [
                          0.5082217505
                        ]
                      },
                      {
                        "learn": [
                          0.2980320189
                        ],
                        "iteration": 140,
                        "passed_time": 0.4410051553,
                        "remaining_time": 1.122842913,
                        "test": [
                          0.5086097159
                        ]
                      },
                      {
                        "learn": [
                          0.2972460323
                        ],
                        "iteration": 141,
                        "passed_time": 0.4420602446,
                        "remaining_time": 1.114489912,
                        "test": [
                          0.5080416727
                        ]
                      },
                      {
                        "learn": [
                          0.2961865001
                        ],
                        "iteration": 142,
                        "passed_time": 0.4431167538,
                        "remaining_time": 1.106242525,
                        "test": [
                          0.5089791824
                        ]
                      },
                      {
                        "learn": [
                          0.2951792081
                        ],
                        "iteration": 143,
                        "passed_time": 0.4446633677,
                        "remaining_time": 1.099306659,
                        "test": [
                          0.5094290314
                        ]
                      },
                      {
                        "learn": [
                          0.2943855921
                        ],
                        "iteration": 144,
                        "passed_time": 0.446189423,
                        "remaining_time": 1.092394794,
                        "test": [
                          0.5094934539
                        ]
                      },
                      {
                        "learn": [
                          0.2933077547
                        ],
                        "iteration": 145,
                        "passed_time": 0.4474013706,
                        "remaining_time": 1.084795104,
                        "test": [
                          0.5100535709
                        ]
                      },
                      {
                        "learn": [
                          0.2924512757
                        ],
                        "iteration": 146,
                        "passed_time": 0.4484355239,
                        "remaining_time": 1.076855374,
                        "test": [
                          0.5095177961
                        ]
                      },
                      {
                        "learn": [
                          0.2920298047
                        ],
                        "iteration": 147,
                        "passed_time": 0.4494497321,
                        "remaining_time": 1.068961525,
                        "test": [
                          0.5103114941
                        ]
                      },
                      {
                        "learn": [
                          0.2911878162
                        ],
                        "iteration": 148,
                        "passed_time": 0.4508211616,
                        "remaining_time": 1.062001528,
                        "test": [
                          0.5094243959
                        ]
                      },
                      {
                        "learn": [
                          0.2909931077
                        ],
                        "iteration": 149,
                        "passed_time": 0.4523647193,
                        "remaining_time": 1.055517678,
                        "test": [
                          0.5097146647
                        ]
                      },
                      {
                        "learn": [
                          0.2901952002
                        ],
                        "iteration": 150,
                        "passed_time": 0.45389118,
                        "remaining_time": 1.049059747,
                        "test": [
                          0.5100517656
                        ]
                      },
                      {
                        "learn": [
                          0.2890923553
                        ],
                        "iteration": 151,
                        "passed_time": 0.4549317493,
                        "remaining_time": 1.041554268,
                        "test": [
                          0.5109152048
                        ]
                      },
                      {
                        "learn": [
                          0.2882297039
                        ],
                        "iteration": 152,
                        "passed_time": 0.455961302,
                        "remaining_time": 1.034108312,
                        "test": [
                          0.511382658
                        ]
                      },
                      {
                        "learn": [
                          0.2876499494
                        ],
                        "iteration": 153,
                        "passed_time": 0.4569911665,
                        "remaining_time": 1.026746387,
                        "test": [
                          0.5108222483
                        ]
                      },
                      {
                        "learn": [
                          0.286813736
                        ],
                        "iteration": 154,
                        "passed_time": 0.4580160186,
                        "remaining_time": 1.019455009,
                        "test": [
                          0.5118681728
                        ]
                      },
                      {
                        "learn": [
                          0.2863756816
                        ],
                        "iteration": 155,
                        "passed_time": 0.4595388413,
                        "remaining_time": 1.01334206,
                        "test": [
                          0.5118273337
                        ]
                      },
                      {
                        "learn": [
                          0.2851652039
                        ],
                        "iteration": 156,
                        "passed_time": 0.4610818336,
                        "remaining_time": 1.007331649,
                        "test": [
                          0.5120454724
                        ]
                      },
                      {
                        "learn": [
                          0.2839839194
                        ],
                        "iteration": 157,
                        "passed_time": 0.4625929998,
                        "remaining_time": 1.001308898,
                        "test": [
                          0.5128113471
                        ]
                      },
                      {
                        "learn": [
                          0.2837284141
                        ],
                        "iteration": 158,
                        "passed_time": 0.463634559,
                        "remaining_time": 0.9943357523,
                        "test": [
                          0.512201738
                        ]
                      },
                      {
                        "learn": [
                          0.282922162
                        ],
                        "iteration": 159,
                        "passed_time": 0.4646483563,
                        "remaining_time": 0.9873777572,
                        "test": [
                          0.5125333001
                        ]
                      },
                      {
                        "learn": [
                          0.2822886043
                        ],
                        "iteration": 160,
                        "passed_time": 0.4657079372,
                        "remaining_time": 0.9805900043,
                        "test": [
                          0.5129060409
                        ]
                      },
                      {
                        "learn": [
                          0.2812222905
                        ],
                        "iteration": 161,
                        "passed_time": 0.4669358047,
                        "remaining_time": 0.9742240864,
                        "test": [
                          0.513125925
                        ]
                      },
                      {
                        "learn": [
                          0.2804506355
                        ],
                        "iteration": 162,
                        "passed_time": 0.4700590452,
                        "remaining_time": 0.9718398665,
                        "test": [
                          0.513436617
                        ]
                      },
                      {
                        "learn": [
                          0.2794300715
                        ],
                        "iteration": 163,
                        "passed_time": 0.4744815061,
                        "remaining_time": 0.9721084515,
                        "test": [
                          0.5138793013
                        ]
                      },
                      {
                        "learn": [
                          0.2783463796
                        ],
                        "iteration": 164,
                        "passed_time": 0.4761096094,
                        "remaining_time": 0.9666467828,
                        "test": [
                          0.5146082586
                        ]
                      },
                      {
                        "learn": [
                          0.2777670225
                        ],
                        "iteration": 165,
                        "passed_time": 0.4806644584,
                        "remaining_time": 0.9671200548,
                        "test": [
                          0.5145512995
                        ]
                      },
                      {
                        "learn": [
                          0.2770168516
                        ],
                        "iteration": 166,
                        "passed_time": 0.482205759,
                        "remaining_time": 0.9615240583,
                        "test": [
                          0.5139629391
                        ]
                      },
                      {
                        "learn": [
                          0.276638137
                        ],
                        "iteration": 167,
                        "passed_time": 0.4837404646,
                        "remaining_time": 0.955963299,
                        "test": [
                          0.514104393
                        ]
                      },
                      {
                        "learn": [
                          0.2755106555
                        ],
                        "iteration": 168,
                        "passed_time": 0.4899622289,
                        "remaining_time": 0.9596301644,
                        "test": [
                          0.5142590005
                        ]
                      },
                      {
                        "learn": [
                          0.2746287452
                        ],
                        "iteration": 169,
                        "passed_time": 0.4923733932,
                        "remaining_time": 0.9557836456,
                        "test": [
                          0.5149474462
                        ]
                      },
                      {
                        "learn": [
                          0.273753643
                        ],
                        "iteration": 170,
                        "passed_time": 0.4940023183,
                        "remaining_time": 0.9504489049,
                        "test": [
                          0.5156775075
                        ]
                      },
                      {
                        "learn": [
                          0.2730324003
                        ],
                        "iteration": 171,
                        "passed_time": 0.495549724,
                        "remaining_time": 0.9450017993,
                        "test": [
                          0.5158451172
                        ]
                      },
                      {
                        "learn": [
                          0.2729590734
                        ],
                        "iteration": 172,
                        "passed_time": 0.4970860695,
                        "remaining_time": 0.9395788712,
                        "test": [
                          0.5158462641
                        ]
                      },
                      {
                        "learn": [
                          0.272447798
                        ],
                        "iteration": 173,
                        "passed_time": 0.4981570378,
                        "remaining_time": 0.933328703,
                        "test": [
                          0.5158444542
                        ]
                      },
                      {
                        "learn": [
                          0.2712568707
                        ],
                        "iteration": 174,
                        "passed_time": 0.4991986161,
                        "remaining_time": 0.9270831442,
                        "test": [
                          0.5160452708
                        ]
                      },
                      {
                        "learn": [
                          0.2705446879
                        ],
                        "iteration": 175,
                        "passed_time": 0.5002481203,
                        "remaining_time": 0.9209113124,
                        "test": [
                          0.5173994728
                        ]
                      },
                      {
                        "learn": [
                          0.2701587677
                        ],
                        "iteration": 176,
                        "passed_time": 0.5012863079,
                        "remaining_time": 0.9147767088,
                        "test": [
                          0.5172619633
                        ]
                      },
                      {
                        "learn": [
                          0.2696403662
                        ],
                        "iteration": 177,
                        "passed_time": 0.5028173401,
                        "remaining_time": 0.9095909186,
                        "test": [
                          0.5170846549
                        ]
                      },
                      {
                        "learn": [
                          0.2686282264
                        ],
                        "iteration": 178,
                        "passed_time": 0.5043298407,
                        "remaining_time": 0.9044127311,
                        "test": [
                          0.5180714644
                        ]
                      },
                      {
                        "learn": [
                          0.2679613961
                        ],
                        "iteration": 179,
                        "passed_time": 0.5057476854,
                        "remaining_time": 0.8991069963,
                        "test": [
                          0.5188277007
                        ]
                      },
                      {
                        "learn": [
                          0.2672742738
                        ],
                        "iteration": 180,
                        "passed_time": 0.5067836296,
                        "remaining_time": 0.8931711482,
                        "test": [
                          0.5187540413
                        ]
                      },
                      {
                        "learn": [
                          0.2666328218
                        ],
                        "iteration": 181,
                        "passed_time": 0.5078226453,
                        "remaining_time": 0.8872945121,
                        "test": [
                          0.5193174128
                        ]
                      },
                      {
                        "learn": [
                          0.2656481001
                        ],
                        "iteration": 182,
                        "passed_time": 0.5088377471,
                        "remaining_time": 0.8814293215,
                        "test": [
                          0.5202820356
                        ]
                      },
                      {
                        "learn": [
                          0.2648714913
                        ],
                        "iteration": 183,
                        "passed_time": 0.5100421743,
                        "remaining_time": 0.875941995,
                        "test": [
                          0.5209984963
                        ]
                      },
                      {
                        "learn": [
                          0.2642430729
                        ],
                        "iteration": 184,
                        "passed_time": 0.5115884546,
                        "remaining_time": 0.8710830444,
                        "test": [
                          0.5218633551
                        ]
                      },
                      {
                        "learn": [
                          0.2635542552
                        ],
                        "iteration": 185,
                        "passed_time": 0.513119944,
                        "remaining_time": 0.8662347442,
                        "test": [
                          0.5225950812
                        ]
                      },
                      {
                        "learn": [
                          0.2630516158
                        ],
                        "iteration": 186,
                        "passed_time": 0.5143128492,
                        "remaining_time": 0.8608551968,
                        "test": [
                          0.5229908218
                        ]
                      },
                      {
                        "learn": [
                          0.2626825968
                        ],
                        "iteration": 187,
                        "passed_time": 0.5157208755,
                        "remaining_time": 0.8558771976,
                        "test": [
                          0.5232003417
                        ]
                      },
                      {
                        "learn": [
                          0.262333605
                        ],
                        "iteration": 188,
                        "passed_time": 0.5167744203,
                        "remaining_time": 0.8503536758,
                        "test": [
                          0.5234988514
                        ]
                      },
                      {
                        "learn": [
                          0.2620004548
                        ],
                        "iteration": 189,
                        "passed_time": 0.5177831589,
                        "remaining_time": 0.8448041013,
                        "test": [
                          0.5235293153
                        ]
                      },
                      {
                        "learn": [
                          0.2613850435
                        ],
                        "iteration": 190,
                        "passed_time": 0.5192223905,
                        "remaining_time": 0.839998527,
                        "test": [
                          0.5243830232
                        ]
                      },
                      {
                        "learn": [
                          0.2604851193
                        ],
                        "iteration": 191,
                        "passed_time": 0.5207490529,
                        "remaining_time": 0.8353682724,
                        "test": [
                          0.5250271998
                        ]
                      },
                      {
                        "learn": [
                          0.2594813241
                        ],
                        "iteration": 192,
                        "passed_time": 0.5223358598,
                        "remaining_time": 0.8308658495,
                        "test": [
                          0.5258941668
                        ]
                      },
                      {
                        "learn": [
                          0.2582306332
                        ],
                        "iteration": 193,
                        "passed_time": 0.5233941507,
                        "remaining_time": 0.8255598459,
                        "test": [
                          0.5268359571
                        ]
                      },
                      {
                        "learn": [
                          0.2577295303
                        ],
                        "iteration": 194,
                        "passed_time": 0.5244025383,
                        "remaining_time": 0.8202193548,
                        "test": [
                          0.5260392555
                        ]
                      },
                      {
                        "learn": [
                          0.2569939295
                        ],
                        "iteration": 195,
                        "passed_time": 0.5254321038,
                        "remaining_time": 0.8149559161,
                        "test": [
                          0.5263798961
                        ]
                      },
                      {
                        "learn": [
                          0.2565677166
                        ],
                        "iteration": 196,
                        "passed_time": 0.5264474565,
                        "remaining_time": 0.8097136006,
                        "test": [
                          0.5269544829
                        ]
                      },
                      {
                        "learn": [
                          0.2561266157
                        ],
                        "iteration": 197,
                        "passed_time": 0.5280034071,
                        "remaining_time": 0.80533853,
                        "test": [
                          0.5271913452
                        ]
                      },
                      {
                        "learn": [
                          0.2555938562
                        ],
                        "iteration": 198,
                        "passed_time": 0.5295271234,
                        "remaining_time": 0.8009430358,
                        "test": [
                          0.5264627492
                        ]
                      },
                      {
                        "learn": [
                          0.2550360892
                        ],
                        "iteration": 199,
                        "passed_time": 0.5310535258,
                        "remaining_time": 0.7965802887,
                        "test": [
                          0.5265599369
                        ]
                      },
                      {
                        "learn": [
                          0.254513979
                        ],
                        "iteration": 200,
                        "passed_time": 0.5324099717,
                        "remaining_time": 0.7919929429,
                        "test": [
                          0.5257515039
                        ]
                      },
                      {
                        "learn": [
                          0.2540453805
                        ],
                        "iteration": 201,
                        "passed_time": 0.5334558861,
                        "remaining_time": 0.7869794755,
                        "test": [
                          0.526584618
                        ]
                      },
                      {
                        "learn": [
                          0.2535523838
                        ],
                        "iteration": 202,
                        "passed_time": 0.5344838762,
                        "remaining_time": 0.781978873,
                        "test": [
                          0.5265349882
                        ]
                      },
                      {
                        "learn": [
                          0.2528007825
                        ],
                        "iteration": 203,
                        "passed_time": 0.535678993,
                        "remaining_time": 0.7772597154,
                        "test": [
                          0.526914883
                        ]
                      },
                      {
                        "learn": [
                          0.2522655593
                        ],
                        "iteration": 204,
                        "passed_time": 0.5372676307,
                        "remaining_time": 0.7731412246,
                        "test": [
                          0.5269179226
                        ]
                      },
                      {
                        "learn": [
                          0.2513919936
                        ],
                        "iteration": 205,
                        "passed_time": 0.5387481824,
                        "remaining_time": 0.768893037,
                        "test": [
                          0.5271522371
                        ]
                      },
                      {
                        "learn": [
                          0.2512594859
                        ],
                        "iteration": 206,
                        "passed_time": 0.5491943655,
                        "remaining_time": 0.7773620729,
                        "test": [
                          0.5273065193
                        ]
                      },
                      {
                        "learn": [
                          0.2506216102
                        ],
                        "iteration": 207,
                        "passed_time": 0.5507114186,
                        "remaining_time": 0.7731141068,
                        "test": [
                          0.5274600229
                        ]
                      },
                      {
                        "learn": [
                          0.2496823205
                        ],
                        "iteration": 208,
                        "passed_time": 0.5540846425,
                        "remaining_time": 0.7714767032,
                        "test": [
                          0.5281189366
                        ]
                      },
                      {
                        "learn": [
                          0.2492217753
                        ],
                        "iteration": 209,
                        "passed_time": 0.5638516809,
                        "remaining_time": 0.7786523213,
                        "test": [
                          0.5274492431
                        ]
                      },
                      {
                        "learn": [
                          0.2485861778
                        ],
                        "iteration": 210,
                        "passed_time": 0.5649764868,
                        "remaining_time": 0.7738303539,
                        "test": [
                          0.5279015962
                        ]
                      },
                      {
                        "learn": [
                          0.2479412821
                        ],
                        "iteration": 211,
                        "passed_time": 0.5661685784,
                        "remaining_time": 0.7691346725,
                        "test": [
                          0.5288827355
                        ]
                      },
                      {
                        "learn": [
                          0.2471087774
                        ],
                        "iteration": 212,
                        "passed_time": 0.5712819968,
                        "remaining_time": 0.7697555544,
                        "test": [
                          0.530350353
                        ]
                      },
                      {
                        "learn": [
                          0.2467396789
                        ],
                        "iteration": 213,
                        "passed_time": 0.5728865371,
                        "remaining_time": 0.7656334094,
                        "test": [
                          0.5299134202
                        ]
                      },
                      {
                        "learn": [
                          0.2462946044
                        ],
                        "iteration": 214,
                        "passed_time": 0.5744396352,
                        "remaining_time": 0.7614664931,
                        "test": [
                          0.5310421115
                        ]
                      },
                      {
                        "learn": [
                          0.2460043695
                        ],
                        "iteration": 215,
                        "passed_time": 0.5785462095,
                        "remaining_time": 0.7606811272,
                        "test": [
                          0.5310664056
                        ]
                      },
                      {
                        "learn": [
                          0.2456651529
                        ],
                        "iteration": 216,
                        "passed_time": 0.5825157487,
                        "remaining_time": 0.7596864373,
                        "test": [
                          0.5317226314
                        ]
                      },
                      {
                        "learn": [
                          0.2450216611
                        ],
                        "iteration": 217,
                        "passed_time": 0.5840549822,
                        "remaining_time": 0.755520665,
                        "test": [
                          0.532397474
                        ]
                      },
                      {
                        "learn": [
                          0.2444365289
                        ],
                        "iteration": 218,
                        "passed_time": 0.5855870761,
                        "remaining_time": 0.7513697187,
                        "test": [
                          0.5325381127
                        ]
                      },
                      {
                        "learn": [
                          0.2437701225
                        ],
                        "iteration": 219,
                        "passed_time": 0.5914225893,
                        "remaining_time": 0.7527196591,
                        "test": [
                          0.5325319701
                        ]
                      },
                      {
                        "learn": [
                          0.2427058485
                        ],
                        "iteration": 220,
                        "passed_time": 0.5926535584,
                        "remaining_time": 0.7481915964,
                        "test": [
                          0.5323517985
                        ]
                      },
                      {
                        "learn": [
                          0.2423800362
                        ],
                        "iteration": 221,
                        "passed_time": 0.5941640137,
                        "remaining_time": 0.7440432244,
                        "test": [
                          0.5325927054
                        ]
                      },
                      {
                        "learn": [
                          0.2420466741
                        ],
                        "iteration": 222,
                        "passed_time": 0.5956784051,
                        "remaining_time": 0.7399234001,
                        "test": [
                          0.5326676373
                        ]
                      },
                      {
                        "learn": [
                          0.241651588
                        ],
                        "iteration": 223,
                        "passed_time": 0.5970379308,
                        "remaining_time": 0.7356360219,
                        "test": [
                          0.5328884037
                        ]
                      },
                      {
                        "learn": [
                          0.2414619393
                        ],
                        "iteration": 224,
                        "passed_time": 0.5980657681,
                        "remaining_time": 0.7309692722,
                        "test": [
                          0.5330518052
                        ]
                      },
                      {
                        "learn": [
                          0.2413093514
                        ],
                        "iteration": 225,
                        "passed_time": 0.5991106172,
                        "remaining_time": 0.72635535,
                        "test": [
                          0.532920285
                        ]
                      },
                      {
                        "learn": [
                          0.2407955594
                        ],
                        "iteration": 226,
                        "passed_time": 0.6001371101,
                        "remaining_time": 0.7217507976,
                        "test": [
                          0.5328478605
                        ]
                      },
                      {
                        "learn": [
                          0.2397155232
                        ],
                        "iteration": 227,
                        "passed_time": 0.601340391,
                        "remaining_time": 0.7173885366,
                        "test": [
                          0.5327499101
                        ]
                      },
                      {
                        "learn": [
                          0.2396357059
                        ],
                        "iteration": 228,
                        "passed_time": 0.6028149367,
                        "remaining_time": 0.7133748814,
                        "test": [
                          0.532652136
                        ]
                      },
                      {
                        "learn": [
                          0.2389092445
                        ],
                        "iteration": 229,
                        "passed_time": 0.6041533455,
                        "remaining_time": 0.7092234925,
                        "test": [
                          0.5322347468
                        ]
                      },
                      {
                        "learn": [
                          0.2385511398
                        ],
                        "iteration": 230,
                        "passed_time": 0.6056054517,
                        "remaining_time": 0.7052288593,
                        "test": [
                          0.5328822872
                        ]
                      },
                      {
                        "learn": [
                          0.2379128668
                        ],
                        "iteration": 231,
                        "passed_time": 0.6066343463,
                        "remaining_time": 0.7007672621,
                        "test": [
                          0.5315640404
                        ]
                      },
                      {
                        "learn": [
                          0.2376588451
                        ],
                        "iteration": 232,
                        "passed_time": 0.6076477391,
                        "remaining_time": 0.6963173663,
                        "test": [
                          0.5312620908
                        ]
                      },
                      {
                        "learn": [
                          0.2368142075
                        ],
                        "iteration": 233,
                        "passed_time": 0.6091562027,
                        "remaining_time": 0.692459615,
                        "test": [
                          0.5328134167
                        ]
                      },
                      {
                        "learn": [
                          0.2363422712
                        ],
                        "iteration": 234,
                        "passed_time": 0.6106961397,
                        "remaining_time": 0.6886573491,
                        "test": [
                          0.5322042571
                        ]
                      },
                      {
                        "learn": [
                          0.2358331945
                        ],
                        "iteration": 235,
                        "passed_time": 0.6120903041,
                        "remaining_time": 0.6847111877,
                        "test": [
                          0.5327803148
                        ]
                      },
                      {
                        "learn": [
                          0.2353709009
                        ],
                        "iteration": 236,
                        "passed_time": 0.6131156798,
                        "remaining_time": 0.6803773156,
                        "test": [
                          0.5328848296
                        ]
                      },
                      {
                        "learn": [
                          0.2343850666
                        ],
                        "iteration": 237,
                        "passed_time": 0.6141551165,
                        "remaining_time": 0.6760867249,
                        "test": [
                          0.5331034851
                        ]
                      },
                      {
                        "learn": [
                          0.2328792678
                        ],
                        "iteration": 238,
                        "passed_time": 0.6151827675,
                        "remaining_time": 0.6718104699,
                        "test": [
                          0.5326327248
                        ]
                      },
                      {
                        "learn": [
                          0.2326378293
                        ],
                        "iteration": 239,
                        "passed_time": 0.6162454727,
                        "remaining_time": 0.6675992621,
                        "test": [
                          0.5323556733
                        ]
                      },
                      {
                        "learn": [
                          0.2311242951
                        ],
                        "iteration": 240,
                        "passed_time": 0.6177426215,
                        "remaining_time": 0.6638810746,
                        "test": [
                          0.5323682715
                        ]
                      },
                      {
                        "learn": [
                          0.2306647566
                        ],
                        "iteration": 241,
                        "passed_time": 0.6193166501,
                        "remaining_time": 0.6602632055,
                        "test": [
                          0.5318717469
                        ]
                      },
                      {
                        "learn": [
                          0.2303474214
                        ],
                        "iteration": 242,
                        "passed_time": 0.6206258353,
                        "remaining_time": 0.6563820562,
                        "test": [
                          0.530924088
                        ]
                      },
                      {
                        "learn": [
                          0.2291463481
                        ],
                        "iteration": 243,
                        "passed_time": 0.6218536319,
                        "remaining_time": 0.6524365974,
                        "test": [
                          0.5320060713
                        ]
                      },
                      {
                        "learn": [
                          0.2290022108
                        ],
                        "iteration": 244,
                        "passed_time": 0.6228676883,
                        "remaining_time": 0.6482908593,
                        "test": [
                          0.5321162466
                        ]
                      },
                      {
                        "learn": [
                          0.2285267512
                        ],
                        "iteration": 245,
                        "passed_time": 0.623918966,
                        "remaining_time": 0.6442090137,
                        "test": [
                          0.5327286667
                        ]
                      },
                      {
                        "learn": [
                          0.2280097008
                        ],
                        "iteration": 246,
                        "passed_time": 0.6250940205,
                        "remaining_time": 0.6402784907,
                        "test": [
                          0.5326055304
                        ]
                      },
                      {
                        "learn": [
                          0.2274287012
                        ],
                        "iteration": 247,
                        "passed_time": 0.6266458568,
                        "remaining_time": 0.6367530481,
                        "test": [
                          0.5327426609
                        ]
                      },
                      {
                        "learn": [
                          0.226799753
                        ],
                        "iteration": 248,
                        "passed_time": 0.6281495571,
                        "remaining_time": 0.6331949351,
                        "test": [
                          0.5335628329
                        ]
                      },
                      {
                        "learn": [
                          0.2261034913
                        ],
                        "iteration": 249,
                        "passed_time": 0.6292865931,
                        "remaining_time": 0.6292865931,
                        "test": [
                          0.5339055262
                        ]
                      },
                      {
                        "learn": [
                          0.2253113323
                        ],
                        "iteration": 250,
                        "passed_time": 0.6303253543,
                        "remaining_time": 0.6253028415,
                        "test": [
                          0.5349397291
                        ]
                      },
                      {
                        "learn": [
                          0.2244242032
                        ],
                        "iteration": 251,
                        "passed_time": 0.6313569105,
                        "remaining_time": 0.6213353722,
                        "test": [
                          0.536119275
                        ]
                      },
                      {
                        "learn": [
                          0.2237731616
                        ],
                        "iteration": 252,
                        "passed_time": 0.6323908048,
                        "remaining_time": 0.6173933944,
                        "test": [
                          0.5353963144
                        ]
                      },
                      {
                        "learn": [
                          0.2228029304
                        ],
                        "iteration": 253,
                        "passed_time": 0.6338087704,
                        "remaining_time": 0.6138462894,
                        "test": [
                          0.5365387242
                        ]
                      },
                      {
                        "learn": [
                          0.222127835
                        ],
                        "iteration": 254,
                        "passed_time": 0.6356375821,
                        "remaining_time": 0.6107106181,
                        "test": [
                          0.5372714772
                        ]
                      },
                      {
                        "learn": [
                          0.2217201922
                        ],
                        "iteration": 255,
                        "passed_time": 0.6374357893,
                        "remaining_time": 0.6075559867,
                        "test": [
                          0.5373438932
                        ]
                      },
                      {
                        "learn": [
                          0.2215071784
                        ],
                        "iteration": 256,
                        "passed_time": 0.6388163591,
                        "remaining_time": 0.6040170244,
                        "test": [
                          0.5376092461
                        ]
                      },
                      {
                        "learn": [
                          0.2203856972
                        ],
                        "iteration": 257,
                        "passed_time": 0.6398892809,
                        "remaining_time": 0.6002062247,
                        "test": [
                          0.5382916884
                        ]
                      },
                      {
                        "learn": [
                          0.2198457056
                        ],
                        "iteration": 258,
                        "passed_time": 0.6409229661,
                        "remaining_time": 0.5963800573,
                        "test": [
                          0.5394802837
                        ]
                      },
                      {
                        "learn": [
                          0.2195161581
                        ],
                        "iteration": 259,
                        "passed_time": 0.642159544,
                        "remaining_time": 0.592762656,
                        "test": [
                          0.5392529216
                        ]
                      },
                      {
                        "learn": [
                          0.2182832294
                        ],
                        "iteration": 260,
                        "passed_time": 0.6436900535,
                        "remaining_time": 0.5894326543,
                        "test": [
                          0.5389243783
                        ]
                      },
                      {
                        "learn": [
                          0.2172069682
                        ],
                        "iteration": 261,
                        "passed_time": 0.6452515656,
                        "remaining_time": 0.5861445519,
                        "test": [
                          0.5393382372
                        ]
                      },
                      {
                        "learn": [
                          0.2167154948
                        ],
                        "iteration": 262,
                        "passed_time": 0.6504131055,
                        "remaining_time": 0.5861137111,
                        "test": [
                          0.5396618773
                        ]
                      },
                      {
                        "learn": [
                          0.2155328327
                        ],
                        "iteration": 263,
                        "passed_time": 0.6519652346,
                        "remaining_time": 0.5828174067,
                        "test": [
                          0.539317681
                        ]
                      },
                      {
                        "learn": [
                          0.2147783836
                        ],
                        "iteration": 264,
                        "passed_time": 0.6534863864,
                        "remaining_time": 0.5795067955,
                        "test": [
                          0.5384007796
                        ]
                      },
                      {
                        "learn": [
                          0.2147262626
                        ],
                        "iteration": 265,
                        "passed_time": 0.6582892235,
                        "remaining_time": 0.5790965349,
                        "test": [
                          0.5382976437
                        ]
                      },
                      {
                        "learn": [
                          0.2143138117
                        ],
                        "iteration": 266,
                        "passed_time": 0.6617428305,
                        "remaining_time": 0.5774759532,
                        "test": [
                          0.5376866805
                        ]
                      },
                      {
                        "learn": [
                          0.2141785489
                        ],
                        "iteration": 267,
                        "passed_time": 0.6632807495,
                        "remaining_time": 0.5741833354,
                        "test": [
                          0.5379714791
                        ]
                      },
                      {
                        "learn": [
                          0.2139568594
                        ],
                        "iteration": 268,
                        "passed_time": 0.6677972354,
                        "remaining_time": 0.5734615665,
                        "test": [
                          0.5377647579
                        ]
                      },
                      {
                        "learn": [
                          0.2128561603
                        ],
                        "iteration": 269,
                        "passed_time": 0.6693574103,
                        "remaining_time": 0.5701933495,
                        "test": [
                          0.538439897
                        ]
                      },
                      {
                        "learn": [
                          0.2125258578
                        ],
                        "iteration": 270,
                        "passed_time": 0.6708904233,
                        "remaining_time": 0.5669147857,
                        "test": [
                          0.5388891934
                        ]
                      },
                      {
                        "learn": [
                          0.2120684915
                        ],
                        "iteration": 271,
                        "passed_time": 0.6755682926,
                        "remaining_time": 0.5662851865,
                        "test": [
                          0.5401037398
                        ]
                      },
                      {
                        "learn": [
                          0.2111531893
                        ],
                        "iteration": 272,
                        "passed_time": 0.6854743733,
                        "remaining_time": 0.5699731968,
                        "test": [
                          0.5410175265
                        ]
                      },
                      {
                        "learn": [
                          0.2102239529
                        ],
                        "iteration": 273,
                        "passed_time": 0.6865879934,
                        "remaining_time": 0.5663098048,
                        "test": [
                          0.5404534599
                        ]
                      },
                      {
                        "learn": [
                          0.2099106444
                        ],
                        "iteration": 274,
                        "passed_time": 0.6876395857,
                        "remaining_time": 0.5626142065,
                        "test": [
                          0.5409015092
                        ]
                      },
                      {
                        "learn": [
                          0.2091559437
                        ],
                        "iteration": 275,
                        "passed_time": 0.6886970875,
                        "remaining_time": 0.5589425638,
                        "test": [
                          0.5419495244
                        ]
                      },
                      {
                        "learn": [
                          0.2084669405
                        ],
                        "iteration": 276,
                        "passed_time": 0.6902338666,
                        "remaining_time": 0.5556756399,
                        "test": [
                          0.5424925783
                        ]
                      },
                      {
                        "learn": [
                          0.2077627314
                        ],
                        "iteration": 277,
                        "passed_time": 0.6989767865,
                        "remaining_time": 0.5581757072,
                        "test": [
                          0.5421447705
                        ]
                      },
                      {
                        "learn": [
                          0.2068940798
                        ],
                        "iteration": 278,
                        "passed_time": 0.7000765094,
                        "remaining_time": 0.554540891,
                        "test": [
                          0.5422575745
                        ]
                      },
                      {
                        "learn": [
                          0.2064077987
                        ],
                        "iteration": 279,
                        "passed_time": 0.7011668819,
                        "remaining_time": 0.5509168358,
                        "test": [
                          0.5415902531
                        ]
                      },
                      {
                        "learn": [
                          0.2060922517
                        ],
                        "iteration": 280,
                        "passed_time": 0.7087095835,
                        "remaining_time": 0.5523394975,
                        "test": [
                          0.5410263646
                        ]
                      },
                      {
                        "learn": [
                          0.2055359946
                        ],
                        "iteration": 281,
                        "passed_time": 0.7099470477,
                        "remaining_time": 0.5488243135,
                        "test": [
                          0.541474101
                        ]
                      },
                      {
                        "learn": [
                          0.2048714691
                        ],
                        "iteration": 282,
                        "passed_time": 0.7110364785,
                        "remaining_time": 0.5452117167,
                        "test": [
                          0.5425141341
                        ]
                      },
                      {
                        "learn": [
                          0.2045822806
                        ],
                        "iteration": 283,
                        "passed_time": 0.7120843946,
                        "remaining_time": 0.5415853142,
                        "test": [
                          0.5430297445
                        ]
                      },
                      {
                        "learn": [
                          0.2039104038
                        ],
                        "iteration": 284,
                        "passed_time": 0.7131233022,
                        "remaining_time": 0.5379702104,
                        "test": [
                          0.5432722161
                        ]
                      },
                      {
                        "learn": [
                          0.2036150164
                        ],
                        "iteration": 285,
                        "passed_time": 0.7146409397,
                        "remaining_time": 0.5347313325,
                        "test": [
                          0.5433594001
                        ]
                      },
                      {
                        "learn": [
                          0.2033881346
                        ],
                        "iteration": 286,
                        "passed_time": 0.7172971168,
                        "remaining_time": 0.5323494282,
                        "test": [
                          0.5436132122
                        ]
                      },
                      {
                        "learn": [
                          0.2030042675
                        ],
                        "iteration": 287,
                        "passed_time": 0.7183906773,
                        "remaining_time": 0.5288153597,
                        "test": [
                          0.5443781146
                        ]
                      },
                      {
                        "learn": [
                          0.2021652328
                        ],
                        "iteration": 288,
                        "passed_time": 0.7243116497,
                        "remaining_time": 0.5288226923,
                        "test": [
                          0.545562189
                        ]
                      },
                      {
                        "learn": [
                          0.2012646728
                        ],
                        "iteration": 289,
                        "passed_time": 0.7254367118,
                        "remaining_time": 0.5253162396,
                        "test": [
                          0.5456036548
                        ]
                      },
                      {
                        "learn": [
                          0.1998329825
                        ],
                        "iteration": 290,
                        "passed_time": 0.7265069147,
                        "remaining_time": 0.5217867532,
                        "test": [
                          0.5457205847
                        ]
                      },
                      {
                        "learn": [
                          0.1995274756
                        ],
                        "iteration": 291,
                        "passed_time": 0.7275247918,
                        "remaining_time": 0.518236838,
                        "test": [
                          0.5463095912
                        ]
                      },
                      {
                        "learn": [
                          0.1993151771
                        ],
                        "iteration": 292,
                        "passed_time": 0.7289122503,
                        "remaining_time": 0.5149653099,
                        "test": [
                          0.5462987047
                        ]
                      },
                      {
                        "learn": [
                          0.1985361311
                        ],
                        "iteration": 293,
                        "passed_time": 0.730442158,
                        "remaining_time": 0.51180641,
                        "test": [
                          0.5466765401
                        ]
                      },
                      {
                        "learn": [
                          0.1984232399
                        ],
                        "iteration": 294,
                        "passed_time": 0.7319452801,
                        "remaining_time": 0.5086399404,
                        "test": [
                          0.5469419317
                        ]
                      },
                      {
                        "learn": [
                          0.1973061694
                        ],
                        "iteration": 295,
                        "passed_time": 0.7344858935,
                        "remaining_time": 0.5061997374,
                        "test": [
                          0.5470766168
                        ]
                      },
                      {
                        "learn": [
                          0.1966617902
                        ],
                        "iteration": 296,
                        "passed_time": 0.7359944216,
                        "remaining_time": 0.5030534262,
                        "test": [
                          0.5479095687
                        ]
                      },
                      {
                        "learn": [
                          0.1963736084
                        ],
                        "iteration": 297,
                        "passed_time": 0.7375061504,
                        "remaining_time": 0.4999202765,
                        "test": [
                          0.5470591313
                        ]
                      },
                      {
                        "learn": [
                          0.1955041356
                        ],
                        "iteration": 298,
                        "passed_time": 0.7424387566,
                        "remaining_time": 0.4990976257,
                        "test": [
                          0.5479062962
                        ]
                      },
                      {
                        "learn": [
                          0.1945818
                        ],
                        "iteration": 299,
                        "passed_time": 0.7455255612,
                        "remaining_time": 0.4970170408,
                        "test": [
                          0.5489285873
                        ]
                      },
                      {
                        "learn": [
                          0.1942727831
                        ],
                        "iteration": 300,
                        "passed_time": 0.7471116108,
                        "remaining_time": 0.4939375766,
                        "test": [
                          0.5495859245
                        ]
                      },
                      {
                        "learn": [
                          0.1938554181
                        ],
                        "iteration": 301,
                        "passed_time": 0.7486575984,
                        "remaining_time": 0.4908417367,
                        "test": [
                          0.5505058195
                        ]
                      },
                      {
                        "learn": [
                          0.1936423911
                        ],
                        "iteration": 302,
                        "passed_time": 0.7544413385,
                        "remaining_time": 0.4905113653,
                        "test": [
                          0.5502572787
                        ]
                      },
                      {
                        "learn": [
                          0.1925055981
                        ],
                        "iteration": 303,
                        "passed_time": 0.7559964082,
                        "remaining_time": 0.4874187369,
                        "test": [
                          0.5503201707
                        ]
                      },
                      {
                        "learn": [
                          0.1917572419
                        ],
                        "iteration": 304,
                        "passed_time": 0.7686771194,
                        "remaining_time": 0.4914493058,
                        "test": [
                          0.550154874
                        ]
                      },
                      {
                        "learn": [
                          0.1908830404
                        ],
                        "iteration": 305,
                        "passed_time": 0.7756492985,
                        "remaining_time": 0.4917515161,
                        "test": [
                          0.5502858492
                        ]
                      },
                      {
                        "learn": [
                          0.1906612184
                        ],
                        "iteration": 306,
                        "passed_time": 0.7789384241,
                        "remaining_time": 0.4896909311,
                        "test": [
                          0.5505157102
                        ]
                      },
                      {
                        "learn": [
                          0.1899216175
                        ],
                        "iteration": 307,
                        "passed_time": 0.7805622705,
                        "remaining_time": 0.4865842725,
                        "test": [
                          0.5501876147
                        ]
                      },
                      {
                        "learn": [
                          0.1891627577
                        ],
                        "iteration": 308,
                        "passed_time": 0.7821386534,
                        "remaining_time": 0.4834578732,
                        "test": [
                          0.5507918255
                        ]
                      },
                      {
                        "learn": [
                          0.1884333955
                        ],
                        "iteration": 309,
                        "passed_time": 0.7876412129,
                        "remaining_time": 0.4827478402,
                        "test": [
                          0.551449295
                        ]
                      },
                      {
                        "learn": [
                          0.1876411703
                        ],
                        "iteration": 310,
                        "passed_time": 0.7901856779,
                        "remaining_time": 0.4802093026,
                        "test": [
                          0.5515648216
                        ]
                      },
                      {
                        "learn": [
                          0.1874978013
                        ],
                        "iteration": 311,
                        "passed_time": 0.7917317155,
                        "remaining_time": 0.4770691106,
                        "test": [
                          0.5515001255
                        ]
                      },
                      {
                        "learn": [
                          0.1870096657
                        ],
                        "iteration": 312,
                        "passed_time": 0.7934389084,
                        "remaining_time": 0.4740353862,
                        "test": [
                          0.5520748064
                        ]
                      },
                      {
                        "learn": [
                          0.1868902842
                        ],
                        "iteration": 313,
                        "passed_time": 0.7986558786,
                        "remaining_time": 0.473089151,
                        "test": [
                          0.5519831849
                        ]
                      },
                      {
                        "learn": [
                          0.1864296065
                        ],
                        "iteration": 314,
                        "passed_time": 0.8002448171,
                        "remaining_time": 0.4699850513,
                        "test": [
                          0.5526741693
                        ]
                      },
                      {
                        "learn": [
                          0.1855427292
                        ],
                        "iteration": 315,
                        "passed_time": 0.8017558924,
                        "remaining_time": 0.4668452031,
                        "test": [
                          0.5532321234
                        ]
                      },
                      {
                        "learn": [
                          0.1854444345
                        ],
                        "iteration": 316,
                        "passed_time": 0.8054598601,
                        "remaining_time": 0.4649815596,
                        "test": [
                          0.5528471417
                        ]
                      },
                      {
                        "learn": [
                          0.1844514211
                        ],
                        "iteration": 317,
                        "passed_time": 0.806545772,
                        "remaining_time": 0.4616079576,
                        "test": [
                          0.5530022528
                        ]
                      },
                      {
                        "learn": [
                          0.1833809482
                        ],
                        "iteration": 318,
                        "passed_time": 0.8075930318,
                        "remaining_time": 0.4582267672,
                        "test": [
                          0.5526604298
                        ]
                      },
                      {
                        "learn": [
                          0.1823271645
                        ],
                        "iteration": 319,
                        "passed_time": 0.8090851809,
                        "remaining_time": 0.4551104143,
                        "test": [
                          0.5524146841
                        ]
                      },
                      {
                        "learn": [
                          0.1816275782
                        ],
                        "iteration": 320,
                        "passed_time": 0.8101310572,
                        "remaining_time": 0.4517553247,
                        "test": [
                          0.5526504359
                        ]
                      },
                      {
                        "learn": [
                          0.1813121902
                        ],
                        "iteration": 321,
                        "passed_time": 0.8116687871,
                        "remaining_time": 0.4486864724,
                        "test": [
                          0.5524173681
                        ]
                      },
                      {
                        "learn": [
                          0.1808326112
                        ],
                        "iteration": 322,
                        "passed_time": 0.8131680949,
                        "remaining_time": 0.4456060458,
                        "test": [
                          0.5518368631
                        ]
                      },
                      {
                        "learn": [
                          0.1805437936
                        ],
                        "iteration": 323,
                        "passed_time": 0.8146781838,
                        "remaining_time": 0.4425412357,
                        "test": [
                          0.5516522662
                        ]
                      },
                      {
                        "learn": [
                          0.1796547307
                        ],
                        "iteration": 324,
                        "passed_time": 0.8157636103,
                        "remaining_time": 0.4392573286,
                        "test": [
                          0.5524053046
                        ]
                      },
                      {
                        "learn": [
                          0.1795374817
                        ],
                        "iteration": 325,
                        "passed_time": 0.8168035697,
                        "remaining_time": 0.4359626415,
                        "test": [
                          0.5521482571
                        ]
                      },
                      {
                        "learn": [
                          0.1792085833
                        ],
                        "iteration": 326,
                        "passed_time": 0.8178117046,
                        "remaining_time": 0.4326649079,
                        "test": [
                          0.5522777569
                        ]
                      },
                      {
                        "learn": [
                          0.1786151992
                        ],
                        "iteration": 327,
                        "passed_time": 0.8188183251,
                        "remaining_time": 0.4293803412,
                        "test": [
                          0.5515399369
                        ]
                      },
                      {
                        "learn": [
                          0.1777970393
                        ],
                        "iteration": 328,
                        "passed_time": 0.8202044718,
                        "remaining_time": 0.4263068835,
                        "test": [
                          0.5522690898
                        ]
                      },
                      {
                        "learn": [
                          0.1775686079
                        ],
                        "iteration": 329,
                        "passed_time": 0.8216999317,
                        "remaining_time": 0.4232999648,
                        "test": [
                          0.5523788669
                        ]
                      },
                      {
                        "learn": [
                          0.1771322886
                        ],
                        "iteration": 330,
                        "passed_time": 0.8228168162,
                        "remaining_time": 0.420108888,
                        "test": [
                          0.552960678
                        ]
                      },
                      {
                        "learn": [
                          0.1761449973
                        ],
                        "iteration": 331,
                        "passed_time": 0.8238515413,
                        "remaining_time": 0.4168887318,
                        "test": [
                          0.5529370109
                        ]
                      },
                      {
                        "learn": [
                          0.1754649613
                        ],
                        "iteration": 332,
                        "passed_time": 0.8248813749,
                        "remaining_time": 0.4136792481,
                        "test": [
                          0.5530094039
                        ]
                      },
                      {
                        "learn": [
                          0.1748078929
                        ],
                        "iteration": 333,
                        "passed_time": 0.8264264099,
                        "remaining_time": 0.4107388744,
                        "test": [
                          0.5536846661
                        ]
                      },
                      {
                        "learn": [
                          0.1742929882
                        ],
                        "iteration": 334,
                        "passed_time": 0.8280022374,
                        "remaining_time": 0.4078219975,
                        "test": [
                          0.5539026724
                        ]
                      },
                      {
                        "learn": [
                          0.1741263602
                        ],
                        "iteration": 335,
                        "passed_time": 0.8291802663,
                        "remaining_time": 0.4047189395,
                        "test": [
                          0.5542569999
                        ]
                      },
                      {
                        "learn": [
                          0.1735528575
                        ],
                        "iteration": 336,
                        "passed_time": 0.830275763,
                        "remaining_time": 0.4015873869,
                        "test": [
                          0.5545652969
                        ]
                      },
                      {
                        "learn": [
                          0.1727106571
                        ],
                        "iteration": 337,
                        "passed_time": 0.8313329485,
                        "remaining_time": 0.3984495197,
                        "test": [
                          0.5555158873
                        ]
                      },
                      {
                        "learn": [
                          0.1723376645
                        ],
                        "iteration": 338,
                        "passed_time": 0.8323842353,
                        "remaining_time": 0.3953211265,
                        "test": [
                          0.5558484164
                        ]
                      },
                      {
                        "learn": [
                          0.1715153323
                        ],
                        "iteration": 339,
                        "passed_time": 0.8339351817,
                        "remaining_time": 0.3924400855,
                        "test": [
                          0.5572694754
                        ]
                      },
                      {
                        "learn": [
                          0.1710335149
                        ],
                        "iteration": 340,
                        "passed_time": 0.8354744043,
                        "remaining_time": 0.3895613791,
                        "test": [
                          0.5572351725
                        ]
                      },
                      {
                        "learn": [
                          0.1707162857
                        ],
                        "iteration": 341,
                        "passed_time": 0.8370444531,
                        "remaining_time": 0.3867047473,
                        "test": [
                          0.5571035765
                        ]
                      },
                      {
                        "learn": [
                          0.1705112987
                        ],
                        "iteration": 342,
                        "passed_time": 0.8381003233,
                        "remaining_time": 0.3836202646,
                        "test": [
                          0.5573363373
                        ]
                      },
                      {
                        "learn": [
                          0.1698520978
                        ],
                        "iteration": 343,
                        "passed_time": 0.8391746277,
                        "remaining_time": 0.3805559358,
                        "test": [
                          0.5582327065
                        ]
                      },
                      {
                        "learn": [
                          0.1696433491
                        ],
                        "iteration": 344,
                        "passed_time": 0.8401935456,
                        "remaining_time": 0.3774782596,
                        "test": [
                          0.558650689
                        ]
                      },
                      {
                        "learn": [
                          0.1691613727
                        ],
                        "iteration": 345,
                        "passed_time": 0.8411972091,
                        "remaining_time": 0.3744056942,
                        "test": [
                          0.5599434816
                        ]
                      },
                      {
                        "learn": [
                          0.1685476568
                        ],
                        "iteration": 346,
                        "passed_time": 0.8424785669,
                        "remaining_time": 0.3714674949,
                        "test": [
                          0.5611230796
                        ]
                      },
                      {
                        "learn": [
                          0.1682537662
                        ],
                        "iteration": 347,
                        "passed_time": 0.8439565588,
                        "remaining_time": 0.3686247038,
                        "test": [
                          0.5603307208
                        ]
                      },
                      {
                        "learn": [
                          0.167809142
                        ],
                        "iteration": 348,
                        "passed_time": 0.8455131166,
                        "remaining_time": 0.3658237267,
                        "test": [
                          0.5604037167
                        ]
                      },
                      {
                        "learn": [
                          0.1672954294
                        ],
                        "iteration": 349,
                        "passed_time": 0.8470796502,
                        "remaining_time": 0.3630341358,
                        "test": [
                          0.5612259068
                        ]
                      },
                      {
                        "learn": [
                          0.1667175161
                        ],
                        "iteration": 350,
                        "passed_time": 0.8481520784,
                        "remaining_time": 0.3600417655,
                        "test": [
                          0.5611201102
                        ]
                      },
                      {
                        "learn": [
                          0.1663958497
                        ],
                        "iteration": 351,
                        "passed_time": 0.8491933522,
                        "remaining_time": 0.3570472049,
                        "test": [
                          0.5613078341
                        ]
                      },
                      {
                        "learn": [
                          0.1658585866
                        ],
                        "iteration": 352,
                        "passed_time": 0.8502314289,
                        "remaining_time": 0.3540623797,
                        "test": [
                          0.5623605828
                        ]
                      },
                      {
                        "learn": [
                          0.1653067536
                        ],
                        "iteration": 353,
                        "passed_time": 0.8512691038,
                        "remaining_time": 0.3510883875,
                        "test": [
                          0.5622573563
                        ]
                      },
                      {
                        "learn": [
                          0.1648531225
                        ],
                        "iteration": 354,
                        "passed_time": 0.8528183394,
                        "remaining_time": 0.3483342513,
                        "test": [
                          0.5625484302
                        ]
                      },
                      {
                        "learn": [
                          0.1643426418
                        ],
                        "iteration": 355,
                        "passed_time": 0.8543845703,
                        "remaining_time": 0.3455937588,
                        "test": [
                          0.5630194865
                        ]
                      },
                      {
                        "learn": [
                          0.164012644
                        ],
                        "iteration": 356,
                        "passed_time": 0.8559277235,
                        "remaining_time": 0.3428506007,
                        "test": [
                          0.563184992
                        ]
                      },
                      {
                        "learn": [
                          0.1637513505
                        ],
                        "iteration": 357,
                        "passed_time": 0.8571286946,
                        "remaining_time": 0.3399784208,
                        "test": [
                          0.5630831437
                        ]
                      },
                      {
                        "learn": [
                          0.1634287172
                        ],
                        "iteration": 358,
                        "passed_time": 0.8582700494,
                        "remaining_time": 0.3370921364,
                        "test": [
                          0.5628228769
                        ]
                      },
                      {
                        "learn": [
                          0.1631304158
                        ],
                        "iteration": 359,
                        "passed_time": 0.8593721139,
                        "remaining_time": 0.3342002665,
                        "test": [
                          0.563360986
                        ]
                      },
                      {
                        "learn": [
                          0.1626768377
                        ],
                        "iteration": 360,
                        "passed_time": 0.8606961827,
                        "remaining_time": 0.3314037933,
                        "test": [
                          0.563780361
                        ]
                      },
                      {
                        "learn": [
                          0.16251919
                        ],
                        "iteration": 361,
                        "passed_time": 0.8622705358,
                        "remaining_time": 0.3287108672,
                        "test": [
                          0.5642135972
                        ]
                      },
                      {
                        "learn": [
                          0.1620955467
                        ],
                        "iteration": 362,
                        "passed_time": 0.863394898,
                        "remaining_time": 0.3258542728,
                        "test": [
                          0.5648250393
                        ]
                      },
                      {
                        "learn": [
                          0.1613659991
                        ],
                        "iteration": 363,
                        "passed_time": 0.8645004014,
                        "remaining_time": 0.32300015,
                        "test": [
                          0.5651124739
                        ]
                      },
                      {
                        "learn": [
                          0.1611898078
                        ],
                        "iteration": 364,
                        "passed_time": 0.865952504,
                        "remaining_time": 0.3202838028,
                        "test": [
                          0.5652140576
                        ]
                      },
                      {
                        "learn": [
                          0.161086811
                        ],
                        "iteration": 365,
                        "passed_time": 0.8674795837,
                        "remaining_time": 0.3176018148,
                        "test": [
                          0.5650146538
                        ]
                      },
                      {
                        "learn": [
                          0.1601593362
                        ],
                        "iteration": 366,
                        "passed_time": 0.86904605,
                        "remaining_time": 0.3149403941,
                        "test": [
                          0.565284261
                        ]
                      },
                      {
                        "learn": [
                          0.1600194507
                        ],
                        "iteration": 367,
                        "passed_time": 0.8701323491,
                        "remaining_time": 0.3121126904,
                        "test": [
                          0.5651664611
                        ]
                      },
                      {
                        "learn": [
                          0.1598902014
                        ],
                        "iteration": 368,
                        "passed_time": 0.8712041901,
                        "remaining_time": 0.3092892924,
                        "test": [
                          0.5653175429
                        ]
                      },
                      {
                        "learn": [
                          0.159221424
                        ],
                        "iteration": 369,
                        "passed_time": 0.8723639583,
                        "remaining_time": 0.3065062556,
                        "test": [
                          0.565911075
                        ]
                      },
                      {
                        "learn": [
                          0.1589558787
                        ],
                        "iteration": 370,
                        "passed_time": 0.8734481358,
                        "remaining_time": 0.303705686,
                        "test": [
                          0.5657003527
                        ]
                      },
                      {
                        "learn": [
                          0.1587862306
                        ],
                        "iteration": 371,
                        "passed_time": 0.8750043909,
                        "remaining_time": 0.3010767797,
                        "test": [
                          0.5655679237
                        ]
                      },
                      {
                        "learn": [
                          0.1583692763
                        ],
                        "iteration": 372,
                        "passed_time": 0.8766702991,
                        "remaining_time": 0.2984909598,
                        "test": [
                          0.5662214307
                        ]
                      },
                      {
                        "learn": [
                          0.1581575606
                        ],
                        "iteration": 373,
                        "passed_time": 0.8782473793,
                        "remaining_time": 0.2958801331,
                        "test": [
                          0.5662278996
                        ]
                      },
                      {
                        "learn": [
                          0.1580072774
                        ],
                        "iteration": 374,
                        "passed_time": 0.8797620835,
                        "remaining_time": 0.2932540278,
                        "test": [
                          0.5662822322
                        ]
                      },
                      {
                        "learn": [
                          0.1577381028
                        ],
                        "iteration": 375,
                        "passed_time": 0.8852891305,
                        "remaining_time": 0.2919570537,
                        "test": [
                          0.5660467323
                        ]
                      },
                      {
                        "learn": [
                          0.1575401624
                        ],
                        "iteration": 376,
                        "passed_time": 0.8869326638,
                        "remaining_time": 0.2893706038,
                        "test": [
                          0.5660529399
                        ]
                      },
                      {
                        "learn": [
                          0.1573624876
                        ],
                        "iteration": 377,
                        "passed_time": 0.9004019937,
                        "remaining_time": 0.2906059345,
                        "test": [
                          0.566294047
                        ]
                      },
                      {
                        "learn": [
                          0.1571531561
                        ],
                        "iteration": 378,
                        "passed_time": 0.9020526284,
                        "remaining_time": 0.287990417,
                        "test": [
                          0.5665060827
                        ]
                      },
                      {
                        "learn": [
                          0.1569564078
                        ],
                        "iteration": 379,
                        "passed_time": 0.9094472029,
                        "remaining_time": 0.2871938535,
                        "test": [
                          0.5670687663
                        ]
                      },
                      {
                        "learn": [
                          0.1566239463
                        ],
                        "iteration": 380,
                        "passed_time": 0.9173148731,
                        "remaining_time": 0.2865104197,
                        "test": [
                          0.5676418372
                        ]
                      },
                      {
                        "learn": [
                          0.15640378
                        ],
                        "iteration": 381,
                        "passed_time": 0.9197942558,
                        "remaining_time": 0.2841249272,
                        "test": [
                          0.5671515692
                        ]
                      },
                      {
                        "learn": [
                          0.1554724375
                        ],
                        "iteration": 382,
                        "passed_time": 0.9214079837,
                        "remaining_time": 0.2814745016,
                        "test": [
                          0.5668761382
                        ]
                      },
                      {
                        "learn": [
                          0.1551936335
                        ],
                        "iteration": 383,
                        "passed_time": 0.9229942333,
                        "remaining_time": 0.2788211747,
                        "test": [
                          0.5673739579
                        ]
                      },
                      {
                        "learn": [
                          0.1548010508
                        ],
                        "iteration": 384,
                        "passed_time": 0.9291950845,
                        "remaining_time": 0.2775517785,
                        "test": [
                          0.5683772589
                        ]
                      },
                      {
                        "learn": [
                          0.1539739238
                        ],
                        "iteration": 385,
                        "passed_time": 0.9307967086,
                        "remaining_time": 0.2748985098,
                        "test": [
                          0.5692664577
                        ]
                      },
                      {
                        "learn": [
                          0.1538639334
                        ],
                        "iteration": 386,
                        "passed_time": 0.9350640528,
                        "remaining_time": 0.2730290387,
                        "test": [
                          0.569038762
                        ]
                      },
                      {
                        "learn": [
                          0.1531712214
                        ],
                        "iteration": 387,
                        "passed_time": 0.9368225244,
                        "remaining_time": 0.2704229967,
                        "test": [
                          0.5683987999
                        ]
                      },
                      {
                        "learn": [
                          0.1528935697
                        ],
                        "iteration": 388,
                        "passed_time": 0.9384136355,
                        "remaining_time": 0.2677735567,
                        "test": [
                          0.5685909632
                        ]
                      },
                      {
                        "learn": [
                          0.1527139876
                        ],
                        "iteration": 389,
                        "passed_time": 0.9443374659,
                        "remaining_time": 0.2663515929,
                        "test": [
                          0.5682799748
                        ]
                      },
                      {
                        "learn": [
                          0.1525686847
                        ],
                        "iteration": 390,
                        "passed_time": 0.9459113935,
                        "remaining_time": 0.263693969,
                        "test": [
                          0.5681159586
                        ]
                      },
                      {
                        "learn": [
                          0.1520660188
                        ],
                        "iteration": 391,
                        "passed_time": 0.9474681377,
                        "remaining_time": 0.26103714,
                        "test": [
                          0.5678837925
                        ]
                      },
                      {
                        "learn": [
                          0.1519073248
                        ],
                        "iteration": 392,
                        "passed_time": 0.9496306612,
                        "remaining_time": 0.2585508416,
                        "test": [
                          0.5682210884
                        ]
                      },
                      {
                        "learn": [
                          0.1514406204
                        ],
                        "iteration": 393,
                        "passed_time": 0.9716708736,
                        "remaining_time": 0.2614139914,
                        "test": [
                          0.5688795161
                        ]
                      },
                      {
                        "learn": [
                          0.15075069
                        ],
                        "iteration": 394,
                        "passed_time": 0.9784937058,
                        "remaining_time": 0.2601059218,
                        "test": [
                          0.5704808035
                        ]
                      },
                      {
                        "learn": [
                          0.150301973
                        ],
                        "iteration": 395,
                        "passed_time": 0.9801690753,
                        "remaining_time": 0.257418141,
                        "test": [
                          0.5706141336
                        ]
                      },
                      {
                        "learn": [
                          0.1500477791
                        ],
                        "iteration": 396,
                        "passed_time": 0.9929591469,
                        "remaining_time": 0.2576191237,
                        "test": [
                          0.5710822179
                        ]
                      },
                      {
                        "learn": [
                          0.1495681074
                        ],
                        "iteration": 397,
                        "passed_time": 1.000777995,
                        "remaining_time": 0.2564807926,
                        "test": [
                          0.5713211017
                        ]
                      },
                      {
                        "learn": [
                          0.1490229236
                        ],
                        "iteration": 398,
                        "passed_time": 1.006587734,
                        "remaining_time": 0.2548004039,
                        "test": [
                          0.5729621647
                        ]
                      },
                      {
                        "learn": [
                          0.148291813
                        ],
                        "iteration": 399,
                        "passed_time": 1.00820934,
                        "remaining_time": 0.2520523349,
                        "test": [
                          0.5724875525
                        ]
                      },
                      {
                        "learn": [
                          0.1476143599
                        ],
                        "iteration": 400,
                        "passed_time": 1.009778327,
                        "remaining_time": 0.2492968936,
                        "test": [
                          0.5718591805
                        ]
                      },
                      {
                        "learn": [
                          0.1474080351
                        ],
                        "iteration": 401,
                        "passed_time": 1.013371796,
                        "remaining_time": 0.2470408856,
                        "test": [
                          0.5721388526
                        ]
                      },
                      {
                        "learn": [
                          0.1468838851
                        ],
                        "iteration": 402,
                        "passed_time": 1.017799748,
                        "remaining_time": 0.2449790957,
                        "test": [
                          0.5717188086
                        ]
                      },
                      {
                        "learn": [
                          0.1461861663
                        ],
                        "iteration": 403,
                        "passed_time": 1.019312948,
                        "remaining_time": 0.2422129777,
                        "test": [
                          0.5732305263
                        ]
                      },
                      {
                        "learn": [
                          0.1459089915
                        ],
                        "iteration": 404,
                        "passed_time": 1.021861596,
                        "remaining_time": 0.23969593,
                        "test": [
                          0.5736521526
                        ]
                      },
                      {
                        "learn": [
                          0.1455139849
                        ],
                        "iteration": 405,
                        "passed_time": 1.026626796,
                        "remaining_time": 0.2376919182,
                        "test": [
                          0.5744679753
                        ]
                      },
                      {
                        "learn": [
                          0.1450613605
                        ],
                        "iteration": 406,
                        "passed_time": 1.028212504,
                        "remaining_time": 0.2349478204,
                        "test": [
                          0.5742390072
                        ]
                      },
                      {
                        "learn": [
                          0.1445580853
                        ],
                        "iteration": 407,
                        "passed_time": 1.029781326,
                        "remaining_time": 0.2322055931,
                        "test": [
                          0.574084147
                        ]
                      },
                      {
                        "learn": [
                          0.1443974972
                        ],
                        "iteration": 408,
                        "passed_time": 1.034782631,
                        "remaining_time": 0.2302328102,
                        "test": [
                          0.5742023662
                        ]
                      },
                      {
                        "learn": [
                          0.1443505287
                        ],
                        "iteration": 409,
                        "passed_time": 1.035880645,
                        "remaining_time": 0.2273884343,
                        "test": [
                          0.5742536136
                        ]
                      },
                      {
                        "learn": [
                          0.1438048151
                        ],
                        "iteration": 410,
                        "passed_time": 1.036934917,
                        "remaining_time": 0.2245430843,
                        "test": [
                          0.5753439941
                        ]
                      },
                      {
                        "learn": [
                          0.1435292032
                        ],
                        "iteration": 411,
                        "passed_time": 1.037983011,
                        "remaining_time": 0.2217051091,
                        "test": [
                          0.5753640217
                        ]
                      },
                      {
                        "learn": [
                          0.1433760855
                        ],
                        "iteration": 412,
                        "passed_time": 1.039149577,
                        "remaining_time": 0.2189007583,
                        "test": [
                          0.5755773426
                        ]
                      },
                      {
                        "learn": [
                          0.1429522567
                        ],
                        "iteration": 413,
                        "passed_time": 1.040764615,
                        "remaining_time": 0.2161974805,
                        "test": [
                          0.5756046481
                        ]
                      },
                      {
                        "learn": [
                          0.1424180269
                        ],
                        "iteration": 414,
                        "passed_time": 1.042313806,
                        "remaining_time": 0.2134859604,
                        "test": [
                          0.5755912599
                        ]
                      },
                      {
                        "learn": [
                          0.1419882774
                        ],
                        "iteration": 415,
                        "passed_time": 1.043520794,
                        "remaining_time": 0.2107109296,
                        "test": [
                          0.5756444593
                        ]
                      },
                      {
                        "learn": [
                          0.1416980028
                        ],
                        "iteration": 416,
                        "passed_time": 1.044588297,
                        "remaining_time": 0.2079156563,
                        "test": [
                          0.5768459844
                        ]
                      },
                      {
                        "learn": [
                          0.141350362
                        ],
                        "iteration": 417,
                        "passed_time": 1.045610339,
                        "remaining_time": 0.2051197315,
                        "test": [
                          0.5772925421
                        ]
                      },
                      {
                        "learn": [
                          0.1411165926
                        ],
                        "iteration": 418,
                        "passed_time": 1.046610486,
                        "remaining_time": 0.2023280415,
                        "test": [
                          0.5774016732
                        ]
                      },
                      {
                        "learn": [
                          0.1408096419
                        ],
                        "iteration": 419,
                        "passed_time": 1.048109729,
                        "remaining_time": 0.1996399485,
                        "test": [
                          0.5780777731
                        ]
                      },
                      {
                        "learn": [
                          0.1404457092
                        ],
                        "iteration": 420,
                        "passed_time": 1.049633343,
                        "remaining_time": 0.1969620762,
                        "test": [
                          0.5790131957
                        ]
                      },
                      {
                        "learn": [
                          0.1400948233
                        ],
                        "iteration": 421,
                        "passed_time": 1.050745109,
                        "remaining_time": 0.1942135509,
                        "test": [
                          0.5794631528
                        ]
                      },
                      {
                        "learn": [
                          0.1398680475
                        ],
                        "iteration": 422,
                        "passed_time": 1.051758705,
                        "remaining_time": 0.1914548943,
                        "test": [
                          0.578804931
                        ]
                      },
                      {
                        "learn": [
                          0.1393332216
                        ],
                        "iteration": 423,
                        "passed_time": 1.053212345,
                        "remaining_time": 0.1887833448,
                        "test": [
                          0.5789556852
                        ]
                      },
                      {
                        "learn": [
                          0.1390984853
                        ],
                        "iteration": 424,
                        "passed_time": 1.054757038,
                        "remaining_time": 0.1861335949,
                        "test": [
                          0.5791365504
                        ]
                      },
                      {
                        "learn": [
                          0.1389254861
                        ],
                        "iteration": 425,
                        "passed_time": 1.056285513,
                        "remaining_time": 0.1834862159,
                        "test": [
                          0.579540639
                        ]
                      },
                      {
                        "learn": [
                          0.138737758
                        ],
                        "iteration": 426,
                        "passed_time": 1.05730877,
                        "remaining_time": 0.1807577054,
                        "test": [
                          0.5796302537
                        ]
                      },
                      {
                        "learn": [
                          0.1385290093
                        ],
                        "iteration": 427,
                        "passed_time": 1.05832728,
                        "remaining_time": 0.1780363649,
                        "test": [
                          0.5790147135
                        ]
                      },
                      {
                        "learn": [
                          0.1383701828
                        ],
                        "iteration": 428,
                        "passed_time": 1.059345934,
                        "remaining_time": 0.1753229867,
                        "test": [
                          0.5786302003
                        ]
                      },
                      {
                        "learn": [
                          0.1377453539
                        ],
                        "iteration": 429,
                        "passed_time": 1.060395162,
                        "remaining_time": 0.1726224682,
                        "test": [
                          0.5783346551
                        ]
                      },
                      {
                        "learn": [
                          0.1376145681
                        ],
                        "iteration": 430,
                        "passed_time": 1.061910808,
                        "remaining_time": 0.1700042826,
                        "test": [
                          0.5785524417
                        ]
                      },
                      {
                        "learn": [
                          0.1371814145
                        ],
                        "iteration": 431,
                        "passed_time": 1.063498174,
                        "remaining_time": 0.1674024904,
                        "test": [
                          0.5777857485
                        ]
                      },
                      {
                        "learn": [
                          0.136934042
                        ],
                        "iteration": 432,
                        "passed_time": 1.064903997,
                        "remaining_time": 0.1647772929,
                        "test": [
                          0.5770823112
                        ]
                      },
                      {
                        "learn": [
                          0.1365762684
                        ],
                        "iteration": 433,
                        "passed_time": 1.065942661,
                        "remaining_time": 0.1621018793,
                        "test": [
                          0.5775694501
                        ]
                      },
                      {
                        "learn": [
                          0.1363697582
                        ],
                        "iteration": 434,
                        "passed_time": 1.066960112,
                        "remaining_time": 0.1594308213,
                        "test": [
                          0.5773732408
                        ]
                      },
                      {
                        "learn": [
                          0.136057655
                        ],
                        "iteration": 435,
                        "passed_time": 1.067969545,
                        "remaining_time": 0.1567661717,
                        "test": [
                          0.5777389667
                        ]
                      },
                      {
                        "learn": [
                          0.1356605291
                        ],
                        "iteration": 436,
                        "passed_time": 1.069001454,
                        "remaining_time": 0.1541123377,
                        "test": [
                          0.5790998042
                        ]
                      },
                      {
                        "learn": [
                          0.1356232696
                        ],
                        "iteration": 437,
                        "passed_time": 1.070468754,
                        "remaining_time": 0.1515275405,
                        "test": [
                          0.5790835905
                        ]
                      },
                      {
                        "learn": [
                          0.1354242961
                        ],
                        "iteration": 438,
                        "passed_time": 1.072007641,
                        "remaining_time": 0.1489577815,
                        "test": [
                          0.5797357642
                        ]
                      },
                      {
                        "learn": [
                          0.1351008548
                        ],
                        "iteration": 439,
                        "passed_time": 1.073040173,
                        "remaining_time": 0.14632366,
                        "test": [
                          0.5806695358
                        ]
                      },
                      {
                        "learn": [
                          0.134549525
                        ],
                        "iteration": 440,
                        "passed_time": 1.074387218,
                        "remaining_time": 0.1437388795,
                        "test": [
                          0.5815202247
                        ]
                      },
                      {
                        "learn": [
                          0.1343369484
                        ],
                        "iteration": 441,
                        "passed_time": 1.075902317,
                        "remaining_time": 0.1411817521,
                        "test": [
                          0.5811684117
                        ]
                      },
                      {
                        "learn": [
                          0.1337832477
                        ],
                        "iteration": 442,
                        "passed_time": 1.077435875,
                        "remaining_time": 0.138631704,
                        "test": [
                          0.581595638
                        ]
                      },
                      {
                        "learn": [
                          0.1335008674
                        ],
                        "iteration": 443,
                        "passed_time": 1.078540791,
                        "remaining_time": 0.1360321719,
                        "test": [
                          0.5819362694
                        ]
                      },
                      {
                        "learn": [
                          0.1332689656
                        ],
                        "iteration": 444,
                        "passed_time": 1.079540025,
                        "remaining_time": 0.1334262952,
                        "test": [
                          0.5815585142
                        ]
                      },
                      {
                        "learn": [
                          0.1327593459
                        ],
                        "iteration": 445,
                        "passed_time": 1.080558878,
                        "remaining_time": 0.1308299987,
                        "test": [
                          0.5811219766
                        ]
                      },
                      {
                        "learn": [
                          0.1320003668
                        ],
                        "iteration": 446,
                        "passed_time": 1.081582089,
                        "remaining_time": 0.1282412768,
                        "test": [
                          0.5812205145
                        ]
                      },
                      {
                        "learn": [
                          0.1319193443
                        ],
                        "iteration": 447,
                        "passed_time": 1.082946366,
                        "remaining_time": 0.1256991317,
                        "test": [
                          0.5813209563
                        ]
                      },
                      {
                        "learn": [
                          0.1316186322
                        ],
                        "iteration": 448,
                        "passed_time": 1.084486673,
                        "remaining_time": 0.1231822279,
                        "test": [
                          0.5815454632
                        ]
                      },
                      {
                        "learn": [
                          0.1311060058
                        ],
                        "iteration": 449,
                        "passed_time": 1.086032042,
                        "remaining_time": 0.1206702269,
                        "test": [
                          0.5823620125
                        ]
                      },
                      {
                        "learn": [
                          0.1307377021
                        ],
                        "iteration": 450,
                        "passed_time": 1.087063193,
                        "remaining_time": 0.118106644,
                        "test": [
                          0.5826270753
                        ]
                      },
                      {
                        "learn": [
                          0.130414327
                        ],
                        "iteration": 451,
                        "passed_time": 1.0881031,
                        "remaining_time": 0.1155507716,
                        "test": [
                          0.5825361704
                        ]
                      },
                      {
                        "learn": [
                          0.1301271915
                        ],
                        "iteration": 452,
                        "passed_time": 1.089120373,
                        "remaining_time": 0.112999244,
                        "test": [
                          0.5833589282
                        ]
                      },
                      {
                        "learn": [
                          0.1298584276
                        ],
                        "iteration": 453,
                        "passed_time": 1.09014573,
                        "remaining_time": 0.1104552942,
                        "test": [
                          0.5836749451
                        ]
                      },
                      {
                        "learn": [
                          0.1295908027
                        ],
                        "iteration": 454,
                        "passed_time": 1.091569324,
                        "remaining_time": 0.1079574057,
                        "test": [
                          0.584111817
                        ]
                      },
                      {
                        "learn": [
                          0.1290495661
                        ],
                        "iteration": 455,
                        "passed_time": 1.093124089,
                        "remaining_time": 0.1054768858,
                        "test": [
                          0.5842889171
                        ]
                      },
                      {
                        "learn": [
                          0.1285082102
                        ],
                        "iteration": 456,
                        "passed_time": 1.094679266,
                        "remaining_time": 0.1030004561,
                        "test": [
                          0.5852157097
                        ]
                      },
                      {
                        "learn": [
                          0.1280645265
                        ],
                        "iteration": 457,
                        "passed_time": 1.095755587,
                        "remaining_time": 0.1004841368,
                        "test": [
                          0.5858675945
                        ]
                      },
                      {
                        "learn": [
                          0.127890269
                        ],
                        "iteration": 458,
                        "passed_time": 1.096807444,
                        "remaining_time": 0.09797190675,
                        "test": [
                          0.5853190301
                        ]
                      },
                      {
                        "learn": [
                          0.1275758743
                        ],
                        "iteration": 459,
                        "passed_time": 1.097870796,
                        "remaining_time": 0.09546702576,
                        "test": [
                          0.5858833405
                        ]
                      },
                      {
                        "learn": [
                          0.1268482341
                        ],
                        "iteration": 460,
                        "passed_time": 1.098944955,
                        "remaining_time": 0.09296931292,
                        "test": [
                          0.5862458537
                        ]
                      },
                      {
                        "learn": [
                          0.1266283062
                        ],
                        "iteration": 461,
                        "passed_time": 1.100472459,
                        "remaining_time": 0.0905150507,
                        "test": [
                          0.587245775
                        ]
                      },
                      {
                        "learn": [
                          0.1264749103
                        ],
                        "iteration": 462,
                        "passed_time": 1.102001316,
                        "remaining_time": 0.08806490001,
                        "test": [
                          0.5867244542
                        ]
                      },
                      {
                        "learn": [
                          0.126273844
                        ],
                        "iteration": 463,
                        "passed_time": 1.103500945,
                        "remaining_time": 0.08561645263,
                        "test": [
                          0.5869381477
                        ]
                      },
                      {
                        "learn": [
                          0.1258607043
                        ],
                        "iteration": 464,
                        "passed_time": 1.104542761,
                        "remaining_time": 0.08313762721,
                        "test": [
                          0.587252345
                        ]
                      },
                      {
                        "learn": [
                          0.1256899569
                        ],
                        "iteration": 465,
                        "passed_time": 1.105582933,
                        "remaining_time": 0.08066484916,
                        "test": [
                          0.5875857657
                        ]
                      },
                      {
                        "learn": [
                          0.12532213
                        ],
                        "iteration": 466,
                        "passed_time": 1.106612485,
                        "remaining_time": 0.07819745614,
                        "test": [
                          0.5875318057
                        ]
                      },
                      {
                        "learn": [
                          0.1250153383
                        ],
                        "iteration": 467,
                        "passed_time": 1.107635251,
                        "remaining_time": 0.07573574367,
                        "test": [
                          0.5880605463
                        ]
                      },
                      {
                        "learn": [
                          0.1249379582
                        ],
                        "iteration": 468,
                        "passed_time": 1.109199558,
                        "remaining_time": 0.07331596223,
                        "test": [
                          0.588273795
                        ]
                      },
                      {
                        "learn": [
                          0.1247297128
                        ],
                        "iteration": 469,
                        "passed_time": 1.110326701,
                        "remaining_time": 0.07087191706,
                        "test": [
                          0.5883828698
                        ]
                      },
                      {
                        "learn": [
                          0.1240693066
                        ],
                        "iteration": 470,
                        "passed_time": 1.111803358,
                        "remaining_time": 0.06845498383,
                        "test": [
                          0.5881135207
                        ]
                      },
                      {
                        "learn": [
                          0.1239216857
                        ],
                        "iteration": 471,
                        "passed_time": 1.113205935,
                        "remaining_time": 0.06603764019,
                        "test": [
                          0.5880845942
                        ]
                      },
                      {
                        "learn": [
                          0.1235646407
                        ],
                        "iteration": 472,
                        "passed_time": 1.114731567,
                        "remaining_time": 0.06363161165,
                        "test": [
                          0.5886586945
                        ]
                      },
                      {
                        "learn": [
                          0.1234285831
                        ],
                        "iteration": 473,
                        "passed_time": 1.116262222,
                        "remaining_time": 0.06122957336,
                        "test": [
                          0.589049762
                        ]
                      },
                      {
                        "learn": [
                          0.1228744719
                        ],
                        "iteration": 474,
                        "passed_time": 1.117315743,
                        "remaining_time": 0.05880609175,
                        "test": [
                          0.5895146247
                        ]
                      },
                      {
                        "learn": [
                          0.1227161884
                        ],
                        "iteration": 475,
                        "passed_time": 1.118325164,
                        "remaining_time": 0.0563861427,
                        "test": [
                          0.5896187841
                        ]
                      },
                      {
                        "learn": [
                          0.1226108074
                        ],
                        "iteration": 476,
                        "passed_time": 1.119341944,
                        "remaining_time": 0.05397246273,
                        "test": [
                          0.5895197635
                        ]
                      },
                      {
                        "learn": [
                          0.1220873197
                        ],
                        "iteration": 477,
                        "passed_time": 1.120370138,
                        "remaining_time": 0.0515651528,
                        "test": [
                          0.5903967277
                        ]
                      },
                      {
                        "learn": [
                          0.1219587061
                        ],
                        "iteration": 478,
                        "passed_time": 1.121863729,
                        "remaining_time": 0.04918400482,
                        "test": [
                          0.5908134094
                        ]
                      },
                      {
                        "learn": [
                          0.1218473911
                        ],
                        "iteration": 479,
                        "passed_time": 1.123376751,
                        "remaining_time": 0.04680736464,
                        "test": [
                          0.5905457614
                        ]
                      },
                      {
                        "learn": [
                          0.1213729382
                        ],
                        "iteration": 480,
                        "passed_time": 1.124919303,
                        "remaining_time": 0.04443548181,
                        "test": [
                          0.5910440985
                        ]
                      },
                      {
                        "learn": [
                          0.1206973394
                        ],
                        "iteration": 481,
                        "passed_time": 1.126000972,
                        "remaining_time": 0.04204982884,
                        "test": [
                          0.5910337468
                        ]
                      },
                      {
                        "learn": [
                          0.120576779
                        ],
                        "iteration": 482,
                        "passed_time": 1.127169792,
                        "remaining_time": 0.03967264277,
                        "test": [
                          0.5910780469
                        ]
                      },
                      {
                        "learn": [
                          0.1201823552
                        ],
                        "iteration": 483,
                        "passed_time": 1.12820594,
                        "remaining_time": 0.03729606414,
                        "test": [
                          0.591570542
                        ]
                      },
                      {
                        "learn": [
                          0.119644973
                        ],
                        "iteration": 484,
                        "passed_time": 1.129235439,
                        "remaining_time": 0.0349248074,
                        "test": [
                          0.5910745791
                        ]
                      },
                      {
                        "learn": [
                          0.119506518
                        ],
                        "iteration": 485,
                        "passed_time": 1.130752019,
                        "remaining_time": 0.03257310342,
                        "test": [
                          0.5912581204
                        ]
                      },
                      {
                        "learn": [
                          0.1190503438
                        ],
                        "iteration": 486,
                        "passed_time": 1.132275969,
                        "remaining_time": 0.03022502586,
                        "test": [
                          0.5921551108
                        ]
                      },
                      {
                        "learn": [
                          0.118910869
                        ],
                        "iteration": 487,
                        "passed_time": 1.13372757,
                        "remaining_time": 0.02787854679,
                        "test": [
                          0.5925514521
                        ]
                      },
                      {
                        "learn": [
                          0.1182848612
                        ],
                        "iteration": 488,
                        "passed_time": 1.13478299,
                        "remaining_time": 0.02552681572,
                        "test": [
                          0.5930799772
                        ]
                      },
                      {
                        "learn": [
                          0.1180788411
                        ],
                        "iteration": 489,
                        "passed_time": 1.135828458,
                        "remaining_time": 0.02318017261,
                        "test": [
                          0.5934061765
                        ]
                      },
                      {
                        "learn": [
                          0.1180361112
                        ],
                        "iteration": 490,
                        "passed_time": 1.136838367,
                        "remaining_time": 0.02083817781,
                        "test": [
                          0.5934902205
                        ]
                      },
                      {
                        "learn": [
                          0.1178031762
                        ],
                        "iteration": 491,
                        "passed_time": 1.137873168,
                        "remaining_time": 0.01850200273,
                        "test": [
                          0.5941080724
                        ]
                      },
                      {
                        "learn": [
                          0.1177872287
                        ],
                        "iteration": 492,
                        "passed_time": 1.139359971,
                        "remaining_time": 0.01617752494,
                        "test": [
                          0.5941080532
                        ]
                      },
                      {
                        "learn": [
                          0.1176726553
                        ],
                        "iteration": 493,
                        "passed_time": 1.140885727,
                        "remaining_time": 0.01385691166,
                        "test": [
                          0.5940606866
                        ]
                      },
                      {
                        "learn": [
                          0.1172136201
                        ],
                        "iteration": 494,
                        "passed_time": 1.142225627,
                        "remaining_time": 0.01153763259,
                        "test": [
                          0.59447353
                        ]
                      },
                      {
                        "learn": [
                          0.1170993116
                        ],
                        "iteration": 495,
                        "passed_time": 1.14323717,
                        "remaining_time": 0.009219654601,
                        "test": [
                          0.5942838381
                        ]
                      },
                      {
                        "learn": [
                          0.1164147589
                        ],
                        "iteration": 496,
                        "passed_time": 1.144258614,
                        "remaining_time": 0.006906993644,
                        "test": [
                          0.5938188697
                        ]
                      },
                      {
                        "learn": [
                          0.1163208087
                        ],
                        "iteration": 497,
                        "passed_time": 1.145293083,
                        "remaining_time": 0.004599570616,
                        "test": [
                          0.5940271733
                        ]
                      },
                      {
                        "learn": [
                          0.1158879598
                        ],
                        "iteration": 498,
                        "passed_time": 1.146325908,
                        "remaining_time": 0.002297246308,
                        "test": [
                          0.5949173435
                        ]
                      },
                      {
                        "learn": [
                          0.1155312591
                        ],
                        "iteration": 499,
                        "passed_time": 1.147843854,
                        "remaining_time": 0,
                        "test": [
                          0.5956347711
                        ]
                      }
                    ],
                    "meta": {
                      "test_sets": [
                        "test"
                      ],
                      "test_metrics": [
                        {
                          "best_value": "Min",
                          "name": "Logloss"
                        }
                      ],
                      "learn_metrics": [
                        {
                          "best_value": "Min",
                          "name": "Logloss"
                        }
                      ],
                      "launch_mode": "Train",
                      "parameters": "",
                      "iteration_count": 500,
                      "learn_sets": [
                        "learn"
                      ],
                      "name": "experiment"
                    }
                  }
                }
              }
            },
            "layout": "IPY_MODEL_814eb86f5a714a698d3926827a3dc6ca"
          }
        }
      }
    }
  },
  "nbformat": 4,
  "nbformat_minor": 0
}